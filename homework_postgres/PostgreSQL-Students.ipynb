{
 "cells": [
  {
   "cell_type": "markdown",
   "metadata": {},
   "source": [
    "# Week 1: Relational Models & PostgreSQL\n",
    "### Student ID: [#####]\n",
    "### Subtasks Done: [#,#,..]"
   ]
  },
  {
   "cell_type": "markdown",
   "metadata": {},
   "source": [
    "## Lab Goals:\n",
    "   1. Get familiar with the relational DBs.\n",
    "   2. Get familiar with the relational SQL query language.\n",
    "   2. Get familiar with postgreSQL as one of the most popular RDBMSs.\n",
    "  \n",
    "\n",
    "## Lab Tasks:\n",
    "   0. Get familiar with Python and Jupyter Notebook.\n",
    "   1. First Steps of SQL (DDL [Create DB, CREATE TABLES], DQL [SELECTIONS, PROJECTIONS, FIRLTREING, ORDERING, Different Types of JOINS,..etc], and Some DML operations [INSERTIONS, UPDATES, and DELETIONS])\n",
    "   2. Create a simple Relational Database Model (MovieDB).\n",
    "   3. More Query exercises with a DB ready for you, (just by running a SQL script).\n",
    "   "
   ]
  },
  {
   "cell_type": "markdown",
   "metadata": {},
   "source": [
    "# Task 0: Python & Jupyter Notebook & Pandas tutorial video\n",
    "\n",
    "##### - First for Students who are not familiar with <font color='red'>Python</font>, I recommend this python full course https://www.youtube.com/watch?v=_uQrJ0TkZlc \n",
    "\n",
    "##### - Second, please watch the following video <font color='red'>\"Jupyter Notebook Tutorial\"</font> and answer the question below. Please answer the questions by writing your answer next to the red \"Answer \" label (the same for the other questions throught the NoteBook). Also, we recommend you to follow the examples in the video and try it out by yourself."
   ]
  },
  {
   "cell_type": "code",
   "execution_count": 1,
   "metadata": {},
   "outputs": [
    {
     "data": {
      "text/html": [
       "<center><iframe width=\"600\" height=\"315\" src=\"https://www.youtube.com/embed/HW29067qVWk\" frameborder=\"0\" allowfullscreen></iframe>\n"
      ],
      "text/plain": [
       "<IPython.core.display.HTML object>"
      ]
     },
     "metadata": {},
     "output_type": "display_data"
    }
   ],
   "source": [
    "%%HTML \n",
    "<center><iframe width=\"600\" height=\"315\" src=\"https://www.youtube.com/embed/HW29067qVWk\" frameborder=\"0\" allowfullscreen></iframe>"
   ]
  },
  {
   "cell_type": "markdown",
   "metadata": {},
   "source": [
    " #### What are the advantages of using jupyter notebook?"
   ]
  },
  {
   "cell_type": "markdown",
   "metadata": {},
   "source": [
    "<font color = \"red\"><b>Answer:</b></font>"
   ]
  },
  {
   "cell_type": "markdown",
   "metadata": {},
   "source": [
    "##### - Last but not least, Python Pandas \n",
    "\n",
    "pandas is a fast, powerful, flexible and easy to use open source data analysis and manipulation tool, built on top of the Python programming language.\n",
    "\n",
    "- To get familiar with Pandas library you can follow this tutourial:\n",
    "    - https://www.youtube.com/watch?v=vmEHCJofslg&feature=emb_rel_pause\n",
    "- You can also use the follwing cheat-sheet link of pandas:\n",
    "    - https://pandas.pydata.org/Pandas_Cheat_Sheet.pdf\n"
   ]
  },
  {
   "cell_type": "markdown",
   "metadata": {},
   "source": [
    "# Introduction:\n",
    "\n",
    "### Relational DB Structure \n",
    "- A relational database consists of a collection of tables, each having a unique name.\n",
    "- A row in a table represents a relationship among a set of values.\n",
    "- Thus a table represents a collection of relationships. \n",
    "<img src =\"https://raw.githubusercontent.com/DataSystemsGroupUT/dataeng/dataeng/attachments/attrer2.png\" width =\"550\" height=\"150\">\n",
    "\n",
    "\n",
    "###  Structured Query Language (SQL)\n",
    "\n",
    "<a href='https://en.wikipedia.org/wiki/SQL'>SQL </a> is used to communicate with a database. SQL is the standard language for relational database management systems. SQL statements are used to perform tasks such as update data on a database, or retrieve data from a database. \n",
    "\n",
    "Some common relational database management systems that use SQL are: Oracle, Sybase, Microsoft SQL Server, Access, Ingres. However, the standard SQL commands such as \"Select\", \"Insert\", \"Update\", \"Delete\", \"Create\", and \"Drop\" can be used to accomplish almost everything that one needs to do with a database. This tutorial will provide you with the instruction on the basics of each of these commands as well as allow you to put them to practice using the SQL Interpreter.\n",
    "\n",
    "- First Steps with SQL can be followed from this <a href='https://www.sqltutorial.org/sql-cheat-sheet/'>link </a>.\n",
    "\n",
    "\n",
    "### PostgreSQL:\n",
    "   <a href=\"https://www.postgresql.org/\">PostgreSQL</a> is a powerful, open source object-relational database system with over 30 years of active development that has earned it a strong reputation for reliability, feature robustness, and performance. (<b>According to official website of PostgreSQL Database</b>)<br/>\n",
    "   \n",
    "- PostgreSQL offecial documentation (https://www.postgresql.org/docs/9.3/index.html)\n",
    "    - pdf version of last release(https://www.postgresql.org/files/documentation/pdf/12/postgresql-12-A4.pdf)\n",
    "\n",
    "<img src=\"https://www.postgresql.org/media/img/about/press/elephant.png\" width =\"100\" height=\"75\">\n",
    "\n"
   ]
  },
  {
   "cell_type": "markdown",
   "metadata": {},
   "source": [
    "# PreLab\n",
    "\n",
    "### Installations:\n",
    "\n",
    "#### 1. Install PostgreSQL on Windows\n",
    "- Download and Install PostgreSQL for all platforms (https://www.enterprisedb.com/downloads/postgres-postgresql-downloads) \n",
    "- Follow this tutourial (https://www.postgresqltutorial.com/install-postgresql/) for more details (Windows installation).\n",
    "\n",
    "#### or if you want to install it on linux\n",
    "- Follow this tutourial (https://www.postgresqltutorial.com/install-postgresql-linux/)\n",
    "\n",
    "\n",
    "#### 2. Install the Python Package to connecto to PostgreSQL \"<a href='https://www.psycopg.org/docs/usage.html'>psycopg2 </a>\"\n",
    "- use th command ```pip install psycopg2``` in your command line.\n",
    "\n",
    "\n",
    "#### (Good to Know) \n",
    "##### Accessing PostgreSQL from Command Line:\n",
    "- Add the PostgreSQL  installation \"/home\" and \"/bin\" directories to the enviroment variables.\n",
    "- use the command ```psql -U postgres postgres``` to connect to the the by-default created database \"postgres\" with the user \"postgres\".\n",
    "- Enter your set \"postgres\" password (i.e password of the default password that you have been asked at the time of installtion).\n",
    "\n",
    "##### Connect To a PostgreSQL Database Server\n",
    "- show you how to connect to the PostgreSQL using psql tool and pgAdmin 4 GUI tool.\n",
    "\n"
   ]
  },
  {
   "cell_type": "markdown",
   "metadata": {},
   "source": [
    "#### Run the following command to install ***psycopg*** like any other Python package."
   ]
  },
  {
   "cell_type": "code",
   "execution_count": 2,
   "metadata": {},
   "outputs": [
    {
     "name": "stdout",
     "output_type": "stream",
     "text": [
      "Requirement already satisfied: psycopg2 in /Users/quynh.nguyen111/miniconda3/envs/data_engineer/lib/python3.9/site-packages (2.9.5)\r\n"
     ]
    }
   ],
   "source": [
    "! pip install psycopg2"
   ]
  },
  {
   "cell_type": "markdown",
   "metadata": {},
   "source": [
    "### <font color='purple'>Please make sure that you have all the following packages installed: </font>\n",
    "\n",
    "#### Run the following for importing packages that we will need throught this NB!"
   ]
  },
  {
   "cell_type": "code",
   "execution_count": 3,
   "metadata": {},
   "outputs": [],
   "source": [
    "import psycopg2  #import of the psycopg2 python library\n",
    "import pandas as pd #import of the pandas python library\n",
    "import pandas.io.sql as psql\n",
    "\n",
    "##No transaction is started when commands are executed and no commit() or rollback() is required. \n",
    "from psycopg2.extensions import ISOLATION_LEVEL_AUTOCOMMIT"
   ]
  },
  {
   "cell_type": "markdown",
   "metadata": {},
   "source": [
    "# Task 1: Your First Steps in PostgreSQL"
   ]
  },
  {
   "cell_type": "markdown",
   "metadata": {},
   "source": [
    "### Create a simple RDB (TartuPurchases)\n",
    "- The following DB Model shows an ER diagram of mock, toy DB of two tables with one relationship.\n",
    "- In particular:\n",
    "    - The \"Customer\" Table with attributes (<ins>id</ins>, name, country, email), <font color='red'>Note</font> that underline here means id is the primary_key of the \"customer\" table.\n",
    "    - The \"Order\" table with attributes (<ins>id</ins>, product)\n",
    "    - a (***One-many*** )relationship \"makes\" which relates the two tables (Customer can make several/many Orders, and Order is made by only one Customer).\n",
    "    - One-to- many relationship is handled as follows in the RDBs: (Use a foreign_key on the many side of the relationship linking back to the \"one\" side)\n",
    "    - Therefore, we add the primary key of the one side (Customer) Table as a foreign_key in the many side (Order) table.\n",
    "    - Thus the Order table becomes as follows Order(id,customer_id,product) id is the primary_key and customer_id is a forien_key which references to the id primary_key in the Customer table."
   ]
  },
  {
   "cell_type": "markdown",
   "metadata": {},
   "source": [
    "#### The relational Layout: \n",
    "##### Customer(ID, Name)   --Makes--> ORDER(ID, Customer_ID,Product)\n",
    "<img src='tartupurchasesDB.png'>"
   ]
  },
  {
   "cell_type": "markdown",
   "metadata": {},
   "source": [
    "#### Connecting to the PostgreSQL Server"
   ]
  },
  {
   "cell_type": "code",
   "execution_count": 4,
   "metadata": {},
   "outputs": [
    {
     "name": "stdout",
     "output_type": "stream",
     "text": [
      "Connected Successfully to PostgreSQL server!!\n"
     ]
    }
   ],
   "source": [
    "try:\n",
    "    # Connect to the postgreSQL server with username, and password credentials\n",
    "    con = psycopg2.connect(user = \"pguser\",\n",
    "                           password = \"changeme\",\n",
    "                           host = \"127.0.0.1\",\n",
    "                           port = \"5432\",\n",
    "                           database=\"postgres\")\n",
    "    \n",
    "    con.set_isolation_level(ISOLATION_LEVEL_AUTOCOMMIT);\n",
    "    print(\"Connected Successfully to PostgreSQL server!!\")\n",
    "    \n",
    "    # Obtain a DB Cursor to perform database operations\n",
    "    cursor = con.cursor();\n",
    "except (Exception, psycopg2.Error) as error :\n",
    "     print (\"Error while connecting to PostgreSQL\", error)"
   ]
  },
  {
   "cell_type": "markdown",
   "metadata": {},
   "source": [
    "#### Create the \"TarturPurchases\" DB and close connection to the Server"
   ]
  },
  {
   "cell_type": "code",
   "execution_count": 5,
   "metadata": {},
   "outputs": [
    {
     "name": "stdout",
     "output_type": "stream",
     "text": [
      "Database 'TartuPurchases' Created Successfully!\n"
     ]
    }
   ],
   "source": [
    "#DB_name variable    \n",
    "name_Database   = \"TartuPurchases\";\n",
    "\n",
    "# Create DB statement\n",
    "sqlCreateDatabase = \"CREATE DATABASE \"+name_Database+\";\"\n",
    "\n",
    "try:\n",
    "    # Execute a SQL command: this creates a new DB\n",
    "    cursor.execute(sqlCreateDatabase);\n",
    "    print(\"Database '\"+name_Database+\"' Created Successfully!\")\n",
    "except (Exception, psycopg2.Error) as error :\n",
    "    print(\"Error While Creating the DB: \",error)\n",
    "    \n",
    "finally:\n",
    "    # Close communication with the database\n",
    "    cursor.close() #to close the cusrsor\n",
    "    con.close() #to close the connection/ we will open a new connection to the created DB"
   ]
  },
  {
   "cell_type": "markdown",
   "metadata": {},
   "source": [
    "#### Getting some details about the connection"
   ]
  },
  {
   "cell_type": "code",
   "execution_count": 6,
   "metadata": {},
   "outputs": [
    {
     "data": {
      "text/plain": [
       "<connection object at 0x7f88b82bec10; dsn: 'user=pguser password=xxx dbname=postgres host=127.0.0.1 port=5432', closed: 1>"
      ]
     },
     "execution_count": 6,
     "metadata": {},
     "output_type": "execute_result"
    }
   ],
   "source": [
    "con"
   ]
  },
  {
   "cell_type": "markdown",
   "metadata": {},
   "source": [
    "#### You can also use the command <code>\\conninfo</code> in the PSQL Shell to show the conection details\n",
    "- To get more familiar with PSQL SHELL commands, You can follow this link (https://www.postgresql.org/docs/current/app-psql.html)\n",
    "\n",
    "\n",
    "#### Upload your PSQL Shell Command Result of this command here as an a screenshot "
   ]
  },
  {
   "cell_type": "markdown",
   "metadata": {},
   "source": [
    "##### <font color='red'>Image Here:</font>\n",
    "<img src='results/conninfo.png'>"
   ]
  },
  {
   "cell_type": "markdown",
   "metadata": {},
   "source": [
    "#### Get/open  a new connection, but this time pointed to the created \"tartupurchases\" DB."
   ]
  },
  {
   "cell_type": "code",
   "execution_count": 7,
   "metadata": {},
   "outputs": [
    {
     "name": "stdout",
     "output_type": "stream",
     "text": [
      "connected again to the server, and cusor now on tartupurchases DB !!\n"
     ]
    }
   ],
   "source": [
    "# get a new connection but this time point to the created \"tartupurchases\" DB.\n",
    "con = psycopg2.connect(user = \"pguser\",\n",
    "                       password = \"changeme\",\n",
    "                       host = \"127.0.0.1\",\n",
    "                       port = \"5432\",\n",
    "                       database = \"tartupurchases\")\n",
    "try:\n",
    "    # Obtain a new DB Cursor (to \"tartupurchases\" DB )\n",
    "    cursor = con.cursor();\n",
    "    print(\"connected again to the server, and cusor now on tartupurchases DB !!\")\n",
    "except (Exception, psycopg2.Error) as error:\n",
    "    print(\"Error in Connection\",error)"
   ]
  },
  {
   "cell_type": "markdown",
   "metadata": {},
   "source": [
    "#### Creating Our First Table (\"Customer\")"
   ]
  },
  {
   "cell_type": "code",
   "execution_count": 8,
   "metadata": {},
   "outputs": [
    {
     "name": "stdout",
     "output_type": "stream",
     "text": [
      "Table (customer) created successfully in PostgreSQL \n"
     ]
    }
   ],
   "source": [
    "#Create \"Customer\" Table\n",
    "\n",
    "try:\n",
    "    #table_name variable\n",
    "    customerTable=\"customer\"\n",
    "    create_customerTablee_query = '''CREATE TABLE '''+ customerTable+''' \n",
    "              (id INT  PRIMARY KEY     NOT NULL,\n",
    "               name           TEXT    NOT NULL,\n",
    "               country        TEXT    NOT NULL,\n",
    "               email          TEXT   \n",
    "               ); '''\n",
    "\n",
    "    #Execute this command (SQL Query)\n",
    "    cursor.execute(create_customerTablee_query)\n",
    "    \n",
    "    # Make the changes to the database persistent\n",
    "    con.commit()\n",
    "    print(\"Table (\"+ customerTable +\") created successfully in PostgreSQL \")\n",
    "except (Exception, psycopg2.Error) as error:\n",
    "    # if it exits with an exception the transaction is rolled back.\n",
    "    con.rollback()\n",
    "    print(\"Error While Creating the DB: \",error)\n"
   ]
  },
  {
   "cell_type": "markdown",
   "metadata": {},
   "source": [
    "##### Make sure the table is created "
   ]
  },
  {
   "cell_type": "code",
   "execution_count": 9,
   "metadata": {},
   "outputs": [
    {
     "name": "stdout",
     "output_type": "stream",
     "text": [
      "('customer',)\n"
     ]
    }
   ],
   "source": [
    "# [information_schema.tables] keep listing of every table being managed by Postgres for a particular database.\n",
    "# specifying the tabel_schema to 'public' to only list tables that you create.\n",
    "cursor.execute(\"\"\"SELECT table_name \n",
    "                  FROM information_schema.tables \n",
    "                  WHERE table_schema = 'public'  \n",
    "               \"\"\")\n",
    "\n",
    "for table in cursor.fetchall():\n",
    "    print(table)"
   ]
  },
  {
   "cell_type": "markdown",
   "metadata": {},
   "source": [
    "#### You can also just check this from the <font color='red'>PSQL Shell</font> :\n",
    "- Use the command  <code>\\c  tartupurchases</code> to connect/swtich to the \"pruchases\" DB. \n",
    "- Use the command <code>\\dt</code> to show the tables inside the current DB (\"purchases\")."
   ]
  },
  {
   "cell_type": "markdown",
   "metadata": {},
   "source": [
    "- To get more familiar with PSQL SHELL commands, You can follow this link (https://www.postgresql.org/docs/current/app-psql.html)"
   ]
  },
  {
   "cell_type": "markdown",
   "metadata": {},
   "source": [
    "#### Upload your PSQL Shell Command Result of the created tables here as an a screenshot "
   ]
  },
  {
   "cell_type": "markdown",
   "metadata": {},
   "source": [
    "##### <font color='red'>Image Here:</font>\n",
    "<img src='results/CreateTable.png'>"
   ]
  },
  {
   "cell_type": "markdown",
   "metadata": {},
   "source": [
    "#### Show the details(description of the created table \"customer\")\n",
    "- use the command <code>\\d customer</code>"
   ]
  },
  {
   "cell_type": "markdown",
   "metadata": {},
   "source": [
    "#### Upload your PSQL Shell Command Result of the decription of the customer table here:"
   ]
  },
  {
   "cell_type": "markdown",
   "metadata": {},
   "source": [
    "##### <font color='red'>Image Here:</font>\n",
    "<img src='results/CustomerDetail.png'>"
   ]
  },
  {
   "cell_type": "markdown",
   "metadata": {},
   "source": [
    "### (Let's Load some data to the table) Inserting Multiple Rows to the Table"
   ]
  },
  {
   "cell_type": "code",
   "execution_count": 10,
   "metadata": {},
   "outputs": [
    {
     "name": "stdout",
     "output_type": "stream",
     "text": [
      "5 Record inserted successfully into customers table\n"
     ]
    }
   ],
   "source": [
    "sql_insert_customers = \"INSERT INTO customer (id,name,country,email) VALUES(%s,%s,%s,%s)\"\n",
    "\n",
    "#list of customers (With Their attributes values)\n",
    "#None here means value will be missing in the table\n",
    "customer_List=[\n",
    "            (1, \"Mohamed Ragab\", \"Egypt\", \"mohamed.ragb@ut.ee\"),\n",
    "            (2,\"John Smith\", \"Finland\",\"j.smith@hotmail.com\"),\n",
    "            (3,\"Aisha Kareem\",\"India\",None),\n",
    "            (4,\"Jean Lime\",\"Canda\",\"jeanlime@gmail.com\"),\n",
    "            (5,\"Hassan Eldeeb\",\"Egypt\",None)]\n",
    "\n",
    "try:\n",
    "    # execute the INSERT statement\n",
    "    cursor.executemany(sql_insert_customers,customer_List)\n",
    "    # commit the changes to the database\n",
    "    con.commit()\n",
    "    #the number of inserted rows/tuples\n",
    "    count = cursor.rowcount\n",
    "    print (count, \"Record inserted successfully into customers table\")\n",
    "\n",
    "except (Exception, psycopg2.Error) as error :\n",
    "    con.rollback()\n",
    "    print (\"Error while Inserting the data to the table, Details: \",error)"
   ]
  },
  {
   "cell_type": "markdown",
   "metadata": {},
   "source": [
    "## Mock Data Generation\n",
    "- If you want to generate more mock data, you can use this website (***\"Mockaroo\"***) (https://www.mockaroo.com/).\n",
    "- \"Mockaroo\" lets you generate up to 1,000 rows of realistic test data in CSV, JSON, SQL, and Excel formats.\n",
    "<img src='https://www.qlikfix.com/wp-content/uploads/2014/03/Mockaroo.png'>"
   ]
  },
  {
   "cell_type": "markdown",
   "metadata": {},
   "source": [
    "## Querying Table Data"
   ]
  },
  {
   "cell_type": "markdown",
   "metadata": {},
   "source": [
    "#### Get all the Customers in the DB"
   ]
  },
  {
   "cell_type": "code",
   "execution_count": 11,
   "metadata": {},
   "outputs": [
    {
     "name": "stdout",
     "output_type": "stream",
     "text": [
      "Print each row and it's columns values:\n",
      "\n",
      "Id =  1\n",
      "Name =  Mohamed Ragab\n",
      "Country =  Egypt\n",
      "Email =  mohamed.ragb@ut.ee \n",
      "\n",
      "Id =  2\n",
      "Name =  John Smith\n",
      "Country =  Finland\n",
      "Email =  j.smith@hotmail.com \n",
      "\n",
      "Id =  3\n",
      "Name =  Aisha Kareem\n",
      "Country =  India\n",
      "Email =  None \n",
      "\n",
      "Id =  4\n",
      "Name =  Jean Lime\n",
      "Country =  Canda\n",
      "Email =  jeanlime@gmail.com \n",
      "\n",
      "Id =  5\n",
      "Name =  Hassan Eldeeb\n",
      "Country =  Egypt\n",
      "Email =  None \n",
      "\n"
     ]
    }
   ],
   "source": [
    "sql_select_query = \"\"\"SELECT * FROM customer\"\"\"\n",
    "\n",
    "try:\n",
    "    \n",
    "    cursor.execute(sql_select_query, (1,))\n",
    "    person_records = cursor.fetchall() \n",
    "    print(\"Print each row and it's columns values:\\n\")\n",
    "    for row in person_records:\n",
    "        print(\"Id = \", row[0], )\n",
    "        print(\"Name = \", row[1], )\n",
    "        print(\"Country = \", row[2], )\n",
    "        print(\"Email = \", row[3], \"\\n\")\n",
    "except(Exception, psycopg2.Error) as error :\n",
    "    con.rollback()\n",
    "    print(\"Error:\", error)"
   ]
  },
  {
   "cell_type": "markdown",
   "metadata": {},
   "source": [
    "#### Notes about the Rows Fetching (Retrieval) From tables in PostgreSQL: \n",
    "- In the above example, we used **cursor.fetchall()** to get all the rows of a database table.\n",
    "    -    **cursor.fetchall()** to fetch all rows.\n",
    "    -    **cursor.fetchone()** to fetch single row.\n",
    "    -    **cursor.fetchmany(SIZE)** to fetch limited rows."
   ]
  },
  {
   "cell_type": "markdown",
   "metadata": {},
   "source": [
    "#### You can use \"Pandas\" library to print the result in tabular format"
   ]
  },
  {
   "cell_type": "code",
   "execution_count": 12,
   "metadata": {},
   "outputs": [
    {
     "name": "stderr",
     "output_type": "stream",
     "text": [
      "/var/folders/h2/plj9zcpn0bj7_bd89m_l42y80000gn/T/ipykernel_1022/3923838412.py:3: UserWarning: pandas only supports SQLAlchemy connectable (engine/connection) or database string URI or sqlite3 DBAPI2 connection. Other DBAPI2 objects are not tested. Please consider using SQLAlchemy.\n",
      "  my_table = pd.read_sql('SELECT * FROM customer', con)\n",
      "/var/folders/h2/plj9zcpn0bj7_bd89m_l42y80000gn/T/ipykernel_1022/3923838412.py:4: FutureWarning: this method is deprecated in favour of `Styler.hide(axis=\"index\")`\n",
      "  display(my_table.style.hide_index())\n"
     ]
    },
    {
     "data": {
      "text/html": [
       "<style type=\"text/css\">\n",
       "</style>\n",
       "<table id=\"T_aa1bc\">\n",
       "  <thead>\n",
       "    <tr>\n",
       "      <th id=\"T_aa1bc_level0_col0\" class=\"col_heading level0 col0\" >id</th>\n",
       "      <th id=\"T_aa1bc_level0_col1\" class=\"col_heading level0 col1\" >name</th>\n",
       "      <th id=\"T_aa1bc_level0_col2\" class=\"col_heading level0 col2\" >country</th>\n",
       "      <th id=\"T_aa1bc_level0_col3\" class=\"col_heading level0 col3\" >email</th>\n",
       "    </tr>\n",
       "  </thead>\n",
       "  <tbody>\n",
       "    <tr>\n",
       "      <td id=\"T_aa1bc_row0_col0\" class=\"data row0 col0\" >1</td>\n",
       "      <td id=\"T_aa1bc_row0_col1\" class=\"data row0 col1\" >Mohamed Ragab</td>\n",
       "      <td id=\"T_aa1bc_row0_col2\" class=\"data row0 col2\" >Egypt</td>\n",
       "      <td id=\"T_aa1bc_row0_col3\" class=\"data row0 col3\" >mohamed.ragb@ut.ee</td>\n",
       "    </tr>\n",
       "    <tr>\n",
       "      <td id=\"T_aa1bc_row1_col0\" class=\"data row1 col0\" >2</td>\n",
       "      <td id=\"T_aa1bc_row1_col1\" class=\"data row1 col1\" >John Smith</td>\n",
       "      <td id=\"T_aa1bc_row1_col2\" class=\"data row1 col2\" >Finland</td>\n",
       "      <td id=\"T_aa1bc_row1_col3\" class=\"data row1 col3\" >j.smith@hotmail.com</td>\n",
       "    </tr>\n",
       "    <tr>\n",
       "      <td id=\"T_aa1bc_row2_col0\" class=\"data row2 col0\" >3</td>\n",
       "      <td id=\"T_aa1bc_row2_col1\" class=\"data row2 col1\" >Aisha Kareem</td>\n",
       "      <td id=\"T_aa1bc_row2_col2\" class=\"data row2 col2\" >India</td>\n",
       "      <td id=\"T_aa1bc_row2_col3\" class=\"data row2 col3\" >None</td>\n",
       "    </tr>\n",
       "    <tr>\n",
       "      <td id=\"T_aa1bc_row3_col0\" class=\"data row3 col0\" >4</td>\n",
       "      <td id=\"T_aa1bc_row3_col1\" class=\"data row3 col1\" >Jean Lime</td>\n",
       "      <td id=\"T_aa1bc_row3_col2\" class=\"data row3 col2\" >Canda</td>\n",
       "      <td id=\"T_aa1bc_row3_col3\" class=\"data row3 col3\" >jeanlime@gmail.com</td>\n",
       "    </tr>\n",
       "    <tr>\n",
       "      <td id=\"T_aa1bc_row4_col0\" class=\"data row4 col0\" >5</td>\n",
       "      <td id=\"T_aa1bc_row4_col1\" class=\"data row4 col1\" >Hassan Eldeeb</td>\n",
       "      <td id=\"T_aa1bc_row4_col2\" class=\"data row4 col2\" >Egypt</td>\n",
       "      <td id=\"T_aa1bc_row4_col3\" class=\"data row4 col3\" >None</td>\n",
       "    </tr>\n",
       "  </tbody>\n",
       "</table>\n"
      ],
      "text/plain": [
       "<pandas.io.formats.style.Styler at 0x7f88b832b790>"
      ]
     },
     "metadata": {},
     "output_type": "display_data"
    }
   ],
   "source": [
    "#use Pandas to print the result in tabular form\n",
    "# Don't RUN before you put your SQL Query\n",
    "my_table = pd.read_sql('SELECT * FROM customer', con)\n",
    "display(my_table.style.hide_index())"
   ]
  },
  {
   "cell_type": "code",
   "execution_count": 13,
   "metadata": {},
   "outputs": [
    {
     "name": "stderr",
     "output_type": "stream",
     "text": [
      "/var/folders/h2/plj9zcpn0bj7_bd89m_l42y80000gn/T/ipykernel_1022/2465764027.py:3: UserWarning: pandas only supports SQLAlchemy connectable (engine/connection) or database string URI or sqlite3 DBAPI2 connection. Other DBAPI2 objects are not tested. Please consider using SQLAlchemy.\n",
      "  another_attempt= psql.read_sql(\"SELECT * FROM customer\", con)\n",
      "/var/folders/h2/plj9zcpn0bj7_bd89m_l42y80000gn/T/ipykernel_1022/2465764027.py:4: FutureWarning: this method is deprecated in favour of `Styler.hide(axis=\"index\")`\n",
      "  display(another_attempt.style.hide_index())\n"
     ]
    },
    {
     "data": {
      "text/html": [
       "<style type=\"text/css\">\n",
       "</style>\n",
       "<table id=\"T_52dea\">\n",
       "  <thead>\n",
       "    <tr>\n",
       "      <th id=\"T_52dea_level0_col0\" class=\"col_heading level0 col0\" >id</th>\n",
       "      <th id=\"T_52dea_level0_col1\" class=\"col_heading level0 col1\" >name</th>\n",
       "      <th id=\"T_52dea_level0_col2\" class=\"col_heading level0 col2\" >country</th>\n",
       "      <th id=\"T_52dea_level0_col3\" class=\"col_heading level0 col3\" >email</th>\n",
       "    </tr>\n",
       "  </thead>\n",
       "  <tbody>\n",
       "    <tr>\n",
       "      <td id=\"T_52dea_row0_col0\" class=\"data row0 col0\" >1</td>\n",
       "      <td id=\"T_52dea_row0_col1\" class=\"data row0 col1\" >Mohamed Ragab</td>\n",
       "      <td id=\"T_52dea_row0_col2\" class=\"data row0 col2\" >Egypt</td>\n",
       "      <td id=\"T_52dea_row0_col3\" class=\"data row0 col3\" >mohamed.ragb@ut.ee</td>\n",
       "    </tr>\n",
       "    <tr>\n",
       "      <td id=\"T_52dea_row1_col0\" class=\"data row1 col0\" >2</td>\n",
       "      <td id=\"T_52dea_row1_col1\" class=\"data row1 col1\" >John Smith</td>\n",
       "      <td id=\"T_52dea_row1_col2\" class=\"data row1 col2\" >Finland</td>\n",
       "      <td id=\"T_52dea_row1_col3\" class=\"data row1 col3\" >j.smith@hotmail.com</td>\n",
       "    </tr>\n",
       "    <tr>\n",
       "      <td id=\"T_52dea_row2_col0\" class=\"data row2 col0\" >3</td>\n",
       "      <td id=\"T_52dea_row2_col1\" class=\"data row2 col1\" >Aisha Kareem</td>\n",
       "      <td id=\"T_52dea_row2_col2\" class=\"data row2 col2\" >India</td>\n",
       "      <td id=\"T_52dea_row2_col3\" class=\"data row2 col3\" >None</td>\n",
       "    </tr>\n",
       "    <tr>\n",
       "      <td id=\"T_52dea_row3_col0\" class=\"data row3 col0\" >4</td>\n",
       "      <td id=\"T_52dea_row3_col1\" class=\"data row3 col1\" >Jean Lime</td>\n",
       "      <td id=\"T_52dea_row3_col2\" class=\"data row3 col2\" >Canda</td>\n",
       "      <td id=\"T_52dea_row3_col3\" class=\"data row3 col3\" >jeanlime@gmail.com</td>\n",
       "    </tr>\n",
       "    <tr>\n",
       "      <td id=\"T_52dea_row4_col0\" class=\"data row4 col0\" >5</td>\n",
       "      <td id=\"T_52dea_row4_col1\" class=\"data row4 col1\" >Hassan Eldeeb</td>\n",
       "      <td id=\"T_52dea_row4_col2\" class=\"data row4 col2\" >Egypt</td>\n",
       "      <td id=\"T_52dea_row4_col3\" class=\"data row4 col3\" >None</td>\n",
       "    </tr>\n",
       "  </tbody>\n",
       "</table>\n"
      ],
      "text/plain": [
       "<pandas.io.formats.style.Styler at 0x7f88b8b7f0d0>"
      ]
     },
     "metadata": {},
     "output_type": "display_data"
    }
   ],
   "source": [
    "#OR using this code\n",
    "# Don't RUN before you put your SQL Query\n",
    "another_attempt= psql.read_sql(\"SELECT * FROM customer\", con)\n",
    "display(another_attempt.style.hide_index())"
   ]
  },
  {
   "cell_type": "markdown",
   "metadata": {},
   "source": [
    "#### Get only the <font color='red'>names</font>  and <font color='red'>countries</font> of all the Customers in the DB [Projection]"
   ]
  },
  {
   "cell_type": "code",
   "execution_count": 14,
   "metadata": {},
   "outputs": [
    {
     "name": "stderr",
     "output_type": "stream",
     "text": [
      "/var/folders/h2/plj9zcpn0bj7_bd89m_l42y80000gn/T/ipykernel_1022/614977976.py:4: UserWarning: pandas only supports SQLAlchemy connectable (engine/connection) or database string URI or sqlite3 DBAPI2 connection. Other DBAPI2 objects are not tested. Please consider using SQLAlchemy.\n",
      "  projected_DF= psql.read_sql(sql_project_query, con)\n",
      "/var/folders/h2/plj9zcpn0bj7_bd89m_l42y80000gn/T/ipykernel_1022/614977976.py:5: FutureWarning: this method is deprecated in favour of `Styler.hide(axis=\"index\")`\n",
      "  display(projected_DF.style.hide_index())\n"
     ]
    },
    {
     "data": {
      "text/html": [
       "<style type=\"text/css\">\n",
       "</style>\n",
       "<table id=\"T_90f18\">\n",
       "  <thead>\n",
       "    <tr>\n",
       "      <th id=\"T_90f18_level0_col0\" class=\"col_heading level0 col0\" >name</th>\n",
       "      <th id=\"T_90f18_level0_col1\" class=\"col_heading level0 col1\" >country</th>\n",
       "    </tr>\n",
       "  </thead>\n",
       "  <tbody>\n",
       "    <tr>\n",
       "      <td id=\"T_90f18_row0_col0\" class=\"data row0 col0\" >Mohamed Ragab</td>\n",
       "      <td id=\"T_90f18_row0_col1\" class=\"data row0 col1\" >Egypt</td>\n",
       "    </tr>\n",
       "    <tr>\n",
       "      <td id=\"T_90f18_row1_col0\" class=\"data row1 col0\" >John Smith</td>\n",
       "      <td id=\"T_90f18_row1_col1\" class=\"data row1 col1\" >Finland</td>\n",
       "    </tr>\n",
       "    <tr>\n",
       "      <td id=\"T_90f18_row2_col0\" class=\"data row2 col0\" >Aisha Kareem</td>\n",
       "      <td id=\"T_90f18_row2_col1\" class=\"data row2 col1\" >India</td>\n",
       "    </tr>\n",
       "    <tr>\n",
       "      <td id=\"T_90f18_row3_col0\" class=\"data row3 col0\" >Jean Lime</td>\n",
       "      <td id=\"T_90f18_row3_col1\" class=\"data row3 col1\" >Canda</td>\n",
       "    </tr>\n",
       "    <tr>\n",
       "      <td id=\"T_90f18_row4_col0\" class=\"data row4 col0\" >Hassan Eldeeb</td>\n",
       "      <td id=\"T_90f18_row4_col1\" class=\"data row4 col1\" >Egypt</td>\n",
       "    </tr>\n",
       "  </tbody>\n",
       "</table>\n"
      ],
      "text/plain": [
       "<pandas.io.formats.style.Styler at 0x7f88b8b7f070>"
      ]
     },
     "metadata": {},
     "output_type": "display_data"
    }
   ],
   "source": [
    "# Don't RUN before you put your SQL Query\n",
    "sql_project_query = \"\"\"SELECT name, country FROM customer\"\"\"\n",
    "\n",
    "projected_DF= psql.read_sql(sql_project_query, con)\n",
    "display(projected_DF.style.hide_index())"
   ]
  },
  {
   "cell_type": "markdown",
   "metadata": {},
   "source": [
    "## Sorting the Results\n",
    "\n",
    "#### Get All Customers , sorted by country Ascednding"
   ]
  },
  {
   "cell_type": "code",
   "execution_count": 15,
   "metadata": {},
   "outputs": [
    {
     "name": "stderr",
     "output_type": "stream",
     "text": [
      "/var/folders/h2/plj9zcpn0bj7_bd89m_l42y80000gn/T/ipykernel_1022/2988887372.py:1: UserWarning: pandas only supports SQLAlchemy connectable (engine/connection) or database string URI or sqlite3 DBAPI2 connection. Other DBAPI2 objects are not tested. Please consider using SQLAlchemy.\n",
      "  ord_customers_by_country= psql.read_sql(\"SELECT * FROM customer ORDER BY country ASC\", con)\n",
      "/var/folders/h2/plj9zcpn0bj7_bd89m_l42y80000gn/T/ipykernel_1022/2988887372.py:2: FutureWarning: this method is deprecated in favour of `Styler.hide(axis=\"index\")`\n",
      "  display(ord_customers_by_country.style.hide_index())\n"
     ]
    },
    {
     "data": {
      "text/html": [
       "<style type=\"text/css\">\n",
       "</style>\n",
       "<table id=\"T_e5b0b\">\n",
       "  <thead>\n",
       "    <tr>\n",
       "      <th id=\"T_e5b0b_level0_col0\" class=\"col_heading level0 col0\" >id</th>\n",
       "      <th id=\"T_e5b0b_level0_col1\" class=\"col_heading level0 col1\" >name</th>\n",
       "      <th id=\"T_e5b0b_level0_col2\" class=\"col_heading level0 col2\" >country</th>\n",
       "      <th id=\"T_e5b0b_level0_col3\" class=\"col_heading level0 col3\" >email</th>\n",
       "    </tr>\n",
       "  </thead>\n",
       "  <tbody>\n",
       "    <tr>\n",
       "      <td id=\"T_e5b0b_row0_col0\" class=\"data row0 col0\" >4</td>\n",
       "      <td id=\"T_e5b0b_row0_col1\" class=\"data row0 col1\" >Jean Lime</td>\n",
       "      <td id=\"T_e5b0b_row0_col2\" class=\"data row0 col2\" >Canda</td>\n",
       "      <td id=\"T_e5b0b_row0_col3\" class=\"data row0 col3\" >jeanlime@gmail.com</td>\n",
       "    </tr>\n",
       "    <tr>\n",
       "      <td id=\"T_e5b0b_row1_col0\" class=\"data row1 col0\" >1</td>\n",
       "      <td id=\"T_e5b0b_row1_col1\" class=\"data row1 col1\" >Mohamed Ragab</td>\n",
       "      <td id=\"T_e5b0b_row1_col2\" class=\"data row1 col2\" >Egypt</td>\n",
       "      <td id=\"T_e5b0b_row1_col3\" class=\"data row1 col3\" >mohamed.ragb@ut.ee</td>\n",
       "    </tr>\n",
       "    <tr>\n",
       "      <td id=\"T_e5b0b_row2_col0\" class=\"data row2 col0\" >5</td>\n",
       "      <td id=\"T_e5b0b_row2_col1\" class=\"data row2 col1\" >Hassan Eldeeb</td>\n",
       "      <td id=\"T_e5b0b_row2_col2\" class=\"data row2 col2\" >Egypt</td>\n",
       "      <td id=\"T_e5b0b_row2_col3\" class=\"data row2 col3\" >None</td>\n",
       "    </tr>\n",
       "    <tr>\n",
       "      <td id=\"T_e5b0b_row3_col0\" class=\"data row3 col0\" >2</td>\n",
       "      <td id=\"T_e5b0b_row3_col1\" class=\"data row3 col1\" >John Smith</td>\n",
       "      <td id=\"T_e5b0b_row3_col2\" class=\"data row3 col2\" >Finland</td>\n",
       "      <td id=\"T_e5b0b_row3_col3\" class=\"data row3 col3\" >j.smith@hotmail.com</td>\n",
       "    </tr>\n",
       "    <tr>\n",
       "      <td id=\"T_e5b0b_row4_col0\" class=\"data row4 col0\" >3</td>\n",
       "      <td id=\"T_e5b0b_row4_col1\" class=\"data row4 col1\" >Aisha Kareem</td>\n",
       "      <td id=\"T_e5b0b_row4_col2\" class=\"data row4 col2\" >India</td>\n",
       "      <td id=\"T_e5b0b_row4_col3\" class=\"data row4 col3\" >None</td>\n",
       "    </tr>\n",
       "  </tbody>\n",
       "</table>\n"
      ],
      "text/plain": [
       "<pandas.io.formats.style.Styler at 0x7f88b8b787c0>"
      ]
     },
     "metadata": {},
     "output_type": "display_data"
    }
   ],
   "source": [
    "ord_customers_by_country= psql.read_sql(\"SELECT * FROM customer ORDER BY country ASC\", con)\n",
    "display(ord_customers_by_country.style.hide_index())"
   ]
  },
  {
   "cell_type": "markdown",
   "metadata": {},
   "source": [
    "- **Note**: By Default Sorting in SQL is Ascending order!"
   ]
  },
  {
   "cell_type": "markdown",
   "metadata": {},
   "source": [
    "#### Get All Customers , sorted by names Descednding"
   ]
  },
  {
   "cell_type": "code",
   "execution_count": 16,
   "metadata": {},
   "outputs": [
    {
     "name": "stderr",
     "output_type": "stream",
     "text": [
      "/var/folders/h2/plj9zcpn0bj7_bd89m_l42y80000gn/T/ipykernel_1022/3193577223.py:2: UserWarning: pandas only supports SQLAlchemy connectable (engine/connection) or database string URI or sqlite3 DBAPI2 connection. Other DBAPI2 objects are not tested. Please consider using SQLAlchemy.\n",
      "  ord_customers_by_name= psql.read_sql(\"SELECT * FROM customer ORDER BY name DESC\", con)\n",
      "/var/folders/h2/plj9zcpn0bj7_bd89m_l42y80000gn/T/ipykernel_1022/3193577223.py:3: FutureWarning: this method is deprecated in favour of `Styler.hide(axis=\"index\")`\n",
      "  display(ord_customers_by_name.style.hide_index())\n"
     ]
    },
    {
     "data": {
      "text/html": [
       "<style type=\"text/css\">\n",
       "</style>\n",
       "<table id=\"T_f52b9\">\n",
       "  <thead>\n",
       "    <tr>\n",
       "      <th id=\"T_f52b9_level0_col0\" class=\"col_heading level0 col0\" >id</th>\n",
       "      <th id=\"T_f52b9_level0_col1\" class=\"col_heading level0 col1\" >name</th>\n",
       "      <th id=\"T_f52b9_level0_col2\" class=\"col_heading level0 col2\" >country</th>\n",
       "      <th id=\"T_f52b9_level0_col3\" class=\"col_heading level0 col3\" >email</th>\n",
       "    </tr>\n",
       "  </thead>\n",
       "  <tbody>\n",
       "    <tr>\n",
       "      <td id=\"T_f52b9_row0_col0\" class=\"data row0 col0\" >1</td>\n",
       "      <td id=\"T_f52b9_row0_col1\" class=\"data row0 col1\" >Mohamed Ragab</td>\n",
       "      <td id=\"T_f52b9_row0_col2\" class=\"data row0 col2\" >Egypt</td>\n",
       "      <td id=\"T_f52b9_row0_col3\" class=\"data row0 col3\" >mohamed.ragb@ut.ee</td>\n",
       "    </tr>\n",
       "    <tr>\n",
       "      <td id=\"T_f52b9_row1_col0\" class=\"data row1 col0\" >2</td>\n",
       "      <td id=\"T_f52b9_row1_col1\" class=\"data row1 col1\" >John Smith</td>\n",
       "      <td id=\"T_f52b9_row1_col2\" class=\"data row1 col2\" >Finland</td>\n",
       "      <td id=\"T_f52b9_row1_col3\" class=\"data row1 col3\" >j.smith@hotmail.com</td>\n",
       "    </tr>\n",
       "    <tr>\n",
       "      <td id=\"T_f52b9_row2_col0\" class=\"data row2 col0\" >4</td>\n",
       "      <td id=\"T_f52b9_row2_col1\" class=\"data row2 col1\" >Jean Lime</td>\n",
       "      <td id=\"T_f52b9_row2_col2\" class=\"data row2 col2\" >Canda</td>\n",
       "      <td id=\"T_f52b9_row2_col3\" class=\"data row2 col3\" >jeanlime@gmail.com</td>\n",
       "    </tr>\n",
       "    <tr>\n",
       "      <td id=\"T_f52b9_row3_col0\" class=\"data row3 col0\" >5</td>\n",
       "      <td id=\"T_f52b9_row3_col1\" class=\"data row3 col1\" >Hassan Eldeeb</td>\n",
       "      <td id=\"T_f52b9_row3_col2\" class=\"data row3 col2\" >Egypt</td>\n",
       "      <td id=\"T_f52b9_row3_col3\" class=\"data row3 col3\" >None</td>\n",
       "    </tr>\n",
       "    <tr>\n",
       "      <td id=\"T_f52b9_row4_col0\" class=\"data row4 col0\" >3</td>\n",
       "      <td id=\"T_f52b9_row4_col1\" class=\"data row4 col1\" >Aisha Kareem</td>\n",
       "      <td id=\"T_f52b9_row4_col2\" class=\"data row4 col2\" >India</td>\n",
       "      <td id=\"T_f52b9_row4_col3\" class=\"data row4 col3\" >None</td>\n",
       "    </tr>\n",
       "  </tbody>\n",
       "</table>\n"
      ],
      "text/plain": [
       "<pandas.io.formats.style.Styler at 0x7f88b8d68fa0>"
      ]
     },
     "metadata": {},
     "output_type": "display_data"
    }
   ],
   "source": [
    "# Don't RUN before you put your SQL Query\n",
    "ord_customers_by_name= psql.read_sql(\"SELECT * FROM customer ORDER BY name DESC\", con)\n",
    "display(ord_customers_by_name.style.hide_index())"
   ]
  },
  {
   "cell_type": "markdown",
   "metadata": {},
   "source": [
    "#### Get Distinct Countries of customers From Customer table "
   ]
  },
  {
   "cell_type": "code",
   "execution_count": 17,
   "metadata": {},
   "outputs": [
    {
     "name": "stderr",
     "output_type": "stream",
     "text": [
      "/var/folders/h2/plj9zcpn0bj7_bd89m_l42y80000gn/T/ipykernel_1022/4214454699.py:2: UserWarning: pandas only supports SQLAlchemy connectable (engine/connection) or database string URI or sqlite3 DBAPI2 connection. Other DBAPI2 objects are not tested. Please consider using SQLAlchemy.\n",
      "  distinctCountries= psql.read_sql(\"SELECT DISTINCT ON (country) country, * FROM customer\", con)\n",
      "/var/folders/h2/plj9zcpn0bj7_bd89m_l42y80000gn/T/ipykernel_1022/4214454699.py:3: FutureWarning: this method is deprecated in favour of `Styler.hide(axis=\"index\")`\n",
      "  display(distinctCountries.style.hide_index())\n"
     ]
    },
    {
     "data": {
      "text/html": [
       "<style type=\"text/css\">\n",
       "</style>\n",
       "<table id=\"T_02829\">\n",
       "  <thead>\n",
       "    <tr>\n",
       "      <th id=\"T_02829_level0_col0\" class=\"col_heading level0 col0\" >country</th>\n",
       "      <th id=\"T_02829_level0_col1\" class=\"col_heading level0 col1\" >id</th>\n",
       "      <th id=\"T_02829_level0_col2\" class=\"col_heading level0 col2\" >name</th>\n",
       "      <th id=\"T_02829_level0_col3\" class=\"col_heading level0 col3\" >country</th>\n",
       "      <th id=\"T_02829_level0_col4\" class=\"col_heading level0 col4\" >email</th>\n",
       "    </tr>\n",
       "  </thead>\n",
       "  <tbody>\n",
       "    <tr>\n",
       "      <td id=\"T_02829_row0_col0\" class=\"data row0 col0\" >Canda</td>\n",
       "      <td id=\"T_02829_row0_col1\" class=\"data row0 col1\" >4</td>\n",
       "      <td id=\"T_02829_row0_col2\" class=\"data row0 col2\" >Jean Lime</td>\n",
       "      <td id=\"T_02829_row0_col3\" class=\"data row0 col3\" >Canda</td>\n",
       "      <td id=\"T_02829_row0_col4\" class=\"data row0 col4\" >jeanlime@gmail.com</td>\n",
       "    </tr>\n",
       "    <tr>\n",
       "      <td id=\"T_02829_row1_col0\" class=\"data row1 col0\" >Egypt</td>\n",
       "      <td id=\"T_02829_row1_col1\" class=\"data row1 col1\" >1</td>\n",
       "      <td id=\"T_02829_row1_col2\" class=\"data row1 col2\" >Mohamed Ragab</td>\n",
       "      <td id=\"T_02829_row1_col3\" class=\"data row1 col3\" >Egypt</td>\n",
       "      <td id=\"T_02829_row1_col4\" class=\"data row1 col4\" >mohamed.ragb@ut.ee</td>\n",
       "    </tr>\n",
       "    <tr>\n",
       "      <td id=\"T_02829_row2_col0\" class=\"data row2 col0\" >Finland</td>\n",
       "      <td id=\"T_02829_row2_col1\" class=\"data row2 col1\" >2</td>\n",
       "      <td id=\"T_02829_row2_col2\" class=\"data row2 col2\" >John Smith</td>\n",
       "      <td id=\"T_02829_row2_col3\" class=\"data row2 col3\" >Finland</td>\n",
       "      <td id=\"T_02829_row2_col4\" class=\"data row2 col4\" >j.smith@hotmail.com</td>\n",
       "    </tr>\n",
       "    <tr>\n",
       "      <td id=\"T_02829_row3_col0\" class=\"data row3 col0\" >India</td>\n",
       "      <td id=\"T_02829_row3_col1\" class=\"data row3 col1\" >3</td>\n",
       "      <td id=\"T_02829_row3_col2\" class=\"data row3 col2\" >Aisha Kareem</td>\n",
       "      <td id=\"T_02829_row3_col3\" class=\"data row3 col3\" >India</td>\n",
       "      <td id=\"T_02829_row3_col4\" class=\"data row3 col4\" >None</td>\n",
       "    </tr>\n",
       "  </tbody>\n",
       "</table>\n"
      ],
      "text/plain": [
       "<pandas.io.formats.style.Styler at 0x7f88b8b784c0>"
      ]
     },
     "metadata": {},
     "output_type": "display_data"
    }
   ],
   "source": [
    "# Don't RUN before you put your SQL Query\n",
    "distinctCountries= psql.read_sql(\"SELECT DISTINCT ON (country) country, * FROM customer\", con)\n",
    "display(distinctCountries.style.hide_index())"
   ]
  },
  {
   "cell_type": "markdown",
   "metadata": {},
   "source": [
    "### Filtering the Results (Use the WHERE & AND)"
   ]
  },
  {
   "cell_type": "markdown",
   "metadata": {},
   "source": [
    "#### Get only the customers who have emails (filter out who don't have)"
   ]
  },
  {
   "cell_type": "code",
   "execution_count": 18,
   "metadata": {},
   "outputs": [
    {
     "name": "stderr",
     "output_type": "stream",
     "text": [
      "/var/folders/h2/plj9zcpn0bj7_bd89m_l42y80000gn/T/ipykernel_1022/4159047615.py:1: UserWarning: pandas only supports SQLAlchemy connectable (engine/connection) or database string URI or sqlite3 DBAPI2 connection. Other DBAPI2 objects are not tested. Please consider using SQLAlchemy.\n",
      "  customersWithEmails= psql.read_sql(\"SELECT * FROM customer WHERE email != ''  \", con)\n",
      "/var/folders/h2/plj9zcpn0bj7_bd89m_l42y80000gn/T/ipykernel_1022/4159047615.py:2: FutureWarning: this method is deprecated in favour of `Styler.hide(axis=\"index\")`\n",
      "  display(customersWithEmails.style.hide_index())\n"
     ]
    },
    {
     "data": {
      "text/html": [
       "<style type=\"text/css\">\n",
       "</style>\n",
       "<table id=\"T_d8822\">\n",
       "  <thead>\n",
       "    <tr>\n",
       "      <th id=\"T_d8822_level0_col0\" class=\"col_heading level0 col0\" >id</th>\n",
       "      <th id=\"T_d8822_level0_col1\" class=\"col_heading level0 col1\" >name</th>\n",
       "      <th id=\"T_d8822_level0_col2\" class=\"col_heading level0 col2\" >country</th>\n",
       "      <th id=\"T_d8822_level0_col3\" class=\"col_heading level0 col3\" >email</th>\n",
       "    </tr>\n",
       "  </thead>\n",
       "  <tbody>\n",
       "    <tr>\n",
       "      <td id=\"T_d8822_row0_col0\" class=\"data row0 col0\" >1</td>\n",
       "      <td id=\"T_d8822_row0_col1\" class=\"data row0 col1\" >Mohamed Ragab</td>\n",
       "      <td id=\"T_d8822_row0_col2\" class=\"data row0 col2\" >Egypt</td>\n",
       "      <td id=\"T_d8822_row0_col3\" class=\"data row0 col3\" >mohamed.ragb@ut.ee</td>\n",
       "    </tr>\n",
       "    <tr>\n",
       "      <td id=\"T_d8822_row1_col0\" class=\"data row1 col0\" >2</td>\n",
       "      <td id=\"T_d8822_row1_col1\" class=\"data row1 col1\" >John Smith</td>\n",
       "      <td id=\"T_d8822_row1_col2\" class=\"data row1 col2\" >Finland</td>\n",
       "      <td id=\"T_d8822_row1_col3\" class=\"data row1 col3\" >j.smith@hotmail.com</td>\n",
       "    </tr>\n",
       "    <tr>\n",
       "      <td id=\"T_d8822_row2_col0\" class=\"data row2 col0\" >4</td>\n",
       "      <td id=\"T_d8822_row2_col1\" class=\"data row2 col1\" >Jean Lime</td>\n",
       "      <td id=\"T_d8822_row2_col2\" class=\"data row2 col2\" >Canda</td>\n",
       "      <td id=\"T_d8822_row2_col3\" class=\"data row2 col3\" >jeanlime@gmail.com</td>\n",
       "    </tr>\n",
       "  </tbody>\n",
       "</table>\n"
      ],
      "text/plain": [
       "<pandas.io.formats.style.Styler at 0x7f88b8d2dc70>"
      ]
     },
     "metadata": {},
     "output_type": "display_data"
    }
   ],
   "source": [
    "customersWithEmails= psql.read_sql(\"SELECT * FROM customer WHERE email != ''  \", con)\n",
    "display(customersWithEmails.style.hide_index())"
   ]
  },
  {
   "cell_type": "markdown",
   "metadata": {},
   "source": [
    "#### Get customers who live in \"Egypt\""
   ]
  },
  {
   "cell_type": "code",
   "execution_count": 19,
   "metadata": {},
   "outputs": [
    {
     "name": "stderr",
     "output_type": "stream",
     "text": [
      "/var/folders/h2/plj9zcpn0bj7_bd89m_l42y80000gn/T/ipykernel_1022/334835931.py:2: UserWarning: pandas only supports SQLAlchemy connectable (engine/connection) or database string URI or sqlite3 DBAPI2 connection. Other DBAPI2 objects are not tested. Please consider using SQLAlchemy.\n",
      "  theEgyptian= psql.read_sql(\"SELECT * FROM customer WHERE country='Egypt'\", con)\n",
      "/var/folders/h2/plj9zcpn0bj7_bd89m_l42y80000gn/T/ipykernel_1022/334835931.py:3: FutureWarning: this method is deprecated in favour of `Styler.hide(axis=\"index\")`\n",
      "  display(theEgyptian.style.hide_index())\n"
     ]
    },
    {
     "data": {
      "text/html": [
       "<style type=\"text/css\">\n",
       "</style>\n",
       "<table id=\"T_3fa44\">\n",
       "  <thead>\n",
       "    <tr>\n",
       "      <th id=\"T_3fa44_level0_col0\" class=\"col_heading level0 col0\" >id</th>\n",
       "      <th id=\"T_3fa44_level0_col1\" class=\"col_heading level0 col1\" >name</th>\n",
       "      <th id=\"T_3fa44_level0_col2\" class=\"col_heading level0 col2\" >country</th>\n",
       "      <th id=\"T_3fa44_level0_col3\" class=\"col_heading level0 col3\" >email</th>\n",
       "    </tr>\n",
       "  </thead>\n",
       "  <tbody>\n",
       "    <tr>\n",
       "      <td id=\"T_3fa44_row0_col0\" class=\"data row0 col0\" >1</td>\n",
       "      <td id=\"T_3fa44_row0_col1\" class=\"data row0 col1\" >Mohamed Ragab</td>\n",
       "      <td id=\"T_3fa44_row0_col2\" class=\"data row0 col2\" >Egypt</td>\n",
       "      <td id=\"T_3fa44_row0_col3\" class=\"data row0 col3\" >mohamed.ragb@ut.ee</td>\n",
       "    </tr>\n",
       "    <tr>\n",
       "      <td id=\"T_3fa44_row1_col0\" class=\"data row1 col0\" >5</td>\n",
       "      <td id=\"T_3fa44_row1_col1\" class=\"data row1 col1\" >Hassan Eldeeb</td>\n",
       "      <td id=\"T_3fa44_row1_col2\" class=\"data row1 col2\" >Egypt</td>\n",
       "      <td id=\"T_3fa44_row1_col3\" class=\"data row1 col3\" >None</td>\n",
       "    </tr>\n",
       "  </tbody>\n",
       "</table>\n"
      ],
      "text/plain": [
       "<pandas.io.formats.style.Styler at 0x7f88b8d218b0>"
      ]
     },
     "metadata": {},
     "output_type": "display_data"
    }
   ],
   "source": [
    "# Don't RUN before you put your SQL Query\n",
    "theEgyptian= psql.read_sql(\"SELECT * FROM customer WHERE country='Egypt'\", con)\n",
    "display(theEgyptian.style.hide_index())"
   ]
  },
  {
   "cell_type": "markdown",
   "metadata": {},
   "source": [
    "#### Get customers who are from Egypt and already have emails"
   ]
  },
  {
   "cell_type": "code",
   "execution_count": 20,
   "metadata": {},
   "outputs": [
    {
     "name": "stderr",
     "output_type": "stream",
     "text": [
      "/var/folders/h2/plj9zcpn0bj7_bd89m_l42y80000gn/T/ipykernel_1022/2674815253.py:2: UserWarning: pandas only supports SQLAlchemy connectable (engine/connection) or database string URI or sqlite3 DBAPI2 connection. Other DBAPI2 objects are not tested. Please consider using SQLAlchemy.\n",
      "  theEgyptianWithEmail= psql.read_sql(\"SELECT * FROM customer WHERE country='Egypt' AND email is not NULL\", con)\n",
      "/var/folders/h2/plj9zcpn0bj7_bd89m_l42y80000gn/T/ipykernel_1022/2674815253.py:3: FutureWarning: this method is deprecated in favour of `Styler.hide(axis=\"index\")`\n",
      "  display(theEgyptianWithEmail.style.hide_index())\n"
     ]
    },
    {
     "data": {
      "text/html": [
       "<style type=\"text/css\">\n",
       "</style>\n",
       "<table id=\"T_b17ff\">\n",
       "  <thead>\n",
       "    <tr>\n",
       "      <th id=\"T_b17ff_level0_col0\" class=\"col_heading level0 col0\" >id</th>\n",
       "      <th id=\"T_b17ff_level0_col1\" class=\"col_heading level0 col1\" >name</th>\n",
       "      <th id=\"T_b17ff_level0_col2\" class=\"col_heading level0 col2\" >country</th>\n",
       "      <th id=\"T_b17ff_level0_col3\" class=\"col_heading level0 col3\" >email</th>\n",
       "    </tr>\n",
       "  </thead>\n",
       "  <tbody>\n",
       "    <tr>\n",
       "      <td id=\"T_b17ff_row0_col0\" class=\"data row0 col0\" >1</td>\n",
       "      <td id=\"T_b17ff_row0_col1\" class=\"data row0 col1\" >Mohamed Ragab</td>\n",
       "      <td id=\"T_b17ff_row0_col2\" class=\"data row0 col2\" >Egypt</td>\n",
       "      <td id=\"T_b17ff_row0_col3\" class=\"data row0 col3\" >mohamed.ragb@ut.ee</td>\n",
       "    </tr>\n",
       "  </tbody>\n",
       "</table>\n"
      ],
      "text/plain": [
       "<pandas.io.formats.style.Styler at 0x7f88b8d2dee0>"
      ]
     },
     "metadata": {},
     "output_type": "display_data"
    }
   ],
   "source": [
    "# Don't RUN before you put your SQL Query\n",
    "theEgyptianWithEmail= psql.read_sql(\"SELECT * FROM customer WHERE country='Egypt' AND email is not NULL\", con)\n",
    "display(theEgyptianWithEmail.style.hide_index())"
   ]
  },
  {
   "cell_type": "markdown",
   "metadata": {},
   "source": [
    "#### Get customers who's name starts with Letter \"J\""
   ]
  },
  {
   "cell_type": "code",
   "execution_count": 21,
   "metadata": {},
   "outputs": [
    {
     "name": "stderr",
     "output_type": "stream",
     "text": [
      "/var/folders/h2/plj9zcpn0bj7_bd89m_l42y80000gn/T/ipykernel_1022/4061736775.py:1: UserWarning: pandas only supports SQLAlchemy connectable (engine/connection) or database string URI or sqlite3 DBAPI2 connection. Other DBAPI2 objects are not tested. Please consider using SQLAlchemy.\n",
      "  J_Customers= psql.read_sql(\"SELECT * FROM customer WHERE name LIKE 'J%' \", con)\n",
      "/var/folders/h2/plj9zcpn0bj7_bd89m_l42y80000gn/T/ipykernel_1022/4061736775.py:2: FutureWarning: this method is deprecated in favour of `Styler.hide(axis=\"index\")`\n",
      "  display(J_Customers.style.hide_index())\n"
     ]
    },
    {
     "data": {
      "text/html": [
       "<style type=\"text/css\">\n",
       "</style>\n",
       "<table id=\"T_35f6e\">\n",
       "  <thead>\n",
       "    <tr>\n",
       "      <th id=\"T_35f6e_level0_col0\" class=\"col_heading level0 col0\" >id</th>\n",
       "      <th id=\"T_35f6e_level0_col1\" class=\"col_heading level0 col1\" >name</th>\n",
       "      <th id=\"T_35f6e_level0_col2\" class=\"col_heading level0 col2\" >country</th>\n",
       "      <th id=\"T_35f6e_level0_col3\" class=\"col_heading level0 col3\" >email</th>\n",
       "    </tr>\n",
       "  </thead>\n",
       "  <tbody>\n",
       "    <tr>\n",
       "      <td id=\"T_35f6e_row0_col0\" class=\"data row0 col0\" >2</td>\n",
       "      <td id=\"T_35f6e_row0_col1\" class=\"data row0 col1\" >John Smith</td>\n",
       "      <td id=\"T_35f6e_row0_col2\" class=\"data row0 col2\" >Finland</td>\n",
       "      <td id=\"T_35f6e_row0_col3\" class=\"data row0 col3\" >j.smith@hotmail.com</td>\n",
       "    </tr>\n",
       "    <tr>\n",
       "      <td id=\"T_35f6e_row1_col0\" class=\"data row1 col0\" >4</td>\n",
       "      <td id=\"T_35f6e_row1_col1\" class=\"data row1 col1\" >Jean Lime</td>\n",
       "      <td id=\"T_35f6e_row1_col2\" class=\"data row1 col2\" >Canda</td>\n",
       "      <td id=\"T_35f6e_row1_col3\" class=\"data row1 col3\" >jeanlime@gmail.com</td>\n",
       "    </tr>\n",
       "  </tbody>\n",
       "</table>\n"
      ],
      "text/plain": [
       "<pandas.io.formats.style.Styler at 0x7f88b8cfaee0>"
      ]
     },
     "metadata": {},
     "output_type": "display_data"
    }
   ],
   "source": [
    "J_Customers= psql.read_sql(\"SELECT * FROM customer WHERE name LIKE 'J%' \", con)\n",
    "display(J_Customers.style.hide_index())"
   ]
  },
  {
   "cell_type": "markdown",
   "metadata": {},
   "source": [
    "### Pagination  in SQL, using \"LIMT\" and \"OFFSET\""
   ]
  },
  {
   "cell_type": "markdown",
   "metadata": {},
   "source": [
    "#### Get only the first 3 Customers from the customers table"
   ]
  },
  {
   "cell_type": "code",
   "execution_count": 22,
   "metadata": {},
   "outputs": [
    {
     "name": "stderr",
     "output_type": "stream",
     "text": [
      "/var/folders/h2/plj9zcpn0bj7_bd89m_l42y80000gn/T/ipykernel_1022/1813295314.py:1: UserWarning: pandas only supports SQLAlchemy connectable (engine/connection) or database string URI or sqlite3 DBAPI2 connection. Other DBAPI2 objects are not tested. Please consider using SQLAlchemy.\n",
      "  first_3_Customers= psql.read_sql(\"SELECT * FROM customer LIMIT 3 \", con)\n",
      "/var/folders/h2/plj9zcpn0bj7_bd89m_l42y80000gn/T/ipykernel_1022/1813295314.py:2: FutureWarning: this method is deprecated in favour of `Styler.hide(axis=\"index\")`\n",
      "  display(first_3_Customers.style.hide_index())\n"
     ]
    },
    {
     "data": {
      "text/html": [
       "<style type=\"text/css\">\n",
       "</style>\n",
       "<table id=\"T_5e61f\">\n",
       "  <thead>\n",
       "    <tr>\n",
       "      <th id=\"T_5e61f_level0_col0\" class=\"col_heading level0 col0\" >id</th>\n",
       "      <th id=\"T_5e61f_level0_col1\" class=\"col_heading level0 col1\" >name</th>\n",
       "      <th id=\"T_5e61f_level0_col2\" class=\"col_heading level0 col2\" >country</th>\n",
       "      <th id=\"T_5e61f_level0_col3\" class=\"col_heading level0 col3\" >email</th>\n",
       "    </tr>\n",
       "  </thead>\n",
       "  <tbody>\n",
       "    <tr>\n",
       "      <td id=\"T_5e61f_row0_col0\" class=\"data row0 col0\" >1</td>\n",
       "      <td id=\"T_5e61f_row0_col1\" class=\"data row0 col1\" >Mohamed Ragab</td>\n",
       "      <td id=\"T_5e61f_row0_col2\" class=\"data row0 col2\" >Egypt</td>\n",
       "      <td id=\"T_5e61f_row0_col3\" class=\"data row0 col3\" >mohamed.ragb@ut.ee</td>\n",
       "    </tr>\n",
       "    <tr>\n",
       "      <td id=\"T_5e61f_row1_col0\" class=\"data row1 col0\" >2</td>\n",
       "      <td id=\"T_5e61f_row1_col1\" class=\"data row1 col1\" >John Smith</td>\n",
       "      <td id=\"T_5e61f_row1_col2\" class=\"data row1 col2\" >Finland</td>\n",
       "      <td id=\"T_5e61f_row1_col3\" class=\"data row1 col3\" >j.smith@hotmail.com</td>\n",
       "    </tr>\n",
       "    <tr>\n",
       "      <td id=\"T_5e61f_row2_col0\" class=\"data row2 col0\" >3</td>\n",
       "      <td id=\"T_5e61f_row2_col1\" class=\"data row2 col1\" >Aisha Kareem</td>\n",
       "      <td id=\"T_5e61f_row2_col2\" class=\"data row2 col2\" >India</td>\n",
       "      <td id=\"T_5e61f_row2_col3\" class=\"data row2 col3\" >None</td>\n",
       "    </tr>\n",
       "  </tbody>\n",
       "</table>\n"
      ],
      "text/plain": [
       "<pandas.io.formats.style.Styler at 0x7f88b8d3a310>"
      ]
     },
     "metadata": {},
     "output_type": "display_data"
    }
   ],
   "source": [
    "first_3_Customers= psql.read_sql(\"SELECT * FROM customer LIMIT 3 \", con)\n",
    "display(first_3_Customers.style.hide_index())"
   ]
  },
  {
   "cell_type": "markdown",
   "metadata": {},
   "source": [
    "#### skipt the First 3 Customers and get the next 3 customers"
   ]
  },
  {
   "cell_type": "code",
   "execution_count": 23,
   "metadata": {},
   "outputs": [
    {
     "name": "stderr",
     "output_type": "stream",
     "text": [
      "/var/folders/h2/plj9zcpn0bj7_bd89m_l42y80000gn/T/ipykernel_1022/1439238324.py:1: UserWarning: pandas only supports SQLAlchemy connectable (engine/connection) or database string URI or sqlite3 DBAPI2 connection. Other DBAPI2 objects are not tested. Please consider using SQLAlchemy.\n",
      "  next_3_Customers= psql.read_sql(\"SELECT * FROM customer OFFSET 3 LIMIT 3 \", con)\n",
      "/var/folders/h2/plj9zcpn0bj7_bd89m_l42y80000gn/T/ipykernel_1022/1439238324.py:2: FutureWarning: this method is deprecated in favour of `Styler.hide(axis=\"index\")`\n",
      "  display(next_3_Customers.style.hide_index())\n"
     ]
    },
    {
     "data": {
      "text/html": [
       "<style type=\"text/css\">\n",
       "</style>\n",
       "<table id=\"T_5d0d6\">\n",
       "  <thead>\n",
       "    <tr>\n",
       "      <th id=\"T_5d0d6_level0_col0\" class=\"col_heading level0 col0\" >id</th>\n",
       "      <th id=\"T_5d0d6_level0_col1\" class=\"col_heading level0 col1\" >name</th>\n",
       "      <th id=\"T_5d0d6_level0_col2\" class=\"col_heading level0 col2\" >country</th>\n",
       "      <th id=\"T_5d0d6_level0_col3\" class=\"col_heading level0 col3\" >email</th>\n",
       "    </tr>\n",
       "  </thead>\n",
       "  <tbody>\n",
       "    <tr>\n",
       "      <td id=\"T_5d0d6_row0_col0\" class=\"data row0 col0\" >4</td>\n",
       "      <td id=\"T_5d0d6_row0_col1\" class=\"data row0 col1\" >Jean Lime</td>\n",
       "      <td id=\"T_5d0d6_row0_col2\" class=\"data row0 col2\" >Canda</td>\n",
       "      <td id=\"T_5d0d6_row0_col3\" class=\"data row0 col3\" >jeanlime@gmail.com</td>\n",
       "    </tr>\n",
       "    <tr>\n",
       "      <td id=\"T_5d0d6_row1_col0\" class=\"data row1 col0\" >5</td>\n",
       "      <td id=\"T_5d0d6_row1_col1\" class=\"data row1 col1\" >Hassan Eldeeb</td>\n",
       "      <td id=\"T_5d0d6_row1_col2\" class=\"data row1 col2\" >Egypt</td>\n",
       "      <td id=\"T_5d0d6_row1_col3\" class=\"data row1 col3\" >None</td>\n",
       "    </tr>\n",
       "  </tbody>\n",
       "</table>\n"
      ],
      "text/plain": [
       "<pandas.io.formats.style.Styler at 0x7f88b8d2d7f0>"
      ]
     },
     "metadata": {},
     "output_type": "display_data"
    }
   ],
   "source": [
    "next_3_Customers= psql.read_sql(\"SELECT * FROM customer OFFSET 3 LIMIT 3 \", con)\n",
    "display(next_3_Customers.style.hide_index())"
   ]
  },
  {
   "cell_type": "markdown",
   "metadata": {},
   "source": [
    "#### Try another way to ge the same result of the previous cell\n",
    "- **Hint** : use OFFSET with FETCH FIRST"
   ]
  },
  {
   "cell_type": "code",
   "execution_count": 24,
   "metadata": {},
   "outputs": [
    {
     "name": "stderr",
     "output_type": "stream",
     "text": [
      "/var/folders/h2/plj9zcpn0bj7_bd89m_l42y80000gn/T/ipykernel_1022/1060062983.py:3: UserWarning: pandas only supports SQLAlchemy connectable (engine/connection) or database string URI or sqlite3 DBAPI2 connection. Other DBAPI2 objects are not tested. Please consider using SQLAlchemy.\n",
      "  next_3_Customers= psql.read_sql(\"\"\"SELECT id, name, email, country from customer\n",
      "/var/folders/h2/plj9zcpn0bj7_bd89m_l42y80000gn/T/ipykernel_1022/1060062983.py:6: FutureWarning: this method is deprecated in favour of `Styler.hide(axis=\"index\")`\n",
      "  display(next_3_Customers.style.hide_index())\n"
     ]
    },
    {
     "data": {
      "text/html": [
       "<style type=\"text/css\">\n",
       "</style>\n",
       "<table id=\"T_293e6\">\n",
       "  <thead>\n",
       "    <tr>\n",
       "      <th id=\"T_293e6_level0_col0\" class=\"col_heading level0 col0\" >id</th>\n",
       "      <th id=\"T_293e6_level0_col1\" class=\"col_heading level0 col1\" >name</th>\n",
       "      <th id=\"T_293e6_level0_col2\" class=\"col_heading level0 col2\" >email</th>\n",
       "      <th id=\"T_293e6_level0_col3\" class=\"col_heading level0 col3\" >country</th>\n",
       "    </tr>\n",
       "  </thead>\n",
       "  <tbody>\n",
       "    <tr>\n",
       "      <td id=\"T_293e6_row0_col0\" class=\"data row0 col0\" >4</td>\n",
       "      <td id=\"T_293e6_row0_col1\" class=\"data row0 col1\" >Jean Lime</td>\n",
       "      <td id=\"T_293e6_row0_col2\" class=\"data row0 col2\" >jeanlime@gmail.com</td>\n",
       "      <td id=\"T_293e6_row0_col3\" class=\"data row0 col3\" >Canda</td>\n",
       "    </tr>\n",
       "    <tr>\n",
       "      <td id=\"T_293e6_row1_col0\" class=\"data row1 col0\" >5</td>\n",
       "      <td id=\"T_293e6_row1_col1\" class=\"data row1 col1\" >Hassan Eldeeb</td>\n",
       "      <td id=\"T_293e6_row1_col2\" class=\"data row1 col2\" >None</td>\n",
       "      <td id=\"T_293e6_row1_col3\" class=\"data row1 col3\" >Egypt</td>\n",
       "    </tr>\n",
       "  </tbody>\n",
       "</table>\n"
      ],
      "text/plain": [
       "<pandas.io.formats.style.Styler at 0x7f88b8d4f520>"
      ]
     },
     "metadata": {},
     "output_type": "display_data"
    }
   ],
   "source": [
    "#OR you can do the same using the following Query\n",
    "# Don't RUN before you put your SQL Query\n",
    "next_3_Customers= psql.read_sql(\"\"\"SELECT id, name, email, country from customer\n",
    "    OFFSET 3\n",
    "    FETCH FIRST 3 ROWS ONLY;\"\"\", con)\n",
    "display(next_3_Customers.style.hide_index())"
   ]
  },
  {
   "cell_type": "markdown",
   "metadata": {},
   "source": [
    "## Let's have some statiscs and aggregations (SQL GROUP BY & aggregation functions)\n",
    "\n",
    "- The GROUP BY statement groups rows that have the same values into summary rows.\n",
    "- The GROUP BY statement is often used with aggregate functions (COUNT, MAX, MIN, SUM, AVG) to group the result-set by one or more columns.\n"
   ]
  },
  {
   "cell_type": "markdown",
   "metadata": {},
   "source": [
    "#### Get the count of  customers in your DB"
   ]
  },
  {
   "cell_type": "code",
   "execution_count": 25,
   "metadata": {},
   "outputs": [
    {
     "name": "stderr",
     "output_type": "stream",
     "text": [
      "/var/folders/h2/plj9zcpn0bj7_bd89m_l42y80000gn/T/ipykernel_1022/1762244910.py:2: UserWarning: pandas only supports SQLAlchemy connectable (engine/connection) or database string URI or sqlite3 DBAPI2 connection. Other DBAPI2 objects are not tested. Please consider using SQLAlchemy.\n",
      "  Customers_Cnt= psql.read_sql(\"SELECT COUNT(id) FROM customer\", con)\n",
      "/var/folders/h2/plj9zcpn0bj7_bd89m_l42y80000gn/T/ipykernel_1022/1762244910.py:3: FutureWarning: this method is deprecated in favour of `Styler.hide(axis=\"index\")`\n",
      "  display(Customers_Cnt.style.hide_index())\n"
     ]
    },
    {
     "data": {
      "text/html": [
       "<style type=\"text/css\">\n",
       "</style>\n",
       "<table id=\"T_09a7a\">\n",
       "  <thead>\n",
       "    <tr>\n",
       "      <th id=\"T_09a7a_level0_col0\" class=\"col_heading level0 col0\" >count</th>\n",
       "    </tr>\n",
       "  </thead>\n",
       "  <tbody>\n",
       "    <tr>\n",
       "      <td id=\"T_09a7a_row0_col0\" class=\"data row0 col0\" >5</td>\n",
       "    </tr>\n",
       "  </tbody>\n",
       "</table>\n"
      ],
      "text/plain": [
       "<pandas.io.formats.style.Styler at 0x7f88b8cfaee0>"
      ]
     },
     "metadata": {},
     "output_type": "display_data"
    }
   ],
   "source": [
    "# Don't RUN before you put your SQL Query\n",
    "Customers_Cnt= psql.read_sql(\"SELECT COUNT(id) FROM customer\", con)\n",
    "display(Customers_Cnt.style.hide_index())"
   ]
  },
  {
   "cell_type": "markdown",
   "metadata": {},
   "source": [
    "#### Get the Distinct Countries and how many customers are in each country"
   ]
  },
  {
   "cell_type": "code",
   "execution_count": 26,
   "metadata": {},
   "outputs": [
    {
     "name": "stderr",
     "output_type": "stream",
     "text": [
      "/var/folders/h2/plj9zcpn0bj7_bd89m_l42y80000gn/T/ipykernel_1022/3100631652.py:1: UserWarning: pandas only supports SQLAlchemy connectable (engine/connection) or database string URI or sqlite3 DBAPI2 connection. Other DBAPI2 objects are not tested. Please consider using SQLAlchemy.\n",
      "  Countries_Customers_Cnt= psql.read_sql(\"SELECT DISTINCT country , COUNT (*) FROM customer GROUP BY country\", con)\n",
      "/var/folders/h2/plj9zcpn0bj7_bd89m_l42y80000gn/T/ipykernel_1022/3100631652.py:2: FutureWarning: this method is deprecated in favour of `Styler.hide(axis=\"index\")`\n",
      "  display(Countries_Customers_Cnt.style.hide_index())\n"
     ]
    },
    {
     "data": {
      "text/html": [
       "<style type=\"text/css\">\n",
       "</style>\n",
       "<table id=\"T_79c27\">\n",
       "  <thead>\n",
       "    <tr>\n",
       "      <th id=\"T_79c27_level0_col0\" class=\"col_heading level0 col0\" >country</th>\n",
       "      <th id=\"T_79c27_level0_col1\" class=\"col_heading level0 col1\" >count</th>\n",
       "    </tr>\n",
       "  </thead>\n",
       "  <tbody>\n",
       "    <tr>\n",
       "      <td id=\"T_79c27_row0_col0\" class=\"data row0 col0\" >India</td>\n",
       "      <td id=\"T_79c27_row0_col1\" class=\"data row0 col1\" >1</td>\n",
       "    </tr>\n",
       "    <tr>\n",
       "      <td id=\"T_79c27_row1_col0\" class=\"data row1 col0\" >Canda</td>\n",
       "      <td id=\"T_79c27_row1_col1\" class=\"data row1 col1\" >1</td>\n",
       "    </tr>\n",
       "    <tr>\n",
       "      <td id=\"T_79c27_row2_col0\" class=\"data row2 col0\" >Finland</td>\n",
       "      <td id=\"T_79c27_row2_col1\" class=\"data row2 col1\" >1</td>\n",
       "    </tr>\n",
       "    <tr>\n",
       "      <td id=\"T_79c27_row3_col0\" class=\"data row3 col0\" >Egypt</td>\n",
       "      <td id=\"T_79c27_row3_col1\" class=\"data row3 col1\" >2</td>\n",
       "    </tr>\n",
       "  </tbody>\n",
       "</table>\n"
      ],
      "text/plain": [
       "<pandas.io.formats.style.Styler at 0x7f88b8d3a2b0>"
      ]
     },
     "metadata": {},
     "output_type": "display_data"
    }
   ],
   "source": [
    "Countries_Customers_Cnt= psql.read_sql(\"SELECT DISTINCT country , COUNT (*) FROM customer GROUP BY country\", con)\n",
    "display(Countries_Customers_Cnt.style.hide_index())"
   ]
  },
  {
   "cell_type": "markdown",
   "metadata": {},
   "source": [
    "#### Get the Distinct Countries and how many people are in each country, and filter the count to be greater than 1"
   ]
  },
  {
   "cell_type": "code",
   "execution_count": 27,
   "metadata": {},
   "outputs": [
    {
     "name": "stderr",
     "output_type": "stream",
     "text": [
      "/var/folders/h2/plj9zcpn0bj7_bd89m_l42y80000gn/T/ipykernel_1022/2340473539.py:2: UserWarning: pandas only supports SQLAlchemy connectable (engine/connection) or database string URI or sqlite3 DBAPI2 connection. Other DBAPI2 objects are not tested. Please consider using SQLAlchemy.\n",
      "  Countries_Customers_Cnt_gt1= psql.read_sql(\"\"\"SELECT DISTINCT country , COUNT (*)\n",
      "/var/folders/h2/plj9zcpn0bj7_bd89m_l42y80000gn/T/ipykernel_1022/2340473539.py:7: FutureWarning: this method is deprecated in favour of `Styler.hide(axis=\"index\")`\n",
      "  display(Countries_Customers_Cnt_gt1.style.hide_index())\n"
     ]
    },
    {
     "data": {
      "text/html": [
       "<style type=\"text/css\">\n",
       "</style>\n",
       "<table id=\"T_599f9\">\n",
       "  <thead>\n",
       "    <tr>\n",
       "      <th id=\"T_599f9_level0_col0\" class=\"col_heading level0 col0\" >country</th>\n",
       "      <th id=\"T_599f9_level0_col1\" class=\"col_heading level0 col1\" >count</th>\n",
       "    </tr>\n",
       "  </thead>\n",
       "  <tbody>\n",
       "    <tr>\n",
       "      <td id=\"T_599f9_row0_col0\" class=\"data row0 col0\" >Egypt</td>\n",
       "      <td id=\"T_599f9_row0_col1\" class=\"data row0 col1\" >2</td>\n",
       "    </tr>\n",
       "  </tbody>\n",
       "</table>\n"
      ],
      "text/plain": [
       "<pandas.io.formats.style.Styler at 0x7f88b8d1aee0>"
      ]
     },
     "metadata": {},
     "output_type": "display_data"
    }
   ],
   "source": [
    "### USE of HAVING with GROUP BY and Aggregation Functions\n",
    "Countries_Customers_Cnt_gt1= psql.read_sql(\"\"\"SELECT DISTINCT country , COUNT (*) \n",
    "                                          FROM customer \n",
    "                                          GROUP BY country \n",
    "                                          HAVING count(*)>1\n",
    "                                          \"\"\", con)\n",
    "display(Countries_Customers_Cnt_gt1.style.hide_index())"
   ]
  },
  {
   "cell_type": "markdown",
   "metadata": {},
   "source": [
    "##### Give an Alias for the count (change it to be Customers_number)"
   ]
  },
  {
   "cell_type": "code",
   "execution_count": 28,
   "metadata": {},
   "outputs": [
    {
     "name": "stderr",
     "output_type": "stream",
     "text": [
      "/var/folders/h2/plj9zcpn0bj7_bd89m_l42y80000gn/T/ipykernel_1022/1810256341.py:2: UserWarning: pandas only supports SQLAlchemy connectable (engine/connection) or database string URI or sqlite3 DBAPI2 connection. Other DBAPI2 objects are not tested. Please consider using SQLAlchemy.\n",
      "  Countries_Customers_Cnt_gt1= psql.read_sql(\"\"\"SELECT DISTINCT country , COUNT (*) as Customers_number\n",
      "/var/folders/h2/plj9zcpn0bj7_bd89m_l42y80000gn/T/ipykernel_1022/1810256341.py:6: FutureWarning: this method is deprecated in favour of `Styler.hide(axis=\"index\")`\n",
      "  display(Countries_Customers_Cnt_gt1.style.hide_index())\n"
     ]
    },
    {
     "data": {
      "text/html": [
       "<style type=\"text/css\">\n",
       "</style>\n",
       "<table id=\"T_d85f1\">\n",
       "  <thead>\n",
       "    <tr>\n",
       "      <th id=\"T_d85f1_level0_col0\" class=\"col_heading level0 col0\" >country</th>\n",
       "      <th id=\"T_d85f1_level0_col1\" class=\"col_heading level0 col1\" >customers_number</th>\n",
       "    </tr>\n",
       "  </thead>\n",
       "  <tbody>\n",
       "    <tr>\n",
       "      <td id=\"T_d85f1_row0_col0\" class=\"data row0 col0\" >Egypt</td>\n",
       "      <td id=\"T_d85f1_row0_col1\" class=\"data row0 col1\" >2</td>\n",
       "    </tr>\n",
       "  </tbody>\n",
       "</table>\n"
      ],
      "text/plain": [
       "<pandas.io.formats.style.Styler at 0x7f88b8d08a00>"
      ]
     },
     "metadata": {},
     "output_type": "display_data"
    }
   ],
   "source": [
    "# Don't RUN before you put your SQL Query\n",
    "Countries_Customers_Cnt_gt1= psql.read_sql(\"\"\"SELECT DISTINCT country , COUNT (*) as Customers_number\n",
    "                                          FROM customer \n",
    "                                          GROUP BY country \n",
    "                                          HAVING count(*)>1\"\"\", con)\n",
    "display(Countries_Customers_Cnt_gt1.style.hide_index())"
   ]
  },
  {
   "cell_type": "markdown",
   "metadata": {},
   "source": [
    "##### We're going to leave link here for more details about the other aggregate functions such as (MIN, MAX, SUM,...)\n",
    "PostgreSQL Aggregates: https://www.postgresql.org/docs/9.5/functions-aggregate.html"
   ]
  },
  {
   "cell_type": "markdown",
   "metadata": {},
   "source": [
    "### Let's Create the Second Table (Order)\n",
    "- ***Reminder: One-to-many*** relationship is handled as follows : Use a foreign key on the many side of the relationship linking back to the \"one\" side.\n",
    "- ***Note:*** Order is a reserved keyword in SQL, It's not recommended to use such keywords, but if you want to do so, we can use double quoutes \"\" arrount those keywords."
   ]
  },
  {
   "cell_type": "code",
   "execution_count": 29,
   "metadata": {},
   "outputs": [
    {
     "name": "stdout",
     "output_type": "stream",
     "text": [
      "Table (order) created successfully in PostgreSQL \n"
     ]
    }
   ],
   "source": [
    "#Create Order Table\n",
    "\n",
    "try:\n",
    "    ordersTable=\"order\"\n",
    "    create_ordersTable_query = '''CREATE TABLE \"'''+ ordersTable+'''\" \n",
    "              (id INT  PRIMARY KEY,\n",
    "               customer_id  INT  REFERENCES customer(id),\n",
    "               product      TEXT    NOT NULL\n",
    "               ); '''\n",
    "\n",
    "    \n",
    "    #Execute this command (SQL Query)\n",
    "    cursor.execute(create_ordersTable_query)\n",
    "    con.commit()\n",
    "    print(\"Table (\"+ ordersTable +\") created successfully in PostgreSQL \")\n",
    "except:\n",
    "    con.rollback()\n",
    "    print(\"Table (\"+ ordersTable +\") already Existed! \")"
   ]
  },
  {
   "cell_type": "markdown",
   "metadata": {},
   "source": [
    "#### Can we create this table (Order) before the (customer) table? (YES/NO, and Why)?!"
   ]
  },
  {
   "cell_type": "markdown",
   "metadata": {},
   "source": [
    "<font color='red'>***Answer:***</font>\n",
    "<font color='red'>No, because the table Order need Customer id from the table Customer</font>"
   ]
  },
  {
   "cell_type": "markdown",
   "metadata": {},
   "source": [
    "#### Insert Some Data into the (Order) Table"
   ]
  },
  {
   "cell_type": "code",
   "execution_count": 30,
   "metadata": {},
   "outputs": [
    {
     "name": "stdout",
     "output_type": "stream",
     "text": [
      "6 Record inserted successfully into customers table\n"
     ]
    }
   ],
   "source": [
    "sql_insert_orders = '''INSERT INTO \"order\" (id,customer_id,product) VALUES(%s,%s,%s)'''\n",
    "\n",
    "#list of customers\n",
    "orders_List=[\n",
    "        (1,1, \"Coffee - Irish Cream\"),\n",
    "        (2,1, \"Sauce - Demi Glace\"),\n",
    "        (3,2,\"Corn Meal\"),\n",
    "        (4,1,\"Cumin - Whole\"),\n",
    "        (5,3,\"Chocolate - Sugar Free Semi Choc\"),\n",
    "        (6,4,\"Rolled Oats\")]\n",
    "try:\n",
    "    # execute the INSERT statement\n",
    "    cursor.executemany(sql_insert_orders,orders_List)\n",
    "    # commit the changes to the database\n",
    "    con.commit()\n",
    "\n",
    "except (Exception, psycopg2.Error) as error :\n",
    "    con.rollback()\n",
    "    print (\"Error while exccuting the query at PostgreSQL\",error)\n",
    "    \n",
    "finally:\n",
    "    \n",
    "    count = cursor.rowcount\n",
    "    print (count, \"Record inserted successfully into customers table\")"
   ]
  },
  {
   "cell_type": "markdown",
   "metadata": {},
   "source": [
    "## Bring Data from multiple Tables (SQL JOINS)"
   ]
  },
  {
   "cell_type": "markdown",
   "metadata": {},
   "source": [
    "#### What are SQL Joins?\n",
    "\n",
    "An SQL JOIN clause combines rows from two or more tables. It creates a set of rows in a temporary table. "
   ]
  },
  {
   "cell_type": "markdown",
   "metadata": {},
   "source": [
    "#### How to Join two tables in SQL?\n",
    "- A JOIN works on two or more tables if they have at least one common field and have a relationship between them.\n",
    "\n",
    "- JOIN keeps the base tables (structure and data) unchanged."
   ]
  },
  {
   "cell_type": "markdown",
   "metadata": {},
   "source": [
    "#### Looking only at \"order\" Table, we don't know names (or any further details of the csuomers)\n",
    "- Here'is the role of JOINS Comes to the Scene :) "
   ]
  },
  {
   "cell_type": "code",
   "execution_count": 31,
   "metadata": {},
   "outputs": [
    {
     "name": "stderr",
     "output_type": "stream",
     "text": [
      "/var/folders/h2/plj9zcpn0bj7_bd89m_l42y80000gn/T/ipykernel_1022/3586515401.py:1: UserWarning: pandas only supports SQLAlchemy connectable (engine/connection) or database string URI or sqlite3 DBAPI2 connection. Other DBAPI2 objects are not tested. Please consider using SQLAlchemy.\n",
      "  orders= psql.read_sql('''SELECT * FROM \"order\" ''', con)\n",
      "/var/folders/h2/plj9zcpn0bj7_bd89m_l42y80000gn/T/ipykernel_1022/3586515401.py:2: FutureWarning: this method is deprecated in favour of `Styler.hide(axis=\"index\")`\n",
      "  display(orders.style.hide_index())\n"
     ]
    },
    {
     "data": {
      "text/html": [
       "<style type=\"text/css\">\n",
       "</style>\n",
       "<table id=\"T_57dbd\">\n",
       "  <thead>\n",
       "    <tr>\n",
       "      <th id=\"T_57dbd_level0_col0\" class=\"col_heading level0 col0\" >id</th>\n",
       "      <th id=\"T_57dbd_level0_col1\" class=\"col_heading level0 col1\" >customer_id</th>\n",
       "      <th id=\"T_57dbd_level0_col2\" class=\"col_heading level0 col2\" >product</th>\n",
       "    </tr>\n",
       "  </thead>\n",
       "  <tbody>\n",
       "    <tr>\n",
       "      <td id=\"T_57dbd_row0_col0\" class=\"data row0 col0\" >1</td>\n",
       "      <td id=\"T_57dbd_row0_col1\" class=\"data row0 col1\" >1</td>\n",
       "      <td id=\"T_57dbd_row0_col2\" class=\"data row0 col2\" >Coffee - Irish Cream</td>\n",
       "    </tr>\n",
       "    <tr>\n",
       "      <td id=\"T_57dbd_row1_col0\" class=\"data row1 col0\" >2</td>\n",
       "      <td id=\"T_57dbd_row1_col1\" class=\"data row1 col1\" >1</td>\n",
       "      <td id=\"T_57dbd_row1_col2\" class=\"data row1 col2\" >Sauce - Demi Glace</td>\n",
       "    </tr>\n",
       "    <tr>\n",
       "      <td id=\"T_57dbd_row2_col0\" class=\"data row2 col0\" >3</td>\n",
       "      <td id=\"T_57dbd_row2_col1\" class=\"data row2 col1\" >2</td>\n",
       "      <td id=\"T_57dbd_row2_col2\" class=\"data row2 col2\" >Corn Meal</td>\n",
       "    </tr>\n",
       "    <tr>\n",
       "      <td id=\"T_57dbd_row3_col0\" class=\"data row3 col0\" >4</td>\n",
       "      <td id=\"T_57dbd_row3_col1\" class=\"data row3 col1\" >1</td>\n",
       "      <td id=\"T_57dbd_row3_col2\" class=\"data row3 col2\" >Cumin - Whole</td>\n",
       "    </tr>\n",
       "    <tr>\n",
       "      <td id=\"T_57dbd_row4_col0\" class=\"data row4 col0\" >5</td>\n",
       "      <td id=\"T_57dbd_row4_col1\" class=\"data row4 col1\" >3</td>\n",
       "      <td id=\"T_57dbd_row4_col2\" class=\"data row4 col2\" >Chocolate - Sugar Free Semi Choc</td>\n",
       "    </tr>\n",
       "    <tr>\n",
       "      <td id=\"T_57dbd_row5_col0\" class=\"data row5 col0\" >6</td>\n",
       "      <td id=\"T_57dbd_row5_col1\" class=\"data row5 col1\" >4</td>\n",
       "      <td id=\"T_57dbd_row5_col2\" class=\"data row5 col2\" >Rolled Oats</td>\n",
       "    </tr>\n",
       "  </tbody>\n",
       "</table>\n"
      ],
      "text/plain": [
       "<pandas.io.formats.style.Styler at 0x7f88b8d170d0>"
      ]
     },
     "metadata": {},
     "output_type": "display_data"
    }
   ],
   "source": [
    "orders= psql.read_sql('''SELECT * FROM \"order\" ''', con)\n",
    "display(orders.style.hide_index())"
   ]
  },
  {
   "cell_type": "markdown",
   "metadata": {},
   "source": [
    "#### INNER JOIN\n",
    "\n",
    "- The SQL INNER JOIN is similar to the Set intersection.\n",
    "- INNER JOIN selects rows from table1 and table2 where they match the selecting column.\n"
   ]
  },
  {
   "cell_type": "code",
   "execution_count": 32,
   "metadata": {},
   "outputs": [
    {
     "name": "stderr",
     "output_type": "stream",
     "text": [
      "/var/folders/h2/plj9zcpn0bj7_bd89m_l42y80000gn/T/ipykernel_1022/3532695662.py:1: UserWarning: pandas only supports SQLAlchemy connectable (engine/connection) or database string URI or sqlite3 DBAPI2 connection. Other DBAPI2 objects are not tested. Please consider using SQLAlchemy.\n",
      "  innerJoined= psql.read_sql(\"\"\"SELECT * FROM customer\n"
     ]
    },
    {
     "data": {
      "text/html": [
       "<div>\n",
       "<style scoped>\n",
       "    .dataframe tbody tr th:only-of-type {\n",
       "        vertical-align: middle;\n",
       "    }\n",
       "\n",
       "    .dataframe tbody tr th {\n",
       "        vertical-align: top;\n",
       "    }\n",
       "\n",
       "    .dataframe thead th {\n",
       "        text-align: right;\n",
       "    }\n",
       "</style>\n",
       "<table border=\"1\" class=\"dataframe\">\n",
       "  <thead>\n",
       "    <tr style=\"text-align: right;\">\n",
       "      <th></th>\n",
       "      <th>id</th>\n",
       "      <th>name</th>\n",
       "      <th>country</th>\n",
       "      <th>email</th>\n",
       "      <th>id</th>\n",
       "      <th>customer_id</th>\n",
       "      <th>product</th>\n",
       "    </tr>\n",
       "  </thead>\n",
       "  <tbody>\n",
       "    <tr>\n",
       "      <th>0</th>\n",
       "      <td>1</td>\n",
       "      <td>Mohamed Ragab</td>\n",
       "      <td>Egypt</td>\n",
       "      <td>mohamed.ragb@ut.ee</td>\n",
       "      <td>1</td>\n",
       "      <td>1</td>\n",
       "      <td>Coffee - Irish Cream</td>\n",
       "    </tr>\n",
       "    <tr>\n",
       "      <th>1</th>\n",
       "      <td>1</td>\n",
       "      <td>Mohamed Ragab</td>\n",
       "      <td>Egypt</td>\n",
       "      <td>mohamed.ragb@ut.ee</td>\n",
       "      <td>2</td>\n",
       "      <td>1</td>\n",
       "      <td>Sauce - Demi Glace</td>\n",
       "    </tr>\n",
       "    <tr>\n",
       "      <th>2</th>\n",
       "      <td>1</td>\n",
       "      <td>Mohamed Ragab</td>\n",
       "      <td>Egypt</td>\n",
       "      <td>mohamed.ragb@ut.ee</td>\n",
       "      <td>4</td>\n",
       "      <td>1</td>\n",
       "      <td>Cumin - Whole</td>\n",
       "    </tr>\n",
       "    <tr>\n",
       "      <th>3</th>\n",
       "      <td>2</td>\n",
       "      <td>John Smith</td>\n",
       "      <td>Finland</td>\n",
       "      <td>j.smith@hotmail.com</td>\n",
       "      <td>3</td>\n",
       "      <td>2</td>\n",
       "      <td>Corn Meal</td>\n",
       "    </tr>\n",
       "    <tr>\n",
       "      <th>4</th>\n",
       "      <td>4</td>\n",
       "      <td>Jean Lime</td>\n",
       "      <td>Canda</td>\n",
       "      <td>jeanlime@gmail.com</td>\n",
       "      <td>6</td>\n",
       "      <td>4</td>\n",
       "      <td>Rolled Oats</td>\n",
       "    </tr>\n",
       "    <tr>\n",
       "      <th>5</th>\n",
       "      <td>3</td>\n",
       "      <td>Aisha Kareem</td>\n",
       "      <td>India</td>\n",
       "      <td>None</td>\n",
       "      <td>5</td>\n",
       "      <td>3</td>\n",
       "      <td>Chocolate - Sugar Free Semi Choc</td>\n",
       "    </tr>\n",
       "  </tbody>\n",
       "</table>\n",
       "</div>"
      ],
      "text/plain": [
       "   id           name  country                email  id  customer_id  \\\n",
       "0   1  Mohamed Ragab    Egypt   mohamed.ragb@ut.ee   1            1   \n",
       "1   1  Mohamed Ragab    Egypt   mohamed.ragb@ut.ee   2            1   \n",
       "2   1  Mohamed Ragab    Egypt   mohamed.ragb@ut.ee   4            1   \n",
       "3   2     John Smith  Finland  j.smith@hotmail.com   3            2   \n",
       "4   4      Jean Lime    Canda   jeanlime@gmail.com   6            4   \n",
       "5   3   Aisha Kareem    India                 None   5            3   \n",
       "\n",
       "                            product  \n",
       "0              Coffee - Irish Cream  \n",
       "1                Sauce - Demi Glace  \n",
       "2                     Cumin - Whole  \n",
       "3                         Corn Meal  \n",
       "4                       Rolled Oats  \n",
       "5  Chocolate - Sugar Free Semi Choc  "
      ]
     },
     "metadata": {},
     "output_type": "display_data"
    }
   ],
   "source": [
    "innerJoined= psql.read_sql(\"\"\"SELECT * FROM customer \n",
    "                              INNER JOIN  \"order\" \n",
    "                              ON customer.id = \"order\".customer_id\n",
    "                              ORDER BY name DESC\n",
    "                      \"\"\", con)\n",
    "display(innerJoined)"
   ]
  },
  {
   "cell_type": "markdown",
   "metadata": {},
   "source": [
    "#### If it's Confusing Just show the name and the product"
   ]
  },
  {
   "cell_type": "code",
   "execution_count": 33,
   "metadata": {},
   "outputs": [
    {
     "name": "stderr",
     "output_type": "stream",
     "text": [
      "/var/folders/h2/plj9zcpn0bj7_bd89m_l42y80000gn/T/ipykernel_1022/455986441.py:1: UserWarning: pandas only supports SQLAlchemy connectable (engine/connection) or database string URI or sqlite3 DBAPI2 connection. Other DBAPI2 objects are not tested. Please consider using SQLAlchemy.\n",
      "  innerJoined= psql.read_sql(\"\"\"SELECT name, product FROM customer\n"
     ]
    },
    {
     "data": {
      "text/html": [
       "<div>\n",
       "<style scoped>\n",
       "    .dataframe tbody tr th:only-of-type {\n",
       "        vertical-align: middle;\n",
       "    }\n",
       "\n",
       "    .dataframe tbody tr th {\n",
       "        vertical-align: top;\n",
       "    }\n",
       "\n",
       "    .dataframe thead th {\n",
       "        text-align: right;\n",
       "    }\n",
       "</style>\n",
       "<table border=\"1\" class=\"dataframe\">\n",
       "  <thead>\n",
       "    <tr style=\"text-align: right;\">\n",
       "      <th></th>\n",
       "      <th>name</th>\n",
       "      <th>product</th>\n",
       "    </tr>\n",
       "  </thead>\n",
       "  <tbody>\n",
       "    <tr>\n",
       "      <th>0</th>\n",
       "      <td>Mohamed Ragab</td>\n",
       "      <td>Coffee - Irish Cream</td>\n",
       "    </tr>\n",
       "    <tr>\n",
       "      <th>1</th>\n",
       "      <td>Mohamed Ragab</td>\n",
       "      <td>Sauce - Demi Glace</td>\n",
       "    </tr>\n",
       "    <tr>\n",
       "      <th>2</th>\n",
       "      <td>Mohamed Ragab</td>\n",
       "      <td>Cumin - Whole</td>\n",
       "    </tr>\n",
       "    <tr>\n",
       "      <th>3</th>\n",
       "      <td>John Smith</td>\n",
       "      <td>Corn Meal</td>\n",
       "    </tr>\n",
       "    <tr>\n",
       "      <th>4</th>\n",
       "      <td>Jean Lime</td>\n",
       "      <td>Rolled Oats</td>\n",
       "    </tr>\n",
       "    <tr>\n",
       "      <th>5</th>\n",
       "      <td>Aisha Kareem</td>\n",
       "      <td>Chocolate - Sugar Free Semi Choc</td>\n",
       "    </tr>\n",
       "  </tbody>\n",
       "</table>\n",
       "</div>"
      ],
      "text/plain": [
       "            name                           product\n",
       "0  Mohamed Ragab              Coffee - Irish Cream\n",
       "1  Mohamed Ragab                Sauce - Demi Glace\n",
       "2  Mohamed Ragab                     Cumin - Whole\n",
       "3     John Smith                         Corn Meal\n",
       "4      Jean Lime                       Rolled Oats\n",
       "5   Aisha Kareem  Chocolate - Sugar Free Semi Choc"
      ]
     },
     "metadata": {},
     "output_type": "display_data"
    }
   ],
   "source": [
    "innerJoined= psql.read_sql(\"\"\"SELECT name, product FROM customer \n",
    "                              INNER JOIN  \"order\" \n",
    "                              ON customer.id = \"order\".customer_id\n",
    "                              ORDER BY name DESC\"\"\", con)\n",
    "display(innerJoined)"
   ]
  },
  {
   "cell_type": "markdown",
   "metadata": {},
   "source": [
    "###  LEFT JOIN\n",
    "\n",
    "- This selects all rows from the table1 ( on the left), the rows from the  table2 (on the right) if they match.\n",
    "- If they don’t match, the data for the right table is blank (NULLS)."
   ]
  },
  {
   "cell_type": "markdown",
   "metadata": {},
   "source": [
    "#### Get all the customers with Orders details, even get customers who don't made orderes \n",
    "- Other way to say! Get all the customers, and Products , and if the customer didn't order product the product will be blank"
   ]
  },
  {
   "cell_type": "code",
   "execution_count": 34,
   "metadata": {},
   "outputs": [
    {
     "name": "stderr",
     "output_type": "stream",
     "text": [
      "/var/folders/h2/plj9zcpn0bj7_bd89m_l42y80000gn/T/ipykernel_1022/3911676406.py:1: UserWarning: pandas only supports SQLAlchemy connectable (engine/connection) or database string URI or sqlite3 DBAPI2 connection. Other DBAPI2 objects are not tested. Please consider using SQLAlchemy.\n",
      "  leftJoined= psql.read_sql(\"\"\"SELECT *  FROM customer\n"
     ]
    },
    {
     "data": {
      "text/html": [
       "<div>\n",
       "<style scoped>\n",
       "    .dataframe tbody tr th:only-of-type {\n",
       "        vertical-align: middle;\n",
       "    }\n",
       "\n",
       "    .dataframe tbody tr th {\n",
       "        vertical-align: top;\n",
       "    }\n",
       "\n",
       "    .dataframe thead th {\n",
       "        text-align: right;\n",
       "    }\n",
       "</style>\n",
       "<table border=\"1\" class=\"dataframe\">\n",
       "  <thead>\n",
       "    <tr style=\"text-align: right;\">\n",
       "      <th></th>\n",
       "      <th>id</th>\n",
       "      <th>name</th>\n",
       "      <th>country</th>\n",
       "      <th>email</th>\n",
       "      <th>id</th>\n",
       "      <th>customer_id</th>\n",
       "      <th>product</th>\n",
       "    </tr>\n",
       "  </thead>\n",
       "  <tbody>\n",
       "    <tr>\n",
       "      <th>0</th>\n",
       "      <td>1</td>\n",
       "      <td>Mohamed Ragab</td>\n",
       "      <td>Egypt</td>\n",
       "      <td>mohamed.ragb@ut.ee</td>\n",
       "      <td>4.0</td>\n",
       "      <td>1.0</td>\n",
       "      <td>Cumin - Whole</td>\n",
       "    </tr>\n",
       "    <tr>\n",
       "      <th>1</th>\n",
       "      <td>1</td>\n",
       "      <td>Mohamed Ragab</td>\n",
       "      <td>Egypt</td>\n",
       "      <td>mohamed.ragb@ut.ee</td>\n",
       "      <td>2.0</td>\n",
       "      <td>1.0</td>\n",
       "      <td>Sauce - Demi Glace</td>\n",
       "    </tr>\n",
       "    <tr>\n",
       "      <th>2</th>\n",
       "      <td>1</td>\n",
       "      <td>Mohamed Ragab</td>\n",
       "      <td>Egypt</td>\n",
       "      <td>mohamed.ragb@ut.ee</td>\n",
       "      <td>1.0</td>\n",
       "      <td>1.0</td>\n",
       "      <td>Coffee - Irish Cream</td>\n",
       "    </tr>\n",
       "    <tr>\n",
       "      <th>3</th>\n",
       "      <td>2</td>\n",
       "      <td>John Smith</td>\n",
       "      <td>Finland</td>\n",
       "      <td>j.smith@hotmail.com</td>\n",
       "      <td>3.0</td>\n",
       "      <td>2.0</td>\n",
       "      <td>Corn Meal</td>\n",
       "    </tr>\n",
       "    <tr>\n",
       "      <th>4</th>\n",
       "      <td>4</td>\n",
       "      <td>Jean Lime</td>\n",
       "      <td>Canda</td>\n",
       "      <td>jeanlime@gmail.com</td>\n",
       "      <td>6.0</td>\n",
       "      <td>4.0</td>\n",
       "      <td>Rolled Oats</td>\n",
       "    </tr>\n",
       "    <tr>\n",
       "      <th>5</th>\n",
       "      <td>5</td>\n",
       "      <td>Hassan Eldeeb</td>\n",
       "      <td>Egypt</td>\n",
       "      <td>None</td>\n",
       "      <td>NaN</td>\n",
       "      <td>NaN</td>\n",
       "      <td>None</td>\n",
       "    </tr>\n",
       "    <tr>\n",
       "      <th>6</th>\n",
       "      <td>3</td>\n",
       "      <td>Aisha Kareem</td>\n",
       "      <td>India</td>\n",
       "      <td>None</td>\n",
       "      <td>5.0</td>\n",
       "      <td>3.0</td>\n",
       "      <td>Chocolate - Sugar Free Semi Choc</td>\n",
       "    </tr>\n",
       "  </tbody>\n",
       "</table>\n",
       "</div>"
      ],
      "text/plain": [
       "   id           name  country                email   id  customer_id  \\\n",
       "0   1  Mohamed Ragab    Egypt   mohamed.ragb@ut.ee  4.0          1.0   \n",
       "1   1  Mohamed Ragab    Egypt   mohamed.ragb@ut.ee  2.0          1.0   \n",
       "2   1  Mohamed Ragab    Egypt   mohamed.ragb@ut.ee  1.0          1.0   \n",
       "3   2     John Smith  Finland  j.smith@hotmail.com  3.0          2.0   \n",
       "4   4      Jean Lime    Canda   jeanlime@gmail.com  6.0          4.0   \n",
       "5   5  Hassan Eldeeb    Egypt                 None  NaN          NaN   \n",
       "6   3   Aisha Kareem    India                 None  5.0          3.0   \n",
       "\n",
       "                            product  \n",
       "0                     Cumin - Whole  \n",
       "1                Sauce - Demi Glace  \n",
       "2              Coffee - Irish Cream  \n",
       "3                         Corn Meal  \n",
       "4                       Rolled Oats  \n",
       "5                              None  \n",
       "6  Chocolate - Sugar Free Semi Choc  "
      ]
     },
     "metadata": {},
     "output_type": "display_data"
    }
   ],
   "source": [
    "leftJoined= psql.read_sql(\"\"\"SELECT *  FROM customer \n",
    "                        LEFT JOIN  \"order\" \n",
    "                        ON customer.id = \"order\".customer_id\n",
    "                        ORDER BY name DESC\n",
    "                      \"\"\", con)\n",
    "display(leftJoined)"
   ]
  },
  {
   "cell_type": "markdown",
   "metadata": {},
   "source": [
    "#### perform the same query but projecting on customer_name and the products "
   ]
  },
  {
   "cell_type": "code",
   "execution_count": 35,
   "metadata": {},
   "outputs": [
    {
     "name": "stderr",
     "output_type": "stream",
     "text": [
      "/var/folders/h2/plj9zcpn0bj7_bd89m_l42y80000gn/T/ipykernel_1022/3216013988.py:2: UserWarning: pandas only supports SQLAlchemy connectable (engine/connection) or database string URI or sqlite3 DBAPI2 connection. Other DBAPI2 objects are not tested. Please consider using SQLAlchemy.\n",
      "  leftJoined= psql.read_sql(\"\"\"SELECT name, product FROM customer\n"
     ]
    },
    {
     "data": {
      "text/html": [
       "<div>\n",
       "<style scoped>\n",
       "    .dataframe tbody tr th:only-of-type {\n",
       "        vertical-align: middle;\n",
       "    }\n",
       "\n",
       "    .dataframe tbody tr th {\n",
       "        vertical-align: top;\n",
       "    }\n",
       "\n",
       "    .dataframe thead th {\n",
       "        text-align: right;\n",
       "    }\n",
       "</style>\n",
       "<table border=\"1\" class=\"dataframe\">\n",
       "  <thead>\n",
       "    <tr style=\"text-align: right;\">\n",
       "      <th></th>\n",
       "      <th>name</th>\n",
       "      <th>product</th>\n",
       "    </tr>\n",
       "  </thead>\n",
       "  <tbody>\n",
       "    <tr>\n",
       "      <th>0</th>\n",
       "      <td>Mohamed Ragab</td>\n",
       "      <td>Cumin - Whole</td>\n",
       "    </tr>\n",
       "    <tr>\n",
       "      <th>1</th>\n",
       "      <td>Mohamed Ragab</td>\n",
       "      <td>Sauce - Demi Glace</td>\n",
       "    </tr>\n",
       "    <tr>\n",
       "      <th>2</th>\n",
       "      <td>Mohamed Ragab</td>\n",
       "      <td>Coffee - Irish Cream</td>\n",
       "    </tr>\n",
       "    <tr>\n",
       "      <th>3</th>\n",
       "      <td>John Smith</td>\n",
       "      <td>Corn Meal</td>\n",
       "    </tr>\n",
       "    <tr>\n",
       "      <th>4</th>\n",
       "      <td>Jean Lime</td>\n",
       "      <td>Rolled Oats</td>\n",
       "    </tr>\n",
       "    <tr>\n",
       "      <th>5</th>\n",
       "      <td>Hassan Eldeeb</td>\n",
       "      <td>None</td>\n",
       "    </tr>\n",
       "    <tr>\n",
       "      <th>6</th>\n",
       "      <td>Aisha Kareem</td>\n",
       "      <td>Chocolate - Sugar Free Semi Choc</td>\n",
       "    </tr>\n",
       "  </tbody>\n",
       "</table>\n",
       "</div>"
      ],
      "text/plain": [
       "            name                           product\n",
       "0  Mohamed Ragab                     Cumin - Whole\n",
       "1  Mohamed Ragab                Sauce - Demi Glace\n",
       "2  Mohamed Ragab              Coffee - Irish Cream\n",
       "3     John Smith                         Corn Meal\n",
       "4      Jean Lime                       Rolled Oats\n",
       "5  Hassan Eldeeb                              None\n",
       "6   Aisha Kareem  Chocolate - Sugar Free Semi Choc"
      ]
     },
     "metadata": {},
     "output_type": "display_data"
    }
   ],
   "source": [
    "#the same query but projecting on customer_name  and the products \n",
    "leftJoined= psql.read_sql(\"\"\"SELECT name, product FROM customer \n",
    "                        LEFT JOIN  \"order\" \n",
    "                        ON customer.id = \"order\".customer_id\n",
    "                        ORDER BY name DESC\n",
    "                      \"\"\", con)\n",
    "display(leftJoined)"
   ]
  },
  {
   "cell_type": "markdown",
   "metadata": {},
   "source": [
    "### RIGHT JOIN\n",
    "- Opposite to LEFT JOIN\n",
    "- This selects all the rows from the table on the right, and then rows from the left if they match.\n",
    "- If they don’t match, the data for the table on the left is blank (NULLS).\n"
   ]
  },
  {
   "cell_type": "markdown",
   "metadata": {},
   "source": [
    "##### Now, we insert one product that doen't have customer to buy (don't make alot of sense, but just for the example!!)"
   ]
  },
  {
   "cell_type": "code",
   "execution_count": 36,
   "metadata": {},
   "outputs": [
    {
     "name": "stdout",
     "output_type": "stream",
     "text": [
      "1 Record inserted successfully into person table\n"
     ]
    }
   ],
   "source": [
    "postgres_insert_query = \"\"\" INSERT INTO \"order\" (id,customer_id,product) VALUES (%s,%s,%s)\"\"\"\n",
    "record_to_insert = (7,None,'Dark Choclate')\n",
    "\n",
    "try:\n",
    "    cursor.execute(postgres_insert_query, record_to_insert)\n",
    "    con.commit()\n",
    "except (Exception, psycopg2.Error) as error :\n",
    "    con.rollback()\n",
    "    print(\"ERROR\",error)\n",
    "    \n",
    "count = cursor.rowcount\n",
    "print (count, \"Record inserted successfully into person table\")"
   ]
  },
  {
   "cell_type": "markdown",
   "metadata": {},
   "source": [
    "#### Perform the same query but projecting on customer_name and the products "
   ]
  },
  {
   "cell_type": "code",
   "execution_count": 37,
   "metadata": {},
   "outputs": [
    {
     "name": "stderr",
     "output_type": "stream",
     "text": [
      "/var/folders/h2/plj9zcpn0bj7_bd89m_l42y80000gn/T/ipykernel_1022/809818566.py:1: UserWarning: pandas only supports SQLAlchemy connectable (engine/connection) or database string URI or sqlite3 DBAPI2 connection. Other DBAPI2 objects are not tested. Please consider using SQLAlchemy.\n",
      "  RightJoined= psql.read_sql(\"\"\"SELECT name, product FROM customer\n"
     ]
    },
    {
     "data": {
      "text/html": [
       "<div>\n",
       "<style scoped>\n",
       "    .dataframe tbody tr th:only-of-type {\n",
       "        vertical-align: middle;\n",
       "    }\n",
       "\n",
       "    .dataframe tbody tr th {\n",
       "        vertical-align: top;\n",
       "    }\n",
       "\n",
       "    .dataframe thead th {\n",
       "        text-align: right;\n",
       "    }\n",
       "</style>\n",
       "<table border=\"1\" class=\"dataframe\">\n",
       "  <thead>\n",
       "    <tr style=\"text-align: right;\">\n",
       "      <th></th>\n",
       "      <th>name</th>\n",
       "      <th>product</th>\n",
       "    </tr>\n",
       "  </thead>\n",
       "  <tbody>\n",
       "    <tr>\n",
       "      <th>0</th>\n",
       "      <td>None</td>\n",
       "      <td>Dark Choclate</td>\n",
       "    </tr>\n",
       "    <tr>\n",
       "      <th>1</th>\n",
       "      <td>Mohamed Ragab</td>\n",
       "      <td>Sauce - Demi Glace</td>\n",
       "    </tr>\n",
       "    <tr>\n",
       "      <th>2</th>\n",
       "      <td>Mohamed Ragab</td>\n",
       "      <td>Coffee - Irish Cream</td>\n",
       "    </tr>\n",
       "    <tr>\n",
       "      <th>3</th>\n",
       "      <td>Mohamed Ragab</td>\n",
       "      <td>Cumin - Whole</td>\n",
       "    </tr>\n",
       "    <tr>\n",
       "      <th>4</th>\n",
       "      <td>John Smith</td>\n",
       "      <td>Corn Meal</td>\n",
       "    </tr>\n",
       "    <tr>\n",
       "      <th>5</th>\n",
       "      <td>Jean Lime</td>\n",
       "      <td>Rolled Oats</td>\n",
       "    </tr>\n",
       "    <tr>\n",
       "      <th>6</th>\n",
       "      <td>Aisha Kareem</td>\n",
       "      <td>Chocolate - Sugar Free Semi Choc</td>\n",
       "    </tr>\n",
       "  </tbody>\n",
       "</table>\n",
       "</div>"
      ],
      "text/plain": [
       "            name                           product\n",
       "0           None                     Dark Choclate\n",
       "1  Mohamed Ragab                Sauce - Demi Glace\n",
       "2  Mohamed Ragab              Coffee - Irish Cream\n",
       "3  Mohamed Ragab                     Cumin - Whole\n",
       "4     John Smith                         Corn Meal\n",
       "5      Jean Lime                       Rolled Oats\n",
       "6   Aisha Kareem  Chocolate - Sugar Free Semi Choc"
      ]
     },
     "metadata": {},
     "output_type": "display_data"
    }
   ],
   "source": [
    "RightJoined= psql.read_sql(\"\"\"SELECT name, product FROM customer \n",
    "                        RIGHT JOIN  \"order\" \n",
    "                        ON customer.id = \"order\".customer_id\n",
    "                        ORDER BY name DESC\n",
    "                      \"\"\", con)\n",
    "display(RightJoined)"
   ]
  },
  {
   "cell_type": "markdown",
   "metadata": {},
   "source": [
    "### FULL JOIN\n",
    "- This selects all rows from both tables, matching them if there is a match on the selecting column.\n",
    "\n",
    "- Think of it as a LEFT and a RIGHT join.\n"
   ]
  },
  {
   "cell_type": "code",
   "execution_count": 38,
   "metadata": {},
   "outputs": [
    {
     "name": "stderr",
     "output_type": "stream",
     "text": [
      "/var/folders/h2/plj9zcpn0bj7_bd89m_l42y80000gn/T/ipykernel_1022/1199576038.py:1: UserWarning: pandas only supports SQLAlchemy connectable (engine/connection) or database string URI or sqlite3 DBAPI2 connection. Other DBAPI2 objects are not tested. Please consider using SQLAlchemy.\n",
      "  fullJoined= psql.read_sql(\"\"\"SELECT name, product FROM customer\n"
     ]
    },
    {
     "data": {
      "text/html": [
       "<div>\n",
       "<style scoped>\n",
       "    .dataframe tbody tr th:only-of-type {\n",
       "        vertical-align: middle;\n",
       "    }\n",
       "\n",
       "    .dataframe tbody tr th {\n",
       "        vertical-align: top;\n",
       "    }\n",
       "\n",
       "    .dataframe thead th {\n",
       "        text-align: right;\n",
       "    }\n",
       "</style>\n",
       "<table border=\"1\" class=\"dataframe\">\n",
       "  <thead>\n",
       "    <tr style=\"text-align: right;\">\n",
       "      <th></th>\n",
       "      <th>name</th>\n",
       "      <th>product</th>\n",
       "    </tr>\n",
       "  </thead>\n",
       "  <tbody>\n",
       "    <tr>\n",
       "      <th>0</th>\n",
       "      <td>None</td>\n",
       "      <td>Dark Choclate</td>\n",
       "    </tr>\n",
       "    <tr>\n",
       "      <th>1</th>\n",
       "      <td>Mohamed Ragab</td>\n",
       "      <td>Sauce - Demi Glace</td>\n",
       "    </tr>\n",
       "    <tr>\n",
       "      <th>2</th>\n",
       "      <td>Mohamed Ragab</td>\n",
       "      <td>Cumin - Whole</td>\n",
       "    </tr>\n",
       "    <tr>\n",
       "      <th>3</th>\n",
       "      <td>Mohamed Ragab</td>\n",
       "      <td>Coffee - Irish Cream</td>\n",
       "    </tr>\n",
       "    <tr>\n",
       "      <th>4</th>\n",
       "      <td>John Smith</td>\n",
       "      <td>Corn Meal</td>\n",
       "    </tr>\n",
       "    <tr>\n",
       "      <th>5</th>\n",
       "      <td>Jean Lime</td>\n",
       "      <td>Rolled Oats</td>\n",
       "    </tr>\n",
       "    <tr>\n",
       "      <th>6</th>\n",
       "      <td>Hassan Eldeeb</td>\n",
       "      <td>None</td>\n",
       "    </tr>\n",
       "    <tr>\n",
       "      <th>7</th>\n",
       "      <td>Aisha Kareem</td>\n",
       "      <td>Chocolate - Sugar Free Semi Choc</td>\n",
       "    </tr>\n",
       "  </tbody>\n",
       "</table>\n",
       "</div>"
      ],
      "text/plain": [
       "            name                           product\n",
       "0           None                     Dark Choclate\n",
       "1  Mohamed Ragab                Sauce - Demi Glace\n",
       "2  Mohamed Ragab                     Cumin - Whole\n",
       "3  Mohamed Ragab              Coffee - Irish Cream\n",
       "4     John Smith                         Corn Meal\n",
       "5      Jean Lime                       Rolled Oats\n",
       "6  Hassan Eldeeb                              None\n",
       "7   Aisha Kareem  Chocolate - Sugar Free Semi Choc"
      ]
     },
     "metadata": {},
     "output_type": "display_data"
    }
   ],
   "source": [
    "fullJoined= psql.read_sql(\"\"\"SELECT name, product FROM customer \n",
    "                             FULL JOIN  \"order\" \n",
    "                             ON customer.id = \"order\".customer_id\n",
    "                             ORDER BY name DESC \"\"\", con)\n",
    "display(fullJoined)"
   ]
  },
  {
   "cell_type": "markdown",
   "metadata": {},
   "source": [
    "## Task 2: Create another RDB model (MovieDB)\n",
    "\n",
    "This is another DB about movies and actors who played roles in these movies. Particularly, this DB is consisted of the following tables:  \n",
    "\n",
    "- A ***\"Person\"*** table who has a unique **id**, and another **name** field.\n",
    "- Another ***\"Movie\"*** table that has a unique **id**, a **title**, a **country** where it was made, and a **year** when it was released.\n",
    "\n",
    "- There is (***m-n**) or ***\"many-many\"** relationship between these two tables (i.e basically, many actors can act in many movies, and the movie include many actors).\n",
    "- ***Many-to-many*** are handeled as follows: We have to use a ***junction table** (<font color='green'>example</font>: https://gist.github.com/anonymous/79c2eed2a634777b16ff)\n",
    "- Therefore, we use the **\"Roles\"** table in which we can deduct which person has acted in which movie, and what role(s) they played in this movie.\n"
   ]
  },
  {
   "cell_type": "markdown",
   "metadata": {},
   "source": [
    "#### Use one of the drawing tools to plot an ER model of this described DB\n",
    "- you can use the mentioned ER diagramitic tool in lecture slides (link: https://erdplus.com/)"
   ]
  },
  {
   "cell_type": "markdown",
   "metadata": {},
   "source": [
    "##### <font color='red'>YOUR DB SCHEMA IMAGE HERE: </font>\n",
    "<img src='results/movie-db-schemas-1.jpg'>"
   ]
  },
  {
   "cell_type": "markdown",
   "metadata": {},
   "source": [
    "#### Create the MovieDB "
   ]
  },
  {
   "cell_type": "code",
   "execution_count": 46,
   "metadata": {},
   "outputs": [
    {
     "name": "stdout",
     "output_type": "stream",
     "text": [
      "Connected Successfully to PostgreSQL server!!\n"
     ]
    }
   ],
   "source": [
    "try:\n",
    "    # Connect to the postgreSQL server with username, and password credentials\n",
    "    con = psycopg2.connect(user = \"pguser\",\n",
    "                           password = \"changeme\",\n",
    "                           host = \"127.0.0.1\",\n",
    "                           port = \"5432\",\n",
    "                           database = \"postgres\"\n",
    "                          )\n",
    "    \n",
    "    con.set_isolation_level(ISOLATION_LEVEL_AUTOCOMMIT);\n",
    "    print(\"Connected Successfully to PostgreSQL server!!\")\n",
    "    \n",
    "    # Obtain a DB Cursor to perform database operations\n",
    "    cursor = con.cursor();\n",
    "except (Exception, psycopg2.Error) as error :\n",
    "     print (\"Error while connecting to PostgreSQL\", error)"
   ]
  },
  {
   "cell_type": "code",
   "execution_count": 47,
   "metadata": {},
   "outputs": [
    {
     "name": "stdout",
     "output_type": "stream",
     "text": [
      "Error While Creating the DB:  database \"moviedb\" already exists\n",
      "\n"
     ]
    }
   ],
   "source": [
    "#DB_name variable    \n",
    "name_Database   = \"MovieDB\";\n",
    "\n",
    "# Create DB statement\n",
    "sqlCreateDatabase = \"CREATE DATABASE \"+name_Database+\";\"\n",
    "\n",
    "try:\n",
    "    # Execute a SQL command: this creates a new DB\n",
    "    cursor.execute(sqlCreateDatabase);\n",
    "    print(\"Database '\"+name_Database+\"' Created Successfully!\")\n",
    "except (Exception, psycopg2.Error) as error :\n",
    "    print(\"Error While Creating the DB: \",error)"
   ]
  },
  {
   "cell_type": "markdown",
   "metadata": {},
   "source": [
    "#### Creating  the Movie Table"
   ]
  },
  {
   "cell_type": "code",
   "execution_count": 48,
   "metadata": {},
   "outputs": [
    {
     "name": "stdout",
     "output_type": "stream",
     "text": [
      "Table Movies created successfully in PostgreSQL \n"
     ]
    }
   ],
   "source": [
    "#YOUR CODE HERE to create the \"Movie\" table\n",
    "try:\n",
    "    create_Table_query = '''CREATE TABLE Movies \n",
    "              (id INT PRIMARY KEY,\n",
    "               title TEXT NOT NULL,\n",
    "               country TEXT,\n",
    "               year INT\n",
    "               ); '''\n",
    "\n",
    "    #Execute this command (SQL Query)\n",
    "    cursor.execute(create_Table_query)\n",
    "    # Make the changes to the database persistent\n",
    "    con.commit()\n",
    "    print(\"Table Movies created successfully in PostgreSQL \")\n",
    "except (Exception, psycopg2.Error) as error:\n",
    "    # if it exits with an exception the transaction is rolled back.\n",
    "    con.rollback()\n",
    "    print(\"Error While Creating the DB: \",error)\n"
   ]
  },
  {
   "cell_type": "markdown",
   "metadata": {},
   "source": [
    "#### Creating  the \"Person\" Table"
   ]
  },
  {
   "cell_type": "code",
   "execution_count": 49,
   "metadata": {},
   "outputs": [
    {
     "name": "stdout",
     "output_type": "stream",
     "text": [
      "Table Person created successfully in PostgreSQL \n"
     ]
    }
   ],
   "source": [
    "#YOUR CODE HERE to create the \"Movie\" table\n",
    "try:\n",
    "    create_Table_query = '''CREATE TABLE Person \n",
    "              (id INT PRIMARY KEY,\n",
    "              name TEXT NOT NULL\n",
    "               ); '''\n",
    "\n",
    "    #Execute this command (SQL Query)\n",
    "    cursor.execute(create_Table_query)\n",
    "    # Make the changes to the database persistent\n",
    "    con.commit()\n",
    "    print(\"Table Person created successfully in PostgreSQL \")\n",
    "except (Exception, psycopg2.Error) as error:\n",
    "    # if it exits with an exception the transaction is rolled back.\n",
    "    con.rollback()\n",
    "    print(\"Error While Creating the DB: \",error)"
   ]
  },
  {
   "cell_type": "markdown",
   "metadata": {},
   "source": [
    "#### Creating  the \"Roles\" relationship Table"
   ]
  },
  {
   "cell_type": "code",
   "execution_count": 50,
   "metadata": {},
   "outputs": [
    {
     "name": "stdout",
     "output_type": "stream",
     "text": [
      "Table Roles created successfully in PostgreSQL \n"
     ]
    }
   ],
   "source": [
    "#YOUR CODE HERE to create the \"Movie\" table\n",
    "try:\n",
    "    create_Table_query = '''CREATE TABLE Roles \n",
    "              (movie_id  INT  REFERENCES Movies(id),\n",
    "              person_id  INT  REFERENCES Person(id)\n",
    "               ); '''\n",
    "\n",
    "    #Execute this command (SQL Query)\n",
    "    cursor.execute(create_Table_query)\n",
    "    # Make the changes to the database persistent\n",
    "    con.commit()\n",
    "    print(\"Table Roles created successfully in PostgreSQL \")\n",
    "except (Exception, psycopg2.Error) as error:\n",
    "    # if it exits with an exception the transaction is rolled back.\n",
    "    con.rollback()\n",
    "    print(\"Error While Creating the DB: \",error)"
   ]
  },
  {
   "cell_type": "markdown",
   "metadata": {},
   "source": [
    "### Data Insertions\n",
    "\n",
    "Please, use the following demo datasets for allocating some data in the tables\n",
    "\n",
    "- **Person Table**:\n",
    "        id,name\n",
    "        1,Charlie Sheen\n",
    "        2,Michael Douglas\n",
    "        3,Martin Sheen\n",
    "        4,Morgan Freeman\n",
    "\n",
    "- ***Movie Table***:\n",
    "        id,title,country,year\n",
    "        1,Wall Street,USA,1987\n",
    "        2,The American President,USA,1995\n",
    "        3,The Shawshank Redemption,USA,1994\n",
    "\n",
    "- ***Roles Relationship*** (<font color='green'>Conjunction Table</font>):\n",
    "        personId,movieId,role\n",
    "        1,1,Bud Fox\n",
    "        2,1,Carl Fox\n",
    "        3,1,Gordon Gekko\n",
    "        2,2,A.J. MacInerney\n",
    "        3,2,President Andrew Shepherd\n",
    "        4,3,Ellis Boyd 'Red' Redding"
   ]
  },
  {
   "cell_type": "markdown",
   "metadata": {},
   "source": [
    "#### Insert Data to the Person Table"
   ]
  },
  {
   "cell_type": "code",
   "execution_count": 51,
   "metadata": {},
   "outputs": [],
   "source": [
    "person_data = [\n",
    "    (1, \"Tom Hanks\"),\n",
    "    (2, \"Marlon Brando\"),\n",
    "    (3, \"Heath Ledger\"),\n",
    "    (4, \"Al Pacino\"),\n",
    "    (5, \"Henry Fonda\"),\n",
    "    (6, \"Michael Douglas\"),\n",
    "    (7, \"Viggo Mortensen\"),\n",
    "    (8, \"John Travolta\"),\n",
    "    (9, \"Clint Eastwood\"),\n",
    "    (10, \"Brad Pitt\"),\n",
    "    (11, \"Robert De Niro\"),\n",
    "    (12, \"Leonardo DiCaprio\"),\n",
    "    (13, \"Elijah Wood\"),\n",
    "    (14, \"Harrison Ford\"),\n",
    "]\n",
    "person_insert_query = \"INSERT INTO Person (id, name) VALUES (%s, %s)\"\n",
    "cursor.executemany(person_insert_query, person_data)\n",
    "con.commit()"
   ]
  },
  {
   "cell_type": "markdown",
   "metadata": {},
   "source": [
    "#### Insert Data to the Movie Table"
   ]
  },
  {
   "cell_type": "code",
   "execution_count": 52,
   "metadata": {},
   "outputs": [],
   "source": [
    "movies_data = [\n",
    "    (1, \"The Shawshank Redemption\", \"USA\", 1994),\n",
    "    (2, \"The Godfather\", \"USA\", 1972),\n",
    "    (3, \"The Dark Knight\", \"USA\", 2008),\n",
    "    (4, \"The Godfather: Part II\", \"USA\", 1974),\n",
    "    (5, \"12 Angry Men\", \"USA\", 1957),\n",
    "    (6, \"Schindler's List\", \"USA\", 1993),\n",
    "    (7, \"The Lord of the Rings: The Return of the King\", \"USA\", 2003),\n",
    "    (8, \"Pulp Fiction\", \"USA\", 1994),\n",
    "    (9, \"The Good, the Bad and the Ugly\", \"Italy\", 1966),\n",
    "    (10, \"Fight Club\", \"USA\", 1999),\n",
    "    (11, \"Forrest Gump\", \"USA\", 1994),\n",
    "    (12, \"Inception\", \"USA\", 2010),\n",
    "    (13, \"The Lord of the Rings: The Fellowship of the Ring\", \"USA\", 2001),\n",
    "    (14, \"The Lord of the Rings: The Two Towers\", \"USA\", 2002),\n",
    "    (15, \"Star Wars: Episode IV - A New Hope\", \"USA\", 1977),\n",
    "    (16, \"Wall Street\", \"USA\", 1987)\n",
    "]\n",
    "movies_insert_query = \"INSERT INTO Movies (id, title, country, year) VALUES (%s, %s, %s, %s)\"\n",
    "cursor.executemany(movies_insert_query, movies_data)\n",
    "con.commit()"
   ]
  },
  {
   "cell_type": "markdown",
   "metadata": {},
   "source": [
    "#### Insert Data to the Roles Table"
   ]
  },
  {
   "cell_type": "code",
   "execution_count": 53,
   "metadata": {},
   "outputs": [],
   "source": [
    "roles_data = [\n",
    "    (1, 1),\n",
    "    (2, 2),\n",
    "    (3, 3),\n",
    "    (2, 4),\n",
    "    (5, 5),\n",
    "    (6, 1),\n",
    "    (7, 1),\n",
    "    (8, 8),\n",
    "    (9, 9),\n",
    "    (10, 10),\n",
    "    (11, 11),\n",
    "    (12, 1),\n",
    "    (7, 13),\n",
    "    (14, 7),\n",
    "    (15, 14),\n",
    "    (11, 1),\n",
    "    (2, 1),\n",
    "    (12, 12),\n",
    "    (16, 6)\n",
    "]\n",
    "roles_insert_query = \"INSERT INTO Roles (movie_id, person_id) VALUES (%s, %s)\"\n",
    "cursor.executemany(roles_insert_query, roles_data)\n",
    "con.commit()"
   ]
  },
  {
   "cell_type": "markdown",
   "metadata": {},
   "source": [
    "#### Get all Actors (Persons) from the movie DB"
   ]
  },
  {
   "cell_type": "code",
   "execution_count": 54,
   "metadata": {},
   "outputs": [
    {
     "name": "stderr",
     "output_type": "stream",
     "text": [
      "/var/folders/h2/plj9zcpn0bj7_bd89m_l42y80000gn/T/ipykernel_1022/2930987390.py:1: UserWarning: pandas only supports SQLAlchemy connectable (engine/connection) or database string URI or sqlite3 DBAPI2 connection. Other DBAPI2 objects are not tested. Please consider using SQLAlchemy.\n",
      "  my_table= pd.read_sql('SELECT id, name FROM Person', con)\n",
      "/var/folders/h2/plj9zcpn0bj7_bd89m_l42y80000gn/T/ipykernel_1022/2930987390.py:2: FutureWarning: this method is deprecated in favour of `Styler.hide(axis=\"index\")`\n",
      "  display(my_table.style.hide_index())\n"
     ]
    },
    {
     "data": {
      "text/html": [
       "<style type=\"text/css\">\n",
       "</style>\n",
       "<table id=\"T_ceb38\">\n",
       "  <thead>\n",
       "    <tr>\n",
       "      <th id=\"T_ceb38_level0_col0\" class=\"col_heading level0 col0\" >id</th>\n",
       "      <th id=\"T_ceb38_level0_col1\" class=\"col_heading level0 col1\" >name</th>\n",
       "    </tr>\n",
       "  </thead>\n",
       "  <tbody>\n",
       "    <tr>\n",
       "      <td id=\"T_ceb38_row0_col0\" class=\"data row0 col0\" >1</td>\n",
       "      <td id=\"T_ceb38_row0_col1\" class=\"data row0 col1\" >Tom Hanks</td>\n",
       "    </tr>\n",
       "    <tr>\n",
       "      <td id=\"T_ceb38_row1_col0\" class=\"data row1 col0\" >2</td>\n",
       "      <td id=\"T_ceb38_row1_col1\" class=\"data row1 col1\" >Marlon Brando</td>\n",
       "    </tr>\n",
       "    <tr>\n",
       "      <td id=\"T_ceb38_row2_col0\" class=\"data row2 col0\" >3</td>\n",
       "      <td id=\"T_ceb38_row2_col1\" class=\"data row2 col1\" >Heath Ledger</td>\n",
       "    </tr>\n",
       "    <tr>\n",
       "      <td id=\"T_ceb38_row3_col0\" class=\"data row3 col0\" >4</td>\n",
       "      <td id=\"T_ceb38_row3_col1\" class=\"data row3 col1\" >Al Pacino</td>\n",
       "    </tr>\n",
       "    <tr>\n",
       "      <td id=\"T_ceb38_row4_col0\" class=\"data row4 col0\" >5</td>\n",
       "      <td id=\"T_ceb38_row4_col1\" class=\"data row4 col1\" >Henry Fonda</td>\n",
       "    </tr>\n",
       "    <tr>\n",
       "      <td id=\"T_ceb38_row5_col0\" class=\"data row5 col0\" >6</td>\n",
       "      <td id=\"T_ceb38_row5_col1\" class=\"data row5 col1\" >Michael Douglas</td>\n",
       "    </tr>\n",
       "    <tr>\n",
       "      <td id=\"T_ceb38_row6_col0\" class=\"data row6 col0\" >7</td>\n",
       "      <td id=\"T_ceb38_row6_col1\" class=\"data row6 col1\" >Viggo Mortensen</td>\n",
       "    </tr>\n",
       "    <tr>\n",
       "      <td id=\"T_ceb38_row7_col0\" class=\"data row7 col0\" >8</td>\n",
       "      <td id=\"T_ceb38_row7_col1\" class=\"data row7 col1\" >John Travolta</td>\n",
       "    </tr>\n",
       "    <tr>\n",
       "      <td id=\"T_ceb38_row8_col0\" class=\"data row8 col0\" >9</td>\n",
       "      <td id=\"T_ceb38_row8_col1\" class=\"data row8 col1\" >Clint Eastwood</td>\n",
       "    </tr>\n",
       "    <tr>\n",
       "      <td id=\"T_ceb38_row9_col0\" class=\"data row9 col0\" >10</td>\n",
       "      <td id=\"T_ceb38_row9_col1\" class=\"data row9 col1\" >Brad Pitt</td>\n",
       "    </tr>\n",
       "    <tr>\n",
       "      <td id=\"T_ceb38_row10_col0\" class=\"data row10 col0\" >11</td>\n",
       "      <td id=\"T_ceb38_row10_col1\" class=\"data row10 col1\" >Robert De Niro</td>\n",
       "    </tr>\n",
       "    <tr>\n",
       "      <td id=\"T_ceb38_row11_col0\" class=\"data row11 col0\" >12</td>\n",
       "      <td id=\"T_ceb38_row11_col1\" class=\"data row11 col1\" >Leonardo DiCaprio</td>\n",
       "    </tr>\n",
       "    <tr>\n",
       "      <td id=\"T_ceb38_row12_col0\" class=\"data row12 col0\" >13</td>\n",
       "      <td id=\"T_ceb38_row12_col1\" class=\"data row12 col1\" >Elijah Wood</td>\n",
       "    </tr>\n",
       "    <tr>\n",
       "      <td id=\"T_ceb38_row13_col0\" class=\"data row13 col0\" >14</td>\n",
       "      <td id=\"T_ceb38_row13_col1\" class=\"data row13 col1\" >Harrison Ford</td>\n",
       "    </tr>\n",
       "  </tbody>\n",
       "</table>\n"
      ],
      "text/plain": [
       "<pandas.io.formats.style.Styler at 0x7f88b8337640>"
      ]
     },
     "metadata": {},
     "output_type": "display_data"
    }
   ],
   "source": [
    "my_table= pd.read_sql('SELECT id, name FROM Person', con)\n",
    "display(my_table.style.hide_index())"
   ]
  },
  {
   "cell_type": "markdown",
   "metadata": {},
   "source": [
    "#### Get All Movies , sorted from recent to old"
   ]
  },
  {
   "cell_type": "code",
   "execution_count": 55,
   "metadata": {},
   "outputs": [
    {
     "name": "stderr",
     "output_type": "stream",
     "text": [
      "/var/folders/h2/plj9zcpn0bj7_bd89m_l42y80000gn/T/ipykernel_1022/134637321.py:1: UserWarning: pandas only supports SQLAlchemy connectable (engine/connection) or database string URI or sqlite3 DBAPI2 connection. Other DBAPI2 objects are not tested. Please consider using SQLAlchemy.\n",
      "  moviesOrdered = pd.read_sql('''SELECT id, title, year FROM Movies ORDER BY year DESC''', con)\n",
      "/var/folders/h2/plj9zcpn0bj7_bd89m_l42y80000gn/T/ipykernel_1022/134637321.py:2: FutureWarning: this method is deprecated in favour of `Styler.hide(axis=\"index\")`\n",
      "  display(moviesOrdered.style.hide_index())\n"
     ]
    },
    {
     "data": {
      "text/html": [
       "<style type=\"text/css\">\n",
       "</style>\n",
       "<table id=\"T_52052\">\n",
       "  <thead>\n",
       "    <tr>\n",
       "      <th id=\"T_52052_level0_col0\" class=\"col_heading level0 col0\" >id</th>\n",
       "      <th id=\"T_52052_level0_col1\" class=\"col_heading level0 col1\" >title</th>\n",
       "      <th id=\"T_52052_level0_col2\" class=\"col_heading level0 col2\" >year</th>\n",
       "    </tr>\n",
       "  </thead>\n",
       "  <tbody>\n",
       "    <tr>\n",
       "      <td id=\"T_52052_row0_col0\" class=\"data row0 col0\" >12</td>\n",
       "      <td id=\"T_52052_row0_col1\" class=\"data row0 col1\" >Inception</td>\n",
       "      <td id=\"T_52052_row0_col2\" class=\"data row0 col2\" >2010</td>\n",
       "    </tr>\n",
       "    <tr>\n",
       "      <td id=\"T_52052_row1_col0\" class=\"data row1 col0\" >3</td>\n",
       "      <td id=\"T_52052_row1_col1\" class=\"data row1 col1\" >The Dark Knight</td>\n",
       "      <td id=\"T_52052_row1_col2\" class=\"data row1 col2\" >2008</td>\n",
       "    </tr>\n",
       "    <tr>\n",
       "      <td id=\"T_52052_row2_col0\" class=\"data row2 col0\" >7</td>\n",
       "      <td id=\"T_52052_row2_col1\" class=\"data row2 col1\" >The Lord of the Rings: The Return of the King</td>\n",
       "      <td id=\"T_52052_row2_col2\" class=\"data row2 col2\" >2003</td>\n",
       "    </tr>\n",
       "    <tr>\n",
       "      <td id=\"T_52052_row3_col0\" class=\"data row3 col0\" >14</td>\n",
       "      <td id=\"T_52052_row3_col1\" class=\"data row3 col1\" >The Lord of the Rings: The Two Towers</td>\n",
       "      <td id=\"T_52052_row3_col2\" class=\"data row3 col2\" >2002</td>\n",
       "    </tr>\n",
       "    <tr>\n",
       "      <td id=\"T_52052_row4_col0\" class=\"data row4 col0\" >13</td>\n",
       "      <td id=\"T_52052_row4_col1\" class=\"data row4 col1\" >The Lord of the Rings: The Fellowship of the Ring</td>\n",
       "      <td id=\"T_52052_row4_col2\" class=\"data row4 col2\" >2001</td>\n",
       "    </tr>\n",
       "    <tr>\n",
       "      <td id=\"T_52052_row5_col0\" class=\"data row5 col0\" >10</td>\n",
       "      <td id=\"T_52052_row5_col1\" class=\"data row5 col1\" >Fight Club</td>\n",
       "      <td id=\"T_52052_row5_col2\" class=\"data row5 col2\" >1999</td>\n",
       "    </tr>\n",
       "    <tr>\n",
       "      <td id=\"T_52052_row6_col0\" class=\"data row6 col0\" >11</td>\n",
       "      <td id=\"T_52052_row6_col1\" class=\"data row6 col1\" >Forrest Gump</td>\n",
       "      <td id=\"T_52052_row6_col2\" class=\"data row6 col2\" >1994</td>\n",
       "    </tr>\n",
       "    <tr>\n",
       "      <td id=\"T_52052_row7_col0\" class=\"data row7 col0\" >1</td>\n",
       "      <td id=\"T_52052_row7_col1\" class=\"data row7 col1\" >The Shawshank Redemption</td>\n",
       "      <td id=\"T_52052_row7_col2\" class=\"data row7 col2\" >1994</td>\n",
       "    </tr>\n",
       "    <tr>\n",
       "      <td id=\"T_52052_row8_col0\" class=\"data row8 col0\" >8</td>\n",
       "      <td id=\"T_52052_row8_col1\" class=\"data row8 col1\" >Pulp Fiction</td>\n",
       "      <td id=\"T_52052_row8_col2\" class=\"data row8 col2\" >1994</td>\n",
       "    </tr>\n",
       "    <tr>\n",
       "      <td id=\"T_52052_row9_col0\" class=\"data row9 col0\" >6</td>\n",
       "      <td id=\"T_52052_row9_col1\" class=\"data row9 col1\" >Schindler's List</td>\n",
       "      <td id=\"T_52052_row9_col2\" class=\"data row9 col2\" >1993</td>\n",
       "    </tr>\n",
       "    <tr>\n",
       "      <td id=\"T_52052_row10_col0\" class=\"data row10 col0\" >16</td>\n",
       "      <td id=\"T_52052_row10_col1\" class=\"data row10 col1\" >Wall Street</td>\n",
       "      <td id=\"T_52052_row10_col2\" class=\"data row10 col2\" >1987</td>\n",
       "    </tr>\n",
       "    <tr>\n",
       "      <td id=\"T_52052_row11_col0\" class=\"data row11 col0\" >15</td>\n",
       "      <td id=\"T_52052_row11_col1\" class=\"data row11 col1\" >Star Wars: Episode IV - A New Hope</td>\n",
       "      <td id=\"T_52052_row11_col2\" class=\"data row11 col2\" >1977</td>\n",
       "    </tr>\n",
       "    <tr>\n",
       "      <td id=\"T_52052_row12_col0\" class=\"data row12 col0\" >4</td>\n",
       "      <td id=\"T_52052_row12_col1\" class=\"data row12 col1\" >The Godfather: Part II</td>\n",
       "      <td id=\"T_52052_row12_col2\" class=\"data row12 col2\" >1974</td>\n",
       "    </tr>\n",
       "    <tr>\n",
       "      <td id=\"T_52052_row13_col0\" class=\"data row13 col0\" >2</td>\n",
       "      <td id=\"T_52052_row13_col1\" class=\"data row13 col1\" >The Godfather</td>\n",
       "      <td id=\"T_52052_row13_col2\" class=\"data row13 col2\" >1972</td>\n",
       "    </tr>\n",
       "    <tr>\n",
       "      <td id=\"T_52052_row14_col0\" class=\"data row14 col0\" >9</td>\n",
       "      <td id=\"T_52052_row14_col1\" class=\"data row14 col1\" >The Good, the Bad and the Ugly</td>\n",
       "      <td id=\"T_52052_row14_col2\" class=\"data row14 col2\" >1966</td>\n",
       "    </tr>\n",
       "    <tr>\n",
       "      <td id=\"T_52052_row15_col0\" class=\"data row15 col0\" >5</td>\n",
       "      <td id=\"T_52052_row15_col1\" class=\"data row15 col1\" >12 Angry Men</td>\n",
       "      <td id=\"T_52052_row15_col2\" class=\"data row15 col2\" >1957</td>\n",
       "    </tr>\n",
       "  </tbody>\n",
       "</table>\n"
      ],
      "text/plain": [
       "<pandas.io.formats.style.Styler at 0x7f88b9100910>"
      ]
     },
     "metadata": {},
     "output_type": "display_data"
    }
   ],
   "source": [
    "moviesOrdered = pd.read_sql('''SELECT id, title, year FROM Movies ORDER BY year DESC''', con)\n",
    "display(moviesOrdered.style.hide_index())"
   ]
  },
  {
   "cell_type": "markdown",
   "metadata": {},
   "source": [
    "#### Get All Movies released in the 90s (after year (1990) and before 2000) ordered from old to recent."
   ]
  },
  {
   "cell_type": "code",
   "execution_count": 56,
   "metadata": {},
   "outputs": [
    {
     "name": "stderr",
     "output_type": "stream",
     "text": [
      "/var/folders/h2/plj9zcpn0bj7_bd89m_l42y80000gn/T/ipykernel_1022/2758774083.py:1: UserWarning: pandas only supports SQLAlchemy connectable (engine/connection) or database string URI or sqlite3 DBAPI2 connection. Other DBAPI2 objects are not tested. Please consider using SQLAlchemy.\n",
      "  movies90 = pd.read_sql('''SELECT id, title, year FROM Movies WHERE year>=1990 and year<2000 ORDER BY year DESC''', con)\n",
      "/var/folders/h2/plj9zcpn0bj7_bd89m_l42y80000gn/T/ipykernel_1022/2758774083.py:2: FutureWarning: this method is deprecated in favour of `Styler.hide(axis=\"index\")`\n",
      "  display(movies90.style.hide_index())\n"
     ]
    },
    {
     "data": {
      "text/html": [
       "<style type=\"text/css\">\n",
       "</style>\n",
       "<table id=\"T_45743\">\n",
       "  <thead>\n",
       "    <tr>\n",
       "      <th id=\"T_45743_level0_col0\" class=\"col_heading level0 col0\" >id</th>\n",
       "      <th id=\"T_45743_level0_col1\" class=\"col_heading level0 col1\" >title</th>\n",
       "      <th id=\"T_45743_level0_col2\" class=\"col_heading level0 col2\" >year</th>\n",
       "    </tr>\n",
       "  </thead>\n",
       "  <tbody>\n",
       "    <tr>\n",
       "      <td id=\"T_45743_row0_col0\" class=\"data row0 col0\" >10</td>\n",
       "      <td id=\"T_45743_row0_col1\" class=\"data row0 col1\" >Fight Club</td>\n",
       "      <td id=\"T_45743_row0_col2\" class=\"data row0 col2\" >1999</td>\n",
       "    </tr>\n",
       "    <tr>\n",
       "      <td id=\"T_45743_row1_col0\" class=\"data row1 col0\" >1</td>\n",
       "      <td id=\"T_45743_row1_col1\" class=\"data row1 col1\" >The Shawshank Redemption</td>\n",
       "      <td id=\"T_45743_row1_col2\" class=\"data row1 col2\" >1994</td>\n",
       "    </tr>\n",
       "    <tr>\n",
       "      <td id=\"T_45743_row2_col0\" class=\"data row2 col0\" >8</td>\n",
       "      <td id=\"T_45743_row2_col1\" class=\"data row2 col1\" >Pulp Fiction</td>\n",
       "      <td id=\"T_45743_row2_col2\" class=\"data row2 col2\" >1994</td>\n",
       "    </tr>\n",
       "    <tr>\n",
       "      <td id=\"T_45743_row3_col0\" class=\"data row3 col0\" >11</td>\n",
       "      <td id=\"T_45743_row3_col1\" class=\"data row3 col1\" >Forrest Gump</td>\n",
       "      <td id=\"T_45743_row3_col2\" class=\"data row3 col2\" >1994</td>\n",
       "    </tr>\n",
       "    <tr>\n",
       "      <td id=\"T_45743_row4_col0\" class=\"data row4 col0\" >6</td>\n",
       "      <td id=\"T_45743_row4_col1\" class=\"data row4 col1\" >Schindler's List</td>\n",
       "      <td id=\"T_45743_row4_col2\" class=\"data row4 col2\" >1993</td>\n",
       "    </tr>\n",
       "  </tbody>\n",
       "</table>\n"
      ],
      "text/plain": [
       "<pandas.io.formats.style.Styler at 0x7f88b9127c10>"
      ]
     },
     "metadata": {},
     "output_type": "display_data"
    }
   ],
   "source": [
    "movies90 = pd.read_sql('''SELECT id, title, year FROM Movies WHERE year>=1990 and year<2000 ORDER BY year DESC''', con)\n",
    "display(movies90.style.hide_index())"
   ]
  },
  {
   "cell_type": "markdown",
   "metadata": {},
   "source": [
    "#### Get Movies and Actors from your  \"movies\" DB"
   ]
  },
  {
   "cell_type": "code",
   "execution_count": 57,
   "metadata": {},
   "outputs": [
    {
     "name": "stderr",
     "output_type": "stream",
     "text": [
      "/var/folders/h2/plj9zcpn0bj7_bd89m_l42y80000gn/T/ipykernel_1022/1552073917.py:1: UserWarning: pandas only supports SQLAlchemy connectable (engine/connection) or database string URI or sqlite3 DBAPI2 connection. Other DBAPI2 objects are not tested. Please consider using SQLAlchemy.\n",
      "  moviesActors = pd.read_sql('''SELECT M.title, P.name\n",
      "/var/folders/h2/plj9zcpn0bj7_bd89m_l42y80000gn/T/ipykernel_1022/1552073917.py:7: FutureWarning: this method is deprecated in favour of `Styler.hide(axis=\"index\")`\n",
      "  display(moviesActors.style.hide_index())\n"
     ]
    },
    {
     "data": {
      "text/html": [
       "<style type=\"text/css\">\n",
       "</style>\n",
       "<table id=\"T_9dba1\">\n",
       "  <thead>\n",
       "    <tr>\n",
       "      <th id=\"T_9dba1_level0_col0\" class=\"col_heading level0 col0\" >title</th>\n",
       "      <th id=\"T_9dba1_level0_col1\" class=\"col_heading level0 col1\" >name</th>\n",
       "    </tr>\n",
       "  </thead>\n",
       "  <tbody>\n",
       "    <tr>\n",
       "      <td id=\"T_9dba1_row0_col0\" class=\"data row0 col0\" >The Shawshank Redemption</td>\n",
       "      <td id=\"T_9dba1_row0_col1\" class=\"data row0 col1\" >Tom Hanks</td>\n",
       "    </tr>\n",
       "    <tr>\n",
       "      <td id=\"T_9dba1_row1_col0\" class=\"data row1 col0\" >The Godfather</td>\n",
       "      <td id=\"T_9dba1_row1_col1\" class=\"data row1 col1\" >Marlon Brando</td>\n",
       "    </tr>\n",
       "    <tr>\n",
       "      <td id=\"T_9dba1_row2_col0\" class=\"data row2 col0\" >The Dark Knight</td>\n",
       "      <td id=\"T_9dba1_row2_col1\" class=\"data row2 col1\" >Heath Ledger</td>\n",
       "    </tr>\n",
       "    <tr>\n",
       "      <td id=\"T_9dba1_row3_col0\" class=\"data row3 col0\" >The Godfather</td>\n",
       "      <td id=\"T_9dba1_row3_col1\" class=\"data row3 col1\" >Al Pacino</td>\n",
       "    </tr>\n",
       "    <tr>\n",
       "      <td id=\"T_9dba1_row4_col0\" class=\"data row4 col0\" >12 Angry Men</td>\n",
       "      <td id=\"T_9dba1_row4_col1\" class=\"data row4 col1\" >Henry Fonda</td>\n",
       "    </tr>\n",
       "    <tr>\n",
       "      <td id=\"T_9dba1_row5_col0\" class=\"data row5 col0\" >Schindler's List</td>\n",
       "      <td id=\"T_9dba1_row5_col1\" class=\"data row5 col1\" >Tom Hanks</td>\n",
       "    </tr>\n",
       "    <tr>\n",
       "      <td id=\"T_9dba1_row6_col0\" class=\"data row6 col0\" >The Lord of the Rings: The Return of the King</td>\n",
       "      <td id=\"T_9dba1_row6_col1\" class=\"data row6 col1\" >Tom Hanks</td>\n",
       "    </tr>\n",
       "    <tr>\n",
       "      <td id=\"T_9dba1_row7_col0\" class=\"data row7 col0\" >Pulp Fiction</td>\n",
       "      <td id=\"T_9dba1_row7_col1\" class=\"data row7 col1\" >John Travolta</td>\n",
       "    </tr>\n",
       "    <tr>\n",
       "      <td id=\"T_9dba1_row8_col0\" class=\"data row8 col0\" >The Good, the Bad and the Ugly</td>\n",
       "      <td id=\"T_9dba1_row8_col1\" class=\"data row8 col1\" >Clint Eastwood</td>\n",
       "    </tr>\n",
       "    <tr>\n",
       "      <td id=\"T_9dba1_row9_col0\" class=\"data row9 col0\" >Fight Club</td>\n",
       "      <td id=\"T_9dba1_row9_col1\" class=\"data row9 col1\" >Brad Pitt</td>\n",
       "    </tr>\n",
       "    <tr>\n",
       "      <td id=\"T_9dba1_row10_col0\" class=\"data row10 col0\" >Forrest Gump</td>\n",
       "      <td id=\"T_9dba1_row10_col1\" class=\"data row10 col1\" >Robert De Niro</td>\n",
       "    </tr>\n",
       "    <tr>\n",
       "      <td id=\"T_9dba1_row11_col0\" class=\"data row11 col0\" >Inception</td>\n",
       "      <td id=\"T_9dba1_row11_col1\" class=\"data row11 col1\" >Tom Hanks</td>\n",
       "    </tr>\n",
       "    <tr>\n",
       "      <td id=\"T_9dba1_row12_col0\" class=\"data row12 col0\" >The Lord of the Rings: The Return of the King</td>\n",
       "      <td id=\"T_9dba1_row12_col1\" class=\"data row12 col1\" >Elijah Wood</td>\n",
       "    </tr>\n",
       "    <tr>\n",
       "      <td id=\"T_9dba1_row13_col0\" class=\"data row13 col0\" >The Lord of the Rings: The Two Towers</td>\n",
       "      <td id=\"T_9dba1_row13_col1\" class=\"data row13 col1\" >Viggo Mortensen</td>\n",
       "    </tr>\n",
       "    <tr>\n",
       "      <td id=\"T_9dba1_row14_col0\" class=\"data row14 col0\" >Star Wars: Episode IV - A New Hope</td>\n",
       "      <td id=\"T_9dba1_row14_col1\" class=\"data row14 col1\" >Harrison Ford</td>\n",
       "    </tr>\n",
       "    <tr>\n",
       "      <td id=\"T_9dba1_row15_col0\" class=\"data row15 col0\" >Forrest Gump</td>\n",
       "      <td id=\"T_9dba1_row15_col1\" class=\"data row15 col1\" >Tom Hanks</td>\n",
       "    </tr>\n",
       "    <tr>\n",
       "      <td id=\"T_9dba1_row16_col0\" class=\"data row16 col0\" >The Godfather</td>\n",
       "      <td id=\"T_9dba1_row16_col1\" class=\"data row16 col1\" >Tom Hanks</td>\n",
       "    </tr>\n",
       "    <tr>\n",
       "      <td id=\"T_9dba1_row17_col0\" class=\"data row17 col0\" >Inception</td>\n",
       "      <td id=\"T_9dba1_row17_col1\" class=\"data row17 col1\" >Leonardo DiCaprio</td>\n",
       "    </tr>\n",
       "    <tr>\n",
       "      <td id=\"T_9dba1_row18_col0\" class=\"data row18 col0\" >Wall Street</td>\n",
       "      <td id=\"T_9dba1_row18_col1\" class=\"data row18 col1\" >Michael Douglas</td>\n",
       "    </tr>\n",
       "  </tbody>\n",
       "</table>\n"
      ],
      "text/plain": [
       "<pandas.io.formats.style.Styler at 0x7f88b8b7f2b0>"
      ]
     },
     "metadata": {},
     "output_type": "display_data"
    }
   ],
   "source": [
    "moviesActors = pd.read_sql('''SELECT M.title, P.name\n",
    "                            FROM Movies M\n",
    "                            LEFT JOIN Roles R ON M.id = R.movie_id\n",
    "                            LEFT JOIN Person P ON P.id = R.person_id\n",
    "                            WHERE P.name is not null;\n",
    "                            ''', con)\n",
    "display(moviesActors.style.hide_index())"
   ]
  },
  {
   "cell_type": "markdown",
   "metadata": {},
   "source": [
    "#### Get count of \"Movies\" in your DB"
   ]
  },
  {
   "cell_type": "code",
   "execution_count": 58,
   "metadata": {},
   "outputs": [
    {
     "name": "stderr",
     "output_type": "stream",
     "text": [
      "/var/folders/h2/plj9zcpn0bj7_bd89m_l42y80000gn/T/ipykernel_1022/875946604.py:1: UserWarning: pandas only supports SQLAlchemy connectable (engine/connection) or database string URI or sqlite3 DBAPI2 connection. Other DBAPI2 objects are not tested. Please consider using SQLAlchemy.\n",
      "  count_table= pd.read_sql('SELECT count(id) FROM Movies ', con)\n",
      "/var/folders/h2/plj9zcpn0bj7_bd89m_l42y80000gn/T/ipykernel_1022/875946604.py:2: FutureWarning: this method is deprecated in favour of `Styler.hide(axis=\"index\")`\n",
      "  display(count_table.style.hide_index())\n"
     ]
    },
    {
     "data": {
      "text/html": [
       "<style type=\"text/css\">\n",
       "</style>\n",
       "<table id=\"T_71624\">\n",
       "  <thead>\n",
       "    <tr>\n",
       "      <th id=\"T_71624_level0_col0\" class=\"col_heading level0 col0\" >count</th>\n",
       "    </tr>\n",
       "  </thead>\n",
       "  <tbody>\n",
       "    <tr>\n",
       "      <td id=\"T_71624_row0_col0\" class=\"data row0 col0\" >16</td>\n",
       "    </tr>\n",
       "  </tbody>\n",
       "</table>\n"
      ],
      "text/plain": [
       "<pandas.io.formats.style.Styler at 0x7f88b8eebeb0>"
      ]
     },
     "metadata": {},
     "output_type": "display_data"
    }
   ],
   "source": [
    "count_table= pd.read_sql('SELECT count(id) FROM Movies ', con)\n",
    "display(count_table.style.hide_index())"
   ]
  },
  {
   "cell_type": "markdown",
   "metadata": {},
   "source": [
    "#### In this DB, for every \"Actor\" get the number of movies he played"
   ]
  },
  {
   "cell_type": "code",
   "execution_count": 59,
   "metadata": {},
   "outputs": [
    {
     "name": "stderr",
     "output_type": "stream",
     "text": [
      "/var/folders/h2/plj9zcpn0bj7_bd89m_l42y80000gn/T/ipykernel_1022/2172083709.py:1: UserWarning: pandas only supports SQLAlchemy connectable (engine/connection) or database string URI or sqlite3 DBAPI2 connection. Other DBAPI2 objects are not tested. Please consider using SQLAlchemy.\n",
      "  actorMoviesAgg= pd.read_sql('''SELECT P.name, count(M.id)\n",
      "/var/folders/h2/plj9zcpn0bj7_bd89m_l42y80000gn/T/ipykernel_1022/2172083709.py:7: FutureWarning: this method is deprecated in favour of `Styler.hide(axis=\"index\")`\n",
      "  display(actorMoviesAgg.style.hide_index())\n"
     ]
    },
    {
     "data": {
      "text/html": [
       "<style type=\"text/css\">\n",
       "</style>\n",
       "<table id=\"T_7a38f\">\n",
       "  <thead>\n",
       "    <tr>\n",
       "      <th id=\"T_7a38f_level0_col0\" class=\"col_heading level0 col0\" >name</th>\n",
       "      <th id=\"T_7a38f_level0_col1\" class=\"col_heading level0 col1\" >count</th>\n",
       "    </tr>\n",
       "  </thead>\n",
       "  <tbody>\n",
       "    <tr>\n",
       "      <td id=\"T_7a38f_row0_col0\" class=\"data row0 col0\" >Henry Fonda</td>\n",
       "      <td id=\"T_7a38f_row0_col1\" class=\"data row0 col1\" >1</td>\n",
       "    </tr>\n",
       "    <tr>\n",
       "      <td id=\"T_7a38f_row1_col0\" class=\"data row1 col0\" >Tom Hanks</td>\n",
       "      <td id=\"T_7a38f_row1_col1\" class=\"data row1 col1\" >6</td>\n",
       "    </tr>\n",
       "    <tr>\n",
       "      <td id=\"T_7a38f_row2_col0\" class=\"data row2 col0\" >Michael Douglas</td>\n",
       "      <td id=\"T_7a38f_row2_col1\" class=\"data row2 col1\" >1</td>\n",
       "    </tr>\n",
       "    <tr>\n",
       "      <td id=\"T_7a38f_row3_col0\" class=\"data row3 col0\" >Clint Eastwood</td>\n",
       "      <td id=\"T_7a38f_row3_col1\" class=\"data row3 col1\" >1</td>\n",
       "    </tr>\n",
       "    <tr>\n",
       "      <td id=\"T_7a38f_row4_col0\" class=\"data row4 col0\" >Leonardo DiCaprio</td>\n",
       "      <td id=\"T_7a38f_row4_col1\" class=\"data row4 col1\" >1</td>\n",
       "    </tr>\n",
       "    <tr>\n",
       "      <td id=\"T_7a38f_row5_col0\" class=\"data row5 col0\" >Heath Ledger</td>\n",
       "      <td id=\"T_7a38f_row5_col1\" class=\"data row5 col1\" >1</td>\n",
       "    </tr>\n",
       "    <tr>\n",
       "      <td id=\"T_7a38f_row6_col0\" class=\"data row6 col0\" >Robert De Niro</td>\n",
       "      <td id=\"T_7a38f_row6_col1\" class=\"data row6 col1\" >1</td>\n",
       "    </tr>\n",
       "    <tr>\n",
       "      <td id=\"T_7a38f_row7_col0\" class=\"data row7 col0\" >Viggo Mortensen</td>\n",
       "      <td id=\"T_7a38f_row7_col1\" class=\"data row7 col1\" >1</td>\n",
       "    </tr>\n",
       "    <tr>\n",
       "      <td id=\"T_7a38f_row8_col0\" class=\"data row8 col0\" >Marlon Brando</td>\n",
       "      <td id=\"T_7a38f_row8_col1\" class=\"data row8 col1\" >1</td>\n",
       "    </tr>\n",
       "    <tr>\n",
       "      <td id=\"T_7a38f_row9_col0\" class=\"data row9 col0\" >Harrison Ford</td>\n",
       "      <td id=\"T_7a38f_row9_col1\" class=\"data row9 col1\" >1</td>\n",
       "    </tr>\n",
       "    <tr>\n",
       "      <td id=\"T_7a38f_row10_col0\" class=\"data row10 col0\" >Brad Pitt</td>\n",
       "      <td id=\"T_7a38f_row10_col1\" class=\"data row10 col1\" >1</td>\n",
       "    </tr>\n",
       "    <tr>\n",
       "      <td id=\"T_7a38f_row11_col0\" class=\"data row11 col0\" >Elijah Wood</td>\n",
       "      <td id=\"T_7a38f_row11_col1\" class=\"data row11 col1\" >1</td>\n",
       "    </tr>\n",
       "    <tr>\n",
       "      <td id=\"T_7a38f_row12_col0\" class=\"data row12 col0\" >Al Pacino</td>\n",
       "      <td id=\"T_7a38f_row12_col1\" class=\"data row12 col1\" >1</td>\n",
       "    </tr>\n",
       "    <tr>\n",
       "      <td id=\"T_7a38f_row13_col0\" class=\"data row13 col0\" >John Travolta</td>\n",
       "      <td id=\"T_7a38f_row13_col1\" class=\"data row13 col1\" >1</td>\n",
       "    </tr>\n",
       "  </tbody>\n",
       "</table>\n"
      ],
      "text/plain": [
       "<pandas.io.formats.style.Styler at 0x7f88b8eeb970>"
      ]
     },
     "metadata": {},
     "output_type": "display_data"
    }
   ],
   "source": [
    "actorMoviesAgg= pd.read_sql('''SELECT P.name, count(M.id)\n",
    "                            FROM Movies M\n",
    "                            LEFT JOIN Roles R ON M.id = R.movie_id\n",
    "                            LEFT JOIN Person P ON P.id = R.person_id\n",
    "                            WHERE P.name is not null\n",
    "                            GROUP BY P.name;''', con)\n",
    "display(actorMoviesAgg.style.hide_index())"
   ]
  },
  {
   "cell_type": "markdown",
   "metadata": {},
   "source": [
    "#### In this DB, List the movies that every Actor Played\n",
    "<b>Hint:</b> use the aggregation function <b>\"ARRAY_AGG\"</b> to group movies as a list."
   ]
  },
  {
   "cell_type": "code",
   "execution_count": 60,
   "metadata": {},
   "outputs": [
    {
     "name": "stderr",
     "output_type": "stream",
     "text": [
      "/var/folders/h2/plj9zcpn0bj7_bd89m_l42y80000gn/T/ipykernel_1022/2832602223.py:1: UserWarning: pandas only supports SQLAlchemy connectable (engine/connection) or database string URI or sqlite3 DBAPI2 connection. Other DBAPI2 objects are not tested. Please consider using SQLAlchemy.\n",
      "  actorMoviesAggList= pd.read_sql('''\n",
      "/var/folders/h2/plj9zcpn0bj7_bd89m_l42y80000gn/T/ipykernel_1022/2832602223.py:8: FutureWarning: this method is deprecated in favour of `Styler.hide(axis=\"index\")`\n",
      "  display(actorMoviesAggList.style.hide_index())\n"
     ]
    },
    {
     "data": {
      "text/html": [
       "<style type=\"text/css\">\n",
       "</style>\n",
       "<table id=\"T_899c4\">\n",
       "  <thead>\n",
       "    <tr>\n",
       "      <th id=\"T_899c4_level0_col0\" class=\"col_heading level0 col0\" >name</th>\n",
       "      <th id=\"T_899c4_level0_col1\" class=\"col_heading level0 col1\" >movies</th>\n",
       "    </tr>\n",
       "  </thead>\n",
       "  <tbody>\n",
       "    <tr>\n",
       "      <td id=\"T_899c4_row0_col0\" class=\"data row0 col0\" >Henry Fonda</td>\n",
       "      <td id=\"T_899c4_row0_col1\" class=\"data row0 col1\" >['12 Angry Men']</td>\n",
       "    </tr>\n",
       "    <tr>\n",
       "      <td id=\"T_899c4_row1_col0\" class=\"data row1 col0\" >Tom Hanks</td>\n",
       "      <td id=\"T_899c4_row1_col1\" class=\"data row1 col1\" >['The Shawshank Redemption', \"Schindler's List\", 'The Lord of the Rings: The Return of the King', 'Inception', 'Forrest Gump', 'The Godfather']</td>\n",
       "    </tr>\n",
       "    <tr>\n",
       "      <td id=\"T_899c4_row2_col0\" class=\"data row2 col0\" >Michael Douglas</td>\n",
       "      <td id=\"T_899c4_row2_col1\" class=\"data row2 col1\" >['Wall Street']</td>\n",
       "    </tr>\n",
       "    <tr>\n",
       "      <td id=\"T_899c4_row3_col0\" class=\"data row3 col0\" >Clint Eastwood</td>\n",
       "      <td id=\"T_899c4_row3_col1\" class=\"data row3 col1\" >['The Good, the Bad and the Ugly']</td>\n",
       "    </tr>\n",
       "    <tr>\n",
       "      <td id=\"T_899c4_row4_col0\" class=\"data row4 col0\" >Leonardo DiCaprio</td>\n",
       "      <td id=\"T_899c4_row4_col1\" class=\"data row4 col1\" >['Inception']</td>\n",
       "    </tr>\n",
       "    <tr>\n",
       "      <td id=\"T_899c4_row5_col0\" class=\"data row5 col0\" >Heath Ledger</td>\n",
       "      <td id=\"T_899c4_row5_col1\" class=\"data row5 col1\" >['The Dark Knight']</td>\n",
       "    </tr>\n",
       "    <tr>\n",
       "      <td id=\"T_899c4_row6_col0\" class=\"data row6 col0\" >Robert De Niro</td>\n",
       "      <td id=\"T_899c4_row6_col1\" class=\"data row6 col1\" >['Forrest Gump']</td>\n",
       "    </tr>\n",
       "    <tr>\n",
       "      <td id=\"T_899c4_row7_col0\" class=\"data row7 col0\" >Viggo Mortensen</td>\n",
       "      <td id=\"T_899c4_row7_col1\" class=\"data row7 col1\" >['The Lord of the Rings: The Two Towers']</td>\n",
       "    </tr>\n",
       "    <tr>\n",
       "      <td id=\"T_899c4_row8_col0\" class=\"data row8 col0\" >Marlon Brando</td>\n",
       "      <td id=\"T_899c4_row8_col1\" class=\"data row8 col1\" >['The Godfather']</td>\n",
       "    </tr>\n",
       "    <tr>\n",
       "      <td id=\"T_899c4_row9_col0\" class=\"data row9 col0\" >Harrison Ford</td>\n",
       "      <td id=\"T_899c4_row9_col1\" class=\"data row9 col1\" >['Star Wars: Episode IV - A New Hope']</td>\n",
       "    </tr>\n",
       "    <tr>\n",
       "      <td id=\"T_899c4_row10_col0\" class=\"data row10 col0\" >Brad Pitt</td>\n",
       "      <td id=\"T_899c4_row10_col1\" class=\"data row10 col1\" >['Fight Club']</td>\n",
       "    </tr>\n",
       "    <tr>\n",
       "      <td id=\"T_899c4_row11_col0\" class=\"data row11 col0\" >Elijah Wood</td>\n",
       "      <td id=\"T_899c4_row11_col1\" class=\"data row11 col1\" >['The Lord of the Rings: The Return of the King']</td>\n",
       "    </tr>\n",
       "    <tr>\n",
       "      <td id=\"T_899c4_row12_col0\" class=\"data row12 col0\" >Al Pacino</td>\n",
       "      <td id=\"T_899c4_row12_col1\" class=\"data row12 col1\" >['The Godfather']</td>\n",
       "    </tr>\n",
       "    <tr>\n",
       "      <td id=\"T_899c4_row13_col0\" class=\"data row13 col0\" >John Travolta</td>\n",
       "      <td id=\"T_899c4_row13_col1\" class=\"data row13 col1\" >['Pulp Fiction']</td>\n",
       "    </tr>\n",
       "  </tbody>\n",
       "</table>\n"
      ],
      "text/plain": [
       "<pandas.io.formats.style.Styler at 0x7f88b8d08310>"
      ]
     },
     "metadata": {},
     "output_type": "display_data"
    }
   ],
   "source": [
    "actorMoviesAggList= pd.read_sql('''\n",
    "SELECT P.name, ARRAY_AGG(M.title) as Movies\n",
    "FROM Person P\n",
    "LEFT JOIN Roles R ON P.id = R.person_id\n",
    "LEFT JOIN Movies M ON R.movie_id = M.id\n",
    "GROUP BY P.name;\n",
    "''', con)\n",
    "display(actorMoviesAggList.style.hide_index())"
   ]
  },
  {
   "cell_type": "markdown",
   "metadata": {},
   "source": [
    "### UPDATE Table Data\n",
    "\n",
    "#### Update the year of production of the movie \"Wall Street\" to be 2000 instead of it's current year. Show the record before and after the update."
   ]
  },
  {
   "cell_type": "code",
   "execution_count": 61,
   "metadata": {},
   "outputs": [
    {
     "name": "stderr",
     "output_type": "stream",
     "text": [
      "/var/folders/h2/plj9zcpn0bj7_bd89m_l42y80000gn/T/ipykernel_1022/1879132775.py:1: UserWarning: pandas only supports SQLAlchemy connectable (engine/connection) or database string URI or sqlite3 DBAPI2 connection. Other DBAPI2 objects are not tested. Please consider using SQLAlchemy.\n",
      "  pd.read_sql('''\n",
      "/var/folders/h2/plj9zcpn0bj7_bd89m_l42y80000gn/T/ipykernel_1022/1879132775.py:1: FutureWarning: this method is deprecated in favour of `Styler.hide(axis=\"index\")`\n",
      "  pd.read_sql('''\n"
     ]
    },
    {
     "data": {
      "text/html": [
       "<style type=\"text/css\">\n",
       "</style>\n",
       "<table id=\"T_38492\">\n",
       "  <thead>\n",
       "    <tr>\n",
       "      <th id=\"T_38492_level0_col0\" class=\"col_heading level0 col0\" >title</th>\n",
       "      <th id=\"T_38492_level0_col1\" class=\"col_heading level0 col1\" >year</th>\n",
       "    </tr>\n",
       "  </thead>\n",
       "  <tbody>\n",
       "    <tr>\n",
       "      <td id=\"T_38492_row0_col0\" class=\"data row0 col0\" >Wall Street</td>\n",
       "      <td id=\"T_38492_row0_col1\" class=\"data row0 col1\" >1987</td>\n",
       "    </tr>\n",
       "  </tbody>\n",
       "</table>\n"
      ],
      "text/plain": [
       "<pandas.io.formats.style.Styler at 0x7f88b91e4430>"
      ]
     },
     "execution_count": 61,
     "metadata": {},
     "output_type": "execute_result"
    }
   ],
   "source": [
    "pd.read_sql('''\n",
    "SELECT title, year FROM Movies WHERE title = 'Wall Street'\n",
    "''', con).style.hide_index()"
   ]
  },
  {
   "cell_type": "code",
   "execution_count": 62,
   "metadata": {},
   "outputs": [],
   "source": [
    "query = \"UPDATE Movies SET year = 2000 WHERE title = 'Wall Street';\"\n",
    "cursor.execute(query)\n",
    "con.commit()"
   ]
  },
  {
   "cell_type": "code",
   "execution_count": 63,
   "metadata": {},
   "outputs": [
    {
     "name": "stderr",
     "output_type": "stream",
     "text": [
      "/var/folders/h2/plj9zcpn0bj7_bd89m_l42y80000gn/T/ipykernel_1022/1879132775.py:1: UserWarning: pandas only supports SQLAlchemy connectable (engine/connection) or database string URI or sqlite3 DBAPI2 connection. Other DBAPI2 objects are not tested. Please consider using SQLAlchemy.\n",
      "  pd.read_sql('''\n",
      "/var/folders/h2/plj9zcpn0bj7_bd89m_l42y80000gn/T/ipykernel_1022/1879132775.py:1: FutureWarning: this method is deprecated in favour of `Styler.hide(axis=\"index\")`\n",
      "  pd.read_sql('''\n"
     ]
    },
    {
     "data": {
      "text/html": [
       "<style type=\"text/css\">\n",
       "</style>\n",
       "<table id=\"T_a2026\">\n",
       "  <thead>\n",
       "    <tr>\n",
       "      <th id=\"T_a2026_level0_col0\" class=\"col_heading level0 col0\" >title</th>\n",
       "      <th id=\"T_a2026_level0_col1\" class=\"col_heading level0 col1\" >year</th>\n",
       "    </tr>\n",
       "  </thead>\n",
       "  <tbody>\n",
       "    <tr>\n",
       "      <td id=\"T_a2026_row0_col0\" class=\"data row0 col0\" >Wall Street</td>\n",
       "      <td id=\"T_a2026_row0_col1\" class=\"data row0 col1\" >2000</td>\n",
       "    </tr>\n",
       "  </tbody>\n",
       "</table>\n"
      ],
      "text/plain": [
       "<pandas.io.formats.style.Styler at 0x7f88b8ed5ca0>"
      ]
     },
     "execution_count": 63,
     "metadata": {},
     "output_type": "execute_result"
    }
   ],
   "source": [
    "pd.read_sql('''\n",
    "SELECT title, year FROM Movies WHERE title = 'Wall Street'\n",
    "''', con).style.hide_index()"
   ]
  },
  {
   "cell_type": "markdown",
   "metadata": {},
   "source": [
    "## Delete Table rows\n",
    "\n",
    "#### Delete the movie with id =1 , and show the person table before and after the deletion."
   ]
  },
  {
   "cell_type": "code",
   "execution_count": 64,
   "metadata": {},
   "outputs": [
    {
     "name": "stderr",
     "output_type": "stream",
     "text": [
      "/var/folders/h2/plj9zcpn0bj7_bd89m_l42y80000gn/T/ipykernel_1022/1911537951.py:1: UserWarning: pandas only supports SQLAlchemy connectable (engine/connection) or database string URI or sqlite3 DBAPI2 connection. Other DBAPI2 objects are not tested. Please consider using SQLAlchemy.\n",
      "  pd.read_sql('''\n",
      "/var/folders/h2/plj9zcpn0bj7_bd89m_l42y80000gn/T/ipykernel_1022/1911537951.py:1: FutureWarning: this method is deprecated in favour of `Styler.hide(axis=\"index\")`\n",
      "  pd.read_sql('''\n"
     ]
    },
    {
     "data": {
      "text/html": [
       "<style type=\"text/css\">\n",
       "</style>\n",
       "<table id=\"T_3554a\">\n",
       "  <thead>\n",
       "    <tr>\n",
       "      <th id=\"T_3554a_level0_col0\" class=\"col_heading level0 col0\" >id</th>\n",
       "      <th id=\"T_3554a_level0_col1\" class=\"col_heading level0 col1\" >title</th>\n",
       "      <th id=\"T_3554a_level0_col2\" class=\"col_heading level0 col2\" >year</th>\n",
       "    </tr>\n",
       "  </thead>\n",
       "  <tbody>\n",
       "    <tr>\n",
       "      <td id=\"T_3554a_row0_col0\" class=\"data row0 col0\" >1</td>\n",
       "      <td id=\"T_3554a_row0_col1\" class=\"data row0 col1\" >The Shawshank Redemption</td>\n",
       "      <td id=\"T_3554a_row0_col2\" class=\"data row0 col2\" >1994</td>\n",
       "    </tr>\n",
       "    <tr>\n",
       "      <td id=\"T_3554a_row1_col0\" class=\"data row1 col0\" >2</td>\n",
       "      <td id=\"T_3554a_row1_col1\" class=\"data row1 col1\" >The Godfather</td>\n",
       "      <td id=\"T_3554a_row1_col2\" class=\"data row1 col2\" >1972</td>\n",
       "    </tr>\n",
       "    <tr>\n",
       "      <td id=\"T_3554a_row2_col0\" class=\"data row2 col0\" >3</td>\n",
       "      <td id=\"T_3554a_row2_col1\" class=\"data row2 col1\" >The Dark Knight</td>\n",
       "      <td id=\"T_3554a_row2_col2\" class=\"data row2 col2\" >2008</td>\n",
       "    </tr>\n",
       "  </tbody>\n",
       "</table>\n"
      ],
      "text/plain": [
       "<pandas.io.formats.style.Styler at 0x7f88b8ed5a00>"
      ]
     },
     "execution_count": 64,
     "metadata": {},
     "output_type": "execute_result"
    }
   ],
   "source": [
    "pd.read_sql('''\n",
    "SELECT id, title, year FROM Movies LIMIT 3\n",
    "''', con).style.hide_index()"
   ]
  },
  {
   "cell_type": "code",
   "execution_count": 65,
   "metadata": {},
   "outputs": [],
   "source": [
    "query = \"DELETE FROM Roles WHERE movie_id = 1;\"\n",
    "cursor.execute(query)\n",
    "con.commit()\n",
    "query = \"DELETE FROM Movies WHERE id = 1;\"\n",
    "cursor.execute(query)\n",
    "con.commit()"
   ]
  },
  {
   "cell_type": "code",
   "execution_count": 66,
   "metadata": {},
   "outputs": [
    {
     "name": "stderr",
     "output_type": "stream",
     "text": [
      "/var/folders/h2/plj9zcpn0bj7_bd89m_l42y80000gn/T/ipykernel_1022/1911537951.py:1: UserWarning: pandas only supports SQLAlchemy connectable (engine/connection) or database string URI or sqlite3 DBAPI2 connection. Other DBAPI2 objects are not tested. Please consider using SQLAlchemy.\n",
      "  pd.read_sql('''\n",
      "/var/folders/h2/plj9zcpn0bj7_bd89m_l42y80000gn/T/ipykernel_1022/1911537951.py:1: FutureWarning: this method is deprecated in favour of `Styler.hide(axis=\"index\")`\n",
      "  pd.read_sql('''\n"
     ]
    },
    {
     "data": {
      "text/html": [
       "<style type=\"text/css\">\n",
       "</style>\n",
       "<table id=\"T_86a70\">\n",
       "  <thead>\n",
       "    <tr>\n",
       "      <th id=\"T_86a70_level0_col0\" class=\"col_heading level0 col0\" >id</th>\n",
       "      <th id=\"T_86a70_level0_col1\" class=\"col_heading level0 col1\" >title</th>\n",
       "      <th id=\"T_86a70_level0_col2\" class=\"col_heading level0 col2\" >year</th>\n",
       "    </tr>\n",
       "  </thead>\n",
       "  <tbody>\n",
       "    <tr>\n",
       "      <td id=\"T_86a70_row0_col0\" class=\"data row0 col0\" >2</td>\n",
       "      <td id=\"T_86a70_row0_col1\" class=\"data row0 col1\" >The Godfather</td>\n",
       "      <td id=\"T_86a70_row0_col2\" class=\"data row0 col2\" >1972</td>\n",
       "    </tr>\n",
       "    <tr>\n",
       "      <td id=\"T_86a70_row1_col0\" class=\"data row1 col0\" >3</td>\n",
       "      <td id=\"T_86a70_row1_col1\" class=\"data row1 col1\" >The Dark Knight</td>\n",
       "      <td id=\"T_86a70_row1_col2\" class=\"data row1 col2\" >2008</td>\n",
       "    </tr>\n",
       "    <tr>\n",
       "      <td id=\"T_86a70_row2_col0\" class=\"data row2 col0\" >4</td>\n",
       "      <td id=\"T_86a70_row2_col1\" class=\"data row2 col1\" >The Godfather: Part II</td>\n",
       "      <td id=\"T_86a70_row2_col2\" class=\"data row2 col2\" >1974</td>\n",
       "    </tr>\n",
       "  </tbody>\n",
       "</table>\n"
      ],
      "text/plain": [
       "<pandas.io.formats.style.Styler at 0x7f88b8ede250>"
      ]
     },
     "execution_count": 66,
     "metadata": {},
     "output_type": "execute_result"
    }
   ],
   "source": [
    "pd.read_sql('''\n",
    "SELECT id, title, year FROM Movies LIMIT 3\n",
    "''', con).style.hide_index()"
   ]
  },
  {
   "cell_type": "markdown",
   "metadata": {},
   "source": [
    "## Extend you \"Movies\" DB \n",
    "\n",
    "Imagine now that we are going to extend our DB with new movies, actors, even with new directors.\n",
    "\n",
    "- We add <b>**\"The matrix\"**</b> movie which was released in <b>(1999)</b>, and has a new property \"Tagline\" <b>(\"Welcome to the Real World\")</b>.\n",
    "    - <font color='red'> Adding the \"Tagline\" new property (attribute) require changing the table schema</font>\n",
    "\n",
    "- We will also add 4 new actors (Person):\n",
    "    - **\"Keanu Reeves\"** who was born in (1964). Note \"born\" property is also new.\n",
    "    - **\"Carrie-Anne Moss\"** who was born in (1967).\n",
    "    - **\"Laurence Fishburne\"** who was born in (1960).\n",
    "    - **\"Hugo Weaving\"** who was born in (1960).\n",
    "    * <font color='red'> **Note**: Adding the new \"born\" Property require changing the table schema</font>    \n",
    "- Moreover, we add 2 directors (Person) :\n",
    "    - **\"Lilly Wachowski\"**, born in (1967)\n",
    "    - **\"Lana Wachowski\"**, born in(1965)\n",
    "- For these directors specify one more Label (\"Director\").\n",
    "    - <font color='red'> This new Label Will require **\"Denormalization\"** Or smothing</font>\n",
    "    \n",
    "- We will also Create a new <b>RelationType \"DIRECTED\" </b> that is directed from the later 3 director to \"the Matrix\" movie.\n",
    "    - - <font color='red'> New created table for **Directed** relationship </font>"
   ]
  },
  {
   "cell_type": "markdown",
   "metadata": {},
   "source": [
    "#### Adding Tagline column to the movie table requires, altering the table schema"
   ]
  },
  {
   "cell_type": "code",
   "execution_count": 67,
   "metadata": {},
   "outputs": [],
   "source": [
    "query = \"ALTER TABLE Movies ADD COLUMN Tagline VARCHAR(255);\"\n",
    "cursor.execute(query)\n",
    "con.commit()"
   ]
  },
  {
   "cell_type": "markdown",
   "metadata": {},
   "source": [
    "#### Inserting the new movie \"The Matrix\" with the prementioned attributes to movie table"
   ]
  },
  {
   "cell_type": "code",
   "execution_count": 68,
   "metadata": {},
   "outputs": [],
   "source": [
    "movies_insert_query = \"\"\"INSERT INTO Movies (id, title, country, year, Tagline) \n",
    "                        VALUES (18, 'The Matrix', 'USA', '1999', 'Welcome to the Real World')\"\"\"\n",
    "cursor.execute(movies_insert_query)\n",
    "con.commit()"
   ]
  },
  {
   "cell_type": "code",
   "execution_count": 69,
   "metadata": {},
   "outputs": [
    {
     "name": "stderr",
     "output_type": "stream",
     "text": [
      "/var/folders/h2/plj9zcpn0bj7_bd89m_l42y80000gn/T/ipykernel_1022/270464660.py:1: UserWarning: pandas only supports SQLAlchemy connectable (engine/connection) or database string URI or sqlite3 DBAPI2 connection. Other DBAPI2 objects are not tested. Please consider using SQLAlchemy.\n",
      "  actorMoviesAgg= pd.read_sql('''SELECT id, name from Person''', con)\n",
      "/var/folders/h2/plj9zcpn0bj7_bd89m_l42y80000gn/T/ipykernel_1022/270464660.py:2: FutureWarning: this method is deprecated in favour of `Styler.hide(axis=\"index\")`\n",
      "  display(actorMoviesAgg.style.hide_index())\n"
     ]
    },
    {
     "data": {
      "text/html": [
       "<style type=\"text/css\">\n",
       "</style>\n",
       "<table id=\"T_e7124\">\n",
       "  <thead>\n",
       "    <tr>\n",
       "      <th id=\"T_e7124_level0_col0\" class=\"col_heading level0 col0\" >id</th>\n",
       "      <th id=\"T_e7124_level0_col1\" class=\"col_heading level0 col1\" >name</th>\n",
       "    </tr>\n",
       "  </thead>\n",
       "  <tbody>\n",
       "    <tr>\n",
       "      <td id=\"T_e7124_row0_col0\" class=\"data row0 col0\" >1</td>\n",
       "      <td id=\"T_e7124_row0_col1\" class=\"data row0 col1\" >Tom Hanks</td>\n",
       "    </tr>\n",
       "    <tr>\n",
       "      <td id=\"T_e7124_row1_col0\" class=\"data row1 col0\" >2</td>\n",
       "      <td id=\"T_e7124_row1_col1\" class=\"data row1 col1\" >Marlon Brando</td>\n",
       "    </tr>\n",
       "    <tr>\n",
       "      <td id=\"T_e7124_row2_col0\" class=\"data row2 col0\" >3</td>\n",
       "      <td id=\"T_e7124_row2_col1\" class=\"data row2 col1\" >Heath Ledger</td>\n",
       "    </tr>\n",
       "    <tr>\n",
       "      <td id=\"T_e7124_row3_col0\" class=\"data row3 col0\" >4</td>\n",
       "      <td id=\"T_e7124_row3_col1\" class=\"data row3 col1\" >Al Pacino</td>\n",
       "    </tr>\n",
       "    <tr>\n",
       "      <td id=\"T_e7124_row4_col0\" class=\"data row4 col0\" >5</td>\n",
       "      <td id=\"T_e7124_row4_col1\" class=\"data row4 col1\" >Henry Fonda</td>\n",
       "    </tr>\n",
       "    <tr>\n",
       "      <td id=\"T_e7124_row5_col0\" class=\"data row5 col0\" >6</td>\n",
       "      <td id=\"T_e7124_row5_col1\" class=\"data row5 col1\" >Michael Douglas</td>\n",
       "    </tr>\n",
       "    <tr>\n",
       "      <td id=\"T_e7124_row6_col0\" class=\"data row6 col0\" >7</td>\n",
       "      <td id=\"T_e7124_row6_col1\" class=\"data row6 col1\" >Viggo Mortensen</td>\n",
       "    </tr>\n",
       "    <tr>\n",
       "      <td id=\"T_e7124_row7_col0\" class=\"data row7 col0\" >8</td>\n",
       "      <td id=\"T_e7124_row7_col1\" class=\"data row7 col1\" >John Travolta</td>\n",
       "    </tr>\n",
       "    <tr>\n",
       "      <td id=\"T_e7124_row8_col0\" class=\"data row8 col0\" >9</td>\n",
       "      <td id=\"T_e7124_row8_col1\" class=\"data row8 col1\" >Clint Eastwood</td>\n",
       "    </tr>\n",
       "    <tr>\n",
       "      <td id=\"T_e7124_row9_col0\" class=\"data row9 col0\" >10</td>\n",
       "      <td id=\"T_e7124_row9_col1\" class=\"data row9 col1\" >Brad Pitt</td>\n",
       "    </tr>\n",
       "    <tr>\n",
       "      <td id=\"T_e7124_row10_col0\" class=\"data row10 col0\" >11</td>\n",
       "      <td id=\"T_e7124_row10_col1\" class=\"data row10 col1\" >Robert De Niro</td>\n",
       "    </tr>\n",
       "    <tr>\n",
       "      <td id=\"T_e7124_row11_col0\" class=\"data row11 col0\" >12</td>\n",
       "      <td id=\"T_e7124_row11_col1\" class=\"data row11 col1\" >Leonardo DiCaprio</td>\n",
       "    </tr>\n",
       "    <tr>\n",
       "      <td id=\"T_e7124_row12_col0\" class=\"data row12 col0\" >13</td>\n",
       "      <td id=\"T_e7124_row12_col1\" class=\"data row12 col1\" >Elijah Wood</td>\n",
       "    </tr>\n",
       "    <tr>\n",
       "      <td id=\"T_e7124_row13_col0\" class=\"data row13 col0\" >14</td>\n",
       "      <td id=\"T_e7124_row13_col1\" class=\"data row13 col1\" >Harrison Ford</td>\n",
       "    </tr>\n",
       "  </tbody>\n",
       "</table>\n"
      ],
      "text/plain": [
       "<pandas.io.formats.style.Styler at 0x7f88b91064c0>"
      ]
     },
     "metadata": {},
     "output_type": "display_data"
    }
   ],
   "source": [
    "actorMoviesAgg= pd.read_sql('''SELECT id, name from Person''', con)\n",
    "display(actorMoviesAgg.style.hide_index())"
   ]
  },
  {
   "cell_type": "code",
   "execution_count": 70,
   "metadata": {},
   "outputs": [
    {
     "name": "stderr",
     "output_type": "stream",
     "text": [
      "/var/folders/h2/plj9zcpn0bj7_bd89m_l42y80000gn/T/ipykernel_1022/2172083709.py:1: UserWarning: pandas only supports SQLAlchemy connectable (engine/connection) or database string URI or sqlite3 DBAPI2 connection. Other DBAPI2 objects are not tested. Please consider using SQLAlchemy.\n",
      "  actorMoviesAgg= pd.read_sql('''SELECT P.name, count(M.id)\n",
      "/var/folders/h2/plj9zcpn0bj7_bd89m_l42y80000gn/T/ipykernel_1022/2172083709.py:7: FutureWarning: this method is deprecated in favour of `Styler.hide(axis=\"index\")`\n",
      "  display(actorMoviesAgg.style.hide_index())\n"
     ]
    },
    {
     "data": {
      "text/html": [
       "<style type=\"text/css\">\n",
       "</style>\n",
       "<table id=\"T_24c31\">\n",
       "  <thead>\n",
       "    <tr>\n",
       "      <th id=\"T_24c31_level0_col0\" class=\"col_heading level0 col0\" >name</th>\n",
       "      <th id=\"T_24c31_level0_col1\" class=\"col_heading level0 col1\" >count</th>\n",
       "    </tr>\n",
       "  </thead>\n",
       "  <tbody>\n",
       "    <tr>\n",
       "      <td id=\"T_24c31_row0_col0\" class=\"data row0 col0\" >Henry Fonda</td>\n",
       "      <td id=\"T_24c31_row0_col1\" class=\"data row0 col1\" >1</td>\n",
       "    </tr>\n",
       "    <tr>\n",
       "      <td id=\"T_24c31_row1_col0\" class=\"data row1 col0\" >Tom Hanks</td>\n",
       "      <td id=\"T_24c31_row1_col1\" class=\"data row1 col1\" >5</td>\n",
       "    </tr>\n",
       "    <tr>\n",
       "      <td id=\"T_24c31_row2_col0\" class=\"data row2 col0\" >Michael Douglas</td>\n",
       "      <td id=\"T_24c31_row2_col1\" class=\"data row2 col1\" >1</td>\n",
       "    </tr>\n",
       "    <tr>\n",
       "      <td id=\"T_24c31_row3_col0\" class=\"data row3 col0\" >Clint Eastwood</td>\n",
       "      <td id=\"T_24c31_row3_col1\" class=\"data row3 col1\" >1</td>\n",
       "    </tr>\n",
       "    <tr>\n",
       "      <td id=\"T_24c31_row4_col0\" class=\"data row4 col0\" >Leonardo DiCaprio</td>\n",
       "      <td id=\"T_24c31_row4_col1\" class=\"data row4 col1\" >1</td>\n",
       "    </tr>\n",
       "    <tr>\n",
       "      <td id=\"T_24c31_row5_col0\" class=\"data row5 col0\" >Heath Ledger</td>\n",
       "      <td id=\"T_24c31_row5_col1\" class=\"data row5 col1\" >1</td>\n",
       "    </tr>\n",
       "    <tr>\n",
       "      <td id=\"T_24c31_row6_col0\" class=\"data row6 col0\" >Robert De Niro</td>\n",
       "      <td id=\"T_24c31_row6_col1\" class=\"data row6 col1\" >1</td>\n",
       "    </tr>\n",
       "    <tr>\n",
       "      <td id=\"T_24c31_row7_col0\" class=\"data row7 col0\" >Viggo Mortensen</td>\n",
       "      <td id=\"T_24c31_row7_col1\" class=\"data row7 col1\" >1</td>\n",
       "    </tr>\n",
       "    <tr>\n",
       "      <td id=\"T_24c31_row8_col0\" class=\"data row8 col0\" >Marlon Brando</td>\n",
       "      <td id=\"T_24c31_row8_col1\" class=\"data row8 col1\" >1</td>\n",
       "    </tr>\n",
       "    <tr>\n",
       "      <td id=\"T_24c31_row9_col0\" class=\"data row9 col0\" >Harrison Ford</td>\n",
       "      <td id=\"T_24c31_row9_col1\" class=\"data row9 col1\" >1</td>\n",
       "    </tr>\n",
       "    <tr>\n",
       "      <td id=\"T_24c31_row10_col0\" class=\"data row10 col0\" >Brad Pitt</td>\n",
       "      <td id=\"T_24c31_row10_col1\" class=\"data row10 col1\" >1</td>\n",
       "    </tr>\n",
       "    <tr>\n",
       "      <td id=\"T_24c31_row11_col0\" class=\"data row11 col0\" >Elijah Wood</td>\n",
       "      <td id=\"T_24c31_row11_col1\" class=\"data row11 col1\" >1</td>\n",
       "    </tr>\n",
       "    <tr>\n",
       "      <td id=\"T_24c31_row12_col0\" class=\"data row12 col0\" >Al Pacino</td>\n",
       "      <td id=\"T_24c31_row12_col1\" class=\"data row12 col1\" >1</td>\n",
       "    </tr>\n",
       "    <tr>\n",
       "      <td id=\"T_24c31_row13_col0\" class=\"data row13 col0\" >John Travolta</td>\n",
       "      <td id=\"T_24c31_row13_col1\" class=\"data row13 col1\" >1</td>\n",
       "    </tr>\n",
       "  </tbody>\n",
       "</table>\n"
      ],
      "text/plain": [
       "<pandas.io.formats.style.Styler at 0x7f88b8eccfd0>"
      ]
     },
     "metadata": {},
     "output_type": "display_data"
    }
   ],
   "source": [
    "actorMoviesAgg= pd.read_sql('''SELECT P.name, count(M.id)\n",
    "                            FROM Movies M\n",
    "                            LEFT JOIN Roles R ON M.id = R.movie_id\n",
    "                            LEFT JOIN Person P ON P.id = R.person_id\n",
    "                            WHERE P.name is not null\n",
    "                            GROUP BY P.name;''', con)\n",
    "display(actorMoviesAgg.style.hide_index())"
   ]
  },
  {
   "cell_type": "markdown",
   "metadata": {},
   "source": [
    "#### Adding 'born' column to the person table also requires, altering the table schema"
   ]
  },
  {
   "cell_type": "code",
   "execution_count": 71,
   "metadata": {},
   "outputs": [],
   "source": [
    "query = \"\"\"ALTER TABLE Person \n",
    "           ADD COLUMN Born INT;        \n",
    "        \"\"\"\n",
    "cursor.execute(query)\n",
    "con.commit()"
   ]
  },
  {
   "cell_type": "markdown",
   "metadata": {},
   "source": [
    "#### Inserting the  \"4\" more Actors."
   ]
  },
  {
   "cell_type": "code",
   "execution_count": 72,
   "metadata": {},
   "outputs": [],
   "source": [
    "person_data = [\n",
    "    (15, \"Keanu Reeves\", 1964),\n",
    "    (16, \"Carrie-Anne Moss\",1967),\n",
    "    (17, \"Laurence Fishburne\",1960),\n",
    "    (18, \"Hugo Weaving\",1960)\n",
    "]\n",
    "person_insert_query = \"INSERT INTO Person (id, name, born) VALUES (%s, %s, %s)\"\n",
    "cursor.executemany(person_insert_query, person_data)\n",
    "con.commit()"
   ]
  },
  {
   "cell_type": "markdown",
   "metadata": {},
   "source": [
    "#### Inserting the  \"2\" Directors"
   ]
  },
  {
   "cell_type": "code",
   "execution_count": 73,
   "metadata": {},
   "outputs": [],
   "source": [
    "person_data = [\n",
    "    (19, \"Lilly Wachowski\", 1967),\n",
    "    (20, \"Lana Wachowski\", 1965)\n",
    "]\n",
    "person_insert_query = \"INSERT INTO Person (id, name, born) VALUES (%s, %s, %s)\"\n",
    "cursor.executemany(person_insert_query, person_data)\n",
    "con.commit()"
   ]
  },
  {
   "cell_type": "markdown",
   "metadata": {},
   "source": [
    "#### Specifying this new Label (\"Director\") will require \"normalization\"\n",
    "\n",
    "I highly suggest modeling this a little more \"normalized\". You are already on the right track by realizing that both \"Directors\" and maybe after that \"Actors\" are the same entity (Person). The trick is that you should model \"roles\", and then model user's roles as well. That makes 3 total tables for this small portion of your model.\n",
    "\n",
    "<img src= 'NormalizationTrick.JPG'>"
   ]
  },
  {
   "cell_type": "code",
   "execution_count": 74,
   "metadata": {},
   "outputs": [
    {
     "name": "stdout",
     "output_type": "stream",
     "text": [
      "Table Label created successfully in PostgreSQL \n"
     ]
    }
   ],
   "source": [
    "#YOUR CODE HERE to create the \"L\" table\n",
    "try:\n",
    "    query = '''CREATE TABLE Label\n",
    "              (id INT PRIMARY KEY,\n",
    "              label VARCHAR(255)\n",
    "               ); '''\n",
    "    cursor.execute(query)\n",
    "    con.commit()\n",
    "    print(\"Table Label created successfully in PostgreSQL \")\n",
    "except (Exception, psycopg2.Error) as error:\n",
    "    # if it exits with an exception the transaction is rolled back.\n",
    "    con.rollback()\n",
    "    print(\"Error While Creating the DB: \",error)"
   ]
  },
  {
   "cell_type": "code",
   "execution_count": 75,
   "metadata": {},
   "outputs": [
    {
     "name": "stdout",
     "output_type": "stream",
     "text": [
      "Table Person_Label created successfully in PostgreSQL \n"
     ]
    }
   ],
   "source": [
    "#Create Person_Label Table CODE HERE !!!\n",
    "try:\n",
    "    query = '''CREATE TABLE Person_Label\n",
    "              (person_id  INT  REFERENCES Person(id),\n",
    "              label_id  INT  REFERENCES Label(id)\n",
    "               ); '''\n",
    "    cursor.execute(query)\n",
    "    con.commit()\n",
    "    print(\"Table Person_Label created successfully in PostgreSQL \")\n",
    "except (Exception, psycopg2.Error) as error:\n",
    "    # if it exits with an exception the transaction is rolled back.\n",
    "    con.rollback()\n",
    "    print(\"Error While Creating the DB: \",error)"
   ]
  },
  {
   "cell_type": "markdown",
   "metadata": {},
   "source": [
    "#### Insert Data into the two new normalized tables (\"Person_label\", and \"Label\") "
   ]
  },
  {
   "cell_type": "code",
   "execution_count": 76,
   "metadata": {},
   "outputs": [],
   "source": [
    "label_data = [\n",
    "    (0, \"Actor/Actress\"),\n",
    "    (1, \"Director\")\n",
    "]\n",
    "query = \"INSERT INTO Label (id, label) VALUES (%s, %s)\"\n",
    "cursor.executemany(query, label_data)\n",
    "con.commit()\n",
    "person_label_data = [\n",
    "    (1, 0),\n",
    "    (2, 0),\n",
    "    (3, 0),\n",
    "    (4, 0),\n",
    "    (5, 0),\n",
    "    (6, 0),\n",
    "    (7, 0),\n",
    "    (8, 0),\n",
    "    (9, 0),\n",
    "    (10, 0),\n",
    "    (11, 0),\n",
    "    (12, 0),\n",
    "    (13, 0),\n",
    "    (14, 0),\n",
    "    (15, 0),\n",
    "    (16, 0),\n",
    "    (17, 0),\n",
    "    (18, 0),\n",
    "    (19, 1),\n",
    "    (20, 1),\n",
    "]\n",
    "query = \"INSERT INTO Person_Label (person_id, label_id) VALUES (%s, %s)\"\n",
    "cursor.executemany(query, person_label_data)\n",
    "con.commit()"
   ]
  },
  {
   "cell_type": "markdown",
   "metadata": {},
   "source": [
    "#### Perform a query that shows only the \"Directors\""
   ]
  },
  {
   "cell_type": "code",
   "execution_count": 77,
   "metadata": {},
   "outputs": [
    {
     "name": "stderr",
     "output_type": "stream",
     "text": [
      "/var/folders/h2/plj9zcpn0bj7_bd89m_l42y80000gn/T/ipykernel_1022/1460870458.py:1: UserWarning: pandas only supports SQLAlchemy connectable (engine/connection) or database string URI or sqlite3 DBAPI2 connection. Other DBAPI2 objects are not tested. Please consider using SQLAlchemy.\n",
      "  pd.read_sql(\"\"\"SELECT id, name from Person as P\n",
      "/var/folders/h2/plj9zcpn0bj7_bd89m_l42y80000gn/T/ipykernel_1022/1460870458.py:1: FutureWarning: this method is deprecated in favour of `Styler.hide(axis=\"index\")`\n",
      "  pd.read_sql(\"\"\"SELECT id, name from Person as P\n"
     ]
    },
    {
     "data": {
      "text/html": [
       "<style type=\"text/css\">\n",
       "</style>\n",
       "<table id=\"T_df14a\">\n",
       "  <thead>\n",
       "    <tr>\n",
       "      <th id=\"T_df14a_level0_col0\" class=\"col_heading level0 col0\" >id</th>\n",
       "      <th id=\"T_df14a_level0_col1\" class=\"col_heading level0 col1\" >name</th>\n",
       "    </tr>\n",
       "  </thead>\n",
       "  <tbody>\n",
       "    <tr>\n",
       "      <td id=\"T_df14a_row0_col0\" class=\"data row0 col0\" >19</td>\n",
       "      <td id=\"T_df14a_row0_col1\" class=\"data row0 col1\" >Lilly Wachowski</td>\n",
       "    </tr>\n",
       "    <tr>\n",
       "      <td id=\"T_df14a_row1_col0\" class=\"data row1 col0\" >20</td>\n",
       "      <td id=\"T_df14a_row1_col1\" class=\"data row1 col1\" >Lana Wachowski</td>\n",
       "    </tr>\n",
       "  </tbody>\n",
       "</table>\n"
      ],
      "text/plain": [
       "<pandas.io.formats.style.Styler at 0x7f88b832b6d0>"
      ]
     },
     "execution_count": 77,
     "metadata": {},
     "output_type": "execute_result"
    }
   ],
   "source": [
    "pd.read_sql(\"\"\"SELECT id, name from Person as P\n",
    "                LEFT JOIN Person_Label as PL\n",
    "                ON PL.person_id=P.id\n",
    "                WHERE PL.label_id=1\n",
    "\"\"\", con).style.hide_index()"
   ]
  },
  {
   "cell_type": "markdown",
   "metadata": {},
   "source": [
    "#### \"Directed\" Relationship creation"
   ]
  },
  {
   "cell_type": "code",
   "execution_count": 78,
   "metadata": {},
   "outputs": [
    {
     "name": "stdout",
     "output_type": "stream",
     "text": [
      "Table Directed created successfully in PostgreSQL \n"
     ]
    }
   ],
   "source": [
    "# CODE to create the \"Directed\" Relationship.\n",
    "query = '''CREATE TABLE Directed\n",
    "          (movie_id  INT  REFERENCES Movies(id),\n",
    "          person_id  INT  REFERENCES Person(id)\n",
    "           ); '''\n",
    "cursor.execute(query)\n",
    "con.commit()\n",
    "print(\"Table Directed created successfully in PostgreSQL \")"
   ]
  },
  {
   "cell_type": "markdown",
   "metadata": {},
   "source": [
    "#### Insert data to the \"Directed\" table "
   ]
  },
  {
   "cell_type": "code",
   "execution_count": 79,
   "metadata": {},
   "outputs": [],
   "source": [
    "directed_data = [(18, 19), (18, 20)]\n",
    "query = \"INSERT INTO Directed (movie_id, person_id) VALUES (%s, %s)\"\n",
    "cursor.executemany(query, directed_data)\n",
    "con.commit()"
   ]
  },
  {
   "cell_type": "markdown",
   "metadata": {},
   "source": [
    "### Perform a query that get persons who Directed \"The matrix\" movie."
   ]
  },
  {
   "cell_type": "code",
   "execution_count": 80,
   "metadata": {},
   "outputs": [
    {
     "name": "stderr",
     "output_type": "stream",
     "text": [
      "/var/folders/h2/plj9zcpn0bj7_bd89m_l42y80000gn/T/ipykernel_1022/962255736.py:1: UserWarning: pandas only supports SQLAlchemy connectable (engine/connection) or database string URI or sqlite3 DBAPI2 connection. Other DBAPI2 objects are not tested. Please consider using SQLAlchemy.\n",
      "  pd.read_sql(\"\"\"SELECT M.title, P.name from Person as P\n",
      "/var/folders/h2/plj9zcpn0bj7_bd89m_l42y80000gn/T/ipykernel_1022/962255736.py:1: FutureWarning: this method is deprecated in favour of `Styler.hide(axis=\"index\")`\n",
      "  pd.read_sql(\"\"\"SELECT M.title, P.name from Person as P\n"
     ]
    },
    {
     "data": {
      "text/html": [
       "<style type=\"text/css\">\n",
       "</style>\n",
       "<table id=\"T_adc89\">\n",
       "  <thead>\n",
       "    <tr>\n",
       "      <th id=\"T_adc89_level0_col0\" class=\"col_heading level0 col0\" >title</th>\n",
       "      <th id=\"T_adc89_level0_col1\" class=\"col_heading level0 col1\" >name</th>\n",
       "    </tr>\n",
       "  </thead>\n",
       "  <tbody>\n",
       "    <tr>\n",
       "      <td id=\"T_adc89_row0_col0\" class=\"data row0 col0\" >The Matrix</td>\n",
       "      <td id=\"T_adc89_row0_col1\" class=\"data row0 col1\" >Lilly Wachowski</td>\n",
       "    </tr>\n",
       "    <tr>\n",
       "      <td id=\"T_adc89_row1_col0\" class=\"data row1 col0\" >The Matrix</td>\n",
       "      <td id=\"T_adc89_row1_col1\" class=\"data row1 col1\" >Lana Wachowski</td>\n",
       "    </tr>\n",
       "  </tbody>\n",
       "</table>\n"
      ],
      "text/plain": [
       "<pandas.io.formats.style.Styler at 0x7f88b91efbe0>"
      ]
     },
     "execution_count": 80,
     "metadata": {},
     "output_type": "execute_result"
    }
   ],
   "source": [
    "pd.read_sql(\"\"\"SELECT M.title, P.name from Person as P\n",
    "                LEFT JOIN Directed as D\n",
    "                ON D.person_id=P.id\n",
    "                LEFT JOIN Movies as M\n",
    "                ON D.movie_id=M.id\n",
    "                WHERE M.title = 'The Matrix'\n",
    "\"\"\", con).style.hide_index()"
   ]
  },
  {
   "cell_type": "markdown",
   "metadata": {},
   "source": [
    "## Task 3 (Tartu Country Club): \n",
    "\n",
    "- The DB  centered arround a **\"country club\"**, with a set of **members**, **facilities** such as tennis courts, and booking history for those facilities. \n",
    "- Amongst other things, the club wants to understand how they can use their information to analyze facility usage/demand.\n",
    "\n",
    "<img src=\"DBSchema.JPG\">"
   ]
  },
  {
   "cell_type": "markdown",
   "metadata": {},
   "source": [
    "#### From the above schema Diagram, answer the following questions:\n",
    "- What is the relationship type(i.e. nature) between the **\"memebers\"** and **\"facilities\"** tables?"
   ]
  },
  {
   "cell_type": "markdown",
   "metadata": {},
   "source": [
    "##### <font color='green'>Answer: Many to many</font>\n",
    "##### <font color='blue'>Many people can book 1 facility (for example: 2 people for a tennis courts). One person can also book many facilities.</font>"
   ]
  },
  {
   "cell_type": "markdown",
   "metadata": {},
   "source": [
    "- Mention How was this relationship handled ?"
   ]
  },
  {
   "cell_type": "markdown",
   "metadata": {},
   "source": [
    "##### <font color='green'>Answer: </font>\n",
    "##### <font color='blue'>Using table Bookings</font>"
   ]
  },
  {
   "cell_type": "markdown",
   "metadata": {},
   "source": [
    "- Mention what are the keys (PRIMARY, FORIEGN,..) in all the three tables (DB schema)."
   ]
  },
  {
   "cell_type": "markdown",
   "metadata": {},
   "source": [
    "##### <font color='green'>Answer: </font>\n",
    "##### <font color='blue'>Table Members: Mermid is primary key</font>\n",
    "##### <font color='blue'>Table Bookings: Mermid and Facid is foreign key</font>\n",
    "##### <font color='blue'>Table Facilities: Facid is primary key</font>"
   ]
  },
  {
   "cell_type": "markdown",
   "metadata": {},
   "source": [
    "- What is the Degree of each Table in the above DB schema?"
   ]
  },
  {
   "cell_type": "markdown",
   "metadata": {},
   "source": [
    "##### <font color='green'>Answer: </font>\n",
    "##### <font color='blue'>Table Members: 8 columns</font>\n",
    "##### <font color='blue'>Table Bookings: 4 columns</font>\n",
    "##### <font color='blue'>Table Facilities: 6 columns</font>"
   ]
  },
  {
   "cell_type": "markdown",
   "metadata": {},
   "source": [
    "#### Use the attached  <font color='green'> \"clubdata.sql\" </font> script to create DB , tables, and insert data in the created tables.\n",
    "- login to your postgres command line as shown above.\n",
    "- use the command in your ***PSQL SHELL***  <code>\\i 'your/path/clubdata.sql'</code> to run the script.\n",
    "<img src=\"results/create_exercise_db.png\">"
   ]
  },
  {
   "cell_type": "markdown",
   "metadata": {},
   "source": [
    "#### Use SQL commands using python like in this jupyter note book, or use \"PgAdmin\" to answer the following:"
   ]
  },
  {
   "cell_type": "code",
   "execution_count": 81,
   "metadata": {},
   "outputs": [],
   "source": [
    "con = psycopg2.connect(user = \"pguser\",\n",
    "                       password = \"changeme\",\n",
    "                       host = \"127.0.0.1\",\n",
    "                       port = \"5432\",\n",
    "                       database = \"exercises\")\n",
    "\n",
    "try:\n",
    "    # Obtain a new DB Cursor (to \"tartupurchases\" DB )\n",
    "    cursor = con.cursor();\n",
    "except (Exception, psycopg2.Error) as error:\n",
    "    print(\"Error in Connection\",error)"
   ]
  },
  {
   "cell_type": "markdown",
   "metadata": {},
   "source": [
    "#### Get a list of all of the facilities and their cost to members."
   ]
  },
  {
   "cell_type": "code",
   "execution_count": 82,
   "metadata": {},
   "outputs": [
    {
     "name": "stderr",
     "output_type": "stream",
     "text": [
      "/var/folders/h2/plj9zcpn0bj7_bd89m_l42y80000gn/T/ipykernel_1022/2003601143.py:1: UserWarning: pandas only supports SQLAlchemy connectable (engine/connection) or database string URI or sqlite3 DBAPI2 connection. Other DBAPI2 objects are not tested. Please consider using SQLAlchemy.\n",
      "  pd.read_sql(\"\"\"SELECT name, membercost FROM cd.facilities\"\"\", con).style.hide_index()\n",
      "/var/folders/h2/plj9zcpn0bj7_bd89m_l42y80000gn/T/ipykernel_1022/2003601143.py:1: FutureWarning: this method is deprecated in favour of `Styler.hide(axis=\"index\")`\n",
      "  pd.read_sql(\"\"\"SELECT name, membercost FROM cd.facilities\"\"\", con).style.hide_index()\n"
     ]
    },
    {
     "data": {
      "text/html": [
       "<style type=\"text/css\">\n",
       "</style>\n",
       "<table id=\"T_74242\">\n",
       "  <thead>\n",
       "    <tr>\n",
       "      <th id=\"T_74242_level0_col0\" class=\"col_heading level0 col0\" >name</th>\n",
       "      <th id=\"T_74242_level0_col1\" class=\"col_heading level0 col1\" >membercost</th>\n",
       "    </tr>\n",
       "  </thead>\n",
       "  <tbody>\n",
       "    <tr>\n",
       "      <td id=\"T_74242_row0_col0\" class=\"data row0 col0\" >Tennis Court 1</td>\n",
       "      <td id=\"T_74242_row0_col1\" class=\"data row0 col1\" >5.000000</td>\n",
       "    </tr>\n",
       "    <tr>\n",
       "      <td id=\"T_74242_row1_col0\" class=\"data row1 col0\" >Tennis Court 2</td>\n",
       "      <td id=\"T_74242_row1_col1\" class=\"data row1 col1\" >5.000000</td>\n",
       "    </tr>\n",
       "    <tr>\n",
       "      <td id=\"T_74242_row2_col0\" class=\"data row2 col0\" >Badminton Court</td>\n",
       "      <td id=\"T_74242_row2_col1\" class=\"data row2 col1\" >0.000000</td>\n",
       "    </tr>\n",
       "    <tr>\n",
       "      <td id=\"T_74242_row3_col0\" class=\"data row3 col0\" >Table Tennis</td>\n",
       "      <td id=\"T_74242_row3_col1\" class=\"data row3 col1\" >0.000000</td>\n",
       "    </tr>\n",
       "    <tr>\n",
       "      <td id=\"T_74242_row4_col0\" class=\"data row4 col0\" >Massage Room 1</td>\n",
       "      <td id=\"T_74242_row4_col1\" class=\"data row4 col1\" >35.000000</td>\n",
       "    </tr>\n",
       "    <tr>\n",
       "      <td id=\"T_74242_row5_col0\" class=\"data row5 col0\" >Massage Room 2</td>\n",
       "      <td id=\"T_74242_row5_col1\" class=\"data row5 col1\" >35.000000</td>\n",
       "    </tr>\n",
       "    <tr>\n",
       "      <td id=\"T_74242_row6_col0\" class=\"data row6 col0\" >Squash Court</td>\n",
       "      <td id=\"T_74242_row6_col1\" class=\"data row6 col1\" >3.500000</td>\n",
       "    </tr>\n",
       "    <tr>\n",
       "      <td id=\"T_74242_row7_col0\" class=\"data row7 col0\" >Snooker Table</td>\n",
       "      <td id=\"T_74242_row7_col1\" class=\"data row7 col1\" >0.000000</td>\n",
       "    </tr>\n",
       "    <tr>\n",
       "      <td id=\"T_74242_row8_col0\" class=\"data row8 col0\" >Pool Table</td>\n",
       "      <td id=\"T_74242_row8_col1\" class=\"data row8 col1\" >0.000000</td>\n",
       "    </tr>\n",
       "  </tbody>\n",
       "</table>\n"
      ],
      "text/plain": [
       "<pandas.io.formats.style.Styler at 0x7f88b91e4100>"
      ]
     },
     "execution_count": 82,
     "metadata": {},
     "output_type": "execute_result"
    }
   ],
   "source": [
    "pd.read_sql(\"\"\"SELECT name, membercost FROM cd.facilities\"\"\", con).style.hide_index()"
   ]
  },
  {
   "cell_type": "markdown",
   "metadata": {},
   "source": [
    "#### How can you produce a list of facilities that charge a fee to members (membercost>0)?"
   ]
  },
  {
   "cell_type": "code",
   "execution_count": 84,
   "metadata": {},
   "outputs": [
    {
     "name": "stderr",
     "output_type": "stream",
     "text": [
      "/var/folders/h2/plj9zcpn0bj7_bd89m_l42y80000gn/T/ipykernel_1022/1830521628.py:1: UserWarning: pandas only supports SQLAlchemy connectable (engine/connection) or database string URI or sqlite3 DBAPI2 connection. Other DBAPI2 objects are not tested. Please consider using SQLAlchemy.\n",
      "  pd.read_sql(\"\"\"SELECT name, membercost FROM cd.facilities\n",
      "/var/folders/h2/plj9zcpn0bj7_bd89m_l42y80000gn/T/ipykernel_1022/1830521628.py:1: FutureWarning: this method is deprecated in favour of `Styler.hide(axis=\"index\")`\n",
      "  pd.read_sql(\"\"\"SELECT name, membercost FROM cd.facilities\n"
     ]
    },
    {
     "data": {
      "text/html": [
       "<style type=\"text/css\">\n",
       "</style>\n",
       "<table id=\"T_5d1b7\">\n",
       "  <thead>\n",
       "    <tr>\n",
       "      <th id=\"T_5d1b7_level0_col0\" class=\"col_heading level0 col0\" >name</th>\n",
       "      <th id=\"T_5d1b7_level0_col1\" class=\"col_heading level0 col1\" >membercost</th>\n",
       "    </tr>\n",
       "  </thead>\n",
       "  <tbody>\n",
       "    <tr>\n",
       "      <td id=\"T_5d1b7_row0_col0\" class=\"data row0 col0\" >Tennis Court 1</td>\n",
       "      <td id=\"T_5d1b7_row0_col1\" class=\"data row0 col1\" >5.000000</td>\n",
       "    </tr>\n",
       "    <tr>\n",
       "      <td id=\"T_5d1b7_row1_col0\" class=\"data row1 col0\" >Tennis Court 2</td>\n",
       "      <td id=\"T_5d1b7_row1_col1\" class=\"data row1 col1\" >5.000000</td>\n",
       "    </tr>\n",
       "    <tr>\n",
       "      <td id=\"T_5d1b7_row2_col0\" class=\"data row2 col0\" >Massage Room 1</td>\n",
       "      <td id=\"T_5d1b7_row2_col1\" class=\"data row2 col1\" >35.000000</td>\n",
       "    </tr>\n",
       "    <tr>\n",
       "      <td id=\"T_5d1b7_row3_col0\" class=\"data row3 col0\" >Massage Room 2</td>\n",
       "      <td id=\"T_5d1b7_row3_col1\" class=\"data row3 col1\" >35.000000</td>\n",
       "    </tr>\n",
       "    <tr>\n",
       "      <td id=\"T_5d1b7_row4_col0\" class=\"data row4 col0\" >Squash Court</td>\n",
       "      <td id=\"T_5d1b7_row4_col1\" class=\"data row4 col1\" >3.500000</td>\n",
       "    </tr>\n",
       "  </tbody>\n",
       "</table>\n"
      ],
      "text/plain": [
       "<pandas.io.formats.style.Styler at 0x7f88b91b5ca0>"
      ]
     },
     "execution_count": 84,
     "metadata": {},
     "output_type": "execute_result"
    }
   ],
   "source": [
    "pd.read_sql(\"\"\"SELECT name, membercost FROM cd.facilities\n",
    "                WHERE membercost>0\"\"\", con).style.hide_index()"
   ]
  },
  {
   "cell_type": "markdown",
   "metadata": {},
   "source": [
    "####  How can you produce a list of all facilities with the word 'Tennis' in their name?"
   ]
  },
  {
   "cell_type": "code",
   "execution_count": 85,
   "metadata": {},
   "outputs": [
    {
     "name": "stderr",
     "output_type": "stream",
     "text": [
      "/var/folders/h2/plj9zcpn0bj7_bd89m_l42y80000gn/T/ipykernel_1022/234829782.py:1: UserWarning: pandas only supports SQLAlchemy connectable (engine/connection) or database string URI or sqlite3 DBAPI2 connection. Other DBAPI2 objects are not tested. Please consider using SQLAlchemy.\n",
      "  pd.read_sql(\"\"\"SELECT name, membercost FROM cd.facilities\n",
      "/var/folders/h2/plj9zcpn0bj7_bd89m_l42y80000gn/T/ipykernel_1022/234829782.py:1: FutureWarning: this method is deprecated in favour of `Styler.hide(axis=\"index\")`\n",
      "  pd.read_sql(\"\"\"SELECT name, membercost FROM cd.facilities\n"
     ]
    },
    {
     "data": {
      "text/html": [
       "<style type=\"text/css\">\n",
       "</style>\n",
       "<table id=\"T_18204\">\n",
       "  <thead>\n",
       "    <tr>\n",
       "      <th id=\"T_18204_level0_col0\" class=\"col_heading level0 col0\" >name</th>\n",
       "      <th id=\"T_18204_level0_col1\" class=\"col_heading level0 col1\" >membercost</th>\n",
       "    </tr>\n",
       "  </thead>\n",
       "  <tbody>\n",
       "    <tr>\n",
       "      <td id=\"T_18204_row0_col0\" class=\"data row0 col0\" >Tennis Court 1</td>\n",
       "      <td id=\"T_18204_row0_col1\" class=\"data row0 col1\" >5.000000</td>\n",
       "    </tr>\n",
       "    <tr>\n",
       "      <td id=\"T_18204_row1_col0\" class=\"data row1 col0\" >Tennis Court 2</td>\n",
       "      <td id=\"T_18204_row1_col1\" class=\"data row1 col1\" >5.000000</td>\n",
       "    </tr>\n",
       "  </tbody>\n",
       "</table>\n"
      ],
      "text/plain": [
       "<pandas.io.formats.style.Styler at 0x7f88b8f0a970>"
      ]
     },
     "execution_count": 85,
     "metadata": {},
     "output_type": "execute_result"
    }
   ],
   "source": [
    "pd.read_sql(\"\"\"SELECT name, membercost FROM cd.facilities\n",
    "                WHERE name LIKE 'Tennis%'\"\"\", con).style.hide_index()"
   ]
  },
  {
   "cell_type": "markdown",
   "metadata": {},
   "source": [
    "#### How can you retrieve the details of facilities with ID 1 and 5? <font color=red>Try to do it without using the OR operator.</font>"
   ]
  },
  {
   "cell_type": "code",
   "execution_count": 87,
   "metadata": {},
   "outputs": [
    {
     "name": "stderr",
     "output_type": "stream",
     "text": [
      "/var/folders/h2/plj9zcpn0bj7_bd89m_l42y80000gn/T/ipykernel_1022/4040678694.py:1: UserWarning: pandas only supports SQLAlchemy connectable (engine/connection) or database string URI or sqlite3 DBAPI2 connection. Other DBAPI2 objects are not tested. Please consider using SQLAlchemy.\n",
      "  pd.read_sql(\"\"\"SELECT * FROM cd.facilities\n",
      "/var/folders/h2/plj9zcpn0bj7_bd89m_l42y80000gn/T/ipykernel_1022/4040678694.py:1: FutureWarning: this method is deprecated in favour of `Styler.hide(axis=\"index\")`\n",
      "  pd.read_sql(\"\"\"SELECT * FROM cd.facilities\n"
     ]
    },
    {
     "data": {
      "text/html": [
       "<style type=\"text/css\">\n",
       "</style>\n",
       "<table id=\"T_1d492\">\n",
       "  <thead>\n",
       "    <tr>\n",
       "      <th id=\"T_1d492_level0_col0\" class=\"col_heading level0 col0\" >facid</th>\n",
       "      <th id=\"T_1d492_level0_col1\" class=\"col_heading level0 col1\" >name</th>\n",
       "      <th id=\"T_1d492_level0_col2\" class=\"col_heading level0 col2\" >membercost</th>\n",
       "      <th id=\"T_1d492_level0_col3\" class=\"col_heading level0 col3\" >guestcost</th>\n",
       "      <th id=\"T_1d492_level0_col4\" class=\"col_heading level0 col4\" >initialoutlay</th>\n",
       "      <th id=\"T_1d492_level0_col5\" class=\"col_heading level0 col5\" >monthlymaintenance</th>\n",
       "    </tr>\n",
       "  </thead>\n",
       "  <tbody>\n",
       "    <tr>\n",
       "      <td id=\"T_1d492_row0_col0\" class=\"data row0 col0\" >1</td>\n",
       "      <td id=\"T_1d492_row0_col1\" class=\"data row0 col1\" >Tennis Court 2</td>\n",
       "      <td id=\"T_1d492_row0_col2\" class=\"data row0 col2\" >5.000000</td>\n",
       "      <td id=\"T_1d492_row0_col3\" class=\"data row0 col3\" >25.000000</td>\n",
       "      <td id=\"T_1d492_row0_col4\" class=\"data row0 col4\" >8000.000000</td>\n",
       "      <td id=\"T_1d492_row0_col5\" class=\"data row0 col5\" >200.000000</td>\n",
       "    </tr>\n",
       "    <tr>\n",
       "      <td id=\"T_1d492_row1_col0\" class=\"data row1 col0\" >5</td>\n",
       "      <td id=\"T_1d492_row1_col1\" class=\"data row1 col1\" >Massage Room 2</td>\n",
       "      <td id=\"T_1d492_row1_col2\" class=\"data row1 col2\" >35.000000</td>\n",
       "      <td id=\"T_1d492_row1_col3\" class=\"data row1 col3\" >80.000000</td>\n",
       "      <td id=\"T_1d492_row1_col4\" class=\"data row1 col4\" >4000.000000</td>\n",
       "      <td id=\"T_1d492_row1_col5\" class=\"data row1 col5\" >3000.000000</td>\n",
       "    </tr>\n",
       "  </tbody>\n",
       "</table>\n"
      ],
      "text/plain": [
       "<pandas.io.formats.style.Styler at 0x7f88b9804250>"
      ]
     },
     "execution_count": 87,
     "metadata": {},
     "output_type": "execute_result"
    }
   ],
   "source": [
    "pd.read_sql(\"\"\"SELECT * FROM cd.facilities\n",
    "                WHERE facid IN (1, 5)\"\"\", con).style.hide_index()"
   ]
  },
  {
   "cell_type": "markdown",
   "metadata": {},
   "source": [
    "####  How can you produce a list of facilities, with each labelled as 'cheap' or 'expensive' depending on if their monthly maintenance cost is more than $100? Return the name and monthly maintenance of the facilities in question. "
   ]
  },
  {
   "cell_type": "code",
   "execution_count": 89,
   "metadata": {},
   "outputs": [
    {
     "name": "stderr",
     "output_type": "stream",
     "text": [
      "/var/folders/h2/plj9zcpn0bj7_bd89m_l42y80000gn/T/ipykernel_1022/3294845610.py:1: UserWarning: pandas only supports SQLAlchemy connectable (engine/connection) or database string URI or sqlite3 DBAPI2 connection. Other DBAPI2 objects are not tested. Please consider using SQLAlchemy.\n",
      "  pd.read_sql(\"\"\"SELECT name, monthlymaintenance,\n",
      "/var/folders/h2/plj9zcpn0bj7_bd89m_l42y80000gn/T/ipykernel_1022/3294845610.py:1: FutureWarning: this method is deprecated in favour of `Styler.hide(axis=\"index\")`\n",
      "  pd.read_sql(\"\"\"SELECT name, monthlymaintenance,\n"
     ]
    },
    {
     "data": {
      "text/html": [
       "<style type=\"text/css\">\n",
       "</style>\n",
       "<table id=\"T_c1b50\">\n",
       "  <thead>\n",
       "    <tr>\n",
       "      <th id=\"T_c1b50_level0_col0\" class=\"col_heading level0 col0\" >name</th>\n",
       "      <th id=\"T_c1b50_level0_col1\" class=\"col_heading level0 col1\" >monthlymaintenance</th>\n",
       "      <th id=\"T_c1b50_level0_col2\" class=\"col_heading level0 col2\" >label</th>\n",
       "    </tr>\n",
       "  </thead>\n",
       "  <tbody>\n",
       "    <tr>\n",
       "      <td id=\"T_c1b50_row0_col0\" class=\"data row0 col0\" >Tennis Court 1</td>\n",
       "      <td id=\"T_c1b50_row0_col1\" class=\"data row0 col1\" >200.000000</td>\n",
       "      <td id=\"T_c1b50_row0_col2\" class=\"data row0 col2\" >expensive</td>\n",
       "    </tr>\n",
       "    <tr>\n",
       "      <td id=\"T_c1b50_row1_col0\" class=\"data row1 col0\" >Tennis Court 2</td>\n",
       "      <td id=\"T_c1b50_row1_col1\" class=\"data row1 col1\" >200.000000</td>\n",
       "      <td id=\"T_c1b50_row1_col2\" class=\"data row1 col2\" >expensive</td>\n",
       "    </tr>\n",
       "    <tr>\n",
       "      <td id=\"T_c1b50_row2_col0\" class=\"data row2 col0\" >Badminton Court</td>\n",
       "      <td id=\"T_c1b50_row2_col1\" class=\"data row2 col1\" >50.000000</td>\n",
       "      <td id=\"T_c1b50_row2_col2\" class=\"data row2 col2\" >cheap</td>\n",
       "    </tr>\n",
       "    <tr>\n",
       "      <td id=\"T_c1b50_row3_col0\" class=\"data row3 col0\" >Table Tennis</td>\n",
       "      <td id=\"T_c1b50_row3_col1\" class=\"data row3 col1\" >10.000000</td>\n",
       "      <td id=\"T_c1b50_row3_col2\" class=\"data row3 col2\" >cheap</td>\n",
       "    </tr>\n",
       "    <tr>\n",
       "      <td id=\"T_c1b50_row4_col0\" class=\"data row4 col0\" >Massage Room 1</td>\n",
       "      <td id=\"T_c1b50_row4_col1\" class=\"data row4 col1\" >3000.000000</td>\n",
       "      <td id=\"T_c1b50_row4_col2\" class=\"data row4 col2\" >expensive</td>\n",
       "    </tr>\n",
       "    <tr>\n",
       "      <td id=\"T_c1b50_row5_col0\" class=\"data row5 col0\" >Massage Room 2</td>\n",
       "      <td id=\"T_c1b50_row5_col1\" class=\"data row5 col1\" >3000.000000</td>\n",
       "      <td id=\"T_c1b50_row5_col2\" class=\"data row5 col2\" >expensive</td>\n",
       "    </tr>\n",
       "    <tr>\n",
       "      <td id=\"T_c1b50_row6_col0\" class=\"data row6 col0\" >Squash Court</td>\n",
       "      <td id=\"T_c1b50_row6_col1\" class=\"data row6 col1\" >80.000000</td>\n",
       "      <td id=\"T_c1b50_row6_col2\" class=\"data row6 col2\" >cheap</td>\n",
       "    </tr>\n",
       "    <tr>\n",
       "      <td id=\"T_c1b50_row7_col0\" class=\"data row7 col0\" >Snooker Table</td>\n",
       "      <td id=\"T_c1b50_row7_col1\" class=\"data row7 col1\" >15.000000</td>\n",
       "      <td id=\"T_c1b50_row7_col2\" class=\"data row7 col2\" >cheap</td>\n",
       "    </tr>\n",
       "    <tr>\n",
       "      <td id=\"T_c1b50_row8_col0\" class=\"data row8 col0\" >Pool Table</td>\n",
       "      <td id=\"T_c1b50_row8_col1\" class=\"data row8 col1\" >15.000000</td>\n",
       "      <td id=\"T_c1b50_row8_col2\" class=\"data row8 col2\" >cheap</td>\n",
       "    </tr>\n",
       "  </tbody>\n",
       "</table>\n"
      ],
      "text/plain": [
       "<pandas.io.formats.style.Styler at 0x7f88b96b2700>"
      ]
     },
     "execution_count": 89,
     "metadata": {},
     "output_type": "execute_result"
    }
   ],
   "source": [
    "pd.read_sql(\"\"\"SELECT name, monthlymaintenance,\n",
    "            CASE WHEN monthlymaintenance  > 100 \n",
    "                THEN 'expensive'\n",
    "                ELSE 'cheap'\n",
    "           END AS label\n",
    "           FROM cd.facilities\"\"\", con).style.hide_index()"
   ]
  },
  {
   "cell_type": "markdown",
   "metadata": {},
   "source": [
    "####  get the signup date of your last member. How can you retrieve this information? "
   ]
  },
  {
   "cell_type": "code",
   "execution_count": 94,
   "metadata": {},
   "outputs": [
    {
     "name": "stderr",
     "output_type": "stream",
     "text": [
      "/var/folders/h2/plj9zcpn0bj7_bd89m_l42y80000gn/T/ipykernel_1022/2135550535.py:1: UserWarning: pandas only supports SQLAlchemy connectable (engine/connection) or database string URI or sqlite3 DBAPI2 connection. Other DBAPI2 objects are not tested. Please consider using SQLAlchemy.\n",
      "  pd.read_sql(\"\"\"SELECT joindate, memid\n",
      "/var/folders/h2/plj9zcpn0bj7_bd89m_l42y80000gn/T/ipykernel_1022/2135550535.py:1: FutureWarning: this method is deprecated in favour of `Styler.hide(axis=\"index\")`\n",
      "  pd.read_sql(\"\"\"SELECT joindate, memid\n"
     ]
    },
    {
     "data": {
      "text/html": [
       "<style type=\"text/css\">\n",
       "</style>\n",
       "<table id=\"T_eff4a\">\n",
       "  <thead>\n",
       "    <tr>\n",
       "      <th id=\"T_eff4a_level0_col0\" class=\"col_heading level0 col0\" >joindate</th>\n",
       "      <th id=\"T_eff4a_level0_col1\" class=\"col_heading level0 col1\" >memid</th>\n",
       "    </tr>\n",
       "  </thead>\n",
       "  <tbody>\n",
       "    <tr>\n",
       "      <td id=\"T_eff4a_row0_col0\" class=\"data row0 col0\" >2012-09-26 18:08:45</td>\n",
       "      <td id=\"T_eff4a_row0_col1\" class=\"data row0 col1\" >37</td>\n",
       "    </tr>\n",
       "  </tbody>\n",
       "</table>\n"
      ],
      "text/plain": [
       "<pandas.io.formats.style.Styler at 0x7f88b8f0ad00>"
      ]
     },
     "execution_count": 94,
     "metadata": {},
     "output_type": "execute_result"
    }
   ],
   "source": [
    "pd.read_sql(\"\"\"SELECT joindate, memid\n",
    "                FROM cd.members\n",
    "                ORDER BY joindate DESC\n",
    "                LIMIT 1;\n",
    "            \"\"\", con).style.hide_index()"
   ]
  },
  {
   "cell_type": "markdown",
   "metadata": {},
   "source": [
    " #### Retrieve the start times of members' bookings\n",
    " * Get a list of the start times for bookings by members named 'David Farrell'? "
   ]
  },
  {
   "cell_type": "code",
   "execution_count": 96,
   "metadata": {},
   "outputs": [
    {
     "name": "stderr",
     "output_type": "stream",
     "text": [
      "/var/folders/h2/plj9zcpn0bj7_bd89m_l42y80000gn/T/ipykernel_1022/1581684599.py:1: UserWarning: pandas only supports SQLAlchemy connectable (engine/connection) or database string URI or sqlite3 DBAPI2 connection. Other DBAPI2 objects are not tested. Please consider using SQLAlchemy.\n",
      "  pd.read_sql(\"\"\"SELECT starttime\n",
      "/var/folders/h2/plj9zcpn0bj7_bd89m_l42y80000gn/T/ipykernel_1022/1581684599.py:1: FutureWarning: this method is deprecated in favour of `Styler.hide(axis=\"index\")`\n",
      "  pd.read_sql(\"\"\"SELECT starttime\n"
     ]
    },
    {
     "data": {
      "text/html": [
       "<style type=\"text/css\">\n",
       "</style>\n",
       "<table id=\"T_11141\">\n",
       "  <thead>\n",
       "    <tr>\n",
       "      <th id=\"T_11141_level0_col0\" class=\"col_heading level0 col0\" >starttime</th>\n",
       "    </tr>\n",
       "  </thead>\n",
       "  <tbody>\n",
       "    <tr>\n",
       "      <td id=\"T_11141_row0_col0\" class=\"data row0 col0\" >2012-09-18 09:00:00</td>\n",
       "    </tr>\n",
       "    <tr>\n",
       "      <td id=\"T_11141_row1_col0\" class=\"data row1 col0\" >2012-09-18 13:30:00</td>\n",
       "    </tr>\n",
       "    <tr>\n",
       "      <td id=\"T_11141_row2_col0\" class=\"data row2 col0\" >2012-09-18 17:30:00</td>\n",
       "    </tr>\n",
       "    <tr>\n",
       "      <td id=\"T_11141_row3_col0\" class=\"data row3 col0\" >2012-09-18 20:00:00</td>\n",
       "    </tr>\n",
       "    <tr>\n",
       "      <td id=\"T_11141_row4_col0\" class=\"data row4 col0\" >2012-09-19 09:30:00</td>\n",
       "    </tr>\n",
       "    <tr>\n",
       "      <td id=\"T_11141_row5_col0\" class=\"data row5 col0\" >2012-09-19 12:00:00</td>\n",
       "    </tr>\n",
       "    <tr>\n",
       "      <td id=\"T_11141_row6_col0\" class=\"data row6 col0\" >2012-09-19 15:00:00</td>\n",
       "    </tr>\n",
       "    <tr>\n",
       "      <td id=\"T_11141_row7_col0\" class=\"data row7 col0\" >2012-09-20 11:30:00</td>\n",
       "    </tr>\n",
       "    <tr>\n",
       "      <td id=\"T_11141_row8_col0\" class=\"data row8 col0\" >2012-09-20 14:00:00</td>\n",
       "    </tr>\n",
       "    <tr>\n",
       "      <td id=\"T_11141_row9_col0\" class=\"data row9 col0\" >2012-09-20 15:30:00</td>\n",
       "    </tr>\n",
       "    <tr>\n",
       "      <td id=\"T_11141_row10_col0\" class=\"data row10 col0\" >2012-09-21 10:30:00</td>\n",
       "    </tr>\n",
       "    <tr>\n",
       "      <td id=\"T_11141_row11_col0\" class=\"data row11 col0\" >2012-09-21 14:00:00</td>\n",
       "    </tr>\n",
       "    <tr>\n",
       "      <td id=\"T_11141_row12_col0\" class=\"data row12 col0\" >2012-09-22 08:30:00</td>\n",
       "    </tr>\n",
       "    <tr>\n",
       "      <td id=\"T_11141_row13_col0\" class=\"data row13 col0\" >2012-09-22 17:00:00</td>\n",
       "    </tr>\n",
       "    <tr>\n",
       "      <td id=\"T_11141_row14_col0\" class=\"data row14 col0\" >2012-09-23 08:30:00</td>\n",
       "    </tr>\n",
       "    <tr>\n",
       "      <td id=\"T_11141_row15_col0\" class=\"data row15 col0\" >2012-09-23 17:30:00</td>\n",
       "    </tr>\n",
       "    <tr>\n",
       "      <td id=\"T_11141_row16_col0\" class=\"data row16 col0\" >2012-09-23 19:00:00</td>\n",
       "    </tr>\n",
       "    <tr>\n",
       "      <td id=\"T_11141_row17_col0\" class=\"data row17 col0\" >2012-09-24 08:00:00</td>\n",
       "    </tr>\n",
       "    <tr>\n",
       "      <td id=\"T_11141_row18_col0\" class=\"data row18 col0\" >2012-09-24 12:30:00</td>\n",
       "    </tr>\n",
       "    <tr>\n",
       "      <td id=\"T_11141_row19_col0\" class=\"data row19 col0\" >2012-09-24 16:30:00</td>\n",
       "    </tr>\n",
       "    <tr>\n",
       "      <td id=\"T_11141_row20_col0\" class=\"data row20 col0\" >2012-09-25 15:30:00</td>\n",
       "    </tr>\n",
       "    <tr>\n",
       "      <td id=\"T_11141_row21_col0\" class=\"data row21 col0\" >2012-09-25 17:00:00</td>\n",
       "    </tr>\n",
       "    <tr>\n",
       "      <td id=\"T_11141_row22_col0\" class=\"data row22 col0\" >2012-09-26 13:00:00</td>\n",
       "    </tr>\n",
       "    <tr>\n",
       "      <td id=\"T_11141_row23_col0\" class=\"data row23 col0\" >2012-09-26 17:00:00</td>\n",
       "    </tr>\n",
       "    <tr>\n",
       "      <td id=\"T_11141_row24_col0\" class=\"data row24 col0\" >2012-09-27 08:00:00</td>\n",
       "    </tr>\n",
       "    <tr>\n",
       "      <td id=\"T_11141_row25_col0\" class=\"data row25 col0\" >2012-09-28 09:30:00</td>\n",
       "    </tr>\n",
       "    <tr>\n",
       "      <td id=\"T_11141_row26_col0\" class=\"data row26 col0\" >2012-09-28 11:30:00</td>\n",
       "    </tr>\n",
       "    <tr>\n",
       "      <td id=\"T_11141_row27_col0\" class=\"data row27 col0\" >2012-09-28 13:00:00</td>\n",
       "    </tr>\n",
       "    <tr>\n",
       "      <td id=\"T_11141_row28_col0\" class=\"data row28 col0\" >2012-09-29 10:30:00</td>\n",
       "    </tr>\n",
       "    <tr>\n",
       "      <td id=\"T_11141_row29_col0\" class=\"data row29 col0\" >2012-09-29 13:30:00</td>\n",
       "    </tr>\n",
       "    <tr>\n",
       "      <td id=\"T_11141_row30_col0\" class=\"data row30 col0\" >2012-09-29 14:30:00</td>\n",
       "    </tr>\n",
       "    <tr>\n",
       "      <td id=\"T_11141_row31_col0\" class=\"data row31 col0\" >2012-09-29 16:00:00</td>\n",
       "    </tr>\n",
       "    <tr>\n",
       "      <td id=\"T_11141_row32_col0\" class=\"data row32 col0\" >2012-09-29 17:30:00</td>\n",
       "    </tr>\n",
       "    <tr>\n",
       "      <td id=\"T_11141_row33_col0\" class=\"data row33 col0\" >2012-09-30 14:30:00</td>\n",
       "    </tr>\n",
       "  </tbody>\n",
       "</table>\n"
      ],
      "text/plain": [
       "<pandas.io.formats.style.Styler at 0x7f88b9c2b5b0>"
      ]
     },
     "execution_count": 96,
     "metadata": {},
     "output_type": "execute_result"
    }
   ],
   "source": [
    "pd.read_sql(\"\"\"SELECT starttime\n",
    "                FROM cd.bookings B\n",
    "                LEFT JOIN cd.members M\n",
    "                ON B.memid = M.memid\n",
    "                WHERE M.firstname='David' AND M.surname='Farrell';\n",
    "            \"\"\", con).style.hide_index()"
   ]
  },
  {
   "cell_type": "markdown",
   "metadata": {},
   "source": [
    "#### The club is adding a new facility - a spa. We need to add it into the facilities table. Use the following values:\n",
    "\n",
    "    facid: 9, Name: 'Spa', membercost: 20, guestcost: 30, initialoutlay: 100000, monthlymaintenance: 800."
   ]
  },
  {
   "cell_type": "code",
   "execution_count": 100,
   "metadata": {},
   "outputs": [
    {
     "name": "stdout",
     "output_type": "stream",
     "text": [
      "1 Record inserted successfully into customers table\n"
     ]
    }
   ],
   "source": [
    "query = \"\"\"INSERT INTO cd.facilities (facid, name, membercost, guestcost, initialoutlay, monthlymaintenance) \n",
    "        VALUES(9,'Spa',20,30, 100000,800)\"\"\"\n",
    "\n",
    "try:\n",
    "    cursor.execute(query)\n",
    "    con.commit()\n",
    "    count = cursor.rowcount\n",
    "    print (count, \"Record inserted successfully into customers table\")\n",
    "except (Exception, psycopg2.Error) as error :\n",
    "    con.rollback()\n",
    "    print (\"Error while Inserting the data to the table, Details: \",error)"
   ]
  },
  {
   "cell_type": "markdown",
   "metadata": {},
   "source": [
    "#### We made a mistake when entering the data for the \"Spa\" facility. \n",
    "    - The \"initial outlay\" should be 20000 rather than 100000: \n",
    "    - you need to alter the data to fix the error.\n",
    "    \n"
   ]
  },
  {
   "cell_type": "code",
   "execution_count": 101,
   "metadata": {},
   "outputs": [],
   "source": [
    "query = \"UPDATE cd.facilities SET initialoutlay = 20000 WHERE name = 'Spa';\"\n",
    "cursor.execute(query)\n",
    "con.commit()"
   ]
  },
  {
   "cell_type": "markdown",
   "metadata": {},
   "source": [
    "#### List the total slots booked per facility "
   ]
  },
  {
   "cell_type": "code",
   "execution_count": 107,
   "metadata": {},
   "outputs": [
    {
     "name": "stderr",
     "output_type": "stream",
     "text": [
      "/var/folders/h2/plj9zcpn0bj7_bd89m_l42y80000gn/T/ipykernel_1022/3174308509.py:1: UserWarning: pandas only supports SQLAlchemy connectable (engine/connection) or database string URI or sqlite3 DBAPI2 connection. Other DBAPI2 objects are not tested. Please consider using SQLAlchemy.\n",
      "  actorMoviesAgg= pd.read_sql('''SELECT F.name, count(B.memid)\n",
      "/var/folders/h2/plj9zcpn0bj7_bd89m_l42y80000gn/T/ipykernel_1022/3174308509.py:7: FutureWarning: this method is deprecated in favour of `Styler.hide(axis=\"index\")`\n",
      "  display(actorMoviesAgg.style.hide_index())\n"
     ]
    },
    {
     "data": {
      "text/html": [
       "<style type=\"text/css\">\n",
       "</style>\n",
       "<table id=\"T_79614\">\n",
       "  <thead>\n",
       "    <tr>\n",
       "      <th id=\"T_79614_level0_col0\" class=\"col_heading level0 col0\" >name</th>\n",
       "      <th id=\"T_79614_level0_col1\" class=\"col_heading level0 col1\" >count</th>\n",
       "    </tr>\n",
       "  </thead>\n",
       "  <tbody>\n",
       "    <tr>\n",
       "      <td id=\"T_79614_row0_col0\" class=\"data row0 col0\" >Badminton Court</td>\n",
       "      <td id=\"T_79614_row0_col1\" class=\"data row0 col1\" >383</td>\n",
       "    </tr>\n",
       "    <tr>\n",
       "      <td id=\"T_79614_row1_col0\" class=\"data row1 col0\" >Massage Room 1</td>\n",
       "      <td id=\"T_79614_row1_col1\" class=\"data row1 col1\" >629</td>\n",
       "    </tr>\n",
       "    <tr>\n",
       "      <td id=\"T_79614_row2_col0\" class=\"data row2 col0\" >Massage Room 2</td>\n",
       "      <td id=\"T_79614_row2_col1\" class=\"data row2 col1\" >111</td>\n",
       "    </tr>\n",
       "    <tr>\n",
       "      <td id=\"T_79614_row3_col0\" class=\"data row3 col0\" >Pool Table</td>\n",
       "      <td id=\"T_79614_row3_col1\" class=\"data row3 col1\" >837</td>\n",
       "    </tr>\n",
       "    <tr>\n",
       "      <td id=\"T_79614_row4_col0\" class=\"data row4 col0\" >Snooker Table</td>\n",
       "      <td id=\"T_79614_row4_col1\" class=\"data row4 col1\" >444</td>\n",
       "    </tr>\n",
       "    <tr>\n",
       "      <td id=\"T_79614_row5_col0\" class=\"data row5 col0\" >Squash Court</td>\n",
       "      <td id=\"T_79614_row5_col1\" class=\"data row5 col1\" >440</td>\n",
       "    </tr>\n",
       "    <tr>\n",
       "      <td id=\"T_79614_row6_col0\" class=\"data row6 col0\" >Table Tennis</td>\n",
       "      <td id=\"T_79614_row6_col1\" class=\"data row6 col1\" >403</td>\n",
       "    </tr>\n",
       "    <tr>\n",
       "      <td id=\"T_79614_row7_col0\" class=\"data row7 col0\" >Tennis Court 1</td>\n",
       "      <td id=\"T_79614_row7_col1\" class=\"data row7 col1\" >408</td>\n",
       "    </tr>\n",
       "    <tr>\n",
       "      <td id=\"T_79614_row8_col0\" class=\"data row8 col0\" >Tennis Court 2</td>\n",
       "      <td id=\"T_79614_row8_col1\" class=\"data row8 col1\" >389</td>\n",
       "    </tr>\n",
       "  </tbody>\n",
       "</table>\n"
      ],
      "text/plain": [
       "<pandas.io.formats.style.Styler at 0x7f88b8edcbe0>"
      ]
     },
     "metadata": {},
     "output_type": "display_data"
    }
   ],
   "source": [
    "actorMoviesAgg= pd.read_sql('''SELECT F.name, count(B.memid)\n",
    "                            FROM cd.bookings B\n",
    "                            LEFT JOIN cd.facilities F ON B.facid = F.facid\n",
    "                            LEFT JOIN cd.members M ON B.memid = M.memid\n",
    "                            GROUP BY F.name\n",
    "                            ORDER BY F.name ASC;''', con)\n",
    "display(actorMoviesAgg.style.hide_index())"
   ]
  },
  {
   "cell_type": "markdown",
   "metadata": {},
   "source": [
    "####  Delete all bookings \n",
    "*  As part of a clearout of our database, we want to delete all bookings from the cd.bookings table. How can we accomplish this? "
   ]
  },
  {
   "cell_type": "code",
   "execution_count": 108,
   "metadata": {},
   "outputs": [],
   "source": [
    "query = '''DELETE FROM cd.bookings; '''\n",
    "cursor.execute(query)\n",
    "con.commit()"
   ]
  },
  {
   "cell_type": "markdown",
   "metadata": {},
   "source": [
    " ## How long did it take you to solve the homework?\n",
    " \n",
    "Please answer as precisely as you can. It does not affect your points or grade in any way. It is okey, if it took 0.5 hours or 24 hours. The collected information will be used to improve future homeworks."
   ]
  },
  {
   "cell_type": "markdown",
   "metadata": {},
   "source": [
    "<font color=\"red\"><b>Answer: 3 days</b></font>"
   ]
  },
  {
   "cell_type": "markdown",
   "metadata": {},
   "source": [
    "**<center> <font color='red'>THANK YOU FOR YOUR EFFORT!</font></center>**"
   ]
  }
 ],
 "metadata": {
  "kernelspec": {
   "display_name": "Python 3 (ipykernel)",
   "language": "python",
   "name": "python3"
  },
  "language_info": {
   "codemirror_mode": {
    "name": "ipython",
    "version": 3
   },
   "file_extension": ".py",
   "mimetype": "text/x-python",
   "name": "python",
   "nbconvert_exporter": "python",
   "pygments_lexer": "ipython3",
   "version": "3.9.0"
  }
 },
 "nbformat": 4,
 "nbformat_minor": 2
}
