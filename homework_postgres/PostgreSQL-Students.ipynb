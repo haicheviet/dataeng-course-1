{
 "cells": [
  {
   "cell_type": "markdown",
   "metadata": {},
   "source": [
    "# Week 1: Relational Models & PostgreSQL\n",
    "### Student ID: [#####]\n",
    "### Subtasks Done: [#,#,..]"
   ]
  },
  {
   "cell_type": "markdown",
   "metadata": {},
   "source": [
    "## Lab Goals:\n",
    "   1. Get familiar with the relational DBs.\n",
    "   2. Get familiar with the relational SQL query language.\n",
    "   2. Get familiar with postgreSQL as one of the most popular RDBMSs.\n",
    "  \n",
    "\n",
    "## Lab Tasks:\n",
    "   0. Get familiar with Python and Jupyter Notebook.\n",
    "   1. First Steps of SQL (DDL [Create DB, CREATE TABLES], DQL [SELECTIONS, PROJECTIONS, FIRLTREING, ORDERING, Different Types of JOINS,..etc], and Some DML operations [INSERTIONS, UPDATES, and DELETIONS])\n",
    "   2. Create a simple Relational Database Model (MovieDB).\n",
    "   3. More Query exercises with a DB ready for you, (just by running a SQL script).\n",
    "   "
   ]
  },
  {
   "cell_type": "markdown",
   "metadata": {},
   "source": [
    "# Task 0: Python & Jupyter Notebook & Pandas tutorial video\n",
    "\n",
    "##### - First for Students who are not familiar with <font color='red'>Python</font>, I recommend this python full course https://www.youtube.com/watch?v=_uQrJ0TkZlc \n",
    "\n",
    "##### - Second, please watch the following video <font color='red'>\"Jupyter Notebook Tutorial\"</font> and answer the question below. Please answer the questions by writing your answer next to the red \"Answer \" label (the same for the other questions throught the NoteBook). Also, we recommend you to follow the examples in the video and try it out by yourself."
   ]
  },
  {
   "cell_type": "code",
   "execution_count": 1,
   "metadata": {},
   "outputs": [
    {
     "data": {
      "text/html": [
       "<center><iframe width=\"600\" height=\"315\" src=\"https://www.youtube.com/embed/HW29067qVWk\" frameborder=\"0\" allowfullscreen></iframe>\n"
      ],
      "text/plain": [
       "<IPython.core.display.HTML object>"
      ]
     },
     "metadata": {},
     "output_type": "display_data"
    }
   ],
   "source": [
    "%%HTML \n",
    "<center><iframe width=\"600\" height=\"315\" src=\"https://www.youtube.com/embed/HW29067qVWk\" frameborder=\"0\" allowfullscreen></iframe>"
   ]
  },
  {
   "cell_type": "markdown",
   "metadata": {},
   "source": [
    " #### What are the advantages of using jupyter notebook?"
   ]
  },
  {
   "attachments": {},
   "cell_type": "markdown",
   "metadata": {},
   "source": [
    "<font color = \"red\"><b>Answer:</b></font>"
   ]
  },
  {
   "attachments": {},
   "cell_type": "markdown",
   "metadata": {},
   "source": [
    "1. Organize, visualize, clean data easily\n",
    "2. Easy to use, debug"
   ]
  },
  {
   "cell_type": "markdown",
   "metadata": {},
   "source": [
    "##### - Last but not least, Python Pandas \n",
    "\n",
    "pandas is a fast, powerful, flexible and easy to use open source data analysis and manipulation tool, built on top of the Python programming language.\n",
    "\n",
    "- To get familiar with Pandas library you can follow this tutourial:\n",
    "    - https://www.youtube.com/watch?v=vmEHCJofslg&feature=emb_rel_pause\n",
    "- You can also use the follwing cheat-sheet link of pandas:\n",
    "    - https://pandas.pydata.org/Pandas_Cheat_Sheet.pdf\n"
   ]
  },
  {
   "cell_type": "markdown",
   "metadata": {},
   "source": [
    "# Introduction:\n",
    "\n",
    "### Relational DB Structure \n",
    "- A relational database consists of a collection of tables, each having a unique name.\n",
    "- A row in a table represents a relationship among a set of values.\n",
    "- Thus a table represents a collection of relationships. \n",
    "<img src =\"https://raw.githubusercontent.com/DataSystemsGroupUT/dataeng/dataeng/attachments/attrer2.png\" width =\"550\" height=\"150\">\n",
    "\n",
    "\n",
    "###  Structured Query Language (SQL)\n",
    "\n",
    "<a href='https://en.wikipedia.org/wiki/SQL'>SQL </a> is used to communicate with a database. SQL is the standard language for relational database management systems. SQL statements are used to perform tasks such as update data on a database, or retrieve data from a database. \n",
    "\n",
    "Some common relational database management systems that use SQL are: Oracle, Sybase, Microsoft SQL Server, Access, Ingres. However, the standard SQL commands such as \"Select\", \"Insert\", \"Update\", \"Delete\", \"Create\", and \"Drop\" can be used to accomplish almost everything that one needs to do with a database. This tutorial will provide you with the instruction on the basics of each of these commands as well as allow you to put them to practice using the SQL Interpreter.\n",
    "\n",
    "- First Steps with SQL can be followed from this <a href='https://www.sqltutorial.org/sql-cheat-sheet/'>link </a>.\n",
    "\n",
    "\n",
    "### PostgreSQL:\n",
    "   <a href=\"https://www.postgresql.org/\">PostgreSQL</a> is a powerful, open source object-relational database system with over 30 years of active development that has earned it a strong reputation for reliability, feature robustness, and performance. (<b>According to official website of PostgreSQL Database</b>)<br/>\n",
    "   \n",
    "- PostgreSQL offecial documentation (https://www.postgresql.org/docs/9.3/index.html)\n",
    "    - pdf version of last release(https://www.postgresql.org/files/documentation/pdf/12/postgresql-12-A4.pdf)\n",
    "\n",
    "<img src=\"https://www.postgresql.org/media/img/about/press/elephant.png\" width =\"100\" height=\"75\">\n",
    "\n"
   ]
  },
  {
   "cell_type": "markdown",
   "metadata": {},
   "source": [
    "# PreLab\n",
    "\n",
    "### Installations:\n",
    "\n",
    "#### 1. Install PostgreSQL on Windows\n",
    "- Download and Install PostgreSQL for all platforms (https://www.enterprisedb.com/downloads/postgres-postgresql-downloads) \n",
    "- Follow this tutourial (https://www.postgresqltutorial.com/install-postgresql/) for more details (Windows installation).\n",
    "\n",
    "#### or if you want to install it on linux\n",
    "- Follow this tutourial (https://www.postgresqltutorial.com/install-postgresql-linux/)\n",
    "\n",
    "\n",
    "#### 2. Install the Python Package to connecto to PostgreSQL \"<a href='https://www.psycopg.org/docs/usage.html'>psycopg2 </a>\"\n",
    "- use th command ```pip install psycopg2``` in your command line.\n",
    "\n",
    "\n",
    "#### (Good to Know) \n",
    "##### Accessing PostgreSQL from Command Line:\n",
    "- Add the PostgreSQL  installation \"/home\" and \"/bin\" directories to the enviroment variables.\n",
    "- use the command ```psql -U postgres postgres``` to connect to the the by-default created database \"postgres\" with the user \"postgres\".\n",
    "- Enter your set \"postgres\" password (i.e password of the default password that you have been asked at the time of installtion).\n",
    "\n",
    "##### Connect To a PostgreSQL Database Server\n",
    "- show you how to connect to the PostgreSQL using psql tool and pgAdmin 4 GUI tool.\n",
    "\n"
   ]
  },
  {
   "cell_type": "markdown",
   "metadata": {},
   "source": [
    "#### Run the following command to install ***psycopg*** like any other Python package."
   ]
  },
  {
   "cell_type": "code",
   "execution_count": null,
   "metadata": {},
   "outputs": [],
   "source": [
    "# !pip install psycopg2"
   ]
  },
  {
   "cell_type": "markdown",
   "metadata": {},
   "source": [
    "### <font color='purple'>Please make sure that you have all the following packages installed: </font>\n",
    "\n",
    "#### Run the following for importing packages that we will need throught this NB!"
   ]
  },
  {
   "cell_type": "code",
   "execution_count": 2,
   "metadata": {},
   "outputs": [],
   "source": [
    "import psycopg2  #import of the psycopg2 python library\n",
    "import pandas as pd #import of the pandas python library\n",
    "import pandas.io.sql as psql\n",
    "\n",
    "##No transaction is started when commands are executed and no commit() or rollback() is required. \n",
    "from psycopg2.extensions import ISOLATION_LEVEL_AUTOCOMMIT"
   ]
  },
  {
   "cell_type": "markdown",
   "metadata": {},
   "source": [
    "# Task 1: Your First Steps in PostgreSQL"
   ]
  },
  {
   "cell_type": "markdown",
   "metadata": {},
   "source": [
    "### Create a simple RDB (TartuPurchases)\n",
    "- The following DB Model shows an ER diagram of mock, toy DB of two tables with one relationship.\n",
    "- In particular:\n",
    "    - The \"Customer\" Table with attributes (<ins>id</ins>, name, country, email), <font color='red'>Note</font> that underline here means id is the primary_key of the \"customer\" table.\n",
    "    - The \"Order\" table with attributes (<ins>id</ins>, product)\n",
    "    - a (***One-many*** )relationship \"makes\" which relates the two tables (Customer can make several/many Orders, and Order is made by only one Customer).\n",
    "    - One-to- many relationship is handled as follows in the RDBs: (Use a foreign_key on the many side of the relationship linking back to the \"one\" side)\n",
    "    - Therefore, we add the primary key of the one side (Customer) Table as a foreign_key in the many side (Order) table.\n",
    "    - Thus the Order table becomes as follows Order(id,customer_id,product) id is the primary_key and customer_id is a forien_key which references to the id primary_key in the Customer table."
   ]
  },
  {
   "cell_type": "markdown",
   "metadata": {},
   "source": [
    "#### The relational Layout: \n",
    "##### Customer(ID, Name)   --Makes--> ORDER(ID, Customer_ID,Product)\n",
    "<img src='tartupurchasesDB.png'>"
   ]
  },
  {
   "cell_type": "markdown",
   "metadata": {},
   "source": [
    "#### Connecting to the PostgreSQL Server"
   ]
  },
  {
   "cell_type": "code",
   "execution_count": 3,
   "metadata": {},
   "outputs": [
    {
     "name": "stdout",
     "output_type": "stream",
     "text": [
      "Connected Successfully to PostgreSQL server!!\n"
     ]
    }
   ],
   "source": [
    "try:\n",
    "    # Connect to the postgreSQL server with username, and password credentials\n",
    "    con = psycopg2.connect(user = \"postgres\",\n",
    "                                  password = \"LearnDE\",\n",
    "                                  host = \"127.0.0.1\",\n",
    "                                  port = \"5432\")\n",
    "    \n",
    "    con.set_isolation_level(ISOLATION_LEVEL_AUTOCOMMIT);\n",
    "    print(\"Connected Successfully to PostgreSQL server!!\")\n",
    "    \n",
    "    # Obtain a DB Cursor to perform database operations\n",
    "    cursor = con.cursor();\n",
    "except (Exception, psycopg2.Error) as error :\n",
    "     print (\"Error while connecting to PostgreSQL\", error)\n"
   ]
  },
  {
   "cell_type": "markdown",
   "metadata": {},
   "source": [
    "#### Create the \"TarturPurchases\" DB and close connection to the Server"
   ]
  },
  {
   "cell_type": "code",
   "execution_count": 5,
   "metadata": {},
   "outputs": [
    {
     "name": "stdout",
     "output_type": "stream",
     "text": [
      "Database 'TartuPurchases' Created Successfully!\n"
     ]
    }
   ],
   "source": [
    "#DB_name variable    \n",
    "name_Database   = \"TartuPurchases\";\n",
    "\n",
    "# Create DB statement\n",
    "sqlCreateDatabase = \"CREATE DATABASE \"+name_Database+\";\"\n",
    "\n",
    "try:\n",
    "    # Execute a SQL command: this creates a new DB\n",
    "    cursor.execute(sqlCreateDatabase);\n",
    "    print(\"Database '\"+name_Database+\"' Created Successfully!\")\n",
    "except (Exception, psycopg2.Error) as error :\n",
    "    print(\"Error While Creating the DB: \",error)\n",
    "    \n",
    "finally:\n",
    "    # Close communication with the database\n",
    "    cursor.close() #to close the cusrsor\n",
    "    con.close() #to close the connection/ we will open a new connection to the created DB"
   ]
  },
  {
   "cell_type": "markdown",
   "metadata": {},
   "source": [
    "#### Getting some details about the connection"
   ]
  },
  {
   "cell_type": "code",
   "execution_count": 3,
   "metadata": {},
   "outputs": [
    {
     "data": {
      "text/plain": [
       "<connection object at 0x00000244F4DD5030; dsn: 'user=postgres password=xxx host=127.0.0.1 port=5432', closed: 0>"
      ]
     },
     "execution_count": 3,
     "metadata": {},
     "output_type": "execute_result"
    }
   ],
   "source": [
    "con"
   ]
  },
  {
   "cell_type": "markdown",
   "metadata": {},
   "source": [
    "#### You can also use the command <code>\\conninfo</code> in the PSQL Shell to show the conection details\n",
    "- To get more familiar with PSQL SHELL commands, You can follow this link (https://www.postgresql.org/docs/current/app-psql.html)\n",
    "\n",
    "\n",
    "#### Upload your PSQL Shell Command Result of this command here as an a screenshot "
   ]
  },
  {
   "cell_type": "markdown",
   "metadata": {},
   "source": [
    "##### <font color='red'>Image Here:</font>"
   ]
  },
  {
   "attachments": {},
   "cell_type": "markdown",
   "metadata": {},
   "source": [
    "<img src='img\\PSQL_Shell_Command_Result.png'>"
   ]
  },
  {
   "cell_type": "markdown",
   "metadata": {},
   "source": [
    "#### Get/open  a new connection, but this time pointed to the created \"tartupurchases\" DB."
   ]
  },
  {
   "cell_type": "code",
   "execution_count": 8,
   "metadata": {},
   "outputs": [
    {
     "name": "stdout",
     "output_type": "stream",
     "text": [
      "connected again to the server, and cusor now on tartupurchases DB !!\n"
     ]
    }
   ],
   "source": [
    "# get a new connection but this time point to the created \"tartupurchases\" DB.\n",
    "con = psycopg2.connect(user = \"postgres\",\n",
    "                       password = \"LearnDE\",\n",
    "                       host = \"127.0.0.1\",\n",
    "                       port = \"5432\",\n",
    "                       database = \"tartupurchases\")\n",
    "\n",
    "try:\n",
    "    # Obtain a new DB Cursor (to \"tartupurchases\" DB )\n",
    "    cursor = con.cursor();\n",
    "    print(\"connected again to the server, and cusor now on tartupurchases DB !!\")\n",
    "except (Exception, psycopg2.Error) as error:\n",
    "    print(\"Error in Connection\",error)"
   ]
  },
  {
   "cell_type": "markdown",
   "metadata": {},
   "source": [
    "#### Creating Our First Table (\"Customer\")"
   ]
  },
  {
   "cell_type": "code",
   "execution_count": 8,
   "metadata": {},
   "outputs": [
    {
     "name": "stdout",
     "output_type": "stream",
     "text": [
      "Table (customer) created successfully in PostgreSQL \n"
     ]
    }
   ],
   "source": [
    "#Create \"Customer\" Table\n",
    "\n",
    "try:\n",
    "    #table_name variable\n",
    "    customerTable=\"customer\"\n",
    "    create_customerTablee_query = '''CREATE TABLE '''+ customerTable+''' \n",
    "              (id INT  PRIMARY KEY     NOT NULL,\n",
    "               name           TEXT    NOT NULL,\n",
    "               country        TEXT    NOT NULL,\n",
    "               email          TEXT   \n",
    "               ); '''\n",
    "\n",
    "    #Execute this command (SQL Query)\n",
    "    cursor.execute(create_customerTablee_query)\n",
    "    \n",
    "    # Make the changes to the database persistent\n",
    "    con.commit()\n",
    "    print(\"Table (\"+ customerTable +\") created successfully in PostgreSQL \")\n",
    "except (Exception, psycopg2.Error) as error:\n",
    "    # if it exits with an exception the transaction is rolled back.\n",
    "    con.rollback()\n",
    "    print(\"Error While Creating the DB: \",error)\n"
   ]
  },
  {
   "cell_type": "markdown",
   "metadata": {},
   "source": [
    "##### Make sure the table is created "
   ]
  },
  {
   "cell_type": "code",
   "execution_count": 9,
   "metadata": {},
   "outputs": [
    {
     "name": "stdout",
     "output_type": "stream",
     "text": [
      "('customer',)\n",
      "('order',)\n"
     ]
    }
   ],
   "source": [
    "# [information_schema.tables] keep listing of every table being managed by Postgres for a particular database.\n",
    "# specifying the tabel_schema to 'public' to only list tables that you create.\n",
    "cursor.execute(\"\"\"SELECT table_name \n",
    "                  FROM information_schema.tables \n",
    "                  WHERE table_schema = 'public'  \n",
    "               \"\"\")\n",
    "\n",
    "for table in cursor.fetchall():\n",
    "    print(table)"
   ]
  },
  {
   "cell_type": "markdown",
   "metadata": {},
   "source": [
    "#### You can also just check this from the <font color='red'>PSQL Shell</font> :\n",
    "- Use the command  <code>\\c  tartupurchases</code> to connect/swtich to the \"pruchases\" DB. \n",
    "- Use the command <code>\\dt</code> to show the tables inside the current DB (\"purchases\")."
   ]
  },
  {
   "cell_type": "markdown",
   "metadata": {},
   "source": [
    "- To get more familiar with PSQL SHELL commands, You can follow this link (https://www.postgresql.org/docs/current/app-psql.html)"
   ]
  },
  {
   "cell_type": "markdown",
   "metadata": {},
   "source": [
    "#### Upload your PSQL Shell Command Result of the created tables here as an a screenshot "
   ]
  },
  {
   "attachments": {},
   "cell_type": "markdown",
   "metadata": {},
   "source": [
    "##### <font color='red'>Image Here:</font>\n",
    "<img src='img\\create_table.png'>"
   ]
  },
  {
   "cell_type": "markdown",
   "metadata": {},
   "source": [
    "#### Show the details(description of the created table \"customer\")\n",
    "- use the command <code>\\d customer</code>"
   ]
  },
  {
   "cell_type": "markdown",
   "metadata": {},
   "source": [
    "#### Upload your PSQL Shell Command Result of the decription of the customer table here:"
   ]
  },
  {
   "attachments": {},
   "cell_type": "markdown",
   "metadata": {},
   "source": [
    "##### <font color='red'>Image Here:</font>\n",
    "<img src='img\\customer_table_description.png'>"
   ]
  },
  {
   "cell_type": "markdown",
   "metadata": {},
   "source": [
    "### (Let's Load some data to the table) Inserting Multiple Rows to the Table"
   ]
  },
  {
   "cell_type": "code",
   "execution_count": 10,
   "metadata": {},
   "outputs": [
    {
     "name": "stdout",
     "output_type": "stream",
     "text": [
      "5 Record inserted successfully into customers table\n"
     ]
    }
   ],
   "source": [
    "sql_insert_customers = \"INSERT INTO customer (id,name,country,email) VALUES(%s,%s,%s,%s)\"\n",
    "\n",
    "#list of customers (With Their attributes values)\n",
    "#None here means value will be missing in the table\n",
    "customer_List=[\n",
    "            (1, \"Mohamed Ragab\", \"Egypt\", \"mohamed.ragb@ut.ee\"),\n",
    "            (2,\"John Smith\", \"Finland\",\"j.smith@hotmail.com\"),\n",
    "            (3,\"Aisha Kareem\",\"India\",None),\n",
    "            (4,\"Jean Lime\",\"Canda\",\"jeanlime@gmail.com\"),\n",
    "            (5,\"Hassan Eldeeb\",\"Egypt\",None)]\n",
    "\n",
    "try:\n",
    "    # execute the INSERT statement\n",
    "    cursor.executemany(sql_insert_customers,customer_List)\n",
    "    # commit the changes to the database\n",
    "    con.commit()\n",
    "    #the number of inserted rows/tuples\n",
    "    count = cursor.rowcount\n",
    "    print (count, \"Record inserted successfully into customers table\")\n",
    "\n",
    "except (Exception, psycopg2.Error) as error :\n",
    "    con.rollback()\n",
    "    print (\"Error while Inserting the data to the table, Details: \",error)"
   ]
  },
  {
   "cell_type": "markdown",
   "metadata": {},
   "source": [
    "## Mock Data Generation\n",
    "- If you want to generate more mock data, you can use this website (***\"Mockaroo\"***) (https://www.mockaroo.com/).\n",
    "- \"Mockaroo\" lets you generate up to 1,000 rows of realistic test data in CSV, JSON, SQL, and Excel formats.\n",
    "<img src='https://www.qlikfix.com/wp-content/uploads/2014/03/Mockaroo.png'>"
   ]
  },
  {
   "cell_type": "markdown",
   "metadata": {},
   "source": [
    "## Querying Table Data"
   ]
  },
  {
   "cell_type": "markdown",
   "metadata": {},
   "source": [
    "#### Get all the Customers in the DB"
   ]
  },
  {
   "cell_type": "code",
   "execution_count": 6,
   "metadata": {},
   "outputs": [
    {
     "name": "stdout",
     "output_type": "stream",
     "text": [
      "Print each row and it's columns values:\n",
      "\n",
      "Id =  1\n",
      "Name =  Mohamed Ragab\n",
      "Country =  Egypt\n",
      "Email =  mohamed.ragb@ut.ee \n",
      "\n",
      "Id =  2\n",
      "Name =  John Smith\n",
      "Country =  Finland\n",
      "Email =  j.smith@hotmail.com \n",
      "\n",
      "Id =  3\n",
      "Name =  Aisha Kareem\n",
      "Country =  India\n",
      "Email =  None \n",
      "\n",
      "Id =  4\n",
      "Name =  Jean Lime\n",
      "Country =  Canda\n",
      "Email =  jeanlime@gmail.com \n",
      "\n",
      "Id =  5\n",
      "Name =  Hassan Eldeeb\n",
      "Country =  Egypt\n",
      "Email =  None \n",
      "\n"
     ]
    }
   ],
   "source": [
    "sql_select_query = \"\"\"SELECT * FROM customer\"\"\"\n",
    "\n",
    "try:\n",
    "    \n",
    "    cursor.execute(sql_select_query, (1,))\n",
    "    person_records = cursor.fetchall() \n",
    "    print(\"Print each row and it's columns values:\\n\")\n",
    "    for row in person_records:\n",
    "        print(\"Id = \", row[0], )\n",
    "        print(\"Name = \", row[1], )\n",
    "        print(\"Country = \", row[2], )\n",
    "        print(\"Email = \", row[3], \"\\n\")\n",
    "except(Exception, psycopg2.Error) as error :\n",
    "    con.rollback()\n",
    "    print(\"Error:\", error)"
   ]
  },
  {
   "cell_type": "markdown",
   "metadata": {},
   "source": [
    "#### Notes about the Rows Fetching (Retrieval) From tables in PostgreSQL: \n",
    "- In the above example, we used **cursor.fetchall()** to get all the rows of a database table.\n",
    "    -    **cursor.fetchall()** to fetch all rows.\n",
    "    -    **cursor.fetchone()** to fetch single row.\n",
    "    -    **cursor.fetchmany(SIZE)** to fetch limited rows."
   ]
  },
  {
   "cell_type": "markdown",
   "metadata": {},
   "source": [
    "#### You can use \"Pandas\" library to print the result in tabular format"
   ]
  },
  {
   "cell_type": "code",
   "execution_count": 7,
   "metadata": {},
   "outputs": [
    {
     "name": "stderr",
     "output_type": "stream",
     "text": [
      "C:\\Users\\Acer\\AppData\\Local\\Temp\\ipykernel_6996\\3923838412.py:3: UserWarning: pandas only supports SQLAlchemy connectable (engine/connection) or database string URI or sqlite3 DBAPI2 connection. Other DBAPI2 objects are not tested. Please consider using SQLAlchemy.\n",
      "  my_table = pd.read_sql('SELECT * FROM customer', con)\n",
      "C:\\Users\\Acer\\AppData\\Local\\Temp\\ipykernel_6996\\3923838412.py:4: FutureWarning: this method is deprecated in favour of `Styler.hide(axis=\"index\")`\n",
      "  display(my_table.style.hide_index())\n"
     ]
    },
    {
     "data": {
      "text/html": [
       "<style type=\"text/css\">\n",
       "</style>\n",
       "<table id=\"T_14428\">\n",
       "  <thead>\n",
       "    <tr>\n",
       "      <th id=\"T_14428_level0_col0\" class=\"col_heading level0 col0\" >id</th>\n",
       "      <th id=\"T_14428_level0_col1\" class=\"col_heading level0 col1\" >name</th>\n",
       "      <th id=\"T_14428_level0_col2\" class=\"col_heading level0 col2\" >country</th>\n",
       "      <th id=\"T_14428_level0_col3\" class=\"col_heading level0 col3\" >email</th>\n",
       "    </tr>\n",
       "  </thead>\n",
       "  <tbody>\n",
       "    <tr>\n",
       "      <td id=\"T_14428_row0_col0\" class=\"data row0 col0\" >1</td>\n",
       "      <td id=\"T_14428_row0_col1\" class=\"data row0 col1\" >Mohamed Ragab</td>\n",
       "      <td id=\"T_14428_row0_col2\" class=\"data row0 col2\" >Egypt</td>\n",
       "      <td id=\"T_14428_row0_col3\" class=\"data row0 col3\" >mohamed.ragb@ut.ee</td>\n",
       "    </tr>\n",
       "    <tr>\n",
       "      <td id=\"T_14428_row1_col0\" class=\"data row1 col0\" >2</td>\n",
       "      <td id=\"T_14428_row1_col1\" class=\"data row1 col1\" >John Smith</td>\n",
       "      <td id=\"T_14428_row1_col2\" class=\"data row1 col2\" >Finland</td>\n",
       "      <td id=\"T_14428_row1_col3\" class=\"data row1 col3\" >j.smith@hotmail.com</td>\n",
       "    </tr>\n",
       "    <tr>\n",
       "      <td id=\"T_14428_row2_col0\" class=\"data row2 col0\" >3</td>\n",
       "      <td id=\"T_14428_row2_col1\" class=\"data row2 col1\" >Aisha Kareem</td>\n",
       "      <td id=\"T_14428_row2_col2\" class=\"data row2 col2\" >India</td>\n",
       "      <td id=\"T_14428_row2_col3\" class=\"data row2 col3\" >None</td>\n",
       "    </tr>\n",
       "    <tr>\n",
       "      <td id=\"T_14428_row3_col0\" class=\"data row3 col0\" >4</td>\n",
       "      <td id=\"T_14428_row3_col1\" class=\"data row3 col1\" >Jean Lime</td>\n",
       "      <td id=\"T_14428_row3_col2\" class=\"data row3 col2\" >Canda</td>\n",
       "      <td id=\"T_14428_row3_col3\" class=\"data row3 col3\" >jeanlime@gmail.com</td>\n",
       "    </tr>\n",
       "    <tr>\n",
       "      <td id=\"T_14428_row4_col0\" class=\"data row4 col0\" >5</td>\n",
       "      <td id=\"T_14428_row4_col1\" class=\"data row4 col1\" >Hassan Eldeeb</td>\n",
       "      <td id=\"T_14428_row4_col2\" class=\"data row4 col2\" >Egypt</td>\n",
       "      <td id=\"T_14428_row4_col3\" class=\"data row4 col3\" >None</td>\n",
       "    </tr>\n",
       "  </tbody>\n",
       "</table>\n"
      ],
      "text/plain": [
       "<pandas.io.formats.style.Styler at 0x27ee27eaef0>"
      ]
     },
     "metadata": {},
     "output_type": "display_data"
    }
   ],
   "source": [
    "#use Pandas to print the result in tabular form\n",
    "# Don't RUN before you put your SQL Query\n",
    "my_table = pd.read_sql('SELECT * FROM customer', con)\n",
    "display(my_table.style.hide_index())"
   ]
  },
  {
   "cell_type": "code",
   "execution_count": 8,
   "metadata": {},
   "outputs": [
    {
     "name": "stderr",
     "output_type": "stream",
     "text": [
      "C:\\Users\\Acer\\AppData\\Local\\Temp\\ipykernel_6996\\2465764027.py:3: UserWarning: pandas only supports SQLAlchemy connectable (engine/connection) or database string URI or sqlite3 DBAPI2 connection. Other DBAPI2 objects are not tested. Please consider using SQLAlchemy.\n",
      "  another_attempt= psql.read_sql(\"SELECT * FROM customer\", con)\n",
      "C:\\Users\\Acer\\AppData\\Local\\Temp\\ipykernel_6996\\2465764027.py:4: FutureWarning: this method is deprecated in favour of `Styler.hide(axis=\"index\")`\n",
      "  display(another_attempt.style.hide_index())\n"
     ]
    },
    {
     "data": {
      "text/html": [
       "<style type=\"text/css\">\n",
       "</style>\n",
       "<table id=\"T_8cc94\">\n",
       "  <thead>\n",
       "    <tr>\n",
       "      <th id=\"T_8cc94_level0_col0\" class=\"col_heading level0 col0\" >id</th>\n",
       "      <th id=\"T_8cc94_level0_col1\" class=\"col_heading level0 col1\" >name</th>\n",
       "      <th id=\"T_8cc94_level0_col2\" class=\"col_heading level0 col2\" >country</th>\n",
       "      <th id=\"T_8cc94_level0_col3\" class=\"col_heading level0 col3\" >email</th>\n",
       "    </tr>\n",
       "  </thead>\n",
       "  <tbody>\n",
       "    <tr>\n",
       "      <td id=\"T_8cc94_row0_col0\" class=\"data row0 col0\" >1</td>\n",
       "      <td id=\"T_8cc94_row0_col1\" class=\"data row0 col1\" >Mohamed Ragab</td>\n",
       "      <td id=\"T_8cc94_row0_col2\" class=\"data row0 col2\" >Egypt</td>\n",
       "      <td id=\"T_8cc94_row0_col3\" class=\"data row0 col3\" >mohamed.ragb@ut.ee</td>\n",
       "    </tr>\n",
       "    <tr>\n",
       "      <td id=\"T_8cc94_row1_col0\" class=\"data row1 col0\" >2</td>\n",
       "      <td id=\"T_8cc94_row1_col1\" class=\"data row1 col1\" >John Smith</td>\n",
       "      <td id=\"T_8cc94_row1_col2\" class=\"data row1 col2\" >Finland</td>\n",
       "      <td id=\"T_8cc94_row1_col3\" class=\"data row1 col3\" >j.smith@hotmail.com</td>\n",
       "    </tr>\n",
       "    <tr>\n",
       "      <td id=\"T_8cc94_row2_col0\" class=\"data row2 col0\" >3</td>\n",
       "      <td id=\"T_8cc94_row2_col1\" class=\"data row2 col1\" >Aisha Kareem</td>\n",
       "      <td id=\"T_8cc94_row2_col2\" class=\"data row2 col2\" >India</td>\n",
       "      <td id=\"T_8cc94_row2_col3\" class=\"data row2 col3\" >None</td>\n",
       "    </tr>\n",
       "    <tr>\n",
       "      <td id=\"T_8cc94_row3_col0\" class=\"data row3 col0\" >4</td>\n",
       "      <td id=\"T_8cc94_row3_col1\" class=\"data row3 col1\" >Jean Lime</td>\n",
       "      <td id=\"T_8cc94_row3_col2\" class=\"data row3 col2\" >Canda</td>\n",
       "      <td id=\"T_8cc94_row3_col3\" class=\"data row3 col3\" >jeanlime@gmail.com</td>\n",
       "    </tr>\n",
       "    <tr>\n",
       "      <td id=\"T_8cc94_row4_col0\" class=\"data row4 col0\" >5</td>\n",
       "      <td id=\"T_8cc94_row4_col1\" class=\"data row4 col1\" >Hassan Eldeeb</td>\n",
       "      <td id=\"T_8cc94_row4_col2\" class=\"data row4 col2\" >Egypt</td>\n",
       "      <td id=\"T_8cc94_row4_col3\" class=\"data row4 col3\" >None</td>\n",
       "    </tr>\n",
       "  </tbody>\n",
       "</table>\n"
      ],
      "text/plain": [
       "<pandas.io.formats.style.Styler at 0x27ef1b47190>"
      ]
     },
     "metadata": {},
     "output_type": "display_data"
    }
   ],
   "source": [
    "#OR using this code\n",
    "# Don't RUN before you put your SQL Query\n",
    "another_attempt= psql.read_sql(\"SELECT * FROM customer\", con)\n",
    "display(another_attempt.style.hide_index())"
   ]
  },
  {
   "cell_type": "markdown",
   "metadata": {},
   "source": [
    "#### Get only the <font color='red'>names</font>  and <font color='red'>countries</font> of all the Customers in the DB [Projection]"
   ]
  },
  {
   "cell_type": "code",
   "execution_count": 9,
   "metadata": {},
   "outputs": [
    {
     "name": "stderr",
     "output_type": "stream",
     "text": [
      "C:\\Users\\Acer\\AppData\\Local\\Temp\\ipykernel_6996\\614977976.py:4: UserWarning: pandas only supports SQLAlchemy connectable (engine/connection) or database string URI or sqlite3 DBAPI2 connection. Other DBAPI2 objects are not tested. Please consider using SQLAlchemy.\n",
      "  projected_DF= psql.read_sql(sql_project_query, con)\n",
      "C:\\Users\\Acer\\AppData\\Local\\Temp\\ipykernel_6996\\614977976.py:5: FutureWarning: this method is deprecated in favour of `Styler.hide(axis=\"index\")`\n",
      "  display(projected_DF.style.hide_index())\n"
     ]
    },
    {
     "data": {
      "text/html": [
       "<style type=\"text/css\">\n",
       "</style>\n",
       "<table id=\"T_8dc98\">\n",
       "  <thead>\n",
       "    <tr>\n",
       "      <th id=\"T_8dc98_level0_col0\" class=\"col_heading level0 col0\" >name</th>\n",
       "      <th id=\"T_8dc98_level0_col1\" class=\"col_heading level0 col1\" >country</th>\n",
       "    </tr>\n",
       "  </thead>\n",
       "  <tbody>\n",
       "    <tr>\n",
       "      <td id=\"T_8dc98_row0_col0\" class=\"data row0 col0\" >Mohamed Ragab</td>\n",
       "      <td id=\"T_8dc98_row0_col1\" class=\"data row0 col1\" >Egypt</td>\n",
       "    </tr>\n",
       "    <tr>\n",
       "      <td id=\"T_8dc98_row1_col0\" class=\"data row1 col0\" >John Smith</td>\n",
       "      <td id=\"T_8dc98_row1_col1\" class=\"data row1 col1\" >Finland</td>\n",
       "    </tr>\n",
       "    <tr>\n",
       "      <td id=\"T_8dc98_row2_col0\" class=\"data row2 col0\" >Aisha Kareem</td>\n",
       "      <td id=\"T_8dc98_row2_col1\" class=\"data row2 col1\" >India</td>\n",
       "    </tr>\n",
       "    <tr>\n",
       "      <td id=\"T_8dc98_row3_col0\" class=\"data row3 col0\" >Jean Lime</td>\n",
       "      <td id=\"T_8dc98_row3_col1\" class=\"data row3 col1\" >Canda</td>\n",
       "    </tr>\n",
       "    <tr>\n",
       "      <td id=\"T_8dc98_row4_col0\" class=\"data row4 col0\" >Hassan Eldeeb</td>\n",
       "      <td id=\"T_8dc98_row4_col1\" class=\"data row4 col1\" >Egypt</td>\n",
       "    </tr>\n",
       "  </tbody>\n",
       "</table>\n"
      ],
      "text/plain": [
       "<pandas.io.formats.style.Styler at 0x27ee27375b0>"
      ]
     },
     "metadata": {},
     "output_type": "display_data"
    }
   ],
   "source": [
    "# Don't RUN before you put your SQL Query\n",
    "sql_project_query = \"\"\"SELECT name, country FROM customer\"\"\"\n",
    "\n",
    "projected_DF= psql.read_sql(sql_project_query, con)\n",
    "display(projected_DF.style.hide_index())"
   ]
  },
  {
   "cell_type": "markdown",
   "metadata": {},
   "source": [
    "## Sorting the Results\n",
    "\n",
    "#### Get All Customers , sorted by country Ascednding"
   ]
  },
  {
   "cell_type": "code",
   "execution_count": 10,
   "metadata": {},
   "outputs": [
    {
     "name": "stderr",
     "output_type": "stream",
     "text": [
      "C:\\Users\\Acer\\AppData\\Local\\Temp\\ipykernel_6996\\2988887372.py:1: UserWarning: pandas only supports SQLAlchemy connectable (engine/connection) or database string URI or sqlite3 DBAPI2 connection. Other DBAPI2 objects are not tested. Please consider using SQLAlchemy.\n",
      "  ord_customers_by_country= psql.read_sql(\"SELECT * FROM customer ORDER BY country ASC\", con)\n",
      "C:\\Users\\Acer\\AppData\\Local\\Temp\\ipykernel_6996\\2988887372.py:2: FutureWarning: this method is deprecated in favour of `Styler.hide(axis=\"index\")`\n",
      "  display(ord_customers_by_country.style.hide_index())\n"
     ]
    },
    {
     "data": {
      "text/html": [
       "<style type=\"text/css\">\n",
       "</style>\n",
       "<table id=\"T_9815b\">\n",
       "  <thead>\n",
       "    <tr>\n",
       "      <th id=\"T_9815b_level0_col0\" class=\"col_heading level0 col0\" >id</th>\n",
       "      <th id=\"T_9815b_level0_col1\" class=\"col_heading level0 col1\" >name</th>\n",
       "      <th id=\"T_9815b_level0_col2\" class=\"col_heading level0 col2\" >country</th>\n",
       "      <th id=\"T_9815b_level0_col3\" class=\"col_heading level0 col3\" >email</th>\n",
       "    </tr>\n",
       "  </thead>\n",
       "  <tbody>\n",
       "    <tr>\n",
       "      <td id=\"T_9815b_row0_col0\" class=\"data row0 col0\" >4</td>\n",
       "      <td id=\"T_9815b_row0_col1\" class=\"data row0 col1\" >Jean Lime</td>\n",
       "      <td id=\"T_9815b_row0_col2\" class=\"data row0 col2\" >Canda</td>\n",
       "      <td id=\"T_9815b_row0_col3\" class=\"data row0 col3\" >jeanlime@gmail.com</td>\n",
       "    </tr>\n",
       "    <tr>\n",
       "      <td id=\"T_9815b_row1_col0\" class=\"data row1 col0\" >1</td>\n",
       "      <td id=\"T_9815b_row1_col1\" class=\"data row1 col1\" >Mohamed Ragab</td>\n",
       "      <td id=\"T_9815b_row1_col2\" class=\"data row1 col2\" >Egypt</td>\n",
       "      <td id=\"T_9815b_row1_col3\" class=\"data row1 col3\" >mohamed.ragb@ut.ee</td>\n",
       "    </tr>\n",
       "    <tr>\n",
       "      <td id=\"T_9815b_row2_col0\" class=\"data row2 col0\" >5</td>\n",
       "      <td id=\"T_9815b_row2_col1\" class=\"data row2 col1\" >Hassan Eldeeb</td>\n",
       "      <td id=\"T_9815b_row2_col2\" class=\"data row2 col2\" >Egypt</td>\n",
       "      <td id=\"T_9815b_row2_col3\" class=\"data row2 col3\" >None</td>\n",
       "    </tr>\n",
       "    <tr>\n",
       "      <td id=\"T_9815b_row3_col0\" class=\"data row3 col0\" >2</td>\n",
       "      <td id=\"T_9815b_row3_col1\" class=\"data row3 col1\" >John Smith</td>\n",
       "      <td id=\"T_9815b_row3_col2\" class=\"data row3 col2\" >Finland</td>\n",
       "      <td id=\"T_9815b_row3_col3\" class=\"data row3 col3\" >j.smith@hotmail.com</td>\n",
       "    </tr>\n",
       "    <tr>\n",
       "      <td id=\"T_9815b_row4_col0\" class=\"data row4 col0\" >3</td>\n",
       "      <td id=\"T_9815b_row4_col1\" class=\"data row4 col1\" >Aisha Kareem</td>\n",
       "      <td id=\"T_9815b_row4_col2\" class=\"data row4 col2\" >India</td>\n",
       "      <td id=\"T_9815b_row4_col3\" class=\"data row4 col3\" >None</td>\n",
       "    </tr>\n",
       "  </tbody>\n",
       "</table>\n"
      ],
      "text/plain": [
       "<pandas.io.formats.style.Styler at 0x27ee27ea500>"
      ]
     },
     "metadata": {},
     "output_type": "display_data"
    }
   ],
   "source": [
    "ord_customers_by_country= psql.read_sql(\"SELECT * FROM customer ORDER BY country ASC\", con)\n",
    "display(ord_customers_by_country.style.hide_index())"
   ]
  },
  {
   "cell_type": "markdown",
   "metadata": {},
   "source": [
    "- **Note**: By Default Sorting in SQL is Ascending order!"
   ]
  },
  {
   "cell_type": "markdown",
   "metadata": {},
   "source": [
    "#### Get All Customers , sorted by names Descednding"
   ]
  },
  {
   "cell_type": "code",
   "execution_count": 11,
   "metadata": {},
   "outputs": [
    {
     "name": "stderr",
     "output_type": "stream",
     "text": [
      "C:\\Users\\Acer\\AppData\\Local\\Temp\\ipykernel_6996\\3927097696.py:2: UserWarning: pandas only supports SQLAlchemy connectable (engine/connection) or database string URI or sqlite3 DBAPI2 connection. Other DBAPI2 objects are not tested. Please consider using SQLAlchemy.\n",
      "  ord_customers_by_name= psql.read_sql(\" SELECT * FROM customer ORDER BY name DESC\", con)\n",
      "C:\\Users\\Acer\\AppData\\Local\\Temp\\ipykernel_6996\\3927097696.py:3: FutureWarning: this method is deprecated in favour of `Styler.hide(axis=\"index\")`\n",
      "  display(ord_customers_by_name.style.hide_index())\n"
     ]
    },
    {
     "data": {
      "text/html": [
       "<style type=\"text/css\">\n",
       "</style>\n",
       "<table id=\"T_0ce81\">\n",
       "  <thead>\n",
       "    <tr>\n",
       "      <th id=\"T_0ce81_level0_col0\" class=\"col_heading level0 col0\" >id</th>\n",
       "      <th id=\"T_0ce81_level0_col1\" class=\"col_heading level0 col1\" >name</th>\n",
       "      <th id=\"T_0ce81_level0_col2\" class=\"col_heading level0 col2\" >country</th>\n",
       "      <th id=\"T_0ce81_level0_col3\" class=\"col_heading level0 col3\" >email</th>\n",
       "    </tr>\n",
       "  </thead>\n",
       "  <tbody>\n",
       "    <tr>\n",
       "      <td id=\"T_0ce81_row0_col0\" class=\"data row0 col0\" >1</td>\n",
       "      <td id=\"T_0ce81_row0_col1\" class=\"data row0 col1\" >Mohamed Ragab</td>\n",
       "      <td id=\"T_0ce81_row0_col2\" class=\"data row0 col2\" >Egypt</td>\n",
       "      <td id=\"T_0ce81_row0_col3\" class=\"data row0 col3\" >mohamed.ragb@ut.ee</td>\n",
       "    </tr>\n",
       "    <tr>\n",
       "      <td id=\"T_0ce81_row1_col0\" class=\"data row1 col0\" >2</td>\n",
       "      <td id=\"T_0ce81_row1_col1\" class=\"data row1 col1\" >John Smith</td>\n",
       "      <td id=\"T_0ce81_row1_col2\" class=\"data row1 col2\" >Finland</td>\n",
       "      <td id=\"T_0ce81_row1_col3\" class=\"data row1 col3\" >j.smith@hotmail.com</td>\n",
       "    </tr>\n",
       "    <tr>\n",
       "      <td id=\"T_0ce81_row2_col0\" class=\"data row2 col0\" >4</td>\n",
       "      <td id=\"T_0ce81_row2_col1\" class=\"data row2 col1\" >Jean Lime</td>\n",
       "      <td id=\"T_0ce81_row2_col2\" class=\"data row2 col2\" >Canda</td>\n",
       "      <td id=\"T_0ce81_row2_col3\" class=\"data row2 col3\" >jeanlime@gmail.com</td>\n",
       "    </tr>\n",
       "    <tr>\n",
       "      <td id=\"T_0ce81_row3_col0\" class=\"data row3 col0\" >5</td>\n",
       "      <td id=\"T_0ce81_row3_col1\" class=\"data row3 col1\" >Hassan Eldeeb</td>\n",
       "      <td id=\"T_0ce81_row3_col2\" class=\"data row3 col2\" >Egypt</td>\n",
       "      <td id=\"T_0ce81_row3_col3\" class=\"data row3 col3\" >None</td>\n",
       "    </tr>\n",
       "    <tr>\n",
       "      <td id=\"T_0ce81_row4_col0\" class=\"data row4 col0\" >3</td>\n",
       "      <td id=\"T_0ce81_row4_col1\" class=\"data row4 col1\" >Aisha Kareem</td>\n",
       "      <td id=\"T_0ce81_row4_col2\" class=\"data row4 col2\" >India</td>\n",
       "      <td id=\"T_0ce81_row4_col3\" class=\"data row4 col3\" >None</td>\n",
       "    </tr>\n",
       "  </tbody>\n",
       "</table>\n"
      ],
      "text/plain": [
       "<pandas.io.formats.style.Styler at 0x27ef1b46fb0>"
      ]
     },
     "metadata": {},
     "output_type": "display_data"
    }
   ],
   "source": [
    "# Don't RUN before you put your SQL Query\n",
    "ord_customers_by_name= psql.read_sql(\" SELECT * FROM customer ORDER BY name DESC\", con)\n",
    "display(ord_customers_by_name.style.hide_index())"
   ]
  },
  {
   "cell_type": "markdown",
   "metadata": {},
   "source": [
    "#### Get Distinct Countries of customers From Customer table "
   ]
  },
  {
   "cell_type": "code",
   "execution_count": 12,
   "metadata": {},
   "outputs": [
    {
     "name": "stderr",
     "output_type": "stream",
     "text": [
      "C:\\Users\\Acer\\AppData\\Local\\Temp\\ipykernel_6996\\2673486734.py:2: UserWarning: pandas only supports SQLAlchemy connectable (engine/connection) or database string URI or sqlite3 DBAPI2 connection. Other DBAPI2 objects are not tested. Please consider using SQLAlchemy.\n",
      "  distinctCountries= psql.read_sql(\"SELECT DISTINCT country FROM customer\", con)\n",
      "C:\\Users\\Acer\\AppData\\Local\\Temp\\ipykernel_6996\\2673486734.py:3: FutureWarning: this method is deprecated in favour of `Styler.hide(axis=\"index\")`\n",
      "  display(distinctCountries.style.hide_index())\n"
     ]
    },
    {
     "data": {
      "text/html": [
       "<style type=\"text/css\">\n",
       "</style>\n",
       "<table id=\"T_0ca3f\">\n",
       "  <thead>\n",
       "    <tr>\n",
       "      <th id=\"T_0ca3f_level0_col0\" class=\"col_heading level0 col0\" >country</th>\n",
       "    </tr>\n",
       "  </thead>\n",
       "  <tbody>\n",
       "    <tr>\n",
       "      <td id=\"T_0ca3f_row0_col0\" class=\"data row0 col0\" >Finland</td>\n",
       "    </tr>\n",
       "    <tr>\n",
       "      <td id=\"T_0ca3f_row1_col0\" class=\"data row1 col0\" >Egypt</td>\n",
       "    </tr>\n",
       "    <tr>\n",
       "      <td id=\"T_0ca3f_row2_col0\" class=\"data row2 col0\" >India</td>\n",
       "    </tr>\n",
       "    <tr>\n",
       "      <td id=\"T_0ca3f_row3_col0\" class=\"data row3 col0\" >Canda</td>\n",
       "    </tr>\n",
       "  </tbody>\n",
       "</table>\n"
      ],
      "text/plain": [
       "<pandas.io.formats.style.Styler at 0x27ee27360e0>"
      ]
     },
     "metadata": {},
     "output_type": "display_data"
    }
   ],
   "source": [
    "# Don't RUN before you put your SQL Query\n",
    "distinctCountries= psql.read_sql(\"SELECT DISTINCT country FROM customer\", con)\n",
    "display(distinctCountries.style.hide_index())"
   ]
  },
  {
   "cell_type": "markdown",
   "metadata": {},
   "source": [
    "### Filtering the Results (Use the WHERE & AND)"
   ]
  },
  {
   "cell_type": "markdown",
   "metadata": {},
   "source": [
    "#### Get only the customers who have emails (filter out who don't have)"
   ]
  },
  {
   "cell_type": "code",
   "execution_count": 13,
   "metadata": {},
   "outputs": [
    {
     "name": "stderr",
     "output_type": "stream",
     "text": [
      "C:\\Users\\Acer\\AppData\\Local\\Temp\\ipykernel_6996\\4159047615.py:1: UserWarning: pandas only supports SQLAlchemy connectable (engine/connection) or database string URI or sqlite3 DBAPI2 connection. Other DBAPI2 objects are not tested. Please consider using SQLAlchemy.\n",
      "  customersWithEmails= psql.read_sql(\"SELECT * FROM customer WHERE email != ''  \", con)\n",
      "C:\\Users\\Acer\\AppData\\Local\\Temp\\ipykernel_6996\\4159047615.py:2: FutureWarning: this method is deprecated in favour of `Styler.hide(axis=\"index\")`\n",
      "  display(customersWithEmails.style.hide_index())\n"
     ]
    },
    {
     "data": {
      "text/html": [
       "<style type=\"text/css\">\n",
       "</style>\n",
       "<table id=\"T_1dc35\">\n",
       "  <thead>\n",
       "    <tr>\n",
       "      <th id=\"T_1dc35_level0_col0\" class=\"col_heading level0 col0\" >id</th>\n",
       "      <th id=\"T_1dc35_level0_col1\" class=\"col_heading level0 col1\" >name</th>\n",
       "      <th id=\"T_1dc35_level0_col2\" class=\"col_heading level0 col2\" >country</th>\n",
       "      <th id=\"T_1dc35_level0_col3\" class=\"col_heading level0 col3\" >email</th>\n",
       "    </tr>\n",
       "  </thead>\n",
       "  <tbody>\n",
       "    <tr>\n",
       "      <td id=\"T_1dc35_row0_col0\" class=\"data row0 col0\" >1</td>\n",
       "      <td id=\"T_1dc35_row0_col1\" class=\"data row0 col1\" >Mohamed Ragab</td>\n",
       "      <td id=\"T_1dc35_row0_col2\" class=\"data row0 col2\" >Egypt</td>\n",
       "      <td id=\"T_1dc35_row0_col3\" class=\"data row0 col3\" >mohamed.ragb@ut.ee</td>\n",
       "    </tr>\n",
       "    <tr>\n",
       "      <td id=\"T_1dc35_row1_col0\" class=\"data row1 col0\" >2</td>\n",
       "      <td id=\"T_1dc35_row1_col1\" class=\"data row1 col1\" >John Smith</td>\n",
       "      <td id=\"T_1dc35_row1_col2\" class=\"data row1 col2\" >Finland</td>\n",
       "      <td id=\"T_1dc35_row1_col3\" class=\"data row1 col3\" >j.smith@hotmail.com</td>\n",
       "    </tr>\n",
       "    <tr>\n",
       "      <td id=\"T_1dc35_row2_col0\" class=\"data row2 col0\" >4</td>\n",
       "      <td id=\"T_1dc35_row2_col1\" class=\"data row2 col1\" >Jean Lime</td>\n",
       "      <td id=\"T_1dc35_row2_col2\" class=\"data row2 col2\" >Canda</td>\n",
       "      <td id=\"T_1dc35_row2_col3\" class=\"data row2 col3\" >jeanlime@gmail.com</td>\n",
       "    </tr>\n",
       "  </tbody>\n",
       "</table>\n"
      ],
      "text/plain": [
       "<pandas.io.formats.style.Styler at 0x27ef22d6740>"
      ]
     },
     "metadata": {},
     "output_type": "display_data"
    }
   ],
   "source": [
    "customersWithEmails= psql.read_sql(\"SELECT * FROM customer WHERE email != ''  \", con)\n",
    "display(customersWithEmails.style.hide_index())"
   ]
  },
  {
   "cell_type": "markdown",
   "metadata": {},
   "source": [
    "#### Get customers who live in \"Egypt\""
   ]
  },
  {
   "cell_type": "code",
   "execution_count": 14,
   "metadata": {},
   "outputs": [
    {
     "name": "stderr",
     "output_type": "stream",
     "text": [
      "C:\\Users\\Acer\\AppData\\Local\\Temp\\ipykernel_6996\\3362278165.py:2: UserWarning: pandas only supports SQLAlchemy connectable (engine/connection) or database string URI or sqlite3 DBAPI2 connection. Other DBAPI2 objects are not tested. Please consider using SQLAlchemy.\n",
      "  theEgyptian= psql.read_sql(\"SELECT * FROM customer WHERE country='Egypt' \", con)\n",
      "C:\\Users\\Acer\\AppData\\Local\\Temp\\ipykernel_6996\\3362278165.py:3: FutureWarning: this method is deprecated in favour of `Styler.hide(axis=\"index\")`\n",
      "  display(theEgyptian.style.hide_index())\n"
     ]
    },
    {
     "data": {
      "text/html": [
       "<style type=\"text/css\">\n",
       "</style>\n",
       "<table id=\"T_57893\">\n",
       "  <thead>\n",
       "    <tr>\n",
       "      <th id=\"T_57893_level0_col0\" class=\"col_heading level0 col0\" >id</th>\n",
       "      <th id=\"T_57893_level0_col1\" class=\"col_heading level0 col1\" >name</th>\n",
       "      <th id=\"T_57893_level0_col2\" class=\"col_heading level0 col2\" >country</th>\n",
       "      <th id=\"T_57893_level0_col3\" class=\"col_heading level0 col3\" >email</th>\n",
       "    </tr>\n",
       "  </thead>\n",
       "  <tbody>\n",
       "    <tr>\n",
       "      <td id=\"T_57893_row0_col0\" class=\"data row0 col0\" >1</td>\n",
       "      <td id=\"T_57893_row0_col1\" class=\"data row0 col1\" >Mohamed Ragab</td>\n",
       "      <td id=\"T_57893_row0_col2\" class=\"data row0 col2\" >Egypt</td>\n",
       "      <td id=\"T_57893_row0_col3\" class=\"data row0 col3\" >mohamed.ragb@ut.ee</td>\n",
       "    </tr>\n",
       "    <tr>\n",
       "      <td id=\"T_57893_row1_col0\" class=\"data row1 col0\" >5</td>\n",
       "      <td id=\"T_57893_row1_col1\" class=\"data row1 col1\" >Hassan Eldeeb</td>\n",
       "      <td id=\"T_57893_row1_col2\" class=\"data row1 col2\" >Egypt</td>\n",
       "      <td id=\"T_57893_row1_col3\" class=\"data row1 col3\" >None</td>\n",
       "    </tr>\n",
       "  </tbody>\n",
       "</table>\n"
      ],
      "text/plain": [
       "<pandas.io.formats.style.Styler at 0x27ef22d6080>"
      ]
     },
     "metadata": {},
     "output_type": "display_data"
    }
   ],
   "source": [
    "# Don't RUN before you put your SQL Query\n",
    "theEgyptian= psql.read_sql(\"SELECT * FROM customer WHERE country='Egypt' \", con)\n",
    "display(theEgyptian.style.hide_index())"
   ]
  },
  {
   "cell_type": "markdown",
   "metadata": {},
   "source": [
    "#### Get customers who are from Egypt and already have emails"
   ]
  },
  {
   "cell_type": "code",
   "execution_count": 15,
   "metadata": {},
   "outputs": [
    {
     "name": "stderr",
     "output_type": "stream",
     "text": [
      "C:\\Users\\Acer\\AppData\\Local\\Temp\\ipykernel_6996\\3874290988.py:2: UserWarning: pandas only supports SQLAlchemy connectable (engine/connection) or database string URI or sqlite3 DBAPI2 connection. Other DBAPI2 objects are not tested. Please consider using SQLAlchemy.\n",
      "  theEgyptianWithEmail= psql.read_sql(\"SELECT * FROM customer WHERE country='Egypt' and email!='' \", con)\n",
      "C:\\Users\\Acer\\AppData\\Local\\Temp\\ipykernel_6996\\3874290988.py:3: FutureWarning: this method is deprecated in favour of `Styler.hide(axis=\"index\")`\n",
      "  display(theEgyptianWithEmail.style.hide_index())\n"
     ]
    },
    {
     "data": {
      "text/html": [
       "<style type=\"text/css\">\n",
       "</style>\n",
       "<table id=\"T_76faa\">\n",
       "  <thead>\n",
       "    <tr>\n",
       "      <th id=\"T_76faa_level0_col0\" class=\"col_heading level0 col0\" >id</th>\n",
       "      <th id=\"T_76faa_level0_col1\" class=\"col_heading level0 col1\" >name</th>\n",
       "      <th id=\"T_76faa_level0_col2\" class=\"col_heading level0 col2\" >country</th>\n",
       "      <th id=\"T_76faa_level0_col3\" class=\"col_heading level0 col3\" >email</th>\n",
       "    </tr>\n",
       "  </thead>\n",
       "  <tbody>\n",
       "    <tr>\n",
       "      <td id=\"T_76faa_row0_col0\" class=\"data row0 col0\" >1</td>\n",
       "      <td id=\"T_76faa_row0_col1\" class=\"data row0 col1\" >Mohamed Ragab</td>\n",
       "      <td id=\"T_76faa_row0_col2\" class=\"data row0 col2\" >Egypt</td>\n",
       "      <td id=\"T_76faa_row0_col3\" class=\"data row0 col3\" >mohamed.ragb@ut.ee</td>\n",
       "    </tr>\n",
       "  </tbody>\n",
       "</table>\n"
      ],
      "text/plain": [
       "<pandas.io.formats.style.Styler at 0x27ef22d7880>"
      ]
     },
     "metadata": {},
     "output_type": "display_data"
    }
   ],
   "source": [
    "# Don't RUN before you put your SQL Query\n",
    "theEgyptianWithEmail= psql.read_sql(\"SELECT * FROM customer WHERE country='Egypt' and email!='' \", con)\n",
    "display(theEgyptianWithEmail.style.hide_index())"
   ]
  },
  {
   "cell_type": "markdown",
   "metadata": {},
   "source": [
    "#### Get customers who's name starts with Letter \"J\""
   ]
  },
  {
   "cell_type": "code",
   "execution_count": 16,
   "metadata": {},
   "outputs": [
    {
     "name": "stderr",
     "output_type": "stream",
     "text": [
      "C:\\Users\\Acer\\AppData\\Local\\Temp\\ipykernel_6996\\4061736775.py:1: UserWarning: pandas only supports SQLAlchemy connectable (engine/connection) or database string URI or sqlite3 DBAPI2 connection. Other DBAPI2 objects are not tested. Please consider using SQLAlchemy.\n",
      "  J_Customers= psql.read_sql(\"SELECT * FROM customer WHERE name LIKE 'J%' \", con)\n",
      "C:\\Users\\Acer\\AppData\\Local\\Temp\\ipykernel_6996\\4061736775.py:2: FutureWarning: this method is deprecated in favour of `Styler.hide(axis=\"index\")`\n",
      "  display(J_Customers.style.hide_index())\n"
     ]
    },
    {
     "data": {
      "text/html": [
       "<style type=\"text/css\">\n",
       "</style>\n",
       "<table id=\"T_0fd2d\">\n",
       "  <thead>\n",
       "    <tr>\n",
       "      <th id=\"T_0fd2d_level0_col0\" class=\"col_heading level0 col0\" >id</th>\n",
       "      <th id=\"T_0fd2d_level0_col1\" class=\"col_heading level0 col1\" >name</th>\n",
       "      <th id=\"T_0fd2d_level0_col2\" class=\"col_heading level0 col2\" >country</th>\n",
       "      <th id=\"T_0fd2d_level0_col3\" class=\"col_heading level0 col3\" >email</th>\n",
       "    </tr>\n",
       "  </thead>\n",
       "  <tbody>\n",
       "    <tr>\n",
       "      <td id=\"T_0fd2d_row0_col0\" class=\"data row0 col0\" >2</td>\n",
       "      <td id=\"T_0fd2d_row0_col1\" class=\"data row0 col1\" >John Smith</td>\n",
       "      <td id=\"T_0fd2d_row0_col2\" class=\"data row0 col2\" >Finland</td>\n",
       "      <td id=\"T_0fd2d_row0_col3\" class=\"data row0 col3\" >j.smith@hotmail.com</td>\n",
       "    </tr>\n",
       "    <tr>\n",
       "      <td id=\"T_0fd2d_row1_col0\" class=\"data row1 col0\" >4</td>\n",
       "      <td id=\"T_0fd2d_row1_col1\" class=\"data row1 col1\" >Jean Lime</td>\n",
       "      <td id=\"T_0fd2d_row1_col2\" class=\"data row1 col2\" >Canda</td>\n",
       "      <td id=\"T_0fd2d_row1_col3\" class=\"data row1 col3\" >jeanlime@gmail.com</td>\n",
       "    </tr>\n",
       "  </tbody>\n",
       "</table>\n"
      ],
      "text/plain": [
       "<pandas.io.formats.style.Styler at 0x27ef22d4f40>"
      ]
     },
     "metadata": {},
     "output_type": "display_data"
    }
   ],
   "source": [
    "J_Customers= psql.read_sql(\"SELECT * FROM customer WHERE name LIKE 'J%' \", con)\n",
    "display(J_Customers.style.hide_index())"
   ]
  },
  {
   "cell_type": "markdown",
   "metadata": {},
   "source": [
    "### Pagination  in SQL, using \"LIMT\" and \"OFFSET\""
   ]
  },
  {
   "cell_type": "markdown",
   "metadata": {},
   "source": [
    "#### Get only the first 3 Customers from the customers table"
   ]
  },
  {
   "cell_type": "code",
   "execution_count": 17,
   "metadata": {},
   "outputs": [
    {
     "name": "stderr",
     "output_type": "stream",
     "text": [
      "C:\\Users\\Acer\\AppData\\Local\\Temp\\ipykernel_6996\\1813295314.py:1: UserWarning: pandas only supports SQLAlchemy connectable (engine/connection) or database string URI or sqlite3 DBAPI2 connection. Other DBAPI2 objects are not tested. Please consider using SQLAlchemy.\n",
      "  first_3_Customers= psql.read_sql(\"SELECT * FROM customer LIMIT 3 \", con)\n",
      "C:\\Users\\Acer\\AppData\\Local\\Temp\\ipykernel_6996\\1813295314.py:2: FutureWarning: this method is deprecated in favour of `Styler.hide(axis=\"index\")`\n",
      "  display(first_3_Customers.style.hide_index())\n"
     ]
    },
    {
     "data": {
      "text/html": [
       "<style type=\"text/css\">\n",
       "</style>\n",
       "<table id=\"T_4d0cd\">\n",
       "  <thead>\n",
       "    <tr>\n",
       "      <th id=\"T_4d0cd_level0_col0\" class=\"col_heading level0 col0\" >id</th>\n",
       "      <th id=\"T_4d0cd_level0_col1\" class=\"col_heading level0 col1\" >name</th>\n",
       "      <th id=\"T_4d0cd_level0_col2\" class=\"col_heading level0 col2\" >country</th>\n",
       "      <th id=\"T_4d0cd_level0_col3\" class=\"col_heading level0 col3\" >email</th>\n",
       "    </tr>\n",
       "  </thead>\n",
       "  <tbody>\n",
       "    <tr>\n",
       "      <td id=\"T_4d0cd_row0_col0\" class=\"data row0 col0\" >1</td>\n",
       "      <td id=\"T_4d0cd_row0_col1\" class=\"data row0 col1\" >Mohamed Ragab</td>\n",
       "      <td id=\"T_4d0cd_row0_col2\" class=\"data row0 col2\" >Egypt</td>\n",
       "      <td id=\"T_4d0cd_row0_col3\" class=\"data row0 col3\" >mohamed.ragb@ut.ee</td>\n",
       "    </tr>\n",
       "    <tr>\n",
       "      <td id=\"T_4d0cd_row1_col0\" class=\"data row1 col0\" >2</td>\n",
       "      <td id=\"T_4d0cd_row1_col1\" class=\"data row1 col1\" >John Smith</td>\n",
       "      <td id=\"T_4d0cd_row1_col2\" class=\"data row1 col2\" >Finland</td>\n",
       "      <td id=\"T_4d0cd_row1_col3\" class=\"data row1 col3\" >j.smith@hotmail.com</td>\n",
       "    </tr>\n",
       "    <tr>\n",
       "      <td id=\"T_4d0cd_row2_col0\" class=\"data row2 col0\" >3</td>\n",
       "      <td id=\"T_4d0cd_row2_col1\" class=\"data row2 col1\" >Aisha Kareem</td>\n",
       "      <td id=\"T_4d0cd_row2_col2\" class=\"data row2 col2\" >India</td>\n",
       "      <td id=\"T_4d0cd_row2_col3\" class=\"data row2 col3\" >None</td>\n",
       "    </tr>\n",
       "  </tbody>\n",
       "</table>\n"
      ],
      "text/plain": [
       "<pandas.io.formats.style.Styler at 0x27ef23060e0>"
      ]
     },
     "metadata": {},
     "output_type": "display_data"
    }
   ],
   "source": [
    "first_3_Customers= psql.read_sql(\"SELECT * FROM customer LIMIT 3 \", con)\n",
    "display(first_3_Customers.style.hide_index())"
   ]
  },
  {
   "cell_type": "markdown",
   "metadata": {},
   "source": [
    "#### skipt the First 3 Customers and get the next 3 customers"
   ]
  },
  {
   "cell_type": "code",
   "execution_count": 21,
   "metadata": {},
   "outputs": [
    {
     "name": "stderr",
     "output_type": "stream",
     "text": [
      "C:\\Users\\Acer\\AppData\\Local\\Temp\\ipykernel_6996\\1439238324.py:1: UserWarning: pandas only supports SQLAlchemy connectable (engine/connection) or database string URI or sqlite3 DBAPI2 connection. Other DBAPI2 objects are not tested. Please consider using SQLAlchemy.\n",
      "  next_3_Customers= psql.read_sql(\"SELECT * FROM customer OFFSET 3 LIMIT 3 \", con)\n",
      "C:\\Users\\Acer\\AppData\\Local\\Temp\\ipykernel_6996\\1439238324.py:2: FutureWarning: this method is deprecated in favour of `Styler.hide(axis=\"index\")`\n",
      "  display(next_3_Customers.style.hide_index())\n"
     ]
    },
    {
     "data": {
      "text/html": [
       "<style type=\"text/css\">\n",
       "</style>\n",
       "<table id=\"T_6ac3f\">\n",
       "  <thead>\n",
       "    <tr>\n",
       "      <th id=\"T_6ac3f_level0_col0\" class=\"col_heading level0 col0\" >id</th>\n",
       "      <th id=\"T_6ac3f_level0_col1\" class=\"col_heading level0 col1\" >name</th>\n",
       "      <th id=\"T_6ac3f_level0_col2\" class=\"col_heading level0 col2\" >country</th>\n",
       "      <th id=\"T_6ac3f_level0_col3\" class=\"col_heading level0 col3\" >email</th>\n",
       "    </tr>\n",
       "  </thead>\n",
       "  <tbody>\n",
       "    <tr>\n",
       "      <td id=\"T_6ac3f_row0_col0\" class=\"data row0 col0\" >4</td>\n",
       "      <td id=\"T_6ac3f_row0_col1\" class=\"data row0 col1\" >Jean Lime</td>\n",
       "      <td id=\"T_6ac3f_row0_col2\" class=\"data row0 col2\" >Canda</td>\n",
       "      <td id=\"T_6ac3f_row0_col3\" class=\"data row0 col3\" >jeanlime@gmail.com</td>\n",
       "    </tr>\n",
       "    <tr>\n",
       "      <td id=\"T_6ac3f_row1_col0\" class=\"data row1 col0\" >5</td>\n",
       "      <td id=\"T_6ac3f_row1_col1\" class=\"data row1 col1\" >Hassan Eldeeb</td>\n",
       "      <td id=\"T_6ac3f_row1_col2\" class=\"data row1 col2\" >Egypt</td>\n",
       "      <td id=\"T_6ac3f_row1_col3\" class=\"data row1 col3\" >None</td>\n",
       "    </tr>\n",
       "  </tbody>\n",
       "</table>\n"
      ],
      "text/plain": [
       "<pandas.io.formats.style.Styler at 0x27ef22d7cd0>"
      ]
     },
     "metadata": {},
     "output_type": "display_data"
    }
   ],
   "source": [
    "next_3_Customers= psql.read_sql(\"SELECT * FROM customer OFFSET 3 LIMIT 3 \", con)\n",
    "display(next_3_Customers.style.hide_index())"
   ]
  },
  {
   "cell_type": "markdown",
   "metadata": {},
   "source": [
    "#### Try another way to ge the same result of the previous cell\n",
    "- **Hint** : use OFFSET with FETCH FIRST"
   ]
  },
  {
   "cell_type": "code",
   "execution_count": 24,
   "metadata": {},
   "outputs": [
    {
     "name": "stderr",
     "output_type": "stream",
     "text": [
      "C:\\Users\\Acer\\AppData\\Local\\Temp\\ipykernel_6996\\1320313111.py:3: UserWarning: pandas only supports SQLAlchemy connectable (engine/connection) or database string URI or sqlite3 DBAPI2 connection. Other DBAPI2 objects are not tested. Please consider using SQLAlchemy.\n",
      "  next_3_Customers= psql.read_sql(\"SELECT * FROM customer OFFSET 3 FETCH FIRST 3 ROW ONLY \", con)\n",
      "C:\\Users\\Acer\\AppData\\Local\\Temp\\ipykernel_6996\\1320313111.py:4: FutureWarning: this method is deprecated in favour of `Styler.hide(axis=\"index\")`\n",
      "  display(next_3_Customers.style.hide_index())\n"
     ]
    },
    {
     "data": {
      "text/html": [
       "<style type=\"text/css\">\n",
       "</style>\n",
       "<table id=\"T_5d8cf\">\n",
       "  <thead>\n",
       "    <tr>\n",
       "      <th id=\"T_5d8cf_level0_col0\" class=\"col_heading level0 col0\" >id</th>\n",
       "      <th id=\"T_5d8cf_level0_col1\" class=\"col_heading level0 col1\" >name</th>\n",
       "      <th id=\"T_5d8cf_level0_col2\" class=\"col_heading level0 col2\" >country</th>\n",
       "      <th id=\"T_5d8cf_level0_col3\" class=\"col_heading level0 col3\" >email</th>\n",
       "    </tr>\n",
       "  </thead>\n",
       "  <tbody>\n",
       "    <tr>\n",
       "      <td id=\"T_5d8cf_row0_col0\" class=\"data row0 col0\" >4</td>\n",
       "      <td id=\"T_5d8cf_row0_col1\" class=\"data row0 col1\" >Jean Lime</td>\n",
       "      <td id=\"T_5d8cf_row0_col2\" class=\"data row0 col2\" >Canda</td>\n",
       "      <td id=\"T_5d8cf_row0_col3\" class=\"data row0 col3\" >jeanlime@gmail.com</td>\n",
       "    </tr>\n",
       "    <tr>\n",
       "      <td id=\"T_5d8cf_row1_col0\" class=\"data row1 col0\" >5</td>\n",
       "      <td id=\"T_5d8cf_row1_col1\" class=\"data row1 col1\" >Hassan Eldeeb</td>\n",
       "      <td id=\"T_5d8cf_row1_col2\" class=\"data row1 col2\" >Egypt</td>\n",
       "      <td id=\"T_5d8cf_row1_col3\" class=\"data row1 col3\" >None</td>\n",
       "    </tr>\n",
       "  </tbody>\n",
       "</table>\n"
      ],
      "text/plain": [
       "<pandas.io.formats.style.Styler at 0x27ef2446b60>"
      ]
     },
     "metadata": {},
     "output_type": "display_data"
    }
   ],
   "source": [
    "#OR you can do the same using the following Query\n",
    "# Don't RUN before you put your SQL Query\n",
    "next_3_Customers= psql.read_sql(\"SELECT * FROM customer OFFSET 3 FETCH FIRST 3 ROW ONLY \", con)\n",
    "display(next_3_Customers.style.hide_index())"
   ]
  },
  {
   "cell_type": "markdown",
   "metadata": {},
   "source": [
    "## Let's have some statiscs and aggregations (SQL GROUP BY & aggregation functions)\n",
    "\n",
    "- The GROUP BY statement groups rows that have the same values into summary rows.\n",
    "- The GROUP BY statement is often used with aggregate functions (COUNT, MAX, MIN, SUM, AVG) to group the result-set by one or more columns.\n"
   ]
  },
  {
   "cell_type": "markdown",
   "metadata": {},
   "source": [
    "#### Get the count of  customers in your DB"
   ]
  },
  {
   "cell_type": "code",
   "execution_count": 25,
   "metadata": {},
   "outputs": [
    {
     "name": "stderr",
     "output_type": "stream",
     "text": [
      "C:\\Users\\Acer\\AppData\\Local\\Temp\\ipykernel_6996\\1210120968.py:2: UserWarning: pandas only supports SQLAlchemy connectable (engine/connection) or database string URI or sqlite3 DBAPI2 connection. Other DBAPI2 objects are not tested. Please consider using SQLAlchemy.\n",
      "  Customers_Cnt= psql.read_sql(\"SELECT COUNT(*) FROM customer\", con)\n",
      "C:\\Users\\Acer\\AppData\\Local\\Temp\\ipykernel_6996\\1210120968.py:3: FutureWarning: this method is deprecated in favour of `Styler.hide(axis=\"index\")`\n",
      "  display(Customers_Cnt.style.hide_index())\n"
     ]
    },
    {
     "data": {
      "text/html": [
       "<style type=\"text/css\">\n",
       "</style>\n",
       "<table id=\"T_0e221\">\n",
       "  <thead>\n",
       "    <tr>\n",
       "      <th id=\"T_0e221_level0_col0\" class=\"col_heading level0 col0\" >count</th>\n",
       "    </tr>\n",
       "  </thead>\n",
       "  <tbody>\n",
       "    <tr>\n",
       "      <td id=\"T_0e221_row0_col0\" class=\"data row0 col0\" >5</td>\n",
       "    </tr>\n",
       "  </tbody>\n",
       "</table>\n"
      ],
      "text/plain": [
       "<pandas.io.formats.style.Styler at 0x27ef245cd90>"
      ]
     },
     "metadata": {},
     "output_type": "display_data"
    }
   ],
   "source": [
    "# Don't RUN before you put your SQL Query\n",
    "Customers_Cnt= psql.read_sql(\"SELECT COUNT(*) FROM customer\", con)\n",
    "display(Customers_Cnt.style.hide_index())"
   ]
  },
  {
   "cell_type": "markdown",
   "metadata": {},
   "source": [
    "#### Get the Distinct Countries and how many customers are in each country"
   ]
  },
  {
   "cell_type": "code",
   "execution_count": 26,
   "metadata": {},
   "outputs": [
    {
     "name": "stderr",
     "output_type": "stream",
     "text": [
      "C:\\Users\\Acer\\AppData\\Local\\Temp\\ipykernel_6996\\3100631652.py:1: UserWarning: pandas only supports SQLAlchemy connectable (engine/connection) or database string URI or sqlite3 DBAPI2 connection. Other DBAPI2 objects are not tested. Please consider using SQLAlchemy.\n",
      "  Countries_Customers_Cnt= psql.read_sql(\"SELECT DISTINCT country , COUNT (*) FROM customer GROUP BY country\", con)\n",
      "C:\\Users\\Acer\\AppData\\Local\\Temp\\ipykernel_6996\\3100631652.py:2: FutureWarning: this method is deprecated in favour of `Styler.hide(axis=\"index\")`\n",
      "  display(Countries_Customers_Cnt.style.hide_index())\n"
     ]
    },
    {
     "data": {
      "text/html": [
       "<style type=\"text/css\">\n",
       "</style>\n",
       "<table id=\"T_3dc8b\">\n",
       "  <thead>\n",
       "    <tr>\n",
       "      <th id=\"T_3dc8b_level0_col0\" class=\"col_heading level0 col0\" >country</th>\n",
       "      <th id=\"T_3dc8b_level0_col1\" class=\"col_heading level0 col1\" >count</th>\n",
       "    </tr>\n",
       "  </thead>\n",
       "  <tbody>\n",
       "    <tr>\n",
       "      <td id=\"T_3dc8b_row0_col0\" class=\"data row0 col0\" >India</td>\n",
       "      <td id=\"T_3dc8b_row0_col1\" class=\"data row0 col1\" >1</td>\n",
       "    </tr>\n",
       "    <tr>\n",
       "      <td id=\"T_3dc8b_row1_col0\" class=\"data row1 col0\" >Canda</td>\n",
       "      <td id=\"T_3dc8b_row1_col1\" class=\"data row1 col1\" >1</td>\n",
       "    </tr>\n",
       "    <tr>\n",
       "      <td id=\"T_3dc8b_row2_col0\" class=\"data row2 col0\" >Finland</td>\n",
       "      <td id=\"T_3dc8b_row2_col1\" class=\"data row2 col1\" >1</td>\n",
       "    </tr>\n",
       "    <tr>\n",
       "      <td id=\"T_3dc8b_row3_col0\" class=\"data row3 col0\" >Egypt</td>\n",
       "      <td id=\"T_3dc8b_row3_col1\" class=\"data row3 col1\" >2</td>\n",
       "    </tr>\n",
       "  </tbody>\n",
       "</table>\n"
      ],
      "text/plain": [
       "<pandas.io.formats.style.Styler at 0x27ef2447130>"
      ]
     },
     "metadata": {},
     "output_type": "display_data"
    }
   ],
   "source": [
    "Countries_Customers_Cnt= psql.read_sql(\"SELECT DISTINCT country , COUNT (*) FROM customer GROUP BY country\", con)\n",
    "display(Countries_Customers_Cnt.style.hide_index())"
   ]
  },
  {
   "cell_type": "markdown",
   "metadata": {},
   "source": [
    "#### Get the Distinct Countries and how many people are in each country, and filter the count to be greater than 1"
   ]
  },
  {
   "cell_type": "code",
   "execution_count": 27,
   "metadata": {},
   "outputs": [
    {
     "name": "stderr",
     "output_type": "stream",
     "text": [
      "C:\\Users\\Acer\\AppData\\Local\\Temp\\ipykernel_6996\\2340473539.py:2: UserWarning: pandas only supports SQLAlchemy connectable (engine/connection) or database string URI or sqlite3 DBAPI2 connection. Other DBAPI2 objects are not tested. Please consider using SQLAlchemy.\n",
      "  Countries_Customers_Cnt_gt1= psql.read_sql(\"\"\"SELECT DISTINCT country , COUNT (*)\n",
      "C:\\Users\\Acer\\AppData\\Local\\Temp\\ipykernel_6996\\2340473539.py:7: FutureWarning: this method is deprecated in favour of `Styler.hide(axis=\"index\")`\n",
      "  display(Countries_Customers_Cnt_gt1.style.hide_index())\n"
     ]
    },
    {
     "data": {
      "text/html": [
       "<style type=\"text/css\">\n",
       "</style>\n",
       "<table id=\"T_16d32\">\n",
       "  <thead>\n",
       "    <tr>\n",
       "      <th id=\"T_16d32_level0_col0\" class=\"col_heading level0 col0\" >country</th>\n",
       "      <th id=\"T_16d32_level0_col1\" class=\"col_heading level0 col1\" >count</th>\n",
       "    </tr>\n",
       "  </thead>\n",
       "  <tbody>\n",
       "    <tr>\n",
       "      <td id=\"T_16d32_row0_col0\" class=\"data row0 col0\" >Egypt</td>\n",
       "      <td id=\"T_16d32_row0_col1\" class=\"data row0 col1\" >2</td>\n",
       "    </tr>\n",
       "  </tbody>\n",
       "</table>\n"
      ],
      "text/plain": [
       "<pandas.io.formats.style.Styler at 0x27ef245d420>"
      ]
     },
     "metadata": {},
     "output_type": "display_data"
    }
   ],
   "source": [
    "### USE of HAVING with GROUP BY and Aggregation Functions\n",
    "Countries_Customers_Cnt_gt1= psql.read_sql(\"\"\"SELECT DISTINCT country , COUNT (*) \n",
    "                                          FROM customer \n",
    "                                          GROUP BY country \n",
    "                                          HAVING count(*)>1\n",
    "                                          \"\"\", con)\n",
    "display(Countries_Customers_Cnt_gt1.style.hide_index())"
   ]
  },
  {
   "cell_type": "markdown",
   "metadata": {},
   "source": [
    "##### Give an Alias for the count (change it to be Customers_number)"
   ]
  },
  {
   "cell_type": "code",
   "execution_count": 28,
   "metadata": {},
   "outputs": [
    {
     "name": "stderr",
     "output_type": "stream",
     "text": [
      "C:\\Users\\Acer\\AppData\\Local\\Temp\\ipykernel_6996\\3755222217.py:2: UserWarning: pandas only supports SQLAlchemy connectable (engine/connection) or database string URI or sqlite3 DBAPI2 connection. Other DBAPI2 objects are not tested. Please consider using SQLAlchemy.\n",
      "  Countries_Customers_Cnt_gt1= psql.read_sql(\"\"\"SELECT DISTINCT country , COUNT(*) customer_number FROM customer GROUP BY country \"\"\", con)\n",
      "C:\\Users\\Acer\\AppData\\Local\\Temp\\ipykernel_6996\\3755222217.py:3: FutureWarning: this method is deprecated in favour of `Styler.hide(axis=\"index\")`\n",
      "  display(Countries_Customers_Cnt_gt1.style.hide_index())\n"
     ]
    },
    {
     "data": {
      "text/html": [
       "<style type=\"text/css\">\n",
       "</style>\n",
       "<table id=\"T_d41bd\">\n",
       "  <thead>\n",
       "    <tr>\n",
       "      <th id=\"T_d41bd_level0_col0\" class=\"col_heading level0 col0\" >country</th>\n",
       "      <th id=\"T_d41bd_level0_col1\" class=\"col_heading level0 col1\" >customer_number</th>\n",
       "    </tr>\n",
       "  </thead>\n",
       "  <tbody>\n",
       "    <tr>\n",
       "      <td id=\"T_d41bd_row0_col0\" class=\"data row0 col0\" >India</td>\n",
       "      <td id=\"T_d41bd_row0_col1\" class=\"data row0 col1\" >1</td>\n",
       "    </tr>\n",
       "    <tr>\n",
       "      <td id=\"T_d41bd_row1_col0\" class=\"data row1 col0\" >Canda</td>\n",
       "      <td id=\"T_d41bd_row1_col1\" class=\"data row1 col1\" >1</td>\n",
       "    </tr>\n",
       "    <tr>\n",
       "      <td id=\"T_d41bd_row2_col0\" class=\"data row2 col0\" >Finland</td>\n",
       "      <td id=\"T_d41bd_row2_col1\" class=\"data row2 col1\" >1</td>\n",
       "    </tr>\n",
       "    <tr>\n",
       "      <td id=\"T_d41bd_row3_col0\" class=\"data row3 col0\" >Egypt</td>\n",
       "      <td id=\"T_d41bd_row3_col1\" class=\"data row3 col1\" >2</td>\n",
       "    </tr>\n",
       "  </tbody>\n",
       "</table>\n"
      ],
      "text/plain": [
       "<pandas.io.formats.style.Styler at 0x27ef2447760>"
      ]
     },
     "metadata": {},
     "output_type": "display_data"
    }
   ],
   "source": [
    "# Don't RUN before you put your SQL Query\n",
    "Countries_Customers_Cnt_gt1= psql.read_sql(\"\"\"SELECT DISTINCT country , COUNT(*) customer_number FROM customer GROUP BY country \"\"\", con)\n",
    "display(Countries_Customers_Cnt_gt1.style.hide_index())"
   ]
  },
  {
   "cell_type": "markdown",
   "metadata": {},
   "source": [
    "##### We're going to leave link here for more details about the other aggregate functions such as (MIN, MAX, SUM,...)\n",
    "PostgreSQL Aggregates: https://www.postgresql.org/docs/9.5/functions-aggregate.html"
   ]
  },
  {
   "cell_type": "markdown",
   "metadata": {},
   "source": [
    "### Let's Create the Second Table (Order)\n",
    "- ***Reminder: One-to-many*** relationship is handled as follows : Use a foreign key on the many side of the relationship linking back to the \"one\" side.\n",
    "- ***Note:*** Order is a reserved keyword in SQL, It's not recommended to use such keywords, but if you want to do so, we can use double quoutes \"\" arrount those keywords."
   ]
  },
  {
   "cell_type": "code",
   "execution_count": 29,
   "metadata": {},
   "outputs": [
    {
     "name": "stdout",
     "output_type": "stream",
     "text": [
      "Table (order) created successfully in PostgreSQL \n"
     ]
    }
   ],
   "source": [
    "#Create Order Table\n",
    "\n",
    "try:\n",
    "    ordersTable=\"order\"\n",
    "    create_ordersTable_query = '''CREATE TABLE \"'''+ ordersTable+'''\" \n",
    "              (id INT  PRIMARY KEY,\n",
    "               customer_id  INT  REFERENCES customer(id),\n",
    "               product      TEXT    NOT NULL\n",
    "               ); '''\n",
    "\n",
    "    \n",
    "    #Execute this command (SQL Query)\n",
    "    cursor.execute(create_ordersTable_query)\n",
    "    con.commit()\n",
    "    print(\"Table (\"+ ordersTable +\") created successfully in PostgreSQL \")\n",
    "except:\n",
    "    con.rollback()\n",
    "    print(\"Table (\"+ ordersTable +\") already Existed! \")"
   ]
  },
  {
   "cell_type": "markdown",
   "metadata": {},
   "source": [
    "#### Can we create this table (Order) before the (customer) table? (YES/NO, and Why)?!"
   ]
  },
  {
   "attachments": {},
   "cell_type": "markdown",
   "metadata": {},
   "source": [
    "<font color='red'>***Answer:***</font>\n",
    "No, because there will not be any customer(id) to be referenced"
   ]
  },
  {
   "cell_type": "markdown",
   "metadata": {},
   "source": [
    "#### Insert Some Data into the (Order) Table"
   ]
  },
  {
   "cell_type": "code",
   "execution_count": 30,
   "metadata": {},
   "outputs": [
    {
     "name": "stdout",
     "output_type": "stream",
     "text": [
      "6 Record inserted successfully into customers table\n"
     ]
    }
   ],
   "source": [
    "sql_insert_orders = '''INSERT INTO \"order\" (id,customer_id,product) VALUES(%s,%s,%s)'''\n",
    "\n",
    "#list of customers\n",
    "orders_List=[\n",
    "        (1,1, \"Coffee - Irish Cream\"),\n",
    "        (2,1, \"Sauce - Demi Glace\"),\n",
    "        (3,2,\"Corn Meal\"),\n",
    "        (4,1,\"Cumin - Whole\"),\n",
    "        (5,3,\"Chocolate - Sugar Free Semi Choc\"),\n",
    "        (6,4,\"Rolled Oats\")]\n",
    "try:\n",
    "    # execute the INSERT statement\n",
    "    cursor.executemany(sql_insert_orders,orders_List)\n",
    "    # commit the changes to the database\n",
    "    con.commit()\n",
    "\n",
    "except (Exception, psycopg2.Error) as error :\n",
    "    con.rollback()\n",
    "    print (\"Error while exccuting the query at PostgreSQL\",error)\n",
    "    \n",
    "finally:\n",
    "    \n",
    "    count = cursor.rowcount\n",
    "    print (count, \"Record inserted successfully into customers table\")"
   ]
  },
  {
   "cell_type": "markdown",
   "metadata": {},
   "source": [
    "## Bring Data from multiple Tables (SQL JOINS)"
   ]
  },
  {
   "cell_type": "markdown",
   "metadata": {},
   "source": [
    "#### What are SQL Joins?\n",
    "\n",
    "An SQL JOIN clause combines rows from two or more tables. It creates a set of rows in a temporary table. "
   ]
  },
  {
   "cell_type": "markdown",
   "metadata": {},
   "source": [
    "#### How to Join two tables in SQL?\n",
    "- A JOIN works on two or more tables if they have at least one common field and have a relationship between them.\n",
    "\n",
    "- JOIN keeps the base tables (structure and data) unchanged."
   ]
  },
  {
   "cell_type": "markdown",
   "metadata": {},
   "source": [
    "#### Looking only at \"order\" Table, we don't know names (or any further details of the csuomers)\n",
    "- Here'is the role of JOINS Comes to the Scene :) "
   ]
  },
  {
   "cell_type": "code",
   "execution_count": 31,
   "metadata": {},
   "outputs": [
    {
     "name": "stderr",
     "output_type": "stream",
     "text": [
      "C:\\Users\\Acer\\AppData\\Local\\Temp\\ipykernel_6996\\3586515401.py:1: UserWarning: pandas only supports SQLAlchemy connectable (engine/connection) or database string URI or sqlite3 DBAPI2 connection. Other DBAPI2 objects are not tested. Please consider using SQLAlchemy.\n",
      "  orders= psql.read_sql('''SELECT * FROM \"order\" ''', con)\n",
      "C:\\Users\\Acer\\AppData\\Local\\Temp\\ipykernel_6996\\3586515401.py:2: FutureWarning: this method is deprecated in favour of `Styler.hide(axis=\"index\")`\n",
      "  display(orders.style.hide_index())\n"
     ]
    },
    {
     "data": {
      "text/html": [
       "<style type=\"text/css\">\n",
       "</style>\n",
       "<table id=\"T_fc323\">\n",
       "  <thead>\n",
       "    <tr>\n",
       "      <th id=\"T_fc323_level0_col0\" class=\"col_heading level0 col0\" >id</th>\n",
       "      <th id=\"T_fc323_level0_col1\" class=\"col_heading level0 col1\" >customer_id</th>\n",
       "      <th id=\"T_fc323_level0_col2\" class=\"col_heading level0 col2\" >product</th>\n",
       "    </tr>\n",
       "  </thead>\n",
       "  <tbody>\n",
       "    <tr>\n",
       "      <td id=\"T_fc323_row0_col0\" class=\"data row0 col0\" >1</td>\n",
       "      <td id=\"T_fc323_row0_col1\" class=\"data row0 col1\" >1</td>\n",
       "      <td id=\"T_fc323_row0_col2\" class=\"data row0 col2\" >Coffee - Irish Cream</td>\n",
       "    </tr>\n",
       "    <tr>\n",
       "      <td id=\"T_fc323_row1_col0\" class=\"data row1 col0\" >2</td>\n",
       "      <td id=\"T_fc323_row1_col1\" class=\"data row1 col1\" >1</td>\n",
       "      <td id=\"T_fc323_row1_col2\" class=\"data row1 col2\" >Sauce - Demi Glace</td>\n",
       "    </tr>\n",
       "    <tr>\n",
       "      <td id=\"T_fc323_row2_col0\" class=\"data row2 col0\" >3</td>\n",
       "      <td id=\"T_fc323_row2_col1\" class=\"data row2 col1\" >2</td>\n",
       "      <td id=\"T_fc323_row2_col2\" class=\"data row2 col2\" >Corn Meal</td>\n",
       "    </tr>\n",
       "    <tr>\n",
       "      <td id=\"T_fc323_row3_col0\" class=\"data row3 col0\" >4</td>\n",
       "      <td id=\"T_fc323_row3_col1\" class=\"data row3 col1\" >1</td>\n",
       "      <td id=\"T_fc323_row3_col2\" class=\"data row3 col2\" >Cumin - Whole</td>\n",
       "    </tr>\n",
       "    <tr>\n",
       "      <td id=\"T_fc323_row4_col0\" class=\"data row4 col0\" >5</td>\n",
       "      <td id=\"T_fc323_row4_col1\" class=\"data row4 col1\" >3</td>\n",
       "      <td id=\"T_fc323_row4_col2\" class=\"data row4 col2\" >Chocolate - Sugar Free Semi Choc</td>\n",
       "    </tr>\n",
       "    <tr>\n",
       "      <td id=\"T_fc323_row5_col0\" class=\"data row5 col0\" >6</td>\n",
       "      <td id=\"T_fc323_row5_col1\" class=\"data row5 col1\" >4</td>\n",
       "      <td id=\"T_fc323_row5_col2\" class=\"data row5 col2\" >Rolled Oats</td>\n",
       "    </tr>\n",
       "  </tbody>\n",
       "</table>\n"
      ],
      "text/plain": [
       "<pandas.io.formats.style.Styler at 0x27ef245c6d0>"
      ]
     },
     "metadata": {},
     "output_type": "display_data"
    }
   ],
   "source": [
    "orders= psql.read_sql('''SELECT * FROM \"order\" ''', con)\n",
    "display(orders.style.hide_index())"
   ]
  },
  {
   "cell_type": "markdown",
   "metadata": {},
   "source": [
    "#### INNER JOIN\n",
    "\n",
    "- The SQL INNER JOIN is similar to the Set intersection.\n",
    "- INNER JOIN selects rows from table1 and table2 where they match the selecting column.\n"
   ]
  },
  {
   "cell_type": "code",
   "execution_count": 32,
   "metadata": {},
   "outputs": [
    {
     "name": "stderr",
     "output_type": "stream",
     "text": [
      "C:\\Users\\Acer\\AppData\\Local\\Temp\\ipykernel_6996\\3532695662.py:1: UserWarning: pandas only supports SQLAlchemy connectable (engine/connection) or database string URI or sqlite3 DBAPI2 connection. Other DBAPI2 objects are not tested. Please consider using SQLAlchemy.\n",
      "  innerJoined= psql.read_sql(\"\"\"SELECT * FROM customer\n"
     ]
    },
    {
     "data": {
      "text/html": [
       "<div>\n",
       "<style scoped>\n",
       "    .dataframe tbody tr th:only-of-type {\n",
       "        vertical-align: middle;\n",
       "    }\n",
       "\n",
       "    .dataframe tbody tr th {\n",
       "        vertical-align: top;\n",
       "    }\n",
       "\n",
       "    .dataframe thead th {\n",
       "        text-align: right;\n",
       "    }\n",
       "</style>\n",
       "<table border=\"1\" class=\"dataframe\">\n",
       "  <thead>\n",
       "    <tr style=\"text-align: right;\">\n",
       "      <th></th>\n",
       "      <th>id</th>\n",
       "      <th>name</th>\n",
       "      <th>country</th>\n",
       "      <th>email</th>\n",
       "      <th>id</th>\n",
       "      <th>customer_id</th>\n",
       "      <th>product</th>\n",
       "    </tr>\n",
       "  </thead>\n",
       "  <tbody>\n",
       "    <tr>\n",
       "      <th>0</th>\n",
       "      <td>1</td>\n",
       "      <td>Mohamed Ragab</td>\n",
       "      <td>Egypt</td>\n",
       "      <td>mohamed.ragb@ut.ee</td>\n",
       "      <td>1</td>\n",
       "      <td>1</td>\n",
       "      <td>Coffee - Irish Cream</td>\n",
       "    </tr>\n",
       "    <tr>\n",
       "      <th>1</th>\n",
       "      <td>1</td>\n",
       "      <td>Mohamed Ragab</td>\n",
       "      <td>Egypt</td>\n",
       "      <td>mohamed.ragb@ut.ee</td>\n",
       "      <td>2</td>\n",
       "      <td>1</td>\n",
       "      <td>Sauce - Demi Glace</td>\n",
       "    </tr>\n",
       "    <tr>\n",
       "      <th>2</th>\n",
       "      <td>1</td>\n",
       "      <td>Mohamed Ragab</td>\n",
       "      <td>Egypt</td>\n",
       "      <td>mohamed.ragb@ut.ee</td>\n",
       "      <td>4</td>\n",
       "      <td>1</td>\n",
       "      <td>Cumin - Whole</td>\n",
       "    </tr>\n",
       "    <tr>\n",
       "      <th>3</th>\n",
       "      <td>2</td>\n",
       "      <td>John Smith</td>\n",
       "      <td>Finland</td>\n",
       "      <td>j.smith@hotmail.com</td>\n",
       "      <td>3</td>\n",
       "      <td>2</td>\n",
       "      <td>Corn Meal</td>\n",
       "    </tr>\n",
       "    <tr>\n",
       "      <th>4</th>\n",
       "      <td>4</td>\n",
       "      <td>Jean Lime</td>\n",
       "      <td>Canda</td>\n",
       "      <td>jeanlime@gmail.com</td>\n",
       "      <td>6</td>\n",
       "      <td>4</td>\n",
       "      <td>Rolled Oats</td>\n",
       "    </tr>\n",
       "    <tr>\n",
       "      <th>5</th>\n",
       "      <td>3</td>\n",
       "      <td>Aisha Kareem</td>\n",
       "      <td>India</td>\n",
       "      <td>None</td>\n",
       "      <td>5</td>\n",
       "      <td>3</td>\n",
       "      <td>Chocolate - Sugar Free Semi Choc</td>\n",
       "    </tr>\n",
       "  </tbody>\n",
       "</table>\n",
       "</div>"
      ],
      "text/plain": [
       "   id           name  country                email  id  customer_id  \\\n",
       "0   1  Mohamed Ragab    Egypt   mohamed.ragb@ut.ee   1            1   \n",
       "1   1  Mohamed Ragab    Egypt   mohamed.ragb@ut.ee   2            1   \n",
       "2   1  Mohamed Ragab    Egypt   mohamed.ragb@ut.ee   4            1   \n",
       "3   2     John Smith  Finland  j.smith@hotmail.com   3            2   \n",
       "4   4      Jean Lime    Canda   jeanlime@gmail.com   6            4   \n",
       "5   3   Aisha Kareem    India                 None   5            3   \n",
       "\n",
       "                            product  \n",
       "0              Coffee - Irish Cream  \n",
       "1                Sauce - Demi Glace  \n",
       "2                     Cumin - Whole  \n",
       "3                         Corn Meal  \n",
       "4                       Rolled Oats  \n",
       "5  Chocolate - Sugar Free Semi Choc  "
      ]
     },
     "metadata": {},
     "output_type": "display_data"
    }
   ],
   "source": [
    "innerJoined= psql.read_sql(\"\"\"SELECT * FROM customer \n",
    "                              INNER JOIN  \"order\" \n",
    "                              ON customer.id = \"order\".customer_id\n",
    "                              ORDER BY name DESC\n",
    "                      \"\"\", con)\n",
    "display(innerJoined)"
   ]
  },
  {
   "cell_type": "markdown",
   "metadata": {},
   "source": [
    "#### If it's Confusing Just show the name and the product"
   ]
  },
  {
   "cell_type": "code",
   "execution_count": 38,
   "metadata": {},
   "outputs": [
    {
     "name": "stderr",
     "output_type": "stream",
     "text": [
      "C:\\Users\\Acer\\AppData\\Local\\Temp\\ipykernel_6996\\1090500267.py:1: UserWarning: pandas only supports SQLAlchemy connectable (engine/connection) or database string URI or sqlite3 DBAPI2 connection. Other DBAPI2 objects are not tested. Please consider using SQLAlchemy.\n",
      "  innerJoined= psql.read_sql(\"\"\"SELECT name, product\n"
     ]
    },
    {
     "data": {
      "text/html": [
       "<div>\n",
       "<style scoped>\n",
       "    .dataframe tbody tr th:only-of-type {\n",
       "        vertical-align: middle;\n",
       "    }\n",
       "\n",
       "    .dataframe tbody tr th {\n",
       "        vertical-align: top;\n",
       "    }\n",
       "\n",
       "    .dataframe thead th {\n",
       "        text-align: right;\n",
       "    }\n",
       "</style>\n",
       "<table border=\"1\" class=\"dataframe\">\n",
       "  <thead>\n",
       "    <tr style=\"text-align: right;\">\n",
       "      <th></th>\n",
       "      <th>name</th>\n",
       "      <th>product</th>\n",
       "    </tr>\n",
       "  </thead>\n",
       "  <tbody>\n",
       "    <tr>\n",
       "      <th>0</th>\n",
       "      <td>Mohamed Ragab</td>\n",
       "      <td>Coffee - Irish Cream</td>\n",
       "    </tr>\n",
       "    <tr>\n",
       "      <th>1</th>\n",
       "      <td>Mohamed Ragab</td>\n",
       "      <td>Sauce - Demi Glace</td>\n",
       "    </tr>\n",
       "    <tr>\n",
       "      <th>2</th>\n",
       "      <td>Mohamed Ragab</td>\n",
       "      <td>Cumin - Whole</td>\n",
       "    </tr>\n",
       "    <tr>\n",
       "      <th>3</th>\n",
       "      <td>John Smith</td>\n",
       "      <td>Corn Meal</td>\n",
       "    </tr>\n",
       "    <tr>\n",
       "      <th>4</th>\n",
       "      <td>Jean Lime</td>\n",
       "      <td>Rolled Oats</td>\n",
       "    </tr>\n",
       "    <tr>\n",
       "      <th>5</th>\n",
       "      <td>Aisha Kareem</td>\n",
       "      <td>Chocolate - Sugar Free Semi Choc</td>\n",
       "    </tr>\n",
       "  </tbody>\n",
       "</table>\n",
       "</div>"
      ],
      "text/plain": [
       "            name                           product\n",
       "0  Mohamed Ragab              Coffee - Irish Cream\n",
       "1  Mohamed Ragab                Sauce - Demi Glace\n",
       "2  Mohamed Ragab                     Cumin - Whole\n",
       "3     John Smith                         Corn Meal\n",
       "4      Jean Lime                       Rolled Oats\n",
       "5   Aisha Kareem  Chocolate - Sugar Free Semi Choc"
      ]
     },
     "metadata": {},
     "output_type": "display_data"
    }
   ],
   "source": [
    "innerJoined= psql.read_sql(\"\"\"SELECT name, product\n",
    "                              FROM customer\n",
    "                              INNER JOIN \"order\"\n",
    "                              ON customer.id = \"order\".customer_id\n",
    "                              ORDER BY name DESC   \n",
    "                           \"\"\", con)\n",
    "display(innerJoined)"
   ]
  },
  {
   "cell_type": "markdown",
   "metadata": {},
   "source": [
    "###  LEFT JOIN\n",
    "\n",
    "- This selects all rows from the table1 ( on the left), the rows from the  table2 (on the right) if they match.\n",
    "- If they don’t match, the data for the right table is blank (NULLS)."
   ]
  },
  {
   "cell_type": "markdown",
   "metadata": {},
   "source": [
    "#### Get all the customers with Orders details, even get customers who don't made orderes \n",
    "- Other way to say! Get all the customers, and Products , and if the customer didn't order product the product will be blank"
   ]
  },
  {
   "cell_type": "code",
   "execution_count": 37,
   "metadata": {},
   "outputs": [
    {
     "name": "stderr",
     "output_type": "stream",
     "text": [
      "C:\\Users\\Acer\\AppData\\Local\\Temp\\ipykernel_6996\\3911676406.py:1: UserWarning: pandas only supports SQLAlchemy connectable (engine/connection) or database string URI or sqlite3 DBAPI2 connection. Other DBAPI2 objects are not tested. Please consider using SQLAlchemy.\n",
      "  leftJoined= psql.read_sql(\"\"\"SELECT *  FROM customer\n"
     ]
    },
    {
     "data": {
      "text/html": [
       "<div>\n",
       "<style scoped>\n",
       "    .dataframe tbody tr th:only-of-type {\n",
       "        vertical-align: middle;\n",
       "    }\n",
       "\n",
       "    .dataframe tbody tr th {\n",
       "        vertical-align: top;\n",
       "    }\n",
       "\n",
       "    .dataframe thead th {\n",
       "        text-align: right;\n",
       "    }\n",
       "</style>\n",
       "<table border=\"1\" class=\"dataframe\">\n",
       "  <thead>\n",
       "    <tr style=\"text-align: right;\">\n",
       "      <th></th>\n",
       "      <th>id</th>\n",
       "      <th>name</th>\n",
       "      <th>country</th>\n",
       "      <th>email</th>\n",
       "      <th>id</th>\n",
       "      <th>customer_id</th>\n",
       "      <th>product</th>\n",
       "    </tr>\n",
       "  </thead>\n",
       "  <tbody>\n",
       "    <tr>\n",
       "      <th>0</th>\n",
       "      <td>1</td>\n",
       "      <td>Mohamed Ragab</td>\n",
       "      <td>Egypt</td>\n",
       "      <td>mohamed.ragb@ut.ee</td>\n",
       "      <td>4.0</td>\n",
       "      <td>1.0</td>\n",
       "      <td>Cumin - Whole</td>\n",
       "    </tr>\n",
       "    <tr>\n",
       "      <th>1</th>\n",
       "      <td>1</td>\n",
       "      <td>Mohamed Ragab</td>\n",
       "      <td>Egypt</td>\n",
       "      <td>mohamed.ragb@ut.ee</td>\n",
       "      <td>2.0</td>\n",
       "      <td>1.0</td>\n",
       "      <td>Sauce - Demi Glace</td>\n",
       "    </tr>\n",
       "    <tr>\n",
       "      <th>2</th>\n",
       "      <td>1</td>\n",
       "      <td>Mohamed Ragab</td>\n",
       "      <td>Egypt</td>\n",
       "      <td>mohamed.ragb@ut.ee</td>\n",
       "      <td>1.0</td>\n",
       "      <td>1.0</td>\n",
       "      <td>Coffee - Irish Cream</td>\n",
       "    </tr>\n",
       "    <tr>\n",
       "      <th>3</th>\n",
       "      <td>2</td>\n",
       "      <td>John Smith</td>\n",
       "      <td>Finland</td>\n",
       "      <td>j.smith@hotmail.com</td>\n",
       "      <td>3.0</td>\n",
       "      <td>2.0</td>\n",
       "      <td>Corn Meal</td>\n",
       "    </tr>\n",
       "    <tr>\n",
       "      <th>4</th>\n",
       "      <td>4</td>\n",
       "      <td>Jean Lime</td>\n",
       "      <td>Canda</td>\n",
       "      <td>jeanlime@gmail.com</td>\n",
       "      <td>6.0</td>\n",
       "      <td>4.0</td>\n",
       "      <td>Rolled Oats</td>\n",
       "    </tr>\n",
       "    <tr>\n",
       "      <th>5</th>\n",
       "      <td>5</td>\n",
       "      <td>Hassan Eldeeb</td>\n",
       "      <td>Egypt</td>\n",
       "      <td>None</td>\n",
       "      <td>NaN</td>\n",
       "      <td>NaN</td>\n",
       "      <td>None</td>\n",
       "    </tr>\n",
       "    <tr>\n",
       "      <th>6</th>\n",
       "      <td>3</td>\n",
       "      <td>Aisha Kareem</td>\n",
       "      <td>India</td>\n",
       "      <td>None</td>\n",
       "      <td>5.0</td>\n",
       "      <td>3.0</td>\n",
       "      <td>Chocolate - Sugar Free Semi Choc</td>\n",
       "    </tr>\n",
       "  </tbody>\n",
       "</table>\n",
       "</div>"
      ],
      "text/plain": [
       "   id           name  country                email   id  customer_id  \\\n",
       "0   1  Mohamed Ragab    Egypt   mohamed.ragb@ut.ee  4.0          1.0   \n",
       "1   1  Mohamed Ragab    Egypt   mohamed.ragb@ut.ee  2.0          1.0   \n",
       "2   1  Mohamed Ragab    Egypt   mohamed.ragb@ut.ee  1.0          1.0   \n",
       "3   2     John Smith  Finland  j.smith@hotmail.com  3.0          2.0   \n",
       "4   4      Jean Lime    Canda   jeanlime@gmail.com  6.0          4.0   \n",
       "5   5  Hassan Eldeeb    Egypt                 None  NaN          NaN   \n",
       "6   3   Aisha Kareem    India                 None  5.0          3.0   \n",
       "\n",
       "                            product  \n",
       "0                     Cumin - Whole  \n",
       "1                Sauce - Demi Glace  \n",
       "2              Coffee - Irish Cream  \n",
       "3                         Corn Meal  \n",
       "4                       Rolled Oats  \n",
       "5                              None  \n",
       "6  Chocolate - Sugar Free Semi Choc  "
      ]
     },
     "metadata": {},
     "output_type": "display_data"
    }
   ],
   "source": [
    "leftJoined= psql.read_sql(\"\"\"SELECT *  FROM customer \n",
    "                        LEFT JOIN  \"order\" \n",
    "                        ON customer.id = \"order\".customer_id\n",
    "                        ORDER BY name DESC\n",
    "                      \"\"\", con)\n",
    "display(leftJoined)"
   ]
  },
  {
   "cell_type": "markdown",
   "metadata": {},
   "source": [
    "#### perform the same query but projecting on customer_name and the products "
   ]
  },
  {
   "cell_type": "code",
   "execution_count": 39,
   "metadata": {},
   "outputs": [
    {
     "name": "stderr",
     "output_type": "stream",
     "text": [
      "C:\\Users\\Acer\\AppData\\Local\\Temp\\ipykernel_6996\\3216013988.py:2: UserWarning: pandas only supports SQLAlchemy connectable (engine/connection) or database string URI or sqlite3 DBAPI2 connection. Other DBAPI2 objects are not tested. Please consider using SQLAlchemy.\n",
      "  leftJoined= psql.read_sql(\"\"\"SELECT name, product FROM customer\n"
     ]
    },
    {
     "data": {
      "text/html": [
       "<div>\n",
       "<style scoped>\n",
       "    .dataframe tbody tr th:only-of-type {\n",
       "        vertical-align: middle;\n",
       "    }\n",
       "\n",
       "    .dataframe tbody tr th {\n",
       "        vertical-align: top;\n",
       "    }\n",
       "\n",
       "    .dataframe thead th {\n",
       "        text-align: right;\n",
       "    }\n",
       "</style>\n",
       "<table border=\"1\" class=\"dataframe\">\n",
       "  <thead>\n",
       "    <tr style=\"text-align: right;\">\n",
       "      <th></th>\n",
       "      <th>name</th>\n",
       "      <th>product</th>\n",
       "    </tr>\n",
       "  </thead>\n",
       "  <tbody>\n",
       "    <tr>\n",
       "      <th>0</th>\n",
       "      <td>Mohamed Ragab</td>\n",
       "      <td>Cumin - Whole</td>\n",
       "    </tr>\n",
       "    <tr>\n",
       "      <th>1</th>\n",
       "      <td>Mohamed Ragab</td>\n",
       "      <td>Sauce - Demi Glace</td>\n",
       "    </tr>\n",
       "    <tr>\n",
       "      <th>2</th>\n",
       "      <td>Mohamed Ragab</td>\n",
       "      <td>Coffee - Irish Cream</td>\n",
       "    </tr>\n",
       "    <tr>\n",
       "      <th>3</th>\n",
       "      <td>John Smith</td>\n",
       "      <td>Corn Meal</td>\n",
       "    </tr>\n",
       "    <tr>\n",
       "      <th>4</th>\n",
       "      <td>Jean Lime</td>\n",
       "      <td>Rolled Oats</td>\n",
       "    </tr>\n",
       "    <tr>\n",
       "      <th>5</th>\n",
       "      <td>Hassan Eldeeb</td>\n",
       "      <td>None</td>\n",
       "    </tr>\n",
       "    <tr>\n",
       "      <th>6</th>\n",
       "      <td>Aisha Kareem</td>\n",
       "      <td>Chocolate - Sugar Free Semi Choc</td>\n",
       "    </tr>\n",
       "  </tbody>\n",
       "</table>\n",
       "</div>"
      ],
      "text/plain": [
       "            name                           product\n",
       "0  Mohamed Ragab                     Cumin - Whole\n",
       "1  Mohamed Ragab                Sauce - Demi Glace\n",
       "2  Mohamed Ragab              Coffee - Irish Cream\n",
       "3     John Smith                         Corn Meal\n",
       "4      Jean Lime                       Rolled Oats\n",
       "5  Hassan Eldeeb                              None\n",
       "6   Aisha Kareem  Chocolate - Sugar Free Semi Choc"
      ]
     },
     "metadata": {},
     "output_type": "display_data"
    }
   ],
   "source": [
    "#the same query but projecting on customer_name  and the products \n",
    "leftJoined= psql.read_sql(\"\"\"SELECT name, product FROM customer \n",
    "                        LEFT JOIN  \"order\" \n",
    "                        ON customer.id = \"order\".customer_id\n",
    "                        ORDER BY name DESC\n",
    "                      \"\"\", con)\n",
    "display(leftJoined)"
   ]
  },
  {
   "cell_type": "markdown",
   "metadata": {},
   "source": [
    "### RIGHT JOIN\n",
    "- Opposite to LEFT JOIN\n",
    "- This selects all the rows from the table on the right, and then rows from the left if they match.\n",
    "- If they don’t match, the data for the table on the left is blank (NULLS).\n"
   ]
  },
  {
   "cell_type": "markdown",
   "metadata": {},
   "source": [
    "##### Now, we insert one product that doen't have customer to buy (don't make alot of sense, but just for the example!!)"
   ]
  },
  {
   "cell_type": "code",
   "execution_count": 40,
   "metadata": {},
   "outputs": [
    {
     "name": "stdout",
     "output_type": "stream",
     "text": [
      "1 Record inserted successfully into person table\n"
     ]
    }
   ],
   "source": [
    "postgres_insert_query = \"\"\" INSERT INTO \"order\" (id,customer_id,product) VALUES (%s,%s,%s)\"\"\"\n",
    "record_to_insert = (7,None,'Dark Choclate')\n",
    "\n",
    "try:\n",
    "    cursor.execute(postgres_insert_query, record_to_insert)\n",
    "    con.commit()\n",
    "except (Exception, psycopg2.Error) as error :\n",
    "    con.rollback()\n",
    "    print(\"ERROR\",error)\n",
    "    \n",
    "count = cursor.rowcount\n",
    "print (count, \"Record inserted successfully into person table\")"
   ]
  },
  {
   "cell_type": "markdown",
   "metadata": {},
   "source": [
    "#### Perform the same query but projecting on customer_name and the products "
   ]
  },
  {
   "cell_type": "code",
   "execution_count": 41,
   "metadata": {},
   "outputs": [
    {
     "name": "stderr",
     "output_type": "stream",
     "text": [
      "C:\\Users\\Acer\\AppData\\Local\\Temp\\ipykernel_6996\\809818566.py:1: UserWarning: pandas only supports SQLAlchemy connectable (engine/connection) or database string URI or sqlite3 DBAPI2 connection. Other DBAPI2 objects are not tested. Please consider using SQLAlchemy.\n",
      "  RightJoined= psql.read_sql(\"\"\"SELECT name, product FROM customer\n"
     ]
    },
    {
     "data": {
      "text/html": [
       "<div>\n",
       "<style scoped>\n",
       "    .dataframe tbody tr th:only-of-type {\n",
       "        vertical-align: middle;\n",
       "    }\n",
       "\n",
       "    .dataframe tbody tr th {\n",
       "        vertical-align: top;\n",
       "    }\n",
       "\n",
       "    .dataframe thead th {\n",
       "        text-align: right;\n",
       "    }\n",
       "</style>\n",
       "<table border=\"1\" class=\"dataframe\">\n",
       "  <thead>\n",
       "    <tr style=\"text-align: right;\">\n",
       "      <th></th>\n",
       "      <th>name</th>\n",
       "      <th>product</th>\n",
       "    </tr>\n",
       "  </thead>\n",
       "  <tbody>\n",
       "    <tr>\n",
       "      <th>0</th>\n",
       "      <td>None</td>\n",
       "      <td>Dark Choclate</td>\n",
       "    </tr>\n",
       "    <tr>\n",
       "      <th>1</th>\n",
       "      <td>Mohamed Ragab</td>\n",
       "      <td>Sauce - Demi Glace</td>\n",
       "    </tr>\n",
       "    <tr>\n",
       "      <th>2</th>\n",
       "      <td>Mohamed Ragab</td>\n",
       "      <td>Coffee - Irish Cream</td>\n",
       "    </tr>\n",
       "    <tr>\n",
       "      <th>3</th>\n",
       "      <td>Mohamed Ragab</td>\n",
       "      <td>Cumin - Whole</td>\n",
       "    </tr>\n",
       "    <tr>\n",
       "      <th>4</th>\n",
       "      <td>John Smith</td>\n",
       "      <td>Corn Meal</td>\n",
       "    </tr>\n",
       "    <tr>\n",
       "      <th>5</th>\n",
       "      <td>Jean Lime</td>\n",
       "      <td>Rolled Oats</td>\n",
       "    </tr>\n",
       "    <tr>\n",
       "      <th>6</th>\n",
       "      <td>Aisha Kareem</td>\n",
       "      <td>Chocolate - Sugar Free Semi Choc</td>\n",
       "    </tr>\n",
       "  </tbody>\n",
       "</table>\n",
       "</div>"
      ],
      "text/plain": [
       "            name                           product\n",
       "0           None                     Dark Choclate\n",
       "1  Mohamed Ragab                Sauce - Demi Glace\n",
       "2  Mohamed Ragab              Coffee - Irish Cream\n",
       "3  Mohamed Ragab                     Cumin - Whole\n",
       "4     John Smith                         Corn Meal\n",
       "5      Jean Lime                       Rolled Oats\n",
       "6   Aisha Kareem  Chocolate - Sugar Free Semi Choc"
      ]
     },
     "metadata": {},
     "output_type": "display_data"
    }
   ],
   "source": [
    "RightJoined= psql.read_sql(\"\"\"SELECT name, product FROM customer \n",
    "                        RIGHT JOIN  \"order\" \n",
    "                        ON customer.id = \"order\".customer_id\n",
    "                        ORDER BY name DESC\n",
    "                      \"\"\", con)\n",
    "display(RightJoined)"
   ]
  },
  {
   "cell_type": "markdown",
   "metadata": {},
   "source": [
    "### FULL JOIN\n",
    "- This selects all rows from both tables, matching them if there is a match on the selecting column.\n",
    "\n",
    "- Think of it as a LEFT and a RIGHT join.\n"
   ]
  },
  {
   "cell_type": "code",
   "execution_count": 42,
   "metadata": {},
   "outputs": [
    {
     "name": "stderr",
     "output_type": "stream",
     "text": [
      "C:\\Users\\Acer\\AppData\\Local\\Temp\\ipykernel_6996\\1199576038.py:1: UserWarning: pandas only supports SQLAlchemy connectable (engine/connection) or database string URI or sqlite3 DBAPI2 connection. Other DBAPI2 objects are not tested. Please consider using SQLAlchemy.\n",
      "  fullJoined= psql.read_sql(\"\"\"SELECT name, product FROM customer\n"
     ]
    },
    {
     "data": {
      "text/html": [
       "<div>\n",
       "<style scoped>\n",
       "    .dataframe tbody tr th:only-of-type {\n",
       "        vertical-align: middle;\n",
       "    }\n",
       "\n",
       "    .dataframe tbody tr th {\n",
       "        vertical-align: top;\n",
       "    }\n",
       "\n",
       "    .dataframe thead th {\n",
       "        text-align: right;\n",
       "    }\n",
       "</style>\n",
       "<table border=\"1\" class=\"dataframe\">\n",
       "  <thead>\n",
       "    <tr style=\"text-align: right;\">\n",
       "      <th></th>\n",
       "      <th>name</th>\n",
       "      <th>product</th>\n",
       "    </tr>\n",
       "  </thead>\n",
       "  <tbody>\n",
       "    <tr>\n",
       "      <th>0</th>\n",
       "      <td>None</td>\n",
       "      <td>Dark Choclate</td>\n",
       "    </tr>\n",
       "    <tr>\n",
       "      <th>1</th>\n",
       "      <td>Mohamed Ragab</td>\n",
       "      <td>Sauce - Demi Glace</td>\n",
       "    </tr>\n",
       "    <tr>\n",
       "      <th>2</th>\n",
       "      <td>Mohamed Ragab</td>\n",
       "      <td>Cumin - Whole</td>\n",
       "    </tr>\n",
       "    <tr>\n",
       "      <th>3</th>\n",
       "      <td>Mohamed Ragab</td>\n",
       "      <td>Coffee - Irish Cream</td>\n",
       "    </tr>\n",
       "    <tr>\n",
       "      <th>4</th>\n",
       "      <td>John Smith</td>\n",
       "      <td>Corn Meal</td>\n",
       "    </tr>\n",
       "    <tr>\n",
       "      <th>5</th>\n",
       "      <td>Jean Lime</td>\n",
       "      <td>Rolled Oats</td>\n",
       "    </tr>\n",
       "    <tr>\n",
       "      <th>6</th>\n",
       "      <td>Hassan Eldeeb</td>\n",
       "      <td>None</td>\n",
       "    </tr>\n",
       "    <tr>\n",
       "      <th>7</th>\n",
       "      <td>Aisha Kareem</td>\n",
       "      <td>Chocolate - Sugar Free Semi Choc</td>\n",
       "    </tr>\n",
       "  </tbody>\n",
       "</table>\n",
       "</div>"
      ],
      "text/plain": [
       "            name                           product\n",
       "0           None                     Dark Choclate\n",
       "1  Mohamed Ragab                Sauce - Demi Glace\n",
       "2  Mohamed Ragab                     Cumin - Whole\n",
       "3  Mohamed Ragab              Coffee - Irish Cream\n",
       "4     John Smith                         Corn Meal\n",
       "5      Jean Lime                       Rolled Oats\n",
       "6  Hassan Eldeeb                              None\n",
       "7   Aisha Kareem  Chocolate - Sugar Free Semi Choc"
      ]
     },
     "metadata": {},
     "output_type": "display_data"
    }
   ],
   "source": [
    "fullJoined= psql.read_sql(\"\"\"SELECT name, product FROM customer \n",
    "                             FULL JOIN  \"order\" \n",
    "                             ON customer.id = \"order\".customer_id\n",
    "                             ORDER BY name DESC \"\"\", con)\n",
    "display(fullJoined)"
   ]
  },
  {
   "cell_type": "markdown",
   "metadata": {},
   "source": [
    "## Task 2: Create another RDB model (MovieDB)\n",
    "\n",
    "This is another DB about movies and actors who played roles in these movies. Particularly, this DB is consisted of the following tables:  \n",
    "\n",
    "- A ***\"Person\"*** table who has a unique **id**, and another **name** field.\n",
    "- Another ***\"Movie\"*** table that has a unique **id**, a **title**, a **country** where it was made, and a **year** when it was released.\n",
    "\n",
    "- There is (***m-n**) or ***\"many-many\"** relationship between these two tables (i.e basically, many actors can act in many movies, and the movie include many actors).\n",
    "- ***Many-to-many*** are handeled as follows: We have to use a ***junction table** (<font color='green'>example</font>: https://gist.github.com/anonymous/79c2eed2a634777b16ff)\n",
    "- Therefore, we use the **\"Roles\"** table in which we can deduct which person has acted in which movie, and what role(s) they played in this movie.\n"
   ]
  },
  {
   "cell_type": "markdown",
   "metadata": {},
   "source": [
    "#### Use one of the drawing tools to plot an ER model of this described DB\n",
    "- you can use the mentioned ER diagramitic tool in lecture slides (link: https://erdplus.com/)"
   ]
  },
  {
   "attachments": {},
   "cell_type": "markdown",
   "metadata": {},
   "source": [
    "##### <font color='red'>YOUR DB SCHEMA IMAGE HERE: </font>\n",
    "<img src='img\\moviedb.png'>"
   ]
  },
  {
   "cell_type": "markdown",
   "metadata": {},
   "source": [
    "#### Create the MovieDB "
   ]
  },
  {
   "cell_type": "code",
   "execution_count": 16,
   "metadata": {},
   "outputs": [
    {
     "name": "stdout",
     "output_type": "stream",
     "text": [
      "Error While Creating the DB:  CREATE DATABASE cannot run inside a transaction block\n",
      "\n"
     ]
    }
   ],
   "source": [
    "#YOUR CODE HERE to create the movie DB\n",
    "#DB_name variable    \n",
    "name_Database   = \"moviedb\";\n",
    "\n",
    "# Create DB statement\n",
    "sqlCreateDatabase = \"CREATE DATABASE \"+name_Database+\";\"\n",
    "\n",
    "try:\n",
    "    # Execute a SQL command: this creates a new DB\n",
    "    cursor.execute(sqlCreateDatabase);\n",
    "    print(\"Database '\"+name_Database+\"' Created Successfully!\")\n",
    "except (Exception, psycopg2.Error) as error :\n",
    "    print(\"Error While Creating the DB: \",error)\n",
    "    \n",
    "finally:\n",
    "    # Close communication with the database\n",
    "    cursor.close() #to close the cusrsor\n",
    "    con.close() #to close the connection/ we will open a new connection to the created DB"
   ]
  },
  {
   "cell_type": "code",
   "execution_count": 17,
   "metadata": {},
   "outputs": [
    {
     "name": "stdout",
     "output_type": "stream",
     "text": [
      "connected again to the server, and cusor now on MovieDB DB !!\n"
     ]
    }
   ],
   "source": [
    "# get a new connection but this time point to the created \"tartupurchases\" DB.\n",
    "con = psycopg2.connect(user = \"postgres\",\n",
    "                       password = \"LearnDE\",\n",
    "                       host = \"127.0.0.1\",\n",
    "                       port = \"5432\",\n",
    "                       database = \"moviedb\")\n",
    "\n",
    "try:\n",
    "    # Obtain a new DB Cursor (to \"MovieDB\" DB )\n",
    "    cursor = con.cursor();\n",
    "    print(\"connected again to the server, and cusor now on moviedb DB !!\")\n",
    "except (Exception, psycopg2.Error) as error:\n",
    "    print(\"Error in Connection\",error)"
   ]
  },
  {
   "cell_type": "code",
   "execution_count": 14,
   "metadata": {},
   "outputs": [
    {
     "data": {
      "text/plain": [
       "<connection object at 0x00000244F4DD6CE0; dsn: 'user=postgres password=xxx host=127.0.0.1 port=5432', closed: 1>"
      ]
     },
     "execution_count": 14,
     "metadata": {},
     "output_type": "execute_result"
    }
   ],
   "source": [
    "con"
   ]
  },
  {
   "cell_type": "markdown",
   "metadata": {},
   "source": [
    "#### Creating  the Movie Table"
   ]
  },
  {
   "cell_type": "code",
   "execution_count": 18,
   "metadata": {},
   "outputs": [
    {
     "name": "stdout",
     "output_type": "stream",
     "text": [
      "Table (Movie) created successfully in PostgreSQL \n"
     ]
    }
   ],
   "source": [
    "#YOUR CODE HERE to create the \"Movie\" table\n",
    "try:\n",
    "    #table_name variable\n",
    "    customerTable=\"Movie\"\n",
    "    create_customerTablee_query = '''CREATE TABLE '''+ customerTable+''' \n",
    "              (id INT  PRIMARY KEY     NOT NULL ON DELETE CASCADE,\n",
    "               title           TEXT    NOT NULL,\n",
    "               country        TEXT    NOT NULL,\n",
    "               year          INT   NOT NULL\n",
    "               ); '''\n",
    "\n",
    "    #Execute this command (SQL Query)\n",
    "    cursor.execute(create_customerTablee_query)\n",
    "    \n",
    "    # Make the changes to the database persistent\n",
    "    con.commit()\n",
    "    print(\"Table (\"+ customerTable +\") created successfully in PostgreSQL \")\n",
    "except (Exception, psycopg2.Error) as error:\n",
    "    # if it exits with an exception the transaction is rolled back.\n",
    "    con.rollback()\n",
    "    print(\"Error While Creating the DB: \",error)"
   ]
  },
  {
   "cell_type": "markdown",
   "metadata": {},
   "source": [
    "#### Creating  the \"Person\" Table"
   ]
  },
  {
   "cell_type": "code",
   "execution_count": 19,
   "metadata": {},
   "outputs": [
    {
     "name": "stdout",
     "output_type": "stream",
     "text": [
      "Table (Person) created successfully in PostgreSQL \n"
     ]
    }
   ],
   "source": [
    "#YOUR CODE HERE to create the Person table\n",
    "try:\n",
    "    #table_name variable\n",
    "    customerTable=\"Person\"\n",
    "    create_customerTablee_query = '''CREATE TABLE '''+ customerTable+''' \n",
    "              (id INT  PRIMARY KEY     NOT NULL ON DELETE CASCADE,\n",
    "               name           TEXT    NOT NULL\n",
    "               ); '''\n",
    "\n",
    "    #Execute this command (SQL Query)\n",
    "    cursor.execute(create_customerTablee_query)\n",
    "    \n",
    "    # Make the changes to the database persistent\n",
    "    con.commit()\n",
    "    print(\"Table (\"+ customerTable +\") created successfully in PostgreSQL \")\n",
    "except (Exception, psycopg2.Error) as error:\n",
    "    # if it exits with an exception the transaction is rolled back.\n",
    "    con.rollback()\n",
    "    print(\"Error While Creating the DB: \",error)"
   ]
  },
  {
   "cell_type": "markdown",
   "metadata": {},
   "source": [
    "#### Creating  the \"Roles\" relationship Table"
   ]
  },
  {
   "cell_type": "code",
   "execution_count": 20,
   "metadata": {},
   "outputs": [
    {
     "name": "stdout",
     "output_type": "stream",
     "text": [
      "Table (Role) created successfully in PostgreSQL \n"
     ]
    }
   ],
   "source": [
    "#YOUR CODE HERE to create the Roles relationship table\n",
    "try:\n",
    "    #table_name variable\n",
    "    customerTable=\"Role\"\n",
    "    create_customerTablee_query = '''CREATE TABLE '''+ customerTable+''' \n",
    "              (p_id INT  REFERENCES Person(id),\n",
    "               m_id INT  REFERENCES Movie(id),\n",
    "               role        TEXT    NOT NULL\n",
    "               ); '''\n",
    "\n",
    "    #Execute this command (SQL Query)\n",
    "    cursor.execute(create_customerTablee_query)\n",
    "    \n",
    "    # Make the changes to the database persistent\n",
    "    con.commit()\n",
    "    print(\"Table (\"+ customerTable +\") created successfully in PostgreSQL \")\n",
    "except (Exception, psycopg2.Error) as error:\n",
    "    # if it exits with an exception the transaction is rolled back.\n",
    "    con.rollback()\n",
    "    print(\"Error While Creating the DB: \",error)"
   ]
  },
  {
   "cell_type": "markdown",
   "metadata": {},
   "source": [
    "### Data Insertions\n",
    "\n",
    "Please, use the following demo datasets for allocating some data in the tables\n",
    "\n",
    "- **Person Table**:\n",
    "        id,name\n",
    "        1,Charlie Sheen\n",
    "        2,Michael Douglas\n",
    "        3,Martin Sheen\n",
    "        4,Morgan Freeman\n",
    "\n",
    "- ***Movie Table***:\n",
    "        id,title,country,year\n",
    "        1,Wall Street,USA,1987\n",
    "        2,The American President,USA,1995\n",
    "        3,The Shawshank Redemption,USA,1994\n",
    "\n",
    "- ***Roles Relationship*** (<font color='green'>Conjunction Table</font>):\n",
    "        personId,movieId,role\n",
    "        1,1,Bud Fox\n",
    "        2,1,Carl Fox\n",
    "        3,1,Gordon Gekko\n",
    "        2,2,A.J. MacInerney\n",
    "        3,2,President Andrew Shepherd\n",
    "        4,3,Ellis Boyd 'Red' Redding"
   ]
  },
  {
   "cell_type": "markdown",
   "metadata": {},
   "source": [
    "#### Insert Data to the Person Table"
   ]
  },
  {
   "cell_type": "code",
   "execution_count": 21,
   "metadata": {},
   "outputs": [
    {
     "name": "stdout",
     "output_type": "stream",
     "text": [
      "4 Record inserted successfully into customers table\n"
     ]
    }
   ],
   "source": [
    "### YOUR CODE HERE!!\n",
    "sql_insert_customers = \"INSERT INTO Person (id,name) VALUES(%s,%s)\"\n",
    "\n",
    "#list of customers (With Their attributes values)\n",
    "#None here means value will be missing in the table\n",
    "customer_List=[\n",
    "                (1,'Charlie Sheen'),\n",
    "                (2,'Michael Douglas'),\n",
    "                (3,'Martin Sheen'),\n",
    "                (4,'Morgan Freeman')]\n",
    "\n",
    "try:\n",
    "    # execute the INSERT statement\n",
    "    cursor.executemany(sql_insert_customers,customer_List)\n",
    "    # commit the changes to the database\n",
    "    con.commit()\n",
    "    #the number of inserted rows/tuples\n",
    "    count = cursor.rowcount\n",
    "    print (count, \"Record inserted successfully into Person table\")\n",
    "\n",
    "except (Exception, psycopg2.Error) as error :\n",
    "    con.rollback()\n",
    "    print (\"Error while Inserting the data to the table, Details: \",error)"
   ]
  },
  {
   "cell_type": "markdown",
   "metadata": {},
   "source": [
    "#### Insert Data to the Movie Table"
   ]
  },
  {
   "cell_type": "code",
   "execution_count": 22,
   "metadata": {},
   "outputs": [
    {
     "name": "stdout",
     "output_type": "stream",
     "text": [
      "3 Record inserted successfully into Movie table\n"
     ]
    }
   ],
   "source": [
    "### YOUR CODE HERE!!\n",
    "sql_insert_customers = \"INSERT INTO Movie (id,title,country,year) VALUES(%s,%s,%s,%s)\"\n",
    "\n",
    "#list of customers (With Their attributes values)\n",
    "#None here means value will be missing in the table\n",
    "customer_List=[\n",
    "                (1,'Wall Street','USA',1987),\n",
    "                (2,'The American President','USA',1995),\n",
    "                (3,'The Shawshank Redemption','USA',1994)]\n",
    "\n",
    "try:\n",
    "    # execute the INSERT statement\n",
    "    cursor.executemany(sql_insert_customers,customer_List)\n",
    "    # commit the changes to the database\n",
    "    con.commit()\n",
    "    #the number of inserted rows/tuples\n",
    "    count = cursor.rowcount\n",
    "    print (count, \"Record inserted successfully into Movie table\")\n",
    "\n",
    "except (Exception, psycopg2.Error) as error :\n",
    "    con.rollback()\n",
    "    print (\"Error while Inserting the data to the table, Details: \",error)"
   ]
  },
  {
   "cell_type": "markdown",
   "metadata": {},
   "source": [
    "#### Insert Data to the Roles Table"
   ]
  },
  {
   "cell_type": "code",
   "execution_count": 24,
   "metadata": {},
   "outputs": [
    {
     "name": "stdout",
     "output_type": "stream",
     "text": [
      "6 Record inserted successfully into Role table\n"
     ]
    }
   ],
   "source": [
    "### YOUR CODE HERE!!\n",
    "sql_insert_customers = \"INSERT INTO Role (p_id,m_id,role) VALUES(%s,%s,%s)\"\n",
    "\n",
    "#list of customers (With Their attributes values)\n",
    "#None here means value will be missing in the table\n",
    "customer_List=[\n",
    "                (1,1,'Bud Fox'),\n",
    "                (2,1,'Carl Fox'),\n",
    "                (3,1,'Gordon Gekko'),\n",
    "                (2,2,'A.J. MacInerney'),\n",
    "                (3,2,'President Andrew Shepherd'),\n",
    "                (4,3,'Ellis Boyd \\'Red\\' Redding')]\n",
    "\n",
    "try:\n",
    "    # execute the INSERT statement\n",
    "    cursor.executemany(sql_insert_customers,customer_List)\n",
    "    # commit the changes to the database\n",
    "    con.commit()\n",
    "    #the number of inserted rows/tuples\n",
    "    count = cursor.rowcount\n",
    "    print (count, \"Record inserted successfully into Role table\")\n",
    "\n",
    "except (Exception, psycopg2.Error) as error :\n",
    "    con.rollback()\n",
    "    print (\"Error while Inserting the data to the table, Details: \",error)"
   ]
  },
  {
   "cell_type": "markdown",
   "metadata": {},
   "source": [
    "#### Get all Actors (Persons) from the movie DB"
   ]
  },
  {
   "cell_type": "code",
   "execution_count": 25,
   "metadata": {},
   "outputs": [
    {
     "name": "stderr",
     "output_type": "stream",
     "text": [
      "C:\\Users\\Acer\\AppData\\Local\\Temp\\ipykernel_13724\\1171913380.py:1: UserWarning: pandas only supports SQLAlchemy connectable (engine/connection) or database string URI or sqlite3 DBAPI2 connection. Other DBAPI2 objects are not tested. Please consider using SQLAlchemy.\n",
      "  my_table= pd.read_sql('SELECT * FROM Person', con)\n",
      "C:\\Users\\Acer\\AppData\\Local\\Temp\\ipykernel_13724\\1171913380.py:2: FutureWarning: this method is deprecated in favour of `Styler.hide(axis=\"index\")`\n",
      "  display(my_table.style.hide_index())\n"
     ]
    },
    {
     "data": {
      "text/html": [
       "<style type=\"text/css\">\n",
       "</style>\n",
       "<table id=\"T_aec84\">\n",
       "  <thead>\n",
       "    <tr>\n",
       "      <th id=\"T_aec84_level0_col0\" class=\"col_heading level0 col0\" >id</th>\n",
       "      <th id=\"T_aec84_level0_col1\" class=\"col_heading level0 col1\" >name</th>\n",
       "    </tr>\n",
       "  </thead>\n",
       "  <tbody>\n",
       "    <tr>\n",
       "      <td id=\"T_aec84_row0_col0\" class=\"data row0 col0\" >1</td>\n",
       "      <td id=\"T_aec84_row0_col1\" class=\"data row0 col1\" >Charlie Sheen</td>\n",
       "    </tr>\n",
       "    <tr>\n",
       "      <td id=\"T_aec84_row1_col0\" class=\"data row1 col0\" >2</td>\n",
       "      <td id=\"T_aec84_row1_col1\" class=\"data row1 col1\" >Michael Douglas</td>\n",
       "    </tr>\n",
       "    <tr>\n",
       "      <td id=\"T_aec84_row2_col0\" class=\"data row2 col0\" >3</td>\n",
       "      <td id=\"T_aec84_row2_col1\" class=\"data row2 col1\" >Martin Sheen</td>\n",
       "    </tr>\n",
       "    <tr>\n",
       "      <td id=\"T_aec84_row3_col0\" class=\"data row3 col0\" >4</td>\n",
       "      <td id=\"T_aec84_row3_col1\" class=\"data row3 col1\" >Morgan Freeman</td>\n",
       "    </tr>\n",
       "  </tbody>\n",
       "</table>\n"
      ],
      "text/plain": [
       "<pandas.io.formats.style.Styler at 0x244f4f2a950>"
      ]
     },
     "metadata": {},
     "output_type": "display_data"
    }
   ],
   "source": [
    "my_table= pd.read_sql('SELECT * FROM Person', con)\n",
    "display(my_table.style.hide_index())"
   ]
  },
  {
   "cell_type": "markdown",
   "metadata": {},
   "source": [
    "#### Get All Movies , sorted from recent to old"
   ]
  },
  {
   "cell_type": "code",
   "execution_count": 27,
   "metadata": {},
   "outputs": [
    {
     "name": "stderr",
     "output_type": "stream",
     "text": [
      "C:\\Users\\Acer\\AppData\\Local\\Temp\\ipykernel_13724\\2669607688.py:1: UserWarning: pandas only supports SQLAlchemy connectable (engine/connection) or database string URI or sqlite3 DBAPI2 connection. Other DBAPI2 objects are not tested. Please consider using SQLAlchemy.\n",
      "  moviesOrdered = pd.read_sql('''SELECT * FROM Movie ORDER BY year DESC ''', con)\n",
      "C:\\Users\\Acer\\AppData\\Local\\Temp\\ipykernel_13724\\2669607688.py:2: FutureWarning: this method is deprecated in favour of `Styler.hide(axis=\"index\")`\n",
      "  display(moviesOrdered.style.hide_index())\n"
     ]
    },
    {
     "data": {
      "text/html": [
       "<style type=\"text/css\">\n",
       "</style>\n",
       "<table id=\"T_9f348\">\n",
       "  <thead>\n",
       "    <tr>\n",
       "      <th id=\"T_9f348_level0_col0\" class=\"col_heading level0 col0\" >id</th>\n",
       "      <th id=\"T_9f348_level0_col1\" class=\"col_heading level0 col1\" >title</th>\n",
       "      <th id=\"T_9f348_level0_col2\" class=\"col_heading level0 col2\" >country</th>\n",
       "      <th id=\"T_9f348_level0_col3\" class=\"col_heading level0 col3\" >year</th>\n",
       "    </tr>\n",
       "  </thead>\n",
       "  <tbody>\n",
       "    <tr>\n",
       "      <td id=\"T_9f348_row0_col0\" class=\"data row0 col0\" >2</td>\n",
       "      <td id=\"T_9f348_row0_col1\" class=\"data row0 col1\" >The American President</td>\n",
       "      <td id=\"T_9f348_row0_col2\" class=\"data row0 col2\" >USA</td>\n",
       "      <td id=\"T_9f348_row0_col3\" class=\"data row0 col3\" >1995</td>\n",
       "    </tr>\n",
       "    <tr>\n",
       "      <td id=\"T_9f348_row1_col0\" class=\"data row1 col0\" >3</td>\n",
       "      <td id=\"T_9f348_row1_col1\" class=\"data row1 col1\" >The Shawshank Redemption</td>\n",
       "      <td id=\"T_9f348_row1_col2\" class=\"data row1 col2\" >USA</td>\n",
       "      <td id=\"T_9f348_row1_col3\" class=\"data row1 col3\" >1994</td>\n",
       "    </tr>\n",
       "    <tr>\n",
       "      <td id=\"T_9f348_row2_col0\" class=\"data row2 col0\" >1</td>\n",
       "      <td id=\"T_9f348_row2_col1\" class=\"data row2 col1\" >Wall Street</td>\n",
       "      <td id=\"T_9f348_row2_col2\" class=\"data row2 col2\" >USA</td>\n",
       "      <td id=\"T_9f348_row2_col3\" class=\"data row2 col3\" >1987</td>\n",
       "    </tr>\n",
       "  </tbody>\n",
       "</table>\n"
      ],
      "text/plain": [
       "<pandas.io.formats.style.Styler at 0x244f52de350>"
      ]
     },
     "metadata": {},
     "output_type": "display_data"
    }
   ],
   "source": [
    "moviesOrdered = pd.read_sql('''SELECT * FROM Movie ORDER BY year DESC ''', con)\n",
    "display(moviesOrdered.style.hide_index())"
   ]
  },
  {
   "cell_type": "markdown",
   "metadata": {},
   "source": [
    "#### Get All Movies released in the 90s (after year (1990) and before 2000) ordered from old to recent."
   ]
  },
  {
   "cell_type": "code",
   "execution_count": 28,
   "metadata": {},
   "outputs": [
    {
     "name": "stderr",
     "output_type": "stream",
     "text": [
      "C:\\Users\\Acer\\AppData\\Local\\Temp\\ipykernel_13724\\2573499291.py:1: UserWarning: pandas only supports SQLAlchemy connectable (engine/connection) or database string URI or sqlite3 DBAPI2 connection. Other DBAPI2 objects are not tested. Please consider using SQLAlchemy.\n",
      "  movies90 = pd.read_sql('''SELECT * FROM Movie WHERE year > 1990 AND year < 2000 ORDER BY year ASC  ''', con)\n",
      "C:\\Users\\Acer\\AppData\\Local\\Temp\\ipykernel_13724\\2573499291.py:2: FutureWarning: this method is deprecated in favour of `Styler.hide(axis=\"index\")`\n",
      "  display(movies90.style.hide_index())\n"
     ]
    },
    {
     "data": {
      "text/html": [
       "<style type=\"text/css\">\n",
       "</style>\n",
       "<table id=\"T_53119\">\n",
       "  <thead>\n",
       "    <tr>\n",
       "      <th id=\"T_53119_level0_col0\" class=\"col_heading level0 col0\" >id</th>\n",
       "      <th id=\"T_53119_level0_col1\" class=\"col_heading level0 col1\" >title</th>\n",
       "      <th id=\"T_53119_level0_col2\" class=\"col_heading level0 col2\" >country</th>\n",
       "      <th id=\"T_53119_level0_col3\" class=\"col_heading level0 col3\" >year</th>\n",
       "    </tr>\n",
       "  </thead>\n",
       "  <tbody>\n",
       "    <tr>\n",
       "      <td id=\"T_53119_row0_col0\" class=\"data row0 col0\" >3</td>\n",
       "      <td id=\"T_53119_row0_col1\" class=\"data row0 col1\" >The Shawshank Redemption</td>\n",
       "      <td id=\"T_53119_row0_col2\" class=\"data row0 col2\" >USA</td>\n",
       "      <td id=\"T_53119_row0_col3\" class=\"data row0 col3\" >1994</td>\n",
       "    </tr>\n",
       "    <tr>\n",
       "      <td id=\"T_53119_row1_col0\" class=\"data row1 col0\" >2</td>\n",
       "      <td id=\"T_53119_row1_col1\" class=\"data row1 col1\" >The American President</td>\n",
       "      <td id=\"T_53119_row1_col2\" class=\"data row1 col2\" >USA</td>\n",
       "      <td id=\"T_53119_row1_col3\" class=\"data row1 col3\" >1995</td>\n",
       "    </tr>\n",
       "  </tbody>\n",
       "</table>\n"
      ],
      "text/plain": [
       "<pandas.io.formats.style.Styler at 0x244f5bf58a0>"
      ]
     },
     "metadata": {},
     "output_type": "display_data"
    }
   ],
   "source": [
    "movies90 = pd.read_sql('''SELECT * FROM Movie WHERE year > 1990 AND year < 2000 ORDER BY year ASC  ''', con)\n",
    "display(movies90.style.hide_index())"
   ]
  },
  {
   "cell_type": "markdown",
   "metadata": {},
   "source": [
    "#### Get Movies and Actors from your  \"movies\" DB"
   ]
  },
  {
   "cell_type": "code",
   "execution_count": null,
   "metadata": {},
   "outputs": [],
   "source": [
    "moviesActors = pd.read_sql('''   YOUR SQL QUERY HERE !!  ''', con)\n",
    "\n",
    "display(moviesActors.style.hide_index())"
   ]
  },
  {
   "cell_type": "markdown",
   "metadata": {},
   "source": [
    "#### Get count of \"Movies\" in your DB"
   ]
  },
  {
   "cell_type": "code",
   "execution_count": 30,
   "metadata": {},
   "outputs": [
    {
     "name": "stderr",
     "output_type": "stream",
     "text": [
      "C:\\Users\\Acer\\AppData\\Local\\Temp\\ipykernel_13724\\236762862.py:1: UserWarning: pandas only supports SQLAlchemy connectable (engine/connection) or database string URI or sqlite3 DBAPI2 connection. Other DBAPI2 objects are not tested. Please consider using SQLAlchemy.\n",
      "  count_table= pd.read_sql(' SELECT COUNT(*) FROM Movie ', con)\n",
      "C:\\Users\\Acer\\AppData\\Local\\Temp\\ipykernel_13724\\236762862.py:2: FutureWarning: this method is deprecated in favour of `Styler.hide(axis=\"index\")`\n",
      "  display(count_table.style.hide_index())\n"
     ]
    },
    {
     "data": {
      "text/html": [
       "<style type=\"text/css\">\n",
       "</style>\n",
       "<table id=\"T_8f0d4\">\n",
       "  <thead>\n",
       "    <tr>\n",
       "      <th id=\"T_8f0d4_level0_col0\" class=\"col_heading level0 col0\" >count</th>\n",
       "    </tr>\n",
       "  </thead>\n",
       "  <tbody>\n",
       "    <tr>\n",
       "      <td id=\"T_8f0d4_row0_col0\" class=\"data row0 col0\" >3</td>\n",
       "    </tr>\n",
       "  </tbody>\n",
       "</table>\n"
      ],
      "text/plain": [
       "<pandas.io.formats.style.Styler at 0x244f50c5a50>"
      ]
     },
     "metadata": {},
     "output_type": "display_data"
    }
   ],
   "source": [
    "count_table= pd.read_sql(' SELECT COUNT(*) FROM Movie ', con)\n",
    "display(count_table.style.hide_index())"
   ]
  },
  {
   "cell_type": "markdown",
   "metadata": {},
   "source": [
    "#### In this DB, for every \"Actor\" get the number of movies he played"
   ]
  },
  {
   "cell_type": "code",
   "execution_count": 40,
   "metadata": {},
   "outputs": [
    {
     "name": "stderr",
     "output_type": "stream",
     "text": [
      "C:\\Users\\Acer\\AppData\\Local\\Temp\\ipykernel_13724\\3990986611.py:1: UserWarning: pandas only supports SQLAlchemy connectable (engine/connection) or database string URI or sqlite3 DBAPI2 connection. Other DBAPI2 objects are not tested. Please consider using SQLAlchemy.\n",
      "  actorMoviesAgg= pd.read_sql('''SELECT DISTINCT name , COUNT(*)\n",
      "C:\\Users\\Acer\\AppData\\Local\\Temp\\ipykernel_13724\\3990986611.py:9: FutureWarning: this method is deprecated in favour of `Styler.hide(axis=\"index\")`\n",
      "  display(actorMoviesAgg.style.hide_index())\n"
     ]
    },
    {
     "data": {
      "text/html": [
       "<style type=\"text/css\">\n",
       "</style>\n",
       "<table id=\"T_5d9da\">\n",
       "  <thead>\n",
       "    <tr>\n",
       "      <th id=\"T_5d9da_level0_col0\" class=\"col_heading level0 col0\" >name</th>\n",
       "      <th id=\"T_5d9da_level0_col1\" class=\"col_heading level0 col1\" >count</th>\n",
       "    </tr>\n",
       "  </thead>\n",
       "  <tbody>\n",
       "    <tr>\n",
       "      <td id=\"T_5d9da_row0_col0\" class=\"data row0 col0\" >Morgan Freeman</td>\n",
       "      <td id=\"T_5d9da_row0_col1\" class=\"data row0 col1\" >1</td>\n",
       "    </tr>\n",
       "    <tr>\n",
       "      <td id=\"T_5d9da_row1_col0\" class=\"data row1 col0\" >Martin Sheen</td>\n",
       "      <td id=\"T_5d9da_row1_col1\" class=\"data row1 col1\" >2</td>\n",
       "    </tr>\n",
       "    <tr>\n",
       "      <td id=\"T_5d9da_row2_col0\" class=\"data row2 col0\" >Michael Douglas</td>\n",
       "      <td id=\"T_5d9da_row2_col1\" class=\"data row2 col1\" >2</td>\n",
       "    </tr>\n",
       "    <tr>\n",
       "      <td id=\"T_5d9da_row3_col0\" class=\"data row3 col0\" >Charlie Sheen</td>\n",
       "      <td id=\"T_5d9da_row3_col1\" class=\"data row3 col1\" >1</td>\n",
       "    </tr>\n",
       "  </tbody>\n",
       "</table>\n"
      ],
      "text/plain": [
       "<pandas.io.formats.style.Styler at 0x244f5bf58d0>"
      ]
     },
     "metadata": {},
     "output_type": "display_data"
    }
   ],
   "source": [
    "actorMoviesAgg= pd.read_sql('''SELECT DISTINCT name , COUNT(*) \n",
    "                               FROM (SELECT * FROM Role\n",
    "                               FULL OUTER JOIN Person\n",
    "                               ON Role.p_id = Person.id\n",
    "                               FULL OUTER JOIN Movie\n",
    "                               ON Role.m_id = Movie.id) AS foo\n",
    "                               GROUP BY name\n",
    "                                ''', con)\n",
    "display(actorMoviesAgg.style.hide_index())"
   ]
  },
  {
   "cell_type": "markdown",
   "metadata": {},
   "source": [
    "#### In this DB, List the movies that every Actor Played\n",
    "<b>Hint:</b> use the aggregation function <b>\"ARRAY_AGG\"</b> to group movies as a list."
   ]
  },
  {
   "cell_type": "code",
   "execution_count": null,
   "metadata": {},
   "outputs": [],
   "source": [
    "actorMoviesAggList= pd.read_sql('''  YOUR SQL QUERY HERE !!   ''', con)\n",
    "display(actorMoviesAggList.style.hide_index())"
   ]
  },
  {
   "cell_type": "markdown",
   "metadata": {},
   "source": [
    "### UPDATE Table Data\n",
    "\n",
    "#### Update the year of production of the movie \"Wall Street\" to be 2000 instead of it's current year. Show the record before and after the update."
   ]
  },
  {
   "cell_type": "code",
   "execution_count": 86,
   "metadata": {},
   "outputs": [
    {
     "name": "stderr",
     "output_type": "stream",
     "text": [
      "C:\\Users\\Acer\\AppData\\Local\\Temp\\ipykernel_13724\\3138166853.py:3: UserWarning: pandas only supports SQLAlchemy connectable (engine/connection) or database string URI or sqlite3 DBAPI2 connection. Other DBAPI2 objects are not tested. Please consider using SQLAlchemy.\n",
      "  beforeUpdate = pd.read_sql('''SELECT * FROM Movie WHERE title = 'Wall Street'  ''', con)\n",
      "C:\\Users\\Acer\\AppData\\Local\\Temp\\ipykernel_13724\\3138166853.py:4: FutureWarning: this method is deprecated in favour of `Styler.hide(axis=\"index\")`\n",
      "  display(beforeUpdate.style.hide_index())\n"
     ]
    },
    {
     "data": {
      "text/html": [
       "<style type=\"text/css\">\n",
       "</style>\n",
       "<table id=\"T_aa448\">\n",
       "  <thead>\n",
       "    <tr>\n",
       "      <th id=\"T_aa448_level0_col0\" class=\"col_heading level0 col0\" >id</th>\n",
       "      <th id=\"T_aa448_level0_col1\" class=\"col_heading level0 col1\" >title</th>\n",
       "      <th id=\"T_aa448_level0_col2\" class=\"col_heading level0 col2\" >country</th>\n",
       "      <th id=\"T_aa448_level0_col3\" class=\"col_heading level0 col3\" >year</th>\n",
       "    </tr>\n",
       "  </thead>\n",
       "  <tbody>\n",
       "    <tr>\n",
       "      <td id=\"T_aa448_row0_col0\" class=\"data row0 col0\" >1</td>\n",
       "      <td id=\"T_aa448_row0_col1\" class=\"data row0 col1\" >Wall Street</td>\n",
       "      <td id=\"T_aa448_row0_col2\" class=\"data row0 col2\" >USA</td>\n",
       "      <td id=\"T_aa448_row0_col3\" class=\"data row0 col3\" >1987</td>\n",
       "    </tr>\n",
       "  </tbody>\n",
       "</table>\n"
      ],
      "text/plain": [
       "<pandas.io.formats.style.Styler at 0x244f6fa6f20>"
      ]
     },
     "metadata": {},
     "output_type": "display_data"
    },
    {
     "name": "stdout",
     "output_type": "stream",
     "text": [
      "Error While Updating the DB:  name 'conn' is not defined\n"
     ]
    },
    {
     "name": "stderr",
     "output_type": "stream",
     "text": [
      "C:\\Users\\Acer\\AppData\\Local\\Temp\\ipykernel_13724\\3138166853.py:18: UserWarning: pandas only supports SQLAlchemy connectable (engine/connection) or database string URI or sqlite3 DBAPI2 connection. Other DBAPI2 objects are not tested. Please consider using SQLAlchemy.\n",
      "  afterUpdate = pd.read_sql('''SELECT * FROM Movie WHERE title = 'Wall Street'  ''', con)\n",
      "C:\\Users\\Acer\\AppData\\Local\\Temp\\ipykernel_13724\\3138166853.py:19: FutureWarning: this method is deprecated in favour of `Styler.hide(axis=\"index\")`\n",
      "  display(afterUpdate.style.hide_index())\n"
     ]
    },
    {
     "data": {
      "text/html": [
       "<style type=\"text/css\">\n",
       "</style>\n",
       "<table id=\"T_4f634\">\n",
       "  <thead>\n",
       "    <tr>\n",
       "      <th id=\"T_4f634_level0_col0\" class=\"col_heading level0 col0\" >id</th>\n",
       "      <th id=\"T_4f634_level0_col1\" class=\"col_heading level0 col1\" >title</th>\n",
       "      <th id=\"T_4f634_level0_col2\" class=\"col_heading level0 col2\" >country</th>\n",
       "      <th id=\"T_4f634_level0_col3\" class=\"col_heading level0 col3\" >year</th>\n",
       "    </tr>\n",
       "  </thead>\n",
       "  <tbody>\n",
       "    <tr>\n",
       "      <td id=\"T_4f634_row0_col0\" class=\"data row0 col0\" >1</td>\n",
       "      <td id=\"T_4f634_row0_col1\" class=\"data row0 col1\" >Wall Street</td>\n",
       "      <td id=\"T_4f634_row0_col2\" class=\"data row0 col2\" >USA</td>\n",
       "      <td id=\"T_4f634_row0_col3\" class=\"data row0 col3\" >2000</td>\n",
       "    </tr>\n",
       "  </tbody>\n",
       "</table>\n"
      ],
      "text/plain": [
       "<pandas.io.formats.style.Styler at 0x244f5bb4c10>"
      ]
     },
     "metadata": {},
     "output_type": "display_data"
    }
   ],
   "source": [
    "### YOUR CODE HERE!!!\n",
    "\n",
    "beforeUpdate = pd.read_sql('''SELECT * FROM Movie WHERE title = 'Wall Street'  ''', con)\n",
    "display(beforeUpdate.style.hide_index())\n",
    "\n",
    "sqlUpdateDatabase = '''\n",
    "                    UPDATE Movie \n",
    "                    SET year = 2000 \n",
    "                    WHERE title = 'Wall Street' \n",
    "                    '''\n",
    "try:\n",
    "    cursor.execute(sqlUpdateDatabase);\n",
    "    conn.commit()\n",
    "    print(\"Database Movie Update Successfully!\")\n",
    "except (Exception, psycopg2.Error) as error :\n",
    "    print(\"Error While Updating the DB: \",error)\n",
    "\n",
    "afterUpdate = pd.read_sql('''SELECT * FROM Movie WHERE title = 'Wall Street'  ''', con)\n",
    "display(afterUpdate.style.hide_index())"
   ]
  },
  {
   "cell_type": "markdown",
   "metadata": {},
   "source": [
    "## Delete Table rows\n",
    "\n",
    "#### Delete the movie with id =1 , and show the person table before and after the deletion."
   ]
  },
  {
   "cell_type": "code",
   "execution_count": 43,
   "metadata": {},
   "outputs": [
    {
     "name": "stdout",
     "output_type": "stream",
     "text": [
      "Error While Updating the DB:  update or delete on table \"movie\" violates foreign key constraint \"role_m_id_fkey\" on table \"role\"\n",
      "DETAIL:  Key (id)=(1) is still referenced from table \"role\".\n",
      "\n"
     ]
    }
   ],
   "source": [
    "### YOUR CODE HERE !!!\n",
    "\n",
    "sqlDeleteDatabase = '''\n",
    "                    DELETE FROM Movie\n",
    "                    WHERE id = 1; \n",
    "                    '''\n",
    "try:\n",
    "    cursor.execute(sqlDeleteDatabase);\n",
    "    print(\"Database Movie Delete Successfully!\")\n",
    "except (Exception, psycopg2.Error) as error :\n",
    "    con.rollback()\n",
    "    print(\"Error While Delete the DB instance: \",error)"
   ]
  },
  {
   "cell_type": "markdown",
   "metadata": {},
   "source": [
    "## Extend you \"Movies\" DB \n",
    "\n",
    "Imagine now that we are going to extend our DB with new movies, actors, even with new directors.\n",
    "\n",
    "- We add <b>**\"The matrix\"**</b> movie which was released in <b>(1999)</b>, and has a new property \"Tagline\" <b>(\"Welcome to the Real World\")</b>.\n",
    "    - <font color='red'> Adding the \"Tagline\" new property (attribute) require changing the table schema</font>\n",
    "\n",
    "- We will also add 4 new actors (Person):\n",
    "    - **\"Keanu Reeves\"** who was born in (1964). Note \"born\" property is also new.\n",
    "    - **\"Carrie-Anne Moss\"** who was born in (1967).\n",
    "    - **\"Laurence Fishburne\"** who was born in (1960).\n",
    "    - **\"Hugo Weaving\"** who was born in (1960).\n",
    "    * <font color='red'> **Note**: Adding the new \"born\" Property require changing the table schema</font>    \n",
    "- Moreover, we add 2 directors (Person) :\n",
    "    - **\"Lilly Wachowski\"**, born in (1967)\n",
    "    - **\"Lana Wachowski\"**, born in(1965)\n",
    "- For these directors specify one more Label (\"Director\").\n",
    "    - <font color='red'> This new Label Will require **\"Denormalization\"** Or smothing</font>\n",
    "    \n",
    "- We will also Create a new <b>RelationType \"DIRECTED\" </b> that is directed from the later 3 director to \"the Matrix\" movie.\n",
    "    - - <font color='red'> New created table for **Directed** relationship </font>"
   ]
  },
  {
   "cell_type": "markdown",
   "metadata": {},
   "source": [
    "#### Adding Tagline column to the movie table requires, altering the table schema"
   ]
  },
  {
   "cell_type": "code",
   "execution_count": 88,
   "metadata": {},
   "outputs": [
    {
     "name": "stdout",
     "output_type": "stream",
     "text": [
      "Database Movie Update Successfully!\n"
     ]
    }
   ],
   "source": [
    "# Add a new Column to the Schema of movie table\n",
    "sqlUpdateDatabase = '''\n",
    "                    ALTER TABLE Movie \n",
    "                    ADD COLUMN tagline TEXT;\n",
    "                    '''\n",
    "try:\n",
    "    cursor.execute(sqlUpdateDatabase);\n",
    "    con.commit()\n",
    "    print(\"Database Movie Update Successfully!\")\n",
    "except (Exception, psycopg2.Error) as error :\n",
    "    con.rollback()\n",
    "    print(\"Error While Updating the DB: \",error)"
   ]
  },
  {
   "cell_type": "markdown",
   "metadata": {},
   "source": [
    "#### Inserting the new movie \"The Matrix\" with the prementioned attributes to movie table"
   ]
  },
  {
   "cell_type": "code",
   "execution_count": 95,
   "metadata": {},
   "outputs": [
    {
     "name": "stdout",
     "output_type": "stream",
     "text": [
      "Database Movie Update Successfully!\n"
     ]
    }
   ],
   "source": [
    "#### YOUR CODE HERE !!!\n",
    "sqlUpdateDatabase = '''\n",
    "                    INSERT INTO Movie (id,title,country,year,tagline) VALUES(4,'The Matrix','USA',1999,'Welcome to the Real World')\n",
    "                    '''\n",
    "try:\n",
    "    cursor.execute(sqlUpdateDatabase);\n",
    "    con.rollback()\n",
    "    print(\"Database Movie Update Successfully!\")\n",
    "except (Exception, psycopg2.Error) as error :\n",
    "    con.rollback()\n",
    "    print(\"Error While Updating the DB: \",error)"
   ]
  },
  {
   "cell_type": "markdown",
   "metadata": {},
   "source": [
    "#### Adding 'born' column to the person table also requires, altering the table schema"
   ]
  },
  {
   "cell_type": "code",
   "execution_count": 97,
   "metadata": {},
   "outputs": [
    {
     "name": "stdout",
     "output_type": "stream",
     "text": [
      "Database Movie Update Successfully!\n"
     ]
    }
   ],
   "source": [
    "# Add a new Column to the Schema of person table\n",
    "# Add a new Column to the Schema of movie table\n",
    "sqlUpdateDatabase = '''\n",
    "                    ALTER TABLE Person \n",
    "                    ADD COLUMN born INT;\n",
    "                    '''\n",
    "try:\n",
    "    cursor.execute(sqlUpdateDatabase);\n",
    "    con.commit()\n",
    "    print(\"Database Movie Update Successfully!\")\n",
    "except (Exception, psycopg2.Error) as error :\n",
    "    con.rollback()\n",
    "    print(\"Error While Updating the DB: \",error)"
   ]
  },
  {
   "cell_type": "markdown",
   "metadata": {},
   "source": [
    "#### Inserting the  \"4\" more Actors."
   ]
  },
  {
   "cell_type": "code",
   "execution_count": 101,
   "metadata": {},
   "outputs": [
    {
     "name": "stdout",
     "output_type": "stream",
     "text": [
      "4 Record inserted successfully into Role table\n"
     ]
    }
   ],
   "source": [
    "#YOU CODE for Adding 4 More Actors\n",
    "\n",
    "sql_insert_customers = \"INSERT INTO Person (id,name,born) VALUES(%s,%s,%s)\"\n",
    "\n",
    "#list of customers (With Their attributes values)\n",
    "#None here means value will be missing in the table\n",
    "customer_List=[\n",
    "                (5,\"Carrie-Anne Moss\",1967),\n",
    "                (6,\"Keanu Reeves\",1964),\n",
    "                (7,\"Laurence Fishburne\",1960),\n",
    "                (8,\"Hugo Weaving\",1960)]\n",
    "\n",
    "try:\n",
    "    # execute the INSERT statement\n",
    "    cursor.executemany(sql_insert_customers,customer_List)\n",
    "    # commit the changes to the database\n",
    "    con.commit()\n",
    "    #the number of inserted rows/tuples\n",
    "    count = cursor.rowcount\n",
    "    print (count, \"Record inserted successfully into Role table\")\n",
    "\n",
    "except (Exception, psycopg2.Error) as error :\n",
    "    con.rollback()\n",
    "    print (\"Error while Inserting the data to the table, Details: \",error)"
   ]
  },
  {
   "cell_type": "markdown",
   "metadata": {},
   "source": [
    "#### Inserting the  \"2\" Directors"
   ]
  },
  {
   "cell_type": "code",
   "execution_count": 104,
   "metadata": {},
   "outputs": [
    {
     "name": "stdout",
     "output_type": "stream",
     "text": [
      "2 Record inserted successfully into Role table\n"
     ]
    }
   ],
   "source": [
    "# YOU CODE for Adding 2 more Directors\n",
    "\n",
    "sql_insert_customers = \"INSERT INTO Person (id,name,born) VALUES(%s,%s,%s)\"\n",
    "\n",
    "#list of customers (With Their attributes values)\n",
    "#None here means value will be missing in the table\n",
    "customer_List=[\n",
    "                (9,\"Lilly Wachowski\",1967),\n",
    "                (10,\"Lana Wachowski\",1965)]\n",
    "\n",
    "try:\n",
    "    # execute the INSERT statement\n",
    "    cursor.executemany(sql_insert_customers,customer_List)\n",
    "    # commit the changes to the database\n",
    "    con.commit()\n",
    "    #the number of inserted rows/tuples\n",
    "    count = cursor.rowcount\n",
    "    print (count, \"Record inserted successfully into Role table\")\n",
    "\n",
    "except (Exception, psycopg2.Error) as error :\n",
    "    con.rollback()\n",
    "    print (\"Error while Inserting the data to the table, Details: \",error)"
   ]
  },
  {
   "cell_type": "markdown",
   "metadata": {},
   "source": [
    "#### Specifying this new Label (\"Director\") will require \"normalization\"\n",
    "\n",
    "I highly suggest modeling this a little more \"normalized\". You are already on the right track by realizing that both \"Directors\" and maybe after that \"Actors\" are the same entity (Person). The trick is that you should model \"roles\", and then model user's roles as well. That makes 3 total tables for this small portion of your model.\n",
    "\n",
    "<img src= 'NormalizationTrick.JPG'>"
   ]
  },
  {
   "cell_type": "code",
   "execution_count": 108,
   "metadata": {},
   "outputs": [
    {
     "name": "stdout",
     "output_type": "stream",
     "text": [
      "Table (Label) created successfully in PostgreSQL \n"
     ]
    }
   ],
   "source": [
    "#Create Label Table CODE HERE !!!\n",
    "try:\n",
    "    #table_name variable\n",
    "    customerTable=\"Label\"\n",
    "    create_customerTablee_query = '''CREATE TABLE '''+ customerTable+''' \n",
    "              (id INT  PRIMARY KEY NOT NULL,\n",
    "               label TEXT NOT NULL\n",
    "               ); '''\n",
    "\n",
    "    #Execute this command (SQL Query)\n",
    "    cursor.execute(create_customerTablee_query)\n",
    "    \n",
    "    # Make the changes to the database persistent\n",
    "    con.commit()\n",
    "    print(\"Table (\"+ customerTable +\") created successfully in PostgreSQL \")\n",
    "except (Exception, psycopg2.Error) as error:\n",
    "    # if it exits with an exception the transaction is rolled back.\n",
    "    con.rollback()\n",
    "    print(\"Error While Creating the DB: \",error)"
   ]
  },
  {
   "cell_type": "code",
   "execution_count": 110,
   "metadata": {},
   "outputs": [
    {
     "name": "stdout",
     "output_type": "stream",
     "text": [
      "Table (Person_Label) created successfully in PostgreSQL \n"
     ]
    }
   ],
   "source": [
    "#Create Person_Label Table CODE HERE !!!\n",
    "try:\n",
    "    #table_name variable\n",
    "    customerTable=\"Person_Label\"\n",
    "    create_customerTablee_query = '''CREATE TABLE '''+ customerTable+''' \n",
    "              (personID INT  REFERENCES Person(id),\n",
    "               labelID INT  REFERENCES Label(id)\n",
    "               ); '''\n",
    "\n",
    "    #Execute this command (SQL Query)\n",
    "    cursor.execute(create_customerTablee_query)\n",
    "    \n",
    "    # Make the changes to the database persistent\n",
    "    con.commit()\n",
    "    print(\"Table (\"+ customerTable +\") created successfully in PostgreSQL \")\n",
    "except (Exception, psycopg2.Error) as error:\n",
    "    # if it exits with an exception the transaction is rolled back.\n",
    "    con.rollback()\n",
    "    print(\"Error While Creating the DB: \",error)"
   ]
  },
  {
   "cell_type": "markdown",
   "metadata": {},
   "source": [
    "#### Insert Data into the two new normalized tables (\"Person_label\", and \"Label\") "
   ]
  },
  {
   "cell_type": "code",
   "execution_count": 114,
   "metadata": {},
   "outputs": [
    {
     "name": "stdout",
     "output_type": "stream",
     "text": [
      "Error while Inserting the data to the table, Details:  duplicate key value violates unique constraint \"label_pkey\"\n",
      "DETAIL:  Key (id)=(1) already exists.\n",
      "\n",
      "10 Record inserted successfully into Role table\n"
     ]
    }
   ],
   "source": [
    "#### YOUR CODE HERE !!!\n",
    "sql_insert_customers = \"INSERT INTO Label (id,label) VALUES(%s,%s)\"\n",
    "\n",
    "#list of customers (With Their attributes values)\n",
    "#None here means value will be missing in the table\n",
    "customer_List=[\n",
    "                (1,\"Actor\"),\n",
    "                (2,\"Director\")]\n",
    "\n",
    "try:\n",
    "    # execute the INSERT statement\n",
    "    cursor.executemany(sql_insert_customers,customer_List)\n",
    "    # commit the changes to the database\n",
    "    con.commit()\n",
    "    #the number of inserted rows/tuples\n",
    "    count = cursor.rowcount\n",
    "    print (count, \"Record inserted successfully into Role table\")\n",
    "\n",
    "except (Exception, psycopg2.Error) as error :\n",
    "    con.rollback()\n",
    "    print (\"Error while Inserting the data to the table, Details: \",error)\n",
    "\n",
    "\n",
    "sql_insert_customers = \"INSERT INTO Person_Label (personID,labelID) VALUES(%s,%s)\"\n",
    "\n",
    "#list of customers (With Their attributes values)\n",
    "#None here means value will be missing in the table\n",
    "customer_List=[\n",
    "                (1,1),\n",
    "                (2,1),\n",
    "                (3,1),\n",
    "                (4,1),\n",
    "                (5,1),\n",
    "                (6,1),\n",
    "                (7,1),\n",
    "                (8,1),\n",
    "                (9,2),\n",
    "                (10,2),]\n",
    "\n",
    "try:\n",
    "    # execute the INSERT statement\n",
    "    cursor.executemany(sql_insert_customers,customer_List)\n",
    "    # commit the changes to the database\n",
    "    con.commit()\n",
    "    #the number of inserted rows/tuples\n",
    "    count = cursor.rowcount\n",
    "    print (count, \"Record inserted successfully into Role table\")\n",
    "\n",
    "except (Exception, psycopg2.Error) as error :\n",
    "    con.rollback()\n",
    "    print (\"Error while Inserting the data to the table, Details: \",error)"
   ]
  },
  {
   "cell_type": "markdown",
   "metadata": {},
   "source": [
    "#### Perform a query that shows only the \"Directors\""
   ]
  },
  {
   "cell_type": "code",
   "execution_count": 118,
   "metadata": {},
   "outputs": [
    {
     "name": "stderr",
     "output_type": "stream",
     "text": [
      "C:\\Users\\Acer\\AppData\\Local\\Temp\\ipykernel_13724\\612687361.py:2: UserWarning: pandas only supports SQLAlchemy connectable (engine/connection) or database string URI or sqlite3 DBAPI2 connection. Other DBAPI2 objects are not tested. Please consider using SQLAlchemy.\n",
      "  actorMoviesAgg= pd.read_sql('''SELECT name, label\n",
      "C:\\Users\\Acer\\AppData\\Local\\Temp\\ipykernel_13724\\612687361.py:10: FutureWarning: this method is deprecated in favour of `Styler.hide(axis=\"index\")`\n",
      "  display(actorMoviesAgg.style.hide_index())\n"
     ]
    },
    {
     "data": {
      "text/html": [
       "<style type=\"text/css\">\n",
       "</style>\n",
       "<table id=\"T_ed423\">\n",
       "  <thead>\n",
       "    <tr>\n",
       "      <th id=\"T_ed423_level0_col0\" class=\"col_heading level0 col0\" >name</th>\n",
       "      <th id=\"T_ed423_level0_col1\" class=\"col_heading level0 col1\" >label</th>\n",
       "    </tr>\n",
       "  </thead>\n",
       "  <tbody>\n",
       "    <tr>\n",
       "      <td id=\"T_ed423_row0_col0\" class=\"data row0 col0\" >Lilly Wachowski</td>\n",
       "      <td id=\"T_ed423_row0_col1\" class=\"data row0 col1\" >Director</td>\n",
       "    </tr>\n",
       "    <tr>\n",
       "      <td id=\"T_ed423_row1_col0\" class=\"data row1 col0\" >Lana Wachowski</td>\n",
       "      <td id=\"T_ed423_row1_col1\" class=\"data row1 col1\" >Director</td>\n",
       "    </tr>\n",
       "  </tbody>\n",
       "</table>\n"
      ],
      "text/plain": [
       "<pandas.io.formats.style.Styler at 0x244f5bf4430>"
      ]
     },
     "metadata": {},
     "output_type": "display_data"
    }
   ],
   "source": [
    "#### YOUR CODE HERE !!!\n",
    "actorMoviesAgg= pd.read_sql('''SELECT name, label\n",
    "                               FROM (SELECT * FROM Person_Label\n",
    "                               FULL OUTER JOIN Person\n",
    "                               ON Person_Label.personID = Person.id\n",
    "                               FULL OUTER JOIN Label\n",
    "                               ON Person_Label.labelID = Label.id) AS foo\n",
    "                               WHERE label = 'Director'\n",
    "                               ''', con)\n",
    "display(actorMoviesAgg.style.hide_index())"
   ]
  },
  {
   "cell_type": "markdown",
   "metadata": {},
   "source": [
    "#### \"Directed\" Relationship creation"
   ]
  },
  {
   "cell_type": "code",
   "execution_count": 119,
   "metadata": {},
   "outputs": [
    {
     "name": "stdout",
     "output_type": "stream",
     "text": [
      "Table (Direct) created successfully in PostgreSQL \n"
     ]
    }
   ],
   "source": [
    "# CODE to create the \"Directed\" Relationship.\n",
    "try:\n",
    "    #table_name variable\n",
    "    customerTable=\"Direct\"\n",
    "    create_customerTablee_query = '''CREATE TABLE '''+ customerTable+''' \n",
    "              (personID INT  REFERENCES Person(id),\n",
    "               movieID INT  REFERENCES Movie(id)\n",
    "               ); '''\n",
    "\n",
    "    #Execute this command (SQL Query)\n",
    "    cursor.execute(create_customerTablee_query)\n",
    "    \n",
    "    # Make the changes to the database persistent\n",
    "    con.commit()\n",
    "    print(\"Table (\"+ customerTable +\") created successfully in PostgreSQL \")\n",
    "except (Exception, psycopg2.Error) as error:\n",
    "    # if it exits with an exception the transaction is rolled back.\n",
    "    con.rollback()\n",
    "    print(\"Error While Creating the DB: \",error)"
   ]
  },
  {
   "cell_type": "markdown",
   "metadata": {},
   "source": [
    "#### Insert data to the \"Directed\" table "
   ]
  },
  {
   "cell_type": "code",
   "execution_count": 126,
   "metadata": {},
   "outputs": [
    {
     "name": "stdout",
     "output_type": "stream",
     "text": [
      "4 Record inserted successfully into Role table\n"
     ]
    }
   ],
   "source": [
    "### YOUR CODE HERE !!!\n",
    "sql_insert_customers = \"INSERT INTO Direct (personID,movieID) VALUES(%s,%s)\"\n",
    "\n",
    "#list of customers (With Their attributes values)\n",
    "#None here means value will be missing in the table\n",
    "customer_List=[\n",
    "                (9,1),\n",
    "                (9,2),\n",
    "                (10,3),\n",
    "                (10,4)]\n",
    "\n",
    "try:\n",
    "    # execute the INSERT statement\n",
    "    cursor.executemany(sql_insert_customers,customer_List)\n",
    "    # commit the changes to the database\n",
    "    con.commit()\n",
    "    #the number of inserted rows/tuples\n",
    "    count = cursor.rowcount\n",
    "    print (count, \"Record inserted successfully into Role table\")\n",
    "\n",
    "except (Exception, psycopg2.Error) as error :\n",
    "    con.rollback()\n",
    "    print (\"Error while Inserting the data to the table, Details: \",error)"
   ]
  },
  {
   "cell_type": "markdown",
   "metadata": {},
   "source": [
    "### Perform a query that get persons who Directed \"The matrix\" movie."
   ]
  },
  {
   "cell_type": "code",
   "execution_count": 127,
   "metadata": {},
   "outputs": [
    {
     "name": "stderr",
     "output_type": "stream",
     "text": [
      "C:\\Users\\Acer\\AppData\\Local\\Temp\\ipykernel_13724\\2004233207.py:1: UserWarning: pandas only supports SQLAlchemy connectable (engine/connection) or database string URI or sqlite3 DBAPI2 connection. Other DBAPI2 objects are not tested. Please consider using SQLAlchemy.\n",
      "  actorMoviesAgg= pd.read_sql('''SELECT * FROM Direct\n",
      "C:\\Users\\Acer\\AppData\\Local\\Temp\\ipykernel_13724\\2004233207.py:7: FutureWarning: this method is deprecated in favour of `Styler.hide(axis=\"index\")`\n",
      "  display(actorMoviesAgg.style.hide_index())\n"
     ]
    },
    {
     "data": {
      "text/html": [
       "<style type=\"text/css\">\n",
       "</style>\n",
       "<table id=\"T_c421f\">\n",
       "  <thead>\n",
       "    <tr>\n",
       "      <th id=\"T_c421f_level0_col0\" class=\"col_heading level0 col0\" >personid</th>\n",
       "      <th id=\"T_c421f_level0_col1\" class=\"col_heading level0 col1\" >movieid</th>\n",
       "      <th id=\"T_c421f_level0_col2\" class=\"col_heading level0 col2\" >id</th>\n",
       "      <th id=\"T_c421f_level0_col3\" class=\"col_heading level0 col3\" >name</th>\n",
       "      <th id=\"T_c421f_level0_col4\" class=\"col_heading level0 col4\" >born</th>\n",
       "      <th id=\"T_c421f_level0_col5\" class=\"col_heading level0 col5\" >id</th>\n",
       "      <th id=\"T_c421f_level0_col6\" class=\"col_heading level0 col6\" >title</th>\n",
       "      <th id=\"T_c421f_level0_col7\" class=\"col_heading level0 col7\" >country</th>\n",
       "      <th id=\"T_c421f_level0_col8\" class=\"col_heading level0 col8\" >year</th>\n",
       "      <th id=\"T_c421f_level0_col9\" class=\"col_heading level0 col9\" >tagline</th>\n",
       "    </tr>\n",
       "  </thead>\n",
       "  <tbody>\n",
       "    <tr>\n",
       "      <td id=\"T_c421f_row0_col0\" class=\"data row0 col0\" >1.000000</td>\n",
       "      <td id=\"T_c421f_row0_col1\" class=\"data row0 col1\" >1.000000</td>\n",
       "      <td id=\"T_c421f_row0_col2\" class=\"data row0 col2\" >1</td>\n",
       "      <td id=\"T_c421f_row0_col3\" class=\"data row0 col3\" >Charlie Sheen</td>\n",
       "      <td id=\"T_c421f_row0_col4\" class=\"data row0 col4\" >nan</td>\n",
       "      <td id=\"T_c421f_row0_col5\" class=\"data row0 col5\" >1.000000</td>\n",
       "      <td id=\"T_c421f_row0_col6\" class=\"data row0 col6\" >Wall Street</td>\n",
       "      <td id=\"T_c421f_row0_col7\" class=\"data row0 col7\" >USA</td>\n",
       "      <td id=\"T_c421f_row0_col8\" class=\"data row0 col8\" >1987.000000</td>\n",
       "      <td id=\"T_c421f_row0_col9\" class=\"data row0 col9\" >None</td>\n",
       "    </tr>\n",
       "    <tr>\n",
       "      <td id=\"T_c421f_row1_col0\" class=\"data row1 col0\" >2.000000</td>\n",
       "      <td id=\"T_c421f_row1_col1\" class=\"data row1 col1\" >2.000000</td>\n",
       "      <td id=\"T_c421f_row1_col2\" class=\"data row1 col2\" >2</td>\n",
       "      <td id=\"T_c421f_row1_col3\" class=\"data row1 col3\" >Michael Douglas</td>\n",
       "      <td id=\"T_c421f_row1_col4\" class=\"data row1 col4\" >nan</td>\n",
       "      <td id=\"T_c421f_row1_col5\" class=\"data row1 col5\" >2.000000</td>\n",
       "      <td id=\"T_c421f_row1_col6\" class=\"data row1 col6\" >The American President</td>\n",
       "      <td id=\"T_c421f_row1_col7\" class=\"data row1 col7\" >USA</td>\n",
       "      <td id=\"T_c421f_row1_col8\" class=\"data row1 col8\" >1995.000000</td>\n",
       "      <td id=\"T_c421f_row1_col9\" class=\"data row1 col9\" >None</td>\n",
       "    </tr>\n",
       "    <tr>\n",
       "      <td id=\"T_c421f_row2_col0\" class=\"data row2 col0\" >1.000000</td>\n",
       "      <td id=\"T_c421f_row2_col1\" class=\"data row2 col1\" >3.000000</td>\n",
       "      <td id=\"T_c421f_row2_col2\" class=\"data row2 col2\" >1</td>\n",
       "      <td id=\"T_c421f_row2_col3\" class=\"data row2 col3\" >Charlie Sheen</td>\n",
       "      <td id=\"T_c421f_row2_col4\" class=\"data row2 col4\" >nan</td>\n",
       "      <td id=\"T_c421f_row2_col5\" class=\"data row2 col5\" >3.000000</td>\n",
       "      <td id=\"T_c421f_row2_col6\" class=\"data row2 col6\" >The Shawshank Redemption</td>\n",
       "      <td id=\"T_c421f_row2_col7\" class=\"data row2 col7\" >USA</td>\n",
       "      <td id=\"T_c421f_row2_col8\" class=\"data row2 col8\" >1994.000000</td>\n",
       "      <td id=\"T_c421f_row2_col9\" class=\"data row2 col9\" >None</td>\n",
       "    </tr>\n",
       "    <tr>\n",
       "      <td id=\"T_c421f_row3_col0\" class=\"data row3 col0\" >1.000000</td>\n",
       "      <td id=\"T_c421f_row3_col1\" class=\"data row3 col1\" >4.000000</td>\n",
       "      <td id=\"T_c421f_row3_col2\" class=\"data row3 col2\" >1</td>\n",
       "      <td id=\"T_c421f_row3_col3\" class=\"data row3 col3\" >Charlie Sheen</td>\n",
       "      <td id=\"T_c421f_row3_col4\" class=\"data row3 col4\" >nan</td>\n",
       "      <td id=\"T_c421f_row3_col5\" class=\"data row3 col5\" >4.000000</td>\n",
       "      <td id=\"T_c421f_row3_col6\" class=\"data row3 col6\" >The Matrix</td>\n",
       "      <td id=\"T_c421f_row3_col7\" class=\"data row3 col7\" >USA</td>\n",
       "      <td id=\"T_c421f_row3_col8\" class=\"data row3 col8\" >1999.000000</td>\n",
       "      <td id=\"T_c421f_row3_col9\" class=\"data row3 col9\" >Welcome to the Real World</td>\n",
       "    </tr>\n",
       "    <tr>\n",
       "      <td id=\"T_c421f_row4_col0\" class=\"data row4 col0\" >9.000000</td>\n",
       "      <td id=\"T_c421f_row4_col1\" class=\"data row4 col1\" >1.000000</td>\n",
       "      <td id=\"T_c421f_row4_col2\" class=\"data row4 col2\" >9</td>\n",
       "      <td id=\"T_c421f_row4_col3\" class=\"data row4 col3\" >Lilly Wachowski</td>\n",
       "      <td id=\"T_c421f_row4_col4\" class=\"data row4 col4\" >1967.000000</td>\n",
       "      <td id=\"T_c421f_row4_col5\" class=\"data row4 col5\" >1.000000</td>\n",
       "      <td id=\"T_c421f_row4_col6\" class=\"data row4 col6\" >Wall Street</td>\n",
       "      <td id=\"T_c421f_row4_col7\" class=\"data row4 col7\" >USA</td>\n",
       "      <td id=\"T_c421f_row4_col8\" class=\"data row4 col8\" >1987.000000</td>\n",
       "      <td id=\"T_c421f_row4_col9\" class=\"data row4 col9\" >None</td>\n",
       "    </tr>\n",
       "    <tr>\n",
       "      <td id=\"T_c421f_row5_col0\" class=\"data row5 col0\" >9.000000</td>\n",
       "      <td id=\"T_c421f_row5_col1\" class=\"data row5 col1\" >2.000000</td>\n",
       "      <td id=\"T_c421f_row5_col2\" class=\"data row5 col2\" >9</td>\n",
       "      <td id=\"T_c421f_row5_col3\" class=\"data row5 col3\" >Lilly Wachowski</td>\n",
       "      <td id=\"T_c421f_row5_col4\" class=\"data row5 col4\" >1967.000000</td>\n",
       "      <td id=\"T_c421f_row5_col5\" class=\"data row5 col5\" >2.000000</td>\n",
       "      <td id=\"T_c421f_row5_col6\" class=\"data row5 col6\" >The American President</td>\n",
       "      <td id=\"T_c421f_row5_col7\" class=\"data row5 col7\" >USA</td>\n",
       "      <td id=\"T_c421f_row5_col8\" class=\"data row5 col8\" >1995.000000</td>\n",
       "      <td id=\"T_c421f_row5_col9\" class=\"data row5 col9\" >None</td>\n",
       "    </tr>\n",
       "    <tr>\n",
       "      <td id=\"T_c421f_row6_col0\" class=\"data row6 col0\" >10.000000</td>\n",
       "      <td id=\"T_c421f_row6_col1\" class=\"data row6 col1\" >3.000000</td>\n",
       "      <td id=\"T_c421f_row6_col2\" class=\"data row6 col2\" >10</td>\n",
       "      <td id=\"T_c421f_row6_col3\" class=\"data row6 col3\" >Lana Wachowski</td>\n",
       "      <td id=\"T_c421f_row6_col4\" class=\"data row6 col4\" >1965.000000</td>\n",
       "      <td id=\"T_c421f_row6_col5\" class=\"data row6 col5\" >3.000000</td>\n",
       "      <td id=\"T_c421f_row6_col6\" class=\"data row6 col6\" >The Shawshank Redemption</td>\n",
       "      <td id=\"T_c421f_row6_col7\" class=\"data row6 col7\" >USA</td>\n",
       "      <td id=\"T_c421f_row6_col8\" class=\"data row6 col8\" >1994.000000</td>\n",
       "      <td id=\"T_c421f_row6_col9\" class=\"data row6 col9\" >None</td>\n",
       "    </tr>\n",
       "    <tr>\n",
       "      <td id=\"T_c421f_row7_col0\" class=\"data row7 col0\" >10.000000</td>\n",
       "      <td id=\"T_c421f_row7_col1\" class=\"data row7 col1\" >4.000000</td>\n",
       "      <td id=\"T_c421f_row7_col2\" class=\"data row7 col2\" >10</td>\n",
       "      <td id=\"T_c421f_row7_col3\" class=\"data row7 col3\" >Lana Wachowski</td>\n",
       "      <td id=\"T_c421f_row7_col4\" class=\"data row7 col4\" >1965.000000</td>\n",
       "      <td id=\"T_c421f_row7_col5\" class=\"data row7 col5\" >4.000000</td>\n",
       "      <td id=\"T_c421f_row7_col6\" class=\"data row7 col6\" >The Matrix</td>\n",
       "      <td id=\"T_c421f_row7_col7\" class=\"data row7 col7\" >USA</td>\n",
       "      <td id=\"T_c421f_row7_col8\" class=\"data row7 col8\" >1999.000000</td>\n",
       "      <td id=\"T_c421f_row7_col9\" class=\"data row7 col9\" >Welcome to the Real World</td>\n",
       "    </tr>\n",
       "    <tr>\n",
       "      <td id=\"T_c421f_row8_col0\" class=\"data row8 col0\" >nan</td>\n",
       "      <td id=\"T_c421f_row8_col1\" class=\"data row8 col1\" >nan</td>\n",
       "      <td id=\"T_c421f_row8_col2\" class=\"data row8 col2\" >8</td>\n",
       "      <td id=\"T_c421f_row8_col3\" class=\"data row8 col3\" >Hugo Weaving</td>\n",
       "      <td id=\"T_c421f_row8_col4\" class=\"data row8 col4\" >1960.000000</td>\n",
       "      <td id=\"T_c421f_row8_col5\" class=\"data row8 col5\" >nan</td>\n",
       "      <td id=\"T_c421f_row8_col6\" class=\"data row8 col6\" >None</td>\n",
       "      <td id=\"T_c421f_row8_col7\" class=\"data row8 col7\" >None</td>\n",
       "      <td id=\"T_c421f_row8_col8\" class=\"data row8 col8\" >nan</td>\n",
       "      <td id=\"T_c421f_row8_col9\" class=\"data row8 col9\" >None</td>\n",
       "    </tr>\n",
       "    <tr>\n",
       "      <td id=\"T_c421f_row9_col0\" class=\"data row9 col0\" >nan</td>\n",
       "      <td id=\"T_c421f_row9_col1\" class=\"data row9 col1\" >nan</td>\n",
       "      <td id=\"T_c421f_row9_col2\" class=\"data row9 col2\" >6</td>\n",
       "      <td id=\"T_c421f_row9_col3\" class=\"data row9 col3\" >Keanu Reeves</td>\n",
       "      <td id=\"T_c421f_row9_col4\" class=\"data row9 col4\" >1964.000000</td>\n",
       "      <td id=\"T_c421f_row9_col5\" class=\"data row9 col5\" >nan</td>\n",
       "      <td id=\"T_c421f_row9_col6\" class=\"data row9 col6\" >None</td>\n",
       "      <td id=\"T_c421f_row9_col7\" class=\"data row9 col7\" >None</td>\n",
       "      <td id=\"T_c421f_row9_col8\" class=\"data row9 col8\" >nan</td>\n",
       "      <td id=\"T_c421f_row9_col9\" class=\"data row9 col9\" >None</td>\n",
       "    </tr>\n",
       "    <tr>\n",
       "      <td id=\"T_c421f_row10_col0\" class=\"data row10 col0\" >nan</td>\n",
       "      <td id=\"T_c421f_row10_col1\" class=\"data row10 col1\" >nan</td>\n",
       "      <td id=\"T_c421f_row10_col2\" class=\"data row10 col2\" >7</td>\n",
       "      <td id=\"T_c421f_row10_col3\" class=\"data row10 col3\" >Laurence Fishburne</td>\n",
       "      <td id=\"T_c421f_row10_col4\" class=\"data row10 col4\" >1960.000000</td>\n",
       "      <td id=\"T_c421f_row10_col5\" class=\"data row10 col5\" >nan</td>\n",
       "      <td id=\"T_c421f_row10_col6\" class=\"data row10 col6\" >None</td>\n",
       "      <td id=\"T_c421f_row10_col7\" class=\"data row10 col7\" >None</td>\n",
       "      <td id=\"T_c421f_row10_col8\" class=\"data row10 col8\" >nan</td>\n",
       "      <td id=\"T_c421f_row10_col9\" class=\"data row10 col9\" >None</td>\n",
       "    </tr>\n",
       "    <tr>\n",
       "      <td id=\"T_c421f_row11_col0\" class=\"data row11 col0\" >nan</td>\n",
       "      <td id=\"T_c421f_row11_col1\" class=\"data row11 col1\" >nan</td>\n",
       "      <td id=\"T_c421f_row11_col2\" class=\"data row11 col2\" >5</td>\n",
       "      <td id=\"T_c421f_row11_col3\" class=\"data row11 col3\" >Carrie-Anne Moss</td>\n",
       "      <td id=\"T_c421f_row11_col4\" class=\"data row11 col4\" >1967.000000</td>\n",
       "      <td id=\"T_c421f_row11_col5\" class=\"data row11 col5\" >nan</td>\n",
       "      <td id=\"T_c421f_row11_col6\" class=\"data row11 col6\" >None</td>\n",
       "      <td id=\"T_c421f_row11_col7\" class=\"data row11 col7\" >None</td>\n",
       "      <td id=\"T_c421f_row11_col8\" class=\"data row11 col8\" >nan</td>\n",
       "      <td id=\"T_c421f_row11_col9\" class=\"data row11 col9\" >None</td>\n",
       "    </tr>\n",
       "    <tr>\n",
       "      <td id=\"T_c421f_row12_col0\" class=\"data row12 col0\" >nan</td>\n",
       "      <td id=\"T_c421f_row12_col1\" class=\"data row12 col1\" >nan</td>\n",
       "      <td id=\"T_c421f_row12_col2\" class=\"data row12 col2\" >4</td>\n",
       "      <td id=\"T_c421f_row12_col3\" class=\"data row12 col3\" >Morgan Freeman</td>\n",
       "      <td id=\"T_c421f_row12_col4\" class=\"data row12 col4\" >nan</td>\n",
       "      <td id=\"T_c421f_row12_col5\" class=\"data row12 col5\" >nan</td>\n",
       "      <td id=\"T_c421f_row12_col6\" class=\"data row12 col6\" >None</td>\n",
       "      <td id=\"T_c421f_row12_col7\" class=\"data row12 col7\" >None</td>\n",
       "      <td id=\"T_c421f_row12_col8\" class=\"data row12 col8\" >nan</td>\n",
       "      <td id=\"T_c421f_row12_col9\" class=\"data row12 col9\" >None</td>\n",
       "    </tr>\n",
       "    <tr>\n",
       "      <td id=\"T_c421f_row13_col0\" class=\"data row13 col0\" >nan</td>\n",
       "      <td id=\"T_c421f_row13_col1\" class=\"data row13 col1\" >nan</td>\n",
       "      <td id=\"T_c421f_row13_col2\" class=\"data row13 col2\" >3</td>\n",
       "      <td id=\"T_c421f_row13_col3\" class=\"data row13 col3\" >Martin Sheen</td>\n",
       "      <td id=\"T_c421f_row13_col4\" class=\"data row13 col4\" >nan</td>\n",
       "      <td id=\"T_c421f_row13_col5\" class=\"data row13 col5\" >nan</td>\n",
       "      <td id=\"T_c421f_row13_col6\" class=\"data row13 col6\" >None</td>\n",
       "      <td id=\"T_c421f_row13_col7\" class=\"data row13 col7\" >None</td>\n",
       "      <td id=\"T_c421f_row13_col8\" class=\"data row13 col8\" >nan</td>\n",
       "      <td id=\"T_c421f_row13_col9\" class=\"data row13 col9\" >None</td>\n",
       "    </tr>\n",
       "  </tbody>\n",
       "</table>\n"
      ],
      "text/plain": [
       "<pandas.io.formats.style.Styler at 0x244f5aaf610>"
      ]
     },
     "metadata": {},
     "output_type": "display_data"
    }
   ],
   "source": [
    "actorMoviesAgg= pd.read_sql('''SELECT * FROM Direct\n",
    "                               FULL OUTER JOIN Person\n",
    "                               ON Direct.personID = Person.id\n",
    "                               FULL OUTER JOIN Movie\n",
    "                               ON Direct.movieID = Movie.id\n",
    "                               ''', con)\n",
    "display(actorMoviesAgg.style.hide_index())"
   ]
  },
  {
   "cell_type": "code",
   "execution_count": 128,
   "metadata": {},
   "outputs": [
    {
     "name": "stderr",
     "output_type": "stream",
     "text": [
      "C:\\Users\\Acer\\AppData\\Local\\Temp\\ipykernel_13724\\2447893619.py:2: UserWarning: pandas only supports SQLAlchemy connectable (engine/connection) or database string URI or sqlite3 DBAPI2 connection. Other DBAPI2 objects are not tested. Please consider using SQLAlchemy.\n",
      "  actorMoviesAgg= pd.read_sql('''SELECT name, title\n",
      "C:\\Users\\Acer\\AppData\\Local\\Temp\\ipykernel_13724\\2447893619.py:10: FutureWarning: this method is deprecated in favour of `Styler.hide(axis=\"index\")`\n",
      "  display(actorMoviesAgg.style.hide_index())\n"
     ]
    },
    {
     "data": {
      "text/html": [
       "<style type=\"text/css\">\n",
       "</style>\n",
       "<table id=\"T_3880f\">\n",
       "  <thead>\n",
       "    <tr>\n",
       "      <th id=\"T_3880f_level0_col0\" class=\"col_heading level0 col0\" >name</th>\n",
       "      <th id=\"T_3880f_level0_col1\" class=\"col_heading level0 col1\" >title</th>\n",
       "    </tr>\n",
       "  </thead>\n",
       "  <tbody>\n",
       "    <tr>\n",
       "      <td id=\"T_3880f_row0_col0\" class=\"data row0 col0\" >Charlie Sheen</td>\n",
       "      <td id=\"T_3880f_row0_col1\" class=\"data row0 col1\" >The Matrix</td>\n",
       "    </tr>\n",
       "    <tr>\n",
       "      <td id=\"T_3880f_row1_col0\" class=\"data row1 col0\" >Lana Wachowski</td>\n",
       "      <td id=\"T_3880f_row1_col1\" class=\"data row1 col1\" >The Matrix</td>\n",
       "    </tr>\n",
       "  </tbody>\n",
       "</table>\n"
      ],
      "text/plain": [
       "<pandas.io.formats.style.Styler at 0x244f6fa7f40>"
      ]
     },
     "metadata": {},
     "output_type": "display_data"
    }
   ],
   "source": [
    "### YOUR CODE HERE !!!\n",
    "actorMoviesAgg= pd.read_sql('''SELECT name, title\n",
    "                               FROM (SELECT * FROM Direct\n",
    "                               FULL OUTER JOIN Person\n",
    "                               ON Direct.personID = Person.id\n",
    "                               FULL OUTER JOIN Movie\n",
    "                               ON Direct.movieID = Movie.id) AS foo\n",
    "                               WHERE title = 'The Matrix'\n",
    "                               ''', con)\n",
    "display(actorMoviesAgg.style.hide_index())"
   ]
  },
  {
   "cell_type": "markdown",
   "metadata": {},
   "source": [
    "## Task 3 (Tartu Country Club): \n",
    "\n",
    "- The DB  centered arround a **\"country club\"**, with a set of **members**, **facilities** such as tennis courts, and booking history for those facilities. \n",
    "- Amongst other things, the club wants to understand how they can use their information to analyze facility usage/demand.\n",
    "\n",
    "<img src=\"DBSchema.JPG\">"
   ]
  },
  {
   "cell_type": "markdown",
   "metadata": {},
   "source": [
    "#### From the above schema Diagram, answer the following questions:\n",
    "- What is the relationship type(i.e. nature) between the **\"memebers\"** and **\"facilities\"** tables?"
   ]
  },
  {
   "attachments": {},
   "cell_type": "markdown",
   "metadata": {},
   "source": [
    "##### <font color='green'>Answer: </font>\n",
    "A member can book 2 or more facilities and one facility can be booked by 2 or more persons so it is many to many relationship"
   ]
  },
  {
   "cell_type": "markdown",
   "metadata": {},
   "source": [
    "- Mention How was this relationship handled ?"
   ]
  },
  {
   "attachments": {},
   "cell_type": "markdown",
   "metadata": {},
   "source": [
    "##### <font color='green'>Answer: </font>\n"
   ]
  },
  {
   "cell_type": "markdown",
   "metadata": {},
   "source": [
    "- Mention what are the keys (PRIMARY, FORIEGN,..) in all the three tables (DB schema)."
   ]
  },
  {
   "attachments": {},
   "cell_type": "markdown",
   "metadata": {},
   "source": [
    "##### <font color='green'>Answer: </font>\n",
    "members: \n",
    "memid: primary key\n",
    "recommendedby: foreign key\n",
    "bookings:\n",
    "facid: foreign key\n",
    "memid: foreign key\n",
    "facilities:\n",
    "facid: foreign key"
   ]
  },
  {
   "attachments": {},
   "cell_type": "markdown",
   "metadata": {},
   "source": [
    "- What is the Degree of each Table in the above DB schema?\n"
   ]
  },
  {
   "attachments": {},
   "cell_type": "markdown",
   "metadata": {},
   "source": [
    "##### <font color='green'>Answer: </font>\n",
    "members: 8, bookings: 4, facilities: 6"
   ]
  },
  {
   "cell_type": "markdown",
   "metadata": {},
   "source": [
    "#### Use the attached  <font color='green'> \"clubdata.sql\" </font> script to create DB , tables, and insert data in the created tables.\n",
    "- login to your postgres command line as shown above.\n",
    "- use the command in your ***PSQL SHELL***  <code>\\i 'your/path/clubdata.sql'</code> to run the script."
   ]
  },
  {
   "cell_type": "markdown",
   "metadata": {},
   "source": [
    "#### Use SQL commands using python like in this jupyter note book, or use \"PgAdmin\" to answer the following:"
   ]
  },
  {
   "cell_type": "markdown",
   "metadata": {},
   "source": [
    "#### Get a list of all of the facilities and their cost to members."
   ]
  },
  {
   "cell_type": "code",
   "execution_count": 4,
   "metadata": {},
   "outputs": [
    {
     "name": "stdout",
     "output_type": "stream",
     "text": [
      "connected again to the server, and cusor now on exercises DB !!\n"
     ]
    }
   ],
   "source": [
    "# get a new connection but this time point to the created \"tartupurchases\" DB.\n",
    "con = psycopg2.connect(user = \"postgres\",\n",
    "                       password = \"LearnDE\",\n",
    "                       host = \"127.0.0.1\",\n",
    "                       port = \"5432\",\n",
    "                       database = \"exercises\")\n",
    "\n",
    "try:\n",
    "    # Obtain a new DB Cursor (to \"tartupurchases\" DB )\n",
    "    cursor = con.cursor();\n",
    "    print(\"connected again to the server, and cusor now on exercises DB !!\")\n",
    "except (Exception, psycopg2.Error) as error:\n",
    "    print(\"Error in Connection\",error)"
   ]
  },
  {
   "cell_type": "code",
   "execution_count": 5,
   "metadata": {},
   "outputs": [],
   "source": [
    "cursor.execute(\"\"\"SELECT table_name \n",
    "                  FROM information_schema.tables \n",
    "                  WHERE table_schema = 'public'  \n",
    "               \"\"\")\n",
    "\n",
    "for table in cursor.fetchall():\n",
    "    print(table)"
   ]
  },
  {
   "cell_type": "code",
   "execution_count": 10,
   "metadata": {},
   "outputs": [
    {
     "data": {
      "text/plain": [
       "<connection object at 0x0000012C93D159C0; dsn: 'user=postgres password=xxx dbname=tartupurchases host=127.0.0.1 port=5432', closed: 0>"
      ]
     },
     "execution_count": 10,
     "metadata": {},
     "output_type": "execute_result"
    }
   ],
   "source": [
    "con"
   ]
  },
  {
   "cell_type": "code",
   "execution_count": 3,
   "metadata": {},
   "outputs": [
    {
     "ename": "NameError",
     "evalue": "name 'con' is not defined",
     "output_type": "error",
     "traceback": [
      "\u001b[1;31m---------------------------------------------------------------------------\u001b[0m",
      "\u001b[1;31mNameError\u001b[0m                                 Traceback (most recent call last)",
      "Cell \u001b[1;32mIn[3], line 3\u001b[0m\n\u001b[0;32m      1\u001b[0m \u001b[39m##YOUR QUERY HERE##\u001b[39;00m\n\u001b[0;32m      2\u001b[0m actorMoviesAgg\u001b[39m=\u001b[39m pd\u001b[39m.\u001b[39mread_sql(\u001b[39m'''\u001b[39m\u001b[39mSELECT * FROM bookings\u001b[39m\n\u001b[1;32m----> 3\u001b[0m \u001b[39m                               \u001b[39m\u001b[39m'''\u001b[39m, con)\n\u001b[0;32m      4\u001b[0m display(actorMoviesAgg\u001b[39m.\u001b[39mstyle\u001b[39m.\u001b[39mhide_index())\n",
      "\u001b[1;31mNameError\u001b[0m: name 'con' is not defined"
     ]
    }
   ],
   "source": [
    "##YOUR QUERY HERE##\n",
    "actorMoviesAgg= pd.read_sql('''SELECT * FROM bookings\n",
    "                               ''', con)\n",
    "display(actorMoviesAgg.style.hide_index())"
   ]
  },
  {
   "cell_type": "markdown",
   "metadata": {},
   "source": [
    "#### How can you produce a list of facilities that charge a fee to members (membercost>0)?"
   ]
  },
  {
   "cell_type": "code",
   "execution_count": null,
   "metadata": {},
   "outputs": [],
   "source": [
    "##YOUR QUERY HERE##"
   ]
  },
  {
   "cell_type": "markdown",
   "metadata": {},
   "source": [
    "####  How can you produce a list of all facilities with the word 'Tennis' in their name?"
   ]
  },
  {
   "cell_type": "code",
   "execution_count": null,
   "metadata": {},
   "outputs": [],
   "source": [
    "##YOUR QUERY HERE##"
   ]
  },
  {
   "cell_type": "markdown",
   "metadata": {},
   "source": [
    "#### How can you retrieve the details of facilities with ID 1 and 5? <font color=red>Try to do it without using the OR operator.</font>"
   ]
  },
  {
   "cell_type": "code",
   "execution_count": null,
   "metadata": {},
   "outputs": [],
   "source": [
    "##YOUR QUERY HERE##"
   ]
  },
  {
   "cell_type": "markdown",
   "metadata": {},
   "source": [
    "####  How can you produce a list of facilities, with each labelled as 'cheap' or 'expensive' depending on if their monthly maintenance cost is more than $100? Return the name and monthly maintenance of the facilities in question. "
   ]
  },
  {
   "cell_type": "code",
   "execution_count": null,
   "metadata": {},
   "outputs": [],
   "source": [
    "##YOUR QUERY HERE##"
   ]
  },
  {
   "cell_type": "markdown",
   "metadata": {},
   "source": [
    "####  get the signup date of your last member. How can you retrieve this information? "
   ]
  },
  {
   "cell_type": "code",
   "execution_count": null,
   "metadata": {},
   "outputs": [],
   "source": [
    "##YOUR QUERY HERE##"
   ]
  },
  {
   "cell_type": "markdown",
   "metadata": {},
   "source": [
    " #### Retrieve the start times of members' bookings\n",
    " * Get a list of the start times for bookings by members named 'David Farrell'? "
   ]
  },
  {
   "cell_type": "code",
   "execution_count": null,
   "metadata": {},
   "outputs": [],
   "source": [
    "##YOUR QUERY HERE##"
   ]
  },
  {
   "cell_type": "markdown",
   "metadata": {},
   "source": [
    "#### The club is adding a new facility - a spa. We need to add it into the facilities table. Use the following values:\n",
    "\n",
    "    facid: 9, Name: 'Spa', membercost: 20, guestcost: 30, initialoutlay: 100000, monthlymaintenance: 800."
   ]
  },
  {
   "cell_type": "code",
   "execution_count": null,
   "metadata": {},
   "outputs": [],
   "source": [
    "##YOUR QUERY HERE##"
   ]
  },
  {
   "cell_type": "markdown",
   "metadata": {},
   "source": [
    "#### We made a mistake when entering the data for the \"Spa\" facility. \n",
    "    - The \"initial outlay\" should be 20000 rather than 100000: \n",
    "    - you need to alter the data to fix the error.\n",
    "    \n"
   ]
  },
  {
   "cell_type": "code",
   "execution_count": null,
   "metadata": {},
   "outputs": [],
   "source": [
    "##YOUR QUERY HERE##"
   ]
  },
  {
   "cell_type": "markdown",
   "metadata": {},
   "source": [
    "#### List the total slots booked per facility "
   ]
  },
  {
   "cell_type": "code",
   "execution_count": null,
   "metadata": {},
   "outputs": [],
   "source": [
    "##YOUR QUERY HERE##"
   ]
  },
  {
   "cell_type": "markdown",
   "metadata": {},
   "source": [
    "####  Delete all bookings \n",
    "*  As part of a clearout of our database, we want to delete all bookings from the cd.bookings table. How can we accomplish this? "
   ]
  },
  {
   "cell_type": "code",
   "execution_count": null,
   "metadata": {},
   "outputs": [],
   "source": [
    "##YOUR QUERY HERE##"
   ]
  },
  {
   "cell_type": "markdown",
   "metadata": {},
   "source": [
    " ## How long did it take you to solve the homework?\n",
    " \n",
    "Please answer as precisely as you can. It does not affect your points or grade in any way. It is okey, if it took 0.5 hours or 24 hours. The collected information will be used to improve future homeworks."
   ]
  },
  {
   "attachments": {},
   "cell_type": "markdown",
   "metadata": {},
   "source": [
    "<font color=\"red\"><b>Answer:</b></font>\n",
    "A day"
   ]
  },
  {
   "cell_type": "markdown",
   "metadata": {},
   "source": [
    "**<center> <font color='red'>THANK YOU FOR YOUR EFFORT!</font></center>**"
   ]
  }
 ],
 "metadata": {
  "kernelspec": {
   "display_name": "Python 3 (ipykernel)",
   "language": "python",
   "name": "python3"
  },
  "language_info": {
   "codemirror_mode": {
    "name": "ipython",
    "version": 3
   },
   "file_extension": ".py",
   "mimetype": "text/x-python",
   "name": "python",
   "nbconvert_exporter": "python",
   "pygments_lexer": "ipython3",
   "version": "3.10.9"
  }
 },
 "nbformat": 4,
 "nbformat_minor": 2
}
