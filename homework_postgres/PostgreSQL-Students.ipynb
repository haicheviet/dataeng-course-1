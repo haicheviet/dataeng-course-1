{
 "cells": [
  {
   "cell_type": "markdown",
   "metadata": {},
   "source": [
    "# Week 1: Relational Models & PostgreSQL\n",
    "### Student ID: 20520984\n",
    "### Subtasks Done: [#,#,..]"
   ]
  },
  {
   "cell_type": "markdown",
   "metadata": {},
   "source": [
    "## Lab Goals:\n",
    "   1. Get familiar with the relational DBs.\n",
    "   2. Get familiar with the relational SQL query language.\n",
    "   2. Get familiar with postgreSQL as one of the most popular RDBMSs.\n",
    "  \n",
    "\n",
    "## Lab Tasks:\n",
    "   0. Get familiar with Python and Jupyter Notebook.\n",
    "   1. First Steps of SQL (DDL [Create DB, CREATE TABLES], DQL [SELECTIONS, PROJECTIONS, FIRLTREING, ORDERING, Different Types of JOINS,..etc], and Some DML operations [INSERTIONS, UPDATES, and DELETIONS])\n",
    "   2. Create a simple Relational Database Model (MovieDB).\n",
    "   3. More Query exercises with a DB ready for you, (just by running a SQL script).\n",
    "   "
   ]
  },
  {
   "cell_type": "markdown",
   "metadata": {},
   "source": [
    "# Task 0: Python & Jupyter Notebook & Pandas tutorial video\n",
    "\n",
    "##### - First for Students who are not familiar with <font color='red'>Python</font>, I recommend this python full course https://www.youtube.com/watch?v=_uQrJ0TkZlc \n",
    "\n",
    "##### - Second, please watch the following video <font color='red'>\"Jupyter Notebook Tutorial\"</font> and answer the question below. Please answer the questions by writing your answer next to the red \"Answer \" label (the same for the other questions throught the NoteBook). Also, we recommend you to follow the examples in the video and try it out by yourself."
   ]
  },
  {
   "cell_type": "code",
   "execution_count": 2,
   "metadata": {},
   "outputs": [
    {
     "data": {
      "text/html": [
       "<center><iframe width=\"600\" height=\"315\" src=\"https://www.youtube.com/embed/HW29067qVWk\" frameborder=\"0\" allowfullscreen></iframe>\n"
      ],
      "text/plain": [
       "<IPython.core.display.HTML object>"
      ]
     },
     "metadata": {},
     "output_type": "display_data"
    }
   ],
   "source": [
    "%%HTML \n",
    "<center><iframe width=\"600\" height=\"315\" src=\"https://www.youtube.com/embed/HW29067qVWk\" frameborder=\"0\" allowfullscreen></iframe>"
   ]
  },
  {
   "cell_type": "markdown",
   "metadata": {},
   "source": [
    " #### What are the advantages of using jupyter notebook?"
   ]
  },
  {
   "cell_type": "markdown",
   "metadata": {},
   "source": [
    "<font color = \"red\"><b>Answer:</b></font>"
   ]
  },
  {
   "cell_type": "markdown",
   "metadata": {},
   "source": [
    "##### - Last but not least, Python Pandas \n",
    "\n",
    "pandas is a fast, powerful, flexible and easy to use open source data analysis and manipulation tool, built on top of the Python programming language.\n",
    "\n",
    "- To get familiar with Pandas library you can follow this tutourial:\n",
    "    - https://www.youtube.com/watch?v=vmEHCJofslg&feature=emb_rel_pause\n",
    "- You can also use the follwing cheat-sheet link of pandas:\n",
    "    - https://pandas.pydata.org/Pandas_Cheat_Sheet.pdf\n"
   ]
  },
  {
   "cell_type": "markdown",
   "metadata": {},
   "source": [
    "# Introduction:\n",
    "\n",
    "### Relational DB Structure \n",
    "- A relational database consists of a collection of tables, each having a unique name.\n",
    "- A row in a table represents a relationship among a set of values.\n",
    "- Thus a table represents a collection of relationships. \n",
    "<img src =\"https://raw.githubusercontent.com/DataSystemsGroupUT/dataeng/dataeng/attachments/attrer2.png\" width =\"550\" height=\"150\">\n",
    "\n",
    "\n",
    "###  Structured Query Language (SQL)\n",
    "\n",
    "<a href='https://en.wikipedia.org/wiki/SQL'>SQL </a> is used to communicate with a database. SQL is the standard language for relational database management systems. SQL statements are used to perform tasks such as update data on a database, or retrieve data from a database. \n",
    "\n",
    "Some common relational database management systems that use SQL are: Oracle, Sybase, Microsoft SQL Server, Access, Ingres. However, the standard SQL commands such as \"Select\", \"Insert\", \"Update\", \"Delete\", \"Create\", and \"Drop\" can be used to accomplish almost everything that one needs to do with a database. This tutorial will provide you with the instruction on the basics of each of these commands as well as allow you to put them to practice using the SQL Interpreter.\n",
    "\n",
    "- First Steps with SQL can be followed from this <a href='https://www.sqltutorial.org/sql-cheat-sheet/'>link </a>.\n",
    "\n",
    "\n",
    "### PostgreSQL:\n",
    "   <a href=\"https://www.postgresql.org/\">PostgreSQL</a> is a powerful, open source object-relational database system with over 30 years of active development that has earned it a strong reputation for reliability, feature robustness, and performance. (<b>According to official website of PostgreSQL Database</b>)<br/>\n",
    "   \n",
    "- PostgreSQL offecial documentation (https://www.postgresql.org/docs/9.3/index.html)\n",
    "    - pdf version of last release(https://www.postgresql.org/files/documentation/pdf/12/postgresql-12-A4.pdf)\n",
    "\n",
    "<img src=\"https://www.postgresql.org/media/img/about/press/elephant.png\" width =\"100\" height=\"75\">\n",
    "\n"
   ]
  },
  {
   "cell_type": "markdown",
   "metadata": {},
   "source": [
    "# PreLab\n",
    "\n",
    "### Installations:\n",
    "\n",
    "#### 1. Install PostgreSQL on Windows\n",
    "- Download and Install PostgreSQL for all platforms (https://www.enterprisedb.com/downloads/postgres-postgresql-downloads) \n",
    "- Follow this tutourial (https://www.postgresqltutorial.com/install-postgresql/) for more details (Windows installation).\n",
    "\n",
    "#### or if you want to install it on linux\n",
    "- Follow this tutourial (https://www.postgresqltutorial.com/install-postgresql-linux/)\n",
    "\n",
    "\n",
    "#### 2. Install the Python Package to connecto to PostgreSQL \"<a href='https://www.psycopg.org/docs/usage.html'>psycopg2 </a>\"\n",
    "- use th command ```pip install psycopg2``` in your command line.\n",
    "\n",
    "\n",
    "#### (Good to Know) \n",
    "##### Accessing PostgreSQL from Command Line:\n",
    "- Add the PostgreSQL  installation \"/home\" and \"/bin\" directories to the enviroment variables.\n",
    "- use the command ```psql -U postgres postgres``` to connect to the the by-default created database \"postgres\" with the user \"postgres\".\n",
    "- Enter your set \"postgres\" password (i.e password of the default password that you have been asked at the time of installtion).\n",
    "\n",
    "##### Connect To a PostgreSQL Database Server\n",
    "- show you how to connect to the PostgreSQL using psql tool and pgAdmin 4 GUI tool.\n",
    "\n"
   ]
  },
  {
   "cell_type": "markdown",
   "metadata": {},
   "source": [
    "#### Run the following command to install ***psycopg*** like any other Python package."
   ]
  },
  {
   "cell_type": "code",
   "execution_count": 3,
   "metadata": {},
   "outputs": [
    {
     "name": "stdout",
     "output_type": "stream",
     "text": [
      "Requirement already satisfied: psycopg2-binary in ./lib/python3.10/site-packages (2.9.5)\r\n"
     ]
    }
   ],
   "source": [
    "! pip install psycopg2-binary"
   ]
  },
  {
   "cell_type": "markdown",
   "metadata": {},
   "source": [
    "### <font color='purple'>Please make sure that you have all the following packages installed: </font>\n",
    "\n",
    "#### Run the following for importing packages that we will need throught this NB!"
   ]
  },
  {
   "cell_type": "code",
   "execution_count": 4,
   "metadata": {},
   "outputs": [],
   "source": [
    "import psycopg2  #import of the psycopg2 python library\n",
    "import pandas as pd #import of the pandas python library\n",
    "import pandas.io.sql as psql\n",
    "\n",
    "##No transaction is started when commands are executed and no commit() or rollback() is required. \n",
    "from psycopg2.extensions import ISOLATION_LEVEL_AUTOCOMMIT"
   ]
  },
  {
   "cell_type": "markdown",
   "metadata": {},
   "source": [
    "# Task 1: Your First Steps in PostgreSQL"
   ]
  },
  {
   "cell_type": "markdown",
   "metadata": {},
   "source": [
    "### Create a simple RDB (TartuPurchases)\n",
    "- The following DB Model shows an ER diagram of mock, toy DB of two tables with one relationship.\n",
    "- In particular:\n",
    "    - The \"Customer\" Table with attributes (<ins>id</ins>, name, country, email), <font color='red'>Note</font> that underline here means id is the primary_key of the \"customer\" table.\n",
    "    - The \"Order\" table with attributes (<ins>id</ins>, product)\n",
    "    - a (***One-many*** )relationship \"makes\" which relates the two tables (Customer can make several/many Orders, and Order is made by only one Customer).\n",
    "    - One-to- many relationship is handled as follows in the RDBs: (Use a foreign_key on the many side of the relationship linking back to the \"one\" side)\n",
    "    - Therefore, we add the primary key of the one side (Customer) Table as a foreign_key in the many side (Order) table.\n",
    "    - Thus the Order table becomes as follows Order(id,customer_id,product) id is the primary_key and customer_id is a forien_key which references to the id primary_key in the Customer table."
   ]
  },
  {
   "cell_type": "markdown",
   "metadata": {},
   "source": [
    "#### The relational Layout: \n",
    "##### Customer(ID, Name)   --Makes--> ORDER(ID, Customer_ID,Product)\n",
    "<img src='tartupurchasesDB.png'>"
   ]
  },
  {
   "cell_type": "markdown",
   "metadata": {},
   "source": [
    "#### Connecting to the PostgreSQL Server"
   ]
  },
  {
   "cell_type": "code",
   "execution_count": 5,
   "metadata": {},
   "outputs": [
    {
     "name": "stdout",
     "output_type": "stream",
     "text": [
      "Connected Successfully to PostgreSQL server!!\n"
     ]
    }
   ],
   "source": [
    "try:\n",
    "    # Connect to the postgreSQL server with username, and password credentials\n",
    "    con = psycopg2.connect(user = \"pguser\",\n",
    "                                  password = \"changeme\",\n",
    "                                  host = \"127.0.0.1\",\n",
    "                                  port = \"5432\")\n",
    "    \n",
    "    con.set_isolation_level(ISOLATION_LEVEL_AUTOCOMMIT);\n",
    "    print(\"Connected Successfully to PostgreSQL server!!\")\n",
    "    \n",
    "    # Obtain a DB Cursor to perform database operations\n",
    "    cursor = con.cursor();\n",
    "except (Exception, psycopg2.Error) as error :\n",
    "     print (\"Error while connecting to PostgreSQL\", error)\n"
   ]
  },
  {
   "cell_type": "markdown",
   "metadata": {},
   "source": [
    "#### Create the \"TarturPurchases\" DB and close connection to the Server"
   ]
  },
  {
   "cell_type": "code",
   "execution_count": 6,
   "metadata": {},
   "outputs": [
    {
     "name": "stdout",
     "output_type": "stream",
     "text": [
      "Error While Creating the DB:  database \"tartupurchases\" already exists\n",
      "\n"
     ]
    }
   ],
   "source": [
    "#DB_name variable    \n",
    "name_Database   = \"TartuPurchases\";\n",
    "\n",
    "# Create DB statement\n",
    "sqlCreateDatabase = \"CREATE DATABASE \"+name_Database+\";\"\n",
    "\n",
    "try:\n",
    "    # Execute a SQL command: this creates a new DB\n",
    "    cursor.execute(sqlCreateDatabase);\n",
    "    print(\"Database '\"+name_Database+\"' Created Successfully!\")\n",
    "except (Exception, psycopg2.Error) as error :\n",
    "    print(\"Error While Creating the DB: \",error)\n",
    "    \n",
    "finally:\n",
    "    # Close communication with the database\n",
    "    cursor.close() #to close the cusrsor\n",
    "    con.close() #to close the connection/ we will open a new connection to the created DB"
   ]
  },
  {
   "cell_type": "markdown",
   "metadata": {},
   "source": [
    "#### Getting some details about the connection"
   ]
  },
  {
   "cell_type": "code",
   "execution_count": 7,
   "metadata": {},
   "outputs": [
    {
     "data": {
      "text/plain": [
       "<connection object at 0x7f7778c16980; dsn: 'user=pguser password=xxx host=127.0.0.1 port=5432', closed: 1>"
      ]
     },
     "execution_count": 7,
     "metadata": {},
     "output_type": "execute_result"
    }
   ],
   "source": [
    "con"
   ]
  },
  {
   "cell_type": "markdown",
   "metadata": {},
   "source": [
    "#### You can also use the command <code>\\conninfo</code> in the PSQL Shell to show the conection details\n",
    "- To get more familiar with PSQL SHELL commands, You can follow this link (https://www.postgresql.org/docs/current/app-psql.html)\n",
    "\n",
    "\n",
    "#### Upload your PSQL Shell Command Result of this command here as an a screenshot "
   ]
  },
  {
   "cell_type": "markdown",
   "metadata": {},
   "source": [
    "##### <font color='red'>Image Here:</font>"
   ]
  },
  {
   "cell_type": "markdown",
   "metadata": {},
   "source": [
    "#### Get/open  a new connection, but this time pointed to the created \"tartupurchases\" DB."
   ]
  },
  {
   "cell_type": "code",
   "execution_count": 8,
   "metadata": {},
   "outputs": [
    {
     "name": "stdout",
     "output_type": "stream",
     "text": [
      "connected again to the server, and cusor now on tartupurchases DB !!\n"
     ]
    }
   ],
   "source": [
    "# get a new connection but this time point to the created \"tartupurchases\" DB.\n",
    "con = psycopg2.connect(user = \"pguser\",\n",
    "                       password = \"changeme\",\n",
    "                       host = \"127.0.0.1\",\n",
    "                       port = \"5432\",\n",
    "                       database = \"tartupurchases\")\n",
    "\n",
    "try:\n",
    "    # Obtain a new DB Cursor (to \"tartupurchases\" DB )\n",
    "    cursor = con.cursor();\n",
    "    print(\"connected again to the server, and cusor now on tartupurchases DB !!\")\n",
    "except (Exception, psycopg2.Error) as error:\n",
    "    print(\"Error in Connection\",error)"
   ]
  },
  {
   "cell_type": "markdown",
   "metadata": {},
   "source": [
    "#### Creating Our First Table (\"Customer\")"
   ]
  },
  {
   "cell_type": "code",
   "execution_count": 9,
   "metadata": {},
   "outputs": [
    {
     "name": "stdout",
     "output_type": "stream",
     "text": [
      "Error While Creating the DB:  relation \"customer\" already exists\n",
      "\n"
     ]
    }
   ],
   "source": [
    "#Create \"Customer\" Table\n",
    "\n",
    "try:\n",
    "    #table_name variable\n",
    "    customerTable=\"customer\"\n",
    "    create_customerTablee_query = '''CREATE TABLE '''+ customerTable+''' \n",
    "              (id INT  PRIMARY KEY     NOT NULL,\n",
    "               name           TEXT    NOT NULL,\n",
    "               country        TEXT    NOT NULL,\n",
    "               email          TEXT   \n",
    "               ); '''\n",
    "\n",
    "    #Execute this command (SQL Query)\n",
    "    cursor.execute(create_customerTablee_query)\n",
    "    \n",
    "    # Make the changes to the database persistent\n",
    "    con.commit()\n",
    "    print(\"Table (\"+ customerTable +\") created successfully in PostgreSQL \")\n",
    "except (Exception, psycopg2.Error) as error:\n",
    "    # if it exits with an exception the transaction is rolled back.\n",
    "    con.rollback()\n",
    "    print(\"Error While Creating the DB: \",error)\n"
   ]
  },
  {
   "cell_type": "markdown",
   "metadata": {},
   "source": [
    "##### Make sure the table is created "
   ]
  },
  {
   "cell_type": "code",
   "execution_count": 10,
   "metadata": {},
   "outputs": [
    {
     "name": "stdout",
     "output_type": "stream",
     "text": [
      "('customer',)\n",
      "('order',)\n"
     ]
    }
   ],
   "source": [
    "# [information_schema.tables] keep listing of every table being managed by Postgres for a particular database.\n",
    "# specifying the tabel_schema to 'public' to only list tables that you create.\n",
    "cursor.execute(\"\"\"SELECT table_name \n",
    "                  FROM information_schema.tables \n",
    "                  WHERE table_schema = 'public'  \n",
    "               \"\"\")\n",
    "\n",
    "for table in cursor.fetchall():\n",
    "    print(table)"
   ]
  },
  {
   "cell_type": "markdown",
   "metadata": {},
   "source": [
    "#### You can also just check this from the <font color='red'>PSQL Shell</font> :\n",
    "- Use the command  <code>\\c  tartupurchases</code> to connect/swtich to the \"pruchases\" DB. \n",
    "- Use the command <code>\\dt</code> to show the tables inside the current DB (\"purchases\")."
   ]
  },
  {
   "cell_type": "markdown",
   "metadata": {},
   "source": [
    "- To get more familiar with PSQL SHELL commands, You can follow this link (https://www.postgresql.org/docs/current/app-psql.html)"
   ]
  },
  {
   "cell_type": "markdown",
   "metadata": {},
   "source": [
    "#### Upload your PSQL Shell Command Result of the created tables here as an a screenshot "
   ]
  },
  {
   "cell_type": "markdown",
   "metadata": {},
   "source": [
    "##### <font color='red'>Image Here:</font>"
   ]
  },
  {
   "cell_type": "markdown",
   "metadata": {},
   "source": [
    "#### Show the details(description of the created table \"customer\")\n",
    "- use the command <code>\\d customer</code>"
   ]
  },
  {
   "cell_type": "markdown",
   "metadata": {},
   "source": [
    "#### Upload your PSQL Shell Command Result of the decription of the customer table here:"
   ]
  },
  {
   "cell_type": "markdown",
   "metadata": {},
   "source": [
    "##### <font color='red'>Image Here:</font>"
   ]
  },
  {
   "cell_type": "markdown",
   "metadata": {},
   "source": [
    "### (Let's Load some data to the table) Inserting Multiple Rows to the Table"
   ]
  },
  {
   "cell_type": "code",
   "execution_count": 11,
   "metadata": {},
   "outputs": [
    {
     "name": "stdout",
     "output_type": "stream",
     "text": [
      "Error while Inserting the data to the table, Details:  duplicate key value violates unique constraint \"customer_pkey\"\n",
      "DETAIL:  Key (id)=(1) already exists.\n",
      "\n"
     ]
    }
   ],
   "source": [
    "sql_insert_customers = \"INSERT INTO customer (id,name,country,email) VALUES(%s,%s,%s,%s)\"\n",
    "\n",
    "#list of customers (With Their attributes values)\n",
    "#None here means value will be missing in the table\n",
    "customer_List=[\n",
    "            (1, \"Mohamed Ragab\", \"Egypt\", \"mohamed.ragb@ut.ee\"),\n",
    "            (2,\"John Smith\", \"Finland\",\"j.smith@hotmail.com\"),\n",
    "            (3,\"Aisha Kareem\",\"India\",None),\n",
    "            (4,\"Jean Lime\",\"Canda\",\"jeanlime@gmail.com\"),\n",
    "            (5,\"Hassan Eldeeb\",\"Egypt\",None)]\n",
    "\n",
    "try:\n",
    "    # execute the INSERT statement\n",
    "    cursor.executemany(sql_insert_customers,customer_List)\n",
    "    # commit the changes to the database\n",
    "    con.commit()\n",
    "    #the number of inserted rows/tuples\n",
    "    count = cursor.rowcount\n",
    "    print (count, \"Record inserted successfully into customers table\")\n",
    "\n",
    "except (Exception, psycopg2.Error) as error :\n",
    "    con.rollback()\n",
    "    print (\"Error while Inserting the data to the table, Details: \",error)"
   ]
  },
  {
   "cell_type": "markdown",
   "metadata": {},
   "source": [
    "## Mock Data Generation\n",
    "- If you want to generate more mock data, you can use this website (***\"Mockaroo\"***) (https://www.mockaroo.com/).\n",
    "- \"Mockaroo\" lets you generate up to 1,000 rows of realistic test data in CSV, JSON, SQL, and Excel formats.\n",
    "<img src='https://www.qlikfix.com/wp-content/uploads/2014/03/Mockaroo.png'>"
   ]
  },
  {
   "cell_type": "markdown",
   "metadata": {},
   "source": [
    "## Querying Table Data"
   ]
  },
  {
   "cell_type": "markdown",
   "metadata": {},
   "source": [
    "#### Get all the Customers in the DB"
   ]
  },
  {
   "cell_type": "code",
   "execution_count": 12,
   "metadata": {},
   "outputs": [
    {
     "name": "stdout",
     "output_type": "stream",
     "text": [
      "Print each row and it's columns values:\n",
      "\n",
      "Id =  1\n",
      "Name =  Mohamed Ragab\n",
      "Country =  Egypt\n",
      "Email =  mohamed.ragb@ut.ee \n",
      "\n",
      "Id =  2\n",
      "Name =  John Smith\n",
      "Country =  Finland\n",
      "Email =  j.smith@hotmail.com \n",
      "\n",
      "Id =  3\n",
      "Name =  Aisha Kareem\n",
      "Country =  India\n",
      "Email =  None \n",
      "\n",
      "Id =  4\n",
      "Name =  Jean Lime\n",
      "Country =  Canda\n",
      "Email =  jeanlime@gmail.com \n",
      "\n",
      "Id =  5\n",
      "Name =  Hassan Eldeeb\n",
      "Country =  Egypt\n",
      "Email =  None \n",
      "\n"
     ]
    }
   ],
   "source": [
    "sql_select_query = \"\"\"SELECT *\n",
    "                      FROM customer\n",
    "                   \"\"\"\n",
    "\n",
    "try:\n",
    "    \n",
    "    cursor.execute(sql_select_query, (1,))\n",
    "    person_records = cursor.fetchall() \n",
    "    print(\"Print each row and it's columns values:\\n\")\n",
    "    for row in person_records:\n",
    "        print(\"Id = \", row[0], )\n",
    "        print(\"Name = \", row[1], )\n",
    "        print(\"Country = \", row[2], )\n",
    "        print(\"Email = \", row[3], \"\\n\")\n",
    "except(Exception, psycopg2.Error) as error :\n",
    "    con.rollback()\n",
    "    print(\"Error:\", error)"
   ]
  },
  {
   "cell_type": "markdown",
   "metadata": {},
   "source": [
    "#### Notes about the Rows Fetching (Retrieval) From tables in PostgreSQL: \n",
    "- In the above example, we used **cursor.fetchall()** to get all the rows of a database table.\n",
    "    -    **cursor.fetchall()** to fetch all rows.\n",
    "    -    **cursor.fetchone()** to fetch single row.\n",
    "    -    **cursor.fetchmany(SIZE)** to fetch limited rows."
   ]
  },
  {
   "cell_type": "markdown",
   "metadata": {},
   "source": [
    "#### You can use \"Pandas\" library to print the result in tabular format"
   ]
  },
  {
   "cell_type": "code",
   "execution_count": 13,
   "metadata": {},
   "outputs": [
    {
     "name": "stderr",
     "output_type": "stream",
     "text": [
      "/tmp/ipykernel_4732/3275961086.py:3: UserWarning: pandas only supports SQLAlchemy connectable (engine/connection) or database string URI or sqlite3 DBAPI2 connection. Other DBAPI2 objects are not tested. Please consider using SQLAlchemy.\n",
      "  my_table = pd.read_sql('SELECT * FROM Customer ', con)\n",
      "/tmp/ipykernel_4732/3275961086.py:4: FutureWarning: this method is deprecated in favour of `Styler.hide(axis=\"index\")`\n",
      "  display(my_table.style.hide_index())\n"
     ]
    },
    {
     "data": {
      "text/html": [
       "<style type=\"text/css\">\n",
       "</style>\n",
       "<table id=\"T_0e0f4\">\n",
       "  <thead>\n",
       "    <tr>\n",
       "      <th id=\"T_0e0f4_level0_col0\" class=\"col_heading level0 col0\" >id</th>\n",
       "      <th id=\"T_0e0f4_level0_col1\" class=\"col_heading level0 col1\" >name</th>\n",
       "      <th id=\"T_0e0f4_level0_col2\" class=\"col_heading level0 col2\" >country</th>\n",
       "      <th id=\"T_0e0f4_level0_col3\" class=\"col_heading level0 col3\" >email</th>\n",
       "    </tr>\n",
       "  </thead>\n",
       "  <tbody>\n",
       "    <tr>\n",
       "      <td id=\"T_0e0f4_row0_col0\" class=\"data row0 col0\" >1</td>\n",
       "      <td id=\"T_0e0f4_row0_col1\" class=\"data row0 col1\" >Mohamed Ragab</td>\n",
       "      <td id=\"T_0e0f4_row0_col2\" class=\"data row0 col2\" >Egypt</td>\n",
       "      <td id=\"T_0e0f4_row0_col3\" class=\"data row0 col3\" >mohamed.ragb@ut.ee</td>\n",
       "    </tr>\n",
       "    <tr>\n",
       "      <td id=\"T_0e0f4_row1_col0\" class=\"data row1 col0\" >2</td>\n",
       "      <td id=\"T_0e0f4_row1_col1\" class=\"data row1 col1\" >John Smith</td>\n",
       "      <td id=\"T_0e0f4_row1_col2\" class=\"data row1 col2\" >Finland</td>\n",
       "      <td id=\"T_0e0f4_row1_col3\" class=\"data row1 col3\" >j.smith@hotmail.com</td>\n",
       "    </tr>\n",
       "    <tr>\n",
       "      <td id=\"T_0e0f4_row2_col0\" class=\"data row2 col0\" >3</td>\n",
       "      <td id=\"T_0e0f4_row2_col1\" class=\"data row2 col1\" >Aisha Kareem</td>\n",
       "      <td id=\"T_0e0f4_row2_col2\" class=\"data row2 col2\" >India</td>\n",
       "      <td id=\"T_0e0f4_row2_col3\" class=\"data row2 col3\" >None</td>\n",
       "    </tr>\n",
       "    <tr>\n",
       "      <td id=\"T_0e0f4_row3_col0\" class=\"data row3 col0\" >4</td>\n",
       "      <td id=\"T_0e0f4_row3_col1\" class=\"data row3 col1\" >Jean Lime</td>\n",
       "      <td id=\"T_0e0f4_row3_col2\" class=\"data row3 col2\" >Canda</td>\n",
       "      <td id=\"T_0e0f4_row3_col3\" class=\"data row3 col3\" >jeanlime@gmail.com</td>\n",
       "    </tr>\n",
       "    <tr>\n",
       "      <td id=\"T_0e0f4_row4_col0\" class=\"data row4 col0\" >5</td>\n",
       "      <td id=\"T_0e0f4_row4_col1\" class=\"data row4 col1\" >Hassan Eldeeb</td>\n",
       "      <td id=\"T_0e0f4_row4_col2\" class=\"data row4 col2\" >Egypt</td>\n",
       "      <td id=\"T_0e0f4_row4_col3\" class=\"data row4 col3\" >None</td>\n",
       "    </tr>\n",
       "  </tbody>\n",
       "</table>\n"
      ],
      "text/plain": [
       "<pandas.io.formats.style.Styler at 0x7f77787b0af0>"
      ]
     },
     "metadata": {},
     "output_type": "display_data"
    }
   ],
   "source": [
    "#use Pandas to print the result in tabular form\n",
    "# Don't RUN before you put your SQL Query\n",
    "my_table = pd.read_sql('SELECT * FROM Customer ', con)\n",
    "display(my_table.style.hide_index())"
   ]
  },
  {
   "cell_type": "code",
   "execution_count": 14,
   "metadata": {},
   "outputs": [
    {
     "name": "stderr",
     "output_type": "stream",
     "text": [
      "/tmp/ipykernel_4732/2727120895.py:3: UserWarning: pandas only supports SQLAlchemy connectable (engine/connection) or database string URI or sqlite3 DBAPI2 connection. Other DBAPI2 objects are not tested. Please consider using SQLAlchemy.\n",
      "  another_attempt= psql.read_sql(\" SELECT * FROM Customer \", con)\n",
      "/tmp/ipykernel_4732/2727120895.py:4: FutureWarning: this method is deprecated in favour of `Styler.hide(axis=\"index\")`\n",
      "  display(another_attempt.style.hide_index())\n"
     ]
    },
    {
     "data": {
      "text/html": [
       "<style type=\"text/css\">\n",
       "</style>\n",
       "<table id=\"T_9219c\">\n",
       "  <thead>\n",
       "    <tr>\n",
       "      <th id=\"T_9219c_level0_col0\" class=\"col_heading level0 col0\" >id</th>\n",
       "      <th id=\"T_9219c_level0_col1\" class=\"col_heading level0 col1\" >name</th>\n",
       "      <th id=\"T_9219c_level0_col2\" class=\"col_heading level0 col2\" >country</th>\n",
       "      <th id=\"T_9219c_level0_col3\" class=\"col_heading level0 col3\" >email</th>\n",
       "    </tr>\n",
       "  </thead>\n",
       "  <tbody>\n",
       "    <tr>\n",
       "      <td id=\"T_9219c_row0_col0\" class=\"data row0 col0\" >1</td>\n",
       "      <td id=\"T_9219c_row0_col1\" class=\"data row0 col1\" >Mohamed Ragab</td>\n",
       "      <td id=\"T_9219c_row0_col2\" class=\"data row0 col2\" >Egypt</td>\n",
       "      <td id=\"T_9219c_row0_col3\" class=\"data row0 col3\" >mohamed.ragb@ut.ee</td>\n",
       "    </tr>\n",
       "    <tr>\n",
       "      <td id=\"T_9219c_row1_col0\" class=\"data row1 col0\" >2</td>\n",
       "      <td id=\"T_9219c_row1_col1\" class=\"data row1 col1\" >John Smith</td>\n",
       "      <td id=\"T_9219c_row1_col2\" class=\"data row1 col2\" >Finland</td>\n",
       "      <td id=\"T_9219c_row1_col3\" class=\"data row1 col3\" >j.smith@hotmail.com</td>\n",
       "    </tr>\n",
       "    <tr>\n",
       "      <td id=\"T_9219c_row2_col0\" class=\"data row2 col0\" >3</td>\n",
       "      <td id=\"T_9219c_row2_col1\" class=\"data row2 col1\" >Aisha Kareem</td>\n",
       "      <td id=\"T_9219c_row2_col2\" class=\"data row2 col2\" >India</td>\n",
       "      <td id=\"T_9219c_row2_col3\" class=\"data row2 col3\" >None</td>\n",
       "    </tr>\n",
       "    <tr>\n",
       "      <td id=\"T_9219c_row3_col0\" class=\"data row3 col0\" >4</td>\n",
       "      <td id=\"T_9219c_row3_col1\" class=\"data row3 col1\" >Jean Lime</td>\n",
       "      <td id=\"T_9219c_row3_col2\" class=\"data row3 col2\" >Canda</td>\n",
       "      <td id=\"T_9219c_row3_col3\" class=\"data row3 col3\" >jeanlime@gmail.com</td>\n",
       "    </tr>\n",
       "    <tr>\n",
       "      <td id=\"T_9219c_row4_col0\" class=\"data row4 col0\" >5</td>\n",
       "      <td id=\"T_9219c_row4_col1\" class=\"data row4 col1\" >Hassan Eldeeb</td>\n",
       "      <td id=\"T_9219c_row4_col2\" class=\"data row4 col2\" >Egypt</td>\n",
       "      <td id=\"T_9219c_row4_col3\" class=\"data row4 col3\" >None</td>\n",
       "    </tr>\n",
       "  </tbody>\n",
       "</table>\n"
      ],
      "text/plain": [
       "<pandas.io.formats.style.Styler at 0x7f77787b05b0>"
      ]
     },
     "metadata": {},
     "output_type": "display_data"
    }
   ],
   "source": [
    "#OR using this code\n",
    "# Don't RUN before you put your SQL Query\n",
    "another_attempt= psql.read_sql(\" SELECT * FROM Customer \", con)\n",
    "display(another_attempt.style.hide_index())"
   ]
  },
  {
   "cell_type": "markdown",
   "metadata": {},
   "source": [
    "#### Get only the <font color='red'>names</font>  and <font color='red'>countries</font> of all the Customers in the DB [Projection]"
   ]
  },
  {
   "cell_type": "code",
   "execution_count": 15,
   "metadata": {},
   "outputs": [
    {
     "name": "stderr",
     "output_type": "stream",
     "text": [
      "/tmp/ipykernel_4732/2974433837.py:4: UserWarning: pandas only supports SQLAlchemy connectable (engine/connection) or database string URI or sqlite3 DBAPI2 connection. Other DBAPI2 objects are not tested. Please consider using SQLAlchemy.\n",
      "  projected_DF= psql.read_sql(sql_project_query, con)\n",
      "/tmp/ipykernel_4732/2974433837.py:5: FutureWarning: this method is deprecated in favour of `Styler.hide(axis=\"index\")`\n",
      "  display(projected_DF.style.hide_index())\n"
     ]
    },
    {
     "data": {
      "text/html": [
       "<style type=\"text/css\">\n",
       "</style>\n",
       "<table id=\"T_1b784\">\n",
       "  <thead>\n",
       "    <tr>\n",
       "      <th id=\"T_1b784_level0_col0\" class=\"col_heading level0 col0\" >name</th>\n",
       "      <th id=\"T_1b784_level0_col1\" class=\"col_heading level0 col1\" >country</th>\n",
       "    </tr>\n",
       "  </thead>\n",
       "  <tbody>\n",
       "    <tr>\n",
       "      <td id=\"T_1b784_row0_col0\" class=\"data row0 col0\" >Mohamed Ragab</td>\n",
       "      <td id=\"T_1b784_row0_col1\" class=\"data row0 col1\" >Egypt</td>\n",
       "    </tr>\n",
       "    <tr>\n",
       "      <td id=\"T_1b784_row1_col0\" class=\"data row1 col0\" >John Smith</td>\n",
       "      <td id=\"T_1b784_row1_col1\" class=\"data row1 col1\" >Finland</td>\n",
       "    </tr>\n",
       "    <tr>\n",
       "      <td id=\"T_1b784_row2_col0\" class=\"data row2 col0\" >Aisha Kareem</td>\n",
       "      <td id=\"T_1b784_row2_col1\" class=\"data row2 col1\" >India</td>\n",
       "    </tr>\n",
       "    <tr>\n",
       "      <td id=\"T_1b784_row3_col0\" class=\"data row3 col0\" >Jean Lime</td>\n",
       "      <td id=\"T_1b784_row3_col1\" class=\"data row3 col1\" >Canda</td>\n",
       "    </tr>\n",
       "    <tr>\n",
       "      <td id=\"T_1b784_row4_col0\" class=\"data row4 col0\" >Hassan Eldeeb</td>\n",
       "      <td id=\"T_1b784_row4_col1\" class=\"data row4 col1\" >Egypt</td>\n",
       "    </tr>\n",
       "  </tbody>\n",
       "</table>\n"
      ],
      "text/plain": [
       "<pandas.io.formats.style.Styler at 0x7f7777e96890>"
      ]
     },
     "metadata": {},
     "output_type": "display_data"
    }
   ],
   "source": [
    "# Don't RUN before you put your SQL Query\n",
    "sql_project_query = \"\"\" SELECT name, country FROM customer\"\"\"\n",
    "\n",
    "projected_DF= psql.read_sql(sql_project_query, con)\n",
    "display(projected_DF.style.hide_index())"
   ]
  },
  {
   "cell_type": "markdown",
   "metadata": {},
   "source": [
    "## Sorting the Results\n",
    "\n",
    "#### Get All Customers , sorted by country Ascednding"
   ]
  },
  {
   "cell_type": "code",
   "execution_count": 16,
   "metadata": {},
   "outputs": [
    {
     "name": "stderr",
     "output_type": "stream",
     "text": [
      "/tmp/ipykernel_4732/2988887372.py:1: UserWarning: pandas only supports SQLAlchemy connectable (engine/connection) or database string URI or sqlite3 DBAPI2 connection. Other DBAPI2 objects are not tested. Please consider using SQLAlchemy.\n",
      "  ord_customers_by_country= psql.read_sql(\"SELECT * FROM customer ORDER BY country ASC\", con)\n",
      "/tmp/ipykernel_4732/2988887372.py:2: FutureWarning: this method is deprecated in favour of `Styler.hide(axis=\"index\")`\n",
      "  display(ord_customers_by_country.style.hide_index())\n"
     ]
    },
    {
     "data": {
      "text/html": [
       "<style type=\"text/css\">\n",
       "</style>\n",
       "<table id=\"T_3a8e9\">\n",
       "  <thead>\n",
       "    <tr>\n",
       "      <th id=\"T_3a8e9_level0_col0\" class=\"col_heading level0 col0\" >id</th>\n",
       "      <th id=\"T_3a8e9_level0_col1\" class=\"col_heading level0 col1\" >name</th>\n",
       "      <th id=\"T_3a8e9_level0_col2\" class=\"col_heading level0 col2\" >country</th>\n",
       "      <th id=\"T_3a8e9_level0_col3\" class=\"col_heading level0 col3\" >email</th>\n",
       "    </tr>\n",
       "  </thead>\n",
       "  <tbody>\n",
       "    <tr>\n",
       "      <td id=\"T_3a8e9_row0_col0\" class=\"data row0 col0\" >4</td>\n",
       "      <td id=\"T_3a8e9_row0_col1\" class=\"data row0 col1\" >Jean Lime</td>\n",
       "      <td id=\"T_3a8e9_row0_col2\" class=\"data row0 col2\" >Canda</td>\n",
       "      <td id=\"T_3a8e9_row0_col3\" class=\"data row0 col3\" >jeanlime@gmail.com</td>\n",
       "    </tr>\n",
       "    <tr>\n",
       "      <td id=\"T_3a8e9_row1_col0\" class=\"data row1 col0\" >1</td>\n",
       "      <td id=\"T_3a8e9_row1_col1\" class=\"data row1 col1\" >Mohamed Ragab</td>\n",
       "      <td id=\"T_3a8e9_row1_col2\" class=\"data row1 col2\" >Egypt</td>\n",
       "      <td id=\"T_3a8e9_row1_col3\" class=\"data row1 col3\" >mohamed.ragb@ut.ee</td>\n",
       "    </tr>\n",
       "    <tr>\n",
       "      <td id=\"T_3a8e9_row2_col0\" class=\"data row2 col0\" >5</td>\n",
       "      <td id=\"T_3a8e9_row2_col1\" class=\"data row2 col1\" >Hassan Eldeeb</td>\n",
       "      <td id=\"T_3a8e9_row2_col2\" class=\"data row2 col2\" >Egypt</td>\n",
       "      <td id=\"T_3a8e9_row2_col3\" class=\"data row2 col3\" >None</td>\n",
       "    </tr>\n",
       "    <tr>\n",
       "      <td id=\"T_3a8e9_row3_col0\" class=\"data row3 col0\" >2</td>\n",
       "      <td id=\"T_3a8e9_row3_col1\" class=\"data row3 col1\" >John Smith</td>\n",
       "      <td id=\"T_3a8e9_row3_col2\" class=\"data row3 col2\" >Finland</td>\n",
       "      <td id=\"T_3a8e9_row3_col3\" class=\"data row3 col3\" >j.smith@hotmail.com</td>\n",
       "    </tr>\n",
       "    <tr>\n",
       "      <td id=\"T_3a8e9_row4_col0\" class=\"data row4 col0\" >3</td>\n",
       "      <td id=\"T_3a8e9_row4_col1\" class=\"data row4 col1\" >Aisha Kareem</td>\n",
       "      <td id=\"T_3a8e9_row4_col2\" class=\"data row4 col2\" >India</td>\n",
       "      <td id=\"T_3a8e9_row4_col3\" class=\"data row4 col3\" >None</td>\n",
       "    </tr>\n",
       "  </tbody>\n",
       "</table>\n"
      ],
      "text/plain": [
       "<pandas.io.formats.style.Styler at 0x7f7777e96260>"
      ]
     },
     "metadata": {},
     "output_type": "display_data"
    }
   ],
   "source": [
    "ord_customers_by_country= psql.read_sql(\"SELECT * FROM customer ORDER BY country ASC\", con)\n",
    "display(ord_customers_by_country.style.hide_index())"
   ]
  },
  {
   "cell_type": "markdown",
   "metadata": {},
   "source": [
    "- **Note**: By Default Sorting in SQL is Ascending order!"
   ]
  },
  {
   "cell_type": "markdown",
   "metadata": {},
   "source": [
    "#### Get All Customers , sorted by names Descednding"
   ]
  },
  {
   "cell_type": "code",
   "execution_count": 17,
   "metadata": {},
   "outputs": [
    {
     "name": "stderr",
     "output_type": "stream",
     "text": [
      "/tmp/ipykernel_4732/816692827.py:2: UserWarning: pandas only supports SQLAlchemy connectable (engine/connection) or database string URI or sqlite3 DBAPI2 connection. Other DBAPI2 objects are not tested. Please consider using SQLAlchemy.\n",
      "  ord_customers_by_name= psql.read_sql(\" SELECT * FROM customer ORDER BY country DESC\", con)\n",
      "/tmp/ipykernel_4732/816692827.py:3: FutureWarning: this method is deprecated in favour of `Styler.hide(axis=\"index\")`\n",
      "  display(ord_customers_by_name.style.hide_index())\n"
     ]
    },
    {
     "data": {
      "text/html": [
       "<style type=\"text/css\">\n",
       "</style>\n",
       "<table id=\"T_5c5c2\">\n",
       "  <thead>\n",
       "    <tr>\n",
       "      <th id=\"T_5c5c2_level0_col0\" class=\"col_heading level0 col0\" >id</th>\n",
       "      <th id=\"T_5c5c2_level0_col1\" class=\"col_heading level0 col1\" >name</th>\n",
       "      <th id=\"T_5c5c2_level0_col2\" class=\"col_heading level0 col2\" >country</th>\n",
       "      <th id=\"T_5c5c2_level0_col3\" class=\"col_heading level0 col3\" >email</th>\n",
       "    </tr>\n",
       "  </thead>\n",
       "  <tbody>\n",
       "    <tr>\n",
       "      <td id=\"T_5c5c2_row0_col0\" class=\"data row0 col0\" >3</td>\n",
       "      <td id=\"T_5c5c2_row0_col1\" class=\"data row0 col1\" >Aisha Kareem</td>\n",
       "      <td id=\"T_5c5c2_row0_col2\" class=\"data row0 col2\" >India</td>\n",
       "      <td id=\"T_5c5c2_row0_col3\" class=\"data row0 col3\" >None</td>\n",
       "    </tr>\n",
       "    <tr>\n",
       "      <td id=\"T_5c5c2_row1_col0\" class=\"data row1 col0\" >2</td>\n",
       "      <td id=\"T_5c5c2_row1_col1\" class=\"data row1 col1\" >John Smith</td>\n",
       "      <td id=\"T_5c5c2_row1_col2\" class=\"data row1 col2\" >Finland</td>\n",
       "      <td id=\"T_5c5c2_row1_col3\" class=\"data row1 col3\" >j.smith@hotmail.com</td>\n",
       "    </tr>\n",
       "    <tr>\n",
       "      <td id=\"T_5c5c2_row2_col0\" class=\"data row2 col0\" >1</td>\n",
       "      <td id=\"T_5c5c2_row2_col1\" class=\"data row2 col1\" >Mohamed Ragab</td>\n",
       "      <td id=\"T_5c5c2_row2_col2\" class=\"data row2 col2\" >Egypt</td>\n",
       "      <td id=\"T_5c5c2_row2_col3\" class=\"data row2 col3\" >mohamed.ragb@ut.ee</td>\n",
       "    </tr>\n",
       "    <tr>\n",
       "      <td id=\"T_5c5c2_row3_col0\" class=\"data row3 col0\" >5</td>\n",
       "      <td id=\"T_5c5c2_row3_col1\" class=\"data row3 col1\" >Hassan Eldeeb</td>\n",
       "      <td id=\"T_5c5c2_row3_col2\" class=\"data row3 col2\" >Egypt</td>\n",
       "      <td id=\"T_5c5c2_row3_col3\" class=\"data row3 col3\" >None</td>\n",
       "    </tr>\n",
       "    <tr>\n",
       "      <td id=\"T_5c5c2_row4_col0\" class=\"data row4 col0\" >4</td>\n",
       "      <td id=\"T_5c5c2_row4_col1\" class=\"data row4 col1\" >Jean Lime</td>\n",
       "      <td id=\"T_5c5c2_row4_col2\" class=\"data row4 col2\" >Canda</td>\n",
       "      <td id=\"T_5c5c2_row4_col3\" class=\"data row4 col3\" >jeanlime@gmail.com</td>\n",
       "    </tr>\n",
       "  </tbody>\n",
       "</table>\n"
      ],
      "text/plain": [
       "<pandas.io.formats.style.Styler at 0x7f7777e96350>"
      ]
     },
     "metadata": {},
     "output_type": "display_data"
    }
   ],
   "source": [
    "# Don't RUN before you put your SQL Query\n",
    "ord_customers_by_name= psql.read_sql(\" SELECT * FROM customer ORDER BY country DESC\", con)\n",
    "display(ord_customers_by_name.style.hide_index())"
   ]
  },
  {
   "cell_type": "markdown",
   "metadata": {},
   "source": [
    "#### Get Distinct Countries of customers From Customer table "
   ]
  },
  {
   "cell_type": "code",
   "execution_count": 18,
   "metadata": {},
   "outputs": [
    {
     "name": "stderr",
     "output_type": "stream",
     "text": [
      "/tmp/ipykernel_4732/2102345882.py:2: UserWarning: pandas only supports SQLAlchemy connectable (engine/connection) or database string URI or sqlite3 DBAPI2 connection. Other DBAPI2 objects are not tested. Please consider using SQLAlchemy.\n",
      "  distinctCountries= psql.read_sql(\"SELECT DISTINCT(country) FROM customer\", con)\n",
      "/tmp/ipykernel_4732/2102345882.py:3: FutureWarning: this method is deprecated in favour of `Styler.hide(axis=\"index\")`\n",
      "  display(distinctCountries.style.hide_index())\n"
     ]
    },
    {
     "data": {
      "text/html": [
       "<style type=\"text/css\">\n",
       "</style>\n",
       "<table id=\"T_f8910\">\n",
       "  <thead>\n",
       "    <tr>\n",
       "      <th id=\"T_f8910_level0_col0\" class=\"col_heading level0 col0\" >country</th>\n",
       "    </tr>\n",
       "  </thead>\n",
       "  <tbody>\n",
       "    <tr>\n",
       "      <td id=\"T_f8910_row0_col0\" class=\"data row0 col0\" >Finland</td>\n",
       "    </tr>\n",
       "    <tr>\n",
       "      <td id=\"T_f8910_row1_col0\" class=\"data row1 col0\" >Egypt</td>\n",
       "    </tr>\n",
       "    <tr>\n",
       "      <td id=\"T_f8910_row2_col0\" class=\"data row2 col0\" >India</td>\n",
       "    </tr>\n",
       "    <tr>\n",
       "      <td id=\"T_f8910_row3_col0\" class=\"data row3 col0\" >Canda</td>\n",
       "    </tr>\n",
       "  </tbody>\n",
       "</table>\n"
      ],
      "text/plain": [
       "<pandas.io.formats.style.Styler at 0x7f7777e95b10>"
      ]
     },
     "metadata": {},
     "output_type": "display_data"
    }
   ],
   "source": [
    "# Don't RUN before you put your SQL Query\n",
    "distinctCountries= psql.read_sql(\"SELECT DISTINCT(country) FROM customer\", con)\n",
    "display(distinctCountries.style.hide_index())"
   ]
  },
  {
   "cell_type": "markdown",
   "metadata": {},
   "source": [
    "### Filtering the Results (Use the WHERE & AND)"
   ]
  },
  {
   "cell_type": "markdown",
   "metadata": {},
   "source": [
    "#### Get only the customers who have emails (filter out who don't have)"
   ]
  },
  {
   "cell_type": "code",
   "execution_count": 19,
   "metadata": {},
   "outputs": [
    {
     "name": "stderr",
     "output_type": "stream",
     "text": [
      "/tmp/ipykernel_4732/4159047615.py:1: UserWarning: pandas only supports SQLAlchemy connectable (engine/connection) or database string URI or sqlite3 DBAPI2 connection. Other DBAPI2 objects are not tested. Please consider using SQLAlchemy.\n",
      "  customersWithEmails= psql.read_sql(\"SELECT * FROM customer WHERE email != ''  \", con)\n",
      "/tmp/ipykernel_4732/4159047615.py:2: FutureWarning: this method is deprecated in favour of `Styler.hide(axis=\"index\")`\n",
      "  display(customersWithEmails.style.hide_index())\n"
     ]
    },
    {
     "data": {
      "text/html": [
       "<style type=\"text/css\">\n",
       "</style>\n",
       "<table id=\"T_cb325\">\n",
       "  <thead>\n",
       "    <tr>\n",
       "      <th id=\"T_cb325_level0_col0\" class=\"col_heading level0 col0\" >id</th>\n",
       "      <th id=\"T_cb325_level0_col1\" class=\"col_heading level0 col1\" >name</th>\n",
       "      <th id=\"T_cb325_level0_col2\" class=\"col_heading level0 col2\" >country</th>\n",
       "      <th id=\"T_cb325_level0_col3\" class=\"col_heading level0 col3\" >email</th>\n",
       "    </tr>\n",
       "  </thead>\n",
       "  <tbody>\n",
       "    <tr>\n",
       "      <td id=\"T_cb325_row0_col0\" class=\"data row0 col0\" >1</td>\n",
       "      <td id=\"T_cb325_row0_col1\" class=\"data row0 col1\" >Mohamed Ragab</td>\n",
       "      <td id=\"T_cb325_row0_col2\" class=\"data row0 col2\" >Egypt</td>\n",
       "      <td id=\"T_cb325_row0_col3\" class=\"data row0 col3\" >mohamed.ragb@ut.ee</td>\n",
       "    </tr>\n",
       "    <tr>\n",
       "      <td id=\"T_cb325_row1_col0\" class=\"data row1 col0\" >2</td>\n",
       "      <td id=\"T_cb325_row1_col1\" class=\"data row1 col1\" >John Smith</td>\n",
       "      <td id=\"T_cb325_row1_col2\" class=\"data row1 col2\" >Finland</td>\n",
       "      <td id=\"T_cb325_row1_col3\" class=\"data row1 col3\" >j.smith@hotmail.com</td>\n",
       "    </tr>\n",
       "    <tr>\n",
       "      <td id=\"T_cb325_row2_col0\" class=\"data row2 col0\" >4</td>\n",
       "      <td id=\"T_cb325_row2_col1\" class=\"data row2 col1\" >Jean Lime</td>\n",
       "      <td id=\"T_cb325_row2_col2\" class=\"data row2 col2\" >Canda</td>\n",
       "      <td id=\"T_cb325_row2_col3\" class=\"data row2 col3\" >jeanlime@gmail.com</td>\n",
       "    </tr>\n",
       "  </tbody>\n",
       "</table>\n"
      ],
      "text/plain": [
       "<pandas.io.formats.style.Styler at 0x7f7777e96230>"
      ]
     },
     "metadata": {},
     "output_type": "display_data"
    }
   ],
   "source": [
    "customersWithEmails= psql.read_sql(\"SELECT * FROM customer WHERE email != ''  \", con)\n",
    "display(customersWithEmails.style.hide_index())"
   ]
  },
  {
   "cell_type": "markdown",
   "metadata": {},
   "source": [
    "#### Get customers who live in \"Egypt\""
   ]
  },
  {
   "cell_type": "code",
   "execution_count": 20,
   "metadata": {},
   "outputs": [
    {
     "name": "stderr",
     "output_type": "stream",
     "text": [
      "/tmp/ipykernel_4732/2324295665.py:2: UserWarning: pandas only supports SQLAlchemy connectable (engine/connection) or database string URI or sqlite3 DBAPI2 connection. Other DBAPI2 objects are not tested. Please consider using SQLAlchemy.\n",
      "  theEgyptian= psql.read_sql(\"SELECT name FROM customer WHERE country = 'Egypt'  \", con)\n",
      "/tmp/ipykernel_4732/2324295665.py:3: FutureWarning: this method is deprecated in favour of `Styler.hide(axis=\"index\")`\n",
      "  display(theEgyptian.style.hide_index())\n"
     ]
    },
    {
     "data": {
      "text/html": [
       "<style type=\"text/css\">\n",
       "</style>\n",
       "<table id=\"T_7d5ca\">\n",
       "  <thead>\n",
       "    <tr>\n",
       "      <th id=\"T_7d5ca_level0_col0\" class=\"col_heading level0 col0\" >name</th>\n",
       "    </tr>\n",
       "  </thead>\n",
       "  <tbody>\n",
       "    <tr>\n",
       "      <td id=\"T_7d5ca_row0_col0\" class=\"data row0 col0\" >Mohamed Ragab</td>\n",
       "    </tr>\n",
       "    <tr>\n",
       "      <td id=\"T_7d5ca_row1_col0\" class=\"data row1 col0\" >Hassan Eldeeb</td>\n",
       "    </tr>\n",
       "  </tbody>\n",
       "</table>\n"
      ],
      "text/plain": [
       "<pandas.io.formats.style.Styler at 0x7f7777e94c70>"
      ]
     },
     "metadata": {},
     "output_type": "display_data"
    }
   ],
   "source": [
    "# Don't RUN before you put your SQL Query\n",
    "theEgyptian= psql.read_sql(\"SELECT name FROM customer WHERE country = 'Egypt'  \", con)\n",
    "display(theEgyptian.style.hide_index())"
   ]
  },
  {
   "cell_type": "markdown",
   "metadata": {},
   "source": [
    "#### Get customers who are from Egypt and already have emails"
   ]
  },
  {
   "cell_type": "code",
   "execution_count": 21,
   "metadata": {},
   "outputs": [
    {
     "name": "stderr",
     "output_type": "stream",
     "text": [
      "/tmp/ipykernel_4732/1323583573.py:2: UserWarning: pandas only supports SQLAlchemy connectable (engine/connection) or database string URI or sqlite3 DBAPI2 connection. Other DBAPI2 objects are not tested. Please consider using SQLAlchemy.\n",
      "  theEgyptianWithEmail= psql.read_sql(\"SELECT name FROM customer WHERE country = 'Egypt' and email != ''\", con)\n",
      "/tmp/ipykernel_4732/1323583573.py:3: FutureWarning: this method is deprecated in favour of `Styler.hide(axis=\"index\")`\n",
      "  display(theEgyptianWithEmail.style.hide_index())\n"
     ]
    },
    {
     "data": {
      "text/html": [
       "<style type=\"text/css\">\n",
       "</style>\n",
       "<table id=\"T_c6b2d\">\n",
       "  <thead>\n",
       "    <tr>\n",
       "      <th id=\"T_c6b2d_level0_col0\" class=\"col_heading level0 col0\" >name</th>\n",
       "    </tr>\n",
       "  </thead>\n",
       "  <tbody>\n",
       "    <tr>\n",
       "      <td id=\"T_c6b2d_row0_col0\" class=\"data row0 col0\" >Mohamed Ragab</td>\n",
       "    </tr>\n",
       "  </tbody>\n",
       "</table>\n"
      ],
      "text/plain": [
       "<pandas.io.formats.style.Styler at 0x7f7777e96230>"
      ]
     },
     "metadata": {},
     "output_type": "display_data"
    }
   ],
   "source": [
    "# Don't RUN before you put your SQL Query\n",
    "theEgyptianWithEmail= psql.read_sql(\"SELECT name FROM customer WHERE country = 'Egypt' and email != ''\", con)\n",
    "display(theEgyptianWithEmail.style.hide_index())"
   ]
  },
  {
   "cell_type": "markdown",
   "metadata": {},
   "source": [
    "#### Get customers who's name starts with Letter \"J\""
   ]
  },
  {
   "cell_type": "code",
   "execution_count": 22,
   "metadata": {},
   "outputs": [
    {
     "name": "stderr",
     "output_type": "stream",
     "text": [
      "/tmp/ipykernel_4732/4061736775.py:1: UserWarning: pandas only supports SQLAlchemy connectable (engine/connection) or database string URI or sqlite3 DBAPI2 connection. Other DBAPI2 objects are not tested. Please consider using SQLAlchemy.\n",
      "  J_Customers= psql.read_sql(\"SELECT * FROM customer WHERE name LIKE 'J%' \", con)\n",
      "/tmp/ipykernel_4732/4061736775.py:2: FutureWarning: this method is deprecated in favour of `Styler.hide(axis=\"index\")`\n",
      "  display(J_Customers.style.hide_index())\n"
     ]
    },
    {
     "data": {
      "text/html": [
       "<style type=\"text/css\">\n",
       "</style>\n",
       "<table id=\"T_8efa5\">\n",
       "  <thead>\n",
       "    <tr>\n",
       "      <th id=\"T_8efa5_level0_col0\" class=\"col_heading level0 col0\" >id</th>\n",
       "      <th id=\"T_8efa5_level0_col1\" class=\"col_heading level0 col1\" >name</th>\n",
       "      <th id=\"T_8efa5_level0_col2\" class=\"col_heading level0 col2\" >country</th>\n",
       "      <th id=\"T_8efa5_level0_col3\" class=\"col_heading level0 col3\" >email</th>\n",
       "    </tr>\n",
       "  </thead>\n",
       "  <tbody>\n",
       "    <tr>\n",
       "      <td id=\"T_8efa5_row0_col0\" class=\"data row0 col0\" >2</td>\n",
       "      <td id=\"T_8efa5_row0_col1\" class=\"data row0 col1\" >John Smith</td>\n",
       "      <td id=\"T_8efa5_row0_col2\" class=\"data row0 col2\" >Finland</td>\n",
       "      <td id=\"T_8efa5_row0_col3\" class=\"data row0 col3\" >j.smith@hotmail.com</td>\n",
       "    </tr>\n",
       "    <tr>\n",
       "      <td id=\"T_8efa5_row1_col0\" class=\"data row1 col0\" >4</td>\n",
       "      <td id=\"T_8efa5_row1_col1\" class=\"data row1 col1\" >Jean Lime</td>\n",
       "      <td id=\"T_8efa5_row1_col2\" class=\"data row1 col2\" >Canda</td>\n",
       "      <td id=\"T_8efa5_row1_col3\" class=\"data row1 col3\" >jeanlime@gmail.com</td>\n",
       "    </tr>\n",
       "  </tbody>\n",
       "</table>\n"
      ],
      "text/plain": [
       "<pandas.io.formats.style.Styler at 0x7f7777e95960>"
      ]
     },
     "metadata": {},
     "output_type": "display_data"
    }
   ],
   "source": [
    "J_Customers= psql.read_sql(\"SELECT * FROM customer WHERE name LIKE 'J%' \", con)\n",
    "display(J_Customers.style.hide_index())"
   ]
  },
  {
   "cell_type": "markdown",
   "metadata": {},
   "source": [
    "### Pagination  in SQL, using \"LIMT\" and \"OFFSET\""
   ]
  },
  {
   "cell_type": "markdown",
   "metadata": {},
   "source": [
    "#### Get only the first 3 Customers from the customers table"
   ]
  },
  {
   "cell_type": "code",
   "execution_count": 23,
   "metadata": {},
   "outputs": [
    {
     "name": "stderr",
     "output_type": "stream",
     "text": [
      "/tmp/ipykernel_4732/1813295314.py:1: UserWarning: pandas only supports SQLAlchemy connectable (engine/connection) or database string URI or sqlite3 DBAPI2 connection. Other DBAPI2 objects are not tested. Please consider using SQLAlchemy.\n",
      "  first_3_Customers= psql.read_sql(\"SELECT * FROM customer LIMIT 3 \", con)\n",
      "/tmp/ipykernel_4732/1813295314.py:2: FutureWarning: this method is deprecated in favour of `Styler.hide(axis=\"index\")`\n",
      "  display(first_3_Customers.style.hide_index())\n"
     ]
    },
    {
     "data": {
      "text/html": [
       "<style type=\"text/css\">\n",
       "</style>\n",
       "<table id=\"T_592c4\">\n",
       "  <thead>\n",
       "    <tr>\n",
       "      <th id=\"T_592c4_level0_col0\" class=\"col_heading level0 col0\" >id</th>\n",
       "      <th id=\"T_592c4_level0_col1\" class=\"col_heading level0 col1\" >name</th>\n",
       "      <th id=\"T_592c4_level0_col2\" class=\"col_heading level0 col2\" >country</th>\n",
       "      <th id=\"T_592c4_level0_col3\" class=\"col_heading level0 col3\" >email</th>\n",
       "    </tr>\n",
       "  </thead>\n",
       "  <tbody>\n",
       "    <tr>\n",
       "      <td id=\"T_592c4_row0_col0\" class=\"data row0 col0\" >1</td>\n",
       "      <td id=\"T_592c4_row0_col1\" class=\"data row0 col1\" >Mohamed Ragab</td>\n",
       "      <td id=\"T_592c4_row0_col2\" class=\"data row0 col2\" >Egypt</td>\n",
       "      <td id=\"T_592c4_row0_col3\" class=\"data row0 col3\" >mohamed.ragb@ut.ee</td>\n",
       "    </tr>\n",
       "    <tr>\n",
       "      <td id=\"T_592c4_row1_col0\" class=\"data row1 col0\" >2</td>\n",
       "      <td id=\"T_592c4_row1_col1\" class=\"data row1 col1\" >John Smith</td>\n",
       "      <td id=\"T_592c4_row1_col2\" class=\"data row1 col2\" >Finland</td>\n",
       "      <td id=\"T_592c4_row1_col3\" class=\"data row1 col3\" >j.smith@hotmail.com</td>\n",
       "    </tr>\n",
       "    <tr>\n",
       "      <td id=\"T_592c4_row2_col0\" class=\"data row2 col0\" >3</td>\n",
       "      <td id=\"T_592c4_row2_col1\" class=\"data row2 col1\" >Aisha Kareem</td>\n",
       "      <td id=\"T_592c4_row2_col2\" class=\"data row2 col2\" >India</td>\n",
       "      <td id=\"T_592c4_row2_col3\" class=\"data row2 col3\" >None</td>\n",
       "    </tr>\n",
       "  </tbody>\n",
       "</table>\n"
      ],
      "text/plain": [
       "<pandas.io.formats.style.Styler at 0x7f7777e94bb0>"
      ]
     },
     "metadata": {},
     "output_type": "display_data"
    }
   ],
   "source": [
    "first_3_Customers= psql.read_sql(\"SELECT * FROM customer LIMIT 3 \", con)\n",
    "display(first_3_Customers.style.hide_index())"
   ]
  },
  {
   "cell_type": "markdown",
   "metadata": {},
   "source": [
    "#### skipt the First 3 Customers and get the next 3 customers"
   ]
  },
  {
   "cell_type": "code",
   "execution_count": 24,
   "metadata": {},
   "outputs": [
    {
     "name": "stderr",
     "output_type": "stream",
     "text": [
      "/tmp/ipykernel_4732/1439238324.py:1: UserWarning: pandas only supports SQLAlchemy connectable (engine/connection) or database string URI or sqlite3 DBAPI2 connection. Other DBAPI2 objects are not tested. Please consider using SQLAlchemy.\n",
      "  next_3_Customers= psql.read_sql(\"SELECT * FROM customer OFFSET 3 LIMIT 3 \", con)\n",
      "/tmp/ipykernel_4732/1439238324.py:2: FutureWarning: this method is deprecated in favour of `Styler.hide(axis=\"index\")`\n",
      "  display(next_3_Customers.style.hide_index())\n"
     ]
    },
    {
     "data": {
      "text/html": [
       "<style type=\"text/css\">\n",
       "</style>\n",
       "<table id=\"T_0e5f0\">\n",
       "  <thead>\n",
       "    <tr>\n",
       "      <th id=\"T_0e5f0_level0_col0\" class=\"col_heading level0 col0\" >id</th>\n",
       "      <th id=\"T_0e5f0_level0_col1\" class=\"col_heading level0 col1\" >name</th>\n",
       "      <th id=\"T_0e5f0_level0_col2\" class=\"col_heading level0 col2\" >country</th>\n",
       "      <th id=\"T_0e5f0_level0_col3\" class=\"col_heading level0 col3\" >email</th>\n",
       "    </tr>\n",
       "  </thead>\n",
       "  <tbody>\n",
       "    <tr>\n",
       "      <td id=\"T_0e5f0_row0_col0\" class=\"data row0 col0\" >4</td>\n",
       "      <td id=\"T_0e5f0_row0_col1\" class=\"data row0 col1\" >Jean Lime</td>\n",
       "      <td id=\"T_0e5f0_row0_col2\" class=\"data row0 col2\" >Canda</td>\n",
       "      <td id=\"T_0e5f0_row0_col3\" class=\"data row0 col3\" >jeanlime@gmail.com</td>\n",
       "    </tr>\n",
       "    <tr>\n",
       "      <td id=\"T_0e5f0_row1_col0\" class=\"data row1 col0\" >5</td>\n",
       "      <td id=\"T_0e5f0_row1_col1\" class=\"data row1 col1\" >Hassan Eldeeb</td>\n",
       "      <td id=\"T_0e5f0_row1_col2\" class=\"data row1 col2\" >Egypt</td>\n",
       "      <td id=\"T_0e5f0_row1_col3\" class=\"data row1 col3\" >None</td>\n",
       "    </tr>\n",
       "  </tbody>\n",
       "</table>\n"
      ],
      "text/plain": [
       "<pandas.io.formats.style.Styler at 0x7f7777e81c60>"
      ]
     },
     "metadata": {},
     "output_type": "display_data"
    }
   ],
   "source": [
    "next_3_Customers= psql.read_sql(\"SELECT * FROM customer OFFSET 3 LIMIT 3 \", con)\n",
    "display(next_3_Customers.style.hide_index())"
   ]
  },
  {
   "cell_type": "markdown",
   "metadata": {},
   "source": [
    "#### Try another way to ge the same result of the previous cell\n",
    "- **Hint** : use OFFSET with FETCH FIRST"
   ]
  },
  {
   "cell_type": "code",
   "execution_count": 25,
   "metadata": {},
   "outputs": [
    {
     "name": "stderr",
     "output_type": "stream",
     "text": [
      "/tmp/ipykernel_4732/3871289820.py:3: UserWarning: pandas only supports SQLAlchemy connectable (engine/connection) or database string URI or sqlite3 DBAPI2 connection. Other DBAPI2 objects are not tested. Please consider using SQLAlchemy.\n",
      "  next_3_Customers= psql.read_sql(\"SELECT * FROM customer OFFSET 3 FETCH FIRST 10 ROWS ONLY\", con)\n",
      "/tmp/ipykernel_4732/3871289820.py:4: FutureWarning: this method is deprecated in favour of `Styler.hide(axis=\"index\")`\n",
      "  display(next_3_Customers.style.hide_index())\n"
     ]
    },
    {
     "data": {
      "text/html": [
       "<style type=\"text/css\">\n",
       "</style>\n",
       "<table id=\"T_4be2d\">\n",
       "  <thead>\n",
       "    <tr>\n",
       "      <th id=\"T_4be2d_level0_col0\" class=\"col_heading level0 col0\" >id</th>\n",
       "      <th id=\"T_4be2d_level0_col1\" class=\"col_heading level0 col1\" >name</th>\n",
       "      <th id=\"T_4be2d_level0_col2\" class=\"col_heading level0 col2\" >country</th>\n",
       "      <th id=\"T_4be2d_level0_col3\" class=\"col_heading level0 col3\" >email</th>\n",
       "    </tr>\n",
       "  </thead>\n",
       "  <tbody>\n",
       "    <tr>\n",
       "      <td id=\"T_4be2d_row0_col0\" class=\"data row0 col0\" >4</td>\n",
       "      <td id=\"T_4be2d_row0_col1\" class=\"data row0 col1\" >Jean Lime</td>\n",
       "      <td id=\"T_4be2d_row0_col2\" class=\"data row0 col2\" >Canda</td>\n",
       "      <td id=\"T_4be2d_row0_col3\" class=\"data row0 col3\" >jeanlime@gmail.com</td>\n",
       "    </tr>\n",
       "    <tr>\n",
       "      <td id=\"T_4be2d_row1_col0\" class=\"data row1 col0\" >5</td>\n",
       "      <td id=\"T_4be2d_row1_col1\" class=\"data row1 col1\" >Hassan Eldeeb</td>\n",
       "      <td id=\"T_4be2d_row1_col2\" class=\"data row1 col2\" >Egypt</td>\n",
       "      <td id=\"T_4be2d_row1_col3\" class=\"data row1 col3\" >None</td>\n",
       "    </tr>\n",
       "  </tbody>\n",
       "</table>\n"
      ],
      "text/plain": [
       "<pandas.io.formats.style.Styler at 0x7f7777e94f40>"
      ]
     },
     "metadata": {},
     "output_type": "display_data"
    }
   ],
   "source": [
    "#OR you can do the same using the following Query\n",
    "# Don't RUN before you put your SQL Query\n",
    "next_3_Customers= psql.read_sql(\"SELECT * FROM customer OFFSET 3 FETCH FIRST 10 ROWS ONLY\", con)\n",
    "display(next_3_Customers.style.hide_index())"
   ]
  },
  {
   "cell_type": "markdown",
   "metadata": {},
   "source": [
    "## Let's have some statiscs and aggregations (SQL GROUP BY & aggregation functions)\n",
    "\n",
    "- The GROUP BY statement groups rows that have the same values into summary rows.\n",
    "- The GROUP BY statement is often used with aggregate functions (COUNT, MAX, MIN, SUM, AVG) to group the result-set by one or more columns.\n"
   ]
  },
  {
   "cell_type": "markdown",
   "metadata": {},
   "source": [
    "#### Get the count of  customers in your DB"
   ]
  },
  {
   "cell_type": "code",
   "execution_count": 26,
   "metadata": {},
   "outputs": [
    {
     "name": "stderr",
     "output_type": "stream",
     "text": [
      "/tmp/ipykernel_4732/4005678578.py:2: UserWarning: pandas only supports SQLAlchemy connectable (engine/connection) or database string URI or sqlite3 DBAPI2 connection. Other DBAPI2 objects are not tested. Please consider using SQLAlchemy.\n",
      "  Customers_Cnt= psql.read_sql(\"SELECT COUNT(name) AS Number_of_Customers FROM customer\", con)\n",
      "/tmp/ipykernel_4732/4005678578.py:3: FutureWarning: this method is deprecated in favour of `Styler.hide(axis=\"index\")`\n",
      "  display(Customers_Cnt.style.hide_index())\n"
     ]
    },
    {
     "data": {
      "text/html": [
       "<style type=\"text/css\">\n",
       "</style>\n",
       "<table id=\"T_8e318\">\n",
       "  <thead>\n",
       "    <tr>\n",
       "      <th id=\"T_8e318_level0_col0\" class=\"col_heading level0 col0\" >number_of_customers</th>\n",
       "    </tr>\n",
       "  </thead>\n",
       "  <tbody>\n",
       "    <tr>\n",
       "      <td id=\"T_8e318_row0_col0\" class=\"data row0 col0\" >5</td>\n",
       "    </tr>\n",
       "  </tbody>\n",
       "</table>\n"
      ],
      "text/plain": [
       "<pandas.io.formats.style.Styler at 0x7f7777e94070>"
      ]
     },
     "metadata": {},
     "output_type": "display_data"
    }
   ],
   "source": [
    "# Don't RUN before you put your SQL Query\n",
    "Customers_Cnt= psql.read_sql(\"SELECT COUNT(name) AS Number_of_Customers FROM customer\", con)\n",
    "display(Customers_Cnt.style.hide_index())"
   ]
  },
  {
   "cell_type": "markdown",
   "metadata": {},
   "source": [
    "#### Get the Distinct Countries and how many customers are in each country"
   ]
  },
  {
   "cell_type": "code",
   "execution_count": 27,
   "metadata": {},
   "outputs": [
    {
     "name": "stderr",
     "output_type": "stream",
     "text": [
      "/tmp/ipykernel_4732/3100631652.py:1: UserWarning: pandas only supports SQLAlchemy connectable (engine/connection) or database string URI or sqlite3 DBAPI2 connection. Other DBAPI2 objects are not tested. Please consider using SQLAlchemy.\n",
      "  Countries_Customers_Cnt= psql.read_sql(\"SELECT DISTINCT country , COUNT (*) FROM customer GROUP BY country\", con)\n",
      "/tmp/ipykernel_4732/3100631652.py:2: FutureWarning: this method is deprecated in favour of `Styler.hide(axis=\"index\")`\n",
      "  display(Countries_Customers_Cnt.style.hide_index())\n"
     ]
    },
    {
     "data": {
      "text/html": [
       "<style type=\"text/css\">\n",
       "</style>\n",
       "<table id=\"T_d1eba\">\n",
       "  <thead>\n",
       "    <tr>\n",
       "      <th id=\"T_d1eba_level0_col0\" class=\"col_heading level0 col0\" >country</th>\n",
       "      <th id=\"T_d1eba_level0_col1\" class=\"col_heading level0 col1\" >count</th>\n",
       "    </tr>\n",
       "  </thead>\n",
       "  <tbody>\n",
       "    <tr>\n",
       "      <td id=\"T_d1eba_row0_col0\" class=\"data row0 col0\" >India</td>\n",
       "      <td id=\"T_d1eba_row0_col1\" class=\"data row0 col1\" >1</td>\n",
       "    </tr>\n",
       "    <tr>\n",
       "      <td id=\"T_d1eba_row1_col0\" class=\"data row1 col0\" >Canda</td>\n",
       "      <td id=\"T_d1eba_row1_col1\" class=\"data row1 col1\" >1</td>\n",
       "    </tr>\n",
       "    <tr>\n",
       "      <td id=\"T_d1eba_row2_col0\" class=\"data row2 col0\" >Finland</td>\n",
       "      <td id=\"T_d1eba_row2_col1\" class=\"data row2 col1\" >1</td>\n",
       "    </tr>\n",
       "    <tr>\n",
       "      <td id=\"T_d1eba_row3_col0\" class=\"data row3 col0\" >Egypt</td>\n",
       "      <td id=\"T_d1eba_row3_col1\" class=\"data row3 col1\" >2</td>\n",
       "    </tr>\n",
       "  </tbody>\n",
       "</table>\n"
      ],
      "text/plain": [
       "<pandas.io.formats.style.Styler at 0x7f7777e82590>"
      ]
     },
     "metadata": {},
     "output_type": "display_data"
    }
   ],
   "source": [
    "Countries_Customers_Cnt= psql.read_sql(\"SELECT DISTINCT country , COUNT (*) FROM customer GROUP BY country\", con)\n",
    "display(Countries_Customers_Cnt.style.hide_index())"
   ]
  },
  {
   "cell_type": "markdown",
   "metadata": {},
   "source": [
    "#### Get the Distinct Countries and how many people are in each country, and filter the count to be greater than 1"
   ]
  },
  {
   "cell_type": "code",
   "execution_count": 28,
   "metadata": {},
   "outputs": [
    {
     "name": "stderr",
     "output_type": "stream",
     "text": [
      "/tmp/ipykernel_4732/2340473539.py:2: UserWarning: pandas only supports SQLAlchemy connectable (engine/connection) or database string URI or sqlite3 DBAPI2 connection. Other DBAPI2 objects are not tested. Please consider using SQLAlchemy.\n",
      "  Countries_Customers_Cnt_gt1= psql.read_sql(\"\"\"SELECT DISTINCT country , COUNT (*)\n",
      "/tmp/ipykernel_4732/2340473539.py:7: FutureWarning: this method is deprecated in favour of `Styler.hide(axis=\"index\")`\n",
      "  display(Countries_Customers_Cnt_gt1.style.hide_index())\n"
     ]
    },
    {
     "data": {
      "text/html": [
       "<style type=\"text/css\">\n",
       "</style>\n",
       "<table id=\"T_b5668\">\n",
       "  <thead>\n",
       "    <tr>\n",
       "      <th id=\"T_b5668_level0_col0\" class=\"col_heading level0 col0\" >country</th>\n",
       "      <th id=\"T_b5668_level0_col1\" class=\"col_heading level0 col1\" >count</th>\n",
       "    </tr>\n",
       "  </thead>\n",
       "  <tbody>\n",
       "    <tr>\n",
       "      <td id=\"T_b5668_row0_col0\" class=\"data row0 col0\" >Egypt</td>\n",
       "      <td id=\"T_b5668_row0_col1\" class=\"data row0 col1\" >2</td>\n",
       "    </tr>\n",
       "  </tbody>\n",
       "</table>\n"
      ],
      "text/plain": [
       "<pandas.io.formats.style.Styler at 0x7f7777e818d0>"
      ]
     },
     "metadata": {},
     "output_type": "display_data"
    }
   ],
   "source": [
    "### USE of HAVING with GROUP BY and Aggregation Functions\n",
    "Countries_Customers_Cnt_gt1= psql.read_sql(\"\"\"SELECT DISTINCT country , COUNT (*) \n",
    "                                          FROM customer \n",
    "                                          GROUP BY country \n",
    "                                          HAVING count(*)>1\n",
    "                                          \"\"\", con)\n",
    "display(Countries_Customers_Cnt_gt1.style.hide_index())"
   ]
  },
  {
   "cell_type": "markdown",
   "metadata": {},
   "source": [
    "##### Give an Alias for the count (change it to be Customers_number)"
   ]
  },
  {
   "cell_type": "code",
   "execution_count": 29,
   "metadata": {},
   "outputs": [
    {
     "name": "stderr",
     "output_type": "stream",
     "text": [
      "/tmp/ipykernel_4732/1513330789.py:2: UserWarning: pandas only supports SQLAlchemy connectable (engine/connection) or database string URI or sqlite3 DBAPI2 connection. Other DBAPI2 objects are not tested. Please consider using SQLAlchemy.\n",
      "  Countries_Customers_Cnt_gt1= psql.read_sql(\"\"\"SELECT DISTINCT country , COUNT (*) As Customers_number\n",
      "/tmp/ipykernel_4732/1513330789.py:6: FutureWarning: this method is deprecated in favour of `Styler.hide(axis=\"index\")`\n",
      "  display(Countries_Customers_Cnt_gt1.style.hide_index())\n"
     ]
    },
    {
     "data": {
      "text/html": [
       "<style type=\"text/css\">\n",
       "</style>\n",
       "<table id=\"T_d1236\">\n",
       "  <thead>\n",
       "    <tr>\n",
       "      <th id=\"T_d1236_level0_col0\" class=\"col_heading level0 col0\" >country</th>\n",
       "      <th id=\"T_d1236_level0_col1\" class=\"col_heading level0 col1\" >customers_number</th>\n",
       "    </tr>\n",
       "  </thead>\n",
       "  <tbody>\n",
       "    <tr>\n",
       "      <td id=\"T_d1236_row0_col0\" class=\"data row0 col0\" >Egypt</td>\n",
       "      <td id=\"T_d1236_row0_col1\" class=\"data row0 col1\" >2</td>\n",
       "    </tr>\n",
       "  </tbody>\n",
       "</table>\n"
      ],
      "text/plain": [
       "<pandas.io.formats.style.Styler at 0x7f7777e81600>"
      ]
     },
     "metadata": {},
     "output_type": "display_data"
    }
   ],
   "source": [
    "# Don't RUN before you put your SQL Query\n",
    "Countries_Customers_Cnt_gt1= psql.read_sql(\"\"\"SELECT DISTINCT country , COUNT (*) As Customers_number \n",
    "                                          FROM customer \n",
    "                                          GROUP BY country \n",
    "                                          HAVING count(*)>1 \"\"\", con)\n",
    "display(Countries_Customers_Cnt_gt1.style.hide_index())"
   ]
  },
  {
   "cell_type": "markdown",
   "metadata": {},
   "source": [
    "##### We're going to leave link here for more details about the other aggregate functions such as (MIN, MAX, SUM,...)\n",
    "PostgreSQL Aggregates: https://www.postgresql.org/docs/9.5/functions-aggregate.html"
   ]
  },
  {
   "cell_type": "markdown",
   "metadata": {},
   "source": [
    "### Let's Create the Second Table (Order)\n",
    "- ***Reminder: One-to-many*** relationship is handled as follows : Use a foreign key on the many side of the relationship linking back to the \"one\" side.\n",
    "- ***Note:*** Order is a reserved keyword in SQL, It's not recommended to use such keywords, but if you want to do so, we can use double quoutes \"\" arrount those keywords."
   ]
  },
  {
   "cell_type": "code",
   "execution_count": 30,
   "metadata": {},
   "outputs": [
    {
     "name": "stdout",
     "output_type": "stream",
     "text": [
      "Table (order) already Existed! \n"
     ]
    }
   ],
   "source": [
    "#Create Order Table\n",
    "\n",
    "try:\n",
    "    ordersTable=\"order\"\n",
    "    create_ordersTable_query = '''CREATE TABLE \"'''+ ordersTable+'''\" \n",
    "              (id INT  PRIMARY KEY,\n",
    "               customer_id  INT  REFERENCES customer(id),\n",
    "               product      TEXT    NOT NULL\n",
    "               ); '''\n",
    "\n",
    "    \n",
    "    #Execute this command (SQL Query)\n",
    "    cursor.execute(create_ordersTable_query)\n",
    "    con.commit()\n",
    "    print(\"Table (\"+ ordersTable +\") created successfully in PostgreSQL \")\n",
    "except:\n",
    "    con.rollback()\n",
    "    print(\"Table (\"+ ordersTable +\") already Existed! \")"
   ]
  },
  {
   "cell_type": "markdown",
   "metadata": {},
   "source": [
    "#### Can we create this table (Order) before the (customer) table? (YES/NO, and Why)?!"
   ]
  },
  {
   "cell_type": "markdown",
   "metadata": {},
   "source": [
    "<font color='red'>***Answer: No, because this table is created with the foreign key customer_id from (customer) table so (customer) needs to be created first***</font>"
   ]
  },
  {
   "cell_type": "markdown",
   "metadata": {},
   "source": [
    "#### Insert Some Data into the (Order) Table"
   ]
  },
  {
   "cell_type": "code",
   "execution_count": 31,
   "metadata": {},
   "outputs": [
    {
     "name": "stdout",
     "output_type": "stream",
     "text": [
      "Error while exccuting the query at PostgreSQL duplicate key value violates unique constraint \"order_pkey\"\n",
      "DETAIL:  Key (id)=(1) already exists.\n",
      "\n",
      "-1 Record inserted successfully into customers table\n"
     ]
    }
   ],
   "source": [
    "sql_insert_orders = '''INSERT INTO \"order\" (id,customer_id,product) VALUES(%s,%s,%s)'''\n",
    "\n",
    "#list of customers\n",
    "orders_List=[\n",
    "        (1,1, \"Coffee - Irish Cream\"),\n",
    "        (2,1, \"Sauce - Demi Glace\"),\n",
    "        (3,2,\"Corn Meal\"),\n",
    "        (4,1,\"Cumin - Whole\"),\n",
    "        (5,3,\"Chocolate - Sugar Free Semi Choc\"),\n",
    "        (6,4,\"Rolled Oats\")]\n",
    "try:\n",
    "    # execute the INSERT statement\n",
    "    cursor.executemany(sql_insert_orders,orders_List)\n",
    "    # commit the changes to the database\n",
    "    con.commit()\n",
    "\n",
    "except (Exception, psycopg2.Error) as error :\n",
    "    con.rollback()\n",
    "    print (\"Error while exccuting the query at PostgreSQL\",error)\n",
    "    \n",
    "finally:\n",
    "    \n",
    "    count = cursor.rowcount\n",
    "    print (count, \"Record inserted successfully into customers table\")"
   ]
  },
  {
   "cell_type": "markdown",
   "metadata": {},
   "source": [
    "## Bring Data from multiple Tables (SQL JOINS)"
   ]
  },
  {
   "cell_type": "markdown",
   "metadata": {},
   "source": [
    "#### What are SQL Joins?\n",
    "\n",
    "An SQL JOIN clause combines rows from two or more tables. It creates a set of rows in a temporary table. "
   ]
  },
  {
   "cell_type": "markdown",
   "metadata": {},
   "source": [
    "#### How to Join two tables in SQL?\n",
    "- A JOIN works on two or more tables if they have at least one common field and have a relationship between them.\n",
    "\n",
    "- JOIN keeps the base tables (structure and data) unchanged."
   ]
  },
  {
   "cell_type": "markdown",
   "metadata": {},
   "source": [
    "#### Looking only at \"order\" Table, we don't know names (or any further details of the csuomers)\n",
    "- Here'is the role of JOINS Comes to the Scene :) "
   ]
  },
  {
   "cell_type": "code",
   "execution_count": 32,
   "metadata": {},
   "outputs": [
    {
     "name": "stderr",
     "output_type": "stream",
     "text": [
      "/tmp/ipykernel_4732/3586515401.py:1: UserWarning: pandas only supports SQLAlchemy connectable (engine/connection) or database string URI or sqlite3 DBAPI2 connection. Other DBAPI2 objects are not tested. Please consider using SQLAlchemy.\n",
      "  orders= psql.read_sql('''SELECT * FROM \"order\" ''', con)\n",
      "/tmp/ipykernel_4732/3586515401.py:2: FutureWarning: this method is deprecated in favour of `Styler.hide(axis=\"index\")`\n",
      "  display(orders.style.hide_index())\n"
     ]
    },
    {
     "data": {
      "text/html": [
       "<style type=\"text/css\">\n",
       "</style>\n",
       "<table id=\"T_e53dd\">\n",
       "  <thead>\n",
       "    <tr>\n",
       "      <th id=\"T_e53dd_level0_col0\" class=\"col_heading level0 col0\" >id</th>\n",
       "      <th id=\"T_e53dd_level0_col1\" class=\"col_heading level0 col1\" >customer_id</th>\n",
       "      <th id=\"T_e53dd_level0_col2\" class=\"col_heading level0 col2\" >product</th>\n",
       "    </tr>\n",
       "  </thead>\n",
       "  <tbody>\n",
       "    <tr>\n",
       "      <td id=\"T_e53dd_row0_col0\" class=\"data row0 col0\" >1</td>\n",
       "      <td id=\"T_e53dd_row0_col1\" class=\"data row0 col1\" >1.000000</td>\n",
       "      <td id=\"T_e53dd_row0_col2\" class=\"data row0 col2\" >Coffee - Irish Cream</td>\n",
       "    </tr>\n",
       "    <tr>\n",
       "      <td id=\"T_e53dd_row1_col0\" class=\"data row1 col0\" >2</td>\n",
       "      <td id=\"T_e53dd_row1_col1\" class=\"data row1 col1\" >1.000000</td>\n",
       "      <td id=\"T_e53dd_row1_col2\" class=\"data row1 col2\" >Sauce - Demi Glace</td>\n",
       "    </tr>\n",
       "    <tr>\n",
       "      <td id=\"T_e53dd_row2_col0\" class=\"data row2 col0\" >3</td>\n",
       "      <td id=\"T_e53dd_row2_col1\" class=\"data row2 col1\" >2.000000</td>\n",
       "      <td id=\"T_e53dd_row2_col2\" class=\"data row2 col2\" >Corn Meal</td>\n",
       "    </tr>\n",
       "    <tr>\n",
       "      <td id=\"T_e53dd_row3_col0\" class=\"data row3 col0\" >4</td>\n",
       "      <td id=\"T_e53dd_row3_col1\" class=\"data row3 col1\" >1.000000</td>\n",
       "      <td id=\"T_e53dd_row3_col2\" class=\"data row3 col2\" >Cumin - Whole</td>\n",
       "    </tr>\n",
       "    <tr>\n",
       "      <td id=\"T_e53dd_row4_col0\" class=\"data row4 col0\" >5</td>\n",
       "      <td id=\"T_e53dd_row4_col1\" class=\"data row4 col1\" >3.000000</td>\n",
       "      <td id=\"T_e53dd_row4_col2\" class=\"data row4 col2\" >Chocolate - Sugar Free Semi Choc</td>\n",
       "    </tr>\n",
       "    <tr>\n",
       "      <td id=\"T_e53dd_row5_col0\" class=\"data row5 col0\" >6</td>\n",
       "      <td id=\"T_e53dd_row5_col1\" class=\"data row5 col1\" >4.000000</td>\n",
       "      <td id=\"T_e53dd_row5_col2\" class=\"data row5 col2\" >Rolled Oats</td>\n",
       "    </tr>\n",
       "    <tr>\n",
       "      <td id=\"T_e53dd_row6_col0\" class=\"data row6 col0\" >7</td>\n",
       "      <td id=\"T_e53dd_row6_col1\" class=\"data row6 col1\" >nan</td>\n",
       "      <td id=\"T_e53dd_row6_col2\" class=\"data row6 col2\" >Dark Choclate</td>\n",
       "    </tr>\n",
       "  </tbody>\n",
       "</table>\n"
      ],
      "text/plain": [
       "<pandas.io.formats.style.Styler at 0x7f7777e94550>"
      ]
     },
     "metadata": {},
     "output_type": "display_data"
    }
   ],
   "source": [
    "orders= psql.read_sql('''SELECT * FROM \"order\" ''', con)\n",
    "display(orders.style.hide_index())"
   ]
  },
  {
   "cell_type": "markdown",
   "metadata": {},
   "source": [
    "#### INNER JOIN\n",
    "\n",
    "- The SQL INNER JOIN is similar to the Set intersection.\n",
    "- INNER JOIN selects rows from table1 and table2 where they match the selecting column.\n"
   ]
  },
  {
   "cell_type": "code",
   "execution_count": 33,
   "metadata": {},
   "outputs": [
    {
     "name": "stderr",
     "output_type": "stream",
     "text": [
      "/tmp/ipykernel_4732/3532695662.py:1: UserWarning: pandas only supports SQLAlchemy connectable (engine/connection) or database string URI or sqlite3 DBAPI2 connection. Other DBAPI2 objects are not tested. Please consider using SQLAlchemy.\n",
      "  innerJoined= psql.read_sql(\"\"\"SELECT * FROM customer\n"
     ]
    },
    {
     "data": {
      "text/html": [
       "<div>\n",
       "<style scoped>\n",
       "    .dataframe tbody tr th:only-of-type {\n",
       "        vertical-align: middle;\n",
       "    }\n",
       "\n",
       "    .dataframe tbody tr th {\n",
       "        vertical-align: top;\n",
       "    }\n",
       "\n",
       "    .dataframe thead th {\n",
       "        text-align: right;\n",
       "    }\n",
       "</style>\n",
       "<table border=\"1\" class=\"dataframe\">\n",
       "  <thead>\n",
       "    <tr style=\"text-align: right;\">\n",
       "      <th></th>\n",
       "      <th>id</th>\n",
       "      <th>name</th>\n",
       "      <th>country</th>\n",
       "      <th>email</th>\n",
       "      <th>id</th>\n",
       "      <th>customer_id</th>\n",
       "      <th>product</th>\n",
       "    </tr>\n",
       "  </thead>\n",
       "  <tbody>\n",
       "    <tr>\n",
       "      <th>0</th>\n",
       "      <td>1</td>\n",
       "      <td>Mohamed Ragab</td>\n",
       "      <td>Egypt</td>\n",
       "      <td>mohamed.ragb@ut.ee</td>\n",
       "      <td>1</td>\n",
       "      <td>1</td>\n",
       "      <td>Coffee - Irish Cream</td>\n",
       "    </tr>\n",
       "    <tr>\n",
       "      <th>1</th>\n",
       "      <td>1</td>\n",
       "      <td>Mohamed Ragab</td>\n",
       "      <td>Egypt</td>\n",
       "      <td>mohamed.ragb@ut.ee</td>\n",
       "      <td>2</td>\n",
       "      <td>1</td>\n",
       "      <td>Sauce - Demi Glace</td>\n",
       "    </tr>\n",
       "    <tr>\n",
       "      <th>2</th>\n",
       "      <td>1</td>\n",
       "      <td>Mohamed Ragab</td>\n",
       "      <td>Egypt</td>\n",
       "      <td>mohamed.ragb@ut.ee</td>\n",
       "      <td>4</td>\n",
       "      <td>1</td>\n",
       "      <td>Cumin - Whole</td>\n",
       "    </tr>\n",
       "    <tr>\n",
       "      <th>3</th>\n",
       "      <td>2</td>\n",
       "      <td>John Smith</td>\n",
       "      <td>Finland</td>\n",
       "      <td>j.smith@hotmail.com</td>\n",
       "      <td>3</td>\n",
       "      <td>2</td>\n",
       "      <td>Corn Meal</td>\n",
       "    </tr>\n",
       "    <tr>\n",
       "      <th>4</th>\n",
       "      <td>4</td>\n",
       "      <td>Jean Lime</td>\n",
       "      <td>Canda</td>\n",
       "      <td>jeanlime@gmail.com</td>\n",
       "      <td>6</td>\n",
       "      <td>4</td>\n",
       "      <td>Rolled Oats</td>\n",
       "    </tr>\n",
       "    <tr>\n",
       "      <th>5</th>\n",
       "      <td>3</td>\n",
       "      <td>Aisha Kareem</td>\n",
       "      <td>India</td>\n",
       "      <td>None</td>\n",
       "      <td>5</td>\n",
       "      <td>3</td>\n",
       "      <td>Chocolate - Sugar Free Semi Choc</td>\n",
       "    </tr>\n",
       "  </tbody>\n",
       "</table>\n",
       "</div>"
      ],
      "text/plain": [
       "   id           name  country                email  id  customer_id  \\\n",
       "0   1  Mohamed Ragab    Egypt   mohamed.ragb@ut.ee   1            1   \n",
       "1   1  Mohamed Ragab    Egypt   mohamed.ragb@ut.ee   2            1   \n",
       "2   1  Mohamed Ragab    Egypt   mohamed.ragb@ut.ee   4            1   \n",
       "3   2     John Smith  Finland  j.smith@hotmail.com   3            2   \n",
       "4   4      Jean Lime    Canda   jeanlime@gmail.com   6            4   \n",
       "5   3   Aisha Kareem    India                 None   5            3   \n",
       "\n",
       "                            product  \n",
       "0              Coffee - Irish Cream  \n",
       "1                Sauce - Demi Glace  \n",
       "2                     Cumin - Whole  \n",
       "3                         Corn Meal  \n",
       "4                       Rolled Oats  \n",
       "5  Chocolate - Sugar Free Semi Choc  "
      ]
     },
     "metadata": {},
     "output_type": "display_data"
    }
   ],
   "source": [
    "innerJoined= psql.read_sql(\"\"\"SELECT * FROM customer \n",
    "                              INNER JOIN  \"order\" \n",
    "                              ON customer.id = \"order\".customer_id\n",
    "                              ORDER BY name DESC\n",
    "                      \"\"\", con)\n",
    "display(innerJoined)"
   ]
  },
  {
   "cell_type": "markdown",
   "metadata": {},
   "source": [
    "#### If it's Confusing Just show the name and the product"
   ]
  },
  {
   "cell_type": "code",
   "execution_count": 34,
   "metadata": {},
   "outputs": [
    {
     "name": "stderr",
     "output_type": "stream",
     "text": [
      "/tmp/ipykernel_4732/455986441.py:1: UserWarning: pandas only supports SQLAlchemy connectable (engine/connection) or database string URI or sqlite3 DBAPI2 connection. Other DBAPI2 objects are not tested. Please consider using SQLAlchemy.\n",
      "  innerJoined= psql.read_sql(\"\"\"SELECT name, product FROM customer\n"
     ]
    },
    {
     "data": {
      "text/html": [
       "<div>\n",
       "<style scoped>\n",
       "    .dataframe tbody tr th:only-of-type {\n",
       "        vertical-align: middle;\n",
       "    }\n",
       "\n",
       "    .dataframe tbody tr th {\n",
       "        vertical-align: top;\n",
       "    }\n",
       "\n",
       "    .dataframe thead th {\n",
       "        text-align: right;\n",
       "    }\n",
       "</style>\n",
       "<table border=\"1\" class=\"dataframe\">\n",
       "  <thead>\n",
       "    <tr style=\"text-align: right;\">\n",
       "      <th></th>\n",
       "      <th>name</th>\n",
       "      <th>product</th>\n",
       "    </tr>\n",
       "  </thead>\n",
       "  <tbody>\n",
       "    <tr>\n",
       "      <th>0</th>\n",
       "      <td>Mohamed Ragab</td>\n",
       "      <td>Coffee - Irish Cream</td>\n",
       "    </tr>\n",
       "    <tr>\n",
       "      <th>1</th>\n",
       "      <td>Mohamed Ragab</td>\n",
       "      <td>Sauce - Demi Glace</td>\n",
       "    </tr>\n",
       "    <tr>\n",
       "      <th>2</th>\n",
       "      <td>Mohamed Ragab</td>\n",
       "      <td>Cumin - Whole</td>\n",
       "    </tr>\n",
       "    <tr>\n",
       "      <th>3</th>\n",
       "      <td>John Smith</td>\n",
       "      <td>Corn Meal</td>\n",
       "    </tr>\n",
       "    <tr>\n",
       "      <th>4</th>\n",
       "      <td>Jean Lime</td>\n",
       "      <td>Rolled Oats</td>\n",
       "    </tr>\n",
       "    <tr>\n",
       "      <th>5</th>\n",
       "      <td>Aisha Kareem</td>\n",
       "      <td>Chocolate - Sugar Free Semi Choc</td>\n",
       "    </tr>\n",
       "  </tbody>\n",
       "</table>\n",
       "</div>"
      ],
      "text/plain": [
       "            name                           product\n",
       "0  Mohamed Ragab              Coffee - Irish Cream\n",
       "1  Mohamed Ragab                Sauce - Demi Glace\n",
       "2  Mohamed Ragab                     Cumin - Whole\n",
       "3     John Smith                         Corn Meal\n",
       "4      Jean Lime                       Rolled Oats\n",
       "5   Aisha Kareem  Chocolate - Sugar Free Semi Choc"
      ]
     },
     "metadata": {},
     "output_type": "display_data"
    }
   ],
   "source": [
    "innerJoined= psql.read_sql(\"\"\"SELECT name, product FROM customer \n",
    "                              INNER JOIN  \"order\" \n",
    "                              ON customer.id = \"order\".customer_id\n",
    "                              ORDER BY name DESC\"\"\", con)\n",
    "display(innerJoined)"
   ]
  },
  {
   "cell_type": "markdown",
   "metadata": {},
   "source": [
    "###  LEFT JOIN\n",
    "\n",
    "- This selects all rows from the table1 ( on the left), the rows from the  table2 (on the right) if they match.\n",
    "- If they don’t match, the data for the right table is blank (NULLS)."
   ]
  },
  {
   "cell_type": "markdown",
   "metadata": {},
   "source": [
    "#### Get all the customers with Orders details, even get customers who don't made orderes \n",
    "- Other way to say! Get all the customers, and Products , and if the customer didn't order product the product will be blank"
   ]
  },
  {
   "cell_type": "code",
   "execution_count": 35,
   "metadata": {},
   "outputs": [
    {
     "name": "stderr",
     "output_type": "stream",
     "text": [
      "/tmp/ipykernel_4732/3911676406.py:1: UserWarning: pandas only supports SQLAlchemy connectable (engine/connection) or database string URI or sqlite3 DBAPI2 connection. Other DBAPI2 objects are not tested. Please consider using SQLAlchemy.\n",
      "  leftJoined= psql.read_sql(\"\"\"SELECT *  FROM customer\n"
     ]
    },
    {
     "data": {
      "text/html": [
       "<div>\n",
       "<style scoped>\n",
       "    .dataframe tbody tr th:only-of-type {\n",
       "        vertical-align: middle;\n",
       "    }\n",
       "\n",
       "    .dataframe tbody tr th {\n",
       "        vertical-align: top;\n",
       "    }\n",
       "\n",
       "    .dataframe thead th {\n",
       "        text-align: right;\n",
       "    }\n",
       "</style>\n",
       "<table border=\"1\" class=\"dataframe\">\n",
       "  <thead>\n",
       "    <tr style=\"text-align: right;\">\n",
       "      <th></th>\n",
       "      <th>id</th>\n",
       "      <th>name</th>\n",
       "      <th>country</th>\n",
       "      <th>email</th>\n",
       "      <th>id</th>\n",
       "      <th>customer_id</th>\n",
       "      <th>product</th>\n",
       "    </tr>\n",
       "  </thead>\n",
       "  <tbody>\n",
       "    <tr>\n",
       "      <th>0</th>\n",
       "      <td>1</td>\n",
       "      <td>Mohamed Ragab</td>\n",
       "      <td>Egypt</td>\n",
       "      <td>mohamed.ragb@ut.ee</td>\n",
       "      <td>4.0</td>\n",
       "      <td>1.0</td>\n",
       "      <td>Cumin - Whole</td>\n",
       "    </tr>\n",
       "    <tr>\n",
       "      <th>1</th>\n",
       "      <td>1</td>\n",
       "      <td>Mohamed Ragab</td>\n",
       "      <td>Egypt</td>\n",
       "      <td>mohamed.ragb@ut.ee</td>\n",
       "      <td>2.0</td>\n",
       "      <td>1.0</td>\n",
       "      <td>Sauce - Demi Glace</td>\n",
       "    </tr>\n",
       "    <tr>\n",
       "      <th>2</th>\n",
       "      <td>1</td>\n",
       "      <td>Mohamed Ragab</td>\n",
       "      <td>Egypt</td>\n",
       "      <td>mohamed.ragb@ut.ee</td>\n",
       "      <td>1.0</td>\n",
       "      <td>1.0</td>\n",
       "      <td>Coffee - Irish Cream</td>\n",
       "    </tr>\n",
       "    <tr>\n",
       "      <th>3</th>\n",
       "      <td>2</td>\n",
       "      <td>John Smith</td>\n",
       "      <td>Finland</td>\n",
       "      <td>j.smith@hotmail.com</td>\n",
       "      <td>3.0</td>\n",
       "      <td>2.0</td>\n",
       "      <td>Corn Meal</td>\n",
       "    </tr>\n",
       "    <tr>\n",
       "      <th>4</th>\n",
       "      <td>4</td>\n",
       "      <td>Jean Lime</td>\n",
       "      <td>Canda</td>\n",
       "      <td>jeanlime@gmail.com</td>\n",
       "      <td>6.0</td>\n",
       "      <td>4.0</td>\n",
       "      <td>Rolled Oats</td>\n",
       "    </tr>\n",
       "    <tr>\n",
       "      <th>5</th>\n",
       "      <td>5</td>\n",
       "      <td>Hassan Eldeeb</td>\n",
       "      <td>Egypt</td>\n",
       "      <td>None</td>\n",
       "      <td>NaN</td>\n",
       "      <td>NaN</td>\n",
       "      <td>None</td>\n",
       "    </tr>\n",
       "    <tr>\n",
       "      <th>6</th>\n",
       "      <td>3</td>\n",
       "      <td>Aisha Kareem</td>\n",
       "      <td>India</td>\n",
       "      <td>None</td>\n",
       "      <td>5.0</td>\n",
       "      <td>3.0</td>\n",
       "      <td>Chocolate - Sugar Free Semi Choc</td>\n",
       "    </tr>\n",
       "  </tbody>\n",
       "</table>\n",
       "</div>"
      ],
      "text/plain": [
       "   id           name  country                email   id  customer_id  \\\n",
       "0   1  Mohamed Ragab    Egypt   mohamed.ragb@ut.ee  4.0          1.0   \n",
       "1   1  Mohamed Ragab    Egypt   mohamed.ragb@ut.ee  2.0          1.0   \n",
       "2   1  Mohamed Ragab    Egypt   mohamed.ragb@ut.ee  1.0          1.0   \n",
       "3   2     John Smith  Finland  j.smith@hotmail.com  3.0          2.0   \n",
       "4   4      Jean Lime    Canda   jeanlime@gmail.com  6.0          4.0   \n",
       "5   5  Hassan Eldeeb    Egypt                 None  NaN          NaN   \n",
       "6   3   Aisha Kareem    India                 None  5.0          3.0   \n",
       "\n",
       "                            product  \n",
       "0                     Cumin - Whole  \n",
       "1                Sauce - Demi Glace  \n",
       "2              Coffee - Irish Cream  \n",
       "3                         Corn Meal  \n",
       "4                       Rolled Oats  \n",
       "5                              None  \n",
       "6  Chocolate - Sugar Free Semi Choc  "
      ]
     },
     "metadata": {},
     "output_type": "display_data"
    }
   ],
   "source": [
    "leftJoined= psql.read_sql(\"\"\"SELECT *  FROM customer \n",
    "                        LEFT JOIN  \"order\" \n",
    "                        ON customer.id = \"order\".customer_id\n",
    "                        ORDER BY name DESC\n",
    "                      \"\"\", con)\n",
    "display(leftJoined)"
   ]
  },
  {
   "cell_type": "markdown",
   "metadata": {},
   "source": [
    "#### perform the same query but projecting on customer_name and the products "
   ]
  },
  {
   "cell_type": "code",
   "execution_count": 36,
   "metadata": {},
   "outputs": [
    {
     "name": "stderr",
     "output_type": "stream",
     "text": [
      "/tmp/ipykernel_4732/3216013988.py:2: UserWarning: pandas only supports SQLAlchemy connectable (engine/connection) or database string URI or sqlite3 DBAPI2 connection. Other DBAPI2 objects are not tested. Please consider using SQLAlchemy.\n",
      "  leftJoined= psql.read_sql(\"\"\"SELECT name, product FROM customer\n"
     ]
    },
    {
     "data": {
      "text/html": [
       "<div>\n",
       "<style scoped>\n",
       "    .dataframe tbody tr th:only-of-type {\n",
       "        vertical-align: middle;\n",
       "    }\n",
       "\n",
       "    .dataframe tbody tr th {\n",
       "        vertical-align: top;\n",
       "    }\n",
       "\n",
       "    .dataframe thead th {\n",
       "        text-align: right;\n",
       "    }\n",
       "</style>\n",
       "<table border=\"1\" class=\"dataframe\">\n",
       "  <thead>\n",
       "    <tr style=\"text-align: right;\">\n",
       "      <th></th>\n",
       "      <th>name</th>\n",
       "      <th>product</th>\n",
       "    </tr>\n",
       "  </thead>\n",
       "  <tbody>\n",
       "    <tr>\n",
       "      <th>0</th>\n",
       "      <td>Mohamed Ragab</td>\n",
       "      <td>Cumin - Whole</td>\n",
       "    </tr>\n",
       "    <tr>\n",
       "      <th>1</th>\n",
       "      <td>Mohamed Ragab</td>\n",
       "      <td>Sauce - Demi Glace</td>\n",
       "    </tr>\n",
       "    <tr>\n",
       "      <th>2</th>\n",
       "      <td>Mohamed Ragab</td>\n",
       "      <td>Coffee - Irish Cream</td>\n",
       "    </tr>\n",
       "    <tr>\n",
       "      <th>3</th>\n",
       "      <td>John Smith</td>\n",
       "      <td>Corn Meal</td>\n",
       "    </tr>\n",
       "    <tr>\n",
       "      <th>4</th>\n",
       "      <td>Jean Lime</td>\n",
       "      <td>Rolled Oats</td>\n",
       "    </tr>\n",
       "    <tr>\n",
       "      <th>5</th>\n",
       "      <td>Hassan Eldeeb</td>\n",
       "      <td>None</td>\n",
       "    </tr>\n",
       "    <tr>\n",
       "      <th>6</th>\n",
       "      <td>Aisha Kareem</td>\n",
       "      <td>Chocolate - Sugar Free Semi Choc</td>\n",
       "    </tr>\n",
       "  </tbody>\n",
       "</table>\n",
       "</div>"
      ],
      "text/plain": [
       "            name                           product\n",
       "0  Mohamed Ragab                     Cumin - Whole\n",
       "1  Mohamed Ragab                Sauce - Demi Glace\n",
       "2  Mohamed Ragab              Coffee - Irish Cream\n",
       "3     John Smith                         Corn Meal\n",
       "4      Jean Lime                       Rolled Oats\n",
       "5  Hassan Eldeeb                              None\n",
       "6   Aisha Kareem  Chocolate - Sugar Free Semi Choc"
      ]
     },
     "metadata": {},
     "output_type": "display_data"
    }
   ],
   "source": [
    "#the same query but projecting on customer_name  and the products \n",
    "leftJoined= psql.read_sql(\"\"\"SELECT name, product FROM customer \n",
    "                        LEFT JOIN  \"order\" \n",
    "                        ON customer.id = \"order\".customer_id\n",
    "                        ORDER BY name DESC\n",
    "                      \"\"\", con)\n",
    "display(leftJoined)"
   ]
  },
  {
   "cell_type": "markdown",
   "metadata": {},
   "source": [
    "### RIGHT JOIN\n",
    "- Opposite to LEFT JOIN\n",
    "- This selects all the rows from the table on the right, and then rows from the left if they match.\n",
    "- If they don’t match, the data for the table on the left is blank (NULLS).\n"
   ]
  },
  {
   "cell_type": "markdown",
   "metadata": {},
   "source": [
    "##### Now, we insert one product that doen't have customer to buy (don't make alot of sense, but just for the example!!)"
   ]
  },
  {
   "cell_type": "code",
   "execution_count": 37,
   "metadata": {},
   "outputs": [
    {
     "name": "stdout",
     "output_type": "stream",
     "text": [
      "ERROR duplicate key value violates unique constraint \"order_pkey\"\n",
      "DETAIL:  Key (id)=(7) already exists.\n",
      "\n",
      "-1 Record inserted successfully into person table\n"
     ]
    }
   ],
   "source": [
    "postgres_insert_query = \"\"\" INSERT INTO \"order\" (id,customer_id,product) VALUES (%s,%s,%s)\"\"\"\n",
    "record_to_insert = (7,None,'Dark Choclate')\n",
    "\n",
    "try:\n",
    "    cursor.execute(postgres_insert_query, record_to_insert)\n",
    "    con.commit()\n",
    "except (Exception, psycopg2.Error) as error :\n",
    "    con.rollback()\n",
    "    print(\"ERROR\",error)\n",
    "    \n",
    "count = cursor.rowcount\n",
    "print (count, \"Record inserted successfully into person table\")"
   ]
  },
  {
   "cell_type": "markdown",
   "metadata": {},
   "source": [
    "#### Perform the same query but projecting on customer_name and the products "
   ]
  },
  {
   "cell_type": "code",
   "execution_count": 38,
   "metadata": {},
   "outputs": [
    {
     "name": "stderr",
     "output_type": "stream",
     "text": [
      "/tmp/ipykernel_4732/809818566.py:1: UserWarning: pandas only supports SQLAlchemy connectable (engine/connection) or database string URI or sqlite3 DBAPI2 connection. Other DBAPI2 objects are not tested. Please consider using SQLAlchemy.\n",
      "  RightJoined= psql.read_sql(\"\"\"SELECT name, product FROM customer\n"
     ]
    },
    {
     "data": {
      "text/html": [
       "<div>\n",
       "<style scoped>\n",
       "    .dataframe tbody tr th:only-of-type {\n",
       "        vertical-align: middle;\n",
       "    }\n",
       "\n",
       "    .dataframe tbody tr th {\n",
       "        vertical-align: top;\n",
       "    }\n",
       "\n",
       "    .dataframe thead th {\n",
       "        text-align: right;\n",
       "    }\n",
       "</style>\n",
       "<table border=\"1\" class=\"dataframe\">\n",
       "  <thead>\n",
       "    <tr style=\"text-align: right;\">\n",
       "      <th></th>\n",
       "      <th>name</th>\n",
       "      <th>product</th>\n",
       "    </tr>\n",
       "  </thead>\n",
       "  <tbody>\n",
       "    <tr>\n",
       "      <th>0</th>\n",
       "      <td>None</td>\n",
       "      <td>Dark Choclate</td>\n",
       "    </tr>\n",
       "    <tr>\n",
       "      <th>1</th>\n",
       "      <td>Mohamed Ragab</td>\n",
       "      <td>Sauce - Demi Glace</td>\n",
       "    </tr>\n",
       "    <tr>\n",
       "      <th>2</th>\n",
       "      <td>Mohamed Ragab</td>\n",
       "      <td>Coffee - Irish Cream</td>\n",
       "    </tr>\n",
       "    <tr>\n",
       "      <th>3</th>\n",
       "      <td>Mohamed Ragab</td>\n",
       "      <td>Cumin - Whole</td>\n",
       "    </tr>\n",
       "    <tr>\n",
       "      <th>4</th>\n",
       "      <td>John Smith</td>\n",
       "      <td>Corn Meal</td>\n",
       "    </tr>\n",
       "    <tr>\n",
       "      <th>5</th>\n",
       "      <td>Jean Lime</td>\n",
       "      <td>Rolled Oats</td>\n",
       "    </tr>\n",
       "    <tr>\n",
       "      <th>6</th>\n",
       "      <td>Aisha Kareem</td>\n",
       "      <td>Chocolate - Sugar Free Semi Choc</td>\n",
       "    </tr>\n",
       "  </tbody>\n",
       "</table>\n",
       "</div>"
      ],
      "text/plain": [
       "            name                           product\n",
       "0           None                     Dark Choclate\n",
       "1  Mohamed Ragab                Sauce - Demi Glace\n",
       "2  Mohamed Ragab              Coffee - Irish Cream\n",
       "3  Mohamed Ragab                     Cumin - Whole\n",
       "4     John Smith                         Corn Meal\n",
       "5      Jean Lime                       Rolled Oats\n",
       "6   Aisha Kareem  Chocolate - Sugar Free Semi Choc"
      ]
     },
     "metadata": {},
     "output_type": "display_data"
    }
   ],
   "source": [
    "RightJoined= psql.read_sql(\"\"\"SELECT name, product FROM customer \n",
    "                        RIGHT JOIN  \"order\" \n",
    "                        ON customer.id = \"order\".customer_id\n",
    "                        ORDER BY name DESC\n",
    "                      \"\"\", con)\n",
    "display(RightJoined)"
   ]
  },
  {
   "cell_type": "markdown",
   "metadata": {},
   "source": [
    "### FULL JOIN\n",
    "- This selects all rows from both tables, matching them if there is a match on the selecting column.\n",
    "\n",
    "- Think of it as a LEFT and a RIGHT join.\n"
   ]
  },
  {
   "cell_type": "code",
   "execution_count": 39,
   "metadata": {},
   "outputs": [
    {
     "name": "stderr",
     "output_type": "stream",
     "text": [
      "/tmp/ipykernel_4732/1199576038.py:1: UserWarning: pandas only supports SQLAlchemy connectable (engine/connection) or database string URI or sqlite3 DBAPI2 connection. Other DBAPI2 objects are not tested. Please consider using SQLAlchemy.\n",
      "  fullJoined= psql.read_sql(\"\"\"SELECT name, product FROM customer\n"
     ]
    },
    {
     "data": {
      "text/html": [
       "<div>\n",
       "<style scoped>\n",
       "    .dataframe tbody tr th:only-of-type {\n",
       "        vertical-align: middle;\n",
       "    }\n",
       "\n",
       "    .dataframe tbody tr th {\n",
       "        vertical-align: top;\n",
       "    }\n",
       "\n",
       "    .dataframe thead th {\n",
       "        text-align: right;\n",
       "    }\n",
       "</style>\n",
       "<table border=\"1\" class=\"dataframe\">\n",
       "  <thead>\n",
       "    <tr style=\"text-align: right;\">\n",
       "      <th></th>\n",
       "      <th>name</th>\n",
       "      <th>product</th>\n",
       "    </tr>\n",
       "  </thead>\n",
       "  <tbody>\n",
       "    <tr>\n",
       "      <th>0</th>\n",
       "      <td>None</td>\n",
       "      <td>Dark Choclate</td>\n",
       "    </tr>\n",
       "    <tr>\n",
       "      <th>1</th>\n",
       "      <td>Mohamed Ragab</td>\n",
       "      <td>Sauce - Demi Glace</td>\n",
       "    </tr>\n",
       "    <tr>\n",
       "      <th>2</th>\n",
       "      <td>Mohamed Ragab</td>\n",
       "      <td>Cumin - Whole</td>\n",
       "    </tr>\n",
       "    <tr>\n",
       "      <th>3</th>\n",
       "      <td>Mohamed Ragab</td>\n",
       "      <td>Coffee - Irish Cream</td>\n",
       "    </tr>\n",
       "    <tr>\n",
       "      <th>4</th>\n",
       "      <td>John Smith</td>\n",
       "      <td>Corn Meal</td>\n",
       "    </tr>\n",
       "    <tr>\n",
       "      <th>5</th>\n",
       "      <td>Jean Lime</td>\n",
       "      <td>Rolled Oats</td>\n",
       "    </tr>\n",
       "    <tr>\n",
       "      <th>6</th>\n",
       "      <td>Hassan Eldeeb</td>\n",
       "      <td>None</td>\n",
       "    </tr>\n",
       "    <tr>\n",
       "      <th>7</th>\n",
       "      <td>Aisha Kareem</td>\n",
       "      <td>Chocolate - Sugar Free Semi Choc</td>\n",
       "    </tr>\n",
       "  </tbody>\n",
       "</table>\n",
       "</div>"
      ],
      "text/plain": [
       "            name                           product\n",
       "0           None                     Dark Choclate\n",
       "1  Mohamed Ragab                Sauce - Demi Glace\n",
       "2  Mohamed Ragab                     Cumin - Whole\n",
       "3  Mohamed Ragab              Coffee - Irish Cream\n",
       "4     John Smith                         Corn Meal\n",
       "5      Jean Lime                       Rolled Oats\n",
       "6  Hassan Eldeeb                              None\n",
       "7   Aisha Kareem  Chocolate - Sugar Free Semi Choc"
      ]
     },
     "metadata": {},
     "output_type": "display_data"
    }
   ],
   "source": [
    "fullJoined= psql.read_sql(\"\"\"SELECT name, product FROM customer \n",
    "                             FULL JOIN  \"order\" \n",
    "                             ON customer.id = \"order\".customer_id\n",
    "                             ORDER BY name DESC \"\"\", con)\n",
    "display(fullJoined)"
   ]
  },
  {
   "cell_type": "markdown",
   "metadata": {},
   "source": [
    "## Task 2: Create another RDB model (MovieDB)\n",
    "\n",
    "This is another DB about movies and actors who played roles in these movies. Particularly, this DB is consisted of the following tables:  \n",
    "\n",
    "- A ***\"Person\"*** table who has a unique **id**, and another **name** field.\n",
    "- Another ***\"Movie\"*** table that has a unique **id**, a **title**, a **country** where it was made, and a **year** when it was released.\n",
    "\n",
    "- There is (***m-n**) or ***\"many-many\"** relationship between these two tables (i.e basically, many actors can act in many movies, and the movie include many actors).\n",
    "- ***Many-to-many*** are handeled as follows: We have to use a ***junction table** (<font color='green'>example</font>: https://gist.github.com/anonymous/79c2eed2a634777b16ff)\n",
    "- Therefore, we use the **\"Roles\"** table in which we can deduct which person has acted in which movie, and what role(s) they played in this movie.\n"
   ]
  },
  {
   "cell_type": "markdown",
   "metadata": {},
   "source": [
    "#### Use one of the drawing tools to plot an ER model of this described DB\n",
    "- you can use the mentioned ER diagramitic tool in lecture slides (link: https://erdplus.com/)"
   ]
  },
  {
   "cell_type": "markdown",
   "metadata": {},
   "source": [
    "##### <font color='red'>YOUR DB SCHEMA IMAGE HERE: </font>"
   ]
  },
  {
   "cell_type": "markdown",
   "metadata": {},
   "source": [
    "#### Create the MovieDB "
   ]
  },
  {
   "cell_type": "code",
   "execution_count": 40,
   "metadata": {},
   "outputs": [
    {
     "name": "stdout",
     "output_type": "stream",
     "text": [
      "Connected Successfully to PostgreSQL server!!\n"
     ]
    }
   ],
   "source": [
    "# Create connection\n",
    "try:\n",
    "    # Connect to the postgreSQL server with username, and password credentials\n",
    "    con = psycopg2.connect(user = \"pguser\",\n",
    "                                  password = \"changeme\",\n",
    "                                  host = \"127.0.0.1\",\n",
    "                                  port = \"5432\")\n",
    "    \n",
    "    con.set_isolation_level(ISOLATION_LEVEL_AUTOCOMMIT);\n",
    "    print(\"Connected Successfully to PostgreSQL server!!\")\n",
    "    \n",
    "    # Obtain a DB Cursor to perform database operations\n",
    "    cursor = con.cursor();\n",
    "except (Exception, psycopg2.Error) as error :\n",
    "     print (\"Error while connecting to PostgreSQL\", error)"
   ]
  },
  {
   "cell_type": "code",
   "execution_count": 41,
   "metadata": {},
   "outputs": [
    {
     "name": "stdout",
     "output_type": "stream",
     "text": [
      "Error while creating BD database \"moviedb\" already exists\n",
      "\n"
     ]
    }
   ],
   "source": [
    "#YOUR CODE HERE to create the movie DB\n",
    "name_Database = \"MovieDB\"\n",
    "\n",
    "sqlCreateDatabase = 'CREATE DATABASE ' + name_Database + ';'\n",
    "cursor  = con.cursor()\n",
    "try:\n",
    "    cursor.execute(sqlCreateDatabase)\n",
    "    print('Database created successfully')\n",
    "\n",
    "except (Exception, psycopg2.Error) as error:\n",
    "    print(\"Error while creating BD\", error)"
   ]
  },
  {
   "cell_type": "markdown",
   "metadata": {},
   "source": [
    "#### Creating  the Movie Table"
   ]
  },
  {
   "cell_type": "code",
   "execution_count": 42,
   "metadata": {},
   "outputs": [
    {
     "name": "stdout",
     "output_type": "stream",
     "text": [
      "Error While Creating the DB:  relation \"movie\" already exists\n",
      "\n"
     ]
    }
   ],
   "source": [
    "#YOUR CODE HERE to create the \"Movie\" table\n",
    "\n",
    "try:\n",
    "    #table_name variable\n",
    "    customerTable=\"Movie\"\n",
    "    create_customerTablee_query = '''CREATE TABLE '''+ customerTable+''' \n",
    "              (id INT  PRIMARY KEY     NOT NULL,\n",
    "               title          TEXT    NOT NULL,\n",
    "               country        TEXT    NOT NULL,\n",
    "               year           SMALLINT   \n",
    "               ); '''\n",
    "\n",
    "    #Execute this command (SQL Query)\n",
    "    cursor.execute(create_customerTablee_query)\n",
    "    \n",
    "    # Make the changes to the database persistent\n",
    "    con.commit()\n",
    "    print(\"Table (\"+ customerTable +\") created successfully in PostgreSQL \")\n",
    "except (Exception, psycopg2.Error) as error:\n",
    "    # if it exits with an exception the transaction is rolled back.\n",
    "    con.rollback()\n",
    "    print(\"Error While Creating the DB: \",error)"
   ]
  },
  {
   "cell_type": "markdown",
   "metadata": {},
   "source": [
    "#### Creating  the \"Person\" Table"
   ]
  },
  {
   "cell_type": "code",
   "execution_count": 43,
   "metadata": {},
   "outputs": [
    {
     "name": "stdout",
     "output_type": "stream",
     "text": [
      "Error While Creating the DB:  relation \"person\" already exists\n",
      "\n"
     ]
    }
   ],
   "source": [
    "#YOUR CODE HERE to create the Person table\n",
    "\n",
    "try:\n",
    "    #table_name variable\n",
    "    customerTable=\"Person\"\n",
    "    create_customerTablee_query = '''CREATE TABLE '''+ customerTable+''' \n",
    "              (id INT  PRIMARY KEY     NOT NULL,\n",
    "               name          TEXT    NOT NULL \n",
    "               ); '''\n",
    "\n",
    "    #Execute this command (SQL Query)\n",
    "    cursor.execute(create_customerTablee_query)\n",
    "    \n",
    "    # Make the changes to the database persistent\n",
    "    con.commit()\n",
    "    print(\"Table (\"+ customerTable +\") created successfully in PostgreSQL \")\n",
    "except (Exception, psycopg2.Error) as error:\n",
    "    # if it exits with an exception the transaction is rolled back.\n",
    "    con.rollback()\n",
    "    print(\"Error While Creating the DB: \",error)"
   ]
  },
  {
   "cell_type": "markdown",
   "metadata": {},
   "source": [
    "#### Creating  the \"Roles\" relationship Table"
   ]
  },
  {
   "cell_type": "code",
   "execution_count": 44,
   "metadata": {},
   "outputs": [
    {
     "name": "stdout",
     "output_type": "stream",
     "text": [
      "Error While Creating the DB:  relation \"roles\" already exists\n",
      "\n"
     ]
    }
   ],
   "source": [
    "#YOUR CODE HERE to create the Roles relationship table\n",
    "try:\n",
    "    #table_name variable\n",
    "    customerTable=\"Roles\"\n",
    "    create_customerTablee_query = '''CREATE TABLE '''+ customerTable+''' \n",
    "              (personId       INT     REFERENCES Person(id),\n",
    "               movieID        INT     REFERENCES Movie(id),\n",
    "               role           TEXT    NOT NULL    \n",
    "               ); '''\n",
    "\n",
    "    #Execute this command (SQL Query)\n",
    "    cursor.execute(create_customerTablee_query)\n",
    "    \n",
    "    # Make the changes to the database persistent\n",
    "    con.commit()\n",
    "    print(\"Table (\"+ customerTable +\") created successfully in PostgreSQL \")\n",
    "except (Exception, psycopg2.Error) as error:\n",
    "    # if it exits with an exception the transaction is rolled back.\n",
    "    con.rollback()\n",
    "    print(\"Error While Creating the DB: \",error)"
   ]
  },
  {
   "cell_type": "markdown",
   "metadata": {},
   "source": [
    "### Data Insertions\n",
    "\n",
    "Please, use the following demo datasets for allocating some data in the tables\n",
    "\n",
    "- **Person Table**:\n",
    "        id,name\n",
    "        1,Charlie Sheen\n",
    "        2,Michael Douglas\n",
    "        3,Martin Sheen\n",
    "        4,Morgan Freeman\n",
    "\n",
    "- ***Movie Table***:\n",
    "        id,title,country,year\n",
    "        1,Wall Street,USA,1987\n",
    "        2,The American President,USA,1995\n",
    "        3,The Shawshank Redemption,USA,1994\n",
    "\n",
    "- ***Roles Relationship*** (<font color='green'>Conjunction Table</font>):\n",
    "        personId,movieId,role\n",
    "        1,1,Bud Fox\n",
    "        2,1,Carl Fox\n",
    "        3,1,Gordon Gekko\n",
    "        2,2,A.J. MacInerney\n",
    "        3,2,President Andrew Shepherd\n",
    "        4,3,Ellis Boyd 'Red' Redding"
   ]
  },
  {
   "cell_type": "markdown",
   "metadata": {},
   "source": [
    "#### Insert Data to the Person Table"
   ]
  },
  {
   "cell_type": "code",
   "execution_count": 45,
   "metadata": {},
   "outputs": [
    {
     "name": "stdout",
     "output_type": "stream",
     "text": [
      "Error while exccuting the query at PostgreSQL duplicate key value violates unique constraint \"person_pkey\"\n",
      "DETAIL:  Key (id)=(1) already exists.\n",
      "\n",
      "-1 Record inserted successfully into customers table\n"
     ]
    }
   ],
   "source": [
    "### YOUR CODE HERE!!\n",
    "sql_insert_orders = '''INSERT INTO Person (id, name) VALUES(%s,%s)'''\n",
    "\n",
    "#list of customers\n",
    "orders_List=[\n",
    "        (1, \"Charlie Sheen\"),\n",
    "        (2, \"Michael Douglas\"),\n",
    "        (3, \"Martin Sheen\"),\n",
    "        (4, \"Morgan Freeman\")]\n",
    "try:\n",
    "    # execute the INSERT statement\n",
    "    cursor.executemany(sql_insert_orders,orders_List)\n",
    "    # commit the changes to the database\n",
    "    con.commit()\n",
    "\n",
    "except (Exception, psycopg2.Error) as error :\n",
    "    con.rollback()\n",
    "    print (\"Error while exccuting the query at PostgreSQL\",error)\n",
    "    \n",
    "finally:\n",
    "    \n",
    "    count = cursor.rowcount\n",
    "    print (count, \"Record inserted successfully into customers table\")"
   ]
  },
  {
   "cell_type": "markdown",
   "metadata": {},
   "source": [
    "#### Insert Data to the Movie Table"
   ]
  },
  {
   "cell_type": "code",
   "execution_count": 46,
   "metadata": {},
   "outputs": [
    {
     "name": "stdout",
     "output_type": "stream",
     "text": [
      "Error while exccuting the query at PostgreSQL duplicate key value violates unique constraint \"movie_pkey\"\n",
      "DETAIL:  Key (id)=(1) already exists.\n",
      "\n",
      "-1 Record inserted successfully into customers table\n"
     ]
    }
   ],
   "source": [
    "### YOUR CODE HERE!!\n",
    "sql_insert_orders = '''INSERT INTO Movie (id, title, country, year) VALUES(%s,%s,%s,%s)'''\n",
    "\n",
    "#list of customers\n",
    "orders_List=[\n",
    "        (1, \"Wall Street\", \"USA\", 1987),\n",
    "        (2, \"The American President\", \"USA\", 1995),\n",
    "        (3, \"The ShawShank Redemption\", \"USA\", 1994)\n",
    "        ]\n",
    "try:\n",
    "    # execute the INSERT statement\n",
    "    cursor.executemany(sql_insert_orders,orders_List)\n",
    "    # commit the changes to the database\n",
    "    con.commit()\n",
    "\n",
    "except (Exception, psycopg2.Error) as error :\n",
    "    con.rollback()\n",
    "    print (\"Error while exccuting the query at PostgreSQL\",error)\n",
    "    \n",
    "finally:\n",
    "    \n",
    "    count = cursor.rowcount\n",
    "    print (count, \"Record inserted successfully into customers table\")"
   ]
  },
  {
   "cell_type": "markdown",
   "metadata": {},
   "source": [
    "#### Insert Data to the Roles Table"
   ]
  },
  {
   "cell_type": "code",
   "execution_count": 47,
   "metadata": {},
   "outputs": [
    {
     "name": "stdout",
     "output_type": "stream",
     "text": [
      "6 Record inserted successfully into customers table\n"
     ]
    }
   ],
   "source": [
    "### YOUR CODE HERE!!\n",
    "sql_insert_orders = '''INSERT INTO Roles (personId, movieID, role) VALUES(%s,%s,%s)'''\n",
    "\n",
    "#list of customers\n",
    "orders_List=[\n",
    "        (1, 1, \"Bud Fox\"),\n",
    "        (2, 1, \"Carl Fox\"),\n",
    "        (3, 1, \"Gordon Gekko\"),\n",
    "        (2, 2, \"A.J.maclnerney\"),\n",
    "        (3, 2, \"President Andrew Shepherd\"),\n",
    "        (4, 3, \"Ellis Boyd 'Red' Redding\")\n",
    "        ]\n",
    "try:\n",
    "    # execute the INSERT statement\n",
    "    cursor.executemany(sql_insert_orders,orders_List)\n",
    "    # commit the changes to the database\n",
    "    con.commit()\n",
    "\n",
    "except (Exception, psycopg2.Error) as error :\n",
    "    con.rollback()\n",
    "    print (\"Error while exccuting the query at PostgreSQL\",error)\n",
    "    \n",
    "finally:\n",
    "    \n",
    "    count = cursor.rowcount\n",
    "    print (count, \"Record inserted successfully into Roles table\")"
   ]
  },
  {
   "cell_type": "markdown",
   "metadata": {},
   "source": [
    "#### Get all Actors (Persons) from the movie DB"
   ]
  },
  {
   "cell_type": "code",
   "execution_count": 64,
   "metadata": {},
   "outputs": [
    {
     "name": "stderr",
     "output_type": "stream",
     "text": [
      "/tmp/ipykernel_4732/1171913380.py:1: UserWarning: pandas only supports SQLAlchemy connectable (engine/connection) or database string URI or sqlite3 DBAPI2 connection. Other DBAPI2 objects are not tested. Please consider using SQLAlchemy.\n",
      "  my_table= pd.read_sql('SELECT * FROM Person', con)\n",
      "/tmp/ipykernel_4732/1171913380.py:2: FutureWarning: this method is deprecated in favour of `Styler.hide(axis=\"index\")`\n",
      "  display(my_table.style.hide_index())\n"
     ]
    },
    {
     "data": {
      "text/html": [
       "<style type=\"text/css\">\n",
       "</style>\n",
       "<table id=\"T_29e6f\">\n",
       "  <thead>\n",
       "    <tr>\n",
       "      <th id=\"T_29e6f_level0_col0\" class=\"col_heading level0 col0\" >id</th>\n",
       "      <th id=\"T_29e6f_level0_col1\" class=\"col_heading level0 col1\" >name</th>\n",
       "      <th id=\"T_29e6f_level0_col2\" class=\"col_heading level0 col2\" >born</th>\n",
       "    </tr>\n",
       "  </thead>\n",
       "  <tbody>\n",
       "    <tr>\n",
       "      <td id=\"T_29e6f_row0_col0\" class=\"data row0 col0\" >1</td>\n",
       "      <td id=\"T_29e6f_row0_col1\" class=\"data row0 col1\" >Charlie Sheen</td>\n",
       "      <td id=\"T_29e6f_row0_col2\" class=\"data row0 col2\" >None</td>\n",
       "    </tr>\n",
       "    <tr>\n",
       "      <td id=\"T_29e6f_row1_col0\" class=\"data row1 col0\" >2</td>\n",
       "      <td id=\"T_29e6f_row1_col1\" class=\"data row1 col1\" >Michael Douglas</td>\n",
       "      <td id=\"T_29e6f_row1_col2\" class=\"data row1 col2\" >None</td>\n",
       "    </tr>\n",
       "    <tr>\n",
       "      <td id=\"T_29e6f_row2_col0\" class=\"data row2 col0\" >3</td>\n",
       "      <td id=\"T_29e6f_row2_col1\" class=\"data row2 col1\" >Martin Sheen</td>\n",
       "      <td id=\"T_29e6f_row2_col2\" class=\"data row2 col2\" >None</td>\n",
       "    </tr>\n",
       "    <tr>\n",
       "      <td id=\"T_29e6f_row3_col0\" class=\"data row3 col0\" >4</td>\n",
       "      <td id=\"T_29e6f_row3_col1\" class=\"data row3 col1\" >Morgan Freeman</td>\n",
       "      <td id=\"T_29e6f_row3_col2\" class=\"data row3 col2\" >None</td>\n",
       "    </tr>\n",
       "    <tr>\n",
       "      <td id=\"T_29e6f_row4_col0\" class=\"data row4 col0\" >5</td>\n",
       "      <td id=\"T_29e6f_row4_col1\" class=\"data row4 col1\" >Keanu Reeves</td>\n",
       "      <td id=\"T_29e6f_row4_col2\" class=\"data row4 col2\" >1964</td>\n",
       "    </tr>\n",
       "    <tr>\n",
       "      <td id=\"T_29e6f_row5_col0\" class=\"data row5 col0\" >6</td>\n",
       "      <td id=\"T_29e6f_row5_col1\" class=\"data row5 col1\" >Carrie-Anne Moss</td>\n",
       "      <td id=\"T_29e6f_row5_col2\" class=\"data row5 col2\" >1967</td>\n",
       "    </tr>\n",
       "    <tr>\n",
       "      <td id=\"T_29e6f_row6_col0\" class=\"data row6 col0\" >7</td>\n",
       "      <td id=\"T_29e6f_row6_col1\" class=\"data row6 col1\" >Laurence Fishburne</td>\n",
       "      <td id=\"T_29e6f_row6_col2\" class=\"data row6 col2\" >1960</td>\n",
       "    </tr>\n",
       "  </tbody>\n",
       "</table>\n"
      ],
      "text/plain": [
       "<pandas.io.formats.style.Styler at 0x7f7777e833d0>"
      ]
     },
     "metadata": {},
     "output_type": "display_data"
    }
   ],
   "source": [
    "my_table= pd.read_sql('SELECT * FROM Person', con)\n",
    "display(my_table.style.hide_index())"
   ]
  },
  {
   "cell_type": "markdown",
   "metadata": {},
   "source": [
    "#### Get All Movies , sorted from recent to old"
   ]
  },
  {
   "cell_type": "code",
   "execution_count": 65,
   "metadata": {},
   "outputs": [
    {
     "name": "stderr",
     "output_type": "stream",
     "text": [
      "/tmp/ipykernel_4732/377202742.py:1: UserWarning: pandas only supports SQLAlchemy connectable (engine/connection) or database string URI or sqlite3 DBAPI2 connection. Other DBAPI2 objects are not tested. Please consider using SQLAlchemy.\n",
      "  moviesOrdered = pd.read_sql('''SELECT * FROM Movie ORDER BY year DESC''', con)\n",
      "/tmp/ipykernel_4732/377202742.py:2: FutureWarning: this method is deprecated in favour of `Styler.hide(axis=\"index\")`\n",
      "  display(moviesOrdered.style.hide_index())\n"
     ]
    },
    {
     "data": {
      "text/html": [
       "<style type=\"text/css\">\n",
       "</style>\n",
       "<table id=\"T_14907\">\n",
       "  <thead>\n",
       "    <tr>\n",
       "      <th id=\"T_14907_level0_col0\" class=\"col_heading level0 col0\" >id</th>\n",
       "      <th id=\"T_14907_level0_col1\" class=\"col_heading level0 col1\" >title</th>\n",
       "      <th id=\"T_14907_level0_col2\" class=\"col_heading level0 col2\" >country</th>\n",
       "      <th id=\"T_14907_level0_col3\" class=\"col_heading level0 col3\" >year</th>\n",
       "      <th id=\"T_14907_level0_col4\" class=\"col_heading level0 col4\" >tagline</th>\n",
       "    </tr>\n",
       "  </thead>\n",
       "  <tbody>\n",
       "    <tr>\n",
       "      <td id=\"T_14907_row0_col0\" class=\"data row0 col0\" >1</td>\n",
       "      <td id=\"T_14907_row0_col1\" class=\"data row0 col1\" >Wall Street</td>\n",
       "      <td id=\"T_14907_row0_col2\" class=\"data row0 col2\" >USA</td>\n",
       "      <td id=\"T_14907_row0_col3\" class=\"data row0 col3\" >2000</td>\n",
       "      <td id=\"T_14907_row0_col4\" class=\"data row0 col4\" >None</td>\n",
       "    </tr>\n",
       "    <tr>\n",
       "      <td id=\"T_14907_row1_col0\" class=\"data row1 col0\" >4</td>\n",
       "      <td id=\"T_14907_row1_col1\" class=\"data row1 col1\" >Matrix</td>\n",
       "      <td id=\"T_14907_row1_col2\" class=\"data row1 col2\" >USA</td>\n",
       "      <td id=\"T_14907_row1_col3\" class=\"data row1 col3\" >1999</td>\n",
       "      <td id=\"T_14907_row1_col4\" class=\"data row1 col4\" >Welcome to The Real World</td>\n",
       "    </tr>\n",
       "    <tr>\n",
       "      <td id=\"T_14907_row2_col0\" class=\"data row2 col0\" >2</td>\n",
       "      <td id=\"T_14907_row2_col1\" class=\"data row2 col1\" >The American President</td>\n",
       "      <td id=\"T_14907_row2_col2\" class=\"data row2 col2\" >USA</td>\n",
       "      <td id=\"T_14907_row2_col3\" class=\"data row2 col3\" >1995</td>\n",
       "      <td id=\"T_14907_row2_col4\" class=\"data row2 col4\" >None</td>\n",
       "    </tr>\n",
       "    <tr>\n",
       "      <td id=\"T_14907_row3_col0\" class=\"data row3 col0\" >3</td>\n",
       "      <td id=\"T_14907_row3_col1\" class=\"data row3 col1\" >The ShawShank Redemption</td>\n",
       "      <td id=\"T_14907_row3_col2\" class=\"data row3 col2\" >USA</td>\n",
       "      <td id=\"T_14907_row3_col3\" class=\"data row3 col3\" >1994</td>\n",
       "      <td id=\"T_14907_row3_col4\" class=\"data row3 col4\" >None</td>\n",
       "    </tr>\n",
       "  </tbody>\n",
       "</table>\n"
      ],
      "text/plain": [
       "<pandas.io.formats.style.Styler at 0x7f77787b0160>"
      ]
     },
     "metadata": {},
     "output_type": "display_data"
    }
   ],
   "source": [
    "moviesOrdered = pd.read_sql('''SELECT * FROM Movie ORDER BY year DESC''', con)\n",
    "display(moviesOrdered.style.hide_index())"
   ]
  },
  {
   "cell_type": "markdown",
   "metadata": {},
   "source": [
    "#### Get All Movies released in the 90s (after year (1990) and before 2000) ordered from old to recent."
   ]
  },
  {
   "cell_type": "code",
   "execution_count": 50,
   "metadata": {},
   "outputs": [
    {
     "name": "stderr",
     "output_type": "stream",
     "text": [
      "/tmp/ipykernel_4732/150197913.py:1: UserWarning: pandas only supports SQLAlchemy connectable (engine/connection) or database string URI or sqlite3 DBAPI2 connection. Other DBAPI2 objects are not tested. Please consider using SQLAlchemy.\n",
      "  movies90 = pd.read_sql(''' SELECT * FROM Movie WHERE 1990 < year AND year < 2000 ORDER BY year DESC  ''', con)\n",
      "/tmp/ipykernel_4732/150197913.py:2: FutureWarning: this method is deprecated in favour of `Styler.hide(axis=\"index\")`\n",
      "  display(movies90.style.hide_index())\n"
     ]
    },
    {
     "data": {
      "text/html": [
       "<style type=\"text/css\">\n",
       "</style>\n",
       "<table id=\"T_33ff3\">\n",
       "  <thead>\n",
       "    <tr>\n",
       "      <th id=\"T_33ff3_level0_col0\" class=\"col_heading level0 col0\" >id</th>\n",
       "      <th id=\"T_33ff3_level0_col1\" class=\"col_heading level0 col1\" >title</th>\n",
       "      <th id=\"T_33ff3_level0_col2\" class=\"col_heading level0 col2\" >country</th>\n",
       "      <th id=\"T_33ff3_level0_col3\" class=\"col_heading level0 col3\" >year</th>\n",
       "      <th id=\"T_33ff3_level0_col4\" class=\"col_heading level0 col4\" >tagline</th>\n",
       "    </tr>\n",
       "  </thead>\n",
       "  <tbody>\n",
       "    <tr>\n",
       "      <td id=\"T_33ff3_row0_col0\" class=\"data row0 col0\" >4</td>\n",
       "      <td id=\"T_33ff3_row0_col1\" class=\"data row0 col1\" >Matrix</td>\n",
       "      <td id=\"T_33ff3_row0_col2\" class=\"data row0 col2\" >USA</td>\n",
       "      <td id=\"T_33ff3_row0_col3\" class=\"data row0 col3\" >1999</td>\n",
       "      <td id=\"T_33ff3_row0_col4\" class=\"data row0 col4\" >Welcome to The Real World</td>\n",
       "    </tr>\n",
       "    <tr>\n",
       "      <td id=\"T_33ff3_row1_col0\" class=\"data row1 col0\" >2</td>\n",
       "      <td id=\"T_33ff3_row1_col1\" class=\"data row1 col1\" >The American President</td>\n",
       "      <td id=\"T_33ff3_row1_col2\" class=\"data row1 col2\" >USA</td>\n",
       "      <td id=\"T_33ff3_row1_col3\" class=\"data row1 col3\" >1995</td>\n",
       "      <td id=\"T_33ff3_row1_col4\" class=\"data row1 col4\" >None</td>\n",
       "    </tr>\n",
       "    <tr>\n",
       "      <td id=\"T_33ff3_row2_col0\" class=\"data row2 col0\" >3</td>\n",
       "      <td id=\"T_33ff3_row2_col1\" class=\"data row2 col1\" >The ShawShank Redemption</td>\n",
       "      <td id=\"T_33ff3_row2_col2\" class=\"data row2 col2\" >USA</td>\n",
       "      <td id=\"T_33ff3_row2_col3\" class=\"data row2 col3\" >1994</td>\n",
       "      <td id=\"T_33ff3_row2_col4\" class=\"data row2 col4\" >None</td>\n",
       "    </tr>\n",
       "  </tbody>\n",
       "</table>\n"
      ],
      "text/plain": [
       "<pandas.io.formats.style.Styler at 0x7f7777ec4a00>"
      ]
     },
     "metadata": {},
     "output_type": "display_data"
    }
   ],
   "source": [
    "movies90 = pd.read_sql(''' SELECT * FROM Movie WHERE 1990 < year AND year < 2000 ORDER BY year DESC  ''', con)\n",
    "display(movies90.style.hide_index())"
   ]
  },
  {
   "cell_type": "markdown",
   "metadata": {},
   "source": [
    "#### Get Movies and Actors from your  \"movies\" DB"
   ]
  },
  {
   "cell_type": "code",
   "execution_count": 51,
   "metadata": {},
   "outputs": [
    {
     "name": "stderr",
     "output_type": "stream",
     "text": [
      "/tmp/ipykernel_4732/1805573306.py:1: UserWarning: pandas only supports SQLAlchemy connectable (engine/connection) or database string URI or sqlite3 DBAPI2 connection. Other DBAPI2 objects are not tested. Please consider using SQLAlchemy.\n",
      "  moviesActors = pd.read_sql('''SELECT Movie.title, Person.name\n",
      "/tmp/ipykernel_4732/1805573306.py:9: FutureWarning: this method is deprecated in favour of `Styler.hide(axis=\"index\")`\n",
      "  display(moviesActors.style.hide_index())\n"
     ]
    },
    {
     "data": {
      "text/html": [
       "<style type=\"text/css\">\n",
       "</style>\n",
       "<table id=\"T_f5954\">\n",
       "  <thead>\n",
       "    <tr>\n",
       "      <th id=\"T_f5954_level0_col0\" class=\"col_heading level0 col0\" >title</th>\n",
       "      <th id=\"T_f5954_level0_col1\" class=\"col_heading level0 col1\" >name</th>\n",
       "    </tr>\n",
       "  </thead>\n",
       "  <tbody>\n",
       "    <tr>\n",
       "      <td id=\"T_f5954_row0_col0\" class=\"data row0 col0\" >Wall Street</td>\n",
       "      <td id=\"T_f5954_row0_col1\" class=\"data row0 col1\" >Charlie Sheen</td>\n",
       "    </tr>\n",
       "    <tr>\n",
       "      <td id=\"T_f5954_row1_col0\" class=\"data row1 col0\" >Wall Street</td>\n",
       "      <td id=\"T_f5954_row1_col1\" class=\"data row1 col1\" >Michael Douglas</td>\n",
       "    </tr>\n",
       "    <tr>\n",
       "      <td id=\"T_f5954_row2_col0\" class=\"data row2 col0\" >Wall Street</td>\n",
       "      <td id=\"T_f5954_row2_col1\" class=\"data row2 col1\" >Martin Sheen</td>\n",
       "    </tr>\n",
       "    <tr>\n",
       "      <td id=\"T_f5954_row3_col0\" class=\"data row3 col0\" >The American President</td>\n",
       "      <td id=\"T_f5954_row3_col1\" class=\"data row3 col1\" >Michael Douglas</td>\n",
       "    </tr>\n",
       "    <tr>\n",
       "      <td id=\"T_f5954_row4_col0\" class=\"data row4 col0\" >The American President</td>\n",
       "      <td id=\"T_f5954_row4_col1\" class=\"data row4 col1\" >Martin Sheen</td>\n",
       "    </tr>\n",
       "    <tr>\n",
       "      <td id=\"T_f5954_row5_col0\" class=\"data row5 col0\" >The ShawShank Redemption</td>\n",
       "      <td id=\"T_f5954_row5_col1\" class=\"data row5 col1\" >Morgan Freeman</td>\n",
       "    </tr>\n",
       "    <tr>\n",
       "      <td id=\"T_f5954_row6_col0\" class=\"data row6 col0\" >Wall Street</td>\n",
       "      <td id=\"T_f5954_row6_col1\" class=\"data row6 col1\" >Charlie Sheen</td>\n",
       "    </tr>\n",
       "    <tr>\n",
       "      <td id=\"T_f5954_row7_col0\" class=\"data row7 col0\" >Wall Street</td>\n",
       "      <td id=\"T_f5954_row7_col1\" class=\"data row7 col1\" >Michael Douglas</td>\n",
       "    </tr>\n",
       "    <tr>\n",
       "      <td id=\"T_f5954_row8_col0\" class=\"data row8 col0\" >Wall Street</td>\n",
       "      <td id=\"T_f5954_row8_col1\" class=\"data row8 col1\" >Martin Sheen</td>\n",
       "    </tr>\n",
       "    <tr>\n",
       "      <td id=\"T_f5954_row9_col0\" class=\"data row9 col0\" >The American President</td>\n",
       "      <td id=\"T_f5954_row9_col1\" class=\"data row9 col1\" >Michael Douglas</td>\n",
       "    </tr>\n",
       "    <tr>\n",
       "      <td id=\"T_f5954_row10_col0\" class=\"data row10 col0\" >The American President</td>\n",
       "      <td id=\"T_f5954_row10_col1\" class=\"data row10 col1\" >Martin Sheen</td>\n",
       "    </tr>\n",
       "    <tr>\n",
       "      <td id=\"T_f5954_row11_col0\" class=\"data row11 col0\" >The ShawShank Redemption</td>\n",
       "      <td id=\"T_f5954_row11_col1\" class=\"data row11 col1\" >Morgan Freeman</td>\n",
       "    </tr>\n",
       "  </tbody>\n",
       "</table>\n"
      ],
      "text/plain": [
       "<pandas.io.formats.style.Styler at 0x7f7777ec5210>"
      ]
     },
     "metadata": {},
     "output_type": "display_data"
    }
   ],
   "source": [
    "moviesActors = pd.read_sql('''SELECT Movie.title, Person.name \n",
    "                              FROM Roles \n",
    "                              JOIN Movie\n",
    "                              ON Roles.movieID = Movie.id\n",
    "                              JOIN Person\n",
    "                              ON Roles.personId = Person.id\n",
    "                              ''', con)\n",
    "\n",
    "display(moviesActors.style.hide_index())"
   ]
  },
  {
   "cell_type": "markdown",
   "metadata": {},
   "source": [
    "#### Get count of \"Movies\" in your DB"
   ]
  },
  {
   "cell_type": "code",
   "execution_count": 52,
   "metadata": {},
   "outputs": [
    {
     "name": "stderr",
     "output_type": "stream",
     "text": [
      "/tmp/ipykernel_4732/984409389.py:1: UserWarning: pandas only supports SQLAlchemy connectable (engine/connection) or database string URI or sqlite3 DBAPI2 connection. Other DBAPI2 objects are not tested. Please consider using SQLAlchemy.\n",
      "  count_table= pd.read_sql('SELECT COUNT(*) AS Movie_count FROM Movie ', con)\n",
      "/tmp/ipykernel_4732/984409389.py:2: FutureWarning: this method is deprecated in favour of `Styler.hide(axis=\"index\")`\n",
      "  display(count_table.style.hide_index())\n"
     ]
    },
    {
     "data": {
      "text/html": [
       "<style type=\"text/css\">\n",
       "</style>\n",
       "<table id=\"T_5fdf2\">\n",
       "  <thead>\n",
       "    <tr>\n",
       "      <th id=\"T_5fdf2_level0_col0\" class=\"col_heading level0 col0\" >movie_count</th>\n",
       "    </tr>\n",
       "  </thead>\n",
       "  <tbody>\n",
       "    <tr>\n",
       "      <td id=\"T_5fdf2_row0_col0\" class=\"data row0 col0\" >4</td>\n",
       "    </tr>\n",
       "  </tbody>\n",
       "</table>\n"
      ],
      "text/plain": [
       "<pandas.io.formats.style.Styler at 0x7f7777f31510>"
      ]
     },
     "metadata": {},
     "output_type": "display_data"
    }
   ],
   "source": [
    "count_table= pd.read_sql('SELECT COUNT(*) AS Movie_count FROM Movie ', con)\n",
    "display(count_table.style.hide_index())"
   ]
  },
  {
   "cell_type": "markdown",
   "metadata": {},
   "source": [
    "#### In this DB, for every \"Actor\" get the number of movies he played"
   ]
  },
  {
   "cell_type": "code",
   "execution_count": 53,
   "metadata": {},
   "outputs": [
    {
     "name": "stderr",
     "output_type": "stream",
     "text": [
      "/tmp/ipykernel_4732/3694285122.py:1: UserWarning: pandas only supports SQLAlchemy connectable (engine/connection) or database string URI or sqlite3 DBAPI2 connection. Other DBAPI2 objects are not tested. Please consider using SQLAlchemy.\n",
      "  actorMoviesAgg= pd.read_sql('''\n",
      "/tmp/ipykernel_4732/3694285122.py:10: FutureWarning: this method is deprecated in favour of `Styler.hide(axis=\"index\")`\n",
      "  display(actorMoviesAgg.style.hide_index())\n"
     ]
    },
    {
     "data": {
      "text/html": [
       "<style type=\"text/css\">\n",
       "</style>\n",
       "<table id=\"T_70127\">\n",
       "  <thead>\n",
       "    <tr>\n",
       "      <th id=\"T_70127_level0_col0\" class=\"col_heading level0 col0\" >name</th>\n",
       "      <th id=\"T_70127_level0_col1\" class=\"col_heading level0 col1\" >movie_played</th>\n",
       "    </tr>\n",
       "  </thead>\n",
       "  <tbody>\n",
       "    <tr>\n",
       "      <td id=\"T_70127_row0_col0\" class=\"data row0 col0\" >Morgan Freeman</td>\n",
       "      <td id=\"T_70127_row0_col1\" class=\"data row0 col1\" >2</td>\n",
       "    </tr>\n",
       "    <tr>\n",
       "      <td id=\"T_70127_row1_col0\" class=\"data row1 col0\" >Martin Sheen</td>\n",
       "      <td id=\"T_70127_row1_col1\" class=\"data row1 col1\" >4</td>\n",
       "    </tr>\n",
       "    <tr>\n",
       "      <td id=\"T_70127_row2_col0\" class=\"data row2 col0\" >Michael Douglas</td>\n",
       "      <td id=\"T_70127_row2_col1\" class=\"data row2 col1\" >4</td>\n",
       "    </tr>\n",
       "    <tr>\n",
       "      <td id=\"T_70127_row3_col0\" class=\"data row3 col0\" >Charlie Sheen</td>\n",
       "      <td id=\"T_70127_row3_col1\" class=\"data row3 col1\" >2</td>\n",
       "    </tr>\n",
       "  </tbody>\n",
       "</table>\n"
      ],
      "text/plain": [
       "<pandas.io.formats.style.Styler at 0x7f7777f30400>"
      ]
     },
     "metadata": {},
     "output_type": "display_data"
    }
   ],
   "source": [
    "actorMoviesAgg= pd.read_sql('''  \n",
    "                              SELECT Person.name, COUNT(Movie.title) as Movie_played\n",
    "                              FROM Roles \n",
    "                              JOIN Movie\n",
    "                              ON Roles.movieID = Movie.id\n",
    "                              JOIN Person\n",
    "                              ON Roles.personId = Person.id\n",
    "                              GROUP BY Person.name\n",
    "                              ''', con)\n",
    "display(actorMoviesAgg.style.hide_index())"
   ]
  },
  {
   "cell_type": "markdown",
   "metadata": {},
   "source": [
    "#### In this DB, List the movies that every Actor Played\n",
    "<b>Hint:</b> use the aggregation function <b>\"ARRAY_AGG\"</b> to group movies as a list."
   ]
  },
  {
   "cell_type": "code",
   "execution_count": 54,
   "metadata": {},
   "outputs": [
    {
     "name": "stderr",
     "output_type": "stream",
     "text": [
      "/tmp/ipykernel_4732/874498500.py:1: UserWarning: pandas only supports SQLAlchemy connectable (engine/connection) or database string URI or sqlite3 DBAPI2 connection. Other DBAPI2 objects are not tested. Please consider using SQLAlchemy.\n",
      "  actorMoviesAggList= pd.read_sql('''\n",
      "/tmp/ipykernel_4732/874498500.py:9: FutureWarning: this method is deprecated in favour of `Styler.hide(axis=\"index\")`\n",
      "  display(actorMoviesAggList.style.hide_index())\n"
     ]
    },
    {
     "data": {
      "text/html": [
       "<style type=\"text/css\">\n",
       "</style>\n",
       "<table id=\"T_26511\">\n",
       "  <thead>\n",
       "    <tr>\n",
       "      <th id=\"T_26511_level0_col0\" class=\"col_heading level0 col0\" >title</th>\n",
       "      <th id=\"T_26511_level0_col1\" class=\"col_heading level0 col1\" >actor</th>\n",
       "    </tr>\n",
       "  </thead>\n",
       "  <tbody>\n",
       "    <tr>\n",
       "      <td id=\"T_26511_row0_col0\" class=\"data row0 col0\" >The American President</td>\n",
       "      <td id=\"T_26511_row0_col1\" class=\"data row0 col1\" >['Michael Douglas', 'Martin Sheen', 'Michael Douglas', 'Martin Sheen']</td>\n",
       "    </tr>\n",
       "    <tr>\n",
       "      <td id=\"T_26511_row1_col0\" class=\"data row1 col0\" >Wall Street</td>\n",
       "      <td id=\"T_26511_row1_col1\" class=\"data row1 col1\" >['Charlie Sheen', 'Michael Douglas', 'Martin Sheen', 'Charlie Sheen', 'Michael Douglas', 'Martin Sheen']</td>\n",
       "    </tr>\n",
       "    <tr>\n",
       "      <td id=\"T_26511_row2_col0\" class=\"data row2 col0\" >The ShawShank Redemption</td>\n",
       "      <td id=\"T_26511_row2_col1\" class=\"data row2 col1\" >['Morgan Freeman', 'Morgan Freeman']</td>\n",
       "    </tr>\n",
       "  </tbody>\n",
       "</table>\n"
      ],
      "text/plain": [
       "<pandas.io.formats.style.Styler at 0x7f7777f32110>"
      ]
     },
     "metadata": {},
     "output_type": "display_data"
    }
   ],
   "source": [
    "actorMoviesAggList= pd.read_sql('''                                \n",
    "                              SELECT Movie.title, ARRAY_AGG (Person.name) AS Actor\n",
    "                              FROM Roles \n",
    "                              JOIN Movie\n",
    "                              ON Roles.movieID = Movie.id\n",
    "                              JOIN Person\n",
    "                              ON Roles.personId = Person.id\n",
    "                              GROUP BY Movie.title''', con)\n",
    "display(actorMoviesAggList.style.hide_index())"
   ]
  },
  {
   "cell_type": "markdown",
   "metadata": {},
   "source": [
    "### UPDATE Table Data\n",
    "\n",
    "#### Update the year of production of the movie \"Wall Street\" to be 2000 instead of it's current year. Show the record before and after the update."
   ]
  },
  {
   "cell_type": "code",
   "execution_count": 55,
   "metadata": {},
   "outputs": [
    {
     "name": "stdout",
     "output_type": "stream",
     "text": [
      "1 Record updated successfully into customers table\n"
     ]
    }
   ],
   "source": [
    "### YOUR CODE HERE!!!\n",
    "sql_update_orders = '''UPDATE Movie \n",
    "                       SET year = 2000\n",
    "                       WHERE title = 'Wall Street' '''\n",
    "\n",
    "try:\n",
    "    # execute the INSERT statement\n",
    "    cursor.execute(sql_update_orders)\n",
    "    # commit the changes to the database\n",
    "    con.commit()\n",
    "\n",
    "except (Exception, psycopg2.Error) as error :\n",
    "    con.rollback()\n",
    "    print (\"Error while exccuting the query at PostgreSQL\",error)\n",
    "    \n",
    "finally:\n",
    "    \n",
    "    count = cursor.rowcount\n",
    "    print (count, \"Record updated successfully into customers table\")\n"
   ]
  },
  {
   "cell_type": "markdown",
   "metadata": {},
   "source": [
    "## Delete Table rows\n",
    "\n",
    "#### Delete the movie with id =1 , and show the person table before and after the deletion."
   ]
  },
  {
   "cell_type": "code",
   "execution_count": 56,
   "metadata": {},
   "outputs": [
    {
     "name": "stdout",
     "output_type": "stream",
     "text": [
      "1 Record deleted successfully into customers table\n"
     ]
    }
   ],
   "source": [
    "### YOUR CODE HERE !!!\n",
    "### YOUR CODE HERE!!!\n",
    "sql_delete_orders = '''DELETE Movie \n",
    "                       WHERE id = 1 '''\n",
    "\n",
    "try:\n",
    "    # execute the INSERT statement\n",
    "    cursor.execute(sql_update_orders)\n",
    "    # commit the changes to the database\n",
    "    con.commit()\n",
    "\n",
    "except (Exception, psycopg2.Error) as error :\n",
    "    con.rollback()\n",
    "    print (\"Error while exccuting the query at PostgreSQL\",error)\n",
    "    \n",
    "finally:\n",
    "    \n",
    "    count = cursor.rowcount\n",
    "    print (count, \"Record deleted successfully into customers table\")"
   ]
  },
  {
   "cell_type": "markdown",
   "metadata": {},
   "source": [
    "## Extend you \"Movies\" DB \n",
    "\n",
    "Imagine now that we are going to extend our DB with new movies, actors, even with new directors.\n",
    "\n",
    "- We add <b>**\"The matrix\"**</b> movie which was released in <b>(1999)</b>, and has a new property \"Tagline\" <b>(\"Welcome to the Real World\")</b>.\n",
    "    - <font color='red'> Adding the \"Tagline\" new property (attribute) require changing the table schema</font>\n",
    "\n",
    "- We will also add 4 new actors (Person):\n",
    "    - **\"Keanu Reeves\"** who was born in (1964). Note \"born\" property is also new.\n",
    "    - **\"Carrie-Anne Moss\"** who was born in (1967).\n",
    "    - **\"Laurence Fishburne\"** who was born in (1960).\n",
    "    - **\"Hugo Weaving\"** who was born in (1960).\n",
    "    * <font color='red'> **Note**: Adding the new \"born\" Property require changing the table schema</font>    \n",
    "- Moreover, we add 2 directors (Person) :\n",
    "    - **\"Lilly Wachowski\"**, born in (1967)\n",
    "    - **\"Lana Wachowski\"**, born in(1965)\n",
    "- For these directors specify one more Label (\"Director\").\n",
    "    - <font color='red'> This new Label Will require **\"Denormalization\"** Or smothing</font>\n",
    "    \n",
    "- We will also Create a new <b>RelationType \"DIRECTED\" </b> that is directed from the later 3 director to \"the Matrix\" movie.\n",
    "    - - <font color='red'> New created table for **Directed** relationship </font>"
   ]
  },
  {
   "cell_type": "markdown",
   "metadata": {},
   "source": [
    "#### Adding Tagline column to the movie table requires, altering the table schema"
   ]
  },
  {
   "cell_type": "code",
   "execution_count": 60,
   "metadata": {},
   "outputs": [
    {
     "name": "stdout",
     "output_type": "stream",
     "text": [
      "Connected Successfully to PostgreSQL server!!\n",
      "Error while exccuting the query at PostgreSQL column \"tagline\" of relation \"movie\" already exists\n",
      "\n",
      "-1 Record updated successfully into customers table\n"
     ]
    }
   ],
   "source": [
    "# Add a new Column to the Schema of movie table\n",
    "# Create connection\n",
    "try:\n",
    "    # Connect to the postgreSQL server with username, and password credentials\n",
    "    con = psycopg2.connect(user = \"pguser\",\n",
    "                                  password = \"changeme\",\n",
    "                                  host = \"127.0.0.1\",\n",
    "                                  port = \"5432\")\n",
    "    \n",
    "    con.set_isolation_level(ISOLATION_LEVEL_AUTOCOMMIT);\n",
    "    print(\"Connected Successfully to PostgreSQL server!!\")\n",
    "    \n",
    "    # Obtain a DB Cursor to perform database operations\n",
    "    cursor = con.cursor();\n",
    "except (Exception, psycopg2.Error) as error :\n",
    "     print (\"Error while connecting to PostgreSQL\", error)\n",
    "        \n",
    "sql_alter_query = 'ALTER TABLE Movie ADD Tagline TEXT'\n",
    "try:\n",
    "    # execute the Alter statement\n",
    "    cursor.execute(sql_alter_query)\n",
    "    # commit the changes to the database\n",
    "    con.commit()\n",
    "\n",
    "except (Exception, psycopg2.Error) as error :\n",
    "    con.rollback()\n",
    "    print (\"Error while exccuting the query at PostgreSQL\",error)\n",
    "    \n",
    "finally:\n",
    "    \n",
    "    count = cursor.rowcount\n",
    "    print (count, \"Record updated successfully into customers table\")\n"
   ]
  },
  {
   "cell_type": "markdown",
   "metadata": {},
   "source": [
    "#### Inserting the new movie \"The Matrix\" with the prementioned attributes to movie table"
   ]
  },
  {
   "cell_type": "code",
   "execution_count": 58,
   "metadata": {},
   "outputs": [
    {
     "name": "stdout",
     "output_type": "stream",
     "text": [
      "Error while exccuting the query at PostgreSQL duplicate key value violates unique constraint \"movie_pkey\"\n",
      "DETAIL:  Key (id)=(4) already exists.\n",
      "\n",
      "-1 Record inserted successfully into Movie table\n"
     ]
    }
   ],
   "source": [
    "#### YOUR CODE HERE !!!\n",
    "sql_insert_orders = '''INSERT INTO Movie (id, title, country, year, tagline) VALUES(%s,%s,%s,%s,%s)'''\n",
    "\n",
    "#list of customers\n",
    "orders_List=[\n",
    "        (4, \"The matrix\", 'USA','1999','Welcome to The Real World')]\n",
    "try:\n",
    "    # execute the INSERT statement\n",
    "    cursor.executemany(sql_insert_orders,orders_List)\n",
    "    # commit the changes to the database\n",
    "    con.commit()\n",
    "\n",
    "except (Exception, psycopg2.Error) as error :\n",
    "    con.rollback()\n",
    "    print (\"Error while exccuting the query at PostgreSQL\",error)\n",
    "    \n",
    "finally:\n",
    "    \n",
    "    count = cursor.rowcount\n",
    "    print (count, \"Record inserted successfully into Movie table\")"
   ]
  },
  {
   "cell_type": "markdown",
   "metadata": {},
   "source": [
    "#### Adding 'born' column to the person table also requires, altering the table schema"
   ]
  },
  {
   "cell_type": "code",
   "execution_count": 59,
   "metadata": {},
   "outputs": [
    {
     "name": "stdout",
     "output_type": "stream",
     "text": [
      "Error while exccuting the query at PostgreSQL column \"born\" of relation \"person\" already exists\n",
      "\n",
      "-1 Record updated successfully into Person table\n"
     ]
    }
   ],
   "source": [
    "# Add a new Column to the Schema of person table\n",
    "sql_alter_query = 'ALTER TABLE Person ADD born TEXT'\n",
    "try:\n",
    "    # execute the Alter statement\n",
    "    cursor.execute(sql_alter_query)\n",
    "    # commit the changes to the database\n",
    "    con.commit()\n",
    "\n",
    "except (Exception, psycopg2.Error) as error :\n",
    "    con.rollback()\n",
    "    print (\"Error while exccuting the query at PostgreSQL\",error)\n",
    "    \n",
    "finally:\n",
    "    \n",
    "    count = cursor.rowcount\n",
    "    print (count, \"Record updated successfully into Person table\")"
   ]
  },
  {
   "cell_type": "markdown",
   "metadata": {},
   "source": [
    "#### Inserting the  \"4\" more Actors."
   ]
  },
  {
   "cell_type": "code",
   "execution_count": 66,
   "metadata": {},
   "outputs": [
    {
     "name": "stdout",
     "output_type": "stream",
     "text": [
      "1 Record inserted successfully into Person table\n"
     ]
    }
   ],
   "source": [
    "#YOU CODE for Adding 4 More Actors\n",
    "sql_insert_orders = '''INSERT INTO Person (id, name, born) VALUES(%s,%s,%s)'''\n",
    "\n",
    "'''\n",
    "\"Keanu Reeves\" who was born in (1964). Note \"born\" property is also new.\n",
    "\"Carrie-Anne Moss\" who was born in (1967).\n",
    "\"Laurence Fishburne\" who was born in (1960).\n",
    "\"Hugo Weaving\" who was born in (1960).\n",
    "'''\n",
    "\n",
    "\n",
    "#list of customers\n",
    "orders_List=[\n",
    "        (5, \"Keanu Reeves\", 1964),\n",
    "        (6, \"Carrie-Anne Moss\", 1967),\n",
    "        (7, \"Laurence Fishburne\", 1960),\n",
    "        (8, \"Hugo Weaving\", 1960)]\n",
    "try:\n",
    "    # execute the INSERT statement\n",
    "    cursor.executemany(sql_insert_orders,orders_List)\n",
    "    # commit the changes to the database\n",
    "    con.commit()\n",
    "\n",
    "except (Exception, psycopg2.Error) as error :\n",
    "    con.rollback()\n",
    "    print (\"Error while exccuting the query at PostgreSQL\",error)\n",
    "    \n",
    "finally:\n",
    "    \n",
    "    count = cursor.rowcount\n",
    "    print (count, \"Record inserted successfully into Person table\")"
   ]
  },
  {
   "cell_type": "markdown",
   "metadata": {},
   "source": [
    "#### Inserting the  \"2\" Directors"
   ]
  },
  {
   "cell_type": "code",
   "execution_count": 71,
   "metadata": {},
   "outputs": [
    {
     "name": "stdout",
     "output_type": "stream",
     "text": [
      "2 Record inserted successfully into Person table\n"
     ]
    }
   ],
   "source": [
    "# YOU CODE for Adding 2 more Directors\n",
    "sql_insert_orders = '''INSERT INTO Person (id, name, born) VALUES(%s,%s,%s)'''\n",
    "\n",
    "#list of customers\n",
    "orders_List=[\n",
    "        (9, \"Lilly Wachowski\", 1967),\n",
    "        (10, \"Carrie-Anne Moss\", 1965)]\n",
    "try:\n",
    "    # execute the INSERT statement\n",
    "    cursor.executemany(sql_insert_orders,orders_List)\n",
    "    # commit the changes to the database\n",
    "    con.commit()\n",
    "\n",
    "except (Exception, psycopg2.Error) as error :\n",
    "    con.rollback()\n",
    "    print (\"Error while exccuting the query at PostgreSQL\",error)\n",
    "    \n",
    "finally:\n",
    "    \n",
    "    count = cursor.rowcount\n",
    "    print (count, \"Record inserted successfully into Person table\")"
   ]
  },
  {
   "cell_type": "markdown",
   "metadata": {},
   "source": [
    "#### Specifying this new Label (\"Director\") will require \"normalization\"\n",
    "\n",
    "I highly suggest modeling this a little more \"normalized\". You are already on the right track by realizing that both \"Directors\" and maybe after that \"Actors\" are the same entity (Person). The trick is that you should model \"roles\", and then model user's roles as well. That makes 3 total tables for this small portion of your model.\n",
    "\n",
    "<img src= 'NormalizationTrick.JPG'>"
   ]
  },
  {
   "cell_type": "code",
   "execution_count": 67,
   "metadata": {},
   "outputs": [
    {
     "name": "stdout",
     "output_type": "stream",
     "text": [
      "Table (Label) created successfully in PostgreSQL \n"
     ]
    }
   ],
   "source": [
    "#Create Label Table CODE HERE !!!\n",
    "try:\n",
    "    #table_name variable\n",
    "    customerTable=\"Label\"\n",
    "    create_customerTablee_query = '''CREATE TABLE '''+ customerTable+''' \n",
    "              (labelID        TEXT    PRIMARY KEY,\n",
    "               labelName      TEXT    NOT NULL\n",
    "               ); '''\n",
    "\n",
    "    #Execute this command (SQL Query)\n",
    "    cursor.execute(create_customerTablee_query)\n",
    "    \n",
    "    # Make the changes to the database persistent\n",
    "    con.commit()\n",
    "    print(\"Table (\"+ customerTable +\") created successfully in PostgreSQL \")\n",
    "except (Exception, psycopg2.Error) as error:\n",
    "    # if it exits with an exception the transaction is rolled back.\n",
    "    con.rollback()\n",
    "    print(\"Error While Creating the DB: \",error)\n",
    "\n"
   ]
  },
  {
   "cell_type": "code",
   "execution_count": 69,
   "metadata": {},
   "outputs": [
    {
     "name": "stdout",
     "output_type": "stream",
     "text": [
      "Table (Person_Label) created successfully in PostgreSQL \n"
     ]
    }
   ],
   "source": [
    "#Create Person_Label Table CODE HERE !!!\n",
    "try:\n",
    "    #table_name variable\n",
    "    customerTable=\"Person_Label\"\n",
    "    create_customerTablee_query = '''CREATE TABLE '''+ customerTable+''' \n",
    "              (personID       INT     REFERENCES Person(id),\n",
    "               labelID        TEXT    REFERENCES Label(labelID)\n",
    "               ); '''\n",
    "\n",
    "    #Execute this command (SQL Query)\n",
    "    cursor.execute(create_customerTablee_query)\n",
    "    \n",
    "    # Make the changes to the database persistent\n",
    "    con.commit()\n",
    "    print(\"Table (\"+ customerTable +\") created successfully in PostgreSQL \")\n",
    "except (Exception, psycopg2.Error) as error:\n",
    "    # if it exits with an exception the transaction is rolled back.\n",
    "    con.rollback()\n",
    "    print(\"Error While Creating the DB: \",error)"
   ]
  },
  {
   "cell_type": "markdown",
   "metadata": {},
   "source": [
    "#### Insert Data into the two new normalized tables (\"Person_label\", and \"Label\") "
   ]
  },
  {
   "cell_type": "code",
   "execution_count": 72,
   "metadata": {},
   "outputs": [
    {
     "name": "stdout",
     "output_type": "stream",
     "text": [
      "Error while exccuting the query at PostgreSQL duplicate key value violates unique constraint \"label_pkey\"\n",
      "DETAIL:  Key (labelid)=(ACT) already exists.\n",
      "\n",
      "-1 Record inserted successfully into Label table\n",
      "10 Record inserted successfully into Person_Label table\n"
     ]
    }
   ],
   "source": [
    "#### YOUR CODE HERE !!!\n",
    "# Label\n",
    "sql_insert_orders = '''INSERT INTO Label (labelID, labelName) VALUES(%s,%s)'''\n",
    "\n",
    "#list of customers\n",
    "orders_List=[\n",
    "        ('ACT', 'Actor'),\n",
    "        ('DIR', 'Director')]\n",
    "try:\n",
    "    # execute the INSERT statement\n",
    "    cursor.executemany(sql_insert_orders,orders_List)\n",
    "    # commit the changes to the database\n",
    "    con.commit()\n",
    "\n",
    "except (Exception, psycopg2.Error) as error :\n",
    "    con.rollback()\n",
    "    print (\"Error while exccuting the query at PostgreSQL\",error)\n",
    "    \n",
    "finally:\n",
    "    \n",
    "    count = cursor.rowcount\n",
    "    print (count, \"Record inserted successfully into Label table\")\n",
    "\n",
    "\n",
    "### Person_label\n",
    "\n",
    "sql_insert_orders = '''INSERT INTO Person_Label (personID, labelID) VALUES(%s,%s)'''\n",
    "\n",
    "#list of customers\n",
    "orders_List=[\n",
    "        (1, 'ACT'),\n",
    "        (2, 'ACT'),\n",
    "        (3, 'ACT'),\n",
    "        (4, 'ACT'),\n",
    "        (5, 'ACT'),\n",
    "        (6, 'ACT'),\n",
    "        (7, 'ACT'),\n",
    "        (8, 'ACT'),\n",
    "        (9, 'DIR'),\n",
    "        (10,'DIR')]\n",
    "try:\n",
    "    # execute the INSERT statement\n",
    "    cursor.executemany(sql_insert_orders,orders_List)\n",
    "    # commit the changes to the database\n",
    "    con.commit()\n",
    "\n",
    "except (Exception, psycopg2.Error) as error :\n",
    "    con.rollback()\n",
    "    print (\"Error while exccuting the query at PostgreSQL\",error)\n",
    "    \n",
    "finally:\n",
    "    \n",
    "    count = cursor.rowcount\n",
    "    print (count, \"Record inserted successfully into Person_Label table\")\n"
   ]
  },
  {
   "cell_type": "markdown",
   "metadata": {},
   "source": [
    "#### Perform a query that shows only the \"Directors\""
   ]
  },
  {
   "cell_type": "code",
   "execution_count": 79,
   "metadata": {},
   "outputs": [
    {
     "name": "stderr",
     "output_type": "stream",
     "text": [
      "/tmp/ipykernel_4732/2918520124.py:2: UserWarning: pandas only supports SQLAlchemy connectable (engine/connection) or database string URI or sqlite3 DBAPI2 connection. Other DBAPI2 objects are not tested. Please consider using SQLAlchemy.\n",
      "  count_table= pd.read_sql('''SELECT Person.id, Label.labelName\n",
      "/tmp/ipykernel_4732/2918520124.py:9: FutureWarning: this method is deprecated in favour of `Styler.hide(axis=\"index\")`\n",
      "  display(count_table.style.hide_index())\n"
     ]
    },
    {
     "data": {
      "text/html": [
       "<style type=\"text/css\">\n",
       "</style>\n",
       "<table id=\"T_84c9e\">\n",
       "  <thead>\n",
       "    <tr>\n",
       "      <th id=\"T_84c9e_level0_col0\" class=\"col_heading level0 col0\" >id</th>\n",
       "      <th id=\"T_84c9e_level0_col1\" class=\"col_heading level0 col1\" >labelname</th>\n",
       "    </tr>\n",
       "  </thead>\n",
       "  <tbody>\n",
       "    <tr>\n",
       "      <td id=\"T_84c9e_row0_col0\" class=\"data row0 col0\" >1</td>\n",
       "      <td id=\"T_84c9e_row0_col1\" class=\"data row0 col1\" >Actor</td>\n",
       "    </tr>\n",
       "    <tr>\n",
       "      <td id=\"T_84c9e_row1_col0\" class=\"data row1 col0\" >2</td>\n",
       "      <td id=\"T_84c9e_row1_col1\" class=\"data row1 col1\" >Actor</td>\n",
       "    </tr>\n",
       "    <tr>\n",
       "      <td id=\"T_84c9e_row2_col0\" class=\"data row2 col0\" >3</td>\n",
       "      <td id=\"T_84c9e_row2_col1\" class=\"data row2 col1\" >Actor</td>\n",
       "    </tr>\n",
       "    <tr>\n",
       "      <td id=\"T_84c9e_row3_col0\" class=\"data row3 col0\" >4</td>\n",
       "      <td id=\"T_84c9e_row3_col1\" class=\"data row3 col1\" >Actor</td>\n",
       "    </tr>\n",
       "    <tr>\n",
       "      <td id=\"T_84c9e_row4_col0\" class=\"data row4 col0\" >5</td>\n",
       "      <td id=\"T_84c9e_row4_col1\" class=\"data row4 col1\" >Actor</td>\n",
       "    </tr>\n",
       "    <tr>\n",
       "      <td id=\"T_84c9e_row5_col0\" class=\"data row5 col0\" >6</td>\n",
       "      <td id=\"T_84c9e_row5_col1\" class=\"data row5 col1\" >Actor</td>\n",
       "    </tr>\n",
       "    <tr>\n",
       "      <td id=\"T_84c9e_row6_col0\" class=\"data row6 col0\" >7</td>\n",
       "      <td id=\"T_84c9e_row6_col1\" class=\"data row6 col1\" >Actor</td>\n",
       "    </tr>\n",
       "    <tr>\n",
       "      <td id=\"T_84c9e_row7_col0\" class=\"data row7 col0\" >8</td>\n",
       "      <td id=\"T_84c9e_row7_col1\" class=\"data row7 col1\" >Actor</td>\n",
       "    </tr>\n",
       "    <tr>\n",
       "      <td id=\"T_84c9e_row8_col0\" class=\"data row8 col0\" >1</td>\n",
       "      <td id=\"T_84c9e_row8_col1\" class=\"data row8 col1\" >Actor</td>\n",
       "    </tr>\n",
       "    <tr>\n",
       "      <td id=\"T_84c9e_row9_col0\" class=\"data row9 col0\" >2</td>\n",
       "      <td id=\"T_84c9e_row9_col1\" class=\"data row9 col1\" >Actor</td>\n",
       "    </tr>\n",
       "    <tr>\n",
       "      <td id=\"T_84c9e_row10_col0\" class=\"data row10 col0\" >3</td>\n",
       "      <td id=\"T_84c9e_row10_col1\" class=\"data row10 col1\" >Actor</td>\n",
       "    </tr>\n",
       "    <tr>\n",
       "      <td id=\"T_84c9e_row11_col0\" class=\"data row11 col0\" >4</td>\n",
       "      <td id=\"T_84c9e_row11_col1\" class=\"data row11 col1\" >Actor</td>\n",
       "    </tr>\n",
       "    <tr>\n",
       "      <td id=\"T_84c9e_row12_col0\" class=\"data row12 col0\" >5</td>\n",
       "      <td id=\"T_84c9e_row12_col1\" class=\"data row12 col1\" >Actor</td>\n",
       "    </tr>\n",
       "    <tr>\n",
       "      <td id=\"T_84c9e_row13_col0\" class=\"data row13 col0\" >6</td>\n",
       "      <td id=\"T_84c9e_row13_col1\" class=\"data row13 col1\" >Actor</td>\n",
       "    </tr>\n",
       "    <tr>\n",
       "      <td id=\"T_84c9e_row14_col0\" class=\"data row14 col0\" >7</td>\n",
       "      <td id=\"T_84c9e_row14_col1\" class=\"data row14 col1\" >Actor</td>\n",
       "    </tr>\n",
       "    <tr>\n",
       "      <td id=\"T_84c9e_row15_col0\" class=\"data row15 col0\" >8</td>\n",
       "      <td id=\"T_84c9e_row15_col1\" class=\"data row15 col1\" >Actor</td>\n",
       "    </tr>\n",
       "    <tr>\n",
       "      <td id=\"T_84c9e_row16_col0\" class=\"data row16 col0\" >9</td>\n",
       "      <td id=\"T_84c9e_row16_col1\" class=\"data row16 col1\" >Director</td>\n",
       "    </tr>\n",
       "    <tr>\n",
       "      <td id=\"T_84c9e_row17_col0\" class=\"data row17 col0\" >10</td>\n",
       "      <td id=\"T_84c9e_row17_col1\" class=\"data row17 col1\" >Director</td>\n",
       "    </tr>\n",
       "  </tbody>\n",
       "</table>\n"
      ],
      "text/plain": [
       "<pandas.io.formats.style.Styler at 0x7f77779479d0>"
      ]
     },
     "metadata": {},
     "output_type": "display_data"
    }
   ],
   "source": [
    "#### YOUR CODE HERE !!!\n",
    "count_table= pd.read_sql('''SELECT Person.name, Label.labelName \n",
    "                            FROM Person\n",
    "                            JOIN Person_Label\n",
    "                            ON Person.id = Person_Label.personID\n",
    "                            JOIN Label\n",
    "                            ON Person_Label.labelID = Label.labelID\n",
    "                            WHERE Person_Label.LabelID = 'DIR' ''', con)\n",
    "display(count_table.style.hide_index())"
   ]
  },
  {
   "cell_type": "markdown",
   "metadata": {},
   "source": [
    "#### \"Directed\" Relationship creation"
   ]
  },
  {
   "cell_type": "code",
   "execution_count": 90,
   "metadata": {},
   "outputs": [
    {
     "name": "stdout",
     "output_type": "stream",
     "text": [
      "Table (Directed) created successfully in PostgreSQL \n"
     ]
    }
   ],
   "source": [
    "# CODE to create the \"Directed\" Relationship.\n",
    "try:\n",
    "    #table_name variable\n",
    "    customerTable=\"Directed\"\n",
    "    create_customerTablee_query = '''CREATE TABLE '''+ customerTable+''' \n",
    "              (id             INT     REFERENCES Person(id),\n",
    "               movieId        INT    REFERENCES Movie(id)\n",
    "               ); '''\n",
    "\n",
    "    #Execute this command (SQL Query)\n",
    "    cursor.execute(create_customerTablee_query)\n",
    "    \n",
    "    # Make the changes to the database persistent\n",
    "    con.commit()\n",
    "    print(\"Table (\"+ customerTable +\") created successfully in PostgreSQL \")\n",
    "except (Exception, psycopg2.Error) as error:\n",
    "    # if it exits with an exception the transaction is rolled back.\n",
    "    con.rollback()\n",
    "    print(\"Error While Creating the DB: \",error)"
   ]
  },
  {
   "cell_type": "markdown",
   "metadata": {},
   "source": [
    "#### Insert data to the \"Directed\" table "
   ]
  },
  {
   "cell_type": "code",
   "execution_count": 91,
   "metadata": {},
   "outputs": [
    {
     "name": "stdout",
     "output_type": "stream",
     "text": [
      "2 Record inserted successfully into Directed table\n"
     ]
    }
   ],
   "source": [
    "### YOUR CODE HERE !!!\n",
    "sql_insert_orders = '''INSERT INTO Directed (id, movieId) VALUES(%s,%s)'''\n",
    "\n",
    "#list of customers\n",
    "orders_List=[\n",
    "        (9,  4),\n",
    "        (10, 4)]\n",
    "try:\n",
    "    # execute the INSERT statement\n",
    "    cursor.executemany(sql_insert_orders,orders_List)\n",
    "    # commit the changes to the database\n",
    "    con.commit()\n",
    "\n",
    "except (Exception, psycopg2.Error) as error :\n",
    "    con.rollback()\n",
    "    print (\"Error while exccuting the query at PostgreSQL\",error)\n",
    "    \n",
    "finally:\n",
    "    \n",
    "    count = cursor.rowcount\n",
    "    print (count, \"Record inserted successfully into Directed table\")"
   ]
  },
  {
   "cell_type": "markdown",
   "metadata": {},
   "source": [
    "### Perform a query that get persons who Directed \"The matrix\" movie."
   ]
  },
  {
   "cell_type": "code",
   "execution_count": 96,
   "metadata": {},
   "outputs": [
    {
     "name": "stderr",
     "output_type": "stream",
     "text": [
      "/tmp/ipykernel_4732/1643079756.py:2: UserWarning: pandas only supports SQLAlchemy connectable (engine/connection) or database string URI or sqlite3 DBAPI2 connection. Other DBAPI2 objects are not tested. Please consider using SQLAlchemy.\n",
      "  count_table= pd.read_sql('''SELECT Person.name, Movie.title\n",
      "/tmp/ipykernel_4732/1643079756.py:9: FutureWarning: this method is deprecated in favour of `Styler.hide(axis=\"index\")`\n",
      "  display(count_table.style.hide_index())\n"
     ]
    },
    {
     "data": {
      "text/html": [
       "<style type=\"text/css\">\n",
       "</style>\n",
       "<table id=\"T_fb977\">\n",
       "  <thead>\n",
       "    <tr>\n",
       "      <th id=\"T_fb977_level0_col0\" class=\"col_heading level0 col0\" >name</th>\n",
       "      <th id=\"T_fb977_level0_col1\" class=\"col_heading level0 col1\" >title</th>\n",
       "    </tr>\n",
       "  </thead>\n",
       "  <tbody>\n",
       "    <tr>\n",
       "      <td id=\"T_fb977_row0_col0\" class=\"data row0 col0\" >Lilly Wachowski</td>\n",
       "      <td id=\"T_fb977_row0_col1\" class=\"data row0 col1\" >The Matrix</td>\n",
       "    </tr>\n",
       "    <tr>\n",
       "      <td id=\"T_fb977_row1_col0\" class=\"data row1 col0\" >Carrie-Anne Moss</td>\n",
       "      <td id=\"T_fb977_row1_col1\" class=\"data row1 col1\" >The Matrix</td>\n",
       "    </tr>\n",
       "  </tbody>\n",
       "</table>\n"
      ],
      "text/plain": [
       "<pandas.io.formats.style.Styler at 0x7f77777ec250>"
      ]
     },
     "metadata": {},
     "output_type": "display_data"
    }
   ],
   "source": [
    "#### YOUR CODE HERE !!!\n",
    "count_table= pd.read_sql('''SELECT Person.name, Movie.title \n",
    "                            FROM Person\n",
    "                            JOIN Directed\n",
    "                            ON Person.id = Directed.id\n",
    "                            JOIN Movie\n",
    "                            ON Movie.id = Directed.movieId\n",
    "                            WHERE Movie.title = 'The Matrix' ''', con)\n",
    "display(count_table.style.hide_index())"
   ]
  },
  {
   "cell_type": "markdown",
   "metadata": {},
   "source": [
    "## Task 3 (Tartu Country Club): \n",
    "\n",
    "- The DB  centered arround a **\"country club\"**, with a set of **members**, **facilities** such as tennis courts, and booking history for those facilities. \n",
    "- Amongst other things, the club wants to understand how they can use their information to analyze facility usage/demand.\n",
    "\n",
    "<img src=\"DBSchema.JPG\">"
   ]
  },
  {
   "cell_type": "markdown",
   "metadata": {},
   "source": [
    "#### From the above schema Diagram, answer the following questions:\n",
    "- What is the relationship type(i.e. nature) between the **\"memebers\"** and **\"facilities\"** tables?"
   ]
  },
  {
   "cell_type": "markdown",
   "metadata": {},
   "source": [
    "##### <font color='green'>Answer: </font> The relationship type is Many-to-Many Because a member can make many booking on different facilities and a facilities can be booked by many members"
   ]
  },
  {
   "cell_type": "markdown",
   "metadata": {},
   "source": [
    "- Mention How was this relationship handled ?"
   ]
  },
  {
   "cell_type": "markdown",
   "metadata": {},
   "source": [
    "##### <font color='green'> Answer: </font>The relationship is handled by the Booking table by using memberID and faciID as foreign key. As both are not PK, then the booking may appear their ID multiple time -> Many-to-Many relationship "
   ]
  },
  {
   "cell_type": "markdown",
   "metadata": {},
   "source": [
    "- Mention what are the keys (PRIMARY, FORIEGN,..) in all the three tables (DB schema)."
   ]
  },
  {
   "cell_type": "markdown",
   "metadata": {},
   "source": [
    "##### <font color='green'>Answer: </font> \n",
    "    1) For (member) table: PK is memid\n",
    "    2) For (bookings) table: FK are memid and facid\n",
    "    3) For (facilities) table: PK is facid \n"
   ]
  },
  {
   "cell_type": "markdown",
   "metadata": {},
   "source": [
    "- What is the Degree of each Table in the above DB schema?"
   ]
  },
  {
   "cell_type": "markdown",
   "metadata": {},
   "source": [
    "##### <font color='green'>Answer: </font> \n",
    "1) For (member) table: The degree is 8\n",
    "2) For (bookings) table: The degree is 4\n",
    "3) For (facilities) table: The degree is 6"
   ]
  },
  {
   "cell_type": "markdown",
   "metadata": {},
   "source": [
    "#### Use the attached  <font color='green'> \"clubdata.sql\" </font> script to create DB , tables, and insert data in the created tables.\n",
    "- login to your postgres command line as shown above.\n",
    "- use the command in your ***PSQL SHELL***  <code>\\i 'your/path/clubdata.sql'</code> to run the script."
   ]
  },
  {
   "cell_type": "markdown",
   "metadata": {},
   "source": [
    "#### Use SQL commands using python like in this jupyter note book, or use \"PgAdmin\" to answer the following:"
   ]
  },
  {
   "cell_type": "markdown",
   "metadata": {},
   "source": [
    "#### Get a list of all of the facilities and their cost to members."
   ]
  },
  {
   "cell_type": "code",
   "execution_count": 105,
   "metadata": {},
   "outputs": [
    {
     "name": "stdout",
     "output_type": "stream",
     "text": [
      "connected again to the server, and cusor now on exercises DB !!\n"
     ]
    }
   ],
   "source": [
    "##YOUR QUERY HERE##\n",
    "# get a new connection but this time point to the created \"exercise\" DB.\n",
    "con = psycopg2.connect(user = \"pguser\",\n",
    "                       password = \"changeme\",\n",
    "                       host = \"127.0.0.1\",\n",
    "                       port = \"5432\",\n",
    "                       database = \"exercises\")\n",
    "\n",
    "try:\n",
    "    # Obtain a new DB Cursor (to \"tartupurchases\" DB )\n",
    "    cursor = con.cursor();\n",
    "    print(\"connected again to the server, and cusor now on exercises DB !!\")\n",
    "except (Exception, psycopg2.Error) as error:\n",
    "    print(\"Error in Connection\",error)\n"
   ]
  },
  {
   "cell_type": "code",
   "execution_count": 109,
   "metadata": {},
   "outputs": [
    {
     "name": "stderr",
     "output_type": "stream",
     "text": [
      "/tmp/ipykernel_4732/3474688920.py:1: UserWarning: pandas only supports SQLAlchemy connectable (engine/connection) or database string URI or sqlite3 DBAPI2 connection. Other DBAPI2 objects are not tested. Please consider using SQLAlchemy.\n",
      "  count_table= pd.read_sql('''SELECT name, membercost FROM cd.facilities''', con)\n",
      "/tmp/ipykernel_4732/3474688920.py:2: FutureWarning: this method is deprecated in favour of `Styler.hide(axis=\"index\")`\n",
      "  display(count_table.style.hide_index())\n"
     ]
    },
    {
     "data": {
      "text/html": [
       "<style type=\"text/css\">\n",
       "</style>\n",
       "<table id=\"T_b8e91\">\n",
       "  <thead>\n",
       "    <tr>\n",
       "      <th id=\"T_b8e91_level0_col0\" class=\"col_heading level0 col0\" >name</th>\n",
       "      <th id=\"T_b8e91_level0_col1\" class=\"col_heading level0 col1\" >membercost</th>\n",
       "    </tr>\n",
       "  </thead>\n",
       "  <tbody>\n",
       "    <tr>\n",
       "      <td id=\"T_b8e91_row0_col0\" class=\"data row0 col0\" >Tennis Court 1</td>\n",
       "      <td id=\"T_b8e91_row0_col1\" class=\"data row0 col1\" >5.000000</td>\n",
       "    </tr>\n",
       "    <tr>\n",
       "      <td id=\"T_b8e91_row1_col0\" class=\"data row1 col0\" >Tennis Court 2</td>\n",
       "      <td id=\"T_b8e91_row1_col1\" class=\"data row1 col1\" >5.000000</td>\n",
       "    </tr>\n",
       "    <tr>\n",
       "      <td id=\"T_b8e91_row2_col0\" class=\"data row2 col0\" >Badminton Court</td>\n",
       "      <td id=\"T_b8e91_row2_col1\" class=\"data row2 col1\" >0.000000</td>\n",
       "    </tr>\n",
       "    <tr>\n",
       "      <td id=\"T_b8e91_row3_col0\" class=\"data row3 col0\" >Table Tennis</td>\n",
       "      <td id=\"T_b8e91_row3_col1\" class=\"data row3 col1\" >0.000000</td>\n",
       "    </tr>\n",
       "    <tr>\n",
       "      <td id=\"T_b8e91_row4_col0\" class=\"data row4 col0\" >Massage Room 1</td>\n",
       "      <td id=\"T_b8e91_row4_col1\" class=\"data row4 col1\" >35.000000</td>\n",
       "    </tr>\n",
       "    <tr>\n",
       "      <td id=\"T_b8e91_row5_col0\" class=\"data row5 col0\" >Massage Room 2</td>\n",
       "      <td id=\"T_b8e91_row5_col1\" class=\"data row5 col1\" >35.000000</td>\n",
       "    </tr>\n",
       "    <tr>\n",
       "      <td id=\"T_b8e91_row6_col0\" class=\"data row6 col0\" >Squash Court</td>\n",
       "      <td id=\"T_b8e91_row6_col1\" class=\"data row6 col1\" >3.500000</td>\n",
       "    </tr>\n",
       "    <tr>\n",
       "      <td id=\"T_b8e91_row7_col0\" class=\"data row7 col0\" >Snooker Table</td>\n",
       "      <td id=\"T_b8e91_row7_col1\" class=\"data row7 col1\" >0.000000</td>\n",
       "    </tr>\n",
       "    <tr>\n",
       "      <td id=\"T_b8e91_row8_col0\" class=\"data row8 col0\" >Pool Table</td>\n",
       "      <td id=\"T_b8e91_row8_col1\" class=\"data row8 col1\" >0.000000</td>\n",
       "    </tr>\n",
       "  </tbody>\n",
       "</table>\n"
      ],
      "text/plain": [
       "<pandas.io.formats.style.Styler at 0x7f7777bc9060>"
      ]
     },
     "metadata": {},
     "output_type": "display_data"
    }
   ],
   "source": [
    "count_table= pd.read_sql('''SELECT name, membercost FROM cd.facilities''', con)\n",
    "display(count_table.style.hide_index())"
   ]
  },
  {
   "cell_type": "markdown",
   "metadata": {},
   "source": [
    "#### How can you produce a list of facilities that charge a fee to members (membercost>0)?"
   ]
  },
  {
   "cell_type": "code",
   "execution_count": 110,
   "metadata": {},
   "outputs": [
    {
     "name": "stderr",
     "output_type": "stream",
     "text": [
      "/tmp/ipykernel_4732/3932143115.py:2: UserWarning: pandas only supports SQLAlchemy connectable (engine/connection) or database string URI or sqlite3 DBAPI2 connection. Other DBAPI2 objects are not tested. Please consider using SQLAlchemy.\n",
      "  count_table= pd.read_sql('''SELECT name, membercost\n",
      "/tmp/ipykernel_4732/3932143115.py:5: FutureWarning: this method is deprecated in favour of `Styler.hide(axis=\"index\")`\n",
      "  display(count_table.style.hide_index())\n"
     ]
    },
    {
     "data": {
      "text/html": [
       "<style type=\"text/css\">\n",
       "</style>\n",
       "<table id=\"T_88171\">\n",
       "  <thead>\n",
       "    <tr>\n",
       "      <th id=\"T_88171_level0_col0\" class=\"col_heading level0 col0\" >name</th>\n",
       "      <th id=\"T_88171_level0_col1\" class=\"col_heading level0 col1\" >membercost</th>\n",
       "    </tr>\n",
       "  </thead>\n",
       "  <tbody>\n",
       "    <tr>\n",
       "      <td id=\"T_88171_row0_col0\" class=\"data row0 col0\" >Tennis Court 1</td>\n",
       "      <td id=\"T_88171_row0_col1\" class=\"data row0 col1\" >5.000000</td>\n",
       "    </tr>\n",
       "    <tr>\n",
       "      <td id=\"T_88171_row1_col0\" class=\"data row1 col0\" >Tennis Court 2</td>\n",
       "      <td id=\"T_88171_row1_col1\" class=\"data row1 col1\" >5.000000</td>\n",
       "    </tr>\n",
       "    <tr>\n",
       "      <td id=\"T_88171_row2_col0\" class=\"data row2 col0\" >Massage Room 1</td>\n",
       "      <td id=\"T_88171_row2_col1\" class=\"data row2 col1\" >35.000000</td>\n",
       "    </tr>\n",
       "    <tr>\n",
       "      <td id=\"T_88171_row3_col0\" class=\"data row3 col0\" >Massage Room 2</td>\n",
       "      <td id=\"T_88171_row3_col1\" class=\"data row3 col1\" >35.000000</td>\n",
       "    </tr>\n",
       "    <tr>\n",
       "      <td id=\"T_88171_row4_col0\" class=\"data row4 col0\" >Squash Court</td>\n",
       "      <td id=\"T_88171_row4_col1\" class=\"data row4 col1\" >3.500000</td>\n",
       "    </tr>\n",
       "  </tbody>\n",
       "</table>\n"
      ],
      "text/plain": [
       "<pandas.io.formats.style.Styler at 0x7f7777bc8850>"
      ]
     },
     "metadata": {},
     "output_type": "display_data"
    }
   ],
   "source": [
    "##YOUR QUERY HERE##\n",
    "count_table= pd.read_sql('''SELECT name, membercost \n",
    "                            FROM cd.facilities\n",
    "                            WHERE membercost > 0''', con)\n",
    "display(count_table.style.hide_index())"
   ]
  },
  {
   "cell_type": "markdown",
   "metadata": {},
   "source": [
    "####  How can you produce a list of all facilities with the word 'Tennis' in their name?"
   ]
  },
  {
   "cell_type": "code",
   "execution_count": 112,
   "metadata": {},
   "outputs": [
    {
     "name": "stderr",
     "output_type": "stream",
     "text": [
      "/tmp/ipykernel_4732/3010804692.py:2: UserWarning: pandas only supports SQLAlchemy connectable (engine/connection) or database string URI or sqlite3 DBAPI2 connection. Other DBAPI2 objects are not tested. Please consider using SQLAlchemy.\n",
      "  count_table= pd.read_sql('''SELECT *\n",
      "/tmp/ipykernel_4732/3010804692.py:5: FutureWarning: this method is deprecated in favour of `Styler.hide(axis=\"index\")`\n",
      "  display(count_table.style.hide_index())\n"
     ]
    },
    {
     "data": {
      "text/html": [
       "<style type=\"text/css\">\n",
       "</style>\n",
       "<table id=\"T_88eb2\">\n",
       "  <thead>\n",
       "    <tr>\n",
       "      <th id=\"T_88eb2_level0_col0\" class=\"col_heading level0 col0\" >facid</th>\n",
       "      <th id=\"T_88eb2_level0_col1\" class=\"col_heading level0 col1\" >name</th>\n",
       "      <th id=\"T_88eb2_level0_col2\" class=\"col_heading level0 col2\" >membercost</th>\n",
       "      <th id=\"T_88eb2_level0_col3\" class=\"col_heading level0 col3\" >guestcost</th>\n",
       "      <th id=\"T_88eb2_level0_col4\" class=\"col_heading level0 col4\" >initialoutlay</th>\n",
       "      <th id=\"T_88eb2_level0_col5\" class=\"col_heading level0 col5\" >monthlymaintenance</th>\n",
       "    </tr>\n",
       "  </thead>\n",
       "  <tbody>\n",
       "    <tr>\n",
       "      <td id=\"T_88eb2_row0_col0\" class=\"data row0 col0\" >0</td>\n",
       "      <td id=\"T_88eb2_row0_col1\" class=\"data row0 col1\" >Tennis Court 1</td>\n",
       "      <td id=\"T_88eb2_row0_col2\" class=\"data row0 col2\" >5.000000</td>\n",
       "      <td id=\"T_88eb2_row0_col3\" class=\"data row0 col3\" >25.000000</td>\n",
       "      <td id=\"T_88eb2_row0_col4\" class=\"data row0 col4\" >10000.000000</td>\n",
       "      <td id=\"T_88eb2_row0_col5\" class=\"data row0 col5\" >200.000000</td>\n",
       "    </tr>\n",
       "    <tr>\n",
       "      <td id=\"T_88eb2_row1_col0\" class=\"data row1 col0\" >1</td>\n",
       "      <td id=\"T_88eb2_row1_col1\" class=\"data row1 col1\" >Tennis Court 2</td>\n",
       "      <td id=\"T_88eb2_row1_col2\" class=\"data row1 col2\" >5.000000</td>\n",
       "      <td id=\"T_88eb2_row1_col3\" class=\"data row1 col3\" >25.000000</td>\n",
       "      <td id=\"T_88eb2_row1_col4\" class=\"data row1 col4\" >8000.000000</td>\n",
       "      <td id=\"T_88eb2_row1_col5\" class=\"data row1 col5\" >200.000000</td>\n",
       "    </tr>\n",
       "  </tbody>\n",
       "</table>\n"
      ],
      "text/plain": [
       "<pandas.io.formats.style.Styler at 0x7f77777ee170>"
      ]
     },
     "metadata": {},
     "output_type": "display_data"
    }
   ],
   "source": [
    "##YOUR QUERY HERE##\n",
    "count_table= pd.read_sql('''SELECT *\n",
    "                            FROM cd.facilities\n",
    "                            WHERE name LIKE 'Tennis%' ''', con)\n",
    "display(count_table.style.hide_index())"
   ]
  },
  {
   "cell_type": "markdown",
   "metadata": {},
   "source": [
    "#### How can you retrieve the details of facilities with ID 1 and 5? <font color=red>Try to do it without using the OR operator.</font>"
   ]
  },
  {
   "cell_type": "code",
   "execution_count": 117,
   "metadata": {},
   "outputs": [
    {
     "name": "stderr",
     "output_type": "stream",
     "text": [
      "/tmp/ipykernel_4732/3832726539.py:2: UserWarning: pandas only supports SQLAlchemy connectable (engine/connection) or database string URI or sqlite3 DBAPI2 connection. Other DBAPI2 objects are not tested. Please consider using SQLAlchemy.\n",
      "  count_table= pd.read_sql('''SELECT *\n",
      "/tmp/ipykernel_4732/3832726539.py:5: FutureWarning: this method is deprecated in favour of `Styler.hide(axis=\"index\")`\n",
      "  display(count_table.style.hide_index())\n"
     ]
    },
    {
     "data": {
      "text/html": [
       "<style type=\"text/css\">\n",
       "</style>\n",
       "<table id=\"T_8e247\">\n",
       "  <thead>\n",
       "    <tr>\n",
       "      <th id=\"T_8e247_level0_col0\" class=\"col_heading level0 col0\" >facid</th>\n",
       "      <th id=\"T_8e247_level0_col1\" class=\"col_heading level0 col1\" >name</th>\n",
       "      <th id=\"T_8e247_level0_col2\" class=\"col_heading level0 col2\" >membercost</th>\n",
       "      <th id=\"T_8e247_level0_col3\" class=\"col_heading level0 col3\" >guestcost</th>\n",
       "      <th id=\"T_8e247_level0_col4\" class=\"col_heading level0 col4\" >initialoutlay</th>\n",
       "      <th id=\"T_8e247_level0_col5\" class=\"col_heading level0 col5\" >monthlymaintenance</th>\n",
       "    </tr>\n",
       "  </thead>\n",
       "  <tbody>\n",
       "    <tr>\n",
       "      <td id=\"T_8e247_row0_col0\" class=\"data row0 col0\" >1</td>\n",
       "      <td id=\"T_8e247_row0_col1\" class=\"data row0 col1\" >Tennis Court 2</td>\n",
       "      <td id=\"T_8e247_row0_col2\" class=\"data row0 col2\" >5.000000</td>\n",
       "      <td id=\"T_8e247_row0_col3\" class=\"data row0 col3\" >25.000000</td>\n",
       "      <td id=\"T_8e247_row0_col4\" class=\"data row0 col4\" >8000.000000</td>\n",
       "      <td id=\"T_8e247_row0_col5\" class=\"data row0 col5\" >200.000000</td>\n",
       "    </tr>\n",
       "    <tr>\n",
       "      <td id=\"T_8e247_row1_col0\" class=\"data row1 col0\" >5</td>\n",
       "      <td id=\"T_8e247_row1_col1\" class=\"data row1 col1\" >Massage Room 2</td>\n",
       "      <td id=\"T_8e247_row1_col2\" class=\"data row1 col2\" >35.000000</td>\n",
       "      <td id=\"T_8e247_row1_col3\" class=\"data row1 col3\" >80.000000</td>\n",
       "      <td id=\"T_8e247_row1_col4\" class=\"data row1 col4\" >4000.000000</td>\n",
       "      <td id=\"T_8e247_row1_col5\" class=\"data row1 col5\" >3000.000000</td>\n",
       "    </tr>\n",
       "  </tbody>\n",
       "</table>\n"
      ],
      "text/plain": [
       "<pandas.io.formats.style.Styler at 0x7f7777c62650>"
      ]
     },
     "metadata": {},
     "output_type": "display_data"
    }
   ],
   "source": [
    "##YOUR QUERY HERE##\n",
    "count_table= pd.read_sql('''SELECT *\n",
    "                            FROM cd.facilities\n",
    "                            WHERE facid in (1,5) ''', con)\n",
    "display(count_table.style.hide_index())"
   ]
  },
  {
   "cell_type": "markdown",
   "metadata": {},
   "source": [
    "####  How can you produce a list of facilities, with each labelled as 'cheap' or 'expensive' depending on if their monthly maintenance cost is more than $100? Return the name and monthly maintenance of the facilities in question. "
   ]
  },
  {
   "cell_type": "code",
   "execution_count": 122,
   "metadata": {},
   "outputs": [
    {
     "name": "stderr",
     "output_type": "stream",
     "text": [
      "/tmp/ipykernel_4732/2462944120.py:2: UserWarning: pandas only supports SQLAlchemy connectable (engine/connection) or database string URI or sqlite3 DBAPI2 connection. Other DBAPI2 objects are not tested. Please consider using SQLAlchemy.\n",
      "  count_table= pd.read_sql('''SELECT name,\n",
      "/tmp/ipykernel_4732/2462944120.py:8: FutureWarning: this method is deprecated in favour of `Styler.hide(axis=\"index\")`\n",
      "  display(count_table.style.hide_index())\n"
     ]
    },
    {
     "data": {
      "text/html": [
       "<style type=\"text/css\">\n",
       "</style>\n",
       "<table id=\"T_9cb01\">\n",
       "  <thead>\n",
       "    <tr>\n",
       "      <th id=\"T_9cb01_level0_col0\" class=\"col_heading level0 col0\" >name</th>\n",
       "      <th id=\"T_9cb01_level0_col1\" class=\"col_heading level0 col1\" >case</th>\n",
       "    </tr>\n",
       "  </thead>\n",
       "  <tbody>\n",
       "    <tr>\n",
       "      <td id=\"T_9cb01_row0_col0\" class=\"data row0 col0\" >Tennis Court 1</td>\n",
       "      <td id=\"T_9cb01_row0_col1\" class=\"data row0 col1\" >Expensive</td>\n",
       "    </tr>\n",
       "    <tr>\n",
       "      <td id=\"T_9cb01_row1_col0\" class=\"data row1 col0\" >Tennis Court 2</td>\n",
       "      <td id=\"T_9cb01_row1_col1\" class=\"data row1 col1\" >Expensive</td>\n",
       "    </tr>\n",
       "    <tr>\n",
       "      <td id=\"T_9cb01_row2_col0\" class=\"data row2 col0\" >Badminton Court</td>\n",
       "      <td id=\"T_9cb01_row2_col1\" class=\"data row2 col1\" >Cheap</td>\n",
       "    </tr>\n",
       "    <tr>\n",
       "      <td id=\"T_9cb01_row3_col0\" class=\"data row3 col0\" >Table Tennis</td>\n",
       "      <td id=\"T_9cb01_row3_col1\" class=\"data row3 col1\" >Cheap</td>\n",
       "    </tr>\n",
       "    <tr>\n",
       "      <td id=\"T_9cb01_row4_col0\" class=\"data row4 col0\" >Massage Room 1</td>\n",
       "      <td id=\"T_9cb01_row4_col1\" class=\"data row4 col1\" >Expensive</td>\n",
       "    </tr>\n",
       "    <tr>\n",
       "      <td id=\"T_9cb01_row5_col0\" class=\"data row5 col0\" >Massage Room 2</td>\n",
       "      <td id=\"T_9cb01_row5_col1\" class=\"data row5 col1\" >Expensive</td>\n",
       "    </tr>\n",
       "    <tr>\n",
       "      <td id=\"T_9cb01_row6_col0\" class=\"data row6 col0\" >Squash Court</td>\n",
       "      <td id=\"T_9cb01_row6_col1\" class=\"data row6 col1\" >Cheap</td>\n",
       "    </tr>\n",
       "    <tr>\n",
       "      <td id=\"T_9cb01_row7_col0\" class=\"data row7 col0\" >Snooker Table</td>\n",
       "      <td id=\"T_9cb01_row7_col1\" class=\"data row7 col1\" >Cheap</td>\n",
       "    </tr>\n",
       "    <tr>\n",
       "      <td id=\"T_9cb01_row8_col0\" class=\"data row8 col0\" >Pool Table</td>\n",
       "      <td id=\"T_9cb01_row8_col1\" class=\"data row8 col1\" >Cheap</td>\n",
       "    </tr>\n",
       "  </tbody>\n",
       "</table>\n"
      ],
      "text/plain": [
       "<pandas.io.formats.style.Styler at 0x7f77777ec160>"
      ]
     },
     "metadata": {},
     "output_type": "display_data"
    }
   ],
   "source": [
    "##YOUR QUERY HERE##\n",
    "count_table= pd.read_sql('''SELECT name, \n",
    "                            (case when monthlymaintenance > 100\n",
    "                                  then 'Expensive'\n",
    "                                  else 'Cheap'\n",
    "                            end)\n",
    "                            FROM cd.facilities''', con)\n",
    "display(count_table.style.hide_index())"
   ]
  },
  {
   "cell_type": "markdown",
   "metadata": {},
   "source": [
    "####  get the signup date of your last member. How can you retrieve this information? "
   ]
  },
  {
   "cell_type": "code",
   "execution_count": 126,
   "metadata": {},
   "outputs": [
    {
     "name": "stderr",
     "output_type": "stream",
     "text": [
      "/tmp/ipykernel_4732/3960500700.py:2: UserWarning: pandas only supports SQLAlchemy connectable (engine/connection) or database string URI or sqlite3 DBAPI2 connection. Other DBAPI2 objects are not tested. Please consider using SQLAlchemy.\n",
      "  latest_table= pd.read_sql('''SELECT *\n",
      "/tmp/ipykernel_4732/3960500700.py:6: FutureWarning: this method is deprecated in favour of `Styler.hide(axis=\"index\")`\n",
      "  display(latest_table.style.hide_index())\n"
     ]
    },
    {
     "data": {
      "text/html": [
       "<style type=\"text/css\">\n",
       "</style>\n",
       "<table id=\"T_8c5f3\">\n",
       "  <thead>\n",
       "    <tr>\n",
       "      <th id=\"T_8c5f3_level0_col0\" class=\"col_heading level0 col0\" >memid</th>\n",
       "      <th id=\"T_8c5f3_level0_col1\" class=\"col_heading level0 col1\" >surname</th>\n",
       "      <th id=\"T_8c5f3_level0_col2\" class=\"col_heading level0 col2\" >firstname</th>\n",
       "      <th id=\"T_8c5f3_level0_col3\" class=\"col_heading level0 col3\" >address</th>\n",
       "      <th id=\"T_8c5f3_level0_col4\" class=\"col_heading level0 col4\" >zipcode</th>\n",
       "      <th id=\"T_8c5f3_level0_col5\" class=\"col_heading level0 col5\" >telephone</th>\n",
       "      <th id=\"T_8c5f3_level0_col6\" class=\"col_heading level0 col6\" >recommendedby</th>\n",
       "      <th id=\"T_8c5f3_level0_col7\" class=\"col_heading level0 col7\" >joindate</th>\n",
       "    </tr>\n",
       "  </thead>\n",
       "  <tbody>\n",
       "    <tr>\n",
       "      <td id=\"T_8c5f3_row0_col0\" class=\"data row0 col0\" >37</td>\n",
       "      <td id=\"T_8c5f3_row0_col1\" class=\"data row0 col1\" >Smith</td>\n",
       "      <td id=\"T_8c5f3_row0_col2\" class=\"data row0 col2\" >Darren</td>\n",
       "      <td id=\"T_8c5f3_row0_col3\" class=\"data row0 col3\" >3 Funktown, Denzington, Boston</td>\n",
       "      <td id=\"T_8c5f3_row0_col4\" class=\"data row0 col4\" >66796</td>\n",
       "      <td id=\"T_8c5f3_row0_col5\" class=\"data row0 col5\" >(822) 577-3541</td>\n",
       "      <td id=\"T_8c5f3_row0_col6\" class=\"data row0 col6\" >None</td>\n",
       "      <td id=\"T_8c5f3_row0_col7\" class=\"data row0 col7\" >2012-09-26 18:08:45</td>\n",
       "    </tr>\n",
       "  </tbody>\n",
       "</table>\n"
      ],
      "text/plain": [
       "<pandas.io.formats.style.Styler at 0x7f7777e81930>"
      ]
     },
     "metadata": {},
     "output_type": "display_data"
    }
   ],
   "source": [
    "##YOUR QUERY HERE##\n",
    "latest_table= pd.read_sql('''SELECT *\n",
    "                             FROM cd.members\n",
    "                             ORDER BY joindate DESC\n",
    "                             FETCH NEXT 1 ROWS ONLY''', con)\n",
    "display(latest_table.style.hide_index())"
   ]
  },
  {
   "cell_type": "markdown",
   "metadata": {},
   "source": [
    " #### Retrieve the start times of members' bookings\n",
    " * Get a list of the start times for bookings by members named 'David Farrell'? "
   ]
  },
  {
   "cell_type": "code",
   "execution_count": 132,
   "metadata": {},
   "outputs": [
    {
     "name": "stderr",
     "output_type": "stream",
     "text": [
      "/tmp/ipykernel_4732/3737141365.py:2: UserWarning: pandas only supports SQLAlchemy connectable (engine/connection) or database string URI or sqlite3 DBAPI2 connection. Other DBAPI2 objects are not tested. Please consider using SQLAlchemy.\n",
      "  latest_table= pd.read_sql('''SELECT starttime\n",
      "/tmp/ipykernel_4732/3737141365.py:8: FutureWarning: this method is deprecated in favour of `Styler.hide(axis=\"index\")`\n",
      "  display(latest_table.style.hide_index())\n"
     ]
    },
    {
     "data": {
      "text/html": [
       "<style type=\"text/css\">\n",
       "</style>\n",
       "<table id=\"T_ff0cb\">\n",
       "  <thead>\n",
       "    <tr>\n",
       "      <th id=\"T_ff0cb_level0_col0\" class=\"col_heading level0 col0\" >starttime</th>\n",
       "    </tr>\n",
       "  </thead>\n",
       "  <tbody>\n",
       "    <tr>\n",
       "      <td id=\"T_ff0cb_row0_col0\" class=\"data row0 col0\" >2012-09-18 09:00:00</td>\n",
       "    </tr>\n",
       "    <tr>\n",
       "      <td id=\"T_ff0cb_row1_col0\" class=\"data row1 col0\" >2012-09-18 13:30:00</td>\n",
       "    </tr>\n",
       "    <tr>\n",
       "      <td id=\"T_ff0cb_row2_col0\" class=\"data row2 col0\" >2012-09-18 17:30:00</td>\n",
       "    </tr>\n",
       "    <tr>\n",
       "      <td id=\"T_ff0cb_row3_col0\" class=\"data row3 col0\" >2012-09-18 20:00:00</td>\n",
       "    </tr>\n",
       "    <tr>\n",
       "      <td id=\"T_ff0cb_row4_col0\" class=\"data row4 col0\" >2012-09-19 09:30:00</td>\n",
       "    </tr>\n",
       "    <tr>\n",
       "      <td id=\"T_ff0cb_row5_col0\" class=\"data row5 col0\" >2012-09-19 12:00:00</td>\n",
       "    </tr>\n",
       "    <tr>\n",
       "      <td id=\"T_ff0cb_row6_col0\" class=\"data row6 col0\" >2012-09-19 15:00:00</td>\n",
       "    </tr>\n",
       "    <tr>\n",
       "      <td id=\"T_ff0cb_row7_col0\" class=\"data row7 col0\" >2012-09-20 11:30:00</td>\n",
       "    </tr>\n",
       "    <tr>\n",
       "      <td id=\"T_ff0cb_row8_col0\" class=\"data row8 col0\" >2012-09-20 14:00:00</td>\n",
       "    </tr>\n",
       "    <tr>\n",
       "      <td id=\"T_ff0cb_row9_col0\" class=\"data row9 col0\" >2012-09-20 15:30:00</td>\n",
       "    </tr>\n",
       "    <tr>\n",
       "      <td id=\"T_ff0cb_row10_col0\" class=\"data row10 col0\" >2012-09-21 10:30:00</td>\n",
       "    </tr>\n",
       "    <tr>\n",
       "      <td id=\"T_ff0cb_row11_col0\" class=\"data row11 col0\" >2012-09-21 14:00:00</td>\n",
       "    </tr>\n",
       "    <tr>\n",
       "      <td id=\"T_ff0cb_row12_col0\" class=\"data row12 col0\" >2012-09-22 08:30:00</td>\n",
       "    </tr>\n",
       "    <tr>\n",
       "      <td id=\"T_ff0cb_row13_col0\" class=\"data row13 col0\" >2012-09-22 17:00:00</td>\n",
       "    </tr>\n",
       "    <tr>\n",
       "      <td id=\"T_ff0cb_row14_col0\" class=\"data row14 col0\" >2012-09-23 08:30:00</td>\n",
       "    </tr>\n",
       "    <tr>\n",
       "      <td id=\"T_ff0cb_row15_col0\" class=\"data row15 col0\" >2012-09-23 17:30:00</td>\n",
       "    </tr>\n",
       "    <tr>\n",
       "      <td id=\"T_ff0cb_row16_col0\" class=\"data row16 col0\" >2012-09-23 19:00:00</td>\n",
       "    </tr>\n",
       "    <tr>\n",
       "      <td id=\"T_ff0cb_row17_col0\" class=\"data row17 col0\" >2012-09-24 08:00:00</td>\n",
       "    </tr>\n",
       "    <tr>\n",
       "      <td id=\"T_ff0cb_row18_col0\" class=\"data row18 col0\" >2012-09-24 12:30:00</td>\n",
       "    </tr>\n",
       "    <tr>\n",
       "      <td id=\"T_ff0cb_row19_col0\" class=\"data row19 col0\" >2012-09-24 16:30:00</td>\n",
       "    </tr>\n",
       "    <tr>\n",
       "      <td id=\"T_ff0cb_row20_col0\" class=\"data row20 col0\" >2012-09-25 15:30:00</td>\n",
       "    </tr>\n",
       "    <tr>\n",
       "      <td id=\"T_ff0cb_row21_col0\" class=\"data row21 col0\" >2012-09-25 17:00:00</td>\n",
       "    </tr>\n",
       "    <tr>\n",
       "      <td id=\"T_ff0cb_row22_col0\" class=\"data row22 col0\" >2012-09-26 13:00:00</td>\n",
       "    </tr>\n",
       "    <tr>\n",
       "      <td id=\"T_ff0cb_row23_col0\" class=\"data row23 col0\" >2012-09-26 17:00:00</td>\n",
       "    </tr>\n",
       "    <tr>\n",
       "      <td id=\"T_ff0cb_row24_col0\" class=\"data row24 col0\" >2012-09-27 08:00:00</td>\n",
       "    </tr>\n",
       "    <tr>\n",
       "      <td id=\"T_ff0cb_row25_col0\" class=\"data row25 col0\" >2012-09-28 09:30:00</td>\n",
       "    </tr>\n",
       "    <tr>\n",
       "      <td id=\"T_ff0cb_row26_col0\" class=\"data row26 col0\" >2012-09-28 11:30:00</td>\n",
       "    </tr>\n",
       "    <tr>\n",
       "      <td id=\"T_ff0cb_row27_col0\" class=\"data row27 col0\" >2012-09-28 13:00:00</td>\n",
       "    </tr>\n",
       "    <tr>\n",
       "      <td id=\"T_ff0cb_row28_col0\" class=\"data row28 col0\" >2012-09-29 10:30:00</td>\n",
       "    </tr>\n",
       "    <tr>\n",
       "      <td id=\"T_ff0cb_row29_col0\" class=\"data row29 col0\" >2012-09-29 13:30:00</td>\n",
       "    </tr>\n",
       "    <tr>\n",
       "      <td id=\"T_ff0cb_row30_col0\" class=\"data row30 col0\" >2012-09-29 14:30:00</td>\n",
       "    </tr>\n",
       "    <tr>\n",
       "      <td id=\"T_ff0cb_row31_col0\" class=\"data row31 col0\" >2012-09-29 16:00:00</td>\n",
       "    </tr>\n",
       "    <tr>\n",
       "      <td id=\"T_ff0cb_row32_col0\" class=\"data row32 col0\" >2012-09-29 17:30:00</td>\n",
       "    </tr>\n",
       "    <tr>\n",
       "      <td id=\"T_ff0cb_row33_col0\" class=\"data row33 col0\" >2012-09-30 14:30:00</td>\n",
       "    </tr>\n",
       "  </tbody>\n",
       "</table>\n"
      ],
      "text/plain": [
       "<pandas.io.formats.style.Styler at 0x7f7777e48730>"
      ]
     },
     "metadata": {},
     "output_type": "display_data"
    }
   ],
   "source": [
    "##YOUR QUERY HERE##\n",
    "latest_table= pd.read_sql('''SELECT starttime\n",
    "                             FROM cd.bookings \n",
    "                             JOIN cd.members\n",
    "                             ON cd.bookings.memid = cd.members.memid\n",
    "                             WHERE \n",
    "                             CONCAT(cd.members.firstname, ' ',cd.members.surname) = 'David Farrell' ''', con)\n",
    "display(latest_table.style.hide_index())"
   ]
  },
  {
   "cell_type": "markdown",
   "metadata": {},
   "source": [
    "#### The club is adding a new facility - a spa. We need to add it into the facilities table. Use the following values:\n",
    "\n",
    "    facid: 9, Name: 'Spa', membercost: 20, guestcost: 30, initialoutlay: 100000, monthlymaintenance: 800."
   ]
  },
  {
   "cell_type": "code",
   "execution_count": 134,
   "metadata": {},
   "outputs": [
    {
     "name": "stdout",
     "output_type": "stream",
     "text": [
      "1 Record inserted successfully into Facilities table\n"
     ]
    }
   ],
   "source": [
    "### facility\n",
    "\n",
    "sql_insert_orders = '''INSERT INTO cd.facilities (facid, name, membercost, guestcost, initialoutlay, monthlymaintenance) \n",
    "                       VALUES(%s,%s,%s,%s,%s,%s)'''\n",
    "\n",
    "#list of customers\n",
    "orders_List=[(9,'Spa',20,30,100000,800)]\n",
    "try:\n",
    "    # execute the INSERT statement\n",
    "    cursor.executemany(sql_insert_orders,orders_List)\n",
    "    # commit the changes to the database\n",
    "    con.commit()\n",
    "\n",
    "except (Exception, psycopg2.Error) as error :\n",
    "    con.rollback()\n",
    "    print (\"Error while exccuting the query at PostgreSQL\",error)\n",
    "    \n",
    "finally:\n",
    "    \n",
    "    count = cursor.rowcount\n",
    "    print (count, \"Record inserted successfully into Facilities table\")"
   ]
  },
  {
   "cell_type": "markdown",
   "metadata": {},
   "source": [
    "#### We made a mistake when entering the data for the \"Spa\" facility. \n",
    "    - The \"initial outlay\" should be 20000 rather than 100000: \n",
    "    - you need to alter the data to fix the error.\n",
    "    \n"
   ]
  },
  {
   "cell_type": "code",
   "execution_count": 135,
   "metadata": {},
   "outputs": [
    {
     "name": "stdout",
     "output_type": "stream",
     "text": [
      "1 Record updated successfully into Facilities table\n"
     ]
    }
   ],
   "source": [
    "##YOUR QUERY HERE##\n",
    "sql_update_orders = '''UPDATE cd.facilities \n",
    "                       SET initialoutlay = 20000 \n",
    "                       WHERE name = 'Spa' '''\n",
    "try:\n",
    "    # execute the INSERT statement\n",
    "    cursor.execute(sql_update_orders)\n",
    "    # commit the changes to the database\n",
    "    con.commit()\n",
    "\n",
    "except (Exception, psycopg2.Error) as error :\n",
    "    con.rollback()\n",
    "    print (\"Error while exccuting the query at PostgreSQL\",error)\n",
    "    \n",
    "finally:\n",
    "    \n",
    "    count = cursor.rowcount\n",
    "    print (count, \"Record updated successfully into Facilities table\")"
   ]
  },
  {
   "cell_type": "markdown",
   "metadata": {},
   "source": [
    "#### List the total slots booked per facility "
   ]
  },
  {
   "cell_type": "code",
   "execution_count": 137,
   "metadata": {},
   "outputs": [
    {
     "name": "stderr",
     "output_type": "stream",
     "text": [
      "/tmp/ipykernel_4732/2998788158.py:2: UserWarning: pandas only supports SQLAlchemy connectable (engine/connection) or database string URI or sqlite3 DBAPI2 connection. Other DBAPI2 objects are not tested. Please consider using SQLAlchemy.\n",
      "  latest_table= pd.read_sql('''SELECT cd.facilities.name, sum(cd.bookings.slots)\n",
      "/tmp/ipykernel_4732/2998788158.py:8: FutureWarning: this method is deprecated in favour of `Styler.hide(axis=\"index\")`\n",
      "  display(latest_table.style.hide_index())\n"
     ]
    },
    {
     "data": {
      "text/html": [
       "<style type=\"text/css\">\n",
       "</style>\n",
       "<table id=\"T_ebdb8\">\n",
       "  <thead>\n",
       "    <tr>\n",
       "      <th id=\"T_ebdb8_level0_col0\" class=\"col_heading level0 col0\" >name</th>\n",
       "      <th id=\"T_ebdb8_level0_col1\" class=\"col_heading level0 col1\" >sum</th>\n",
       "    </tr>\n",
       "  </thead>\n",
       "  <tbody>\n",
       "    <tr>\n",
       "      <td id=\"T_ebdb8_row0_col0\" class=\"data row0 col0\" >Massage Room 2</td>\n",
       "      <td id=\"T_ebdb8_row0_col1\" class=\"data row0 col1\" >228</td>\n",
       "    </tr>\n",
       "    <tr>\n",
       "      <td id=\"T_ebdb8_row1_col0\" class=\"data row1 col0\" >Table Tennis</td>\n",
       "      <td id=\"T_ebdb8_row1_col1\" class=\"data row1 col1\" >830</td>\n",
       "    </tr>\n",
       "    <tr>\n",
       "      <td id=\"T_ebdb8_row2_col0\" class=\"data row2 col0\" >Snooker Table</td>\n",
       "      <td id=\"T_ebdb8_row2_col1\" class=\"data row2 col1\" >908</td>\n",
       "    </tr>\n",
       "    <tr>\n",
       "      <td id=\"T_ebdb8_row3_col0\" class=\"data row3 col0\" >Pool Table</td>\n",
       "      <td id=\"T_ebdb8_row3_col1\" class=\"data row3 col1\" >911</td>\n",
       "    </tr>\n",
       "    <tr>\n",
       "      <td id=\"T_ebdb8_row4_col0\" class=\"data row4 col0\" >Squash Court</td>\n",
       "      <td id=\"T_ebdb8_row4_col1\" class=\"data row4 col1\" >1104</td>\n",
       "    </tr>\n",
       "    <tr>\n",
       "      <td id=\"T_ebdb8_row5_col0\" class=\"data row5 col0\" >Badminton Court</td>\n",
       "      <td id=\"T_ebdb8_row5_col1\" class=\"data row5 col1\" >1209</td>\n",
       "    </tr>\n",
       "    <tr>\n",
       "      <td id=\"T_ebdb8_row6_col0\" class=\"data row6 col0\" >Tennis Court 2</td>\n",
       "      <td id=\"T_ebdb8_row6_col1\" class=\"data row6 col1\" >1278</td>\n",
       "    </tr>\n",
       "    <tr>\n",
       "      <td id=\"T_ebdb8_row7_col0\" class=\"data row7 col0\" >Tennis Court 1</td>\n",
       "      <td id=\"T_ebdb8_row7_col1\" class=\"data row7 col1\" >1320</td>\n",
       "    </tr>\n",
       "    <tr>\n",
       "      <td id=\"T_ebdb8_row8_col0\" class=\"data row8 col0\" >Massage Room 1</td>\n",
       "      <td id=\"T_ebdb8_row8_col1\" class=\"data row8 col1\" >1404</td>\n",
       "    </tr>\n",
       "  </tbody>\n",
       "</table>\n"
      ],
      "text/plain": [
       "<pandas.io.formats.style.Styler at 0x7f7777cd5ea0>"
      ]
     },
     "metadata": {},
     "output_type": "display_data"
    }
   ],
   "source": [
    "##YOUR QUERY HERE##\n",
    "latest_table= pd.read_sql('''SELECT cd.facilities.name, sum(cd.bookings.slots)\n",
    "                             FROM cd.facilities \n",
    "                             JOIN cd.bookings\n",
    "                             ON cd.bookings.facid = cd.facilities.facid\n",
    "                             GROUP BY cd.facilities.name\n",
    "                             ORDER BY sum(cd.bookings.slots)''', con)\n",
    "display(latest_table.style.hide_index())"
   ]
  },
  {
   "cell_type": "markdown",
   "metadata": {},
   "source": [
    "####  Delete all bookings \n",
    "*  As part of a clearout of our database, we want to delete all bookings from the cd.bookings table. How can we accomplish this? "
   ]
  },
  {
   "cell_type": "code",
   "execution_count": 138,
   "metadata": {},
   "outputs": [
    {
     "name": "stdout",
     "output_type": "stream",
     "text": [
      "4044 deleted inserted successfully into Facilities table\n"
     ]
    }
   ],
   "source": [
    "##YOUR QUERY HERE##\n",
    "sql_delete_orders = '''DELETE FROM cd.bookings'''\n",
    "\n",
    "try:\n",
    "    # execute the INSERT statement\n",
    "    cursor.execute(sql_delete_orders)\n",
    "    # commit the changes to the database\n",
    "    con.commit()\n",
    "\n",
    "except (Exception, psycopg2.Error) as error :\n",
    "    con.rollback()\n",
    "    print (\"Error while exccuting the query at PostgreSQL\",error)\n",
    "    \n",
    "finally:\n",
    "    \n",
    "    count = cursor.rowcount\n",
    "    print (count, \"deleted inserted successfully into Facilities table\")"
   ]
  },
  {
   "cell_type": "markdown",
   "metadata": {},
   "source": [
    " ## How long did it take you to solve the homework?\n",
    " \n",
    "Please answer as precisely as you can. It does not affect your points or grade in any way. It is okey, if it took 0.5 hours or 24 hours. The collected information will be used to improve future homeworks."
   ]
  },
  {
   "cell_type": "markdown",
   "metadata": {},
   "source": [
    "<font color=\"red\"><b>Answer:</b></font>\n",
    "\n",
    "\n",
    "Day1: Installing resources and setup ==> 15min\n",
    "\n",
    "\n",
    "Day2: Strunggle with pdadmin can't connect to server ==> 3 hours\n",
    "\n",
    "\n",
    "Day3: Ignore the problem and actually do the hw ==> 7 to 8 hours"
   ]
  },
  {
   "cell_type": "markdown",
   "metadata": {},
   "source": [
    "**<center> <font color='red'>THANK YOU FOR YOUR EFFORT!</font></center>**"
   ]
  }
 ],
 "metadata": {
  "kernelspec": {
   "display_name": "Python 3 (ipykernel)",
   "language": "python",
   "name": "python3"
  },
  "language_info": {
   "codemirror_mode": {
    "name": "ipython",
    "version": 3
   },
   "file_extension": ".py",
   "mimetype": "text/x-python",
   "name": "python",
   "nbconvert_exporter": "python",
   "pygments_lexer": "ipython3",
   "version": "3.10.6"
  }
 },
 "nbformat": 4,
 "nbformat_minor": 2
}
