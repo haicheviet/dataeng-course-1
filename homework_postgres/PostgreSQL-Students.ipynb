{
 "cells": [
  {
   "attachments": {},
   "cell_type": "markdown",
   "metadata": {},
   "source": [
    "# Week 1: Relational Models & PostgreSQL\n",
    "### Student Name: Pham Van Nam\n",
    "### Subtasks Done: --> 2/3 Task2"
   ]
  },
  {
   "cell_type": "markdown",
   "metadata": {},
   "source": [
    "## Lab Goals:\n",
    "   1. Get familiar with the relational DBs.\n",
    "   2. Get familiar with the relational SQL query language.\n",
    "   2. Get familiar with postgreSQL as one of the most popular RDBMSs.\n",
    "  \n",
    "\n",
    "## Lab Tasks:\n",
    "   0. Get familiar with Python and Jupyter Notebook.\n",
    "   1. First Steps of SQL (DDL [Create DB, CREATE TABLES], DQL [SELECTIONS, PROJECTIONS, FIRLTREING, ORDERING, Different Types of JOINS,..etc], and Some DML operations [INSERTIONS, UPDATES, and DELETIONS])\n",
    "   2. Create a simple Relational Database Model (MovieDB).\n",
    "   3. More Query exercises with a DB ready for you, (just by running a SQL script).\n",
    "   "
   ]
  },
  {
   "cell_type": "markdown",
   "metadata": {},
   "source": [
    "# Task 0: Python & Jupyter Notebook & Pandas tutorial video\n",
    "\n",
    "##### - First for Students who are not familiar with <font color='red'>Python</font>, I recommend this python full course https://www.youtube.com/watch?v=_uQrJ0TkZlc \n",
    "\n",
    "##### - Second, please watch the following video <font color='red'>\"Jupyter Notebook Tutorial\"</font> and answer the question below. Please answer the questions by writing your answer next to the red \"Answer \" label (the same for the other questions throught the NoteBook). Also, we recommend you to follow the examples in the video and try it out by yourself."
   ]
  },
  {
   "cell_type": "code",
   "execution_count": 1,
   "metadata": {},
   "outputs": [],
   "source": [
    "# %%HTML \n",
    "# <center><iframe width=\"600\" height=\"315\" src=\"https://www.youtube.com/embed/HW29067qVWk\" frameborder=\"0\" allowfullscreen></iframe>"
   ]
  },
  {
   "cell_type": "markdown",
   "metadata": {},
   "source": [
    " #### What are the advantages of using jupyter notebook?"
   ]
  },
  {
   "attachments": {},
   "cell_type": "markdown",
   "metadata": {},
   "source": [
    "<font color = \"red\"><b>Answer:</b></font>\n",
    "1. We can easily rerun specific cells without running all other codes\n",
    "2. Therefore notebook allows us to create/init parameters once and use them without recreate\n",
    "3. This can be use futhur more than just code lines to create a formal document or report"
   ]
  },
  {
   "cell_type": "markdown",
   "metadata": {},
   "source": [
    "##### - Last but not least, Python Pandas \n",
    "\n",
    "pandas is a fast, powerful, flexible and easy to use open source data analysis and manipulation tool, built on top of the Python programming language.\n",
    "\n",
    "- To get familiar with Pandas library you can follow this tutourial:\n",
    "    - https://www.youtube.com/watch?v=vmEHCJofslg&feature=emb_rel_pause\n",
    "- You can also use the follwing cheat-sheet link of pandas:\n",
    "    - https://pandas.pydata.org/Pandas_Cheat_Sheet.pdf\n"
   ]
  },
  {
   "cell_type": "markdown",
   "metadata": {},
   "source": [
    "# Introduction:\n",
    "\n",
    "### Relational DB Structure \n",
    "- A relational database consists of a collection of tables, each having a unique name.\n",
    "- A row in a table represents a relationship among a set of values.\n",
    "- Thus a table represents a collection of relationships. \n",
    "<img src =\"https://raw.githubusercontent.com/DataSystemsGroupUT/dataeng/dataeng/attachments/attrer2.png\" width =\"550\" height=\"150\">\n",
    "\n",
    "\n",
    "###  Structured Query Language (SQL)\n",
    "\n",
    "<a href='https://en.wikipedia.org/wiki/SQL'>SQL </a> is used to communicate with a database. SQL is the standard language for relational database management systems. SQL statements are used to perform tasks such as update data on a database, or retrieve data from a database. \n",
    "\n",
    "Some common relational database management systems that use SQL are: Oracle, Sybase, Microsoft SQL Server, Access, Ingres. However, the standard SQL commands such as \"Select\", \"Insert\", \"Update\", \"Delete\", \"Create\", and \"Drop\" can be used to accomplish almost everything that one needs to do with a database. This tutorial will provide you with the instruction on the basics of each of these commands as well as allow you to put them to practice using the SQL Interpreter.\n",
    "\n",
    "- First Steps with SQL can be followed from this <a href='https://www.sqltutorial.org/sql-cheat-sheet/'>link </a>.\n",
    "\n",
    "\n",
    "### PostgreSQL:\n",
    "   <a href=\"https://www.postgresql.org/\">PostgreSQL</a> is a powerful, open source object-relational database system with over 30 years of active development that has earned it a strong reputation for reliability, feature robustness, and performance. (<b>According to official website of PostgreSQL Database</b>)<br/>\n",
    "   \n",
    "- PostgreSQL offecial documentation (https://www.postgresql.org/docs/9.3/index.html)\n",
    "    - pdf version of last release(https://www.postgresql.org/files/documentation/pdf/12/postgresql-12-A4.pdf)\n",
    "\n",
    "<img src=\"https://www.postgresql.org/media/img/about/press/elephant.png\" width =\"100\" height=\"75\">\n",
    "\n"
   ]
  },
  {
   "cell_type": "markdown",
   "metadata": {},
   "source": [
    "# PreLab\n",
    "\n",
    "### Installations:\n",
    "\n",
    "#### 1. Install PostgreSQL on Windows\n",
    "- Download and Install PostgreSQL for all platforms (https://www.enterprisedb.com/downloads/postgres-postgresql-downloads) \n",
    "- Follow this tutourial (https://www.postgresqltutorial.com/install-postgresql/) for more details (Windows installation).\n",
    "\n",
    "#### or if you want to install it on linux\n",
    "- Follow this tutourial (https://www.postgresqltutorial.com/install-postgresql-linux/)\n",
    "\n",
    "\n",
    "#### 2. Install the Python Package to connecto to PostgreSQL \"<a href='https://www.psycopg.org/docs/usage.html'>psycopg2 </a>\"\n",
    "- use th command ```pip install psycopg2``` in your command line.\n",
    "\n",
    "\n",
    "#### (Good to Know) \n",
    "##### Accessing PostgreSQL from Command Line:\n",
    "- Add the PostgreSQL  installation \"/home\" and \"/bin\" directories to the enviroment variables.\n",
    "- use the command ```psql -U postgres postgres``` to connect to the the by-default created database \"postgres\" with the user \"postgres\".\n",
    "- Enter your set \"postgres\" password (i.e password of the default password that you have been asked at the time of installtion).\n",
    "\n",
    "##### Connect To a PostgreSQL Database Server\n",
    "- show you how to connect to the PostgreSQL using psql tool and pgAdmin 4 GUI tool.\n",
    "\n"
   ]
  },
  {
   "cell_type": "markdown",
   "metadata": {},
   "source": [
    "#### Run the following command to install ***psycopg*** like any other Python package."
   ]
  },
  {
   "cell_type": "code",
   "execution_count": 2,
   "metadata": {},
   "outputs": [],
   "source": [
    "# ! pip install psycopg2"
   ]
  },
  {
   "cell_type": "markdown",
   "metadata": {},
   "source": [
    "### <font color='purple'>Please make sure that you have all the following packages installed: </font>\n",
    "\n",
    "#### Run the following for importing packages that we will need throught this NB!"
   ]
  },
  {
   "cell_type": "code",
   "execution_count": 3,
   "metadata": {},
   "outputs": [],
   "source": [
    "import psycopg2  #import of the psycopg2 python library\n",
    "import pandas as pd #import of the pandas python library\n",
    "import pandas.io.sql as psql\n",
    "\n",
    "##No transaction is started when commands are executed and no commit() or rollback() is required. \n",
    "from psycopg2.extensions import ISOLATION_LEVEL_AUTOCOMMIT"
   ]
  },
  {
   "cell_type": "markdown",
   "metadata": {},
   "source": [
    "# Task 1: Your First Steps in PostgreSQL"
   ]
  },
  {
   "cell_type": "markdown",
   "metadata": {},
   "source": [
    "### Create a simple RDB (TartuPurchases)\n",
    "- The following DB Model shows an ER diagram of mock, toy DB of two tables with one relationship.\n",
    "- In particular:\n",
    "    - The \"Customer\" Table with attributes (<ins>id</ins>, name, country, email), <font color='red'>Note</font> that underline here means id is the primary_key of the \"customer\" table.\n",
    "    - The \"Order\" table with attributes (<ins>id</ins>, product)\n",
    "    - a (***One-many*** )relationship \"makes\" which relates the two tables (Customer can make several/many Orders, and Order is made by only one Customer).\n",
    "    - One-to- many relationship is handled as follows in the RDBs: (Use a foreign_key on the many side of the relationship linking back to the \"one\" side)\n",
    "    - Therefore, we add the primary key of the one side (Customer) Table as a foreign_key in the many side (Order) table.\n",
    "    - Thus the Order table becomes as follows Order(id,customer_id,product) id is the primary_key and customer_id is a forien_key which references to the id primary_key in the Customer table."
   ]
  },
  {
   "cell_type": "markdown",
   "metadata": {},
   "source": [
    "#### The relational Layout: \n",
    "##### Customer(ID, Name)   --Makes--> ORDER(ID, Customer_ID,Product)\n",
    "<img src='tartupurchasesDB.png'>"
   ]
  },
  {
   "cell_type": "markdown",
   "metadata": {},
   "source": [
    "#### Connecting to the PostgreSQL Server"
   ]
  },
  {
   "cell_type": "code",
   "execution_count": 4,
   "metadata": {},
   "outputs": [
    {
     "name": "stdout",
     "output_type": "stream",
     "text": [
      "Connected Successfully to PostgreSQL server!!\n"
     ]
    }
   ],
   "source": [
    "try:\n",
    "    # Connect to the postgreSQL server with username, and password credentials\n",
    "    con = psycopg2.connect(\n",
    "        database = \"postgres\",\n",
    "        user = \"nam\",\n",
    "        password = \"123\",\n",
    "        host = \"127.0.0.1\",\n",
    "        port = \"5432\"\n",
    "    )\n",
    "    \n",
    "    con.set_isolation_level(ISOLATION_LEVEL_AUTOCOMMIT)\n",
    "    print(\"Connected Successfully to PostgreSQL server!!\")\n",
    "    \n",
    "    # Obtain a DB Cursor to perform database operations\n",
    "    cursor = con.cursor()\n",
    "except (Exception, psycopg2.Error) as error :\n",
    "     print (\"Error while connecting to PostgreSQL\", error)\n"
   ]
  },
  {
   "cell_type": "markdown",
   "metadata": {},
   "source": [
    "#### Create the \"TarturPurchases\" DB and close connection to the Server"
   ]
  },
  {
   "cell_type": "code",
   "execution_count": 5,
   "metadata": {},
   "outputs": [
    {
     "name": "stdout",
     "output_type": "stream",
     "text": [
      "Database 'TartuPurchases' Created Successfully!\n"
     ]
    }
   ],
   "source": [
    "#DB_name variable    \n",
    "name_Database = \"TartuPurchases\"\n",
    "\n",
    "# Create DB statement\n",
    "sqlCreateDatabase = \"CREATE DATABASE \" + name_Database + \";\"\n",
    "\n",
    "try:\n",
    "    # Execute a SQL command: this creates a new DB\n",
    "    cursor.execute(sqlCreateDatabase)\n",
    "    print(\"Database '\" + name_Database + \"' Created Successfully!\")\n",
    "except (Exception, psycopg2.Error) as error :\n",
    "    print(\"Error While Creating the DB: \", error)\n",
    "    \n",
    "finally:\n",
    "    # Close communication with the database\n",
    "    cursor.close() #to close the cusrsor\n",
    "    con.close() #to close the connection/ we will open a new connection to the created DB"
   ]
  },
  {
   "cell_type": "markdown",
   "metadata": {},
   "source": [
    "#### Getting some details about the connection"
   ]
  },
  {
   "cell_type": "code",
   "execution_count": 6,
   "metadata": {},
   "outputs": [
    {
     "data": {
      "text/plain": [
       "<connection object at 0x0000010A476209D0; dsn: 'user=nam password=xxx dbname=postgres host=127.0.0.1 port=5432', closed: 1>"
      ]
     },
     "execution_count": 6,
     "metadata": {},
     "output_type": "execute_result"
    }
   ],
   "source": [
    "con"
   ]
  },
  {
   "cell_type": "markdown",
   "metadata": {},
   "source": [
    "#### You can also use the command <code>\\conninfo</code> in the PSQL Shell to show the conection details\n",
    "- To get more familiar with PSQL SHELL commands, You can follow this link (https://www.postgresql.org/docs/current/app-psql.html)\n",
    "\n",
    "\n",
    "#### Upload your PSQL Shell Command Result of this command here as an a screenshot "
   ]
  },
  {
   "attachments": {
    "image.png": {
     "image/png": "[encoded data removed]"
    }
   },
   "cell_type": "markdown",
   "metadata": {},
   "source": [
    "##### <font color='red'>Image Here:</font>\n",
    "![image.png](attachment:image.png)"
   ]
  },
  {
   "cell_type": "markdown",
   "metadata": {},
   "source": [
    "#### Get/open  a new connection, but this time pointed to the created \"tartupurchases\" DB."
   ]
  },
  {
   "cell_type": "code",
   "execution_count": 7,
   "metadata": {},
   "outputs": [
    {
     "name": "stdout",
     "output_type": "stream",
     "text": [
      "connected again to the server, and cusor now on tartupurchases DB !!\n"
     ]
    }
   ],
   "source": [
    "# get a new connection but this time point to the created \"tartupurchases\" DB.\n",
    "con = psycopg2.connect(\n",
    "    user = \"nam\",\n",
    "    password = \"123\",\n",
    "    host = \"127.0.0.1\",\n",
    "    port = \"5432\",\n",
    "    database = \"tartupurchases\"\n",
    ")\n",
    "\n",
    "try:\n",
    "    # Obtain a new DB Cursor (to \"tartupurchases\" DB )\n",
    "    cursor = con.cursor()\n",
    "    print(\"connected again to the server, and cusor now on tartupurchases DB !!\")\n",
    "except (Exception, psycopg2.Error) as error:\n",
    "    print(\"Error in Connection\",error)"
   ]
  },
  {
   "cell_type": "markdown",
   "metadata": {},
   "source": [
    "#### Creating Our First Table (\"Customer\")"
   ]
  },
  {
   "cell_type": "code",
   "execution_count": 8,
   "metadata": {},
   "outputs": [
    {
     "name": "stdout",
     "output_type": "stream",
     "text": [
      "Table (customer) created successfully in PostgreSQL \n"
     ]
    }
   ],
   "source": [
    "#Create \"Customer\" Table\n",
    "\n",
    "try:\n",
    "    #table_name variable\n",
    "    customerTable=\"customer\"\n",
    "    create_customerTable_query = '''CREATE TABLE '''+ customerTable+''' \n",
    "              (id INT  PRIMARY KEY     NOT NULL,\n",
    "               name           TEXT    NOT NULL,\n",
    "               country        TEXT    NOT NULL,\n",
    "               email          TEXT   \n",
    "               ); '''\n",
    "\n",
    "    #Execute this command (SQL Query)\n",
    "    cursor.execute(create_customerTable_query)\n",
    "    \n",
    "    # Make the changes to the database persistent\n",
    "    con.commit()\n",
    "    print(\"Table (\"+ customerTable +\") created successfully in PostgreSQL \")\n",
    "except (Exception, psycopg2.Error) as error:\n",
    "    # if it exits with an exception the transaction is rolled back.\n",
    "    con.rollback()\n",
    "    print(\"Error While Creating the DB: \",error)\n"
   ]
  },
  {
   "cell_type": "markdown",
   "metadata": {},
   "source": [
    "##### Make sure the table is created "
   ]
  },
  {
   "cell_type": "code",
   "execution_count": 9,
   "metadata": {},
   "outputs": [
    {
     "name": "stdout",
     "output_type": "stream",
     "text": [
      "('customer',)\n"
     ]
    }
   ],
   "source": [
    "# [information_schema.tables] keep listing of every table being managed by Postgres for a particular database.\n",
    "# specifying the tabel_schema to 'public' to only list tables that you create.\n",
    "cursor.execute(\"\"\"SELECT table_name \n",
    "                  FROM information_schema.tables \n",
    "                  WHERE table_schema = 'public'  \n",
    "               \"\"\")\n",
    "\n",
    "for table in cursor.fetchall():\n",
    "    print(table)"
   ]
  },
  {
   "cell_type": "markdown",
   "metadata": {},
   "source": [
    "#### You can also just check this from the <font color='red'>PSQL Shell</font> :\n",
    "- Use the command  <code>\\c  tartupurchases</code> to connect/swtich to the \"pruchases\" DB. \n",
    "- Use the command <code>\\dt</code> to show the tables inside the current DB (\"purchases\")."
   ]
  },
  {
   "cell_type": "markdown",
   "metadata": {},
   "source": [
    "- To get more familiar with PSQL SHELL commands, You can follow this link (https://www.postgresql.org/docs/current/app-psql.html)"
   ]
  },
  {
   "cell_type": "markdown",
   "metadata": {},
   "source": [
    "#### Upload your PSQL Shell Command Result of the created tables here as an a screenshot "
   ]
  },
  {
   "attachments": {
    "image.png": {
     "image/png": "[encoded data removed]"
    }
   },
   "cell_type": "markdown",
   "metadata": {},
   "source": [
    "##### <font color='red'>Image Here:</font>\n",
    "![image.png](attachment:image.png)"
   ]
  },
  {
   "cell_type": "markdown",
   "metadata": {},
   "source": [
    "#### Show the details(description of the created table \"customer\")\n",
    "- use the command <code>\\d customer</code>"
   ]
  },
  {
   "cell_type": "markdown",
   "metadata": {},
   "source": [
    "#### Upload your PSQL Shell Command Result of the decription of the customer table here:"
   ]
  },
  {
   "attachments": {
    "image.png": {
     "image/png": "[encoded data removed]"
    }
   },
   "cell_type": "markdown",
   "metadata": {},
   "source": [
    "##### <font color='red'>Image Here:</font>\n",
    "![image.png](attachment:image.png)"
   ]
  },
  {
   "cell_type": "markdown",
   "metadata": {},
   "source": [
    "### (Let's Load some data to the table) Inserting Multiple Rows to the Table"
   ]
  },
  {
   "cell_type": "code",
   "execution_count": 10,
   "metadata": {},
   "outputs": [
    {
     "name": "stdout",
     "output_type": "stream",
     "text": [
      "5 Record inserted successfully into customers table\n"
     ]
    }
   ],
   "source": [
    "sql_insert_customers = \"INSERT INTO customer (id,name,country,email) VALUES(%s,%s,%s,%s)\"\n",
    "\n",
    "#list of customers (With Their attributes values)\n",
    "#None here means value will be missing in the table\n",
    "customer_List=[\n",
    "            (1, \"Mohamed Ragab\", \"Egypt\", \"mohamed.ragb@ut.ee\"),\n",
    "            (2,\"John Smith\", \"Finland\",\"j.smith@hotmail.com\"),\n",
    "            (3,\"Aisha Kareem\",\"India\",None),\n",
    "            (4,\"Jean Lime\",\"Canda\",\"jeanlime@gmail.com\"),\n",
    "            (5,\"Hassan Eldeeb\",\"Egypt\",None)]\n",
    "\n",
    "try:\n",
    "    # execute the INSERT statement\n",
    "    cursor.executemany(sql_insert_customers,customer_List)\n",
    "    # commit the changes to the database\n",
    "    con.commit()\n",
    "    #the number of inserted rows/tuples\n",
    "    count = cursor.rowcount\n",
    "    print (count, \"Record inserted successfully into customers table\")\n",
    "\n",
    "except (Exception, psycopg2.Error) as error :\n",
    "    con.rollback()\n",
    "    print (\"Error while Inserting the data to the table, Details: \",error)"
   ]
  },
  {
   "cell_type": "markdown",
   "metadata": {},
   "source": [
    "## Mock Data Generation\n",
    "- If you want to generate more mock data, you can use this website (***\"Mockaroo\"***) (https://www.mockaroo.com/).\n",
    "- \"Mockaroo\" lets you generate up to 1,000 rows of realistic test data in CSV, JSON, SQL, and Excel formats.\n",
    "<img src='https://www.qlikfix.com/wp-content/uploads/2014/03/Mockaroo.png'>"
   ]
  },
  {
   "cell_type": "markdown",
   "metadata": {},
   "source": [
    "## Querying Table Data"
   ]
  },
  {
   "cell_type": "markdown",
   "metadata": {},
   "source": [
    "#### Get all the Customers in the DB"
   ]
  },
  {
   "cell_type": "code",
   "execution_count": 11,
   "metadata": {},
   "outputs": [
    {
     "name": "stdout",
     "output_type": "stream",
     "text": [
      "Print each row and it's columns values:\n",
      "\n",
      "Id =  1\n",
      "Name =  Mohamed Ragab\n",
      "Country =  Egypt\n",
      "Email =  mohamed.ragb@ut.ee \n",
      "\n",
      "Id =  2\n",
      "Name =  John Smith\n",
      "Country =  Finland\n",
      "Email =  j.smith@hotmail.com \n",
      "\n",
      "Id =  3\n",
      "Name =  Aisha Kareem\n",
      "Country =  India\n",
      "Email =  None \n",
      "\n",
      "Id =  4\n",
      "Name =  Jean Lime\n",
      "Country =  Canda\n",
      "Email =  jeanlime@gmail.com \n",
      "\n",
      "Id =  5\n",
      "Name =  Hassan Eldeeb\n",
      "Country =  Egypt\n",
      "Email =  None \n",
      "\n"
     ]
    }
   ],
   "source": [
    "sql_select_query = \"\"\" SELECT * FROM customer \"\"\"\n",
    "\n",
    "try:\n",
    "    \n",
    "    cursor.execute(sql_select_query, (1,))\n",
    "    person_records = cursor.fetchall() \n",
    "    print(\"Print each row and it's columns values:\\n\")\n",
    "    for row in person_records:\n",
    "        print(\"Id = \", row[0], )\n",
    "        print(\"Name = \", row[1], )\n",
    "        print(\"Country = \", row[2], )\n",
    "        print(\"Email = \", row[3], \"\\n\")\n",
    "except(Exception, psycopg2.Error) as error :\n",
    "    con.rollback()\n",
    "    print(\"Error:\", error)"
   ]
  },
  {
   "cell_type": "markdown",
   "metadata": {},
   "source": [
    "#### Notes about the Rows Fetching (Retrieval) From tables in PostgreSQL: \n",
    "- In the above example, we used **cursor.fetchall()** to get all the rows of a database table.\n",
    "    -    **cursor.fetchall()** to fetch all rows.\n",
    "    -    **cursor.fetchone()** to fetch single row.\n",
    "    -    **cursor.fetchmany(SIZE)** to fetch limited rows."
   ]
  },
  {
   "cell_type": "markdown",
   "metadata": {},
   "source": [
    "#### You can use \"Pandas\" library to print the result in tabular format"
   ]
  },
  {
   "cell_type": "code",
   "execution_count": 12,
   "metadata": {},
   "outputs": [
    {
     "name": "stderr",
     "output_type": "stream",
     "text": [
      "C:\\Users\\Think 13\\AppData\\Local\\Temp\\ipykernel_10560\\2560488504.py:3: UserWarning: pandas only supports SQLAlchemy connectable (engine/connection) or database string URI or sqlite3 DBAPI2 connection. Other DBAPI2 objects are not tested. Please consider using SQLAlchemy.\n",
      "  my_table = pd.read_sql(' SELECT * FROM customer ', con)\n",
      "C:\\Users\\Think 13\\AppData\\Local\\Temp\\ipykernel_10560\\2560488504.py:4: FutureWarning: this method is deprecated in favour of `Styler.hide(axis=\"index\")`\n",
      "  display(my_table.style.hide_index())\n"
     ]
    },
    {
     "data": {
      "text/html": [
       "<style type=\"text/css\">\n",
       "</style>\n",
       "<table id=\"T_360b3\">\n",
       "  <thead>\n",
       "    <tr>\n",
       "      <th id=\"T_360b3_level0_col0\" class=\"col_heading level0 col0\" >id</th>\n",
       "      <th id=\"T_360b3_level0_col1\" class=\"col_heading level0 col1\" >name</th>\n",
       "      <th id=\"T_360b3_level0_col2\" class=\"col_heading level0 col2\" >country</th>\n",
       "      <th id=\"T_360b3_level0_col3\" class=\"col_heading level0 col3\" >email</th>\n",
       "    </tr>\n",
       "  </thead>\n",
       "  <tbody>\n",
       "    <tr>\n",
       "      <td id=\"T_360b3_row0_col0\" class=\"data row0 col0\" >1</td>\n",
       "      <td id=\"T_360b3_row0_col1\" class=\"data row0 col1\" >Mohamed Ragab</td>\n",
       "      <td id=\"T_360b3_row0_col2\" class=\"data row0 col2\" >Egypt</td>\n",
       "      <td id=\"T_360b3_row0_col3\" class=\"data row0 col3\" >mohamed.ragb@ut.ee</td>\n",
       "    </tr>\n",
       "    <tr>\n",
       "      <td id=\"T_360b3_row1_col0\" class=\"data row1 col0\" >2</td>\n",
       "      <td id=\"T_360b3_row1_col1\" class=\"data row1 col1\" >John Smith</td>\n",
       "      <td id=\"T_360b3_row1_col2\" class=\"data row1 col2\" >Finland</td>\n",
       "      <td id=\"T_360b3_row1_col3\" class=\"data row1 col3\" >j.smith@hotmail.com</td>\n",
       "    </tr>\n",
       "    <tr>\n",
       "      <td id=\"T_360b3_row2_col0\" class=\"data row2 col0\" >3</td>\n",
       "      <td id=\"T_360b3_row2_col1\" class=\"data row2 col1\" >Aisha Kareem</td>\n",
       "      <td id=\"T_360b3_row2_col2\" class=\"data row2 col2\" >India</td>\n",
       "      <td id=\"T_360b3_row2_col3\" class=\"data row2 col3\" >None</td>\n",
       "    </tr>\n",
       "    <tr>\n",
       "      <td id=\"T_360b3_row3_col0\" class=\"data row3 col0\" >4</td>\n",
       "      <td id=\"T_360b3_row3_col1\" class=\"data row3 col1\" >Jean Lime</td>\n",
       "      <td id=\"T_360b3_row3_col2\" class=\"data row3 col2\" >Canda</td>\n",
       "      <td id=\"T_360b3_row3_col3\" class=\"data row3 col3\" >jeanlime@gmail.com</td>\n",
       "    </tr>\n",
       "    <tr>\n",
       "      <td id=\"T_360b3_row4_col0\" class=\"data row4 col0\" >5</td>\n",
       "      <td id=\"T_360b3_row4_col1\" class=\"data row4 col1\" >Hassan Eldeeb</td>\n",
       "      <td id=\"T_360b3_row4_col2\" class=\"data row4 col2\" >Egypt</td>\n",
       "      <td id=\"T_360b3_row4_col3\" class=\"data row4 col3\" >None</td>\n",
       "    </tr>\n",
       "  </tbody>\n",
       "</table>\n"
      ],
      "text/plain": [
       "<pandas.io.formats.style.Styler at 0x10a46873310>"
      ]
     },
     "metadata": {},
     "output_type": "display_data"
    }
   ],
   "source": [
    "#use Pandas to print the result in tabular form\n",
    "# Don't RUN before you put your SQL Query\n",
    "my_table = pd.read_sql(' SELECT * FROM customer ', con)\n",
    "display(my_table.style.hide_index())"
   ]
  },
  {
   "cell_type": "code",
   "execution_count": 13,
   "metadata": {},
   "outputs": [
    {
     "name": "stderr",
     "output_type": "stream",
     "text": [
      "C:\\Users\\Think 13\\AppData\\Local\\Temp\\ipykernel_10560\\4125858433.py:3: UserWarning: pandas only supports SQLAlchemy connectable (engine/connection) or database string URI or sqlite3 DBAPI2 connection. Other DBAPI2 objects are not tested. Please consider using SQLAlchemy.\n",
      "  another_attempt= psql.read_sql(\" SELECT * FROM customer \", con)\n",
      "C:\\Users\\Think 13\\AppData\\Local\\Temp\\ipykernel_10560\\4125858433.py:4: FutureWarning: this method is deprecated in favour of `Styler.hide(axis=\"index\")`\n",
      "  display(another_attempt.style.hide_index())\n"
     ]
    },
    {
     "data": {
      "text/html": [
       "<style type=\"text/css\">\n",
       "</style>\n",
       "<table id=\"T_ec113\">\n",
       "  <thead>\n",
       "    <tr>\n",
       "      <th id=\"T_ec113_level0_col0\" class=\"col_heading level0 col0\" >id</th>\n",
       "      <th id=\"T_ec113_level0_col1\" class=\"col_heading level0 col1\" >name</th>\n",
       "      <th id=\"T_ec113_level0_col2\" class=\"col_heading level0 col2\" >country</th>\n",
       "      <th id=\"T_ec113_level0_col3\" class=\"col_heading level0 col3\" >email</th>\n",
       "    </tr>\n",
       "  </thead>\n",
       "  <tbody>\n",
       "    <tr>\n",
       "      <td id=\"T_ec113_row0_col0\" class=\"data row0 col0\" >1</td>\n",
       "      <td id=\"T_ec113_row0_col1\" class=\"data row0 col1\" >Mohamed Ragab</td>\n",
       "      <td id=\"T_ec113_row0_col2\" class=\"data row0 col2\" >Egypt</td>\n",
       "      <td id=\"T_ec113_row0_col3\" class=\"data row0 col3\" >mohamed.ragb@ut.ee</td>\n",
       "    </tr>\n",
       "    <tr>\n",
       "      <td id=\"T_ec113_row1_col0\" class=\"data row1 col0\" >2</td>\n",
       "      <td id=\"T_ec113_row1_col1\" class=\"data row1 col1\" >John Smith</td>\n",
       "      <td id=\"T_ec113_row1_col2\" class=\"data row1 col2\" >Finland</td>\n",
       "      <td id=\"T_ec113_row1_col3\" class=\"data row1 col3\" >j.smith@hotmail.com</td>\n",
       "    </tr>\n",
       "    <tr>\n",
       "      <td id=\"T_ec113_row2_col0\" class=\"data row2 col0\" >3</td>\n",
       "      <td id=\"T_ec113_row2_col1\" class=\"data row2 col1\" >Aisha Kareem</td>\n",
       "      <td id=\"T_ec113_row2_col2\" class=\"data row2 col2\" >India</td>\n",
       "      <td id=\"T_ec113_row2_col3\" class=\"data row2 col3\" >None</td>\n",
       "    </tr>\n",
       "    <tr>\n",
       "      <td id=\"T_ec113_row3_col0\" class=\"data row3 col0\" >4</td>\n",
       "      <td id=\"T_ec113_row3_col1\" class=\"data row3 col1\" >Jean Lime</td>\n",
       "      <td id=\"T_ec113_row3_col2\" class=\"data row3 col2\" >Canda</td>\n",
       "      <td id=\"T_ec113_row3_col3\" class=\"data row3 col3\" >jeanlime@gmail.com</td>\n",
       "    </tr>\n",
       "    <tr>\n",
       "      <td id=\"T_ec113_row4_col0\" class=\"data row4 col0\" >5</td>\n",
       "      <td id=\"T_ec113_row4_col1\" class=\"data row4 col1\" >Hassan Eldeeb</td>\n",
       "      <td id=\"T_ec113_row4_col2\" class=\"data row4 col2\" >Egypt</td>\n",
       "      <td id=\"T_ec113_row4_col3\" class=\"data row4 col3\" >None</td>\n",
       "    </tr>\n",
       "  </tbody>\n",
       "</table>\n"
      ],
      "text/plain": [
       "<pandas.io.formats.style.Styler at 0x10a40108e50>"
      ]
     },
     "metadata": {},
     "output_type": "display_data"
    }
   ],
   "source": [
    "#OR using this code\n",
    "# Don't RUN before you put your SQL Query\n",
    "another_attempt= psql.read_sql(\" SELECT * FROM customer \", con)\n",
    "display(another_attempt.style.hide_index())"
   ]
  },
  {
   "cell_type": "markdown",
   "metadata": {},
   "source": [
    "#### Get only the <font color='red'>names</font>  and <font color='red'>countries</font> of all the Customers in the DB [Projection]"
   ]
  },
  {
   "cell_type": "code",
   "execution_count": 14,
   "metadata": {},
   "outputs": [
    {
     "name": "stderr",
     "output_type": "stream",
     "text": [
      "C:\\Users\\Think 13\\AppData\\Local\\Temp\\ipykernel_10560\\4202919575.py:4: UserWarning: pandas only supports SQLAlchemy connectable (engine/connection) or database string URI or sqlite3 DBAPI2 connection. Other DBAPI2 objects are not tested. Please consider using SQLAlchemy.\n",
      "  projected_DF= psql.read_sql(sql_project_query, con)\n",
      "C:\\Users\\Think 13\\AppData\\Local\\Temp\\ipykernel_10560\\4202919575.py:5: FutureWarning: this method is deprecated in favour of `Styler.hide(axis=\"index\")`\n",
      "  display(projected_DF.style.hide_index())\n"
     ]
    },
    {
     "data": {
      "text/html": [
       "<style type=\"text/css\">\n",
       "</style>\n",
       "<table id=\"T_7230e\">\n",
       "  <thead>\n",
       "    <tr>\n",
       "      <th id=\"T_7230e_level0_col0\" class=\"col_heading level0 col0\" >name</th>\n",
       "      <th id=\"T_7230e_level0_col1\" class=\"col_heading level0 col1\" >country</th>\n",
       "    </tr>\n",
       "  </thead>\n",
       "  <tbody>\n",
       "    <tr>\n",
       "      <td id=\"T_7230e_row0_col0\" class=\"data row0 col0\" >Mohamed Ragab</td>\n",
       "      <td id=\"T_7230e_row0_col1\" class=\"data row0 col1\" >Egypt</td>\n",
       "    </tr>\n",
       "    <tr>\n",
       "      <td id=\"T_7230e_row1_col0\" class=\"data row1 col0\" >John Smith</td>\n",
       "      <td id=\"T_7230e_row1_col1\" class=\"data row1 col1\" >Finland</td>\n",
       "    </tr>\n",
       "    <tr>\n",
       "      <td id=\"T_7230e_row2_col0\" class=\"data row2 col0\" >Aisha Kareem</td>\n",
       "      <td id=\"T_7230e_row2_col1\" class=\"data row2 col1\" >India</td>\n",
       "    </tr>\n",
       "    <tr>\n",
       "      <td id=\"T_7230e_row3_col0\" class=\"data row3 col0\" >Jean Lime</td>\n",
       "      <td id=\"T_7230e_row3_col1\" class=\"data row3 col1\" >Canda</td>\n",
       "    </tr>\n",
       "    <tr>\n",
       "      <td id=\"T_7230e_row4_col0\" class=\"data row4 col0\" >Hassan Eldeeb</td>\n",
       "      <td id=\"T_7230e_row4_col1\" class=\"data row4 col1\" >Egypt</td>\n",
       "    </tr>\n",
       "  </tbody>\n",
       "</table>\n"
      ],
      "text/plain": [
       "<pandas.io.formats.style.Styler at 0x10a46858d50>"
      ]
     },
     "metadata": {},
     "output_type": "display_data"
    }
   ],
   "source": [
    "# Don't RUN before you put your SQL Query\n",
    "sql_project_query = \"\"\" SELECT name, country FROM customer \"\"\"\n",
    "\n",
    "projected_DF= psql.read_sql(sql_project_query, con)\n",
    "display(projected_DF.style.hide_index())"
   ]
  },
  {
   "cell_type": "markdown",
   "metadata": {},
   "source": [
    "## Sorting the Results\n",
    "\n",
    "#### Get All Customers , sorted by country Ascednding"
   ]
  },
  {
   "cell_type": "code",
   "execution_count": 15,
   "metadata": {},
   "outputs": [
    {
     "name": "stderr",
     "output_type": "stream",
     "text": [
      "C:\\Users\\Think 13\\AppData\\Local\\Temp\\ipykernel_10560\\374602054.py:1: UserWarning: pandas only supports SQLAlchemy connectable (engine/connection) or database string URI or sqlite3 DBAPI2 connection. Other DBAPI2 objects are not tested. Please consider using SQLAlchemy.\n",
      "  ord_customers_by_country= psql.read_sql(\" SELECT * FROM customer ORDER BY country ASC \", con)\n",
      "C:\\Users\\Think 13\\AppData\\Local\\Temp\\ipykernel_10560\\374602054.py:2: FutureWarning: this method is deprecated in favour of `Styler.hide(axis=\"index\")`\n",
      "  display(ord_customers_by_country.style.hide_index())\n"
     ]
    },
    {
     "data": {
      "text/html": [
       "<style type=\"text/css\">\n",
       "</style>\n",
       "<table id=\"T_464f2\">\n",
       "  <thead>\n",
       "    <tr>\n",
       "      <th id=\"T_464f2_level0_col0\" class=\"col_heading level0 col0\" >id</th>\n",
       "      <th id=\"T_464f2_level0_col1\" class=\"col_heading level0 col1\" >name</th>\n",
       "      <th id=\"T_464f2_level0_col2\" class=\"col_heading level0 col2\" >country</th>\n",
       "      <th id=\"T_464f2_level0_col3\" class=\"col_heading level0 col3\" >email</th>\n",
       "    </tr>\n",
       "  </thead>\n",
       "  <tbody>\n",
       "    <tr>\n",
       "      <td id=\"T_464f2_row0_col0\" class=\"data row0 col0\" >4</td>\n",
       "      <td id=\"T_464f2_row0_col1\" class=\"data row0 col1\" >Jean Lime</td>\n",
       "      <td id=\"T_464f2_row0_col2\" class=\"data row0 col2\" >Canda</td>\n",
       "      <td id=\"T_464f2_row0_col3\" class=\"data row0 col3\" >jeanlime@gmail.com</td>\n",
       "    </tr>\n",
       "    <tr>\n",
       "      <td id=\"T_464f2_row1_col0\" class=\"data row1 col0\" >1</td>\n",
       "      <td id=\"T_464f2_row1_col1\" class=\"data row1 col1\" >Mohamed Ragab</td>\n",
       "      <td id=\"T_464f2_row1_col2\" class=\"data row1 col2\" >Egypt</td>\n",
       "      <td id=\"T_464f2_row1_col3\" class=\"data row1 col3\" >mohamed.ragb@ut.ee</td>\n",
       "    </tr>\n",
       "    <tr>\n",
       "      <td id=\"T_464f2_row2_col0\" class=\"data row2 col0\" >5</td>\n",
       "      <td id=\"T_464f2_row2_col1\" class=\"data row2 col1\" >Hassan Eldeeb</td>\n",
       "      <td id=\"T_464f2_row2_col2\" class=\"data row2 col2\" >Egypt</td>\n",
       "      <td id=\"T_464f2_row2_col3\" class=\"data row2 col3\" >None</td>\n",
       "    </tr>\n",
       "    <tr>\n",
       "      <td id=\"T_464f2_row3_col0\" class=\"data row3 col0\" >2</td>\n",
       "      <td id=\"T_464f2_row3_col1\" class=\"data row3 col1\" >John Smith</td>\n",
       "      <td id=\"T_464f2_row3_col2\" class=\"data row3 col2\" >Finland</td>\n",
       "      <td id=\"T_464f2_row3_col3\" class=\"data row3 col3\" >j.smith@hotmail.com</td>\n",
       "    </tr>\n",
       "    <tr>\n",
       "      <td id=\"T_464f2_row4_col0\" class=\"data row4 col0\" >3</td>\n",
       "      <td id=\"T_464f2_row4_col1\" class=\"data row4 col1\" >Aisha Kareem</td>\n",
       "      <td id=\"T_464f2_row4_col2\" class=\"data row4 col2\" >India</td>\n",
       "      <td id=\"T_464f2_row4_col3\" class=\"data row4 col3\" >None</td>\n",
       "    </tr>\n",
       "  </tbody>\n",
       "</table>\n"
      ],
      "text/plain": [
       "<pandas.io.formats.style.Styler at 0x10a4707b950>"
      ]
     },
     "metadata": {},
     "output_type": "display_data"
    }
   ],
   "source": [
    "ord_customers_by_country= psql.read_sql(\" SELECT * FROM customer ORDER BY country ASC \", con)\n",
    "display(ord_customers_by_country.style.hide_index())"
   ]
  },
  {
   "cell_type": "markdown",
   "metadata": {},
   "source": [
    "- **Note**: By Default Sorting in SQL is Ascending order!"
   ]
  },
  {
   "cell_type": "markdown",
   "metadata": {},
   "source": [
    "#### Get All Customers , sorted by names Descednding"
   ]
  },
  {
   "cell_type": "code",
   "execution_count": 16,
   "metadata": {},
   "outputs": [
    {
     "name": "stderr",
     "output_type": "stream",
     "text": [
      "C:\\Users\\Think 13\\AppData\\Local\\Temp\\ipykernel_10560\\472752113.py:2: UserWarning: pandas only supports SQLAlchemy connectable (engine/connection) or database string URI or sqlite3 DBAPI2 connection. Other DBAPI2 objects are not tested. Please consider using SQLAlchemy.\n",
      "  ord_customers_by_name= psql.read_sql(\" SELECT * FROM customer ORDER BY name DESC \", con)\n",
      "C:\\Users\\Think 13\\AppData\\Local\\Temp\\ipykernel_10560\\472752113.py:3: FutureWarning: this method is deprecated in favour of `Styler.hide(axis=\"index\")`\n",
      "  display(ord_customers_by_name.style.hide_index())\n"
     ]
    },
    {
     "data": {
      "text/html": [
       "<style type=\"text/css\">\n",
       "</style>\n",
       "<table id=\"T_40b86\">\n",
       "  <thead>\n",
       "    <tr>\n",
       "      <th id=\"T_40b86_level0_col0\" class=\"col_heading level0 col0\" >id</th>\n",
       "      <th id=\"T_40b86_level0_col1\" class=\"col_heading level0 col1\" >name</th>\n",
       "      <th id=\"T_40b86_level0_col2\" class=\"col_heading level0 col2\" >country</th>\n",
       "      <th id=\"T_40b86_level0_col3\" class=\"col_heading level0 col3\" >email</th>\n",
       "    </tr>\n",
       "  </thead>\n",
       "  <tbody>\n",
       "    <tr>\n",
       "      <td id=\"T_40b86_row0_col0\" class=\"data row0 col0\" >1</td>\n",
       "      <td id=\"T_40b86_row0_col1\" class=\"data row0 col1\" >Mohamed Ragab</td>\n",
       "      <td id=\"T_40b86_row0_col2\" class=\"data row0 col2\" >Egypt</td>\n",
       "      <td id=\"T_40b86_row0_col3\" class=\"data row0 col3\" >mohamed.ragb@ut.ee</td>\n",
       "    </tr>\n",
       "    <tr>\n",
       "      <td id=\"T_40b86_row1_col0\" class=\"data row1 col0\" >2</td>\n",
       "      <td id=\"T_40b86_row1_col1\" class=\"data row1 col1\" >John Smith</td>\n",
       "      <td id=\"T_40b86_row1_col2\" class=\"data row1 col2\" >Finland</td>\n",
       "      <td id=\"T_40b86_row1_col3\" class=\"data row1 col3\" >j.smith@hotmail.com</td>\n",
       "    </tr>\n",
       "    <tr>\n",
       "      <td id=\"T_40b86_row2_col0\" class=\"data row2 col0\" >4</td>\n",
       "      <td id=\"T_40b86_row2_col1\" class=\"data row2 col1\" >Jean Lime</td>\n",
       "      <td id=\"T_40b86_row2_col2\" class=\"data row2 col2\" >Canda</td>\n",
       "      <td id=\"T_40b86_row2_col3\" class=\"data row2 col3\" >jeanlime@gmail.com</td>\n",
       "    </tr>\n",
       "    <tr>\n",
       "      <td id=\"T_40b86_row3_col0\" class=\"data row3 col0\" >5</td>\n",
       "      <td id=\"T_40b86_row3_col1\" class=\"data row3 col1\" >Hassan Eldeeb</td>\n",
       "      <td id=\"T_40b86_row3_col2\" class=\"data row3 col2\" >Egypt</td>\n",
       "      <td id=\"T_40b86_row3_col3\" class=\"data row3 col3\" >None</td>\n",
       "    </tr>\n",
       "    <tr>\n",
       "      <td id=\"T_40b86_row4_col0\" class=\"data row4 col0\" >3</td>\n",
       "      <td id=\"T_40b86_row4_col1\" class=\"data row4 col1\" >Aisha Kareem</td>\n",
       "      <td id=\"T_40b86_row4_col2\" class=\"data row4 col2\" >India</td>\n",
       "      <td id=\"T_40b86_row4_col3\" class=\"data row4 col3\" >None</td>\n",
       "    </tr>\n",
       "  </tbody>\n",
       "</table>\n"
      ],
      "text/plain": [
       "<pandas.io.formats.style.Styler at 0x10a46858d50>"
      ]
     },
     "metadata": {},
     "output_type": "display_data"
    }
   ],
   "source": [
    "# Don't RUN before you put your SQL Query\n",
    "ord_customers_by_name= psql.read_sql(\" SELECT * FROM customer ORDER BY name DESC \", con)\n",
    "display(ord_customers_by_name.style.hide_index())"
   ]
  },
  {
   "cell_type": "markdown",
   "metadata": {},
   "source": [
    "#### Get Distinct Countries of customers From Customer table "
   ]
  },
  {
   "cell_type": "code",
   "execution_count": 17,
   "metadata": {},
   "outputs": [
    {
     "name": "stderr",
     "output_type": "stream",
     "text": [
      "C:\\Users\\Think 13\\AppData\\Local\\Temp\\ipykernel_10560\\632066019.py:2: UserWarning: pandas only supports SQLAlchemy connectable (engine/connection) or database string URI or sqlite3 DBAPI2 connection. Other DBAPI2 objects are not tested. Please consider using SQLAlchemy.\n",
      "  distinctCountries= psql.read_sql(\" SELECT DISTINCT country FROM customer \", con)\n",
      "C:\\Users\\Think 13\\AppData\\Local\\Temp\\ipykernel_10560\\632066019.py:3: FutureWarning: this method is deprecated in favour of `Styler.hide(axis=\"index\")`\n",
      "  display(distinctCountries.style.hide_index())\n"
     ]
    },
    {
     "data": {
      "text/html": [
       "<style type=\"text/css\">\n",
       "</style>\n",
       "<table id=\"T_9fd75\">\n",
       "  <thead>\n",
       "    <tr>\n",
       "      <th id=\"T_9fd75_level0_col0\" class=\"col_heading level0 col0\" >country</th>\n",
       "    </tr>\n",
       "  </thead>\n",
       "  <tbody>\n",
       "    <tr>\n",
       "      <td id=\"T_9fd75_row0_col0\" class=\"data row0 col0\" >Finland</td>\n",
       "    </tr>\n",
       "    <tr>\n",
       "      <td id=\"T_9fd75_row1_col0\" class=\"data row1 col0\" >Egypt</td>\n",
       "    </tr>\n",
       "    <tr>\n",
       "      <td id=\"T_9fd75_row2_col0\" class=\"data row2 col0\" >India</td>\n",
       "    </tr>\n",
       "    <tr>\n",
       "      <td id=\"T_9fd75_row3_col0\" class=\"data row3 col0\" >Canda</td>\n",
       "    </tr>\n",
       "  </tbody>\n",
       "</table>\n"
      ],
      "text/plain": [
       "<pandas.io.formats.style.Styler at 0x10a47641d90>"
      ]
     },
     "metadata": {},
     "output_type": "display_data"
    }
   ],
   "source": [
    "# Don't RUN before you put your SQL Query\n",
    "distinctCountries= psql.read_sql(\" SELECT DISTINCT country FROM customer \", con)\n",
    "display(distinctCountries.style.hide_index())"
   ]
  },
  {
   "cell_type": "markdown",
   "metadata": {},
   "source": [
    "### Filtering the Results (Use the WHERE & AND)"
   ]
  },
  {
   "cell_type": "markdown",
   "metadata": {},
   "source": [
    "#### Get only the customers who have emails (filter out who don't have)"
   ]
  },
  {
   "cell_type": "code",
   "execution_count": 18,
   "metadata": {},
   "outputs": [
    {
     "name": "stderr",
     "output_type": "stream",
     "text": [
      "C:\\Users\\Think 13\\AppData\\Local\\Temp\\ipykernel_10560\\2384262560.py:1: UserWarning: pandas only supports SQLAlchemy connectable (engine/connection) or database string URI or sqlite3 DBAPI2 connection. Other DBAPI2 objects are not tested. Please consider using SQLAlchemy.\n",
      "  customersWithEmails= psql.read_sql(\" SELECT * FROM customer WHERE email != ''  \", con)\n",
      "C:\\Users\\Think 13\\AppData\\Local\\Temp\\ipykernel_10560\\2384262560.py:2: FutureWarning: this method is deprecated in favour of `Styler.hide(axis=\"index\")`\n",
      "  display(customersWithEmails.style.hide_index())\n"
     ]
    },
    {
     "data": {
      "text/html": [
       "<style type=\"text/css\">\n",
       "</style>\n",
       "<table id=\"T_ad8f1\">\n",
       "  <thead>\n",
       "    <tr>\n",
       "      <th id=\"T_ad8f1_level0_col0\" class=\"col_heading level0 col0\" >id</th>\n",
       "      <th id=\"T_ad8f1_level0_col1\" class=\"col_heading level0 col1\" >name</th>\n",
       "      <th id=\"T_ad8f1_level0_col2\" class=\"col_heading level0 col2\" >country</th>\n",
       "      <th id=\"T_ad8f1_level0_col3\" class=\"col_heading level0 col3\" >email</th>\n",
       "    </tr>\n",
       "  </thead>\n",
       "  <tbody>\n",
       "    <tr>\n",
       "      <td id=\"T_ad8f1_row0_col0\" class=\"data row0 col0\" >1</td>\n",
       "      <td id=\"T_ad8f1_row0_col1\" class=\"data row0 col1\" >Mohamed Ragab</td>\n",
       "      <td id=\"T_ad8f1_row0_col2\" class=\"data row0 col2\" >Egypt</td>\n",
       "      <td id=\"T_ad8f1_row0_col3\" class=\"data row0 col3\" >mohamed.ragb@ut.ee</td>\n",
       "    </tr>\n",
       "    <tr>\n",
       "      <td id=\"T_ad8f1_row1_col0\" class=\"data row1 col0\" >2</td>\n",
       "      <td id=\"T_ad8f1_row1_col1\" class=\"data row1 col1\" >John Smith</td>\n",
       "      <td id=\"T_ad8f1_row1_col2\" class=\"data row1 col2\" >Finland</td>\n",
       "      <td id=\"T_ad8f1_row1_col3\" class=\"data row1 col3\" >j.smith@hotmail.com</td>\n",
       "    </tr>\n",
       "    <tr>\n",
       "      <td id=\"T_ad8f1_row2_col0\" class=\"data row2 col0\" >4</td>\n",
       "      <td id=\"T_ad8f1_row2_col1\" class=\"data row2 col1\" >Jean Lime</td>\n",
       "      <td id=\"T_ad8f1_row2_col2\" class=\"data row2 col2\" >Canda</td>\n",
       "      <td id=\"T_ad8f1_row2_col3\" class=\"data row2 col3\" >jeanlime@gmail.com</td>\n",
       "    </tr>\n",
       "  </tbody>\n",
       "</table>\n"
      ],
      "text/plain": [
       "<pandas.io.formats.style.Styler at 0x10a4707b950>"
      ]
     },
     "metadata": {},
     "output_type": "display_data"
    }
   ],
   "source": [
    "customersWithEmails= psql.read_sql(\" SELECT * FROM customer WHERE email != ''  \", con)\n",
    "display(customersWithEmails.style.hide_index())"
   ]
  },
  {
   "cell_type": "markdown",
   "metadata": {},
   "source": [
    "#### Get customers who live in \"Egypt\""
   ]
  },
  {
   "cell_type": "code",
   "execution_count": 19,
   "metadata": {},
   "outputs": [
    {
     "name": "stderr",
     "output_type": "stream",
     "text": [
      "C:\\Users\\Think 13\\AppData\\Local\\Temp\\ipykernel_10560\\1354058199.py:2: UserWarning: pandas only supports SQLAlchemy connectable (engine/connection) or database string URI or sqlite3 DBAPI2 connection. Other DBAPI2 objects are not tested. Please consider using SQLAlchemy.\n",
      "  theEgyptian= psql.read_sql(\" SELECT * FROM customer WHERE country = 'Egypt' \", con)\n",
      "C:\\Users\\Think 13\\AppData\\Local\\Temp\\ipykernel_10560\\1354058199.py:3: FutureWarning: this method is deprecated in favour of `Styler.hide(axis=\"index\")`\n",
      "  display(theEgyptian.style.hide_index())\n"
     ]
    },
    {
     "data": {
      "text/html": [
       "<style type=\"text/css\">\n",
       "</style>\n",
       "<table id=\"T_64601\">\n",
       "  <thead>\n",
       "    <tr>\n",
       "      <th id=\"T_64601_level0_col0\" class=\"col_heading level0 col0\" >id</th>\n",
       "      <th id=\"T_64601_level0_col1\" class=\"col_heading level0 col1\" >name</th>\n",
       "      <th id=\"T_64601_level0_col2\" class=\"col_heading level0 col2\" >country</th>\n",
       "      <th id=\"T_64601_level0_col3\" class=\"col_heading level0 col3\" >email</th>\n",
       "    </tr>\n",
       "  </thead>\n",
       "  <tbody>\n",
       "    <tr>\n",
       "      <td id=\"T_64601_row0_col0\" class=\"data row0 col0\" >1</td>\n",
       "      <td id=\"T_64601_row0_col1\" class=\"data row0 col1\" >Mohamed Ragab</td>\n",
       "      <td id=\"T_64601_row0_col2\" class=\"data row0 col2\" >Egypt</td>\n",
       "      <td id=\"T_64601_row0_col3\" class=\"data row0 col3\" >mohamed.ragb@ut.ee</td>\n",
       "    </tr>\n",
       "    <tr>\n",
       "      <td id=\"T_64601_row1_col0\" class=\"data row1 col0\" >5</td>\n",
       "      <td id=\"T_64601_row1_col1\" class=\"data row1 col1\" >Hassan Eldeeb</td>\n",
       "      <td id=\"T_64601_row1_col2\" class=\"data row1 col2\" >Egypt</td>\n",
       "      <td id=\"T_64601_row1_col3\" class=\"data row1 col3\" >None</td>\n",
       "    </tr>\n",
       "  </tbody>\n",
       "</table>\n"
      ],
      "text/plain": [
       "<pandas.io.formats.style.Styler at 0x10a477b3c10>"
      ]
     },
     "metadata": {},
     "output_type": "display_data"
    }
   ],
   "source": [
    "# Don't RUN before you put your SQL Query\n",
    "theEgyptian= psql.read_sql(\" SELECT * FROM customer WHERE country = 'Egypt' \", con)\n",
    "display(theEgyptian.style.hide_index())"
   ]
  },
  {
   "cell_type": "markdown",
   "metadata": {},
   "source": [
    "#### Get customers who are from Egypt and already have emails"
   ]
  },
  {
   "cell_type": "code",
   "execution_count": 20,
   "metadata": {},
   "outputs": [
    {
     "name": "stderr",
     "output_type": "stream",
     "text": [
      "C:\\Users\\Think 13\\AppData\\Local\\Temp\\ipykernel_10560\\1652940469.py:2: UserWarning: pandas only supports SQLAlchemy connectable (engine/connection) or database string URI or sqlite3 DBAPI2 connection. Other DBAPI2 objects are not tested. Please consider using SQLAlchemy.\n",
      "  theEgyptianWithEmail= psql.read_sql(\" SELECT * FROM customer WHERE country = 'Egypt' AND email != '' \", con)\n",
      "C:\\Users\\Think 13\\AppData\\Local\\Temp\\ipykernel_10560\\1652940469.py:3: FutureWarning: this method is deprecated in favour of `Styler.hide(axis=\"index\")`\n",
      "  display(theEgyptianWithEmail.style.hide_index())\n"
     ]
    },
    {
     "data": {
      "text/html": [
       "<style type=\"text/css\">\n",
       "</style>\n",
       "<table id=\"T_1d554\">\n",
       "  <thead>\n",
       "    <tr>\n",
       "      <th id=\"T_1d554_level0_col0\" class=\"col_heading level0 col0\" >id</th>\n",
       "      <th id=\"T_1d554_level0_col1\" class=\"col_heading level0 col1\" >name</th>\n",
       "      <th id=\"T_1d554_level0_col2\" class=\"col_heading level0 col2\" >country</th>\n",
       "      <th id=\"T_1d554_level0_col3\" class=\"col_heading level0 col3\" >email</th>\n",
       "    </tr>\n",
       "  </thead>\n",
       "  <tbody>\n",
       "    <tr>\n",
       "      <td id=\"T_1d554_row0_col0\" class=\"data row0 col0\" >1</td>\n",
       "      <td id=\"T_1d554_row0_col1\" class=\"data row0 col1\" >Mohamed Ragab</td>\n",
       "      <td id=\"T_1d554_row0_col2\" class=\"data row0 col2\" >Egypt</td>\n",
       "      <td id=\"T_1d554_row0_col3\" class=\"data row0 col3\" >mohamed.ragb@ut.ee</td>\n",
       "    </tr>\n",
       "  </tbody>\n",
       "</table>\n"
      ],
      "text/plain": [
       "<pandas.io.formats.style.Styler at 0x10a47640c10>"
      ]
     },
     "metadata": {},
     "output_type": "display_data"
    }
   ],
   "source": [
    "# Don't RUN before you put your SQL Query\n",
    "theEgyptianWithEmail= psql.read_sql(\" SELECT * FROM customer WHERE country = 'Egypt' AND email != '' \", con)\n",
    "display(theEgyptianWithEmail.style.hide_index())"
   ]
  },
  {
   "cell_type": "markdown",
   "metadata": {},
   "source": [
    "#### Get customers who's name starts with Letter \"J\""
   ]
  },
  {
   "cell_type": "code",
   "execution_count": 21,
   "metadata": {},
   "outputs": [
    {
     "name": "stderr",
     "output_type": "stream",
     "text": [
      "C:\\Users\\Think 13\\AppData\\Local\\Temp\\ipykernel_10560\\4061736775.py:1: UserWarning: pandas only supports SQLAlchemy connectable (engine/connection) or database string URI or sqlite3 DBAPI2 connection. Other DBAPI2 objects are not tested. Please consider using SQLAlchemy.\n",
      "  J_Customers= psql.read_sql(\"SELECT * FROM customer WHERE name LIKE 'J%' \", con)\n",
      "C:\\Users\\Think 13\\AppData\\Local\\Temp\\ipykernel_10560\\4061736775.py:2: FutureWarning: this method is deprecated in favour of `Styler.hide(axis=\"index\")`\n",
      "  display(J_Customers.style.hide_index())\n"
     ]
    },
    {
     "data": {
      "text/html": [
       "<style type=\"text/css\">\n",
       "</style>\n",
       "<table id=\"T_ce56c\">\n",
       "  <thead>\n",
       "    <tr>\n",
       "      <th id=\"T_ce56c_level0_col0\" class=\"col_heading level0 col0\" >id</th>\n",
       "      <th id=\"T_ce56c_level0_col1\" class=\"col_heading level0 col1\" >name</th>\n",
       "      <th id=\"T_ce56c_level0_col2\" class=\"col_heading level0 col2\" >country</th>\n",
       "      <th id=\"T_ce56c_level0_col3\" class=\"col_heading level0 col3\" >email</th>\n",
       "    </tr>\n",
       "  </thead>\n",
       "  <tbody>\n",
       "    <tr>\n",
       "      <td id=\"T_ce56c_row0_col0\" class=\"data row0 col0\" >2</td>\n",
       "      <td id=\"T_ce56c_row0_col1\" class=\"data row0 col1\" >John Smith</td>\n",
       "      <td id=\"T_ce56c_row0_col2\" class=\"data row0 col2\" >Finland</td>\n",
       "      <td id=\"T_ce56c_row0_col3\" class=\"data row0 col3\" >j.smith@hotmail.com</td>\n",
       "    </tr>\n",
       "    <tr>\n",
       "      <td id=\"T_ce56c_row1_col0\" class=\"data row1 col0\" >4</td>\n",
       "      <td id=\"T_ce56c_row1_col1\" class=\"data row1 col1\" >Jean Lime</td>\n",
       "      <td id=\"T_ce56c_row1_col2\" class=\"data row1 col2\" >Canda</td>\n",
       "      <td id=\"T_ce56c_row1_col3\" class=\"data row1 col3\" >jeanlime@gmail.com</td>\n",
       "    </tr>\n",
       "  </tbody>\n",
       "</table>\n"
      ],
      "text/plain": [
       "<pandas.io.formats.style.Styler at 0x10a4780b2d0>"
      ]
     },
     "metadata": {},
     "output_type": "display_data"
    }
   ],
   "source": [
    "J_Customers= psql.read_sql(\"SELECT * FROM customer WHERE name LIKE 'J%' \", con)\n",
    "display(J_Customers.style.hide_index())"
   ]
  },
  {
   "cell_type": "markdown",
   "metadata": {},
   "source": [
    "### Pagination  in SQL, using \"LIMT\" and \"OFFSET\""
   ]
  },
  {
   "cell_type": "markdown",
   "metadata": {},
   "source": [
    "#### Get only the first 3 Customers from the customers table"
   ]
  },
  {
   "cell_type": "code",
   "execution_count": 22,
   "metadata": {},
   "outputs": [
    {
     "name": "stderr",
     "output_type": "stream",
     "text": [
      "C:\\Users\\Think 13\\AppData\\Local\\Temp\\ipykernel_10560\\1813295314.py:1: UserWarning: pandas only supports SQLAlchemy connectable (engine/connection) or database string URI or sqlite3 DBAPI2 connection. Other DBAPI2 objects are not tested. Please consider using SQLAlchemy.\n",
      "  first_3_Customers= psql.read_sql(\"SELECT * FROM customer LIMIT 3 \", con)\n",
      "C:\\Users\\Think 13\\AppData\\Local\\Temp\\ipykernel_10560\\1813295314.py:2: FutureWarning: this method is deprecated in favour of `Styler.hide(axis=\"index\")`\n",
      "  display(first_3_Customers.style.hide_index())\n"
     ]
    },
    {
     "data": {
      "text/html": [
       "<style type=\"text/css\">\n",
       "</style>\n",
       "<table id=\"T_187d5\">\n",
       "  <thead>\n",
       "    <tr>\n",
       "      <th id=\"T_187d5_level0_col0\" class=\"col_heading level0 col0\" >id</th>\n",
       "      <th id=\"T_187d5_level0_col1\" class=\"col_heading level0 col1\" >name</th>\n",
       "      <th id=\"T_187d5_level0_col2\" class=\"col_heading level0 col2\" >country</th>\n",
       "      <th id=\"T_187d5_level0_col3\" class=\"col_heading level0 col3\" >email</th>\n",
       "    </tr>\n",
       "  </thead>\n",
       "  <tbody>\n",
       "    <tr>\n",
       "      <td id=\"T_187d5_row0_col0\" class=\"data row0 col0\" >1</td>\n",
       "      <td id=\"T_187d5_row0_col1\" class=\"data row0 col1\" >Mohamed Ragab</td>\n",
       "      <td id=\"T_187d5_row0_col2\" class=\"data row0 col2\" >Egypt</td>\n",
       "      <td id=\"T_187d5_row0_col3\" class=\"data row0 col3\" >mohamed.ragb@ut.ee</td>\n",
       "    </tr>\n",
       "    <tr>\n",
       "      <td id=\"T_187d5_row1_col0\" class=\"data row1 col0\" >2</td>\n",
       "      <td id=\"T_187d5_row1_col1\" class=\"data row1 col1\" >John Smith</td>\n",
       "      <td id=\"T_187d5_row1_col2\" class=\"data row1 col2\" >Finland</td>\n",
       "      <td id=\"T_187d5_row1_col3\" class=\"data row1 col3\" >j.smith@hotmail.com</td>\n",
       "    </tr>\n",
       "    <tr>\n",
       "      <td id=\"T_187d5_row2_col0\" class=\"data row2 col0\" >3</td>\n",
       "      <td id=\"T_187d5_row2_col1\" class=\"data row2 col1\" >Aisha Kareem</td>\n",
       "      <td id=\"T_187d5_row2_col2\" class=\"data row2 col2\" >India</td>\n",
       "      <td id=\"T_187d5_row2_col3\" class=\"data row2 col3\" >None</td>\n",
       "    </tr>\n",
       "  </tbody>\n",
       "</table>\n"
      ],
      "text/plain": [
       "<pandas.io.formats.style.Styler at 0x10a477b3c10>"
      ]
     },
     "metadata": {},
     "output_type": "display_data"
    }
   ],
   "source": [
    "first_3_Customers= psql.read_sql(\"SELECT * FROM customer LIMIT 3 \", con)\n",
    "display(first_3_Customers.style.hide_index())"
   ]
  },
  {
   "cell_type": "markdown",
   "metadata": {},
   "source": [
    "#### skipt the First 3 Customers and get the next 3 customers"
   ]
  },
  {
   "cell_type": "code",
   "execution_count": 23,
   "metadata": {},
   "outputs": [
    {
     "name": "stderr",
     "output_type": "stream",
     "text": [
      "C:\\Users\\Think 13\\AppData\\Local\\Temp\\ipykernel_10560\\2794347014.py:1: UserWarning: pandas only supports SQLAlchemy connectable (engine/connection) or database string URI or sqlite3 DBAPI2 connection. Other DBAPI2 objects are not tested. Please consider using SQLAlchemy.\n",
      "  next_3_Customers= psql.read_sql(\" SELECT * FROM customer OFFSET 3 LIMIT 3 \", con)\n",
      "C:\\Users\\Think 13\\AppData\\Local\\Temp\\ipykernel_10560\\2794347014.py:2: FutureWarning: this method is deprecated in favour of `Styler.hide(axis=\"index\")`\n",
      "  display(next_3_Customers.style.hide_index())\n"
     ]
    },
    {
     "data": {
      "text/html": [
       "<style type=\"text/css\">\n",
       "</style>\n",
       "<table id=\"T_942bf\">\n",
       "  <thead>\n",
       "    <tr>\n",
       "      <th id=\"T_942bf_level0_col0\" class=\"col_heading level0 col0\" >id</th>\n",
       "      <th id=\"T_942bf_level0_col1\" class=\"col_heading level0 col1\" >name</th>\n",
       "      <th id=\"T_942bf_level0_col2\" class=\"col_heading level0 col2\" >country</th>\n",
       "      <th id=\"T_942bf_level0_col3\" class=\"col_heading level0 col3\" >email</th>\n",
       "    </tr>\n",
       "  </thead>\n",
       "  <tbody>\n",
       "    <tr>\n",
       "      <td id=\"T_942bf_row0_col0\" class=\"data row0 col0\" >4</td>\n",
       "      <td id=\"T_942bf_row0_col1\" class=\"data row0 col1\" >Jean Lime</td>\n",
       "      <td id=\"T_942bf_row0_col2\" class=\"data row0 col2\" >Canda</td>\n",
       "      <td id=\"T_942bf_row0_col3\" class=\"data row0 col3\" >jeanlime@gmail.com</td>\n",
       "    </tr>\n",
       "    <tr>\n",
       "      <td id=\"T_942bf_row1_col0\" class=\"data row1 col0\" >5</td>\n",
       "      <td id=\"T_942bf_row1_col1\" class=\"data row1 col1\" >Hassan Eldeeb</td>\n",
       "      <td id=\"T_942bf_row1_col2\" class=\"data row1 col2\" >Egypt</td>\n",
       "      <td id=\"T_942bf_row1_col3\" class=\"data row1 col3\" >None</td>\n",
       "    </tr>\n",
       "  </tbody>\n",
       "</table>\n"
      ],
      "text/plain": [
       "<pandas.io.formats.style.Styler at 0x10a47808990>"
      ]
     },
     "metadata": {},
     "output_type": "display_data"
    }
   ],
   "source": [
    "next_3_Customers= psql.read_sql(\" SELECT * FROM customer OFFSET 3 LIMIT 3 \", con)\n",
    "display(next_3_Customers.style.hide_index())"
   ]
  },
  {
   "cell_type": "markdown",
   "metadata": {},
   "source": [
    "#### Try another way to ge the same result of the previous cell\n",
    "- **Hint** : use OFFSET with FETCH FIRST"
   ]
  },
  {
   "cell_type": "code",
   "execution_count": 24,
   "metadata": {},
   "outputs": [
    {
     "name": "stderr",
     "output_type": "stream",
     "text": [
      "C:\\Users\\Think 13\\AppData\\Local\\Temp\\ipykernel_10560\\1884100822.py:3: UserWarning: pandas only supports SQLAlchemy connectable (engine/connection) or database string URI or sqlite3 DBAPI2 connection. Other DBAPI2 objects are not tested. Please consider using SQLAlchemy.\n",
      "  next_3_Customers= psql.read_sql(\" SELECT * FROM customer OFFSET 3 FETCH FIRST 3 ROWS ONLY\", con)\n",
      "C:\\Users\\Think 13\\AppData\\Local\\Temp\\ipykernel_10560\\1884100822.py:4: FutureWarning: this method is deprecated in favour of `Styler.hide(axis=\"index\")`\n",
      "  display(next_3_Customers.style.hide_index())\n"
     ]
    },
    {
     "data": {
      "text/html": [
       "<style type=\"text/css\">\n",
       "</style>\n",
       "<table id=\"T_9a980\">\n",
       "  <thead>\n",
       "    <tr>\n",
       "      <th id=\"T_9a980_level0_col0\" class=\"col_heading level0 col0\" >id</th>\n",
       "      <th id=\"T_9a980_level0_col1\" class=\"col_heading level0 col1\" >name</th>\n",
       "      <th id=\"T_9a980_level0_col2\" class=\"col_heading level0 col2\" >country</th>\n",
       "      <th id=\"T_9a980_level0_col3\" class=\"col_heading level0 col3\" >email</th>\n",
       "    </tr>\n",
       "  </thead>\n",
       "  <tbody>\n",
       "    <tr>\n",
       "      <td id=\"T_9a980_row0_col0\" class=\"data row0 col0\" >4</td>\n",
       "      <td id=\"T_9a980_row0_col1\" class=\"data row0 col1\" >Jean Lime</td>\n",
       "      <td id=\"T_9a980_row0_col2\" class=\"data row0 col2\" >Canda</td>\n",
       "      <td id=\"T_9a980_row0_col3\" class=\"data row0 col3\" >jeanlime@gmail.com</td>\n",
       "    </tr>\n",
       "    <tr>\n",
       "      <td id=\"T_9a980_row1_col0\" class=\"data row1 col0\" >5</td>\n",
       "      <td id=\"T_9a980_row1_col1\" class=\"data row1 col1\" >Hassan Eldeeb</td>\n",
       "      <td id=\"T_9a980_row1_col2\" class=\"data row1 col2\" >Egypt</td>\n",
       "      <td id=\"T_9a980_row1_col3\" class=\"data row1 col3\" >None</td>\n",
       "    </tr>\n",
       "  </tbody>\n",
       "</table>\n"
      ],
      "text/plain": [
       "<pandas.io.formats.style.Styler at 0x10a4763a5d0>"
      ]
     },
     "metadata": {},
     "output_type": "display_data"
    }
   ],
   "source": [
    "#OR you can do the same using the following Query\n",
    "# Don't RUN before you put your SQL Query\n",
    "next_3_Customers= psql.read_sql(\" SELECT * FROM customer OFFSET 3 FETCH FIRST 3 ROWS ONLY\", con)\n",
    "display(next_3_Customers.style.hide_index())"
   ]
  },
  {
   "cell_type": "markdown",
   "metadata": {},
   "source": [
    "## Let's have some statiscs and aggregations (SQL GROUP BY & aggregation functions)\n",
    "\n",
    "- The GROUP BY statement groups rows that have the same values into summary rows.\n",
    "- The GROUP BY statement is often used with aggregate functions (COUNT, MAX, MIN, SUM, AVG) to group the result-set by one or more columns.\n"
   ]
  },
  {
   "cell_type": "markdown",
   "metadata": {},
   "source": [
    "#### Get the count of  customers in your DB"
   ]
  },
  {
   "cell_type": "code",
   "execution_count": 25,
   "metadata": {},
   "outputs": [
    {
     "name": "stderr",
     "output_type": "stream",
     "text": [
      "C:\\Users\\Think 13\\AppData\\Local\\Temp\\ipykernel_10560\\4242166282.py:2: UserWarning: pandas only supports SQLAlchemy connectable (engine/connection) or database string URI or sqlite3 DBAPI2 connection. Other DBAPI2 objects are not tested. Please consider using SQLAlchemy.\n",
      "  Customers_Cnt= psql.read_sql(\" SELECT COUNT(*) FROM customer\", con)\n",
      "C:\\Users\\Think 13\\AppData\\Local\\Temp\\ipykernel_10560\\4242166282.py:3: FutureWarning: this method is deprecated in favour of `Styler.hide(axis=\"index\")`\n",
      "  display(Customers_Cnt.style.hide_index())\n"
     ]
    },
    {
     "data": {
      "text/html": [
       "<style type=\"text/css\">\n",
       "</style>\n",
       "<table id=\"T_a6a6e\">\n",
       "  <thead>\n",
       "    <tr>\n",
       "      <th id=\"T_a6a6e_level0_col0\" class=\"col_heading level0 col0\" >count</th>\n",
       "    </tr>\n",
       "  </thead>\n",
       "  <tbody>\n",
       "    <tr>\n",
       "      <td id=\"T_a6a6e_row0_col0\" class=\"data row0 col0\" >5</td>\n",
       "    </tr>\n",
       "  </tbody>\n",
       "</table>\n"
      ],
      "text/plain": [
       "<pandas.io.formats.style.Styler at 0x10a477b26d0>"
      ]
     },
     "metadata": {},
     "output_type": "display_data"
    }
   ],
   "source": [
    "# Don't RUN before you put your SQL Query\n",
    "Customers_Cnt= psql.read_sql(\" SELECT COUNT(*) FROM customer\", con)\n",
    "display(Customers_Cnt.style.hide_index())"
   ]
  },
  {
   "cell_type": "markdown",
   "metadata": {},
   "source": [
    "#### Get the Distinct Countries and how many customers are in each country"
   ]
  },
  {
   "cell_type": "code",
   "execution_count": 26,
   "metadata": {},
   "outputs": [
    {
     "name": "stderr",
     "output_type": "stream",
     "text": [
      "C:\\Users\\Think 13\\AppData\\Local\\Temp\\ipykernel_10560\\3100631652.py:1: UserWarning: pandas only supports SQLAlchemy connectable (engine/connection) or database string URI or sqlite3 DBAPI2 connection. Other DBAPI2 objects are not tested. Please consider using SQLAlchemy.\n",
      "  Countries_Customers_Cnt= psql.read_sql(\"SELECT DISTINCT country , COUNT (*) FROM customer GROUP BY country\", con)\n",
      "C:\\Users\\Think 13\\AppData\\Local\\Temp\\ipykernel_10560\\3100631652.py:2: FutureWarning: this method is deprecated in favour of `Styler.hide(axis=\"index\")`\n",
      "  display(Countries_Customers_Cnt.style.hide_index())\n"
     ]
    },
    {
     "data": {
      "text/html": [
       "<style type=\"text/css\">\n",
       "</style>\n",
       "<table id=\"T_b853e\">\n",
       "  <thead>\n",
       "    <tr>\n",
       "      <th id=\"T_b853e_level0_col0\" class=\"col_heading level0 col0\" >country</th>\n",
       "      <th id=\"T_b853e_level0_col1\" class=\"col_heading level0 col1\" >count</th>\n",
       "    </tr>\n",
       "  </thead>\n",
       "  <tbody>\n",
       "    <tr>\n",
       "      <td id=\"T_b853e_row0_col0\" class=\"data row0 col0\" >India</td>\n",
       "      <td id=\"T_b853e_row0_col1\" class=\"data row0 col1\" >1</td>\n",
       "    </tr>\n",
       "    <tr>\n",
       "      <td id=\"T_b853e_row1_col0\" class=\"data row1 col0\" >Canda</td>\n",
       "      <td id=\"T_b853e_row1_col1\" class=\"data row1 col1\" >1</td>\n",
       "    </tr>\n",
       "    <tr>\n",
       "      <td id=\"T_b853e_row2_col0\" class=\"data row2 col0\" >Finland</td>\n",
       "      <td id=\"T_b853e_row2_col1\" class=\"data row2 col1\" >1</td>\n",
       "    </tr>\n",
       "    <tr>\n",
       "      <td id=\"T_b853e_row3_col0\" class=\"data row3 col0\" >Egypt</td>\n",
       "      <td id=\"T_b853e_row3_col1\" class=\"data row3 col1\" >2</td>\n",
       "    </tr>\n",
       "  </tbody>\n",
       "</table>\n"
      ],
      "text/plain": [
       "<pandas.io.formats.style.Styler at 0x10a477e4590>"
      ]
     },
     "metadata": {},
     "output_type": "display_data"
    }
   ],
   "source": [
    "Countries_Customers_Cnt= psql.read_sql(\"SELECT DISTINCT country , COUNT (*) FROM customer GROUP BY country\", con)\n",
    "display(Countries_Customers_Cnt.style.hide_index())"
   ]
  },
  {
   "cell_type": "markdown",
   "metadata": {},
   "source": [
    "#### Get the Distinct Countries and how many people are in each country, and filter the count to be greater than 1"
   ]
  },
  {
   "cell_type": "code",
   "execution_count": 27,
   "metadata": {},
   "outputs": [
    {
     "name": "stderr",
     "output_type": "stream",
     "text": [
      "C:\\Users\\Think 13\\AppData\\Local\\Temp\\ipykernel_10560\\2340473539.py:2: UserWarning: pandas only supports SQLAlchemy connectable (engine/connection) or database string URI or sqlite3 DBAPI2 connection. Other DBAPI2 objects are not tested. Please consider using SQLAlchemy.\n",
      "  Countries_Customers_Cnt_gt1= psql.read_sql(\"\"\"SELECT DISTINCT country , COUNT (*)\n",
      "C:\\Users\\Think 13\\AppData\\Local\\Temp\\ipykernel_10560\\2340473539.py:7: FutureWarning: this method is deprecated in favour of `Styler.hide(axis=\"index\")`\n",
      "  display(Countries_Customers_Cnt_gt1.style.hide_index())\n"
     ]
    },
    {
     "data": {
      "text/html": [
       "<style type=\"text/css\">\n",
       "</style>\n",
       "<table id=\"T_a2058\">\n",
       "  <thead>\n",
       "    <tr>\n",
       "      <th id=\"T_a2058_level0_col0\" class=\"col_heading level0 col0\" >country</th>\n",
       "      <th id=\"T_a2058_level0_col1\" class=\"col_heading level0 col1\" >count</th>\n",
       "    </tr>\n",
       "  </thead>\n",
       "  <tbody>\n",
       "    <tr>\n",
       "      <td id=\"T_a2058_row0_col0\" class=\"data row0 col0\" >Egypt</td>\n",
       "      <td id=\"T_a2058_row0_col1\" class=\"data row0 col1\" >2</td>\n",
       "    </tr>\n",
       "  </tbody>\n",
       "</table>\n"
      ],
      "text/plain": [
       "<pandas.io.formats.style.Styler at 0x10a4762bc10>"
      ]
     },
     "metadata": {},
     "output_type": "display_data"
    }
   ],
   "source": [
    "### USE of HAVING with GROUP BY and Aggregation Functions\n",
    "Countries_Customers_Cnt_gt1= psql.read_sql(\"\"\"SELECT DISTINCT country , COUNT (*) \n",
    "                                          FROM customer \n",
    "                                          GROUP BY country \n",
    "                                          HAVING count(*)>1\n",
    "                                          \"\"\", con)\n",
    "display(Countries_Customers_Cnt_gt1.style.hide_index())"
   ]
  },
  {
   "cell_type": "markdown",
   "metadata": {},
   "source": [
    "##### Give an Alias for the count (change it to be Customers_number)"
   ]
  },
  {
   "cell_type": "code",
   "execution_count": 28,
   "metadata": {},
   "outputs": [
    {
     "name": "stderr",
     "output_type": "stream",
     "text": [
      "C:\\Users\\Think 13\\AppData\\Local\\Temp\\ipykernel_10560\\3092171177.py:2: UserWarning: pandas only supports SQLAlchemy connectable (engine/connection) or database string URI or sqlite3 DBAPI2 connection. Other DBAPI2 objects are not tested. Please consider using SQLAlchemy.\n",
      "  Countries_Customers_Cnt_gt1= psql.read_sql(\"\"\" SELECT DISTINCT country , COUNT (*) as customer_number\n",
      "C:\\Users\\Think 13\\AppData\\Local\\Temp\\ipykernel_10560\\3092171177.py:7: FutureWarning: this method is deprecated in favour of `Styler.hide(axis=\"index\")`\n",
      "  display(Countries_Customers_Cnt_gt1.style.hide_index())\n"
     ]
    },
    {
     "data": {
      "text/html": [
       "<style type=\"text/css\">\n",
       "</style>\n",
       "<table id=\"T_06ff5\">\n",
       "  <thead>\n",
       "    <tr>\n",
       "      <th id=\"T_06ff5_level0_col0\" class=\"col_heading level0 col0\" >country</th>\n",
       "      <th id=\"T_06ff5_level0_col1\" class=\"col_heading level0 col1\" >customer_number</th>\n",
       "    </tr>\n",
       "  </thead>\n",
       "  <tbody>\n",
       "    <tr>\n",
       "      <td id=\"T_06ff5_row0_col0\" class=\"data row0 col0\" >Egypt</td>\n",
       "      <td id=\"T_06ff5_row0_col1\" class=\"data row0 col1\" >2</td>\n",
       "    </tr>\n",
       "  </tbody>\n",
       "</table>\n"
      ],
      "text/plain": [
       "<pandas.io.formats.style.Styler at 0x10a477e7390>"
      ]
     },
     "metadata": {},
     "output_type": "display_data"
    }
   ],
   "source": [
    "# Don't RUN before you put your SQL Query\n",
    "Countries_Customers_Cnt_gt1= psql.read_sql(\"\"\" SELECT DISTINCT country , COUNT (*) as customer_number\n",
    "                                          FROM customer \n",
    "                                          GROUP BY country \n",
    "                                          HAVING count(*)>1\n",
    "                                        \"\"\", con)\n",
    "display(Countries_Customers_Cnt_gt1.style.hide_index())"
   ]
  },
  {
   "cell_type": "markdown",
   "metadata": {},
   "source": [
    "##### We're going to leave link here for more details about the other aggregate functions such as (MIN, MAX, SUM,...)\n",
    "PostgreSQL Aggregates: https://www.postgresql.org/docs/9.5/functions-aggregate.html"
   ]
  },
  {
   "cell_type": "markdown",
   "metadata": {},
   "source": [
    "### Let's Create the Second Table (Order)\n",
    "- ***Reminder: One-to-many*** relationship is handled as follows : Use a foreign key on the many side of the relationship linking back to the \"one\" side.\n",
    "- ***Note:*** Order is a reserved keyword in SQL, It's not recommended to use such keywords, but if you want to do so, we can use double quoutes \"\" arrount those keywords."
   ]
  },
  {
   "cell_type": "code",
   "execution_count": 29,
   "metadata": {},
   "outputs": [
    {
     "name": "stdout",
     "output_type": "stream",
     "text": [
      "Table (order) created successfully in PostgreSQL \n"
     ]
    }
   ],
   "source": [
    "#Create Order Table\n",
    "\n",
    "try:\n",
    "    ordersTable=\"order\"\n",
    "    create_ordersTable_query = '''CREATE TABLE \"'''+ ordersTable+'''\" \n",
    "              (id INT  PRIMARY KEY,\n",
    "               customer_id  INT  REFERENCES customer(id),\n",
    "               product      TEXT    NOT NULL\n",
    "               ); '''\n",
    "\n",
    "    \n",
    "    #Execute this command (SQL Query)\n",
    "    cursor.execute(create_ordersTable_query)\n",
    "    con.commit()\n",
    "    print(\"Table (\"+ ordersTable +\") created successfully in PostgreSQL \")\n",
    "except:\n",
    "    con.rollback()\n",
    "    print(\"Table (\"+ ordersTable +\") already Existed! \")"
   ]
  },
  {
   "cell_type": "markdown",
   "metadata": {},
   "source": [
    "#### Can we create this table (Order) before the (customer) table? (YES/NO, and Why)?!"
   ]
  },
  {
   "attachments": {},
   "cell_type": "markdown",
   "metadata": {},
   "source": [
    "We CAN'T create Order table before Customer because the 'customer_id' would not have it REFERENCES key, which is 'id' as above"
   ]
  },
  {
   "cell_type": "markdown",
   "metadata": {},
   "source": [
    "#### Insert Some Data into the (Order) Table"
   ]
  },
  {
   "cell_type": "code",
   "execution_count": 30,
   "metadata": {},
   "outputs": [
    {
     "name": "stdout",
     "output_type": "stream",
     "text": [
      "6 Record inserted successfully into customers table\n"
     ]
    }
   ],
   "source": [
    "sql_insert_orders = '''INSERT INTO \"order\" (id,customer_id,product) VALUES(%s,%s,%s)'''\n",
    "\n",
    "#list of customers\n",
    "orders_List=[\n",
    "        (1,1, \"Coffee - Irish Cream\"),\n",
    "        (2,1, \"Sauce - Demi Glace\"),\n",
    "        (3,2,\"Corn Meal\"),\n",
    "        (4,1,\"Cumin - Whole\"),\n",
    "        (5,3,\"Chocolate - Sugar Free Semi Choc\"),\n",
    "        (6,4,\"Rolled Oats\")]\n",
    "try:\n",
    "    # execute the INSERT statement\n",
    "    cursor.executemany(sql_insert_orders,orders_List)\n",
    "    # commit the changes to the database\n",
    "    con.commit()\n",
    "\n",
    "except (Exception, psycopg2.Error) as error :\n",
    "    con.rollback()\n",
    "    print (\"Error while exccuting the query at PostgreSQL\",error)\n",
    "    \n",
    "finally:\n",
    "    \n",
    "    count = cursor.rowcount\n",
    "    print (count, \"Record inserted successfully into customers table\")"
   ]
  },
  {
   "cell_type": "markdown",
   "metadata": {},
   "source": [
    "## Bring Data from multiple Tables (SQL JOINS)"
   ]
  },
  {
   "cell_type": "markdown",
   "metadata": {},
   "source": [
    "#### What are SQL Joins?\n",
    "\n",
    "An SQL JOIN clause combines rows from two or more tables. It creates a set of rows in a temporary table. "
   ]
  },
  {
   "cell_type": "markdown",
   "metadata": {},
   "source": [
    "#### How to Join two tables in SQL?\n",
    "- A JOIN works on two or more tables if they have at least one common field and have a relationship between them.\n",
    "\n",
    "- JOIN keeps the base tables (structure and data) unchanged."
   ]
  },
  {
   "cell_type": "markdown",
   "metadata": {},
   "source": [
    "#### Looking only at \"order\" Table, we don't know names (or any further details of the csuomers)\n",
    "- Here'is the role of JOINS Comes to the Scene :) "
   ]
  },
  {
   "cell_type": "code",
   "execution_count": 31,
   "metadata": {},
   "outputs": [
    {
     "name": "stderr",
     "output_type": "stream",
     "text": [
      "C:\\Users\\Think 13\\AppData\\Local\\Temp\\ipykernel_10560\\3586515401.py:1: UserWarning: pandas only supports SQLAlchemy connectable (engine/connection) or database string URI or sqlite3 DBAPI2 connection. Other DBAPI2 objects are not tested. Please consider using SQLAlchemy.\n",
      "  orders= psql.read_sql('''SELECT * FROM \"order\" ''', con)\n",
      "C:\\Users\\Think 13\\AppData\\Local\\Temp\\ipykernel_10560\\3586515401.py:2: FutureWarning: this method is deprecated in favour of `Styler.hide(axis=\"index\")`\n",
      "  display(orders.style.hide_index())\n"
     ]
    },
    {
     "data": {
      "text/html": [
       "<style type=\"text/css\">\n",
       "</style>\n",
       "<table id=\"T_87a69\">\n",
       "  <thead>\n",
       "    <tr>\n",
       "      <th id=\"T_87a69_level0_col0\" class=\"col_heading level0 col0\" >id</th>\n",
       "      <th id=\"T_87a69_level0_col1\" class=\"col_heading level0 col1\" >customer_id</th>\n",
       "      <th id=\"T_87a69_level0_col2\" class=\"col_heading level0 col2\" >product</th>\n",
       "    </tr>\n",
       "  </thead>\n",
       "  <tbody>\n",
       "    <tr>\n",
       "      <td id=\"T_87a69_row0_col0\" class=\"data row0 col0\" >1</td>\n",
       "      <td id=\"T_87a69_row0_col1\" class=\"data row0 col1\" >1</td>\n",
       "      <td id=\"T_87a69_row0_col2\" class=\"data row0 col2\" >Coffee - Irish Cream</td>\n",
       "    </tr>\n",
       "    <tr>\n",
       "      <td id=\"T_87a69_row1_col0\" class=\"data row1 col0\" >2</td>\n",
       "      <td id=\"T_87a69_row1_col1\" class=\"data row1 col1\" >1</td>\n",
       "      <td id=\"T_87a69_row1_col2\" class=\"data row1 col2\" >Sauce - Demi Glace</td>\n",
       "    </tr>\n",
       "    <tr>\n",
       "      <td id=\"T_87a69_row2_col0\" class=\"data row2 col0\" >3</td>\n",
       "      <td id=\"T_87a69_row2_col1\" class=\"data row2 col1\" >2</td>\n",
       "      <td id=\"T_87a69_row2_col2\" class=\"data row2 col2\" >Corn Meal</td>\n",
       "    </tr>\n",
       "    <tr>\n",
       "      <td id=\"T_87a69_row3_col0\" class=\"data row3 col0\" >4</td>\n",
       "      <td id=\"T_87a69_row3_col1\" class=\"data row3 col1\" >1</td>\n",
       "      <td id=\"T_87a69_row3_col2\" class=\"data row3 col2\" >Cumin - Whole</td>\n",
       "    </tr>\n",
       "    <tr>\n",
       "      <td id=\"T_87a69_row4_col0\" class=\"data row4 col0\" >5</td>\n",
       "      <td id=\"T_87a69_row4_col1\" class=\"data row4 col1\" >3</td>\n",
       "      <td id=\"T_87a69_row4_col2\" class=\"data row4 col2\" >Chocolate - Sugar Free Semi Choc</td>\n",
       "    </tr>\n",
       "    <tr>\n",
       "      <td id=\"T_87a69_row5_col0\" class=\"data row5 col0\" >6</td>\n",
       "      <td id=\"T_87a69_row5_col1\" class=\"data row5 col1\" >4</td>\n",
       "      <td id=\"T_87a69_row5_col2\" class=\"data row5 col2\" >Rolled Oats</td>\n",
       "    </tr>\n",
       "  </tbody>\n",
       "</table>\n"
      ],
      "text/plain": [
       "<pandas.io.formats.style.Styler at 0x10a477e6d50>"
      ]
     },
     "metadata": {},
     "output_type": "display_data"
    }
   ],
   "source": [
    "orders= psql.read_sql('''SELECT * FROM \"order\" ''', con)\n",
    "display(orders.style.hide_index())"
   ]
  },
  {
   "cell_type": "markdown",
   "metadata": {},
   "source": [
    "#### INNER JOIN\n",
    "\n",
    "- The SQL INNER JOIN is similar to the Set intersection.\n",
    "- INNER JOIN selects rows from table1 and table2 where they match the selecting column.\n"
   ]
  },
  {
   "cell_type": "code",
   "execution_count": 32,
   "metadata": {},
   "outputs": [
    {
     "name": "stderr",
     "output_type": "stream",
     "text": [
      "C:\\Users\\Think 13\\AppData\\Local\\Temp\\ipykernel_10560\\3532695662.py:1: UserWarning: pandas only supports SQLAlchemy connectable (engine/connection) or database string URI or sqlite3 DBAPI2 connection. Other DBAPI2 objects are not tested. Please consider using SQLAlchemy.\n",
      "  innerJoined= psql.read_sql(\"\"\"SELECT * FROM customer\n"
     ]
    },
    {
     "data": {
      "text/html": [
       "<div>\n",
       "<style scoped>\n",
       "    .dataframe tbody tr th:only-of-type {\n",
       "        vertical-align: middle;\n",
       "    }\n",
       "\n",
       "    .dataframe tbody tr th {\n",
       "        vertical-align: top;\n",
       "    }\n",
       "\n",
       "    .dataframe thead th {\n",
       "        text-align: right;\n",
       "    }\n",
       "</style>\n",
       "<table border=\"1\" class=\"dataframe\">\n",
       "  <thead>\n",
       "    <tr style=\"text-align: right;\">\n",
       "      <th></th>\n",
       "      <th>id</th>\n",
       "      <th>name</th>\n",
       "      <th>country</th>\n",
       "      <th>email</th>\n",
       "      <th>id</th>\n",
       "      <th>customer_id</th>\n",
       "      <th>product</th>\n",
       "    </tr>\n",
       "  </thead>\n",
       "  <tbody>\n",
       "    <tr>\n",
       "      <th>0</th>\n",
       "      <td>1</td>\n",
       "      <td>Mohamed Ragab</td>\n",
       "      <td>Egypt</td>\n",
       "      <td>mohamed.ragb@ut.ee</td>\n",
       "      <td>1</td>\n",
       "      <td>1</td>\n",
       "      <td>Coffee - Irish Cream</td>\n",
       "    </tr>\n",
       "    <tr>\n",
       "      <th>1</th>\n",
       "      <td>1</td>\n",
       "      <td>Mohamed Ragab</td>\n",
       "      <td>Egypt</td>\n",
       "      <td>mohamed.ragb@ut.ee</td>\n",
       "      <td>2</td>\n",
       "      <td>1</td>\n",
       "      <td>Sauce - Demi Glace</td>\n",
       "    </tr>\n",
       "    <tr>\n",
       "      <th>2</th>\n",
       "      <td>1</td>\n",
       "      <td>Mohamed Ragab</td>\n",
       "      <td>Egypt</td>\n",
       "      <td>mohamed.ragb@ut.ee</td>\n",
       "      <td>4</td>\n",
       "      <td>1</td>\n",
       "      <td>Cumin - Whole</td>\n",
       "    </tr>\n",
       "    <tr>\n",
       "      <th>3</th>\n",
       "      <td>2</td>\n",
       "      <td>John Smith</td>\n",
       "      <td>Finland</td>\n",
       "      <td>j.smith@hotmail.com</td>\n",
       "      <td>3</td>\n",
       "      <td>2</td>\n",
       "      <td>Corn Meal</td>\n",
       "    </tr>\n",
       "    <tr>\n",
       "      <th>4</th>\n",
       "      <td>4</td>\n",
       "      <td>Jean Lime</td>\n",
       "      <td>Canda</td>\n",
       "      <td>jeanlime@gmail.com</td>\n",
       "      <td>6</td>\n",
       "      <td>4</td>\n",
       "      <td>Rolled Oats</td>\n",
       "    </tr>\n",
       "    <tr>\n",
       "      <th>5</th>\n",
       "      <td>3</td>\n",
       "      <td>Aisha Kareem</td>\n",
       "      <td>India</td>\n",
       "      <td>None</td>\n",
       "      <td>5</td>\n",
       "      <td>3</td>\n",
       "      <td>Chocolate - Sugar Free Semi Choc</td>\n",
       "    </tr>\n",
       "  </tbody>\n",
       "</table>\n",
       "</div>"
      ],
      "text/plain": [
       "   id           name  country                email  id  customer_id  \\\n",
       "0   1  Mohamed Ragab    Egypt   mohamed.ragb@ut.ee   1            1   \n",
       "1   1  Mohamed Ragab    Egypt   mohamed.ragb@ut.ee   2            1   \n",
       "2   1  Mohamed Ragab    Egypt   mohamed.ragb@ut.ee   4            1   \n",
       "3   2     John Smith  Finland  j.smith@hotmail.com   3            2   \n",
       "4   4      Jean Lime    Canda   jeanlime@gmail.com   6            4   \n",
       "5   3   Aisha Kareem    India                 None   5            3   \n",
       "\n",
       "                            product  \n",
       "0              Coffee - Irish Cream  \n",
       "1                Sauce - Demi Glace  \n",
       "2                     Cumin - Whole  \n",
       "3                         Corn Meal  \n",
       "4                       Rolled Oats  \n",
       "5  Chocolate - Sugar Free Semi Choc  "
      ]
     },
     "metadata": {},
     "output_type": "display_data"
    }
   ],
   "source": [
    "innerJoined= psql.read_sql(\"\"\"SELECT * FROM customer \n",
    "                              INNER JOIN  \"order\" \n",
    "                              ON customer.id = \"order\".customer_id\n",
    "                              ORDER BY name DESC\n",
    "                      \"\"\", con)\n",
    "display(innerJoined)"
   ]
  },
  {
   "cell_type": "markdown",
   "metadata": {},
   "source": [
    "#### If it's Confusing Just show the name and the product"
   ]
  },
  {
   "cell_type": "code",
   "execution_count": 33,
   "metadata": {},
   "outputs": [
    {
     "name": "stderr",
     "output_type": "stream",
     "text": [
      "C:\\Users\\Think 13\\AppData\\Local\\Temp\\ipykernel_10560\\1379868712.py:1: UserWarning: pandas only supports SQLAlchemy connectable (engine/connection) or database string URI or sqlite3 DBAPI2 connection. Other DBAPI2 objects are not tested. Please consider using SQLAlchemy.\n",
      "  innerJoined= psql.read_sql(\"\"\"SELECT customer.name, \"order\".product\n"
     ]
    },
    {
     "data": {
      "text/html": [
       "<div>\n",
       "<style scoped>\n",
       "    .dataframe tbody tr th:only-of-type {\n",
       "        vertical-align: middle;\n",
       "    }\n",
       "\n",
       "    .dataframe tbody tr th {\n",
       "        vertical-align: top;\n",
       "    }\n",
       "\n",
       "    .dataframe thead th {\n",
       "        text-align: right;\n",
       "    }\n",
       "</style>\n",
       "<table border=\"1\" class=\"dataframe\">\n",
       "  <thead>\n",
       "    <tr style=\"text-align: right;\">\n",
       "      <th></th>\n",
       "      <th>name</th>\n",
       "      <th>product</th>\n",
       "    </tr>\n",
       "  </thead>\n",
       "  <tbody>\n",
       "    <tr>\n",
       "      <th>0</th>\n",
       "      <td>Mohamed Ragab</td>\n",
       "      <td>Coffee - Irish Cream</td>\n",
       "    </tr>\n",
       "    <tr>\n",
       "      <th>1</th>\n",
       "      <td>Mohamed Ragab</td>\n",
       "      <td>Sauce - Demi Glace</td>\n",
       "    </tr>\n",
       "    <tr>\n",
       "      <th>2</th>\n",
       "      <td>Mohamed Ragab</td>\n",
       "      <td>Cumin - Whole</td>\n",
       "    </tr>\n",
       "    <tr>\n",
       "      <th>3</th>\n",
       "      <td>John Smith</td>\n",
       "      <td>Corn Meal</td>\n",
       "    </tr>\n",
       "    <tr>\n",
       "      <th>4</th>\n",
       "      <td>Jean Lime</td>\n",
       "      <td>Rolled Oats</td>\n",
       "    </tr>\n",
       "    <tr>\n",
       "      <th>5</th>\n",
       "      <td>Aisha Kareem</td>\n",
       "      <td>Chocolate - Sugar Free Semi Choc</td>\n",
       "    </tr>\n",
       "  </tbody>\n",
       "</table>\n",
       "</div>"
      ],
      "text/plain": [
       "            name                           product\n",
       "0  Mohamed Ragab              Coffee - Irish Cream\n",
       "1  Mohamed Ragab                Sauce - Demi Glace\n",
       "2  Mohamed Ragab                     Cumin - Whole\n",
       "3     John Smith                         Corn Meal\n",
       "4      Jean Lime                       Rolled Oats\n",
       "5   Aisha Kareem  Chocolate - Sugar Free Semi Choc"
      ]
     },
     "metadata": {},
     "output_type": "display_data"
    }
   ],
   "source": [
    "innerJoined= psql.read_sql(\"\"\"SELECT customer.name, \"order\".product\n",
    "                            FROM customer INNER JOIN  \"order\" \n",
    "                            ON customer.id = \"order\".customer_id\n",
    "                            ORDER BY name DESC\n",
    "                      \"\"\", con)\n",
    "display(innerJoined)"
   ]
  },
  {
   "cell_type": "markdown",
   "metadata": {},
   "source": [
    "###  LEFT JOIN\n",
    "\n",
    "- This selects all rows from the table1 ( on the left), the rows from the  table2 (on the right) if they match.\n",
    "- If they don’t match, the data for the right table is blank (NULLS)."
   ]
  },
  {
   "cell_type": "markdown",
   "metadata": {},
   "source": [
    "#### Get all the customers with Orders details, even get customers who don't made orderes \n",
    "- Other way to say! Get all the customers, and Products , and if the customer didn't order product the product will be blank"
   ]
  },
  {
   "cell_type": "code",
   "execution_count": 34,
   "metadata": {},
   "outputs": [
    {
     "name": "stderr",
     "output_type": "stream",
     "text": [
      "C:\\Users\\Think 13\\AppData\\Local\\Temp\\ipykernel_10560\\3911676406.py:1: UserWarning: pandas only supports SQLAlchemy connectable (engine/connection) or database string URI or sqlite3 DBAPI2 connection. Other DBAPI2 objects are not tested. Please consider using SQLAlchemy.\n",
      "  leftJoined= psql.read_sql(\"\"\"SELECT *  FROM customer\n"
     ]
    },
    {
     "data": {
      "text/html": [
       "<div>\n",
       "<style scoped>\n",
       "    .dataframe tbody tr th:only-of-type {\n",
       "        vertical-align: middle;\n",
       "    }\n",
       "\n",
       "    .dataframe tbody tr th {\n",
       "        vertical-align: top;\n",
       "    }\n",
       "\n",
       "    .dataframe thead th {\n",
       "        text-align: right;\n",
       "    }\n",
       "</style>\n",
       "<table border=\"1\" class=\"dataframe\">\n",
       "  <thead>\n",
       "    <tr style=\"text-align: right;\">\n",
       "      <th></th>\n",
       "      <th>id</th>\n",
       "      <th>name</th>\n",
       "      <th>country</th>\n",
       "      <th>email</th>\n",
       "      <th>id</th>\n",
       "      <th>customer_id</th>\n",
       "      <th>product</th>\n",
       "    </tr>\n",
       "  </thead>\n",
       "  <tbody>\n",
       "    <tr>\n",
       "      <th>0</th>\n",
       "      <td>1</td>\n",
       "      <td>Mohamed Ragab</td>\n",
       "      <td>Egypt</td>\n",
       "      <td>mohamed.ragb@ut.ee</td>\n",
       "      <td>4.0</td>\n",
       "      <td>1.0</td>\n",
       "      <td>Cumin - Whole</td>\n",
       "    </tr>\n",
       "    <tr>\n",
       "      <th>1</th>\n",
       "      <td>1</td>\n",
       "      <td>Mohamed Ragab</td>\n",
       "      <td>Egypt</td>\n",
       "      <td>mohamed.ragb@ut.ee</td>\n",
       "      <td>2.0</td>\n",
       "      <td>1.0</td>\n",
       "      <td>Sauce - Demi Glace</td>\n",
       "    </tr>\n",
       "    <tr>\n",
       "      <th>2</th>\n",
       "      <td>1</td>\n",
       "      <td>Mohamed Ragab</td>\n",
       "      <td>Egypt</td>\n",
       "      <td>mohamed.ragb@ut.ee</td>\n",
       "      <td>1.0</td>\n",
       "      <td>1.0</td>\n",
       "      <td>Coffee - Irish Cream</td>\n",
       "    </tr>\n",
       "    <tr>\n",
       "      <th>3</th>\n",
       "      <td>2</td>\n",
       "      <td>John Smith</td>\n",
       "      <td>Finland</td>\n",
       "      <td>j.smith@hotmail.com</td>\n",
       "      <td>3.0</td>\n",
       "      <td>2.0</td>\n",
       "      <td>Corn Meal</td>\n",
       "    </tr>\n",
       "    <tr>\n",
       "      <th>4</th>\n",
       "      <td>4</td>\n",
       "      <td>Jean Lime</td>\n",
       "      <td>Canda</td>\n",
       "      <td>jeanlime@gmail.com</td>\n",
       "      <td>6.0</td>\n",
       "      <td>4.0</td>\n",
       "      <td>Rolled Oats</td>\n",
       "    </tr>\n",
       "    <tr>\n",
       "      <th>5</th>\n",
       "      <td>5</td>\n",
       "      <td>Hassan Eldeeb</td>\n",
       "      <td>Egypt</td>\n",
       "      <td>None</td>\n",
       "      <td>NaN</td>\n",
       "      <td>NaN</td>\n",
       "      <td>None</td>\n",
       "    </tr>\n",
       "    <tr>\n",
       "      <th>6</th>\n",
       "      <td>3</td>\n",
       "      <td>Aisha Kareem</td>\n",
       "      <td>India</td>\n",
       "      <td>None</td>\n",
       "      <td>5.0</td>\n",
       "      <td>3.0</td>\n",
       "      <td>Chocolate - Sugar Free Semi Choc</td>\n",
       "    </tr>\n",
       "  </tbody>\n",
       "</table>\n",
       "</div>"
      ],
      "text/plain": [
       "   id           name  country                email   id  customer_id  \\\n",
       "0   1  Mohamed Ragab    Egypt   mohamed.ragb@ut.ee  4.0          1.0   \n",
       "1   1  Mohamed Ragab    Egypt   mohamed.ragb@ut.ee  2.0          1.0   \n",
       "2   1  Mohamed Ragab    Egypt   mohamed.ragb@ut.ee  1.0          1.0   \n",
       "3   2     John Smith  Finland  j.smith@hotmail.com  3.0          2.0   \n",
       "4   4      Jean Lime    Canda   jeanlime@gmail.com  6.0          4.0   \n",
       "5   5  Hassan Eldeeb    Egypt                 None  NaN          NaN   \n",
       "6   3   Aisha Kareem    India                 None  5.0          3.0   \n",
       "\n",
       "                            product  \n",
       "0                     Cumin - Whole  \n",
       "1                Sauce - Demi Glace  \n",
       "2              Coffee - Irish Cream  \n",
       "3                         Corn Meal  \n",
       "4                       Rolled Oats  \n",
       "5                              None  \n",
       "6  Chocolate - Sugar Free Semi Choc  "
      ]
     },
     "metadata": {},
     "output_type": "display_data"
    }
   ],
   "source": [
    "leftJoined= psql.read_sql(\"\"\"SELECT *  FROM customer \n",
    "                        LEFT JOIN  \"order\" \n",
    "                        ON customer.id = \"order\".customer_id\n",
    "                        ORDER BY name DESC\n",
    "                      \"\"\", con)\n",
    "display(leftJoined)"
   ]
  },
  {
   "cell_type": "markdown",
   "metadata": {},
   "source": [
    "#### perform the same query but projecting on customer_name and the products "
   ]
  },
  {
   "cell_type": "code",
   "execution_count": 35,
   "metadata": {},
   "outputs": [
    {
     "name": "stderr",
     "output_type": "stream",
     "text": [
      "C:\\Users\\Think 13\\AppData\\Local\\Temp\\ipykernel_10560\\3216013988.py:2: UserWarning: pandas only supports SQLAlchemy connectable (engine/connection) or database string URI or sqlite3 DBAPI2 connection. Other DBAPI2 objects are not tested. Please consider using SQLAlchemy.\n",
      "  leftJoined= psql.read_sql(\"\"\"SELECT name, product FROM customer\n"
     ]
    },
    {
     "data": {
      "text/html": [
       "<div>\n",
       "<style scoped>\n",
       "    .dataframe tbody tr th:only-of-type {\n",
       "        vertical-align: middle;\n",
       "    }\n",
       "\n",
       "    .dataframe tbody tr th {\n",
       "        vertical-align: top;\n",
       "    }\n",
       "\n",
       "    .dataframe thead th {\n",
       "        text-align: right;\n",
       "    }\n",
       "</style>\n",
       "<table border=\"1\" class=\"dataframe\">\n",
       "  <thead>\n",
       "    <tr style=\"text-align: right;\">\n",
       "      <th></th>\n",
       "      <th>name</th>\n",
       "      <th>product</th>\n",
       "    </tr>\n",
       "  </thead>\n",
       "  <tbody>\n",
       "    <tr>\n",
       "      <th>0</th>\n",
       "      <td>Mohamed Ragab</td>\n",
       "      <td>Cumin - Whole</td>\n",
       "    </tr>\n",
       "    <tr>\n",
       "      <th>1</th>\n",
       "      <td>Mohamed Ragab</td>\n",
       "      <td>Sauce - Demi Glace</td>\n",
       "    </tr>\n",
       "    <tr>\n",
       "      <th>2</th>\n",
       "      <td>Mohamed Ragab</td>\n",
       "      <td>Coffee - Irish Cream</td>\n",
       "    </tr>\n",
       "    <tr>\n",
       "      <th>3</th>\n",
       "      <td>John Smith</td>\n",
       "      <td>Corn Meal</td>\n",
       "    </tr>\n",
       "    <tr>\n",
       "      <th>4</th>\n",
       "      <td>Jean Lime</td>\n",
       "      <td>Rolled Oats</td>\n",
       "    </tr>\n",
       "    <tr>\n",
       "      <th>5</th>\n",
       "      <td>Hassan Eldeeb</td>\n",
       "      <td>None</td>\n",
       "    </tr>\n",
       "    <tr>\n",
       "      <th>6</th>\n",
       "      <td>Aisha Kareem</td>\n",
       "      <td>Chocolate - Sugar Free Semi Choc</td>\n",
       "    </tr>\n",
       "  </tbody>\n",
       "</table>\n",
       "</div>"
      ],
      "text/plain": [
       "            name                           product\n",
       "0  Mohamed Ragab                     Cumin - Whole\n",
       "1  Mohamed Ragab                Sauce - Demi Glace\n",
       "2  Mohamed Ragab              Coffee - Irish Cream\n",
       "3     John Smith                         Corn Meal\n",
       "4      Jean Lime                       Rolled Oats\n",
       "5  Hassan Eldeeb                              None\n",
       "6   Aisha Kareem  Chocolate - Sugar Free Semi Choc"
      ]
     },
     "metadata": {},
     "output_type": "display_data"
    }
   ],
   "source": [
    "#the same query but projecting on customer_name  and the products \n",
    "leftJoined= psql.read_sql(\"\"\"SELECT name, product FROM customer \n",
    "                        LEFT JOIN  \"order\" \n",
    "                        ON customer.id = \"order\".customer_id\n",
    "                        ORDER BY name DESC\n",
    "                      \"\"\", con)\n",
    "display(leftJoined)"
   ]
  },
  {
   "cell_type": "markdown",
   "metadata": {},
   "source": [
    "### RIGHT JOIN\n",
    "- Opposite to LEFT JOIN\n",
    "- This selects all the rows from the table on the right, and then rows from the left if they match.\n",
    "- If they don’t match, the data for the table on the left is blank (NULLS).\n"
   ]
  },
  {
   "cell_type": "markdown",
   "metadata": {},
   "source": [
    "##### Now, we insert one product that doen't have customer to buy (don't make alot of sense, but just for the example!!)"
   ]
  },
  {
   "cell_type": "code",
   "execution_count": 36,
   "metadata": {},
   "outputs": [
    {
     "name": "stdout",
     "output_type": "stream",
     "text": [
      "1 Record inserted successfully into person table\n"
     ]
    }
   ],
   "source": [
    "postgres_insert_query = \"\"\" INSERT INTO \"order\" (id,customer_id,product) VALUES (%s,%s,%s)\"\"\"\n",
    "record_to_insert = (7,None,'Dark Choclate')\n",
    "\n",
    "try:\n",
    "    cursor.execute(postgres_insert_query, record_to_insert)\n",
    "    con.commit()\n",
    "except (Exception, psycopg2.Error) as error :\n",
    "    con.rollback()\n",
    "    print(\"ERROR\",error)\n",
    "    \n",
    "count = cursor.rowcount\n",
    "print (count, \"Record inserted successfully into person table\")"
   ]
  },
  {
   "cell_type": "markdown",
   "metadata": {},
   "source": [
    "#### Perform the same query but projecting on customer_name and the products "
   ]
  },
  {
   "cell_type": "code",
   "execution_count": 37,
   "metadata": {},
   "outputs": [
    {
     "name": "stderr",
     "output_type": "stream",
     "text": [
      "C:\\Users\\Think 13\\AppData\\Local\\Temp\\ipykernel_10560\\809818566.py:1: UserWarning: pandas only supports SQLAlchemy connectable (engine/connection) or database string URI or sqlite3 DBAPI2 connection. Other DBAPI2 objects are not tested. Please consider using SQLAlchemy.\n",
      "  RightJoined= psql.read_sql(\"\"\"SELECT name, product FROM customer\n"
     ]
    },
    {
     "data": {
      "text/html": [
       "<div>\n",
       "<style scoped>\n",
       "    .dataframe tbody tr th:only-of-type {\n",
       "        vertical-align: middle;\n",
       "    }\n",
       "\n",
       "    .dataframe tbody tr th {\n",
       "        vertical-align: top;\n",
       "    }\n",
       "\n",
       "    .dataframe thead th {\n",
       "        text-align: right;\n",
       "    }\n",
       "</style>\n",
       "<table border=\"1\" class=\"dataframe\">\n",
       "  <thead>\n",
       "    <tr style=\"text-align: right;\">\n",
       "      <th></th>\n",
       "      <th>name</th>\n",
       "      <th>product</th>\n",
       "    </tr>\n",
       "  </thead>\n",
       "  <tbody>\n",
       "    <tr>\n",
       "      <th>0</th>\n",
       "      <td>None</td>\n",
       "      <td>Dark Choclate</td>\n",
       "    </tr>\n",
       "    <tr>\n",
       "      <th>1</th>\n",
       "      <td>Mohamed Ragab</td>\n",
       "      <td>Sauce - Demi Glace</td>\n",
       "    </tr>\n",
       "    <tr>\n",
       "      <th>2</th>\n",
       "      <td>Mohamed Ragab</td>\n",
       "      <td>Coffee - Irish Cream</td>\n",
       "    </tr>\n",
       "    <tr>\n",
       "      <th>3</th>\n",
       "      <td>Mohamed Ragab</td>\n",
       "      <td>Cumin - Whole</td>\n",
       "    </tr>\n",
       "    <tr>\n",
       "      <th>4</th>\n",
       "      <td>John Smith</td>\n",
       "      <td>Corn Meal</td>\n",
       "    </tr>\n",
       "    <tr>\n",
       "      <th>5</th>\n",
       "      <td>Jean Lime</td>\n",
       "      <td>Rolled Oats</td>\n",
       "    </tr>\n",
       "    <tr>\n",
       "      <th>6</th>\n",
       "      <td>Aisha Kareem</td>\n",
       "      <td>Chocolate - Sugar Free Semi Choc</td>\n",
       "    </tr>\n",
       "  </tbody>\n",
       "</table>\n",
       "</div>"
      ],
      "text/plain": [
       "            name                           product\n",
       "0           None                     Dark Choclate\n",
       "1  Mohamed Ragab                Sauce - Demi Glace\n",
       "2  Mohamed Ragab              Coffee - Irish Cream\n",
       "3  Mohamed Ragab                     Cumin - Whole\n",
       "4     John Smith                         Corn Meal\n",
       "5      Jean Lime                       Rolled Oats\n",
       "6   Aisha Kareem  Chocolate - Sugar Free Semi Choc"
      ]
     },
     "metadata": {},
     "output_type": "display_data"
    }
   ],
   "source": [
    "RightJoined= psql.read_sql(\"\"\"SELECT name, product FROM customer \n",
    "                        RIGHT JOIN  \"order\" \n",
    "                        ON customer.id = \"order\".customer_id\n",
    "                        ORDER BY name DESC\n",
    "                      \"\"\", con)\n",
    "display(RightJoined)"
   ]
  },
  {
   "cell_type": "markdown",
   "metadata": {},
   "source": [
    "### FULL JOIN\n",
    "- This selects all rows from both tables, matching them if there is a match on the selecting column.\n",
    "\n",
    "- Think of it as a LEFT and a RIGHT join.\n"
   ]
  },
  {
   "cell_type": "code",
   "execution_count": 38,
   "metadata": {},
   "outputs": [
    {
     "name": "stderr",
     "output_type": "stream",
     "text": [
      "C:\\Users\\Think 13\\AppData\\Local\\Temp\\ipykernel_10560\\1199576038.py:1: UserWarning: pandas only supports SQLAlchemy connectable (engine/connection) or database string URI or sqlite3 DBAPI2 connection. Other DBAPI2 objects are not tested. Please consider using SQLAlchemy.\n",
      "  fullJoined= psql.read_sql(\"\"\"SELECT name, product FROM customer\n"
     ]
    },
    {
     "data": {
      "text/html": [
       "<div>\n",
       "<style scoped>\n",
       "    .dataframe tbody tr th:only-of-type {\n",
       "        vertical-align: middle;\n",
       "    }\n",
       "\n",
       "    .dataframe tbody tr th {\n",
       "        vertical-align: top;\n",
       "    }\n",
       "\n",
       "    .dataframe thead th {\n",
       "        text-align: right;\n",
       "    }\n",
       "</style>\n",
       "<table border=\"1\" class=\"dataframe\">\n",
       "  <thead>\n",
       "    <tr style=\"text-align: right;\">\n",
       "      <th></th>\n",
       "      <th>name</th>\n",
       "      <th>product</th>\n",
       "    </tr>\n",
       "  </thead>\n",
       "  <tbody>\n",
       "    <tr>\n",
       "      <th>0</th>\n",
       "      <td>None</td>\n",
       "      <td>Dark Choclate</td>\n",
       "    </tr>\n",
       "    <tr>\n",
       "      <th>1</th>\n",
       "      <td>Mohamed Ragab</td>\n",
       "      <td>Sauce - Demi Glace</td>\n",
       "    </tr>\n",
       "    <tr>\n",
       "      <th>2</th>\n",
       "      <td>Mohamed Ragab</td>\n",
       "      <td>Cumin - Whole</td>\n",
       "    </tr>\n",
       "    <tr>\n",
       "      <th>3</th>\n",
       "      <td>Mohamed Ragab</td>\n",
       "      <td>Coffee - Irish Cream</td>\n",
       "    </tr>\n",
       "    <tr>\n",
       "      <th>4</th>\n",
       "      <td>John Smith</td>\n",
       "      <td>Corn Meal</td>\n",
       "    </tr>\n",
       "    <tr>\n",
       "      <th>5</th>\n",
       "      <td>Jean Lime</td>\n",
       "      <td>Rolled Oats</td>\n",
       "    </tr>\n",
       "    <tr>\n",
       "      <th>6</th>\n",
       "      <td>Hassan Eldeeb</td>\n",
       "      <td>None</td>\n",
       "    </tr>\n",
       "    <tr>\n",
       "      <th>7</th>\n",
       "      <td>Aisha Kareem</td>\n",
       "      <td>Chocolate - Sugar Free Semi Choc</td>\n",
       "    </tr>\n",
       "  </tbody>\n",
       "</table>\n",
       "</div>"
      ],
      "text/plain": [
       "            name                           product\n",
       "0           None                     Dark Choclate\n",
       "1  Mohamed Ragab                Sauce - Demi Glace\n",
       "2  Mohamed Ragab                     Cumin - Whole\n",
       "3  Mohamed Ragab              Coffee - Irish Cream\n",
       "4     John Smith                         Corn Meal\n",
       "5      Jean Lime                       Rolled Oats\n",
       "6  Hassan Eldeeb                              None\n",
       "7   Aisha Kareem  Chocolate - Sugar Free Semi Choc"
      ]
     },
     "metadata": {},
     "output_type": "display_data"
    }
   ],
   "source": [
    "fullJoined= psql.read_sql(\"\"\"SELECT name, product FROM customer \n",
    "                             FULL JOIN  \"order\" \n",
    "                             ON customer.id = \"order\".customer_id\n",
    "                             ORDER BY name DESC \"\"\", con)\n",
    "display(fullJoined)"
   ]
  },
  {
   "cell_type": "markdown",
   "metadata": {},
   "source": [
    "## Task 2: Create another RDB model (MovieDB)\n",
    "\n",
    "This is another DB about movies and actors who played roles in these movies. Particularly, this DB is consisted of the following tables:  \n",
    "\n",
    "- A ***\"Person\"*** table who has a unique **id**, and another **name** field.\n",
    "- Another ***\"Movie\"*** table that has a unique **id**, a **title**, a **country** where it was made, and a **year** when it was released.\n",
    "\n",
    "- There is (***m-n**) or ***\"many-many\"** relationship between these two tables (i.e basically, many actors can act in many movies, and the movie include many actors).\n",
    "- ***Many-to-many*** are handeled as follows: We have to use a ***junction table** (<font color='green'>example</font>: https://gist.github.com/anonymous/79c2eed2a634777b16ff)\n",
    "- Therefore, we use the **\"Roles\"** table in which we can deduct which person has acted in which movie, and what role(s) they played in this movie.\n"
   ]
  },
  {
   "cell_type": "markdown",
   "metadata": {},
   "source": [
    "#### Use one of the drawing tools to plot an ER model of this described DB\n",
    "- you can use the mentioned ER diagramitic tool in lecture slides (link: https://erdplus.com/)"
   ]
  },
  {
   "attachments": {
    "image.png": {
     "image/png": "[encoded data removed]"
    }
   },
   "cell_type": "markdown",
   "metadata": {},
   "source": [
    "##### <font color='red'>YOUR DB SCHEMA IMAGE HERE: </font>\n",
    "![image.png](attachment:image.png)"
   ]
  },
  {
   "cell_type": "markdown",
   "metadata": {},
   "source": [
    "#### Create the MovieDB "
   ]
  },
  {
   "cell_type": "code",
   "execution_count": 39,
   "metadata": {},
   "outputs": [
    {
     "name": "stdout",
     "output_type": "stream",
     "text": [
      "connected again to the server\n"
     ]
    }
   ],
   "source": [
    "from psycopg2 import extensions\n",
    "\n",
    "auto_commit = extensions.ISOLATION_LEVEL_AUTOCOMMIT\n",
    "\n",
    "con = psycopg2.connect(\n",
    "    user = \"nam\",\n",
    "    password = \"123\",\n",
    "    host = \"127.0.0.1\",\n",
    "    port = \"5432\",\n",
    "    database = \"postgres\"\n",
    ")\n",
    "\n",
    "con.set_isolation_level(auto_commit)\n",
    "\n",
    "try:\n",
    "    cursor = con.cursor()\n",
    "    print(\"connected again to the server\")\n",
    "except (Exception, psycopg2.Error) as error:\n",
    "    print(\"Error in Connection\",error)"
   ]
  },
  {
   "cell_type": "code",
   "execution_count": 40,
   "metadata": {},
   "outputs": [
    {
     "name": "stdout",
     "output_type": "stream",
     "text": [
      "Database 'movie' Created Successfully!\n"
     ]
    }
   ],
   "source": [
    "#YOUR CODE HERE to create the movie DB\n",
    "#DB_name variable    \n",
    "name_Database = \"movie\"\n",
    "\n",
    "# Create DB statement\n",
    "sqlCreateDatabase = \"CREATE DATABASE \" + name_Database + \";\"\n",
    "\n",
    "try:\n",
    "    # Execute a SQL command: this creates a new DB\n",
    "    cursor.execute(sqlCreateDatabase)\n",
    "    print(\"Database '\" + name_Database + \"' Created Successfully!\")\n",
    "except (Exception, psycopg2.Error) as error :\n",
    "    print(\"Error While Creating the DB: \", error)\n",
    "    \n",
    "finally:\n",
    "    # Close communication with the database\n",
    "    cursor.close() #to close the cusrsor\n",
    "    con.close() #to close the connection/ we will open a new connection to the created DB"
   ]
  },
  {
   "cell_type": "code",
   "execution_count": 41,
   "metadata": {},
   "outputs": [
    {
     "name": "stdout",
     "output_type": "stream",
     "text": [
      "connected again to the server, and cusor now on movie DB !!\n"
     ]
    }
   ],
   "source": [
    "# get a new connection but this time point to the created \"movie\" DB.\n",
    "con = psycopg2.connect(\n",
    "    user = \"nam\",\n",
    "    password = \"123\",\n",
    "    host = \"127.0.0.1\",\n",
    "    port = \"5432\",\n",
    "    database = \"movie\"\n",
    ")\n",
    "\n",
    "try:\n",
    "    # Obtain a new DB Cursor (to \"movie\" DB )\n",
    "    cursor = con.cursor()\n",
    "    print(\"connected again to the server, and cusor now on movie DB !!\")\n",
    "except (Exception, psycopg2.Error) as error:\n",
    "    print(\"Error in Connection\",error)"
   ]
  },
  {
   "cell_type": "markdown",
   "metadata": {},
   "source": [
    "#### Creating  the Movie Table"
   ]
  },
  {
   "cell_type": "code",
   "execution_count": 42,
   "metadata": {},
   "outputs": [
    {
     "name": "stdout",
     "output_type": "stream",
     "text": [
      "Table (movie) created successfully in PostgreSQL \n"
     ]
    }
   ],
   "source": [
    "#YOUR CODE HERE to create the \"Movie\" table\n",
    "\n",
    "try:\n",
    "    #table_name variable\n",
    "    movieTable=\"movie\"\n",
    "    create_movieTable_query = '''CREATE TABLE '''+ movieTable+''' \n",
    "              (id INT  PRIMARY KEY     NOT NULL,\n",
    "               title           TEXT    NOT NULL,\n",
    "               country        TEXT,\n",
    "               year          INT  \n",
    "               ); '''\n",
    "\n",
    "    #Execute this command (SQL Query)\n",
    "    cursor.execute(create_movieTable_query)\n",
    "    \n",
    "    # Make the changes to the database persistent\n",
    "    con.commit()\n",
    "    print(\"Table (\"+ movieTable +\") created successfully in PostgreSQL \")\n",
    "except (Exception, psycopg2.Error) as error:\n",
    "    # if it exits with an exception the transaction is rolled back.\n",
    "    con.rollback()\n",
    "    print(\"Error While Creating the DB: \",error)"
   ]
  },
  {
   "cell_type": "markdown",
   "metadata": {},
   "source": [
    "#### Creating  the \"Person\" Table"
   ]
  },
  {
   "cell_type": "code",
   "execution_count": 43,
   "metadata": {},
   "outputs": [
    {
     "name": "stdout",
     "output_type": "stream",
     "text": [
      "Table (person) created successfully in PostgreSQL \n"
     ]
    }
   ],
   "source": [
    "#YOUR CODE HERE to create the Person table\n",
    "\n",
    "try:\n",
    "    #table_name variable\n",
    "    personTable=\"person\"\n",
    "    create_prersonTable_query = '''CREATE TABLE '''+ personTable+''' \n",
    "              (id   INT     PRIMARY KEY NOT NULL,\n",
    "               name TEXT                NOT NULL\n",
    "               ); '''\n",
    "\n",
    "    #Execute this command (SQL Query)\n",
    "    cursor.execute(create_prersonTable_query)\n",
    "    \n",
    "    # Make the changes to the database persistent\n",
    "    con.commit()\n",
    "    print(\"Table (\"+ personTable +\") created successfully in PostgreSQL \")\n",
    "except (Exception, psycopg2.Error) as error:\n",
    "    # if it exits with an exception the transaction is rolled back.\n",
    "    con.rollback()\n",
    "    print(\"Error While Creating the DB: \",error)"
   ]
  },
  {
   "cell_type": "markdown",
   "metadata": {},
   "source": [
    "#### Creating  the \"Roles\" relationship Table"
   ]
  },
  {
   "cell_type": "code",
   "execution_count": 44,
   "metadata": {},
   "outputs": [
    {
     "name": "stdout",
     "output_type": "stream",
     "text": [
      "Table (roles) created successfully in PostgreSQL\n"
     ]
    }
   ],
   "source": [
    "#YOUR CODE HERE to create the Roles relationship table\n",
    "try:\n",
    "    #table_name variable\n",
    "    roleTable=\"roles\"\n",
    "    create_roleTable_query = '''CREATE TABLE '''+ roleTable+''' \n",
    "              (person_id   INT  REFERENCES person(id)    NOT NULL,\n",
    "            movie_id       INT  REFERENCES movie(id)  NOT NULL,\n",
    "            role           TEXT    NOT NULL,\n",
    "            PRIMARY KEY (person_id, movie_id)\n",
    "            ); '''\n",
    "\n",
    "    #Execute this command (SQL Query)\n",
    "    cursor.execute(create_roleTable_query)\n",
    "    \n",
    "    # Make the changes to the database persistent\n",
    "    con.commit()\n",
    "    print(\"Table (\"+ roleTable +\") created successfully in PostgreSQL\")\n",
    "except (Exception, psycopg2.Error) as error:\n",
    "    # if it exits with an exception the transaction is rolled back.\n",
    "    con.rollback()\n",
    "    print(\"Error While Creating the DB: \",error)"
   ]
  },
  {
   "attachments": {},
   "cell_type": "markdown",
   "metadata": {},
   "source": [
    "### Data Insertions\n",
    "\n",
    "Please, use the following demo datasets for allocating some data in the tables\n",
    "\n",
    "- **Person Table**:\\\n",
    "        id,name\\\n",
    "        1,Charlie Sheen\\\n",
    "        2,Michael Douglas\\\n",
    "        3,Martin Sheen\\\n",
    "        4,Morgan Freeman\n",
    "\n",
    "- ***Movie Table***:\\\n",
    "        id,title,country,year\\\n",
    "        1,Wall Street,USA,1987\\\n",
    "        2,The American President,USA,1995\\\n",
    "        3,The Shawshank Redemption,USA,1994\n",
    "\n",
    "- ***Roles Relationship*** (<font color='green'>Conjunction Table</font>):\\\n",
    "        personId,movieId,role\\\n",
    "        1,1,Bud Fox\\\n",
    "        2,1,Carl Fox\\\n",
    "        3,1,Gordon Gekko\\\n",
    "        2,2,A.J. MacInerney\\\n",
    "        3,2,President Andrew Shepherd\\\n",
    "        4,3,Ellis Boyd 'Red' Redding"
   ]
  },
  {
   "cell_type": "markdown",
   "metadata": {},
   "source": [
    "#### Insert Data to the Person Table"
   ]
  },
  {
   "cell_type": "code",
   "execution_count": 45,
   "metadata": {},
   "outputs": [
    {
     "name": "stdout",
     "output_type": "stream",
     "text": [
      "4 Record inserted successfully into person table\n"
     ]
    }
   ],
   "source": [
    "### YOUR CODE HERE!!\n",
    "sql_insert_persons = \"INSERT INTO person (id,name) VALUES(%s,%s)\"\n",
    "\n",
    "#list of customers (With Their attributes values)\n",
    "#None here means value will be missing in the table\n",
    "person_List=[\n",
    "    (1,'Charlie Sheen'),\n",
    "    (2,'Michael Douglas'),\n",
    "    (3,'Martin Sheen'),\n",
    "    (4,'Morgan Freeman'),\n",
    "]\n",
    "\n",
    "try:\n",
    "    # execute the INSERT statement\n",
    "    cursor.executemany(sql_insert_persons,person_List)\n",
    "    # commit the changes to the database\n",
    "    con.commit()\n",
    "    #the number of inserted rows/tuples\n",
    "    count = cursor.rowcount\n",
    "    print (count, \"Record inserted successfully into person table\")\n",
    "\n",
    "except (Exception, psycopg2.Error) as error :\n",
    "    con.rollback()\n",
    "    print (\"Error while Inserting the data to the table, Details: \",error)"
   ]
  },
  {
   "cell_type": "markdown",
   "metadata": {},
   "source": [
    "#### Insert Data to the Movie Table"
   ]
  },
  {
   "cell_type": "code",
   "execution_count": 46,
   "metadata": {},
   "outputs": [
    {
     "name": "stdout",
     "output_type": "stream",
     "text": [
      "3 Record inserted successfully into movie table\n"
     ]
    }
   ],
   "source": [
    "### YOUR CODE HERE!!\n",
    "sql_insert_movies = \"INSERT INTO movie (id,title,country,year) VALUES(%s,%s,%s,%s)\"\n",
    "\n",
    "#list of customers (With Their attributes values)\n",
    "#None here means value will be missing in the table\n",
    "movie_list=[\n",
    "    (1,'Wall Street','USA',1987),\n",
    "    (2,'The American President','USA',1995),\n",
    "    (3,'The Shawshank Redemption','USA',1994),\n",
    "]\n",
    "\n",
    "try:\n",
    "    # execute the INSERT statement\n",
    "    cursor.executemany(sql_insert_movies,movie_list)\n",
    "    # commit the changes to the database\n",
    "    con.commit()\n",
    "    #the number of inserted rows/tuples\n",
    "    count = cursor.rowcount\n",
    "    print (count, \"Record inserted successfully into movie table\")\n",
    "\n",
    "except (Exception, psycopg2.Error) as error :\n",
    "    con.rollback()\n",
    "    print (\"Error while Inserting the data to the table, Details: \",error)"
   ]
  },
  {
   "cell_type": "markdown",
   "metadata": {},
   "source": [
    "#### Insert Data to the Roles Table"
   ]
  },
  {
   "cell_type": "code",
   "execution_count": 47,
   "metadata": {},
   "outputs": [
    {
     "name": "stdout",
     "output_type": "stream",
     "text": [
      "6 Record inserted successfully into roles table\n"
     ]
    }
   ],
   "source": [
    "### YOUR CODE HERE!!\n",
    "sql_insert_roles = \"INSERT INTO roles (person_id,movie_id,role) VALUES(%s,%s,%s)\"\n",
    "\n",
    "#list of customers (With Their attributes values)\n",
    "#None here means value will be missing in the table\n",
    "role_list=[\n",
    "    (1,1,'Bud Fox'),\n",
    "    (2,1,'Carl Fox'),\n",
    "    (3,1,'Gordon Gekko'),\n",
    "    (2,2,'A.J. MacInerney'),\n",
    "    (3,2,'President Andrew Shepherd'),\n",
    "    (4,3,'Ellis Boyd \"Red\" Redding'),\n",
    "]\n",
    "\n",
    "try:\n",
    "    # execute the INSERT statement\n",
    "    cursor.executemany(sql_insert_roles,role_list)\n",
    "    # commit the changes to the database\n",
    "    con.commit()\n",
    "    #the number of inserted rows/tuples\n",
    "    count = cursor.rowcount\n",
    "    print (count, \"Record inserted successfully into roles table\")\n",
    "\n",
    "except (Exception, psycopg2.Error) as error :\n",
    "    con.rollback()\n",
    "    print (\"Error while Inserting the data to the table, Details: \",error)"
   ]
  },
  {
   "cell_type": "markdown",
   "metadata": {},
   "source": [
    "#### Get all Actors (Persons) from the movie DB"
   ]
  },
  {
   "cell_type": "code",
   "execution_count": 48,
   "metadata": {},
   "outputs": [
    {
     "name": "stderr",
     "output_type": "stream",
     "text": [
      "C:\\Users\\Think 13\\AppData\\Local\\Temp\\ipykernel_10560\\2065627671.py:1: UserWarning: pandas only supports SQLAlchemy connectable (engine/connection) or database string URI or sqlite3 DBAPI2 connection. Other DBAPI2 objects are not tested. Please consider using SQLAlchemy.\n",
      "  my_table= pd.read_sql(\" SELECT * FROM person \", con)\n",
      "C:\\Users\\Think 13\\AppData\\Local\\Temp\\ipykernel_10560\\2065627671.py:2: FutureWarning: this method is deprecated in favour of `Styler.hide(axis=\"index\")`\n",
      "  display(my_table.style.hide_index())\n"
     ]
    },
    {
     "data": {
      "text/html": [
       "<style type=\"text/css\">\n",
       "</style>\n",
       "<table id=\"T_b574b\">\n",
       "  <thead>\n",
       "    <tr>\n",
       "      <th id=\"T_b574b_level0_col0\" class=\"col_heading level0 col0\" >id</th>\n",
       "      <th id=\"T_b574b_level0_col1\" class=\"col_heading level0 col1\" >name</th>\n",
       "    </tr>\n",
       "  </thead>\n",
       "  <tbody>\n",
       "    <tr>\n",
       "      <td id=\"T_b574b_row0_col0\" class=\"data row0 col0\" >1</td>\n",
       "      <td id=\"T_b574b_row0_col1\" class=\"data row0 col1\" >Charlie Sheen</td>\n",
       "    </tr>\n",
       "    <tr>\n",
       "      <td id=\"T_b574b_row1_col0\" class=\"data row1 col0\" >2</td>\n",
       "      <td id=\"T_b574b_row1_col1\" class=\"data row1 col1\" >Michael Douglas</td>\n",
       "    </tr>\n",
       "    <tr>\n",
       "      <td id=\"T_b574b_row2_col0\" class=\"data row2 col0\" >3</td>\n",
       "      <td id=\"T_b574b_row2_col1\" class=\"data row2 col1\" >Martin Sheen</td>\n",
       "    </tr>\n",
       "    <tr>\n",
       "      <td id=\"T_b574b_row3_col0\" class=\"data row3 col0\" >4</td>\n",
       "      <td id=\"T_b574b_row3_col1\" class=\"data row3 col1\" >Morgan Freeman</td>\n",
       "    </tr>\n",
       "  </tbody>\n",
       "</table>\n"
      ],
      "text/plain": [
       "<pandas.io.formats.style.Styler at 0x10a47821990>"
      ]
     },
     "metadata": {},
     "output_type": "display_data"
    }
   ],
   "source": [
    "my_table= pd.read_sql(\" SELECT * FROM person \", con)\n",
    "display(my_table.style.hide_index())"
   ]
  },
  {
   "cell_type": "markdown",
   "metadata": {},
   "source": [
    "#### Get All Movies , sorted from recent to old"
   ]
  },
  {
   "cell_type": "code",
   "execution_count": 49,
   "metadata": {},
   "outputs": [
    {
     "name": "stderr",
     "output_type": "stream",
     "text": [
      "C:\\Users\\Think 13\\AppData\\Local\\Temp\\ipykernel_10560\\2076936279.py:1: UserWarning: pandas only supports SQLAlchemy connectable (engine/connection) or database string URI or sqlite3 DBAPI2 connection. Other DBAPI2 objects are not tested. Please consider using SQLAlchemy.\n",
      "  moviesOrdered = pd.read_sql(\" SELECT * FROM movie ORDER BY year DESC \", con)\n",
      "C:\\Users\\Think 13\\AppData\\Local\\Temp\\ipykernel_10560\\2076936279.py:2: FutureWarning: this method is deprecated in favour of `Styler.hide(axis=\"index\")`\n",
      "  display(moviesOrdered.style.hide_index())\n"
     ]
    },
    {
     "data": {
      "text/html": [
       "<style type=\"text/css\">\n",
       "</style>\n",
       "<table id=\"T_e8a8c\">\n",
       "  <thead>\n",
       "    <tr>\n",
       "      <th id=\"T_e8a8c_level0_col0\" class=\"col_heading level0 col0\" >id</th>\n",
       "      <th id=\"T_e8a8c_level0_col1\" class=\"col_heading level0 col1\" >title</th>\n",
       "      <th id=\"T_e8a8c_level0_col2\" class=\"col_heading level0 col2\" >country</th>\n",
       "      <th id=\"T_e8a8c_level0_col3\" class=\"col_heading level0 col3\" >year</th>\n",
       "    </tr>\n",
       "  </thead>\n",
       "  <tbody>\n",
       "    <tr>\n",
       "      <td id=\"T_e8a8c_row0_col0\" class=\"data row0 col0\" >2</td>\n",
       "      <td id=\"T_e8a8c_row0_col1\" class=\"data row0 col1\" >The American President</td>\n",
       "      <td id=\"T_e8a8c_row0_col2\" class=\"data row0 col2\" >USA</td>\n",
       "      <td id=\"T_e8a8c_row0_col3\" class=\"data row0 col3\" >1995</td>\n",
       "    </tr>\n",
       "    <tr>\n",
       "      <td id=\"T_e8a8c_row1_col0\" class=\"data row1 col0\" >3</td>\n",
       "      <td id=\"T_e8a8c_row1_col1\" class=\"data row1 col1\" >The Shawshank Redemption</td>\n",
       "      <td id=\"T_e8a8c_row1_col2\" class=\"data row1 col2\" >USA</td>\n",
       "      <td id=\"T_e8a8c_row1_col3\" class=\"data row1 col3\" >1994</td>\n",
       "    </tr>\n",
       "    <tr>\n",
       "      <td id=\"T_e8a8c_row2_col0\" class=\"data row2 col0\" >1</td>\n",
       "      <td id=\"T_e8a8c_row2_col1\" class=\"data row2 col1\" >Wall Street</td>\n",
       "      <td id=\"T_e8a8c_row2_col2\" class=\"data row2 col2\" >USA</td>\n",
       "      <td id=\"T_e8a8c_row2_col3\" class=\"data row2 col3\" >1987</td>\n",
       "    </tr>\n",
       "  </tbody>\n",
       "</table>\n"
      ],
      "text/plain": [
       "<pandas.io.formats.style.Styler at 0x10a47654d50>"
      ]
     },
     "metadata": {},
     "output_type": "display_data"
    }
   ],
   "source": [
    "moviesOrdered = pd.read_sql(\" SELECT * FROM movie ORDER BY year DESC \", con)\n",
    "display(moviesOrdered.style.hide_index())"
   ]
  },
  {
   "cell_type": "markdown",
   "metadata": {},
   "source": [
    "#### Get All Movies released in the 90s (after year (1990) and before 2000) ordered from old to recent."
   ]
  },
  {
   "cell_type": "code",
   "execution_count": 50,
   "metadata": {},
   "outputs": [
    {
     "name": "stderr",
     "output_type": "stream",
     "text": [
      "C:\\Users\\Think 13\\AppData\\Local\\Temp\\ipykernel_10560\\471290835.py:1: UserWarning: pandas only supports SQLAlchemy connectable (engine/connection) or database string URI or sqlite3 DBAPI2 connection. Other DBAPI2 objects are not tested. Please consider using SQLAlchemy.\n",
      "  movies90 = pd.read_sql('''SELECT *\n",
      "C:\\Users\\Think 13\\AppData\\Local\\Temp\\ipykernel_10560\\471290835.py:6: FutureWarning: this method is deprecated in favour of `Styler.hide(axis=\"index\")`\n",
      "  display(movies90.style.hide_index())\n"
     ]
    },
    {
     "data": {
      "text/html": [
       "<style type=\"text/css\">\n",
       "</style>\n",
       "<table id=\"T_3c43b\">\n",
       "  <thead>\n",
       "    <tr>\n",
       "      <th id=\"T_3c43b_level0_col0\" class=\"col_heading level0 col0\" >id</th>\n",
       "      <th id=\"T_3c43b_level0_col1\" class=\"col_heading level0 col1\" >title</th>\n",
       "      <th id=\"T_3c43b_level0_col2\" class=\"col_heading level0 col2\" >country</th>\n",
       "      <th id=\"T_3c43b_level0_col3\" class=\"col_heading level0 col3\" >year</th>\n",
       "    </tr>\n",
       "  </thead>\n",
       "  <tbody>\n",
       "    <tr>\n",
       "      <td id=\"T_3c43b_row0_col0\" class=\"data row0 col0\" >2</td>\n",
       "      <td id=\"T_3c43b_row0_col1\" class=\"data row0 col1\" >The American President</td>\n",
       "      <td id=\"T_3c43b_row0_col2\" class=\"data row0 col2\" >USA</td>\n",
       "      <td id=\"T_3c43b_row0_col3\" class=\"data row0 col3\" >1995</td>\n",
       "    </tr>\n",
       "    <tr>\n",
       "      <td id=\"T_3c43b_row1_col0\" class=\"data row1 col0\" >3</td>\n",
       "      <td id=\"T_3c43b_row1_col1\" class=\"data row1 col1\" >The Shawshank Redemption</td>\n",
       "      <td id=\"T_3c43b_row1_col2\" class=\"data row1 col2\" >USA</td>\n",
       "      <td id=\"T_3c43b_row1_col3\" class=\"data row1 col3\" >1994</td>\n",
       "    </tr>\n",
       "  </tbody>\n",
       "</table>\n"
      ],
      "text/plain": [
       "<pandas.io.formats.style.Styler at 0x10a47821990>"
      ]
     },
     "metadata": {},
     "output_type": "display_data"
    }
   ],
   "source": [
    "movies90 = pd.read_sql('''SELECT *\n",
    "            FROM movie\n",
    "            WHERE year > 1990 and year < 2000\n",
    "            ORDER BY year DESC\n",
    "            ''', con)\n",
    "display(movies90.style.hide_index())"
   ]
  },
  {
   "cell_type": "markdown",
   "metadata": {},
   "source": [
    "#### Get Movies and Actors from your  \"movies\" DB"
   ]
  },
  {
   "cell_type": "code",
   "execution_count": 51,
   "metadata": {},
   "outputs": [
    {
     "name": "stderr",
     "output_type": "stream",
     "text": [
      "C:\\Users\\Think 13\\AppData\\Local\\Temp\\ipykernel_10560\\3701075964.py:1: UserWarning: pandas only supports SQLAlchemy connectable (engine/connection) or database string URI or sqlite3 DBAPI2 connection. Other DBAPI2 objects are not tested. Please consider using SQLAlchemy.\n",
      "  moviesActors = pd.read_sql('''SELECT *\n",
      "C:\\Users\\Think 13\\AppData\\Local\\Temp\\ipykernel_10560\\3701075964.py:6: FutureWarning: this method is deprecated in favour of `Styler.hide(axis=\"index\")`\n",
      "  display(moviesActors.style.hide_index())\n"
     ]
    },
    {
     "data": {
      "text/html": [
       "<style type=\"text/css\">\n",
       "</style>\n",
       "<table id=\"T_376cf\">\n",
       "  <thead>\n",
       "    <tr>\n",
       "      <th id=\"T_376cf_level0_col0\" class=\"col_heading level0 col0\" >id</th>\n",
       "      <th id=\"T_376cf_level0_col1\" class=\"col_heading level0 col1\" >title</th>\n",
       "      <th id=\"T_376cf_level0_col2\" class=\"col_heading level0 col2\" >country</th>\n",
       "      <th id=\"T_376cf_level0_col3\" class=\"col_heading level0 col3\" >year</th>\n",
       "      <th id=\"T_376cf_level0_col4\" class=\"col_heading level0 col4\" >id</th>\n",
       "      <th id=\"T_376cf_level0_col5\" class=\"col_heading level0 col5\" >name</th>\n",
       "      <th id=\"T_376cf_level0_col6\" class=\"col_heading level0 col6\" >person_id</th>\n",
       "      <th id=\"T_376cf_level0_col7\" class=\"col_heading level0 col7\" >movie_id</th>\n",
       "      <th id=\"T_376cf_level0_col8\" class=\"col_heading level0 col8\" >role</th>\n",
       "    </tr>\n",
       "  </thead>\n",
       "  <tbody>\n",
       "    <tr>\n",
       "      <td id=\"T_376cf_row0_col0\" class=\"data row0 col0\" >1</td>\n",
       "      <td id=\"T_376cf_row0_col1\" class=\"data row0 col1\" >Wall Street</td>\n",
       "      <td id=\"T_376cf_row0_col2\" class=\"data row0 col2\" >USA</td>\n",
       "      <td id=\"T_376cf_row0_col3\" class=\"data row0 col3\" >1987</td>\n",
       "      <td id=\"T_376cf_row0_col4\" class=\"data row0 col4\" >1</td>\n",
       "      <td id=\"T_376cf_row0_col5\" class=\"data row0 col5\" >Charlie Sheen</td>\n",
       "      <td id=\"T_376cf_row0_col6\" class=\"data row0 col6\" >1</td>\n",
       "      <td id=\"T_376cf_row0_col7\" class=\"data row0 col7\" >1</td>\n",
       "      <td id=\"T_376cf_row0_col8\" class=\"data row0 col8\" >Bud Fox</td>\n",
       "    </tr>\n",
       "    <tr>\n",
       "      <td id=\"T_376cf_row1_col0\" class=\"data row1 col0\" >1</td>\n",
       "      <td id=\"T_376cf_row1_col1\" class=\"data row1 col1\" >Wall Street</td>\n",
       "      <td id=\"T_376cf_row1_col2\" class=\"data row1 col2\" >USA</td>\n",
       "      <td id=\"T_376cf_row1_col3\" class=\"data row1 col3\" >1987</td>\n",
       "      <td id=\"T_376cf_row1_col4\" class=\"data row1 col4\" >2</td>\n",
       "      <td id=\"T_376cf_row1_col5\" class=\"data row1 col5\" >Michael Douglas</td>\n",
       "      <td id=\"T_376cf_row1_col6\" class=\"data row1 col6\" >2</td>\n",
       "      <td id=\"T_376cf_row1_col7\" class=\"data row1 col7\" >1</td>\n",
       "      <td id=\"T_376cf_row1_col8\" class=\"data row1 col8\" >Carl Fox</td>\n",
       "    </tr>\n",
       "    <tr>\n",
       "      <td id=\"T_376cf_row2_col0\" class=\"data row2 col0\" >1</td>\n",
       "      <td id=\"T_376cf_row2_col1\" class=\"data row2 col1\" >Wall Street</td>\n",
       "      <td id=\"T_376cf_row2_col2\" class=\"data row2 col2\" >USA</td>\n",
       "      <td id=\"T_376cf_row2_col3\" class=\"data row2 col3\" >1987</td>\n",
       "      <td id=\"T_376cf_row2_col4\" class=\"data row2 col4\" >3</td>\n",
       "      <td id=\"T_376cf_row2_col5\" class=\"data row2 col5\" >Martin Sheen</td>\n",
       "      <td id=\"T_376cf_row2_col6\" class=\"data row2 col6\" >3</td>\n",
       "      <td id=\"T_376cf_row2_col7\" class=\"data row2 col7\" >1</td>\n",
       "      <td id=\"T_376cf_row2_col8\" class=\"data row2 col8\" >Gordon Gekko</td>\n",
       "    </tr>\n",
       "    <tr>\n",
       "      <td id=\"T_376cf_row3_col0\" class=\"data row3 col0\" >2</td>\n",
       "      <td id=\"T_376cf_row3_col1\" class=\"data row3 col1\" >The American President</td>\n",
       "      <td id=\"T_376cf_row3_col2\" class=\"data row3 col2\" >USA</td>\n",
       "      <td id=\"T_376cf_row3_col3\" class=\"data row3 col3\" >1995</td>\n",
       "      <td id=\"T_376cf_row3_col4\" class=\"data row3 col4\" >2</td>\n",
       "      <td id=\"T_376cf_row3_col5\" class=\"data row3 col5\" >Michael Douglas</td>\n",
       "      <td id=\"T_376cf_row3_col6\" class=\"data row3 col6\" >2</td>\n",
       "      <td id=\"T_376cf_row3_col7\" class=\"data row3 col7\" >2</td>\n",
       "      <td id=\"T_376cf_row3_col8\" class=\"data row3 col8\" >A.J. MacInerney</td>\n",
       "    </tr>\n",
       "    <tr>\n",
       "      <td id=\"T_376cf_row4_col0\" class=\"data row4 col0\" >2</td>\n",
       "      <td id=\"T_376cf_row4_col1\" class=\"data row4 col1\" >The American President</td>\n",
       "      <td id=\"T_376cf_row4_col2\" class=\"data row4 col2\" >USA</td>\n",
       "      <td id=\"T_376cf_row4_col3\" class=\"data row4 col3\" >1995</td>\n",
       "      <td id=\"T_376cf_row4_col4\" class=\"data row4 col4\" >3</td>\n",
       "      <td id=\"T_376cf_row4_col5\" class=\"data row4 col5\" >Martin Sheen</td>\n",
       "      <td id=\"T_376cf_row4_col6\" class=\"data row4 col6\" >3</td>\n",
       "      <td id=\"T_376cf_row4_col7\" class=\"data row4 col7\" >2</td>\n",
       "      <td id=\"T_376cf_row4_col8\" class=\"data row4 col8\" >President Andrew Shepherd</td>\n",
       "    </tr>\n",
       "    <tr>\n",
       "      <td id=\"T_376cf_row5_col0\" class=\"data row5 col0\" >3</td>\n",
       "      <td id=\"T_376cf_row5_col1\" class=\"data row5 col1\" >The Shawshank Redemption</td>\n",
       "      <td id=\"T_376cf_row5_col2\" class=\"data row5 col2\" >USA</td>\n",
       "      <td id=\"T_376cf_row5_col3\" class=\"data row5 col3\" >1994</td>\n",
       "      <td id=\"T_376cf_row5_col4\" class=\"data row5 col4\" >4</td>\n",
       "      <td id=\"T_376cf_row5_col5\" class=\"data row5 col5\" >Morgan Freeman</td>\n",
       "      <td id=\"T_376cf_row5_col6\" class=\"data row5 col6\" >4</td>\n",
       "      <td id=\"T_376cf_row5_col7\" class=\"data row5 col7\" >3</td>\n",
       "      <td id=\"T_376cf_row5_col8\" class=\"data row5 col8\" >Ellis Boyd \"Red\" Redding</td>\n",
       "    </tr>\n",
       "  </tbody>\n",
       "</table>\n"
      ],
      "text/plain": [
       "<pandas.io.formats.style.Styler at 0x10a47639d90>"
      ]
     },
     "metadata": {},
     "output_type": "display_data"
    }
   ],
   "source": [
    "moviesActors = pd.read_sql('''SELECT *\n",
    "            FROM movie, person, roles\n",
    "            WHERE movie.id = roles.movie_id AND person.id = roles.person_id\n",
    "            ''', con)\n",
    "\n",
    "display(moviesActors.style.hide_index())"
   ]
  },
  {
   "cell_type": "markdown",
   "metadata": {},
   "source": [
    "#### Get count of \"Movies\" in your DB"
   ]
  },
  {
   "cell_type": "code",
   "execution_count": 52,
   "metadata": {},
   "outputs": [
    {
     "name": "stderr",
     "output_type": "stream",
     "text": [
      "C:\\Users\\Think 13\\AppData\\Local\\Temp\\ipykernel_10560\\1537281793.py:1: UserWarning: pandas only supports SQLAlchemy connectable (engine/connection) or database string URI or sqlite3 DBAPI2 connection. Other DBAPI2 objects are not tested. Please consider using SQLAlchemy.\n",
      "  count_table= pd.read_sql(' SELECT COUNT(*) FROM movie ', con)\n",
      "C:\\Users\\Think 13\\AppData\\Local\\Temp\\ipykernel_10560\\1537281793.py:2: FutureWarning: this method is deprecated in favour of `Styler.hide(axis=\"index\")`\n",
      "  display(count_table.style.hide_index())\n"
     ]
    },
    {
     "data": {
      "text/html": [
       "<style type=\"text/css\">\n",
       "</style>\n",
       "<table id=\"T_0ab9b\">\n",
       "  <thead>\n",
       "    <tr>\n",
       "      <th id=\"T_0ab9b_level0_col0\" class=\"col_heading level0 col0\" >count</th>\n",
       "    </tr>\n",
       "  </thead>\n",
       "  <tbody>\n",
       "    <tr>\n",
       "      <td id=\"T_0ab9b_row0_col0\" class=\"data row0 col0\" >3</td>\n",
       "    </tr>\n",
       "  </tbody>\n",
       "</table>\n"
      ],
      "text/plain": [
       "<pandas.io.formats.style.Styler at 0x10a4763aa90>"
      ]
     },
     "metadata": {},
     "output_type": "display_data"
    }
   ],
   "source": [
    "count_table= pd.read_sql(' SELECT COUNT(*) FROM movie ', con)\n",
    "display(count_table.style.hide_index())"
   ]
  },
  {
   "cell_type": "markdown",
   "metadata": {},
   "source": [
    "#### In this DB, for every \"Actor\" get the number of movies he played"
   ]
  },
  {
   "cell_type": "code",
   "execution_count": 53,
   "metadata": {},
   "outputs": [
    {
     "name": "stderr",
     "output_type": "stream",
     "text": [
      "C:\\Users\\Think 13\\AppData\\Local\\Temp\\ipykernel_10560\\1142431501.py:1: UserWarning: pandas only supports SQLAlchemy connectable (engine/connection) or database string URI or sqlite3 DBAPI2 connection. Other DBAPI2 objects are not tested. Please consider using SQLAlchemy.\n",
      "  actorMoviesAgg= pd.read_sql('''SELECT person.id, person.name, COUNT(movie_id) AS movie_count\n",
      "C:\\Users\\Think 13\\AppData\\Local\\Temp\\ipykernel_10560\\1142431501.py:6: FutureWarning: this method is deprecated in favour of `Styler.hide(axis=\"index\")`\n",
      "  display(actorMoviesAgg.style.hide_index())\n"
     ]
    },
    {
     "data": {
      "text/html": [
       "<style type=\"text/css\">\n",
       "</style>\n",
       "<table id=\"T_4f544\">\n",
       "  <thead>\n",
       "    <tr>\n",
       "      <th id=\"T_4f544_level0_col0\" class=\"col_heading level0 col0\" >id</th>\n",
       "      <th id=\"T_4f544_level0_col1\" class=\"col_heading level0 col1\" >name</th>\n",
       "      <th id=\"T_4f544_level0_col2\" class=\"col_heading level0 col2\" >movie_count</th>\n",
       "    </tr>\n",
       "  </thead>\n",
       "  <tbody>\n",
       "    <tr>\n",
       "      <td id=\"T_4f544_row0_col0\" class=\"data row0 col0\" >2</td>\n",
       "      <td id=\"T_4f544_row0_col1\" class=\"data row0 col1\" >Michael Douglas</td>\n",
       "      <td id=\"T_4f544_row0_col2\" class=\"data row0 col2\" >2</td>\n",
       "    </tr>\n",
       "    <tr>\n",
       "      <td id=\"T_4f544_row1_col0\" class=\"data row1 col0\" >3</td>\n",
       "      <td id=\"T_4f544_row1_col1\" class=\"data row1 col1\" >Martin Sheen</td>\n",
       "      <td id=\"T_4f544_row1_col2\" class=\"data row1 col2\" >2</td>\n",
       "    </tr>\n",
       "    <tr>\n",
       "      <td id=\"T_4f544_row2_col0\" class=\"data row2 col0\" >4</td>\n",
       "      <td id=\"T_4f544_row2_col1\" class=\"data row2 col1\" >Morgan Freeman</td>\n",
       "      <td id=\"T_4f544_row2_col2\" class=\"data row2 col2\" >1</td>\n",
       "    </tr>\n",
       "    <tr>\n",
       "      <td id=\"T_4f544_row3_col0\" class=\"data row3 col0\" >1</td>\n",
       "      <td id=\"T_4f544_row3_col1\" class=\"data row3 col1\" >Charlie Sheen</td>\n",
       "      <td id=\"T_4f544_row3_col2\" class=\"data row3 col2\" >1</td>\n",
       "    </tr>\n",
       "  </tbody>\n",
       "</table>\n"
      ],
      "text/plain": [
       "<pandas.io.formats.style.Styler at 0x10a4764d7d0>"
      ]
     },
     "metadata": {},
     "output_type": "display_data"
    }
   ],
   "source": [
    "actorMoviesAgg= pd.read_sql('''SELECT person.id, person.name, COUNT(movie_id) AS movie_count\n",
    "            FROM movie, person, roles\n",
    "            WHERE movie.id = roles.movie_id AND person.id = roles.person_id\n",
    "            GROUP BY person.id, person.name\n",
    "            ''', con)\n",
    "display(actorMoviesAgg.style.hide_index())"
   ]
  },
  {
   "cell_type": "markdown",
   "metadata": {},
   "source": [
    "#### In this DB, List the movies that every Actor Played\n",
    "<b>Hint:</b> use the aggregation function <b>\"ARRAY_AGG\"</b> to group movies as a list."
   ]
  },
  {
   "cell_type": "code",
   "execution_count": 54,
   "metadata": {},
   "outputs": [
    {
     "name": "stderr",
     "output_type": "stream",
     "text": [
      "C:\\Users\\Think 13\\AppData\\Local\\Temp\\ipykernel_10560\\2093017347.py:1: UserWarning: pandas only supports SQLAlchemy connectable (engine/connection) or database string URI or sqlite3 DBAPI2 connection. Other DBAPI2 objects are not tested. Please consider using SQLAlchemy.\n",
      "  actorMoviesAggList= pd.read_sql('''SELECT movie.id, movie.title, movie.country, movie.year\n",
      "C:\\Users\\Think 13\\AppData\\Local\\Temp\\ipykernel_10560\\2093017347.py:7: FutureWarning: this method is deprecated in favour of `Styler.hide(axis=\"index\")`\n",
      "  display(actorMoviesAggList.style.hide_index())\n"
     ]
    },
    {
     "data": {
      "text/html": [
       "<style type=\"text/css\">\n",
       "</style>\n",
       "<table id=\"T_eebea\">\n",
       "  <thead>\n",
       "    <tr>\n",
       "      <th id=\"T_eebea_level0_col0\" class=\"col_heading level0 col0\" >id</th>\n",
       "      <th id=\"T_eebea_level0_col1\" class=\"col_heading level0 col1\" >title</th>\n",
       "      <th id=\"T_eebea_level0_col2\" class=\"col_heading level0 col2\" >country</th>\n",
       "      <th id=\"T_eebea_level0_col3\" class=\"col_heading level0 col3\" >year</th>\n",
       "    </tr>\n",
       "  </thead>\n",
       "  <tbody>\n",
       "  </tbody>\n",
       "</table>\n"
      ],
      "text/plain": [
       "<pandas.io.formats.style.Styler at 0x10a471b1290>"
      ]
     },
     "metadata": {},
     "output_type": "display_data"
    }
   ],
   "source": [
    "actorMoviesAggList= pd.read_sql('''SELECT movie.id, movie.title, movie.country, movie.year\n",
    "                                FROM movie, roles\n",
    "                                WHERE movie.id = roles.movie_id\n",
    "                                GROUP BY movie.id, movie.title, movie.country, movie.year\n",
    "                                HAVING COUNT(roles.person_id) = (SELECT COUNT(*) FROM person)\n",
    "                            ''', con)\n",
    "display(actorMoviesAggList.style.hide_index())"
   ]
  },
  {
   "cell_type": "markdown",
   "metadata": {},
   "source": [
    "### UPDATE Table Data\n",
    "\n",
    "#### Update the year of production of the movie \"Wall Street\" to be 2000 instead of it's current year. Show the record before and after the update."
   ]
  },
  {
   "cell_type": "code",
   "execution_count": 55,
   "metadata": {},
   "outputs": [
    {
     "name": "stderr",
     "output_type": "stream",
     "text": [
      "C:\\Users\\Think 13\\AppData\\Local\\Temp\\ipykernel_10560\\239283046.py:1: UserWarning: pandas only supports SQLAlchemy connectable (engine/connection) or database string URI or sqlite3 DBAPI2 connection. Other DBAPI2 objects are not tested. Please consider using SQLAlchemy.\n",
      "  wall_street_year = pd.read_sql('''SELECT title, year\n",
      "C:\\Users\\Think 13\\AppData\\Local\\Temp\\ipykernel_10560\\239283046.py:5: FutureWarning: this method is deprecated in favour of `Styler.hide(axis=\"index\")`\n",
      "  display(wall_street_year.style.hide_index())\n"
     ]
    },
    {
     "data": {
      "text/html": [
       "<style type=\"text/css\">\n",
       "</style>\n",
       "<table id=\"T_9523a\">\n",
       "  <thead>\n",
       "    <tr>\n",
       "      <th id=\"T_9523a_level0_col0\" class=\"col_heading level0 col0\" >title</th>\n",
       "      <th id=\"T_9523a_level0_col1\" class=\"col_heading level0 col1\" >year</th>\n",
       "    </tr>\n",
       "  </thead>\n",
       "  <tbody>\n",
       "    <tr>\n",
       "      <td id=\"T_9523a_row0_col0\" class=\"data row0 col0\" >Wall Street</td>\n",
       "      <td id=\"T_9523a_row0_col1\" class=\"data row0 col1\" >1987</td>\n",
       "    </tr>\n",
       "  </tbody>\n",
       "</table>\n"
      ],
      "text/plain": [
       "<pandas.io.formats.style.Styler at 0x10a47639d90>"
      ]
     },
     "metadata": {},
     "output_type": "display_data"
    }
   ],
   "source": [
    "wall_street_year = pd.read_sql('''SELECT title, year\n",
    "            FROM movie\n",
    "            WHERE title = 'Wall Street'\n",
    "            ''', con)\n",
    "display(wall_street_year.style.hide_index())"
   ]
  },
  {
   "cell_type": "code",
   "execution_count": 56,
   "metadata": {},
   "outputs": [
    {
     "name": "stdout",
     "output_type": "stream",
     "text": [
      "Record update successfully into movie table\n"
     ]
    }
   ],
   "source": [
    "### YOUR CODE HERE!!!\n",
    "sql_update_movie = \"UPDATE movie set year = %s where title = %s\"\n",
    "\n",
    "update_key = (2000,'Wall Street')\n",
    "\n",
    "try:\n",
    "    cursor.execute(sql_update_movie,update_key)\n",
    "    con.commit()\n",
    "    print (\"Record update successfully into movie table\")\n",
    "\n",
    "except (Exception, psycopg2.Error) as error :\n",
    "    con.rollback()\n",
    "    print (\"Error while update data in table, Details: \",error)"
   ]
  },
  {
   "cell_type": "code",
   "execution_count": 57,
   "metadata": {},
   "outputs": [
    {
     "name": "stderr",
     "output_type": "stream",
     "text": [
      "C:\\Users\\Think 13\\AppData\\Local\\Temp\\ipykernel_10560\\239283046.py:1: UserWarning: pandas only supports SQLAlchemy connectable (engine/connection) or database string URI or sqlite3 DBAPI2 connection. Other DBAPI2 objects are not tested. Please consider using SQLAlchemy.\n",
      "  wall_street_year = pd.read_sql('''SELECT title, year\n",
      "C:\\Users\\Think 13\\AppData\\Local\\Temp\\ipykernel_10560\\239283046.py:5: FutureWarning: this method is deprecated in favour of `Styler.hide(axis=\"index\")`\n",
      "  display(wall_street_year.style.hide_index())\n"
     ]
    },
    {
     "data": {
      "text/html": [
       "<style type=\"text/css\">\n",
       "</style>\n",
       "<table id=\"T_6fb3b\">\n",
       "  <thead>\n",
       "    <tr>\n",
       "      <th id=\"T_6fb3b_level0_col0\" class=\"col_heading level0 col0\" >title</th>\n",
       "      <th id=\"T_6fb3b_level0_col1\" class=\"col_heading level0 col1\" >year</th>\n",
       "    </tr>\n",
       "  </thead>\n",
       "  <tbody>\n",
       "    <tr>\n",
       "      <td id=\"T_6fb3b_row0_col0\" class=\"data row0 col0\" >Wall Street</td>\n",
       "      <td id=\"T_6fb3b_row0_col1\" class=\"data row0 col1\" >2000</td>\n",
       "    </tr>\n",
       "  </tbody>\n",
       "</table>\n"
      ],
      "text/plain": [
       "<pandas.io.formats.style.Styler at 0x10a47823090>"
      ]
     },
     "metadata": {},
     "output_type": "display_data"
    }
   ],
   "source": [
    "wall_street_year = pd.read_sql('''SELECT title, year\n",
    "            FROM movie\n",
    "            WHERE title = 'Wall Street'\n",
    "            ''', con)\n",
    "display(wall_street_year.style.hide_index())"
   ]
  },
  {
   "cell_type": "markdown",
   "metadata": {},
   "source": [
    "## Delete Table rows\n",
    "\n",
    "#### Delete the movie with id =1 , and show the person table before and after the deletion."
   ]
  },
  {
   "cell_type": "code",
   "execution_count": 58,
   "metadata": {},
   "outputs": [
    {
     "name": "stderr",
     "output_type": "stream",
     "text": [
      "C:\\Users\\Think 13\\AppData\\Local\\Temp\\ipykernel_10560\\2346250895.py:1: UserWarning: pandas only supports SQLAlchemy connectable (engine/connection) or database string URI or sqlite3 DBAPI2 connection. Other DBAPI2 objects are not tested. Please consider using SQLAlchemy.\n",
      "  movie_id1 = pd.read_sql('''SELECT *\n",
      "C:\\Users\\Think 13\\AppData\\Local\\Temp\\ipykernel_10560\\2346250895.py:5: FutureWarning: this method is deprecated in favour of `Styler.hide(axis=\"index\")`\n",
      "  display(movie_id1.style.hide_index())\n"
     ]
    },
    {
     "data": {
      "text/html": [
       "<style type=\"text/css\">\n",
       "</style>\n",
       "<table id=\"T_af510\">\n",
       "  <thead>\n",
       "    <tr>\n",
       "      <th id=\"T_af510_level0_col0\" class=\"col_heading level0 col0\" >id</th>\n",
       "      <th id=\"T_af510_level0_col1\" class=\"col_heading level0 col1\" >title</th>\n",
       "      <th id=\"T_af510_level0_col2\" class=\"col_heading level0 col2\" >country</th>\n",
       "      <th id=\"T_af510_level0_col3\" class=\"col_heading level0 col3\" >year</th>\n",
       "    </tr>\n",
       "  </thead>\n",
       "  <tbody>\n",
       "    <tr>\n",
       "      <td id=\"T_af510_row0_col0\" class=\"data row0 col0\" >1</td>\n",
       "      <td id=\"T_af510_row0_col1\" class=\"data row0 col1\" >Wall Street</td>\n",
       "      <td id=\"T_af510_row0_col2\" class=\"data row0 col2\" >USA</td>\n",
       "      <td id=\"T_af510_row0_col3\" class=\"data row0 col3\" >2000</td>\n",
       "    </tr>\n",
       "  </tbody>\n",
       "</table>\n"
      ],
      "text/plain": [
       "<pandas.io.formats.style.Styler at 0x10a478226d0>"
      ]
     },
     "metadata": {},
     "output_type": "display_data"
    }
   ],
   "source": [
    "movie_id1 = pd.read_sql('''SELECT *\n",
    "            FROM movie\n",
    "            WHERE id = 1\n",
    "            ''', con)\n",
    "display(movie_id1.style.hide_index())"
   ]
  },
  {
   "cell_type": "code",
   "execution_count": 59,
   "metadata": {},
   "outputs": [
    {
     "name": "stdout",
     "output_type": "stream",
     "text": [
      "Error while delete the data from table, Details:  update or delete on table \"movie\" violates foreign key constraint \"roles_movie_id_fkey\" on table \"roles\"\n",
      "DETAIL:  Key (id)=(1) is still referenced from table \"roles\".\n",
      "\n"
     ]
    }
   ],
   "source": [
    "### YOUR CODE HERE !!!\n",
    "sql_delete_movie = \"DELETE FROM movie where id = %s\"\n",
    "\n",
    "delete_key = '1'\n",
    "\n",
    "try:\n",
    "    cursor.execute(sql_delete_movie,delete_key)\n",
    "    con.commit()\n",
    "    print (\"Record delete successfully into movie table\")\n",
    "\n",
    "except (Exception, psycopg2.Error) as error :\n",
    "    con.rollback()\n",
    "    print (\"Error while delete the data from table, Details: \",error)"
   ]
  },
  {
   "cell_type": "code",
   "execution_count": 60,
   "metadata": {},
   "outputs": [
    {
     "name": "stderr",
     "output_type": "stream",
     "text": [
      "C:\\Users\\Think 13\\AppData\\Local\\Temp\\ipykernel_10560\\1582832995.py:1: UserWarning: pandas only supports SQLAlchemy connectable (engine/connection) or database string URI or sqlite3 DBAPI2 connection. Other DBAPI2 objects are not tested. Please consider using SQLAlchemy.\n",
      "  movies = pd.read_sql('''SELECT *\n",
      "C:\\Users\\Think 13\\AppData\\Local\\Temp\\ipykernel_10560\\1582832995.py:4: FutureWarning: this method is deprecated in favour of `Styler.hide(axis=\"index\")`\n",
      "  display(movies.style.hide_index())\n"
     ]
    },
    {
     "data": {
      "text/html": [
       "<style type=\"text/css\">\n",
       "</style>\n",
       "<table id=\"T_8f963\">\n",
       "  <thead>\n",
       "    <tr>\n",
       "      <th id=\"T_8f963_level0_col0\" class=\"col_heading level0 col0\" >id</th>\n",
       "      <th id=\"T_8f963_level0_col1\" class=\"col_heading level0 col1\" >title</th>\n",
       "      <th id=\"T_8f963_level0_col2\" class=\"col_heading level0 col2\" >country</th>\n",
       "      <th id=\"T_8f963_level0_col3\" class=\"col_heading level0 col3\" >year</th>\n",
       "    </tr>\n",
       "  </thead>\n",
       "  <tbody>\n",
       "    <tr>\n",
       "      <td id=\"T_8f963_row0_col0\" class=\"data row0 col0\" >2</td>\n",
       "      <td id=\"T_8f963_row0_col1\" class=\"data row0 col1\" >The American President</td>\n",
       "      <td id=\"T_8f963_row0_col2\" class=\"data row0 col2\" >USA</td>\n",
       "      <td id=\"T_8f963_row0_col3\" class=\"data row0 col3\" >1995</td>\n",
       "    </tr>\n",
       "    <tr>\n",
       "      <td id=\"T_8f963_row1_col0\" class=\"data row1 col0\" >3</td>\n",
       "      <td id=\"T_8f963_row1_col1\" class=\"data row1 col1\" >The Shawshank Redemption</td>\n",
       "      <td id=\"T_8f963_row1_col2\" class=\"data row1 col2\" >USA</td>\n",
       "      <td id=\"T_8f963_row1_col3\" class=\"data row1 col3\" >1994</td>\n",
       "    </tr>\n",
       "    <tr>\n",
       "      <td id=\"T_8f963_row2_col0\" class=\"data row2 col0\" >1</td>\n",
       "      <td id=\"T_8f963_row2_col1\" class=\"data row2 col1\" >Wall Street</td>\n",
       "      <td id=\"T_8f963_row2_col2\" class=\"data row2 col2\" >USA</td>\n",
       "      <td id=\"T_8f963_row2_col3\" class=\"data row2 col3\" >2000</td>\n",
       "    </tr>\n",
       "  </tbody>\n",
       "</table>\n"
      ],
      "text/plain": [
       "<pandas.io.formats.style.Styler at 0x10a477b1a10>"
      ]
     },
     "metadata": {},
     "output_type": "display_data"
    }
   ],
   "source": [
    "movies = pd.read_sql('''SELECT *\n",
    "            FROM movie\n",
    "            ''', con)\n",
    "display(movies.style.hide_index())"
   ]
  },
  {
   "attachments": {},
   "cell_type": "markdown",
   "metadata": {},
   "source": [
    "## Extend you \"Movies\" DB \n",
    "\n",
    "Imagine now that we are going to extend our DB with new movies, actors, even with new directors.\n",
    "\n",
    "- We add <b>**\"The matrix\"**</b> movie which was released in <b>(1999)</b>, and has a new property \"Tagline\" <b>(\"Welcome to the Real World\")</b>.\n",
    "    - <font color='red'> Adding the \"Tagline\" new property (attribute) require changing the table schema</font>\n",
    "\n",
    "- We will also add 4 new actors (Person):\n",
    "    - **\"Keanu Reeves\"** who was born in (1964). Note \"born\" property is also new.\n",
    "    - **\"Carrie-Anne Moss\"** who was born in (1967).\n",
    "    - **\"Laurence Fishburne\"** who was born in (1960).\n",
    "    - **\"Hugo Weaving\"** who was born in (1960).\n",
    "    * <font color='red'> **Note**: Adding the new \"born\" Property require changing the table schema</font>    \n",
    "- Moreover, we add 2 directors (Person) :\n",
    "    - **\"Lilly Wachowski\"**, born in (1967)\n",
    "    - **\"Lana Wachowski\"**, born in(1965)\n",
    "- For these directors specify one more Label (\"Director\").\n",
    "    - <font color='red'> This new Label Will require **\"Denormalization\"** Or smothing</font>\n",
    "    \n",
    "- We will also Create a new <b>RelationType \"DIRECTED\" </b> that is directed from the later 3 director to \"the Matrix\" movie.\n",
    "    - <font color='red'> New created table for **Directed** relationship </font>"
   ]
  },
  {
   "cell_type": "markdown",
   "metadata": {},
   "source": [
    "#### Adding Tagline column to the movie table requires, altering the table schema"
   ]
  },
  {
   "cell_type": "code",
   "execution_count": 61,
   "metadata": {},
   "outputs": [
    {
     "name": "stdout",
     "output_type": "stream",
     "text": [
      "Add column successfully into movie table\n"
     ]
    }
   ],
   "source": [
    "# Add a new Column to the Schema of movie table\n",
    "sql_alter_movie_table = \"\"\"ALTER TABLE  movie \n",
    "                    ADD COLUMN tagline TEXT\n",
    "                    \"\"\"\n",
    "try:\n",
    "    cursor.execute(sql_alter_movie_table)\n",
    "    con.commit()\n",
    "    print(\"Add column successfully into movie table\")\n",
    "\n",
    "except (Exception, psycopg2.Error) as error :\n",
    "    con.rollback()\n",
    "    print (\"Error while alter the table, Details: \",error)"
   ]
  },
  {
   "cell_type": "markdown",
   "metadata": {},
   "source": [
    "#### Inserting the new movie \"The Matrix\" with the prementioned attributes to movie table"
   ]
  },
  {
   "cell_type": "code",
   "execution_count": 62,
   "metadata": {},
   "outputs": [
    {
     "name": "stdout",
     "output_type": "stream",
     "text": [
      "Insert new movie to table successfully\n"
     ]
    }
   ],
   "source": [
    "#### YOUR CODE HERE !!!\n",
    "sql_insert_movie = \"\"\"INSERT INTO movie (id,title,country,year,tagline)\n",
    "            VALUES(%s,%s,%s,%s,%s)\"\"\"\n",
    "try:\n",
    "    cursor.execute(sql_insert_movie,(4,'The Matrix','',1999,'Welcome to the Real World'))\n",
    "    con.commit()\n",
    "    print('Insert new movie to table successfully')\n",
    "\n",
    "except (Exception, psycopg2.Error) as error :\n",
    "    con.rollback()\n",
    "    print (\"Error while insert to table, Details: \",error)\n",
    "    "
   ]
  },
  {
   "cell_type": "markdown",
   "metadata": {},
   "source": [
    "#### Adding 'born' column to the person table also requires, altering the table schema"
   ]
  },
  {
   "cell_type": "code",
   "execution_count": 63,
   "metadata": {},
   "outputs": [
    {
     "name": "stdout",
     "output_type": "stream",
     "text": [
      "Add column successfully into movie table\n"
     ]
    }
   ],
   "source": [
    "# Add a new Column to the Schema of person table\n",
    "sql_alter_person_table = \"\"\"ALTER TABLE  person\n",
    "                    ADD COLUMN born INT\n",
    "                    \"\"\"\n",
    "try:\n",
    "    cursor.execute(sql_alter_person_table)\n",
    "    con.commit()\n",
    "    print(\"Add column successfully into movie table\")\n",
    "\n",
    "except (Exception, psycopg2.Error) as error :\n",
    "    con.rollback()\n",
    "    print (\"Error while alter the table, Details: \",error)"
   ]
  },
  {
   "cell_type": "markdown",
   "metadata": {},
   "source": [
    "#### Inserting the  \"4\" more Actors."
   ]
  },
  {
   "cell_type": "code",
   "execution_count": 64,
   "metadata": {},
   "outputs": [
    {
     "name": "stdout",
     "output_type": "stream",
     "text": [
      "4 Record inserted successfully into person table\n"
     ]
    }
   ],
   "source": [
    "#YOU CODE for Adding 4 More Actors\n",
    "sql_insert_persons = \"\"\"INSERT INTO person (id,name,born) VALUES (%s,%s,%s)\"\"\"\n",
    "\n",
    "person_list = [\n",
    "    (5,'Keanu Reeves',1964),\n",
    "    (6,'Carrie-Anne Moss',1967),\n",
    "    (7,'Laurence Fishburne',1960),\n",
    "    (8,'Hugo Weaving',1960)\n",
    "]\n",
    "\n",
    "try:\n",
    "    cursor.executemany(sql_insert_persons,person_list)\n",
    "    con.commit()\n",
    "    count = cursor.rowcount\n",
    "    print (count, \"Record inserted successfully into person table\")\n",
    "\n",
    "except (Exception, psycopg2.Error) as error :\n",
    "    con.rollback()\n",
    "    print (\"Error while Inserting the data to the table, Details: \",error)"
   ]
  },
  {
   "cell_type": "markdown",
   "metadata": {},
   "source": [
    "#### Inserting the  \"2\" Directors"
   ]
  },
  {
   "cell_type": "code",
   "execution_count": 65,
   "metadata": {},
   "outputs": [
    {
     "name": "stdout",
     "output_type": "stream",
     "text": [
      "Error while deleting the data to the table, Details:  'int' object does not support indexing\n"
     ]
    }
   ],
   "source": [
    "dele = \"\"\"\n",
    "    DELETE FROM person WHERE id = %s;\n",
    "    \"\"\"\n",
    "del_list = [9,10]\n",
    "\n",
    "try:\n",
    "    cursor.executemany(dele,del_list)\n",
    "    con.commit()\n",
    "    print (count, \"Record deleted successfully from person table\")\n",
    "\n",
    "except (Exception, psycopg2.Error) as error :\n",
    "    con.rollback()\n",
    "    print (\"Error while deleting the data to the table, Details: \",error)"
   ]
  },
  {
   "cell_type": "code",
   "execution_count": 66,
   "metadata": {},
   "outputs": [
    {
     "name": "stdout",
     "output_type": "stream",
     "text": [
      "2 Record inserted successfully into person table\n"
     ]
    }
   ],
   "source": [
    "# YOU CODE for Adding 2 more Directors\n",
    "sql_insert_persons = \"\"\"INSERT INTO person (id,name,born) VALUES (%s,%s,%s)\"\"\"\n",
    "\n",
    "person_list = [\n",
    "    (9,'Lilly Wachowski',1967),\n",
    "    (10,'Lana Wachowski',1965),\n",
    "]\n",
    "\n",
    "try:\n",
    "    cursor.executemany(sql_insert_persons,person_list)\n",
    "    con.commit()\n",
    "    count = cursor.rowcount\n",
    "    print (count, \"Record inserted successfully into person table\")\n",
    "\n",
    "except (Exception, psycopg2.Error) as error :\n",
    "    con.rollback()\n",
    "    print (\"Error while Inserting the data to the table, Details: \",error)"
   ]
  },
  {
   "cell_type": "markdown",
   "metadata": {},
   "source": [
    "#### Specifying this new Label (\"Director\") will require \"normalization\"\n",
    "\n",
    "I highly suggest modeling this a little more \"normalized\". You are already on the right track by realizing that both \"Directors\" and maybe after that \"Actors\" are the same entity (Person). The trick is that you should model \"roles\", and then model user's roles as well. That makes 3 total tables for this small portion of your model.\n",
    "\n",
    "<img src= 'NormalizationTrick.JPG'>"
   ]
  },
  {
   "cell_type": "code",
   "execution_count": 67,
   "metadata": {},
   "outputs": [],
   "source": [
    "#Create Label Table CODE HERE !!!"
   ]
  },
  {
   "cell_type": "code",
   "execution_count": 68,
   "metadata": {},
   "outputs": [],
   "source": [
    "#Create Person_Label Table CODE HERE !!!"
   ]
  },
  {
   "cell_type": "markdown",
   "metadata": {},
   "source": [
    "#### Insert Data into the two new normalized tables (\"Person_label\", and \"Label\") "
   ]
  },
  {
   "cell_type": "code",
   "execution_count": 69,
   "metadata": {},
   "outputs": [],
   "source": [
    "#### YOUR CODE HERE !!!"
   ]
  },
  {
   "cell_type": "markdown",
   "metadata": {},
   "source": [
    "#### Perform a query that shows only the \"Directors\""
   ]
  },
  {
   "cell_type": "code",
   "execution_count": 70,
   "metadata": {},
   "outputs": [],
   "source": [
    "#### YOUR CODE HERE !!!"
   ]
  },
  {
   "cell_type": "markdown",
   "metadata": {},
   "source": [
    "#### \"Directed\" Relationship creation"
   ]
  },
  {
   "cell_type": "code",
   "execution_count": 71,
   "metadata": {},
   "outputs": [],
   "source": [
    "# CODE to create the \"Directed\" Relationship."
   ]
  },
  {
   "cell_type": "markdown",
   "metadata": {},
   "source": [
    "#### Insert data to the \"Directed\" table "
   ]
  },
  {
   "cell_type": "code",
   "execution_count": 72,
   "metadata": {},
   "outputs": [],
   "source": [
    "### YOUR CODE HERE !!!"
   ]
  },
  {
   "cell_type": "markdown",
   "metadata": {},
   "source": [
    "### Perform a query that get persons who Directed \"The matrix\" movie."
   ]
  },
  {
   "cell_type": "code",
   "execution_count": 73,
   "metadata": {},
   "outputs": [],
   "source": [
    "### YOUR CODE HERE !!!"
   ]
  },
  {
   "cell_type": "markdown",
   "metadata": {},
   "source": [
    "## Task 3 (Tartu Country Club): \n",
    "\n",
    "- The DB  centered arround a **\"country club\"**, with a set of **members**, **facilities** such as tennis courts, and booking history for those facilities. \n",
    "- Amongst other things, the club wants to understand how they can use their information to analyze facility usage/demand.\n",
    "\n",
    "<img src=\"DBSchema.JPG\">"
   ]
  },
  {
   "cell_type": "markdown",
   "metadata": {},
   "source": [
    "#### From the above schema Diagram, answer the following questions:\n",
    "- What is the relationship type(i.e. nature) between the **\"memebers\"** and **\"facilities\"** tables?"
   ]
  },
  {
   "cell_type": "markdown",
   "metadata": {},
   "source": [
    "##### <font color='green'>Answer: </font>"
   ]
  },
  {
   "cell_type": "markdown",
   "metadata": {},
   "source": [
    "- Mention How was this relationship handled ?"
   ]
  },
  {
   "cell_type": "markdown",
   "metadata": {},
   "source": [
    "##### <font color='green'>Answer: </font>"
   ]
  },
  {
   "cell_type": "markdown",
   "metadata": {},
   "source": [
    "- Mention what are the keys (PRIMARY, FORIEGN,..) in all the three tables (DB schema)."
   ]
  },
  {
   "cell_type": "markdown",
   "metadata": {},
   "source": [
    "##### <font color='green'>Answer: </font>"
   ]
  },
  {
   "cell_type": "markdown",
   "metadata": {},
   "source": [
    "- What is the Degree of each Table in the above DB schema?"
   ]
  },
  {
   "cell_type": "markdown",
   "metadata": {},
   "source": [
    "##### <font color='green'>Answer: </font>"
   ]
  },
  {
   "cell_type": "markdown",
   "metadata": {},
   "source": [
    "#### Use the attached  <font color='green'> \"clubdata.sql\" </font> script to create DB , tables, and insert data in the created tables.\n",
    "- login to your postgres command line as shown above.\n",
    "- use the command in your ***PSQL SHELL***  <code>\\i 'your/path/clubdata.sql'</code> to run the script."
   ]
  },
  {
   "cell_type": "markdown",
   "metadata": {},
   "source": [
    "#### Use SQL commands using python like in this jupyter note book, or use \"PgAdmin\" to answer the following:"
   ]
  },
  {
   "cell_type": "markdown",
   "metadata": {},
   "source": [
    "#### Get a list of all of the facilities and their cost to members."
   ]
  },
  {
   "cell_type": "code",
   "execution_count": 74,
   "metadata": {},
   "outputs": [],
   "source": [
    "##YOUR QUERY HERE##"
   ]
  },
  {
   "cell_type": "markdown",
   "metadata": {},
   "source": [
    "#### How can you produce a list of facilities that charge a fee to members (membercost>0)?"
   ]
  },
  {
   "cell_type": "code",
   "execution_count": 75,
   "metadata": {},
   "outputs": [],
   "source": [
    "##YOUR QUERY HERE##"
   ]
  },
  {
   "cell_type": "markdown",
   "metadata": {},
   "source": [
    "####  How can you produce a list of all facilities with the word 'Tennis' in their name?"
   ]
  },
  {
   "cell_type": "code",
   "execution_count": 76,
   "metadata": {},
   "outputs": [],
   "source": [
    "##YOUR QUERY HERE##"
   ]
  },
  {
   "cell_type": "markdown",
   "metadata": {},
   "source": [
    "#### How can you retrieve the details of facilities with ID 1 and 5? <font color=red>Try to do it without using the OR operator.</font>"
   ]
  },
  {
   "cell_type": "code",
   "execution_count": 77,
   "metadata": {},
   "outputs": [],
   "source": [
    "##YOUR QUERY HERE##"
   ]
  },
  {
   "cell_type": "markdown",
   "metadata": {},
   "source": [
    "####  How can you produce a list of facilities, with each labelled as 'cheap' or 'expensive' depending on if their monthly maintenance cost is more than $100? Return the name and monthly maintenance of the facilities in question. "
   ]
  },
  {
   "cell_type": "code",
   "execution_count": 78,
   "metadata": {},
   "outputs": [],
   "source": [
    "##YOUR QUERY HERE##"
   ]
  },
  {
   "cell_type": "markdown",
   "metadata": {},
   "source": [
    "####  get the signup date of your last member. How can you retrieve this information? "
   ]
  },
  {
   "cell_type": "code",
   "execution_count": 79,
   "metadata": {},
   "outputs": [],
   "source": [
    "##YOUR QUERY HERE##"
   ]
  },
  {
   "cell_type": "markdown",
   "metadata": {},
   "source": [
    " #### Retrieve the start times of members' bookings\n",
    " * Get a list of the start times for bookings by members named 'David Farrell'? "
   ]
  },
  {
   "cell_type": "code",
   "execution_count": 80,
   "metadata": {},
   "outputs": [],
   "source": [
    "##YOUR QUERY HERE##"
   ]
  },
  {
   "cell_type": "markdown",
   "metadata": {},
   "source": [
    "#### The club is adding a new facility - a spa. We need to add it into the facilities table. Use the following values:\n",
    "\n",
    "    facid: 9, Name: 'Spa', membercost: 20, guestcost: 30, initialoutlay: 100000, monthlymaintenance: 800."
   ]
  },
  {
   "cell_type": "code",
   "execution_count": 81,
   "metadata": {},
   "outputs": [],
   "source": [
    "##YOUR QUERY HERE##"
   ]
  },
  {
   "cell_type": "markdown",
   "metadata": {},
   "source": [
    "#### We made a mistake when entering the data for the \"Spa\" facility. \n",
    "    - The \"initial outlay\" should be 20000 rather than 100000: \n",
    "    - you need to alter the data to fix the error.\n",
    "    \n"
   ]
  },
  {
   "cell_type": "code",
   "execution_count": 82,
   "metadata": {},
   "outputs": [],
   "source": [
    "##YOUR QUERY HERE##"
   ]
  },
  {
   "cell_type": "markdown",
   "metadata": {},
   "source": [
    "#### List the total slots booked per facility "
   ]
  },
  {
   "cell_type": "code",
   "execution_count": 83,
   "metadata": {},
   "outputs": [],
   "source": [
    "##YOUR QUERY HERE##"
   ]
  },
  {
   "cell_type": "markdown",
   "metadata": {},
   "source": [
    "####  Delete all bookings \n",
    "*  As part of a clearout of our database, we want to delete all bookings from the cd.bookings table. How can we accomplish this? "
   ]
  },
  {
   "cell_type": "code",
   "execution_count": 84,
   "metadata": {},
   "outputs": [],
   "source": [
    "##YOUR QUERY HERE##"
   ]
  },
  {
   "cell_type": "markdown",
   "metadata": {},
   "source": [
    " ## How long did it take you to solve the homework?\n",
    " \n",
    "Please answer as precisely as you can. It does not affect your points or grade in any way. It is okey, if it took 0.5 hours or 24 hours. The collected information will be used to improve future homeworks."
   ]
  },
  {
   "cell_type": "markdown",
   "metadata": {},
   "source": [
    "<font color=\"red\"><b>Answer:</b></font>"
   ]
  },
  {
   "cell_type": "markdown",
   "metadata": {},
   "source": [
    "**<center> <font color='red'>THANK YOU FOR YOUR EFFORT!</font></center>**"
   ]
  }
 ],
 "metadata": {
  "kernelspec": {
   "display_name": "base",
   "language": "python",
   "name": "python3"
  },
  "language_info": {
   "codemirror_mode": {
    "name": "ipython",
    "version": 3
   },
   "file_extension": ".py",
   "mimetype": "text/x-python",
   "name": "python",
   "nbconvert_exporter": "python",
   "pygments_lexer": "ipython3",
   "version": "3.11.0"
  },
  "vscode": {
   "interpreter": {
    "hash": "1a6e773fc7f7b2b8b91c25b211311bf7ed1bb15ad853df008c3aead80ddb88d4"
   }
  }
 },
 "nbformat": 4,
 "nbformat_minor": 2
}
