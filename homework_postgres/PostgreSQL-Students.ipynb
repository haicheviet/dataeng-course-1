{
 "cells": [
  {
   "cell_type": "markdown",
   "metadata": {},
   "source": [
    "# Week 1: Relational Models & PostgreSQL\n",
    "### Student ID: [#####]\n",
    "### Subtasks Done: [#,#,..]"
   ]
  },
  {
   "cell_type": "markdown",
   "metadata": {},
   "source": [
    "## Lab Goals:\n",
    "   1. Get familiar with the relational DBs.\n",
    "   2. Get familiar with the relational SQL query language.\n",
    "   2. Get familiar with postgreSQL as one of the most popular RDBMSs.\n",
    "  \n",
    "\n",
    "## Lab Tasks:\n",
    "   0. Get familiar with Python and Jupyter Notebook.\n",
    "   1. First Steps of SQL (DDL [Create DB, CREATE TABLES], DQL [SELECTIONS, PROJECTIONS, FIRLTREING, ORDERING, Different Types of JOINS,..etc], and Some DML operations [INSERTIONS, UPDATES, and DELETIONS])\n",
    "   2. Create a simple Relational Database Model (MovieDB).\n",
    "   3. More Query exercises with a DB ready for you, (just by running a SQL script).\n",
    "   "
   ]
  },
  {
   "cell_type": "markdown",
   "metadata": {},
   "source": [
    "# Task 0: Python & Jupyter Notebook & Pandas tutorial video\n",
    "\n",
    "##### - First for Students who are not familiar with <font color='red'>Python</font>, I recommend this python full course https://www.youtube.com/watch?v=_uQrJ0TkZlc \n",
    "\n",
    "##### - Second, please watch the following video <font color='red'>\"Jupyter Notebook Tutorial\"</font> and answer the question below. Please answer the questions by writing your answer next to the red \"Answer \" label (the same for the other questions throught the NoteBook). Also, we recommend you to follow the examples in the video and try it out by yourself."
   ]
  },
  {
   "cell_type": "code",
   "execution_count": 16,
   "metadata": {},
   "outputs": [
    {
     "data": {
      "text/html": [
       "<center><iframe width=\"600\" height=\"315\" src=\"https://www.youtube.com/embed/HW29067qVWk\" frameborder=\"0\" allowfullscreen></iframe>\n"
      ],
      "text/plain": [
       "<IPython.core.display.HTML object>"
      ]
     },
     "metadata": {},
     "output_type": "display_data"
    }
   ],
   "source": [
    "%%HTML \n",
    "<center><iframe width=\"600\" height=\"315\" src=\"https://www.youtube.com/embed/HW29067qVWk\" frameborder=\"0\" allowfullscreen></iframe>"
   ]
  },
  {
   "cell_type": "markdown",
   "metadata": {},
   "source": [
    " #### What are the advantages of using jupyter notebook?"
   ]
  },
  {
   "attachments": {},
   "cell_type": "markdown",
   "metadata": {},
   "source": [
    "<font color = \"red\"><b>Answer:</b></font>\n",
    "##### Be able to run a separate piece of code without having to run the whole file."
   ]
  },
  {
   "cell_type": "markdown",
   "metadata": {},
   "source": [
    "##### - Last but not least, Python Pandas \n",
    "\n",
    "pandas is a fast, powerful, flexible and easy to use open source data analysis and manipulation tool, built on top of the Python programming language.\n",
    "\n",
    "- To get familiar with Pandas library you can follow this tutourial:\n",
    "    - https://www.youtube.com/watch?v=vmEHCJofslg&feature=emb_rel_pause\n",
    "- You can also use the follwing cheat-sheet link of pandas:\n",
    "    - https://pandas.pydata.org/Pandas_Cheat_Sheet.pdf\n"
   ]
  },
  {
   "cell_type": "markdown",
   "metadata": {},
   "source": [
    "# Introduction:\n",
    "\n",
    "### Relational DB Structure \n",
    "- A relational database consists of a collection of tables, each having a unique name.\n",
    "- A row in a table represents a relationship among a set of values.\n",
    "- Thus a table represents a collection of relationships. \n",
    "<img src =\"https://raw.githubusercontent.com/DataSystemsGroupUT/dataeng/dataeng/attachments/attrer2.png\" width =\"550\" height=\"150\">\n",
    "\n",
    "\n",
    "###  Structured Query Language (SQL)\n",
    "\n",
    "<a href='https://en.wikipedia.org/wiki/SQL'>SQL </a> is used to communicate with a database. SQL is the standard language for relational database management systems. SQL statements are used to perform tasks such as update data on a database, or retrieve data from a database. \n",
    "\n",
    "Some common relational database management systems that use SQL are: Oracle, Sybase, Microsoft SQL Server, Access, Ingres. However, the standard SQL commands such as \"Select\", \"Insert\", \"Update\", \"Delete\", \"Create\", and \"Drop\" can be used to accomplish almost everything that one needs to do with a database. This tutorial will provide you with the instruction on the basics of each of these commands as well as allow you to put them to practice using the SQL Interpreter.\n",
    "\n",
    "- First Steps with SQL can be followed from this <a href='https://www.sqltutorial.org/sql-cheat-sheet/'>link </a>.\n",
    "\n",
    "\n",
    "### PostgreSQL:\n",
    "   <a href=\"https://www.postgresql.org/\">PostgreSQL</a> is a powerful, open source object-relational database system with over 30 years of active development that has earned it a strong reputation for reliability, feature robustness, and performance. (<b>According to official website of PostgreSQL Database</b>)<br/>\n",
    "   \n",
    "- PostgreSQL offecial documentation (https://www.postgresql.org/docs/9.3/index.html)\n",
    "    - pdf version of last release(https://www.postgresql.org/files/documentation/pdf/12/postgresql-12-A4.pdf)\n",
    "\n",
    "<img src=\"https://www.postgresql.org/media/img/about/press/elephant.png\" width =\"100\" height=\"75\">\n",
    "\n"
   ]
  },
  {
   "cell_type": "markdown",
   "metadata": {},
   "source": [
    "# PreLab\n",
    "\n",
    "### Installations:\n",
    "\n",
    "#### 1. Install PostgreSQL on Windows\n",
    "- Download and Install PostgreSQL for all platforms (https://www.enterprisedb.com/downloads/postgres-postgresql-downloads) \n",
    "- Follow this tutourial (https://www.postgresqltutorial.com/install-postgresql/) for more details (Windows installation).\n",
    "\n",
    "#### or if you want to install it on linux\n",
    "- Follow this tutourial (https://www.postgresqltutorial.com/install-postgresql-linux/)\n",
    "\n",
    "\n",
    "#### 2. Install the Python Package to connecto to PostgreSQL \"<a href='https://www.psycopg.org/docs/usage.html'>psycopg2 </a>\"\n",
    "- use th command ```pip install psycopg2``` in your command line.\n",
    "\n",
    "\n",
    "#### (Good to Know) \n",
    "##### Accessing PostgreSQL from Command Line:\n",
    "- Add the PostgreSQL  installation \"/home\" and \"/bin\" directories to the enviroment variables.\n",
    "- use the command ```psql -U postgres postgres``` to connect to the the by-default created database \"postgres\" with the user \"postgres\".\n",
    "- Enter your set \"postgres\" password (i.e password of the default password that you have been asked at the time of installtion).\n",
    "\n",
    "##### Connect To a PostgreSQL Database Server\n",
    "- show you how to connect to the PostgreSQL using psql tool and pgAdmin 4 GUI tool.\n",
    "\n"
   ]
  },
  {
   "cell_type": "markdown",
   "metadata": {},
   "source": [
    "#### Run the following command to install ***psycopg*** like any other Python package."
   ]
  },
  {
   "cell_type": "code",
   "execution_count": 17,
   "metadata": {},
   "outputs": [
    {
     "name": "stdout",
     "output_type": "stream",
     "text": [
      "Requirement already satisfied: psycopg2 in c:\\users\\admin\\anaconda3\\envs\\min_ds-env\\lib\\site-packages (2.9.5)\n"
     ]
    }
   ],
   "source": [
    "! pip install psycopg2"
   ]
  },
  {
   "cell_type": "markdown",
   "metadata": {},
   "source": [
    "### <font color='purple'>Please make sure that you have all the following packages installed: </font>\n",
    "\n",
    "#### Run the following for importing packages that we will need throught this NB!"
   ]
  },
  {
   "cell_type": "code",
   "execution_count": 18,
   "metadata": {},
   "outputs": [],
   "source": [
    "import psycopg2  #import of the psycopg2 python library\n",
    "import pandas as pd #import of the pandas python library\n",
    "import pandas.io.sql as psql\n",
    "\n",
    "##No transaction is started when commands are executed and no commit() or rollback() is required. \n",
    "from psycopg2.extensions import ISOLATION_LEVEL_AUTOCOMMIT"
   ]
  },
  {
   "cell_type": "markdown",
   "metadata": {},
   "source": [
    "# Task 1: Your First Steps in PostgreSQL"
   ]
  },
  {
   "cell_type": "markdown",
   "metadata": {},
   "source": [
    "### Create a simple RDB (TartuPurchases)\n",
    "- The following DB Model shows an ER diagram of mock, toy DB of two tables with one relationship.\n",
    "- In particular:\n",
    "    - The \"Customer\" Table with attributes (<ins>id</ins>, name, country, email), <font color='red'>Note</font> that underline here means id is the primary_key of the \"customer\" table.\n",
    "    - The \"Order\" table with attributes (<ins>id</ins>, product)\n",
    "    - a (***One-many*** )relationship \"makes\" which relates the two tables (Customer can make several/many Orders, and Order is made by only one Customer).\n",
    "    - One-to- many relationship is handled as follows in the RDBs: (Use a foreign_key on the many side of the relationship linking back to the \"one\" side)\n",
    "    - Therefore, we add the primary key of the one side (Customer) Table as a foreign_key in the many side (Order) table.\n",
    "    - Thus the Order table becomes as follows Order(id,customer_id,product) id is the primary_key and customer_id is a forien_key which references to the id primary_key in the Customer table."
   ]
  },
  {
   "cell_type": "markdown",
   "metadata": {},
   "source": [
    "#### The relational Layout: \n",
    "##### Customer(ID, Name)   --Makes--> ORDER(ID, Customer_ID,Product)\n",
    "<img src='tartupurchasesDB.png'>"
   ]
  },
  {
   "cell_type": "markdown",
   "metadata": {},
   "source": [
    "#### Connecting to the PostgreSQL Server"
   ]
  },
  {
   "cell_type": "code",
   "execution_count": 19,
   "metadata": {},
   "outputs": [
    {
     "name": "stdout",
     "output_type": "stream",
     "text": [
      "Connected Successfully to PostgreSQL server!!\n"
     ]
    }
   ],
   "source": [
    "try:\n",
    "    # Connect to the postgreSQL server with username, and password credentials\n",
    "    con = psycopg2.connect(user = \"postgres\",\n",
    "                                  password = \"changeme\",\n",
    "                                  host = \"127.0.0.1\",\n",
    "                                  port = \"5432\")\n",
    "    \n",
    "    con.set_isolation_level(ISOLATION_LEVEL_AUTOCOMMIT);\n",
    "    print(\"Connected Successfully to PostgreSQL server!!\")\n",
    "    \n",
    "    # Obtain a DB Cursor to perform database operations\n",
    "    cursor = con.cursor();\n",
    "except (Exception, psycopg2.Error) as error :\n",
    "     print (\"Error while connecting to PostgreSQL\", error)\n"
   ]
  },
  {
   "cell_type": "markdown",
   "metadata": {},
   "source": [
    "#### Create the \"TarturPurchases\" DB and close connection to the Server"
   ]
  },
  {
   "cell_type": "code",
   "execution_count": 20,
   "metadata": {},
   "outputs": [
    {
     "name": "stdout",
     "output_type": "stream",
     "text": [
      "Error While Creating the DB:  database \"tartupurchases\" already exists\n",
      "\n"
     ]
    }
   ],
   "source": [
    "#DB_name variable    \n",
    "name_Database   = \"TartuPurchases\";\n",
    "\n",
    "# Create DB statement\n",
    "sqlCreateDatabase = \"CREATE DATABASE \"+name_Database+\";\"\n",
    "\n",
    "try:\n",
    "    # Execute a SQL command: this creates a new DB\n",
    "    cursor.execute(sqlCreateDatabase);\n",
    "    print(\"Database '\"+name_Database+\"' Created Successfully!\")\n",
    "except (Exception, psycopg2.Error) as error :\n",
    "    print(\"Error While Creating the DB: \",error)\n",
    "    \n",
    "finally:\n",
    "    # Close communication with the database\n",
    "    cursor.close() #to close the cusrsor\n",
    "    con.close() #to close the connection/ we will open a new connection to the created DB"
   ]
  },
  {
   "cell_type": "markdown",
   "metadata": {},
   "source": [
    "#### Getting some details about the connection"
   ]
  },
  {
   "cell_type": "code",
   "execution_count": 21,
   "metadata": {},
   "outputs": [
    {
     "data": {
      "text/plain": [
       "<connection object at 0x00000293685C2E10; dsn: 'user=postgres password=xxx host=127.0.0.1 port=5432', closed: 1>"
      ]
     },
     "execution_count": 21,
     "metadata": {},
     "output_type": "execute_result"
    }
   ],
   "source": [
    "con"
   ]
  },
  {
   "cell_type": "markdown",
   "metadata": {},
   "source": [
    "#### You can also use the command <code>\\conninfo</code> in the PSQL Shell to show the conection details\n",
    "- To get more familiar with PSQL SHELL commands, You can follow this link (https://www.postgresql.org/docs/current/app-psql.html)\n",
    "\n",
    "\n",
    "#### Upload your PSQL Shell Command Result of this command here as an a screenshot "
   ]
  },
  {
   "attachments": {
    "image.png": {
     "image/png": "[encoded data removed]"
    }
   },
   "cell_type": "markdown",
   "metadata": {},
   "source": [
    "##### <font color='red'>Image Here:</font>\n",
    "![image.png](attachment:image.png)"
   ]
  },
  {
   "cell_type": "markdown",
   "metadata": {},
   "source": [
    "#### Get/open  a new connection, but this time pointed to the created \"tartupurchases\" DB."
   ]
  },
  {
   "cell_type": "code",
   "execution_count": 22,
   "metadata": {},
   "outputs": [
    {
     "name": "stdout",
     "output_type": "stream",
     "text": [
      "connected again to the server, and cusor now on tartupurchases DB !!\n"
     ]
    }
   ],
   "source": [
    "# get a new connection but this time point to the created \"tartupurchases\" DB.\n",
    "con = psycopg2.connect(user = \"postgres\",\n",
    "                       password = \"changeme\",\n",
    "                       host = \"127.0.0.1\",\n",
    "                       port = \"5432\",\n",
    "                       database = \"tartupurchases\")\n",
    "\n",
    "try:\n",
    "    # Obtain a new DB Cursor (to \"tartupurchases\" DB )\n",
    "    cursor = con.cursor();\n",
    "    print(\"connected again to the server, and cusor now on tartupurchases DB !!\")\n",
    "except (Exception, psycopg2.Error) as error:\n",
    "    print(\"Error in Connection\",error)"
   ]
  },
  {
   "cell_type": "markdown",
   "metadata": {},
   "source": [
    "#### Creating Our First Table (\"Customer\")"
   ]
  },
  {
   "cell_type": "code",
   "execution_count": 23,
   "metadata": {},
   "outputs": [
    {
     "name": "stdout",
     "output_type": "stream",
     "text": [
      "Table (customer) created successfully in PostgreSQL \n"
     ]
    }
   ],
   "source": [
    "#Create \"Customer\" Table\n",
    "\n",
    "try:\n",
    "    #table_name variable\n",
    "    customerTable=\"customer\"\n",
    "    create_customerTablee_query = '''CREATE TABLE '''+ customerTable+''' \n",
    "              (id INT  PRIMARY KEY     NOT NULL,\n",
    "               name           TEXT    NOT NULL,\n",
    "               country        TEXT    NOT NULL,\n",
    "               email          TEXT   \n",
    "               ); '''\n",
    "\n",
    "    #Execute this command (SQL Query)\n",
    "    cursor.execute(create_customerTablee_query)\n",
    "    \n",
    "    # Make the changes to the database persistent\n",
    "    con.commit()\n",
    "    print(\"Table (\"+ customerTable +\") created successfully in PostgreSQL \")\n",
    "except (Exception, psycopg2.Error) as error:\n",
    "    # if it exits with an exception the transaction is rolled back.\n",
    "    con.rollback()\n",
    "    print(\"Error While Creating the DB: \",error)\n"
   ]
  },
  {
   "cell_type": "markdown",
   "metadata": {},
   "source": [
    "##### Make sure the table is created "
   ]
  },
  {
   "cell_type": "code",
   "execution_count": 24,
   "metadata": {},
   "outputs": [
    {
     "name": "stdout",
     "output_type": "stream",
     "text": [
      "('customer',)\n"
     ]
    }
   ],
   "source": [
    "# [information_schema.tables] keep listing of every table being managed by Postgres for a particular database.\n",
    "# specifying the tabel_schema to 'public' to only list tables that you create.\n",
    "cursor.execute(\"\"\"SELECT table_name \n",
    "                  FROM information_schema.tables \n",
    "                  WHERE table_schema = 'public'  \n",
    "               \"\"\")\n",
    "\n",
    "for table in cursor.fetchall():\n",
    "    print(table)"
   ]
  },
  {
   "cell_type": "markdown",
   "metadata": {},
   "source": [
    "#### You can also just check this from the <font color='red'>PSQL Shell</font> :\n",
    "- Use the command  <code>\\c  tartupurchases</code> to connect/swtich to the \"pruchases\" DB. \n",
    "- Use the command <code>\\dt</code> to show the tables inside the current DB (\"purchases\")."
   ]
  },
  {
   "cell_type": "markdown",
   "metadata": {},
   "source": [
    "- To get more familiar with PSQL SHELL commands, You can follow this link (https://www.postgresql.org/docs/current/app-psql.html)"
   ]
  },
  {
   "cell_type": "markdown",
   "metadata": {},
   "source": [
    "#### Upload your PSQL Shell Command Result of the created tables here as an a screenshot "
   ]
  },
  {
   "attachments": {
    "image.png": {
     "image/png": "[encoded data removed]"
    }
   },
   "cell_type": "markdown",
   "metadata": {},
   "source": [
    "##### <font color='red'>Image Here:</font>\n",
    "![image.png](attachment:image.png)"
   ]
  },
  {
   "cell_type": "markdown",
   "metadata": {},
   "source": [
    "#### Show the details(description of the created table \"customer\")\n",
    "- use the command <code>\\d customer</code>"
   ]
  },
  {
   "cell_type": "markdown",
   "metadata": {},
   "source": [
    "#### Upload your PSQL Shell Command Result of the decription of the customer table here:"
   ]
  },
  {
   "attachments": {
    "image-2.png": {
     "image/png": "[encoded data removed]"
    }
   },
   "cell_type": "markdown",
   "metadata": {},
   "source": [
    "##### <font color='red'>Image Here:</font>\n",
    "![image.png](attachment:image-2.png)"
   ]
  },
  {
   "cell_type": "markdown",
   "metadata": {},
   "source": [
    "### (Let's Load some data to the table) Inserting Multiple Rows to the Table"
   ]
  },
  {
   "cell_type": "code",
   "execution_count": 25,
   "metadata": {},
   "outputs": [
    {
     "name": "stdout",
     "output_type": "stream",
     "text": [
      "5 Record inserted successfully into customers table\n"
     ]
    }
   ],
   "source": [
    "sql_insert_customers = \"INSERT INTO customer (id,name,country,email) VALUES(%s,%s,%s,%s)\"\n",
    "\n",
    "#list of customers (With Their attributes values)\n",
    "#None here means value will be missing in the table\n",
    "customer_List=[\n",
    "            (1, \"Mohamed Ragab\", \"Egypt\", \"mohamed.ragb@ut.ee\"),\n",
    "            (2,\"John Smith\", \"Finland\",\"j.smith@hotmail.com\"),\n",
    "            (3,\"Aisha Kareem\",\"India\",None),\n",
    "            (4,\"Jean Lime\",\"Canda\",\"jeanlime@gmail.com\"),\n",
    "            (5,\"Hassan Eldeeb\",\"Egypt\",None)]\n",
    "\n",
    "try:\n",
    "    # execute the INSERT statement\n",
    "    cursor.executemany(sql_insert_customers,customer_List)\n",
    "    # commit the changes to the database\n",
    "    con.commit()\n",
    "    #the number of inserted rows/tuples\n",
    "    count = cursor.rowcount\n",
    "    print (count, \"Record inserted successfully into customers table\")\n",
    "\n",
    "except (Exception, psycopg2.Error) as error :\n",
    "    con.rollback()\n",
    "    print (\"Error while Inserting the data to the table, Details: \",error)"
   ]
  },
  {
   "cell_type": "markdown",
   "metadata": {},
   "source": [
    "## Mock Data Generation\n",
    "- If you want to generate more mock data, you can use this website (***\"Mockaroo\"***) (https://www.mockaroo.com/).\n",
    "- \"Mockaroo\" lets you generate up to 1,000 rows of realistic test data in CSV, JSON, SQL, and Excel formats.\n",
    "<img src='https://www.qlikfix.com/wp-content/uploads/2014/03/Mockaroo.png'>"
   ]
  },
  {
   "cell_type": "markdown",
   "metadata": {},
   "source": [
    "## Querying Table Data"
   ]
  },
  {
   "cell_type": "markdown",
   "metadata": {},
   "source": [
    "#### Get all the Customers in the DB"
   ]
  },
  {
   "cell_type": "code",
   "execution_count": 26,
   "metadata": {},
   "outputs": [
    {
     "name": "stdout",
     "output_type": "stream",
     "text": [
      "Print each row and it's columns values:\n",
      "\n",
      "Id =  1\n",
      "Name =  Mohamed Ragab\n",
      "Country =  Egypt\n",
      "Email =  mohamed.ragb@ut.ee \n",
      "\n",
      "Id =  2\n",
      "Name =  John Smith\n",
      "Country =  Finland\n",
      "Email =  j.smith@hotmail.com \n",
      "\n",
      "Id =  3\n",
      "Name =  Aisha Kareem\n",
      "Country =  India\n",
      "Email =  None \n",
      "\n",
      "Id =  4\n",
      "Name =  Jean Lime\n",
      "Country =  Canda\n",
      "Email =  jeanlime@gmail.com \n",
      "\n",
      "Id =  5\n",
      "Name =  Hassan Eldeeb\n",
      "Country =  Egypt\n",
      "Email =  None \n",
      "\n"
     ]
    }
   ],
   "source": [
    "sql_select_query = \"\"\" Select * from customer  \"\"\"\n",
    "\n",
    "try:\n",
    "    \n",
    "    cursor.execute(sql_select_query, (1,))\n",
    "    person_records = cursor.fetchall() \n",
    "    print(\"Print each row and it's columns values:\\n\")\n",
    "    for row in person_records:\n",
    "        print(\"Id = \", row[0], )\n",
    "        print(\"Name = \", row[1], )\n",
    "        print(\"Country = \", row[2], )\n",
    "        print(\"Email = \", row[3], \"\\n\")\n",
    "except(Exception, psycopg2.Error) as error :\n",
    "    con.rollback()\n",
    "    print(\"Error:\", error)"
   ]
  },
  {
   "cell_type": "markdown",
   "metadata": {},
   "source": [
    "#### Notes about the Rows Fetching (Retrieval) From tables in PostgreSQL: \n",
    "- In the above example, we used **cursor.fetchall()** to get all the rows of a database table.\n",
    "    -    **cursor.fetchall()** to fetch all rows.\n",
    "    -    **cursor.fetchone()** to fetch single row.\n",
    "    -    **cursor.fetchmany(SIZE)** to fetch limited rows."
   ]
  },
  {
   "cell_type": "markdown",
   "metadata": {},
   "source": [
    "#### You can use \"Pandas\" library to print the result in tabular format"
   ]
  },
  {
   "cell_type": "code",
   "execution_count": 27,
   "metadata": {},
   "outputs": [
    {
     "data": {
      "text/html": [
       "<style  type=\"text/css\" >\n",
       "</style><table id=\"T_1b816_\" ><thead>    <tr>        <th class=\"col_heading level0 col0\" >id</th>        <th class=\"col_heading level0 col1\" >name</th>        <th class=\"col_heading level0 col2\" >country</th>        <th class=\"col_heading level0 col3\" >email</th>    </tr></thead><tbody>\n",
       "                <tr>\n",
       "                                <td id=\"T_1b816_row0_col0\" class=\"data row0 col0\" >1</td>\n",
       "                        <td id=\"T_1b816_row0_col1\" class=\"data row0 col1\" >Mohamed Ragab</td>\n",
       "                        <td id=\"T_1b816_row0_col2\" class=\"data row0 col2\" >Egypt</td>\n",
       "                        <td id=\"T_1b816_row0_col3\" class=\"data row0 col3\" >mohamed.ragb@ut.ee</td>\n",
       "            </tr>\n",
       "            <tr>\n",
       "                                <td id=\"T_1b816_row1_col0\" class=\"data row1 col0\" >2</td>\n",
       "                        <td id=\"T_1b816_row1_col1\" class=\"data row1 col1\" >John Smith</td>\n",
       "                        <td id=\"T_1b816_row1_col2\" class=\"data row1 col2\" >Finland</td>\n",
       "                        <td id=\"T_1b816_row1_col3\" class=\"data row1 col3\" >j.smith@hotmail.com</td>\n",
       "            </tr>\n",
       "            <tr>\n",
       "                                <td id=\"T_1b816_row2_col0\" class=\"data row2 col0\" >3</td>\n",
       "                        <td id=\"T_1b816_row2_col1\" class=\"data row2 col1\" >Aisha Kareem</td>\n",
       "                        <td id=\"T_1b816_row2_col2\" class=\"data row2 col2\" >India</td>\n",
       "                        <td id=\"T_1b816_row2_col3\" class=\"data row2 col3\" >None</td>\n",
       "            </tr>\n",
       "            <tr>\n",
       "                                <td id=\"T_1b816_row3_col0\" class=\"data row3 col0\" >4</td>\n",
       "                        <td id=\"T_1b816_row3_col1\" class=\"data row3 col1\" >Jean Lime</td>\n",
       "                        <td id=\"T_1b816_row3_col2\" class=\"data row3 col2\" >Canda</td>\n",
       "                        <td id=\"T_1b816_row3_col3\" class=\"data row3 col3\" >jeanlime@gmail.com</td>\n",
       "            </tr>\n",
       "            <tr>\n",
       "                                <td id=\"T_1b816_row4_col0\" class=\"data row4 col0\" >5</td>\n",
       "                        <td id=\"T_1b816_row4_col1\" class=\"data row4 col1\" >Hassan Eldeeb</td>\n",
       "                        <td id=\"T_1b816_row4_col2\" class=\"data row4 col2\" >Egypt</td>\n",
       "                        <td id=\"T_1b816_row4_col3\" class=\"data row4 col3\" >None</td>\n",
       "            </tr>\n",
       "    </tbody></table>"
      ],
      "text/plain": [
       "<pandas.io.formats.style.Styler at 0x293684f1d60>"
      ]
     },
     "metadata": {},
     "output_type": "display_data"
    }
   ],
   "source": [
    "#use Pandas to print the result in tabular form\n",
    "# Don't RUN before you put your SQL Query\n",
    "my_table = pd.read_sql(' Select * from customer ', con)\n",
    "display(my_table.style.hide_index())"
   ]
  },
  {
   "cell_type": "code",
   "execution_count": 28,
   "metadata": {},
   "outputs": [
    {
     "data": {
      "text/html": [
       "<style  type=\"text/css\" >\n",
       "</style><table id=\"T_143fa_\" ><thead>    <tr>        <th class=\"col_heading level0 col0\" >id</th>        <th class=\"col_heading level0 col1\" >name</th>        <th class=\"col_heading level0 col2\" >country</th>        <th class=\"col_heading level0 col3\" >email</th>    </tr></thead><tbody>\n",
       "                <tr>\n",
       "                                <td id=\"T_143fa_row0_col0\" class=\"data row0 col0\" >1</td>\n",
       "                        <td id=\"T_143fa_row0_col1\" class=\"data row0 col1\" >Mohamed Ragab</td>\n",
       "                        <td id=\"T_143fa_row0_col2\" class=\"data row0 col2\" >Egypt</td>\n",
       "                        <td id=\"T_143fa_row0_col3\" class=\"data row0 col3\" >mohamed.ragb@ut.ee</td>\n",
       "            </tr>\n",
       "            <tr>\n",
       "                                <td id=\"T_143fa_row1_col0\" class=\"data row1 col0\" >2</td>\n",
       "                        <td id=\"T_143fa_row1_col1\" class=\"data row1 col1\" >John Smith</td>\n",
       "                        <td id=\"T_143fa_row1_col2\" class=\"data row1 col2\" >Finland</td>\n",
       "                        <td id=\"T_143fa_row1_col3\" class=\"data row1 col3\" >j.smith@hotmail.com</td>\n",
       "            </tr>\n",
       "            <tr>\n",
       "                                <td id=\"T_143fa_row2_col0\" class=\"data row2 col0\" >3</td>\n",
       "                        <td id=\"T_143fa_row2_col1\" class=\"data row2 col1\" >Aisha Kareem</td>\n",
       "                        <td id=\"T_143fa_row2_col2\" class=\"data row2 col2\" >India</td>\n",
       "                        <td id=\"T_143fa_row2_col3\" class=\"data row2 col3\" >None</td>\n",
       "            </tr>\n",
       "            <tr>\n",
       "                                <td id=\"T_143fa_row3_col0\" class=\"data row3 col0\" >4</td>\n",
       "                        <td id=\"T_143fa_row3_col1\" class=\"data row3 col1\" >Jean Lime</td>\n",
       "                        <td id=\"T_143fa_row3_col2\" class=\"data row3 col2\" >Canda</td>\n",
       "                        <td id=\"T_143fa_row3_col3\" class=\"data row3 col3\" >jeanlime@gmail.com</td>\n",
       "            </tr>\n",
       "            <tr>\n",
       "                                <td id=\"T_143fa_row4_col0\" class=\"data row4 col0\" >5</td>\n",
       "                        <td id=\"T_143fa_row4_col1\" class=\"data row4 col1\" >Hassan Eldeeb</td>\n",
       "                        <td id=\"T_143fa_row4_col2\" class=\"data row4 col2\" >Egypt</td>\n",
       "                        <td id=\"T_143fa_row4_col3\" class=\"data row4 col3\" >None</td>\n",
       "            </tr>\n",
       "    </tbody></table>"
      ],
      "text/plain": [
       "<pandas.io.formats.style.Styler at 0x293693e2cd0>"
      ]
     },
     "metadata": {},
     "output_type": "display_data"
    }
   ],
   "source": [
    "#OR using this code\n",
    "# Don't RUN before you put your SQL Query\n",
    "another_attempt= psql.read_sql(\" Select * from customer \", con)\n",
    "display(another_attempt.style.hide_index())"
   ]
  },
  {
   "cell_type": "markdown",
   "metadata": {},
   "source": [
    "#### Get only the <font color='red'>names</font>  and <font color='red'>countries</font> of all the Customers in the DB [Projection]"
   ]
  },
  {
   "cell_type": "code",
   "execution_count": 29,
   "metadata": {},
   "outputs": [
    {
     "data": {
      "text/html": [
       "<style  type=\"text/css\" >\n",
       "</style><table id=\"T_f2976_\" ><thead>    <tr>        <th class=\"col_heading level0 col0\" >name</th>        <th class=\"col_heading level0 col1\" >country</th>    </tr></thead><tbody>\n",
       "                <tr>\n",
       "                                <td id=\"T_f2976_row0_col0\" class=\"data row0 col0\" >Mohamed Ragab</td>\n",
       "                        <td id=\"T_f2976_row0_col1\" class=\"data row0 col1\" >Egypt</td>\n",
       "            </tr>\n",
       "            <tr>\n",
       "                                <td id=\"T_f2976_row1_col0\" class=\"data row1 col0\" >John Smith</td>\n",
       "                        <td id=\"T_f2976_row1_col1\" class=\"data row1 col1\" >Finland</td>\n",
       "            </tr>\n",
       "            <tr>\n",
       "                                <td id=\"T_f2976_row2_col0\" class=\"data row2 col0\" >Aisha Kareem</td>\n",
       "                        <td id=\"T_f2976_row2_col1\" class=\"data row2 col1\" >India</td>\n",
       "            </tr>\n",
       "            <tr>\n",
       "                                <td id=\"T_f2976_row3_col0\" class=\"data row3 col0\" >Jean Lime</td>\n",
       "                        <td id=\"T_f2976_row3_col1\" class=\"data row3 col1\" >Canda</td>\n",
       "            </tr>\n",
       "            <tr>\n",
       "                                <td id=\"T_f2976_row4_col0\" class=\"data row4 col0\" >Hassan Eldeeb</td>\n",
       "                        <td id=\"T_f2976_row4_col1\" class=\"data row4 col1\" >Egypt</td>\n",
       "            </tr>\n",
       "    </tbody></table>"
      ],
      "text/plain": [
       "<pandas.io.formats.style.Styler at 0x29369415f70>"
      ]
     },
     "metadata": {},
     "output_type": "display_data"
    }
   ],
   "source": [
    "# Don't RUN before you put your SQL Query\n",
    "sql_project_query = \"\"\" Select name, country From customer \"\"\"\n",
    "\n",
    "projected_DF= psql.read_sql(sql_project_query, con)\n",
    "display(projected_DF.style.hide_index())"
   ]
  },
  {
   "cell_type": "markdown",
   "metadata": {},
   "source": [
    "## Sorting the Results\n",
    "\n",
    "#### Get All Customers , sorted by country Ascednding"
   ]
  },
  {
   "cell_type": "code",
   "execution_count": 30,
   "metadata": {},
   "outputs": [
    {
     "data": {
      "text/html": [
       "<style  type=\"text/css\" >\n",
       "</style><table id=\"T_a4860_\" ><thead>    <tr>        <th class=\"col_heading level0 col0\" >id</th>        <th class=\"col_heading level0 col1\" >name</th>        <th class=\"col_heading level0 col2\" >country</th>        <th class=\"col_heading level0 col3\" >email</th>    </tr></thead><tbody>\n",
       "                <tr>\n",
       "                                <td id=\"T_a4860_row0_col0\" class=\"data row0 col0\" >4</td>\n",
       "                        <td id=\"T_a4860_row0_col1\" class=\"data row0 col1\" >Jean Lime</td>\n",
       "                        <td id=\"T_a4860_row0_col2\" class=\"data row0 col2\" >Canda</td>\n",
       "                        <td id=\"T_a4860_row0_col3\" class=\"data row0 col3\" >jeanlime@gmail.com</td>\n",
       "            </tr>\n",
       "            <tr>\n",
       "                                <td id=\"T_a4860_row1_col0\" class=\"data row1 col0\" >1</td>\n",
       "                        <td id=\"T_a4860_row1_col1\" class=\"data row1 col1\" >Mohamed Ragab</td>\n",
       "                        <td id=\"T_a4860_row1_col2\" class=\"data row1 col2\" >Egypt</td>\n",
       "                        <td id=\"T_a4860_row1_col3\" class=\"data row1 col3\" >mohamed.ragb@ut.ee</td>\n",
       "            </tr>\n",
       "            <tr>\n",
       "                                <td id=\"T_a4860_row2_col0\" class=\"data row2 col0\" >5</td>\n",
       "                        <td id=\"T_a4860_row2_col1\" class=\"data row2 col1\" >Hassan Eldeeb</td>\n",
       "                        <td id=\"T_a4860_row2_col2\" class=\"data row2 col2\" >Egypt</td>\n",
       "                        <td id=\"T_a4860_row2_col3\" class=\"data row2 col3\" >None</td>\n",
       "            </tr>\n",
       "            <tr>\n",
       "                                <td id=\"T_a4860_row3_col0\" class=\"data row3 col0\" >2</td>\n",
       "                        <td id=\"T_a4860_row3_col1\" class=\"data row3 col1\" >John Smith</td>\n",
       "                        <td id=\"T_a4860_row3_col2\" class=\"data row3 col2\" >Finland</td>\n",
       "                        <td id=\"T_a4860_row3_col3\" class=\"data row3 col3\" >j.smith@hotmail.com</td>\n",
       "            </tr>\n",
       "            <tr>\n",
       "                                <td id=\"T_a4860_row4_col0\" class=\"data row4 col0\" >3</td>\n",
       "                        <td id=\"T_a4860_row4_col1\" class=\"data row4 col1\" >Aisha Kareem</td>\n",
       "                        <td id=\"T_a4860_row4_col2\" class=\"data row4 col2\" >India</td>\n",
       "                        <td id=\"T_a4860_row4_col3\" class=\"data row4 col3\" >None</td>\n",
       "            </tr>\n",
       "    </tbody></table>"
      ],
      "text/plain": [
       "<pandas.io.formats.style.Styler at 0x29369415730>"
      ]
     },
     "metadata": {},
     "output_type": "display_data"
    }
   ],
   "source": [
    "ord_customers_by_country= psql.read_sql(\"SELECT * FROM customer ORDER BY country ASC\", con)\n",
    "display(ord_customers_by_country.style.hide_index())"
   ]
  },
  {
   "cell_type": "markdown",
   "metadata": {},
   "source": [
    "- **Note**: By Default Sorting in SQL is Ascending order!"
   ]
  },
  {
   "cell_type": "markdown",
   "metadata": {},
   "source": [
    "#### Get All Customers , sorted by names Descednding"
   ]
  },
  {
   "cell_type": "code",
   "execution_count": 31,
   "metadata": {},
   "outputs": [
    {
     "data": {
      "text/html": [
       "<style  type=\"text/css\" >\n",
       "</style><table id=\"T_af4a4_\" ><thead>    <tr>        <th class=\"col_heading level0 col0\" >id</th>        <th class=\"col_heading level0 col1\" >name</th>        <th class=\"col_heading level0 col2\" >country</th>        <th class=\"col_heading level0 col3\" >email</th>    </tr></thead><tbody>\n",
       "                <tr>\n",
       "                                <td id=\"T_af4a4_row0_col0\" class=\"data row0 col0\" >1</td>\n",
       "                        <td id=\"T_af4a4_row0_col1\" class=\"data row0 col1\" >Mohamed Ragab</td>\n",
       "                        <td id=\"T_af4a4_row0_col2\" class=\"data row0 col2\" >Egypt</td>\n",
       "                        <td id=\"T_af4a4_row0_col3\" class=\"data row0 col3\" >mohamed.ragb@ut.ee</td>\n",
       "            </tr>\n",
       "            <tr>\n",
       "                                <td id=\"T_af4a4_row1_col0\" class=\"data row1 col0\" >2</td>\n",
       "                        <td id=\"T_af4a4_row1_col1\" class=\"data row1 col1\" >John Smith</td>\n",
       "                        <td id=\"T_af4a4_row1_col2\" class=\"data row1 col2\" >Finland</td>\n",
       "                        <td id=\"T_af4a4_row1_col3\" class=\"data row1 col3\" >j.smith@hotmail.com</td>\n",
       "            </tr>\n",
       "            <tr>\n",
       "                                <td id=\"T_af4a4_row2_col0\" class=\"data row2 col0\" >4</td>\n",
       "                        <td id=\"T_af4a4_row2_col1\" class=\"data row2 col1\" >Jean Lime</td>\n",
       "                        <td id=\"T_af4a4_row2_col2\" class=\"data row2 col2\" >Canda</td>\n",
       "                        <td id=\"T_af4a4_row2_col3\" class=\"data row2 col3\" >jeanlime@gmail.com</td>\n",
       "            </tr>\n",
       "            <tr>\n",
       "                                <td id=\"T_af4a4_row3_col0\" class=\"data row3 col0\" >5</td>\n",
       "                        <td id=\"T_af4a4_row3_col1\" class=\"data row3 col1\" >Hassan Eldeeb</td>\n",
       "                        <td id=\"T_af4a4_row3_col2\" class=\"data row3 col2\" >Egypt</td>\n",
       "                        <td id=\"T_af4a4_row3_col3\" class=\"data row3 col3\" >None</td>\n",
       "            </tr>\n",
       "            <tr>\n",
       "                                <td id=\"T_af4a4_row4_col0\" class=\"data row4 col0\" >3</td>\n",
       "                        <td id=\"T_af4a4_row4_col1\" class=\"data row4 col1\" >Aisha Kareem</td>\n",
       "                        <td id=\"T_af4a4_row4_col2\" class=\"data row4 col2\" >India</td>\n",
       "                        <td id=\"T_af4a4_row4_col3\" class=\"data row4 col3\" >None</td>\n",
       "            </tr>\n",
       "    </tbody></table>"
      ],
      "text/plain": [
       "<pandas.io.formats.style.Styler at 0x29369415f10>"
      ]
     },
     "metadata": {},
     "output_type": "display_data"
    }
   ],
   "source": [
    "# Don't RUN before you put your SQL Query\n",
    "ord_customers_by_name= psql.read_sql(\" SELECT * FROM customer ORDER BY name Desc \", con)\n",
    "display(ord_customers_by_name.style.hide_index())"
   ]
  },
  {
   "cell_type": "markdown",
   "metadata": {},
   "source": [
    "#### Get Distinct Countries of customers From Customer table "
   ]
  },
  {
   "cell_type": "code",
   "execution_count": 32,
   "metadata": {},
   "outputs": [
    {
     "data": {
      "text/html": [
       "<style  type=\"text/css\" >\n",
       "</style><table id=\"T_9cd49_\" ><thead>    <tr>        <th class=\"col_heading level0 col0\" >country</th>    </tr></thead><tbody>\n",
       "                <tr>\n",
       "                                <td id=\"T_9cd49_row0_col0\" class=\"data row0 col0\" >Finland</td>\n",
       "            </tr>\n",
       "            <tr>\n",
       "                                <td id=\"T_9cd49_row1_col0\" class=\"data row1 col0\" >Egypt</td>\n",
       "            </tr>\n",
       "            <tr>\n",
       "                                <td id=\"T_9cd49_row2_col0\" class=\"data row2 col0\" >India</td>\n",
       "            </tr>\n",
       "            <tr>\n",
       "                                <td id=\"T_9cd49_row3_col0\" class=\"data row3 col0\" >Canda</td>\n",
       "            </tr>\n",
       "    </tbody></table>"
      ],
      "text/plain": [
       "<pandas.io.formats.style.Styler at 0x2936941b610>"
      ]
     },
     "metadata": {},
     "output_type": "display_data"
    }
   ],
   "source": [
    "# Don't RUN before you put your SQL Query\n",
    "distinctCountries= psql.read_sql(\" Select Distinct country from customer \", con)\n",
    "display(distinctCountries.style.hide_index())"
   ]
  },
  {
   "cell_type": "markdown",
   "metadata": {},
   "source": [
    "### Filtering the Results (Use the WHERE & AND)"
   ]
  },
  {
   "cell_type": "markdown",
   "metadata": {},
   "source": [
    "#### Get only the customers who have emails (filter out who don't have)"
   ]
  },
  {
   "cell_type": "code",
   "execution_count": 33,
   "metadata": {},
   "outputs": [
    {
     "data": {
      "text/html": [
       "<style  type=\"text/css\" >\n",
       "</style><table id=\"T_7ef4e_\" ><thead>    <tr>        <th class=\"col_heading level0 col0\" >id</th>        <th class=\"col_heading level0 col1\" >name</th>        <th class=\"col_heading level0 col2\" >country</th>        <th class=\"col_heading level0 col3\" >email</th>    </tr></thead><tbody>\n",
       "                <tr>\n",
       "                                <td id=\"T_7ef4e_row0_col0\" class=\"data row0 col0\" >1</td>\n",
       "                        <td id=\"T_7ef4e_row0_col1\" class=\"data row0 col1\" >Mohamed Ragab</td>\n",
       "                        <td id=\"T_7ef4e_row0_col2\" class=\"data row0 col2\" >Egypt</td>\n",
       "                        <td id=\"T_7ef4e_row0_col3\" class=\"data row0 col3\" >mohamed.ragb@ut.ee</td>\n",
       "            </tr>\n",
       "            <tr>\n",
       "                                <td id=\"T_7ef4e_row1_col0\" class=\"data row1 col0\" >2</td>\n",
       "                        <td id=\"T_7ef4e_row1_col1\" class=\"data row1 col1\" >John Smith</td>\n",
       "                        <td id=\"T_7ef4e_row1_col2\" class=\"data row1 col2\" >Finland</td>\n",
       "                        <td id=\"T_7ef4e_row1_col3\" class=\"data row1 col3\" >j.smith@hotmail.com</td>\n",
       "            </tr>\n",
       "            <tr>\n",
       "                                <td id=\"T_7ef4e_row2_col0\" class=\"data row2 col0\" >4</td>\n",
       "                        <td id=\"T_7ef4e_row2_col1\" class=\"data row2 col1\" >Jean Lime</td>\n",
       "                        <td id=\"T_7ef4e_row2_col2\" class=\"data row2 col2\" >Canda</td>\n",
       "                        <td id=\"T_7ef4e_row2_col3\" class=\"data row2 col3\" >jeanlime@gmail.com</td>\n",
       "            </tr>\n",
       "    </tbody></table>"
      ],
      "text/plain": [
       "<pandas.io.formats.style.Styler at 0x2936941be50>"
      ]
     },
     "metadata": {},
     "output_type": "display_data"
    }
   ],
   "source": [
    "customersWithEmails= psql.read_sql(\"SELECT * FROM customer WHERE email != ''  \", con)\n",
    "display(customersWithEmails.style.hide_index())"
   ]
  },
  {
   "cell_type": "markdown",
   "metadata": {},
   "source": [
    "#### Get customers who live in \"Egypt\""
   ]
  },
  {
   "cell_type": "code",
   "execution_count": 34,
   "metadata": {},
   "outputs": [
    {
     "data": {
      "text/html": [
       "<style  type=\"text/css\" >\n",
       "</style><table id=\"T_58818_\" ><thead>    <tr>        <th class=\"col_heading level0 col0\" >name</th>    </tr></thead><tbody>\n",
       "                <tr>\n",
       "                                <td id=\"T_58818_row0_col0\" class=\"data row0 col0\" >Mohamed Ragab</td>\n",
       "            </tr>\n",
       "            <tr>\n",
       "                                <td id=\"T_58818_row1_col0\" class=\"data row1 col0\" >Hassan Eldeeb</td>\n",
       "            </tr>\n",
       "    </tbody></table>"
      ],
      "text/plain": [
       "<pandas.io.formats.style.Styler at 0x293684f1fd0>"
      ]
     },
     "metadata": {},
     "output_type": "display_data"
    }
   ],
   "source": [
    "# Don't RUN before you put your SQL Query\n",
    "theEgyptian= psql.read_sql(\"Select name From customer Where country = 'Egypt' \", con)\n",
    "display(theEgyptian.style.hide_index())"
   ]
  },
  {
   "cell_type": "markdown",
   "metadata": {},
   "source": [
    "#### Get customers who are from Egypt and already have emails"
   ]
  },
  {
   "cell_type": "code",
   "execution_count": 35,
   "metadata": {},
   "outputs": [
    {
     "data": {
      "text/html": [
       "<style  type=\"text/css\" >\n",
       "</style><table id=\"T_53fcf_\" ><thead>    <tr>        <th class=\"col_heading level0 col0\" >name</th>    </tr></thead><tbody>\n",
       "                <tr>\n",
       "                                <td id=\"T_53fcf_row0_col0\" class=\"data row0 col0\" >Mohamed Ragab</td>\n",
       "            </tr>\n",
       "    </tbody></table>"
      ],
      "text/plain": [
       "<pandas.io.formats.style.Styler at 0x293694213a0>"
      ]
     },
     "metadata": {},
     "output_type": "display_data"
    }
   ],
   "source": [
    "# Don't RUN before you put your SQL Query\n",
    "theEgyptianWithEmail= psql.read_sql(\"Select name From customer Where country = 'Egypt' and email is not null \", con)\n",
    "display(theEgyptianWithEmail.style.hide_index())"
   ]
  },
  {
   "cell_type": "markdown",
   "metadata": {},
   "source": [
    "#### Get customers who's name starts with Letter \"J\""
   ]
  },
  {
   "cell_type": "code",
   "execution_count": 36,
   "metadata": {},
   "outputs": [
    {
     "data": {
      "text/html": [
       "<style  type=\"text/css\" >\n",
       "</style><table id=\"T_05cf6_\" ><thead>    <tr>        <th class=\"col_heading level0 col0\" >id</th>        <th class=\"col_heading level0 col1\" >name</th>        <th class=\"col_heading level0 col2\" >country</th>        <th class=\"col_heading level0 col3\" >email</th>    </tr></thead><tbody>\n",
       "                <tr>\n",
       "                                <td id=\"T_05cf6_row0_col0\" class=\"data row0 col0\" >2</td>\n",
       "                        <td id=\"T_05cf6_row0_col1\" class=\"data row0 col1\" >John Smith</td>\n",
       "                        <td id=\"T_05cf6_row0_col2\" class=\"data row0 col2\" >Finland</td>\n",
       "                        <td id=\"T_05cf6_row0_col3\" class=\"data row0 col3\" >j.smith@hotmail.com</td>\n",
       "            </tr>\n",
       "            <tr>\n",
       "                                <td id=\"T_05cf6_row1_col0\" class=\"data row1 col0\" >4</td>\n",
       "                        <td id=\"T_05cf6_row1_col1\" class=\"data row1 col1\" >Jean Lime</td>\n",
       "                        <td id=\"T_05cf6_row1_col2\" class=\"data row1 col2\" >Canda</td>\n",
       "                        <td id=\"T_05cf6_row1_col3\" class=\"data row1 col3\" >jeanlime@gmail.com</td>\n",
       "            </tr>\n",
       "    </tbody></table>"
      ],
      "text/plain": [
       "<pandas.io.formats.style.Styler at 0x29369421400>"
      ]
     },
     "metadata": {},
     "output_type": "display_data"
    }
   ],
   "source": [
    "J_Customers= psql.read_sql(\"SELECT * FROM customer WHERE name LIKE 'J%' \", con)\n",
    "display(J_Customers.style.hide_index())"
   ]
  },
  {
   "cell_type": "markdown",
   "metadata": {},
   "source": [
    "### Pagination  in SQL, using \"LIMT\" and \"OFFSET\""
   ]
  },
  {
   "cell_type": "markdown",
   "metadata": {},
   "source": [
    "#### Get only the first 3 Customers from the customers table"
   ]
  },
  {
   "cell_type": "code",
   "execution_count": 37,
   "metadata": {},
   "outputs": [
    {
     "data": {
      "text/html": [
       "<style  type=\"text/css\" >\n",
       "</style><table id=\"T_57c40_\" ><thead>    <tr>        <th class=\"col_heading level0 col0\" >id</th>        <th class=\"col_heading level0 col1\" >name</th>        <th class=\"col_heading level0 col2\" >country</th>        <th class=\"col_heading level0 col3\" >email</th>    </tr></thead><tbody>\n",
       "                <tr>\n",
       "                                <td id=\"T_57c40_row0_col0\" class=\"data row0 col0\" >1</td>\n",
       "                        <td id=\"T_57c40_row0_col1\" class=\"data row0 col1\" >Mohamed Ragab</td>\n",
       "                        <td id=\"T_57c40_row0_col2\" class=\"data row0 col2\" >Egypt</td>\n",
       "                        <td id=\"T_57c40_row0_col3\" class=\"data row0 col3\" >mohamed.ragb@ut.ee</td>\n",
       "            </tr>\n",
       "            <tr>\n",
       "                                <td id=\"T_57c40_row1_col0\" class=\"data row1 col0\" >2</td>\n",
       "                        <td id=\"T_57c40_row1_col1\" class=\"data row1 col1\" >John Smith</td>\n",
       "                        <td id=\"T_57c40_row1_col2\" class=\"data row1 col2\" >Finland</td>\n",
       "                        <td id=\"T_57c40_row1_col3\" class=\"data row1 col3\" >j.smith@hotmail.com</td>\n",
       "            </tr>\n",
       "            <tr>\n",
       "                                <td id=\"T_57c40_row2_col0\" class=\"data row2 col0\" >3</td>\n",
       "                        <td id=\"T_57c40_row2_col1\" class=\"data row2 col1\" >Aisha Kareem</td>\n",
       "                        <td id=\"T_57c40_row2_col2\" class=\"data row2 col2\" >India</td>\n",
       "                        <td id=\"T_57c40_row2_col3\" class=\"data row2 col3\" >None</td>\n",
       "            </tr>\n",
       "    </tbody></table>"
      ],
      "text/plain": [
       "<pandas.io.formats.style.Styler at 0x29369421730>"
      ]
     },
     "metadata": {},
     "output_type": "display_data"
    }
   ],
   "source": [
    "first_3_Customers= psql.read_sql(\"SELECT * FROM customer LIMIT 3 \", con)\n",
    "display(first_3_Customers.style.hide_index())"
   ]
  },
  {
   "cell_type": "markdown",
   "metadata": {},
   "source": [
    "#### skipt the First 3 Customers and get the next 3 customers"
   ]
  },
  {
   "cell_type": "code",
   "execution_count": 38,
   "metadata": {},
   "outputs": [
    {
     "data": {
      "text/html": [
       "<style  type=\"text/css\" >\n",
       "</style><table id=\"T_5641d_\" ><thead>    <tr>        <th class=\"col_heading level0 col0\" >id</th>        <th class=\"col_heading level0 col1\" >name</th>        <th class=\"col_heading level0 col2\" >country</th>        <th class=\"col_heading level0 col3\" >email</th>    </tr></thead><tbody>\n",
       "                <tr>\n",
       "                                <td id=\"T_5641d_row0_col0\" class=\"data row0 col0\" >4</td>\n",
       "                        <td id=\"T_5641d_row0_col1\" class=\"data row0 col1\" >Jean Lime</td>\n",
       "                        <td id=\"T_5641d_row0_col2\" class=\"data row0 col2\" >Canda</td>\n",
       "                        <td id=\"T_5641d_row0_col3\" class=\"data row0 col3\" >jeanlime@gmail.com</td>\n",
       "            </tr>\n",
       "            <tr>\n",
       "                                <td id=\"T_5641d_row1_col0\" class=\"data row1 col0\" >5</td>\n",
       "                        <td id=\"T_5641d_row1_col1\" class=\"data row1 col1\" >Hassan Eldeeb</td>\n",
       "                        <td id=\"T_5641d_row1_col2\" class=\"data row1 col2\" >Egypt</td>\n",
       "                        <td id=\"T_5641d_row1_col3\" class=\"data row1 col3\" >None</td>\n",
       "            </tr>\n",
       "    </tbody></table>"
      ],
      "text/plain": [
       "<pandas.io.formats.style.Styler at 0x2936944f040>"
      ]
     },
     "metadata": {},
     "output_type": "display_data"
    }
   ],
   "source": [
    "next_3_Customers= psql.read_sql(\"SELECT * FROM customer OFFSET 3 LIMIT 3 \", con)\n",
    "display(next_3_Customers.style.hide_index())"
   ]
  },
  {
   "cell_type": "markdown",
   "metadata": {},
   "source": [
    "#### Try another way to ge the same result of the previous cell\n",
    "- **Hint** : use OFFSET with FETCH FIRST"
   ]
  },
  {
   "cell_type": "code",
   "execution_count": 39,
   "metadata": {},
   "outputs": [
    {
     "data": {
      "text/html": [
       "<style  type=\"text/css\" >\n",
       "</style><table id=\"T_0b09f_\" ><thead>    <tr>        <th class=\"col_heading level0 col0\" >id</th>        <th class=\"col_heading level0 col1\" >name</th>        <th class=\"col_heading level0 col2\" >country</th>        <th class=\"col_heading level0 col3\" >email</th>    </tr></thead><tbody>\n",
       "                <tr>\n",
       "                                <td id=\"T_0b09f_row0_col0\" class=\"data row0 col0\" >4</td>\n",
       "                        <td id=\"T_0b09f_row0_col1\" class=\"data row0 col1\" >Jean Lime</td>\n",
       "                        <td id=\"T_0b09f_row0_col2\" class=\"data row0 col2\" >Canda</td>\n",
       "                        <td id=\"T_0b09f_row0_col3\" class=\"data row0 col3\" >jeanlime@gmail.com</td>\n",
       "            </tr>\n",
       "            <tr>\n",
       "                                <td id=\"T_0b09f_row1_col0\" class=\"data row1 col0\" >5</td>\n",
       "                        <td id=\"T_0b09f_row1_col1\" class=\"data row1 col1\" >Hassan Eldeeb</td>\n",
       "                        <td id=\"T_0b09f_row1_col2\" class=\"data row1 col2\" >Egypt</td>\n",
       "                        <td id=\"T_0b09f_row1_col3\" class=\"data row1 col3\" >None</td>\n",
       "            </tr>\n",
       "    </tbody></table>"
      ],
      "text/plain": [
       "<pandas.io.formats.style.Styler at 0x2936944f7f0>"
      ]
     },
     "metadata": {},
     "output_type": "display_data"
    }
   ],
   "source": [
    "#OR you can do the same using the following Query\n",
    "# Don't RUN before you put your SQL Query\n",
    "next_3_Customers= psql.read_sql(\"SELECT * FROM customer OFFSET 3 FETCH FIRST 3 ROWS ONLY\", con)\n",
    "display(next_3_Customers.style.hide_index())"
   ]
  },
  {
   "cell_type": "markdown",
   "metadata": {},
   "source": [
    "## Let's have some statiscs and aggregations (SQL GROUP BY & aggregation functions)\n",
    "\n",
    "- The GROUP BY statement groups rows that have the same values into summary rows.\n",
    "- The GROUP BY statement is often used with aggregate functions (COUNT, MAX, MIN, SUM, AVG) to group the result-set by one or more columns.\n"
   ]
  },
  {
   "cell_type": "markdown",
   "metadata": {},
   "source": [
    "#### Get the count of  customers in your DB"
   ]
  },
  {
   "cell_type": "code",
   "execution_count": 40,
   "metadata": {},
   "outputs": [
    {
     "data": {
      "text/html": [
       "<style  type=\"text/css\" >\n",
       "</style><table id=\"T_78e30_\" ><thead>    <tr>        <th class=\"col_heading level0 col0\" >numcustomer</th>    </tr></thead><tbody>\n",
       "                <tr>\n",
       "                                <td id=\"T_78e30_row0_col0\" class=\"data row0 col0\" >5</td>\n",
       "            </tr>\n",
       "    </tbody></table>"
      ],
      "text/plain": [
       "<pandas.io.formats.style.Styler at 0x2936944f130>"
      ]
     },
     "metadata": {},
     "output_type": "display_data"
    }
   ],
   "source": [
    "# Don't RUN before you put your SQL Query\n",
    "Customers_Cnt= psql.read_sql(\"Select count(*) as NumCustomer From customer\", con)\n",
    "display(Customers_Cnt.style.hide_index())"
   ]
  },
  {
   "cell_type": "markdown",
   "metadata": {},
   "source": [
    "#### Get the Distinct Countries and how many customers are in each country"
   ]
  },
  {
   "cell_type": "code",
   "execution_count": 41,
   "metadata": {},
   "outputs": [
    {
     "data": {
      "text/html": [
       "<style  type=\"text/css\" >\n",
       "</style><table id=\"T_4835b_\" ><thead>    <tr>        <th class=\"col_heading level0 col0\" >country</th>        <th class=\"col_heading level0 col1\" >count</th>    </tr></thead><tbody>\n",
       "                <tr>\n",
       "                                <td id=\"T_4835b_row0_col0\" class=\"data row0 col0\" >India</td>\n",
       "                        <td id=\"T_4835b_row0_col1\" class=\"data row0 col1\" >1</td>\n",
       "            </tr>\n",
       "            <tr>\n",
       "                                <td id=\"T_4835b_row1_col0\" class=\"data row1 col0\" >Canda</td>\n",
       "                        <td id=\"T_4835b_row1_col1\" class=\"data row1 col1\" >1</td>\n",
       "            </tr>\n",
       "            <tr>\n",
       "                                <td id=\"T_4835b_row2_col0\" class=\"data row2 col0\" >Finland</td>\n",
       "                        <td id=\"T_4835b_row2_col1\" class=\"data row2 col1\" >1</td>\n",
       "            </tr>\n",
       "            <tr>\n",
       "                                <td id=\"T_4835b_row3_col0\" class=\"data row3 col0\" >Egypt</td>\n",
       "                        <td id=\"T_4835b_row3_col1\" class=\"data row3 col1\" >2</td>\n",
       "            </tr>\n",
       "    </tbody></table>"
      ],
      "text/plain": [
       "<pandas.io.formats.style.Styler at 0x29369421640>"
      ]
     },
     "metadata": {},
     "output_type": "display_data"
    }
   ],
   "source": [
    "Countries_Customers_Cnt= psql.read_sql(\"SELECT DISTINCT country , COUNT (*) FROM customer GROUP BY country\", con)\n",
    "display(Countries_Customers_Cnt.style.hide_index())"
   ]
  },
  {
   "cell_type": "markdown",
   "metadata": {},
   "source": [
    "#### Get the Distinct Countries and how many people are in each country, and filter the count to be greater than 1"
   ]
  },
  {
   "cell_type": "code",
   "execution_count": 42,
   "metadata": {},
   "outputs": [
    {
     "data": {
      "text/html": [
       "<style  type=\"text/css\" >\n",
       "</style><table id=\"T_f1021_\" ><thead>    <tr>        <th class=\"col_heading level0 col0\" >country</th>        <th class=\"col_heading level0 col1\" >count</th>    </tr></thead><tbody>\n",
       "                <tr>\n",
       "                                <td id=\"T_f1021_row0_col0\" class=\"data row0 col0\" >Egypt</td>\n",
       "                        <td id=\"T_f1021_row0_col1\" class=\"data row0 col1\" >2</td>\n",
       "            </tr>\n",
       "    </tbody></table>"
      ],
      "text/plain": [
       "<pandas.io.formats.style.Styler at 0x2936944f6a0>"
      ]
     },
     "metadata": {},
     "output_type": "display_data"
    }
   ],
   "source": [
    "### USE of HAVING with GROUP BY and Aggregation Functions\n",
    "Countries_Customers_Cnt_gt1= psql.read_sql(\"\"\"SELECT DISTINCT country , COUNT (*) \n",
    "                                          FROM customer \n",
    "                                          GROUP BY country \n",
    "                                          HAVING count(*)>1\n",
    "                                          \"\"\", con)\n",
    "display(Countries_Customers_Cnt_gt1.style.hide_index())"
   ]
  },
  {
   "cell_type": "markdown",
   "metadata": {},
   "source": [
    "##### Give an Alias for the count (change it to be Customers_number)"
   ]
  },
  {
   "cell_type": "code",
   "execution_count": 43,
   "metadata": {},
   "outputs": [
    {
     "data": {
      "text/html": [
       "<style  type=\"text/css\" >\n",
       "</style><table id=\"T_f1501_\" ><thead>    <tr>        <th class=\"col_heading level0 col0\" >country</th>        <th class=\"col_heading level0 col1\" >customer_number</th>    </tr></thead><tbody>\n",
       "                <tr>\n",
       "                                <td id=\"T_f1501_row0_col0\" class=\"data row0 col0\" >Egypt</td>\n",
       "                        <td id=\"T_f1501_row0_col1\" class=\"data row0 col1\" >2</td>\n",
       "            </tr>\n",
       "    </tbody></table>"
      ],
      "text/plain": [
       "<pandas.io.formats.style.Styler at 0x2936945b0d0>"
      ]
     },
     "metadata": {},
     "output_type": "display_data"
    }
   ],
   "source": [
    "# Don't RUN before you put your SQL Query\n",
    "Countries_Customers_Cnt_gt1= psql.read_sql(\"\"\"SELECT DISTINCT country , COUNT (*) as Customer_number\n",
    "                                          FROM customer \n",
    "                                          GROUP BY country \n",
    "                                          HAVING count(*)>1 \"\"\", con)\n",
    "display(Countries_Customers_Cnt_gt1.style.hide_index())"
   ]
  },
  {
   "cell_type": "markdown",
   "metadata": {},
   "source": [
    "##### We're going to leave link here for more details about the other aggregate functions such as (MIN, MAX, SUM,...)\n",
    "PostgreSQL Aggregates: https://www.postgresql.org/docs/9.5/functions-aggregate.html"
   ]
  },
  {
   "cell_type": "markdown",
   "metadata": {},
   "source": [
    "### Let's Create the Second Table (Order)\n",
    "- ***Reminder: One-to-many*** relationship is handled as follows : Use a foreign key on the many side of the relationship linking back to the \"one\" side.\n",
    "- ***Note:*** Order is a reserved keyword in SQL, It's not recommended to use such keywords, but if you want to do so, we can use double quoutes \"\" arrount those keywords."
   ]
  },
  {
   "cell_type": "code",
   "execution_count": 44,
   "metadata": {},
   "outputs": [
    {
     "name": "stdout",
     "output_type": "stream",
     "text": [
      "Table (order) created successfully in PostgreSQL \n"
     ]
    }
   ],
   "source": [
    "#Create Order Table\n",
    "\n",
    "try:\n",
    "    ordersTable=\"order\"\n",
    "    create_ordersTable_query = '''CREATE TABLE \"'''+ ordersTable+'''\" \n",
    "              (id INT  PRIMARY KEY,\n",
    "               customer_id  INT  REFERENCES customer(id),\n",
    "               product      TEXT    NOT NULL\n",
    "               ); '''\n",
    "\n",
    "    \n",
    "    #Execute this command (SQL Query)\n",
    "    cursor.execute(create_ordersTable_query)\n",
    "    con.commit()\n",
    "    print(\"Table (\"+ ordersTable +\") created successfully in PostgreSQL \")\n",
    "except:\n",
    "    con.rollback()\n",
    "    print(\"Table (\"+ ordersTable +\") already Existed! \")"
   ]
  },
  {
   "cell_type": "markdown",
   "metadata": {},
   "source": [
    "#### Can we create this table (Order) before the (customer) table? (YES/NO, and Why)?!"
   ]
  },
  {
   "attachments": {},
   "cell_type": "markdown",
   "metadata": {},
   "source": [
    "<font color='red'>***Answer:***</font> No. Because the custmer_id is refereced to customer(id)"
   ]
  },
  {
   "cell_type": "markdown",
   "metadata": {},
   "source": [
    "#### Insert Some Data into the (Order) Table"
   ]
  },
  {
   "cell_type": "code",
   "execution_count": 45,
   "metadata": {},
   "outputs": [
    {
     "name": "stdout",
     "output_type": "stream",
     "text": [
      "6 Record inserted successfully into customers table\n"
     ]
    }
   ],
   "source": [
    "sql_insert_orders = '''INSERT INTO \"order\" (id,customer_id,product) VALUES(%s,%s,%s)'''\n",
    "\n",
    "#list of customers\n",
    "orders_List=[\n",
    "        (1,1, \"Coffee - Irish Cream\"),\n",
    "        (2,1, \"Sauce - Demi Glace\"),\n",
    "        (3,2,\"Corn Meal\"),\n",
    "        (4,1,\"Cumin - Whole\"),\n",
    "        (5,3,\"Chocolate - Sugar Free Semi Choc\"),\n",
    "        (6,4,\"Rolled Oats\")]\n",
    "try:\n",
    "    # execute the INSERT statement\n",
    "    cursor.executemany(sql_insert_orders,orders_List)\n",
    "    # commit the changes to the database\n",
    "    con.commit()\n",
    "\n",
    "except (Exception, psycopg2.Error) as error :\n",
    "    con.rollback()\n",
    "    print (\"Error while exccuting the query at PostgreSQL\",error)\n",
    "    \n",
    "finally:\n",
    "    \n",
    "    count = cursor.rowcount\n",
    "    print (count, \"Record inserted successfully into customers table\")"
   ]
  },
  {
   "cell_type": "markdown",
   "metadata": {},
   "source": [
    "## Bring Data from multiple Tables (SQL JOINS)"
   ]
  },
  {
   "cell_type": "markdown",
   "metadata": {},
   "source": [
    "#### What are SQL Joins?\n",
    "\n",
    "An SQL JOIN clause combines rows from two or more tables. It creates a set of rows in a temporary table. "
   ]
  },
  {
   "cell_type": "markdown",
   "metadata": {},
   "source": [
    "#### How to Join two tables in SQL?\n",
    "- A JOIN works on two or more tables if they have at least one common field and have a relationship between them.\n",
    "\n",
    "- JOIN keeps the base tables (structure and data) unchanged."
   ]
  },
  {
   "cell_type": "markdown",
   "metadata": {},
   "source": [
    "#### Looking only at \"order\" Table, we don't know names (or any further details of the csuomers)\n",
    "- Here'is the role of JOINS Comes to the Scene :) "
   ]
  },
  {
   "cell_type": "code",
   "execution_count": 46,
   "metadata": {},
   "outputs": [
    {
     "data": {
      "text/html": [
       "<style  type=\"text/css\" >\n",
       "</style><table id=\"T_7b77a_\" ><thead>    <tr>        <th class=\"col_heading level0 col0\" >id</th>        <th class=\"col_heading level0 col1\" >customer_id</th>        <th class=\"col_heading level0 col2\" >product</th>    </tr></thead><tbody>\n",
       "                <tr>\n",
       "                                <td id=\"T_7b77a_row0_col0\" class=\"data row0 col0\" >1</td>\n",
       "                        <td id=\"T_7b77a_row0_col1\" class=\"data row0 col1\" >1</td>\n",
       "                        <td id=\"T_7b77a_row0_col2\" class=\"data row0 col2\" >Coffee - Irish Cream</td>\n",
       "            </tr>\n",
       "            <tr>\n",
       "                                <td id=\"T_7b77a_row1_col0\" class=\"data row1 col0\" >2</td>\n",
       "                        <td id=\"T_7b77a_row1_col1\" class=\"data row1 col1\" >1</td>\n",
       "                        <td id=\"T_7b77a_row1_col2\" class=\"data row1 col2\" >Sauce - Demi Glace</td>\n",
       "            </tr>\n",
       "            <tr>\n",
       "                                <td id=\"T_7b77a_row2_col0\" class=\"data row2 col0\" >3</td>\n",
       "                        <td id=\"T_7b77a_row2_col1\" class=\"data row2 col1\" >2</td>\n",
       "                        <td id=\"T_7b77a_row2_col2\" class=\"data row2 col2\" >Corn Meal</td>\n",
       "            </tr>\n",
       "            <tr>\n",
       "                                <td id=\"T_7b77a_row3_col0\" class=\"data row3 col0\" >4</td>\n",
       "                        <td id=\"T_7b77a_row3_col1\" class=\"data row3 col1\" >1</td>\n",
       "                        <td id=\"T_7b77a_row3_col2\" class=\"data row3 col2\" >Cumin - Whole</td>\n",
       "            </tr>\n",
       "            <tr>\n",
       "                                <td id=\"T_7b77a_row4_col0\" class=\"data row4 col0\" >5</td>\n",
       "                        <td id=\"T_7b77a_row4_col1\" class=\"data row4 col1\" >3</td>\n",
       "                        <td id=\"T_7b77a_row4_col2\" class=\"data row4 col2\" >Chocolate - Sugar Free Semi Choc</td>\n",
       "            </tr>\n",
       "            <tr>\n",
       "                                <td id=\"T_7b77a_row5_col0\" class=\"data row5 col0\" >6</td>\n",
       "                        <td id=\"T_7b77a_row5_col1\" class=\"data row5 col1\" >4</td>\n",
       "                        <td id=\"T_7b77a_row5_col2\" class=\"data row5 col2\" >Rolled Oats</td>\n",
       "            </tr>\n",
       "    </tbody></table>"
      ],
      "text/plain": [
       "<pandas.io.formats.style.Styler at 0x2936945b0a0>"
      ]
     },
     "metadata": {},
     "output_type": "display_data"
    }
   ],
   "source": [
    "orders= psql.read_sql('''SELECT * FROM \"order\" ''', con)\n",
    "display(orders.style.hide_index())"
   ]
  },
  {
   "cell_type": "markdown",
   "metadata": {},
   "source": [
    "#### INNER JOIN\n",
    "\n",
    "- The SQL INNER JOIN is similar to the Set intersection.\n",
    "- INNER JOIN selects rows from table1 and table2 where they match the selecting column.\n"
   ]
  },
  {
   "cell_type": "code",
   "execution_count": 47,
   "metadata": {},
   "outputs": [
    {
     "data": {
      "text/html": [
       "<div>\n",
       "<style scoped>\n",
       "    .dataframe tbody tr th:only-of-type {\n",
       "        vertical-align: middle;\n",
       "    }\n",
       "\n",
       "    .dataframe tbody tr th {\n",
       "        vertical-align: top;\n",
       "    }\n",
       "\n",
       "    .dataframe thead th {\n",
       "        text-align: right;\n",
       "    }\n",
       "</style>\n",
       "<table border=\"1\" class=\"dataframe\">\n",
       "  <thead>\n",
       "    <tr style=\"text-align: right;\">\n",
       "      <th></th>\n",
       "      <th>id</th>\n",
       "      <th>name</th>\n",
       "      <th>country</th>\n",
       "      <th>email</th>\n",
       "      <th>id</th>\n",
       "      <th>customer_id</th>\n",
       "      <th>product</th>\n",
       "    </tr>\n",
       "  </thead>\n",
       "  <tbody>\n",
       "    <tr>\n",
       "      <th>0</th>\n",
       "      <td>1</td>\n",
       "      <td>Mohamed Ragab</td>\n",
       "      <td>Egypt</td>\n",
       "      <td>mohamed.ragb@ut.ee</td>\n",
       "      <td>1</td>\n",
       "      <td>1</td>\n",
       "      <td>Coffee - Irish Cream</td>\n",
       "    </tr>\n",
       "    <tr>\n",
       "      <th>1</th>\n",
       "      <td>1</td>\n",
       "      <td>Mohamed Ragab</td>\n",
       "      <td>Egypt</td>\n",
       "      <td>mohamed.ragb@ut.ee</td>\n",
       "      <td>2</td>\n",
       "      <td>1</td>\n",
       "      <td>Sauce - Demi Glace</td>\n",
       "    </tr>\n",
       "    <tr>\n",
       "      <th>2</th>\n",
       "      <td>1</td>\n",
       "      <td>Mohamed Ragab</td>\n",
       "      <td>Egypt</td>\n",
       "      <td>mohamed.ragb@ut.ee</td>\n",
       "      <td>4</td>\n",
       "      <td>1</td>\n",
       "      <td>Cumin - Whole</td>\n",
       "    </tr>\n",
       "    <tr>\n",
       "      <th>3</th>\n",
       "      <td>2</td>\n",
       "      <td>John Smith</td>\n",
       "      <td>Finland</td>\n",
       "      <td>j.smith@hotmail.com</td>\n",
       "      <td>3</td>\n",
       "      <td>2</td>\n",
       "      <td>Corn Meal</td>\n",
       "    </tr>\n",
       "    <tr>\n",
       "      <th>4</th>\n",
       "      <td>4</td>\n",
       "      <td>Jean Lime</td>\n",
       "      <td>Canda</td>\n",
       "      <td>jeanlime@gmail.com</td>\n",
       "      <td>6</td>\n",
       "      <td>4</td>\n",
       "      <td>Rolled Oats</td>\n",
       "    </tr>\n",
       "    <tr>\n",
       "      <th>5</th>\n",
       "      <td>3</td>\n",
       "      <td>Aisha Kareem</td>\n",
       "      <td>India</td>\n",
       "      <td>None</td>\n",
       "      <td>5</td>\n",
       "      <td>3</td>\n",
       "      <td>Chocolate - Sugar Free Semi Choc</td>\n",
       "    </tr>\n",
       "  </tbody>\n",
       "</table>\n",
       "</div>"
      ],
      "text/plain": [
       "   id           name  country                email  id  customer_id  \\\n",
       "0   1  Mohamed Ragab    Egypt   mohamed.ragb@ut.ee   1            1   \n",
       "1   1  Mohamed Ragab    Egypt   mohamed.ragb@ut.ee   2            1   \n",
       "2   1  Mohamed Ragab    Egypt   mohamed.ragb@ut.ee   4            1   \n",
       "3   2     John Smith  Finland  j.smith@hotmail.com   3            2   \n",
       "4   4      Jean Lime    Canda   jeanlime@gmail.com   6            4   \n",
       "5   3   Aisha Kareem    India                 None   5            3   \n",
       "\n",
       "                            product  \n",
       "0              Coffee - Irish Cream  \n",
       "1                Sauce - Demi Glace  \n",
       "2                     Cumin - Whole  \n",
       "3                         Corn Meal  \n",
       "4                       Rolled Oats  \n",
       "5  Chocolate - Sugar Free Semi Choc  "
      ]
     },
     "metadata": {},
     "output_type": "display_data"
    }
   ],
   "source": [
    "innerJoined= psql.read_sql(\"\"\"SELECT * FROM customer \n",
    "                              INNER JOIN  \"order\" \n",
    "                              ON customer.id = \"order\".customer_id\n",
    "                              ORDER BY name DESC\n",
    "                      \"\"\", con)\n",
    "display(innerJoined)"
   ]
  },
  {
   "cell_type": "markdown",
   "metadata": {},
   "source": [
    "#### If it's Confusing Just show the name and the product"
   ]
  },
  {
   "cell_type": "code",
   "execution_count": 48,
   "metadata": {},
   "outputs": [
    {
     "data": {
      "text/html": [
       "<div>\n",
       "<style scoped>\n",
       "    .dataframe tbody tr th:only-of-type {\n",
       "        vertical-align: middle;\n",
       "    }\n",
       "\n",
       "    .dataframe tbody tr th {\n",
       "        vertical-align: top;\n",
       "    }\n",
       "\n",
       "    .dataframe thead th {\n",
       "        text-align: right;\n",
       "    }\n",
       "</style>\n",
       "<table border=\"1\" class=\"dataframe\">\n",
       "  <thead>\n",
       "    <tr style=\"text-align: right;\">\n",
       "      <th></th>\n",
       "      <th>name</th>\n",
       "      <th>product</th>\n",
       "    </tr>\n",
       "  </thead>\n",
       "  <tbody>\n",
       "    <tr>\n",
       "      <th>0</th>\n",
       "      <td>Mohamed Ragab</td>\n",
       "      <td>Coffee - Irish Cream</td>\n",
       "    </tr>\n",
       "    <tr>\n",
       "      <th>1</th>\n",
       "      <td>Mohamed Ragab</td>\n",
       "      <td>Sauce - Demi Glace</td>\n",
       "    </tr>\n",
       "    <tr>\n",
       "      <th>2</th>\n",
       "      <td>Mohamed Ragab</td>\n",
       "      <td>Cumin - Whole</td>\n",
       "    </tr>\n",
       "    <tr>\n",
       "      <th>3</th>\n",
       "      <td>John Smith</td>\n",
       "      <td>Corn Meal</td>\n",
       "    </tr>\n",
       "    <tr>\n",
       "      <th>4</th>\n",
       "      <td>Jean Lime</td>\n",
       "      <td>Rolled Oats</td>\n",
       "    </tr>\n",
       "    <tr>\n",
       "      <th>5</th>\n",
       "      <td>Aisha Kareem</td>\n",
       "      <td>Chocolate - Sugar Free Semi Choc</td>\n",
       "    </tr>\n",
       "  </tbody>\n",
       "</table>\n",
       "</div>"
      ],
      "text/plain": [
       "            name                           product\n",
       "0  Mohamed Ragab              Coffee - Irish Cream\n",
       "1  Mohamed Ragab                Sauce - Demi Glace\n",
       "2  Mohamed Ragab                     Cumin - Whole\n",
       "3     John Smith                         Corn Meal\n",
       "4      Jean Lime                       Rolled Oats\n",
       "5   Aisha Kareem  Chocolate - Sugar Free Semi Choc"
      ]
     },
     "metadata": {},
     "output_type": "display_data"
    }
   ],
   "source": [
    "innerJoined= psql.read_sql(\"\"\"SELECT name, product FROM customer \n",
    "                              INNER JOIN  \"order\" \n",
    "                              ON customer.id = \"order\".customer_id\n",
    "                              ORDER BY name DESC        \"\"\", con)\n",
    "display(innerJoined)"
   ]
  },
  {
   "cell_type": "markdown",
   "metadata": {},
   "source": [
    "###  LEFT JOIN\n",
    "\n",
    "- This selects all rows from the table1 ( on the left), the rows from the  table2 (on the right) if they match.\n",
    "- If they don’t match, the data for the right table is blank (NULLS)."
   ]
  },
  {
   "cell_type": "markdown",
   "metadata": {},
   "source": [
    "#### Get all the customers with Orders details, even get customers who don't made orderes \n",
    "- Other way to say! Get all the customers, and Products , and if the customer didn't order product the product will be blank"
   ]
  },
  {
   "cell_type": "code",
   "execution_count": 49,
   "metadata": {},
   "outputs": [
    {
     "data": {
      "text/html": [
       "<div>\n",
       "<style scoped>\n",
       "    .dataframe tbody tr th:only-of-type {\n",
       "        vertical-align: middle;\n",
       "    }\n",
       "\n",
       "    .dataframe tbody tr th {\n",
       "        vertical-align: top;\n",
       "    }\n",
       "\n",
       "    .dataframe thead th {\n",
       "        text-align: right;\n",
       "    }\n",
       "</style>\n",
       "<table border=\"1\" class=\"dataframe\">\n",
       "  <thead>\n",
       "    <tr style=\"text-align: right;\">\n",
       "      <th></th>\n",
       "      <th>id</th>\n",
       "      <th>name</th>\n",
       "      <th>country</th>\n",
       "      <th>email</th>\n",
       "      <th>id</th>\n",
       "      <th>customer_id</th>\n",
       "      <th>product</th>\n",
       "    </tr>\n",
       "  </thead>\n",
       "  <tbody>\n",
       "    <tr>\n",
       "      <th>0</th>\n",
       "      <td>1</td>\n",
       "      <td>Mohamed Ragab</td>\n",
       "      <td>Egypt</td>\n",
       "      <td>mohamed.ragb@ut.ee</td>\n",
       "      <td>4.0</td>\n",
       "      <td>1.0</td>\n",
       "      <td>Cumin - Whole</td>\n",
       "    </tr>\n",
       "    <tr>\n",
       "      <th>1</th>\n",
       "      <td>1</td>\n",
       "      <td>Mohamed Ragab</td>\n",
       "      <td>Egypt</td>\n",
       "      <td>mohamed.ragb@ut.ee</td>\n",
       "      <td>2.0</td>\n",
       "      <td>1.0</td>\n",
       "      <td>Sauce - Demi Glace</td>\n",
       "    </tr>\n",
       "    <tr>\n",
       "      <th>2</th>\n",
       "      <td>1</td>\n",
       "      <td>Mohamed Ragab</td>\n",
       "      <td>Egypt</td>\n",
       "      <td>mohamed.ragb@ut.ee</td>\n",
       "      <td>1.0</td>\n",
       "      <td>1.0</td>\n",
       "      <td>Coffee - Irish Cream</td>\n",
       "    </tr>\n",
       "    <tr>\n",
       "      <th>3</th>\n",
       "      <td>2</td>\n",
       "      <td>John Smith</td>\n",
       "      <td>Finland</td>\n",
       "      <td>j.smith@hotmail.com</td>\n",
       "      <td>3.0</td>\n",
       "      <td>2.0</td>\n",
       "      <td>Corn Meal</td>\n",
       "    </tr>\n",
       "    <tr>\n",
       "      <th>4</th>\n",
       "      <td>4</td>\n",
       "      <td>Jean Lime</td>\n",
       "      <td>Canda</td>\n",
       "      <td>jeanlime@gmail.com</td>\n",
       "      <td>6.0</td>\n",
       "      <td>4.0</td>\n",
       "      <td>Rolled Oats</td>\n",
       "    </tr>\n",
       "    <tr>\n",
       "      <th>5</th>\n",
       "      <td>5</td>\n",
       "      <td>Hassan Eldeeb</td>\n",
       "      <td>Egypt</td>\n",
       "      <td>None</td>\n",
       "      <td>NaN</td>\n",
       "      <td>NaN</td>\n",
       "      <td>None</td>\n",
       "    </tr>\n",
       "    <tr>\n",
       "      <th>6</th>\n",
       "      <td>3</td>\n",
       "      <td>Aisha Kareem</td>\n",
       "      <td>India</td>\n",
       "      <td>None</td>\n",
       "      <td>5.0</td>\n",
       "      <td>3.0</td>\n",
       "      <td>Chocolate - Sugar Free Semi Choc</td>\n",
       "    </tr>\n",
       "  </tbody>\n",
       "</table>\n",
       "</div>"
      ],
      "text/plain": [
       "   id           name  country                email   id  customer_id  \\\n",
       "0   1  Mohamed Ragab    Egypt   mohamed.ragb@ut.ee  4.0          1.0   \n",
       "1   1  Mohamed Ragab    Egypt   mohamed.ragb@ut.ee  2.0          1.0   \n",
       "2   1  Mohamed Ragab    Egypt   mohamed.ragb@ut.ee  1.0          1.0   \n",
       "3   2     John Smith  Finland  j.smith@hotmail.com  3.0          2.0   \n",
       "4   4      Jean Lime    Canda   jeanlime@gmail.com  6.0          4.0   \n",
       "5   5  Hassan Eldeeb    Egypt                 None  NaN          NaN   \n",
       "6   3   Aisha Kareem    India                 None  5.0          3.0   \n",
       "\n",
       "                            product  \n",
       "0                     Cumin - Whole  \n",
       "1                Sauce - Demi Glace  \n",
       "2              Coffee - Irish Cream  \n",
       "3                         Corn Meal  \n",
       "4                       Rolled Oats  \n",
       "5                              None  \n",
       "6  Chocolate - Sugar Free Semi Choc  "
      ]
     },
     "metadata": {},
     "output_type": "display_data"
    }
   ],
   "source": [
    "leftJoined= psql.read_sql(\"\"\"SELECT *  FROM customer \n",
    "                        LEFT JOIN  \"order\" \n",
    "                        ON customer.id = \"order\".customer_id\n",
    "                        ORDER BY name DESC\n",
    "                      \"\"\", con)\n",
    "display(leftJoined)"
   ]
  },
  {
   "cell_type": "markdown",
   "metadata": {},
   "source": [
    "#### perform the same query but projecting on customer_name and the products "
   ]
  },
  {
   "cell_type": "code",
   "execution_count": 50,
   "metadata": {},
   "outputs": [
    {
     "data": {
      "text/html": [
       "<div>\n",
       "<style scoped>\n",
       "    .dataframe tbody tr th:only-of-type {\n",
       "        vertical-align: middle;\n",
       "    }\n",
       "\n",
       "    .dataframe tbody tr th {\n",
       "        vertical-align: top;\n",
       "    }\n",
       "\n",
       "    .dataframe thead th {\n",
       "        text-align: right;\n",
       "    }\n",
       "</style>\n",
       "<table border=\"1\" class=\"dataframe\">\n",
       "  <thead>\n",
       "    <tr style=\"text-align: right;\">\n",
       "      <th></th>\n",
       "      <th>name</th>\n",
       "      <th>product</th>\n",
       "    </tr>\n",
       "  </thead>\n",
       "  <tbody>\n",
       "    <tr>\n",
       "      <th>0</th>\n",
       "      <td>Mohamed Ragab</td>\n",
       "      <td>Cumin - Whole</td>\n",
       "    </tr>\n",
       "    <tr>\n",
       "      <th>1</th>\n",
       "      <td>Mohamed Ragab</td>\n",
       "      <td>Sauce - Demi Glace</td>\n",
       "    </tr>\n",
       "    <tr>\n",
       "      <th>2</th>\n",
       "      <td>Mohamed Ragab</td>\n",
       "      <td>Coffee - Irish Cream</td>\n",
       "    </tr>\n",
       "    <tr>\n",
       "      <th>3</th>\n",
       "      <td>John Smith</td>\n",
       "      <td>Corn Meal</td>\n",
       "    </tr>\n",
       "    <tr>\n",
       "      <th>4</th>\n",
       "      <td>Jean Lime</td>\n",
       "      <td>Rolled Oats</td>\n",
       "    </tr>\n",
       "    <tr>\n",
       "      <th>5</th>\n",
       "      <td>Hassan Eldeeb</td>\n",
       "      <td>None</td>\n",
       "    </tr>\n",
       "    <tr>\n",
       "      <th>6</th>\n",
       "      <td>Aisha Kareem</td>\n",
       "      <td>Chocolate - Sugar Free Semi Choc</td>\n",
       "    </tr>\n",
       "  </tbody>\n",
       "</table>\n",
       "</div>"
      ],
      "text/plain": [
       "            name                           product\n",
       "0  Mohamed Ragab                     Cumin - Whole\n",
       "1  Mohamed Ragab                Sauce - Demi Glace\n",
       "2  Mohamed Ragab              Coffee - Irish Cream\n",
       "3     John Smith                         Corn Meal\n",
       "4      Jean Lime                       Rolled Oats\n",
       "5  Hassan Eldeeb                              None\n",
       "6   Aisha Kareem  Chocolate - Sugar Free Semi Choc"
      ]
     },
     "metadata": {},
     "output_type": "display_data"
    }
   ],
   "source": [
    "#the same query but projecting on customer_name  and the products \n",
    "leftJoined= psql.read_sql(\"\"\"SELECT name, product FROM customer \n",
    "                        LEFT JOIN  \"order\" \n",
    "                        ON customer.id = \"order\".customer_id\n",
    "                        ORDER BY name DESC\n",
    "                      \"\"\", con)\n",
    "display(leftJoined)"
   ]
  },
  {
   "cell_type": "markdown",
   "metadata": {},
   "source": [
    "### RIGHT JOIN\n",
    "- Opposite to LEFT JOIN\n",
    "- This selects all the rows from the table on the right, and then rows from the left if they match.\n",
    "- If they don’t match, the data for the table on the left is blank (NULLS).\n"
   ]
  },
  {
   "cell_type": "markdown",
   "metadata": {},
   "source": [
    "##### Now, we insert one product that doen't have customer to buy (don't make alot of sense, but just for the example!!)"
   ]
  },
  {
   "cell_type": "code",
   "execution_count": 51,
   "metadata": {},
   "outputs": [
    {
     "name": "stdout",
     "output_type": "stream",
     "text": [
      "1 Record inserted successfully into person table\n"
     ]
    }
   ],
   "source": [
    "postgres_insert_query = \"\"\" INSERT INTO \"order\" (id,customer_id,product) VALUES (%s,%s,%s)\"\"\"\n",
    "record_to_insert = (7,None,'Dark Choclate')\n",
    "\n",
    "try:\n",
    "    cursor.execute(postgres_insert_query, record_to_insert)\n",
    "    con.commit()\n",
    "except (Exception, psycopg2.Error) as error :\n",
    "    con.rollback()\n",
    "    print(\"ERROR\",error)\n",
    "    \n",
    "count = cursor.rowcount\n",
    "print (count, \"Record inserted successfully into person table\")"
   ]
  },
  {
   "cell_type": "markdown",
   "metadata": {},
   "source": [
    "#### Perform the same query but projecting on customer_name and the products "
   ]
  },
  {
   "cell_type": "code",
   "execution_count": 52,
   "metadata": {},
   "outputs": [
    {
     "data": {
      "text/html": [
       "<div>\n",
       "<style scoped>\n",
       "    .dataframe tbody tr th:only-of-type {\n",
       "        vertical-align: middle;\n",
       "    }\n",
       "\n",
       "    .dataframe tbody tr th {\n",
       "        vertical-align: top;\n",
       "    }\n",
       "\n",
       "    .dataframe thead th {\n",
       "        text-align: right;\n",
       "    }\n",
       "</style>\n",
       "<table border=\"1\" class=\"dataframe\">\n",
       "  <thead>\n",
       "    <tr style=\"text-align: right;\">\n",
       "      <th></th>\n",
       "      <th>name</th>\n",
       "      <th>product</th>\n",
       "    </tr>\n",
       "  </thead>\n",
       "  <tbody>\n",
       "    <tr>\n",
       "      <th>0</th>\n",
       "      <td>None</td>\n",
       "      <td>Dark Choclate</td>\n",
       "    </tr>\n",
       "    <tr>\n",
       "      <th>1</th>\n",
       "      <td>Mohamed Ragab</td>\n",
       "      <td>Sauce - Demi Glace</td>\n",
       "    </tr>\n",
       "    <tr>\n",
       "      <th>2</th>\n",
       "      <td>Mohamed Ragab</td>\n",
       "      <td>Coffee - Irish Cream</td>\n",
       "    </tr>\n",
       "    <tr>\n",
       "      <th>3</th>\n",
       "      <td>Mohamed Ragab</td>\n",
       "      <td>Cumin - Whole</td>\n",
       "    </tr>\n",
       "    <tr>\n",
       "      <th>4</th>\n",
       "      <td>John Smith</td>\n",
       "      <td>Corn Meal</td>\n",
       "    </tr>\n",
       "    <tr>\n",
       "      <th>5</th>\n",
       "      <td>Jean Lime</td>\n",
       "      <td>Rolled Oats</td>\n",
       "    </tr>\n",
       "    <tr>\n",
       "      <th>6</th>\n",
       "      <td>Aisha Kareem</td>\n",
       "      <td>Chocolate - Sugar Free Semi Choc</td>\n",
       "    </tr>\n",
       "  </tbody>\n",
       "</table>\n",
       "</div>"
      ],
      "text/plain": [
       "            name                           product\n",
       "0           None                     Dark Choclate\n",
       "1  Mohamed Ragab                Sauce - Demi Glace\n",
       "2  Mohamed Ragab              Coffee - Irish Cream\n",
       "3  Mohamed Ragab                     Cumin - Whole\n",
       "4     John Smith                         Corn Meal\n",
       "5      Jean Lime                       Rolled Oats\n",
       "6   Aisha Kareem  Chocolate - Sugar Free Semi Choc"
      ]
     },
     "metadata": {},
     "output_type": "display_data"
    }
   ],
   "source": [
    "RightJoined= psql.read_sql(\"\"\"SELECT name, product FROM customer \n",
    "                        RIGHT JOIN  \"order\" \n",
    "                        ON customer.id = \"order\".customer_id\n",
    "                        ORDER BY name DESC\n",
    "                      \"\"\", con)\n",
    "display(RightJoined)"
   ]
  },
  {
   "cell_type": "markdown",
   "metadata": {},
   "source": [
    "### FULL JOIN\n",
    "- This selects all rows from both tables, matching them if there is a match on the selecting column.\n",
    "\n",
    "- Think of it as a LEFT and a RIGHT join.\n"
   ]
  },
  {
   "cell_type": "code",
   "execution_count": 53,
   "metadata": {},
   "outputs": [
    {
     "data": {
      "text/html": [
       "<div>\n",
       "<style scoped>\n",
       "    .dataframe tbody tr th:only-of-type {\n",
       "        vertical-align: middle;\n",
       "    }\n",
       "\n",
       "    .dataframe tbody tr th {\n",
       "        vertical-align: top;\n",
       "    }\n",
       "\n",
       "    .dataframe thead th {\n",
       "        text-align: right;\n",
       "    }\n",
       "</style>\n",
       "<table border=\"1\" class=\"dataframe\">\n",
       "  <thead>\n",
       "    <tr style=\"text-align: right;\">\n",
       "      <th></th>\n",
       "      <th>name</th>\n",
       "      <th>product</th>\n",
       "    </tr>\n",
       "  </thead>\n",
       "  <tbody>\n",
       "    <tr>\n",
       "      <th>0</th>\n",
       "      <td>None</td>\n",
       "      <td>Dark Choclate</td>\n",
       "    </tr>\n",
       "    <tr>\n",
       "      <th>1</th>\n",
       "      <td>Mohamed Ragab</td>\n",
       "      <td>Sauce - Demi Glace</td>\n",
       "    </tr>\n",
       "    <tr>\n",
       "      <th>2</th>\n",
       "      <td>Mohamed Ragab</td>\n",
       "      <td>Cumin - Whole</td>\n",
       "    </tr>\n",
       "    <tr>\n",
       "      <th>3</th>\n",
       "      <td>Mohamed Ragab</td>\n",
       "      <td>Coffee - Irish Cream</td>\n",
       "    </tr>\n",
       "    <tr>\n",
       "      <th>4</th>\n",
       "      <td>John Smith</td>\n",
       "      <td>Corn Meal</td>\n",
       "    </tr>\n",
       "    <tr>\n",
       "      <th>5</th>\n",
       "      <td>Jean Lime</td>\n",
       "      <td>Rolled Oats</td>\n",
       "    </tr>\n",
       "    <tr>\n",
       "      <th>6</th>\n",
       "      <td>Hassan Eldeeb</td>\n",
       "      <td>None</td>\n",
       "    </tr>\n",
       "    <tr>\n",
       "      <th>7</th>\n",
       "      <td>Aisha Kareem</td>\n",
       "      <td>Chocolate - Sugar Free Semi Choc</td>\n",
       "    </tr>\n",
       "  </tbody>\n",
       "</table>\n",
       "</div>"
      ],
      "text/plain": [
       "            name                           product\n",
       "0           None                     Dark Choclate\n",
       "1  Mohamed Ragab                Sauce - Demi Glace\n",
       "2  Mohamed Ragab                     Cumin - Whole\n",
       "3  Mohamed Ragab              Coffee - Irish Cream\n",
       "4     John Smith                         Corn Meal\n",
       "5      Jean Lime                       Rolled Oats\n",
       "6  Hassan Eldeeb                              None\n",
       "7   Aisha Kareem  Chocolate - Sugar Free Semi Choc"
      ]
     },
     "metadata": {},
     "output_type": "display_data"
    }
   ],
   "source": [
    "fullJoined= psql.read_sql(\"\"\"SELECT name, product FROM customer \n",
    "                             FULL JOIN  \"order\" \n",
    "                             ON customer.id = \"order\".customer_id\n",
    "                             ORDER BY name DESC \"\"\", con)\n",
    "display(fullJoined)"
   ]
  },
  {
   "cell_type": "markdown",
   "metadata": {},
   "source": [
    "## Task 2: Create another RDB model (MovieDB)\n",
    "\n",
    "This is another DB about movies and actors who played roles in these movies. Particularly, this DB is consisted of the following tables:  \n",
    "\n",
    "- A ***\"Person\"*** table who has a unique **id**, and another **name** field.\n",
    "- Another ***\"Movie\"*** table that has a unique **id**, a **title**, a **country** where it was made, and a **year** when it was released.\n",
    "\n",
    "- There is (***m-n**) or ***\"many-many\"** relationship between these two tables (i.e basically, many actors can act in many movies, and the movie include many actors).\n",
    "- ***Many-to-many*** are handeled as follows: We have to use a ***junction table** (<font color='green'>example</font>: https://gist.github.com/anonymous/79c2eed2a634777b16ff)\n",
    "- Therefore, we use the **\"Roles\"** table in which we can deduct which person has acted in which movie, and what role(s) they played in this movie.\n"
   ]
  },
  {
   "cell_type": "markdown",
   "metadata": {},
   "source": [
    "#### Use one of the drawing tools to plot an ER model of this described DB\n",
    "- you can use the mentioned ER diagramitic tool in lecture slides (link: https://erdplus.com/)"
   ]
  },
  {
   "attachments": {
    "image.png": {
     "image/png": "[encoded data removed]"
    }
   },
   "cell_type": "markdown",
   "metadata": {},
   "source": [
    "##### <font color='red'>YOUR DB SCHEMA IMAGE HERE: </font>\n",
    "![image.png](attachment:image.png)"
   ]
  },
  {
   "cell_type": "markdown",
   "metadata": {},
   "source": [
    "#### Create the MovieDB "
   ]
  },
  {
   "cell_type": "code",
   "execution_count": 54,
   "metadata": {},
   "outputs": [
    {
     "name": "stdout",
     "output_type": "stream",
     "text": [
      "Connected Successfully to PostgreSQL server!!\n",
      "Database 'moviedb' Created Successfully!\n"
     ]
    }
   ],
   "source": [
    "#YOUR CODE HERE to create the movie DB  \n",
    "try:\n",
    "    con = psycopg2.connect(user = \"postgres\",\n",
    "                                  password = \"changeme\",\n",
    "                                  host = \"127.0.0.1\",\n",
    "                                  port = \"5432\")\n",
    "\n",
    "    con.set_isolation_level(ISOLATION_LEVEL_AUTOCOMMIT);\n",
    "    print(\"Connected Successfully to PostgreSQL server!!\")\n",
    "    \n",
    "    cursor = con.cursor();\n",
    "except (Exception, psycopg2.Error) as error :\n",
    "     print (\"Error while connecting to PostgreSQL\", error)\n",
    "\n",
    "Movie_Database   = \"moviedb\";\n",
    "sqlCreateDatabase = \"CREATE DATABASE \"+Movie_Database+\";\"\n",
    "\n",
    "try:\n",
    "    cursor.execute(sqlCreateDatabase);\n",
    "    print(\"Database '\"+Movie_Database+\"' Created Successfully!\")\n",
    "except (Exception, psycopg2.Error) as error :\n",
    "    print(\"Error While Creating the DB: \",error)\n",
    "    \n",
    "finally:\n",
    "    cursor.close() \n",
    "    con.close() "
   ]
  },
  {
   "cell_type": "markdown",
   "metadata": {},
   "source": [
    "#### Creating  the Movie Table"
   ]
  },
  {
   "cell_type": "code",
   "execution_count": 55,
   "metadata": {},
   "outputs": [
    {
     "name": "stdout",
     "output_type": "stream",
     "text": [
      "connected again to the server, and cusor now on moviedb !!\n"
     ]
    }
   ],
   "source": [
    "con = psycopg2.connect(user = \"postgres\",\n",
    "                       password = \"changeme\",\n",
    "                       host = \"127.0.0.1\",\n",
    "                       port = \"5432\",\n",
    "                       database = \"moviedb\")\n",
    "\n",
    "try:\n",
    "    cursor = con.cursor();\n",
    "    print(\"connected again to the server, and cusor now on moviedb !!\")\n",
    "except (Exception, psycopg2.Error) as error:\n",
    "    print(\"Error in Connection\",error)"
   ]
  },
  {
   "cell_type": "code",
   "execution_count": 56,
   "metadata": {},
   "outputs": [
    {
     "name": "stdout",
     "output_type": "stream",
     "text": [
      "Error While Creating the DB:  table \"roles\" does not exist\n",
      "\n"
     ]
    }
   ],
   "source": [
    "try:\n",
    "    tmp = 'DROP TABLE roles'\n",
    "    cursor.execute(tmp)\n",
    "    tmp = 'DROP TABLE movie'\n",
    "    cursor.execute(tmp)\n",
    "    tmp = 'DROP TABLE person'\n",
    "    cursor.execute(tmp)\n",
    "    print('finish')\n",
    "except (Exception, psycopg2.Error) as error:\n",
    "    con.rollback()\n",
    "    print(\"Error While Creating the DB: \",error)"
   ]
  },
  {
   "cell_type": "code",
   "execution_count": 57,
   "metadata": {},
   "outputs": [
    {
     "name": "stdout",
     "output_type": "stream",
     "text": [
      "Table (movie) created successfully in PostgreSQL \n"
     ]
    }
   ],
   "source": [
    "#YOUR CODE HERE to create the \"Movie\" table\n",
    "try:\n",
    "    #table_name variable\n",
    "    MovieTable=\"movie\"\n",
    "    create_MovieTable_query = '''CREATE TABLE '''+ MovieTable+''' \n",
    "              (id       int     UNIQUE      PRIMARY KEY     NOT NULL,\n",
    "               title    text                                NOT NULL,\n",
    "               country  text                                NOT NULL,\n",
    "               year     int                                 NOT NULL\n",
    "               ); '''\n",
    "\n",
    "    #Execute this command (SQL Query)\n",
    "    cursor.execute(create_MovieTable_query)\n",
    "    \n",
    "    # Make the changes to the database persistent\n",
    "    con.commit()\n",
    "    print(\"Table (\"+ MovieTable +\") created successfully in PostgreSQL \")\n",
    "except (Exception, psycopg2.Error) as error:\n",
    "    # if it exits with an exception the transaction is rolled back.\n",
    "    con.rollback()\n",
    "    print(\"Error While Creating the DB: \",error)"
   ]
  },
  {
   "cell_type": "markdown",
   "metadata": {},
   "source": [
    "#### Creating  the \"Person\" Table"
   ]
  },
  {
   "cell_type": "code",
   "execution_count": 58,
   "metadata": {},
   "outputs": [
    {
     "name": "stdout",
     "output_type": "stream",
     "text": [
      "Table (person) created successfully in PostgreSQL \n"
     ]
    }
   ],
   "source": [
    "#YOUR CODE HERE to create the Person table\n",
    "try:\n",
    "    #table_name variable\n",
    "    PersonTable=\"person\"\n",
    "    create_PersonTable_query = '''CREATE TABLE '''+ PersonTable+''' \n",
    "              (id        int   UNIQUE   PRIMARY KEY     NOT NULL,\n",
    "               name      text                           NOT NULL\n",
    "               ); '''\n",
    "\n",
    "    #Execute this command (SQL Query)\n",
    "    cursor.execute(create_PersonTable_query)\n",
    "    \n",
    "    # Make the changes to the database persistent\n",
    "    con.commit()\n",
    "    print(\"Table (\"+ PersonTable +\") created successfully in PostgreSQL \")\n",
    "except (Exception, psycopg2.Error) as error:\n",
    "    # if it exits with an exception the transaction is rolled back.\n",
    "    con.rollback()\n",
    "    print(\"Error While Creating the DB: \",error)"
   ]
  },
  {
   "cell_type": "markdown",
   "metadata": {},
   "source": [
    "#### Creating  the \"Roles\" relationship Table"
   ]
  },
  {
   "cell_type": "code",
   "execution_count": 59,
   "metadata": {},
   "outputs": [
    {
     "name": "stdout",
     "output_type": "stream",
     "text": [
      "Table (roles) created successfully in PostgreSQL \n"
     ]
    }
   ],
   "source": [
    "#YOUR CODE HERE to create the Roles relationship table\n",
    "try:\n",
    "    #table_name variable\n",
    "    RolesTable=\"roles\"\n",
    "    create_RolesTable_query = '''CREATE TABLE '''+ RolesTable+''' \n",
    "              (movie_id     int     REFERENCES movie(id),\n",
    "               person_id    int     REFERENCES person(id),\n",
    "               role         text    NOT NULL\n",
    "               ); '''\n",
    "\n",
    "    #Execute this command (SQL Query)\n",
    "    cursor.execute(create_RolesTable_query)\n",
    "    \n",
    "    # Make the changes to the database persistent\n",
    "    con.commit()\n",
    "    print(\"Table (\"+ RolesTable +\") created successfully in PostgreSQL \")\n",
    "except (Exception, psycopg2.Error) as error:\n",
    "    # if it exits with an exception the transaction is rolled back.\n",
    "    con.rollback()\n",
    "    print(\"Error While Creating the DB: \",error)"
   ]
  },
  {
   "cell_type": "markdown",
   "metadata": {},
   "source": [
    "### Data Insertions\n",
    "\n",
    "Please, use the following demo datasets for allocating some data in the tables\n",
    "\n",
    "- **Person Table**:\n",
    "        id,name\n",
    "        1,Charlie Sheen\n",
    "        2,Michael Douglas\n",
    "        3,Martin Sheen\n",
    "        4,Morgan Freeman\n",
    "\n",
    "- ***Movie Table***:\n",
    "        id,title,country,year\n",
    "        1,Wall Street,USA,1987\n",
    "        2,The American President,USA,1995\n",
    "        3,The Shawshank Redemption,USA,1994\n",
    "\n",
    "- ***Roles Relationship*** (<font color='green'>Conjunction Table</font>):\n",
    "        personId,movieId,role\n",
    "        1,1,Bud Fox\n",
    "        2,1,Carl Fox\n",
    "        3,1,Gordon Gekko\n",
    "        2,2,A.J. MacInerney\n",
    "        3,2,President Andrew Shepherd\n",
    "        4,3,Ellis Boyd 'Red' Redding"
   ]
  },
  {
   "cell_type": "markdown",
   "metadata": {},
   "source": [
    "#### Insert Data to the Person Table"
   ]
  },
  {
   "cell_type": "code",
   "execution_count": 60,
   "metadata": {},
   "outputs": [
    {
     "name": "stdout",
     "output_type": "stream",
     "text": [
      "4 Record inserted successfully into person table\n"
     ]
    }
   ],
   "source": [
    "### YOUR CODE HERE!!\n",
    "sql_insert_person = \"INSERT INTO person (id,name) VALUES(%s,%s)\"\n",
    "\n",
    "person_List=[\n",
    "            (1, \"Charlie Sheen\"),\n",
    "            (2,\"Michael Douglas\"),\n",
    "            (3,\"Martin Sheen\"),\n",
    "            (4,\"Morgan Freeman\")]\n",
    "\n",
    "try:\n",
    "    # execute the INSERT statement\n",
    "    cursor.executemany(sql_insert_person,person_List)\n",
    "    # commit the changes to the database\n",
    "    con.commit()\n",
    "    #the number of inserted rows/tuples\n",
    "    count = cursor.rowcount\n",
    "    print (count, \"Record inserted successfully into person table\")\n",
    "\n",
    "except (Exception, psycopg2.Error) as error :\n",
    "    con.rollback()\n",
    "    print (\"Error while Inserting the data to the table, Details: \",error)"
   ]
  },
  {
   "cell_type": "markdown",
   "metadata": {},
   "source": [
    "#### Insert Data to the Movie Table"
   ]
  },
  {
   "cell_type": "code",
   "execution_count": 61,
   "metadata": {},
   "outputs": [
    {
     "name": "stdout",
     "output_type": "stream",
     "text": [
      "3 Record inserted successfully into movie table\n"
     ]
    }
   ],
   "source": [
    "### YOUR CODE HERE!!\n",
    "sql_insert_movies = \"INSERT INTO movie (id,title,country,year) VALUES(%s,%s,%s,%s)\"\n",
    "\n",
    "movie_List=[\n",
    "            (1,\"Wall Street\",\"USA\",1987),\n",
    "            (2,\"The American President\",\"USA\",1995),\n",
    "            (3,\"The Shawshank Redemption\",\"USA\",1994)]\n",
    "\n",
    "try:\n",
    "    # execute the INSERT statement\n",
    "    cursor.executemany(sql_insert_movies,movie_List)\n",
    "    # commit the changes to the database\n",
    "    con.commit()\n",
    "    #the number of inserted rows/tuples\n",
    "    count = cursor.rowcount\n",
    "    print (count, \"Record inserted successfully into movie table\")\n",
    "\n",
    "except (Exception, psycopg2.Error) as error :\n",
    "    con.rollback()\n",
    "    print (\"Error while Inserting the data to the table, Details: \",error)"
   ]
  },
  {
   "cell_type": "markdown",
   "metadata": {},
   "source": [
    "#### Insert Data to the Roles Table"
   ]
  },
  {
   "cell_type": "code",
   "execution_count": 62,
   "metadata": {},
   "outputs": [
    {
     "name": "stdout",
     "output_type": "stream",
     "text": [
      "6 Record inserted successfully into roles table\n"
     ]
    }
   ],
   "source": [
    "### YOUR CODE HERE!!\n",
    "sql_insert_roles = \"INSERT INTO roles (person_id,movie_id,role) VALUES(%s,%s,%s)\"\n",
    "\n",
    "roles_List=[\n",
    "            (1,1,\"Bud Fox\"),\n",
    "            (2,1,\"Carl Fox\"),\n",
    "            (3,1,\"Gordon Gekko\"),\n",
    "            (2,2,\"A.J. MacInerney\"),\n",
    "            (3,2,\"President Andrew Shepherd\"),\n",
    "            (4,3,\"Ellis Boyd 'Red' Redding\")]\n",
    "\n",
    "try:\n",
    "    # execute the INSERT statement\n",
    "    cursor.executemany(sql_insert_roles,roles_List)\n",
    "    # commit the changes to the database\n",
    "    con.commit()\n",
    "    #the number of inserted rows/tuples\n",
    "    count = cursor.rowcount\n",
    "    print (count, \"Record inserted successfully into roles table\")\n",
    "\n",
    "except (Exception, psycopg2.Error) as error :\n",
    "    con.rollback()\n",
    "    print (\"Error while Inserting the data to the table, Details: \",error)"
   ]
  },
  {
   "cell_type": "markdown",
   "metadata": {},
   "source": [
    "#### Get all Actors (Persons) from the movie DB"
   ]
  },
  {
   "cell_type": "code",
   "execution_count": 63,
   "metadata": {},
   "outputs": [
    {
     "data": {
      "text/html": [
       "<style  type=\"text/css\" >\n",
       "</style><table id=\"T_05ccc_\" ><thead>    <tr>        <th class=\"col_heading level0 col0\" >id</th>        <th class=\"col_heading level0 col1\" >name</th>    </tr></thead><tbody>\n",
       "                <tr>\n",
       "                                <td id=\"T_05ccc_row0_col0\" class=\"data row0 col0\" >1</td>\n",
       "                        <td id=\"T_05ccc_row0_col1\" class=\"data row0 col1\" >Charlie Sheen</td>\n",
       "            </tr>\n",
       "            <tr>\n",
       "                                <td id=\"T_05ccc_row1_col0\" class=\"data row1 col0\" >2</td>\n",
       "                        <td id=\"T_05ccc_row1_col1\" class=\"data row1 col1\" >Michael Douglas</td>\n",
       "            </tr>\n",
       "            <tr>\n",
       "                                <td id=\"T_05ccc_row2_col0\" class=\"data row2 col0\" >3</td>\n",
       "                        <td id=\"T_05ccc_row2_col1\" class=\"data row2 col1\" >Martin Sheen</td>\n",
       "            </tr>\n",
       "            <tr>\n",
       "                                <td id=\"T_05ccc_row3_col0\" class=\"data row3 col0\" >4</td>\n",
       "                        <td id=\"T_05ccc_row3_col1\" class=\"data row3 col1\" >Morgan Freeman</td>\n",
       "            </tr>\n",
       "    </tbody></table>"
      ],
      "text/plain": [
       "<pandas.io.formats.style.Styler at 0x29365755a00>"
      ]
     },
     "metadata": {},
     "output_type": "display_data"
    }
   ],
   "source": [
    "my_table= pd.read_sql(\"\"\"SELECT * FROM person\n",
    "                         \"\"\", con)\n",
    "display(my_table.style.hide_index())"
   ]
  },
  {
   "cell_type": "markdown",
   "metadata": {},
   "source": [
    "#### Get All Movies , sorted from recent to old"
   ]
  },
  {
   "cell_type": "code",
   "execution_count": 64,
   "metadata": {},
   "outputs": [
    {
     "data": {
      "text/html": [
       "<style  type=\"text/css\" >\n",
       "</style><table id=\"T_e9180_\" ><thead>    <tr>        <th class=\"col_heading level0 col0\" >id</th>        <th class=\"col_heading level0 col1\" >title</th>        <th class=\"col_heading level0 col2\" >country</th>        <th class=\"col_heading level0 col3\" >year</th>    </tr></thead><tbody>\n",
       "                <tr>\n",
       "                                <td id=\"T_e9180_row0_col0\" class=\"data row0 col0\" >2</td>\n",
       "                        <td id=\"T_e9180_row0_col1\" class=\"data row0 col1\" >The American President</td>\n",
       "                        <td id=\"T_e9180_row0_col2\" class=\"data row0 col2\" >USA</td>\n",
       "                        <td id=\"T_e9180_row0_col3\" class=\"data row0 col3\" >1995</td>\n",
       "            </tr>\n",
       "            <tr>\n",
       "                                <td id=\"T_e9180_row1_col0\" class=\"data row1 col0\" >3</td>\n",
       "                        <td id=\"T_e9180_row1_col1\" class=\"data row1 col1\" >The Shawshank Redemption</td>\n",
       "                        <td id=\"T_e9180_row1_col2\" class=\"data row1 col2\" >USA</td>\n",
       "                        <td id=\"T_e9180_row1_col3\" class=\"data row1 col3\" >1994</td>\n",
       "            </tr>\n",
       "            <tr>\n",
       "                                <td id=\"T_e9180_row2_col0\" class=\"data row2 col0\" >1</td>\n",
       "                        <td id=\"T_e9180_row2_col1\" class=\"data row2 col1\" >Wall Street</td>\n",
       "                        <td id=\"T_e9180_row2_col2\" class=\"data row2 col2\" >USA</td>\n",
       "                        <td id=\"T_e9180_row2_col3\" class=\"data row2 col3\" >1987</td>\n",
       "            </tr>\n",
       "    </tbody></table>"
      ],
      "text/plain": [
       "<pandas.io.formats.style.Styler at 0x2936948bf40>"
      ]
     },
     "metadata": {},
     "output_type": "display_data"
    }
   ],
   "source": [
    "moviesOrdered = pd.read_sql(''' SELECT * \n",
    "                                FROM movie \n",
    "                                ORDER BY year DESC  ''', con)\n",
    "display(moviesOrdered.style.hide_index())"
   ]
  },
  {
   "cell_type": "markdown",
   "metadata": {},
   "source": [
    "#### Get All Movies released in the 90s (after year (1990) and before 2000) ordered from old to recent."
   ]
  },
  {
   "cell_type": "code",
   "execution_count": 65,
   "metadata": {},
   "outputs": [
    {
     "data": {
      "text/html": [
       "<style  type=\"text/css\" >\n",
       "</style><table id=\"T_419c9_\" ><thead>    <tr>        <th class=\"col_heading level0 col0\" >id</th>        <th class=\"col_heading level0 col1\" >title</th>        <th class=\"col_heading level0 col2\" >country</th>        <th class=\"col_heading level0 col3\" >year</th>    </tr></thead><tbody>\n",
       "                <tr>\n",
       "                                <td id=\"T_419c9_row0_col0\" class=\"data row0 col0\" >3</td>\n",
       "                        <td id=\"T_419c9_row0_col1\" class=\"data row0 col1\" >The Shawshank Redemption</td>\n",
       "                        <td id=\"T_419c9_row0_col2\" class=\"data row0 col2\" >USA</td>\n",
       "                        <td id=\"T_419c9_row0_col3\" class=\"data row0 col3\" >1994</td>\n",
       "            </tr>\n",
       "            <tr>\n",
       "                                <td id=\"T_419c9_row1_col0\" class=\"data row1 col0\" >2</td>\n",
       "                        <td id=\"T_419c9_row1_col1\" class=\"data row1 col1\" >The American President</td>\n",
       "                        <td id=\"T_419c9_row1_col2\" class=\"data row1 col2\" >USA</td>\n",
       "                        <td id=\"T_419c9_row1_col3\" class=\"data row1 col3\" >1995</td>\n",
       "            </tr>\n",
       "    </tbody></table>"
      ],
      "text/plain": [
       "<pandas.io.formats.style.Styler at 0x2936948bc40>"
      ]
     },
     "metadata": {},
     "output_type": "display_data"
    }
   ],
   "source": [
    "movies90 = pd.read_sql('''  SELECT * \n",
    "                            FROM movie \n",
    "                            WHERE year < 2000 and year >= 1990 \n",
    "                            ORDER BY year ASC ''', con)\n",
    "display(movies90.style.hide_index())"
   ]
  },
  {
   "cell_type": "markdown",
   "metadata": {},
   "source": [
    "#### Get Movies and Actors from your  \"movies\" DB"
   ]
  },
  {
   "cell_type": "code",
   "execution_count": 72,
   "metadata": {},
   "outputs": [
    {
     "data": {
      "text/html": [
       "<div>\n",
       "<style scoped>\n",
       "    .dataframe tbody tr th:only-of-type {\n",
       "        vertical-align: middle;\n",
       "    }\n",
       "\n",
       "    .dataframe tbody tr th {\n",
       "        vertical-align: top;\n",
       "    }\n",
       "\n",
       "    .dataframe thead th {\n",
       "        text-align: right;\n",
       "    }\n",
       "</style>\n",
       "<table border=\"1\" class=\"dataframe\">\n",
       "  <thead>\n",
       "    <tr style=\"text-align: right;\">\n",
       "      <th></th>\n",
       "      <th>person_id</th>\n",
       "      <th>person_name</th>\n",
       "      <th>movie_id</th>\n",
       "      <th>movie_id</th>\n",
       "    </tr>\n",
       "  </thead>\n",
       "  <tbody>\n",
       "    <tr>\n",
       "      <th>0</th>\n",
       "      <td>1</td>\n",
       "      <td>Charlie Sheen</td>\n",
       "      <td>1</td>\n",
       "      <td>Wall Street</td>\n",
       "    </tr>\n",
       "    <tr>\n",
       "      <th>1</th>\n",
       "      <td>2</td>\n",
       "      <td>Michael Douglas</td>\n",
       "      <td>1</td>\n",
       "      <td>Wall Street</td>\n",
       "    </tr>\n",
       "    <tr>\n",
       "      <th>2</th>\n",
       "      <td>2</td>\n",
       "      <td>Michael Douglas</td>\n",
       "      <td>2</td>\n",
       "      <td>The American President</td>\n",
       "    </tr>\n",
       "    <tr>\n",
       "      <th>3</th>\n",
       "      <td>3</td>\n",
       "      <td>Martin Sheen</td>\n",
       "      <td>1</td>\n",
       "      <td>Wall Street</td>\n",
       "    </tr>\n",
       "    <tr>\n",
       "      <th>4</th>\n",
       "      <td>3</td>\n",
       "      <td>Martin Sheen</td>\n",
       "      <td>2</td>\n",
       "      <td>The American President</td>\n",
       "    </tr>\n",
       "    <tr>\n",
       "      <th>5</th>\n",
       "      <td>4</td>\n",
       "      <td>Morgan Freeman</td>\n",
       "      <td>3</td>\n",
       "      <td>The Shawshank Redemption</td>\n",
       "    </tr>\n",
       "  </tbody>\n",
       "</table>\n",
       "</div>"
      ],
      "text/plain": [
       "   person_id      person_name movie_id                  movie_id\n",
       "0          1    Charlie Sheen        1               Wall Street\n",
       "1          2  Michael Douglas        1               Wall Street\n",
       "2          2  Michael Douglas        2    The American President\n",
       "3          3     Martin Sheen        1               Wall Street\n",
       "4          3     Martin Sheen        2    The American President\n",
       "5          4   Morgan Freeman        3  The Shawshank Redemption"
      ]
     },
     "metadata": {},
     "output_type": "display_data"
    }
   ],
   "source": [
    "moviesActors = pd.read_sql('''  SELECT person.id as person_id, person.name as person_name, tbl1.id as movie_id, tbl1.title as movie_id\n",
    "                                FROM (SELECT movie.id, movie.title, roles.person_id\n",
    "                                      FROM movie\n",
    "                                      LEFT JOIN \"roles\" on movie.id = roles.movie_id) AS tbl1\n",
    "                                LEFT JOIN \"person\" on tbl1.person_id = person.id\n",
    "                                ORDER BY person.id ASC''', con)\n",
    "                              \n",
    "display(moviesActors)"
   ]
  },
  {
   "cell_type": "markdown",
   "metadata": {},
   "source": [
    "#### Get count of \"Movies\" in your DB"
   ]
  },
  {
   "cell_type": "code",
   "execution_count": 73,
   "metadata": {},
   "outputs": [
    {
     "data": {
      "text/html": [
       "<style  type=\"text/css\" >\n",
       "</style><table id=\"T_2531c_\" ><thead>    <tr>        <th class=\"col_heading level0 col0\" >num_movie</th>    </tr></thead><tbody>\n",
       "                <tr>\n",
       "                                <td id=\"T_2531c_row0_col0\" class=\"data row0 col0\" >3</td>\n",
       "            </tr>\n",
       "    </tbody></table>"
      ],
      "text/plain": [
       "<pandas.io.formats.style.Styler at 0x2936949f7f0>"
      ]
     },
     "metadata": {},
     "output_type": "display_data"
    }
   ],
   "source": [
    "count_table= pd.read_sql(' SELECT count(*) as num_movie FROM movie ', con)\n",
    "display(count_table.style.hide_index())"
   ]
  },
  {
   "cell_type": "markdown",
   "metadata": {},
   "source": [
    "#### In this DB, for every \"Actor\" get the number of movies he played"
   ]
  },
  {
   "cell_type": "code",
   "execution_count": 74,
   "metadata": {},
   "outputs": [
    {
     "data": {
      "text/html": [
       "<style  type=\"text/css\" >\n",
       "</style><table id=\"T_969d7_\" ><thead>    <tr>        <th class=\"col_heading level0 col0\" >id</th>        <th class=\"col_heading level0 col1\" >name</th>        <th class=\"col_heading level0 col2\" >num_movies</th>    </tr></thead><tbody>\n",
       "                <tr>\n",
       "                                <td id=\"T_969d7_row0_col0\" class=\"data row0 col0\" >2</td>\n",
       "                        <td id=\"T_969d7_row0_col1\" class=\"data row0 col1\" >Michael Douglas</td>\n",
       "                        <td id=\"T_969d7_row0_col2\" class=\"data row0 col2\" >2</td>\n",
       "            </tr>\n",
       "            <tr>\n",
       "                                <td id=\"T_969d7_row1_col0\" class=\"data row1 col0\" >3</td>\n",
       "                        <td id=\"T_969d7_row1_col1\" class=\"data row1 col1\" >Martin Sheen</td>\n",
       "                        <td id=\"T_969d7_row1_col2\" class=\"data row1 col2\" >2</td>\n",
       "            </tr>\n",
       "            <tr>\n",
       "                                <td id=\"T_969d7_row2_col0\" class=\"data row2 col0\" >4</td>\n",
       "                        <td id=\"T_969d7_row2_col1\" class=\"data row2 col1\" >Morgan Freeman</td>\n",
       "                        <td id=\"T_969d7_row2_col2\" class=\"data row2 col2\" >1</td>\n",
       "            </tr>\n",
       "            <tr>\n",
       "                                <td id=\"T_969d7_row3_col0\" class=\"data row3 col0\" >1</td>\n",
       "                        <td id=\"T_969d7_row3_col1\" class=\"data row3 col1\" >Charlie Sheen</td>\n",
       "                        <td id=\"T_969d7_row3_col2\" class=\"data row3 col2\" >1</td>\n",
       "            </tr>\n",
       "    </tbody></table>"
      ],
      "text/plain": [
       "<pandas.io.formats.style.Styler at 0x293694218e0>"
      ]
     },
     "metadata": {},
     "output_type": "display_data"
    }
   ],
   "source": [
    "actorMoviesAgg= pd.read_sql(''' SELECT person.id, person.name, count(roles.movie_id) as num_movies\n",
    "                                FROM person, roles\n",
    "                                WHERE person.id = roles.person_id\n",
    "                                GROUP BY person.id\n",
    "                                     ''', con)\n",
    "display(actorMoviesAgg.style.hide_index())"
   ]
  },
  {
   "cell_type": "markdown",
   "metadata": {},
   "source": [
    "#### In this DB, List the movies that every Actor Played\n",
    "<b>Hint:</b> use the aggregation function <b>\"ARRAY_AGG\"</b> to group movies as a list."
   ]
  },
  {
   "cell_type": "code",
   "execution_count": 75,
   "metadata": {},
   "outputs": [
    {
     "data": {
      "text/html": [
       "<style  type=\"text/css\" >\n",
       "</style><table id=\"T_7c093_\" ><thead>    <tr>        <th class=\"col_heading level0 col0\" >id</th>        <th class=\"col_heading level0 col1\" >name</th>    </tr></thead><tbody>\n",
       "        </tbody></table>"
      ],
      "text/plain": [
       "<pandas.io.formats.style.Styler at 0x293695a7790>"
      ]
     },
     "metadata": {},
     "output_type": "display_data"
    }
   ],
   "source": [
    "actorMoviesAggList= pd.read_sql(''' SELECT person.id, person.name\n",
    "                                    FROM person JOIN \"roles\" on person.id = roles.person_id\n",
    "                                    GROUP BY person.id\n",
    "                                    HAVING COUNT(roles.movie_id) = (SELECT COUNT(DISTINCT movie.id) FROM movie)    ''', con)\n",
    "display(actorMoviesAggList.style.hide_index())"
   ]
  },
  {
   "cell_type": "markdown",
   "metadata": {},
   "source": [
    "### UPDATE Table Data\n",
    "\n",
    "#### Update the year of production of the movie \"Wall Street\" to be 2000 instead of it's current year. Show the record before and after the update."
   ]
  },
  {
   "cell_type": "code",
   "execution_count": 76,
   "metadata": {},
   "outputs": [
    {
     "data": {
      "text/html": [
       "<style  type=\"text/css\" >\n",
       "</style><table id=\"T_05656_\" ><thead>    <tr>        <th class=\"col_heading level0 col0\" >id</th>        <th class=\"col_heading level0 col1\" >title</th>        <th class=\"col_heading level0 col2\" >country</th>        <th class=\"col_heading level0 col3\" >year</th>    </tr></thead><tbody>\n",
       "                <tr>\n",
       "                                <td id=\"T_05656_row0_col0\" class=\"data row0 col0\" >1</td>\n",
       "                        <td id=\"T_05656_row0_col1\" class=\"data row0 col1\" >Wall Street</td>\n",
       "                        <td id=\"T_05656_row0_col2\" class=\"data row0 col2\" >USA</td>\n",
       "                        <td id=\"T_05656_row0_col3\" class=\"data row0 col3\" >1987</td>\n",
       "            </tr>\n",
       "    </tbody></table>"
      ],
      "text/plain": [
       "<pandas.io.formats.style.Styler at 0x293695b5430>"
      ]
     },
     "metadata": {},
     "output_type": "display_data"
    },
    {
     "name": "stdout",
     "output_type": "stream",
     "text": [
      "Table (movie) updated successfully in PostgreSQL \n"
     ]
    },
    {
     "data": {
      "text/html": [
       "<style  type=\"text/css\" >\n",
       "</style><table id=\"T_6f5ab_\" ><thead>    <tr>        <th class=\"col_heading level0 col0\" >id</th>        <th class=\"col_heading level0 col1\" >title</th>        <th class=\"col_heading level0 col2\" >country</th>        <th class=\"col_heading level0 col3\" >year</th>    </tr></thead><tbody>\n",
       "                <tr>\n",
       "                                <td id=\"T_6f5ab_row0_col0\" class=\"data row0 col0\" >1</td>\n",
       "                        <td id=\"T_6f5ab_row0_col1\" class=\"data row0 col1\" >Wall Street</td>\n",
       "                        <td id=\"T_6f5ab_row0_col2\" class=\"data row0 col2\" >USA</td>\n",
       "                        <td id=\"T_6f5ab_row0_col3\" class=\"data row0 col3\" >2000</td>\n",
       "            </tr>\n",
       "    </tbody></table>"
      ],
      "text/plain": [
       "<pandas.io.formats.style.Styler at 0x293684f1a30>"
      ]
     },
     "metadata": {},
     "output_type": "display_data"
    }
   ],
   "source": [
    "### YOUR CODE HERE!!!\n",
    "WallStreetMovie= pd.read_sql(''' SELECT *\n",
    "                                    FROM movie\n",
    "                                    WHERE movie.title = 'Wall Street' ''', con)\n",
    "display(WallStreetMovie.style.hide_index())\n",
    "\n",
    "try:\n",
    "    MovieTable=\"movie\"\n",
    "    update_MovieTable_query = '''UPDATE '''+ MovieTable+''' \n",
    "                                 SET year = 2000\n",
    "                                 WHERE movie.title = 'Wall Street'; '''\n",
    "\n",
    "    #Execute this command (SQL Query)\n",
    "    cursor.execute(update_MovieTable_query)\n",
    "    \n",
    "    # Make the changes to the database persistent\n",
    "    con.commit()\n",
    "    print(\"Table (\"+ MovieTable +\") updated successfully in PostgreSQL \")\n",
    "except (Exception, psycopg2.Error) as error:\n",
    "    # if it exits with an exception the transaction is rolled back.\n",
    "    con.rollback()\n",
    "    print(\"Error While Updating the DB: \",error)\n",
    "\n",
    "WallStreetMovie= pd.read_sql(''' SELECT *\n",
    "                                    FROM movie\n",
    "                                    WHERE movie.title = 'Wall Street' ''', con)\n",
    "display(WallStreetMovie.style.hide_index())\n"
   ]
  },
  {
   "cell_type": "markdown",
   "metadata": {},
   "source": [
    "## Delete Table rows\n",
    "\n",
    "#### Delete the movie with id =1 , and show the person table before and after the deletion."
   ]
  },
  {
   "cell_type": "code",
   "execution_count": 77,
   "metadata": {},
   "outputs": [
    {
     "data": {
      "text/html": [
       "<style  type=\"text/css\" >\n",
       "</style><table id=\"T_d75a8_\" ><thead>    <tr>        <th class=\"col_heading level0 col0\" >id</th>        <th class=\"col_heading level0 col1\" >title</th>        <th class=\"col_heading level0 col2\" >country</th>        <th class=\"col_heading level0 col3\" >year</th>    </tr></thead><tbody>\n",
       "                <tr>\n",
       "                                <td id=\"T_d75a8_row0_col0\" class=\"data row0 col0\" >2</td>\n",
       "                        <td id=\"T_d75a8_row0_col1\" class=\"data row0 col1\" >The American President</td>\n",
       "                        <td id=\"T_d75a8_row0_col2\" class=\"data row0 col2\" >USA</td>\n",
       "                        <td id=\"T_d75a8_row0_col3\" class=\"data row0 col3\" >1995</td>\n",
       "            </tr>\n",
       "            <tr>\n",
       "                                <td id=\"T_d75a8_row1_col0\" class=\"data row1 col0\" >3</td>\n",
       "                        <td id=\"T_d75a8_row1_col1\" class=\"data row1 col1\" >The Shawshank Redemption</td>\n",
       "                        <td id=\"T_d75a8_row1_col2\" class=\"data row1 col2\" >USA</td>\n",
       "                        <td id=\"T_d75a8_row1_col3\" class=\"data row1 col3\" >1994</td>\n",
       "            </tr>\n",
       "            <tr>\n",
       "                                <td id=\"T_d75a8_row2_col0\" class=\"data row2 col0\" >1</td>\n",
       "                        <td id=\"T_d75a8_row2_col1\" class=\"data row2 col1\" >Wall Street</td>\n",
       "                        <td id=\"T_d75a8_row2_col2\" class=\"data row2 col2\" >USA</td>\n",
       "                        <td id=\"T_d75a8_row2_col3\" class=\"data row2 col3\" >2000</td>\n",
       "            </tr>\n",
       "    </tbody></table>"
      ],
      "text/plain": [
       "<pandas.io.formats.style.Styler at 0x293695c7490>"
      ]
     },
     "metadata": {},
     "output_type": "display_data"
    },
    {
     "name": "stdout",
     "output_type": "stream",
     "text": [
      "Table (roles) updated successfully in PostgreSQL \n",
      "Table (movie) updated successfully in PostgreSQL \n"
     ]
    },
    {
     "data": {
      "text/html": [
       "<style  type=\"text/css\" >\n",
       "</style><table id=\"T_2bcb2_\" ><thead>    <tr>        <th class=\"col_heading level0 col0\" >id</th>        <th class=\"col_heading level0 col1\" >title</th>        <th class=\"col_heading level0 col2\" >country</th>        <th class=\"col_heading level0 col3\" >year</th>    </tr></thead><tbody>\n",
       "                <tr>\n",
       "                                <td id=\"T_2bcb2_row0_col0\" class=\"data row0 col0\" >2</td>\n",
       "                        <td id=\"T_2bcb2_row0_col1\" class=\"data row0 col1\" >The American President</td>\n",
       "                        <td id=\"T_2bcb2_row0_col2\" class=\"data row0 col2\" >USA</td>\n",
       "                        <td id=\"T_2bcb2_row0_col3\" class=\"data row0 col3\" >1995</td>\n",
       "            </tr>\n",
       "            <tr>\n",
       "                                <td id=\"T_2bcb2_row1_col0\" class=\"data row1 col0\" >3</td>\n",
       "                        <td id=\"T_2bcb2_row1_col1\" class=\"data row1 col1\" >The Shawshank Redemption</td>\n",
       "                        <td id=\"T_2bcb2_row1_col2\" class=\"data row1 col2\" >USA</td>\n",
       "                        <td id=\"T_2bcb2_row1_col3\" class=\"data row1 col3\" >1994</td>\n",
       "            </tr>\n",
       "    </tbody></table>"
      ],
      "text/plain": [
       "<pandas.io.formats.style.Styler at 0x293695a75e0>"
      ]
     },
     "metadata": {},
     "output_type": "display_data"
    }
   ],
   "source": [
    "### YOUR CODE HERE !!!\n",
    "MovieID1= pd.read_sql(''' SELECT *\n",
    "                          FROM movie''', con)\n",
    "display(MovieID1.style.hide_index())\n",
    "\n",
    "try:\n",
    "    RolesTable=\"roles\"\n",
    "    update_RolesTable_query = '''DELETE FROM  '''+ RolesTable+''' \n",
    "                                 WHERE roles.movie_id = 1; '''\n",
    "\n",
    "    #Execute this command (SQL Query)\n",
    "    cursor.execute(update_RolesTable_query)\n",
    "    \n",
    "    # Make the changes to the database persistent\n",
    "    con.commit()\n",
    "    print(\"Table (\"+ RolesTable +\") updated successfully in PostgreSQL \")\n",
    "except (Exception, psycopg2.Error) as error:\n",
    "    # if it exits with an exception the transaction is rolled back.\n",
    "    con.rollback()\n",
    "    print(\"Error While Updating the DB: \",error)\n",
    "\n",
    "try:\n",
    "    MovieTable=\"movie\"\n",
    "    update_MovieTable_query = '''DELETE FROM  '''+ MovieTable+''' \n",
    "                                 WHERE movie.id = 1; '''\n",
    "\n",
    "    #Execute this command (SQL Query)\n",
    "    cursor.execute(update_MovieTable_query)\n",
    "    \n",
    "    # Make the changes to the database persistent\n",
    "    con.commit()\n",
    "    print(\"Table (\"+ MovieTable +\") updated successfully in PostgreSQL \")\n",
    "except (Exception, psycopg2.Error) as error:\n",
    "    # if it exits with an exception the transaction is rolled back.\n",
    "    con.rollback()\n",
    "    print(\"Error While Updating the DB: \",error)\n",
    "\n",
    "\n",
    "MovieID1= pd.read_sql(''' SELECT *\n",
    "                          FROM movie''', con)\n",
    "display(MovieID1.style.hide_index())"
   ]
  },
  {
   "cell_type": "markdown",
   "metadata": {},
   "source": [
    "## Extend you \"Movies\" DB \n",
    "\n",
    "Imagine now that we are going to extend our DB with new movies, actors, even with new directors.\n",
    "\n",
    "- We add <b>**\"The matrix\"**</b> movie which was released in <b>(1999)</b>, and has a new property \"Tagline\" <b>(\"Welcome to the Real World\")</b>.\n",
    "    - <font color='red'> Adding the \"Tagline\" new property (attribute) require changing the table schema</font>\n",
    "\n",
    "- We will also add 4 new actors (Person):\n",
    "    - **\"Keanu Reeves\"** who was born in (1964). Note \"born\" property is also new.\n",
    "    - **\"Carrie-Anne Moss\"** who was born in (1967).\n",
    "    - **\"Laurence Fishburne\"** who was born in (1960).\n",
    "    - **\"Hugo Weaving\"** who was born in (1960).\n",
    "    * <font color='red'> **Note**: Adding the new \"born\" Property require changing the table schema</font>    \n",
    "- Moreover, we add 2 directors (Person) :\n",
    "    - **\"Lilly Wachowski\"**, born in (1967)\n",
    "    - **\"Lana Wachowski\"**, born in(1965)\n",
    "- For these directors specify one more Label (\"Director\").\n",
    "    - <font color='red'> This new Label Will require **\"Denormalization\"** Or smothing</font>\n",
    "    \n",
    "- We will also Create a new <b>RelationType \"DIRECTED\" </b> that is directed from the later 3 director to \"the Matrix\" movie.\n",
    "    - - <font color='red'> New created table for **Directed** relationship </font>"
   ]
  },
  {
   "cell_type": "markdown",
   "metadata": {},
   "source": [
    "#### Adding Tagline column to the movie table requires, altering the table schema"
   ]
  },
  {
   "cell_type": "code",
   "execution_count": 78,
   "metadata": {},
   "outputs": [
    {
     "name": "stdout",
     "output_type": "stream",
     "text": [
      "Table (movie) added one column successfully in PostgreSQL \n"
     ]
    }
   ],
   "source": [
    "# Add a new Column to the Schema of movie table\n",
    "try:\n",
    "    MovieTable=\"movie\"\n",
    "    add_col_MovieTable_query = '''ALTER TABLE  '''+ MovieTable+''' \n",
    "                                 ADD Tagline TEXT; '''\n",
    "\n",
    "    #Execute this command (SQL Query)\n",
    "    cursor.execute(add_col_MovieTable_query)\n",
    "    \n",
    "    # Make the changes to the database persistent\n",
    "    con.commit()\n",
    "    print(\"Table (\"+ MovieTable +\") added one column successfully in PostgreSQL \")\n",
    "except (Exception, psycopg2.Error) as error:\n",
    "    # if it exits with an exception the transaction is rolled back.\n",
    "    con.rollback()\n",
    "    print(\"Error While Adding column the DB: \",error)"
   ]
  },
  {
   "cell_type": "markdown",
   "metadata": {},
   "source": [
    "#### Inserting the new movie \"The Matrix\" with the prementioned attributes to movie table"
   ]
  },
  {
   "cell_type": "code",
   "execution_count": 79,
   "metadata": {},
   "outputs": [
    {
     "name": "stdout",
     "output_type": "stream",
     "text": [
      "Table (movie) added one row successfully in PostgreSQL \n"
     ]
    }
   ],
   "source": [
    "#### YOUR CODE HERE !!!\n",
    "try:\n",
    "    MovieTable=\"movie\"\n",
    "    add_row_MovieTable_query = '''INSERT INTO '''+ MovieTable+''' \n",
    "                                 (id, title, country, year, tagline)\n",
    "                                  VALUES (4, 'The Matrix', 'USA', 1999, 'Welcome to the Real World'); '''\n",
    "\n",
    "    #Execute this command (SQL Query)\n",
    "    cursor.execute(add_row_MovieTable_query)\n",
    "    \n",
    "    # Make the changes to the database persistent\n",
    "    con.commit()\n",
    "    print(\"Table (\"+ MovieTable +\") added one row successfully in PostgreSQL \")\n",
    "except (Exception, psycopg2.Error) as error:\n",
    "    # if it exits with an exception the transaction is rolled back.\n",
    "    con.rollback()\n",
    "    print(\"Error While Adding row the DB: \",error)"
   ]
  },
  {
   "cell_type": "markdown",
   "metadata": {},
   "source": [
    "#### Adding 'born' column to the person table also requires, altering the table schema"
   ]
  },
  {
   "cell_type": "code",
   "execution_count": 80,
   "metadata": {},
   "outputs": [
    {
     "name": "stdout",
     "output_type": "stream",
     "text": [
      "Table (person) added one column successfully in PostgreSQL \n"
     ]
    }
   ],
   "source": [
    "# Add a new Column to the Schema of person table\n",
    "try:\n",
    "    PersonTable=\"person\"\n",
    "    add_col_PersonTable_query = '''ALTER TABLE  '''+ PersonTable+''' \n",
    "                                 ADD born int; '''\n",
    "\n",
    "    #Execute this command (SQL Query)\n",
    "    cursor.execute(add_col_PersonTable_query)\n",
    "    \n",
    "    # Make the changes to the database persistent\n",
    "    con.commit()\n",
    "    print(\"Table (\"+ PersonTable +\") added one column successfully in PostgreSQL \")\n",
    "except (Exception, psycopg2.Error) as error:\n",
    "    # if it exits with an exception the transaction is rolled back.\n",
    "    con.rollback()\n",
    "    print(\"Error While Adding column the DB: \",error)"
   ]
  },
  {
   "cell_type": "markdown",
   "metadata": {},
   "source": [
    "#### Inserting the  \"4\" more Actors."
   ]
  },
  {
   "cell_type": "code",
   "execution_count": 81,
   "metadata": {},
   "outputs": [
    {
     "name": "stdout",
     "output_type": "stream",
     "text": [
      "4 Record inserted successfully into person table\n"
     ]
    }
   ],
   "source": [
    "#YOU CODE for Adding 4 More Actors\n",
    "sql_insert_person = \"INSERT INTO person (id,name,born) VALUES(%s,%s,%s)\"\n",
    "\n",
    "person_List=[\n",
    "            (5, \"Keanu Reeves\", 1964),\n",
    "            (6,\"Carrie-Anne Moss\", 1967),\n",
    "            (7,\"Laurence Fishburne\",1960),\n",
    "            (8,\"Hugo Weaving\",1960)]\n",
    "\n",
    "try:\n",
    "    # execute the INSERT statement\n",
    "    cursor.executemany(sql_insert_person,person_List)\n",
    "    # commit the changes to the database\n",
    "    con.commit()\n",
    "    #the number of inserted rows/tuples\n",
    "    count = cursor.rowcount\n",
    "    print (count, \"Record inserted successfully into person table\")\n",
    "\n",
    "except (Exception, psycopg2.Error) as error :\n",
    "    con.rollback()\n",
    "    print (\"Error while Inserting the data to the table, Details: \",error)"
   ]
  },
  {
   "cell_type": "markdown",
   "metadata": {},
   "source": [
    "#### Inserting the  \"2\" Directors"
   ]
  },
  {
   "cell_type": "code",
   "execution_count": 82,
   "metadata": {},
   "outputs": [
    {
     "name": "stdout",
     "output_type": "stream",
     "text": [
      "2 Record inserted successfully into person table\n"
     ]
    }
   ],
   "source": [
    "# YOU CODE for Adding 2 more Directors\n",
    "sql_insert_person = \"INSERT INTO person (id,name,born) VALUES(%s,%s,%s)\"\n",
    "\n",
    "person_List=[\n",
    "            (9, \"Lilly Wachowski\", 1967),\n",
    "            (10,\"Lana Wachowski\", 1965)]\n",
    "\n",
    "try:\n",
    "    # execute the INSERT statement\n",
    "    cursor.executemany(sql_insert_person,person_List)\n",
    "    # commit the changes to the database\n",
    "    con.commit()\n",
    "    #the number of inserted rows/tuples\n",
    "    count = cursor.rowcount\n",
    "    print (count, \"Record inserted successfully into person table\")\n",
    "\n",
    "except (Exception, psycopg2.Error) as error :\n",
    "    con.rollback()\n",
    "    print (\"Error while Inserting the data to the table, Details: \",error)"
   ]
  },
  {
   "cell_type": "markdown",
   "metadata": {},
   "source": [
    "#### Specifying this new Label (\"Director\") will require \"normalization\"\n",
    "\n",
    "I highly suggest modeling this a little more \"normalized\". You are already on the right track by realizing that both \"Directors\" and maybe after that \"Actors\" are the same entity (Person). The trick is that you should model \"roles\", and then model user's roles as well. That makes 3 total tables for this small portion of your model.\n",
    "\n",
    "<img src= 'NormalizationTrick.JPG'>"
   ]
  },
  {
   "cell_type": "code",
   "execution_count": 83,
   "metadata": {},
   "outputs": [
    {
     "name": "stdout",
     "output_type": "stream",
     "text": [
      "Table (label) created successfully in PostgreSQL \n"
     ]
    }
   ],
   "source": [
    "#Create Label Table CODE HERE !!!\n",
    "try:\n",
    "    #table_name variable\n",
    "    LabelTable=\"label\"\n",
    "    create_LabelTable_query = '''CREATE TABLE '''+ LabelTable+''' \n",
    "              (id       int     NOT NULL,\n",
    "               label    text    NOT NULL\n",
    "               ); '''\n",
    "\n",
    "    #Execute this command (SQL Query)\n",
    "    cursor.execute(create_LabelTable_query)\n",
    "    \n",
    "    # Make the changes to the database persistent\n",
    "    con.commit()\n",
    "    print(\"Table (\"+ LabelTable +\") created successfully in PostgreSQL \")\n",
    "except (Exception, psycopg2.Error) as error:\n",
    "    # if it exits with an exception the transaction is rolled back.\n",
    "    con.rollback()\n",
    "    print(\"Error While Creating the DB: \",error)"
   ]
  },
  {
   "cell_type": "code",
   "execution_count": 84,
   "metadata": {},
   "outputs": [
    {
     "name": "stdout",
     "output_type": "stream",
     "text": [
      "Table (person_label) created successfully in PostgreSQL \n"
     ]
    }
   ],
   "source": [
    "#Create Person_Label Table CODE HERE !!!\n",
    "try:\n",
    "    #table_name variable\n",
    "    PersonLabelTable=\"person_label\"\n",
    "    create_PersonLabelTable_query = '''CREATE TABLE '''+ PersonLabelTable+''' \n",
    "              (person_id   int    NOT NULL,\n",
    "               label_id    int    NOT NULL\n",
    "               ); '''\n",
    "\n",
    "    #Execute this command (SQL Query)\n",
    "    cursor.execute(create_PersonLabelTable_query)\n",
    "    \n",
    "    # Make the changes to the database persistent\n",
    "    con.commit()\n",
    "    print(\"Table (\"+ PersonLabelTable +\") created successfully in PostgreSQL \")\n",
    "except (Exception, psycopg2.Error) as error:\n",
    "    # if it exits with an exception the transaction is rolled back.\n",
    "    con.rollback()\n",
    "    print(\"Error While Creating the DB: \",error)"
   ]
  },
  {
   "cell_type": "markdown",
   "metadata": {},
   "source": [
    "#### Insert Data into the two new normalized tables (\"Person_label\", and \"Label\") "
   ]
  },
  {
   "cell_type": "code",
   "execution_count": 85,
   "metadata": {},
   "outputs": [
    {
     "name": "stdout",
     "output_type": "stream",
     "text": [
      "2 Record inserted successfully into label table\n",
      "10 Record inserted successfully into person_label table\n"
     ]
    }
   ],
   "source": [
    "#### YOUR CODE HERE !!!\n",
    "sql_insert_label = \"INSERT INTO label (id,label) VALUES(%s,%s)\"\n",
    "\n",
    "label_List=[\n",
    "            (1,\"Actor\"),\n",
    "            (2,\"Director\")]\n",
    "\n",
    "try:\n",
    "    # execute the INSERT statement\n",
    "    cursor.executemany(sql_insert_label,label_List)\n",
    "    # commit the changes to the database\n",
    "    con.commit()\n",
    "    #the number of inserted rows/tuples\n",
    "    count = cursor.rowcount\n",
    "    print (count, \"Record inserted successfully into label table\")\n",
    "\n",
    "except (Exception, psycopg2.Error) as error :\n",
    "    con.rollback()\n",
    "    print (\"Error while Inserting the data to the label table, Details: \",error)\n",
    "\n",
    "\n",
    "sql_insert_person_label = \"INSERT INTO person_label (person_id,label_id) VALUES(%s,%s)\"\n",
    "\n",
    "person_label_List=[\n",
    "                    (1,1),\n",
    "                    (2,1),\n",
    "                    (3,1),\n",
    "                    (4,1),\n",
    "                    (5,1),\n",
    "                    (6,1),\n",
    "                    (7,1),\n",
    "                    (8,1),\n",
    "                    (9,2),\n",
    "                    (10,2)]\n",
    "\n",
    "try:\n",
    "    # execute the INSERT statement\n",
    "    cursor.executemany(sql_insert_person_label,person_label_List)\n",
    "    # commit the changes to the database\n",
    "    con.commit()\n",
    "    #the number of inserted rows/tuples\n",
    "    count = cursor.rowcount\n",
    "    print (count, \"Record inserted successfully into person_label table\")\n",
    "\n",
    "except (Exception, psycopg2.Error) as error :\n",
    "    con.rollback()\n",
    "    print (\"Error while Inserting the data to the person_label table, Details: \",error)\n"
   ]
  },
  {
   "cell_type": "markdown",
   "metadata": {},
   "source": [
    "#### Perform a query that shows only the \"Directors\""
   ]
  },
  {
   "cell_type": "code",
   "execution_count": 86,
   "metadata": {},
   "outputs": [
    {
     "data": {
      "text/html": [
       "<style  type=\"text/css\" >\n",
       "</style><table id=\"T_eae59_\" ><thead>    <tr>        <th class=\"col_heading level0 col0\" >id</th>        <th class=\"col_heading level0 col1\" >name</th>        <th class=\"col_heading level0 col2\" >born</th>        <th class=\"col_heading level0 col3\" >label</th>    </tr></thead><tbody>\n",
       "                <tr>\n",
       "                                <td id=\"T_eae59_row0_col0\" class=\"data row0 col0\" >9</td>\n",
       "                        <td id=\"T_eae59_row0_col1\" class=\"data row0 col1\" >Lilly Wachowski</td>\n",
       "                        <td id=\"T_eae59_row0_col2\" class=\"data row0 col2\" >1967</td>\n",
       "                        <td id=\"T_eae59_row0_col3\" class=\"data row0 col3\" >Director</td>\n",
       "            </tr>\n",
       "            <tr>\n",
       "                                <td id=\"T_eae59_row1_col0\" class=\"data row1 col0\" >10</td>\n",
       "                        <td id=\"T_eae59_row1_col1\" class=\"data row1 col1\" >Lana Wachowski</td>\n",
       "                        <td id=\"T_eae59_row1_col2\" class=\"data row1 col2\" >1965</td>\n",
       "                        <td id=\"T_eae59_row1_col3\" class=\"data row1 col3\" >Director</td>\n",
       "            </tr>\n",
       "    </tbody></table>"
      ],
      "text/plain": [
       "<pandas.io.formats.style.Styler at 0x293695b5b50>"
      ]
     },
     "metadata": {},
     "output_type": "display_data"
    }
   ],
   "source": [
    "#### YOUR CODE HERE !!!\n",
    "DirectorsList= pd.read_sql('''  SELECT tbl1.id, tbl1.name, tbl1.born, label.label\n",
    "                                FROM (SELECT *\n",
    "                                      FROM person \n",
    "                                      JOIN \"person_label\" ON person.id = person_label.person_id\n",
    "                                      ) AS tbl1\n",
    "                                JOIN \"label\" ON tbl1.label_id = label.id  \n",
    "                                WHERE label.label = 'Director' ''', con)\n",
    "display(DirectorsList.style.hide_index())\n"
   ]
  },
  {
   "cell_type": "markdown",
   "metadata": {},
   "source": [
    "#### \"Directed\" Relationship creation"
   ]
  },
  {
   "cell_type": "code",
   "execution_count": 87,
   "metadata": {},
   "outputs": [
    {
     "name": "stdout",
     "output_type": "stream",
     "text": [
      "Table (directed) created successfully in PostgreSQL \n"
     ]
    }
   ],
   "source": [
    "# CODE to create the \"Directed\" Relationship.\n",
    "try:\n",
    "    #table_name variable\n",
    "    DirectedTable=\"directed\"\n",
    "    create_DirectedTable_query = '''CREATE TABLE '''+ DirectedTable+''' \n",
    "              (person_id   int     REFERENCES person(id),\n",
    "               movie_id    int     REFERENCES movie(id)\n",
    "               ); '''\n",
    "\n",
    "    #Execute this command (SQL Query)\n",
    "    cursor.execute(create_DirectedTable_query)\n",
    "    \n",
    "    # Make the changes to the database persistent\n",
    "    con.commit()\n",
    "    print(\"Table (\"+ DirectedTable +\") created successfully in PostgreSQL \")\n",
    "except (Exception, psycopg2.Error) as error:\n",
    "    # if it exits with an exception the transaction is rolled back.\n",
    "    con.rollback()\n",
    "    print(\"Error While Creating the DB: \",error)"
   ]
  },
  {
   "cell_type": "markdown",
   "metadata": {},
   "source": [
    "#### Insert data to the \"Directed\" table "
   ]
  },
  {
   "cell_type": "code",
   "execution_count": 88,
   "metadata": {},
   "outputs": [
    {
     "name": "stdout",
     "output_type": "stream",
     "text": [
      "2 Record inserted successfully into roles table\n"
     ]
    }
   ],
   "source": [
    "### YOUR CODE HERE !!!\n",
    "sql_insert_directed = \"INSERT INTO directed (person_id,movie_id) VALUES(%s,%s)\"\n",
    "\n",
    "directed_List=[\n",
    "            (9,4),\n",
    "            (10,4)]\n",
    "\n",
    "try:\n",
    "    # execute the INSERT statement\n",
    "    cursor.executemany(sql_insert_directed,directed_List)\n",
    "    # commit the changes to the database\n",
    "    con.commit()\n",
    "    #the number of inserted rows/tuples\n",
    "    count = cursor.rowcount\n",
    "    print (count, \"Record inserted successfully into roles table\")\n",
    "\n",
    "except (Exception, psycopg2.Error) as error :\n",
    "    con.rollback()\n",
    "    print (\"Error while Inserting the data to the table, Details: \",error)\n"
   ]
  },
  {
   "cell_type": "markdown",
   "metadata": {},
   "source": [
    "### Perform a query that get persons who Directed \"The matrix\" movie."
   ]
  },
  {
   "cell_type": "code",
   "execution_count": 89,
   "metadata": {},
   "outputs": [
    {
     "data": {
      "text/html": [
       "<style  type=\"text/css\" >\n",
       "</style><table id=\"T_5d174_\" ><thead>    <tr>        <th class=\"col_heading level0 col0\" >id</th>        <th class=\"col_heading level0 col1\" >name</th>        <th class=\"col_heading level0 col2\" >born</th>    </tr></thead><tbody>\n",
       "                <tr>\n",
       "                                <td id=\"T_5d174_row0_col0\" class=\"data row0 col0\" >9</td>\n",
       "                        <td id=\"T_5d174_row0_col1\" class=\"data row0 col1\" >Lilly Wachowski</td>\n",
       "                        <td id=\"T_5d174_row0_col2\" class=\"data row0 col2\" >1967</td>\n",
       "            </tr>\n",
       "            <tr>\n",
       "                                <td id=\"T_5d174_row1_col0\" class=\"data row1 col0\" >10</td>\n",
       "                        <td id=\"T_5d174_row1_col1\" class=\"data row1 col1\" >Lana Wachowski</td>\n",
       "                        <td id=\"T_5d174_row1_col2\" class=\"data row1 col2\" >1965</td>\n",
       "            </tr>\n",
       "    </tbody></table>"
      ],
      "text/plain": [
       "<pandas.io.formats.style.Styler at 0x2936949fd90>"
      ]
     },
     "metadata": {},
     "output_type": "display_data"
    }
   ],
   "source": [
    "### YOUR CODE HERE !!!\n",
    "DirectorsMatrixList= pd.read_sql('''SELECT tbl1.id, tbl1.name, tbl1.born\n",
    "                                    FROM (SELECT person.id, person.name, person.born, directed.movie_id\n",
    "                                          FROM person\n",
    "                                          JOIN \"directed\" on person.id = directed.person_id) AS tbl1\n",
    "                                    JOIN \"movie\" on tbl1.movie_id = movie.id\n",
    "                                    WHERE movie.title = 'The Matrix' ''', con)\n",
    "display(DirectorsMatrixList.style.hide_index())"
   ]
  },
  {
   "cell_type": "markdown",
   "metadata": {},
   "source": [
    "## Task 3 (Tartu Country Club): \n",
    "\n",
    "- The DB  centered arround a **\"country club\"**, with a set of **members**, **facilities** such as tennis courts, and booking history for those facilities. \n",
    "- Amongst other things, the club wants to understand how they can use their information to analyze facility usage/demand.\n",
    "\n",
    "<img src=\"DBSchema.JPG\">"
   ]
  },
  {
   "cell_type": "markdown",
   "metadata": {},
   "source": [
    "#### From the above schema Diagram, answer the following questions:\n",
    "- What is the relationship type(i.e. nature) between the **\"memebers\"** and **\"facilities\"** tables?"
   ]
  },
  {
   "attachments": {},
   "cell_type": "markdown",
   "metadata": {},
   "source": [
    "##### <font color='green'>Answer: </font> (1:n)"
   ]
  },
  {
   "cell_type": "markdown",
   "metadata": {},
   "source": [
    "- Mention How was this relationship handled ?"
   ]
  },
  {
   "cell_type": "markdown",
   "metadata": {},
   "source": [
    "##### <font color='green'>Answer: </font>"
   ]
  },
  {
   "cell_type": "markdown",
   "metadata": {},
   "source": [
    "- Mention what are the keys (PRIMARY, FORIEGN,..) in all the three tables (DB schema)."
   ]
  },
  {
   "attachments": {},
   "cell_type": "markdown",
   "metadata": {},
   "source": [
    "##### <font color='green'>Answer: </font> \n",
    "##### members:Primary:memid;    \n",
    "##### facilities:Primary:facid;   \n",
    "##### bookings:Foriegn: memid(members.memid), facid(facilities.facid)."
   ]
  },
  {
   "cell_type": "markdown",
   "metadata": {},
   "source": [
    "- What is the Degree of each Table in the above DB schema?"
   ]
  },
  {
   "attachments": {},
   "cell_type": "markdown",
   "metadata": {},
   "source": [
    "##### <font color='green'>Answer: </font>\n",
    "##### members: 8\n",
    "##### bookings: 4\n",
    "##### facilities: 6"
   ]
  },
  {
   "cell_type": "markdown",
   "metadata": {},
   "source": [
    "#### Use the attached  <font color='green'> \"clubdata.sql\" </font> script to create DB , tables, and insert data in the created tables.\n",
    "- login to your postgres command line as shown above.\n",
    "- use the command in your ***PSQL SHELL***  <code>\\i 'your/path/clubdata.sql'</code> to run the script."
   ]
  },
  {
   "cell_type": "markdown",
   "metadata": {},
   "source": [
    "#### Use SQL commands using python like in this jupyter note book, or use \"PgAdmin\" to answer the following:"
   ]
  },
  {
   "cell_type": "markdown",
   "metadata": {},
   "source": [
    "#### Get a list of all of the facilities and their cost to members."
   ]
  },
  {
   "cell_type": "code",
   "execution_count": 104,
   "metadata": {},
   "outputs": [
    {
     "name": "stdout",
     "output_type": "stream",
     "text": [
      "connected again to the server, and cusor now on exercises !!\n"
     ]
    },
    {
     "data": {
      "text/html": [
       "<style  type=\"text/css\" >\n",
       "</style><table id=\"T_b4fd5_\" ><thead>    <tr>        <th class=\"col_heading level0 col0\" >memid</th>        <th class=\"col_heading level0 col1\" >name</th>        <th class=\"col_heading level0 col2\" >membercost</th>    </tr></thead><tbody>\n",
       "                <tr>\n",
       "                                <td id=\"T_b4fd5_row0_col0\" class=\"data row0 col0\" >0</td>\n",
       "                        <td id=\"T_b4fd5_row0_col1\" class=\"data row0 col1\" >Badminton Court</td>\n",
       "                        <td id=\"T_b4fd5_row0_col2\" class=\"data row0 col2\" >0.000000</td>\n",
       "            </tr>\n",
       "            <tr>\n",
       "                                <td id=\"T_b4fd5_row1_col0\" class=\"data row1 col0\" >0</td>\n",
       "                        <td id=\"T_b4fd5_row1_col1\" class=\"data row1 col1\" >Squash Court</td>\n",
       "                        <td id=\"T_b4fd5_row1_col2\" class=\"data row1 col2\" >3.500000</td>\n",
       "            </tr>\n",
       "            <tr>\n",
       "                                <td id=\"T_b4fd5_row2_col0\" class=\"data row2 col0\" >0</td>\n",
       "                        <td id=\"T_b4fd5_row2_col1\" class=\"data row2 col1\" >Massage Room 2</td>\n",
       "                        <td id=\"T_b4fd5_row2_col2\" class=\"data row2 col2\" >35.000000</td>\n",
       "            </tr>\n",
       "            <tr>\n",
       "                                <td id=\"T_b4fd5_row3_col0\" class=\"data row3 col0\" >0</td>\n",
       "                        <td id=\"T_b4fd5_row3_col1\" class=\"data row3 col1\" >Pool Table</td>\n",
       "                        <td id=\"T_b4fd5_row3_col2\" class=\"data row3 col2\" >0.000000</td>\n",
       "            </tr>\n",
       "            <tr>\n",
       "                                <td id=\"T_b4fd5_row4_col0\" class=\"data row4 col0\" >0</td>\n",
       "                        <td id=\"T_b4fd5_row4_col1\" class=\"data row4 col1\" >Snooker Table</td>\n",
       "                        <td id=\"T_b4fd5_row4_col2\" class=\"data row4 col2\" >0.000000</td>\n",
       "            </tr>\n",
       "            <tr>\n",
       "                                <td id=\"T_b4fd5_row5_col0\" class=\"data row5 col0\" >0</td>\n",
       "                        <td id=\"T_b4fd5_row5_col1\" class=\"data row5 col1\" >Table Tennis</td>\n",
       "                        <td id=\"T_b4fd5_row5_col2\" class=\"data row5 col2\" >0.000000</td>\n",
       "            </tr>\n",
       "            <tr>\n",
       "                                <td id=\"T_b4fd5_row6_col0\" class=\"data row6 col0\" >0</td>\n",
       "                        <td id=\"T_b4fd5_row6_col1\" class=\"data row6 col1\" >Tennis Court 1</td>\n",
       "                        <td id=\"T_b4fd5_row6_col2\" class=\"data row6 col2\" >5.000000</td>\n",
       "            </tr>\n",
       "            <tr>\n",
       "                                <td id=\"T_b4fd5_row7_col0\" class=\"data row7 col0\" >0</td>\n",
       "                        <td id=\"T_b4fd5_row7_col1\" class=\"data row7 col1\" >Massage Room 1</td>\n",
       "                        <td id=\"T_b4fd5_row7_col2\" class=\"data row7 col2\" >35.000000</td>\n",
       "            </tr>\n",
       "            <tr>\n",
       "                                <td id=\"T_b4fd5_row8_col0\" class=\"data row8 col0\" >0</td>\n",
       "                        <td id=\"T_b4fd5_row8_col1\" class=\"data row8 col1\" >Tennis Court 2</td>\n",
       "                        <td id=\"T_b4fd5_row8_col2\" class=\"data row8 col2\" >5.000000</td>\n",
       "            </tr>\n",
       "            <tr>\n",
       "                                <td id=\"T_b4fd5_row9_col0\" class=\"data row9 col0\" >1</td>\n",
       "                        <td id=\"T_b4fd5_row9_col1\" class=\"data row9 col1\" >Massage Room 1</td>\n",
       "                        <td id=\"T_b4fd5_row9_col2\" class=\"data row9 col2\" >35.000000</td>\n",
       "            </tr>\n",
       "            <tr>\n",
       "                                <td id=\"T_b4fd5_row10_col0\" class=\"data row10 col0\" >1</td>\n",
       "                        <td id=\"T_b4fd5_row10_col1\" class=\"data row10 col1\" >Snooker Table</td>\n",
       "                        <td id=\"T_b4fd5_row10_col2\" class=\"data row10 col2\" >0.000000</td>\n",
       "            </tr>\n",
       "            <tr>\n",
       "                                <td id=\"T_b4fd5_row11_col0\" class=\"data row11 col0\" >1</td>\n",
       "                        <td id=\"T_b4fd5_row11_col1\" class=\"data row11 col1\" >Tennis Court 2</td>\n",
       "                        <td id=\"T_b4fd5_row11_col2\" class=\"data row11 col2\" >5.000000</td>\n",
       "            </tr>\n",
       "            <tr>\n",
       "                                <td id=\"T_b4fd5_row12_col0\" class=\"data row12 col0\" >1</td>\n",
       "                        <td id=\"T_b4fd5_row12_col1\" class=\"data row12 col1\" >Table Tennis</td>\n",
       "                        <td id=\"T_b4fd5_row12_col2\" class=\"data row12 col2\" >0.000000</td>\n",
       "            </tr>\n",
       "            <tr>\n",
       "                                <td id=\"T_b4fd5_row13_col0\" class=\"data row13 col0\" >1</td>\n",
       "                        <td id=\"T_b4fd5_row13_col1\" class=\"data row13 col1\" >Badminton Court</td>\n",
       "                        <td id=\"T_b4fd5_row13_col2\" class=\"data row13 col2\" >0.000000</td>\n",
       "            </tr>\n",
       "            <tr>\n",
       "                                <td id=\"T_b4fd5_row14_col0\" class=\"data row14 col0\" >1</td>\n",
       "                        <td id=\"T_b4fd5_row14_col1\" class=\"data row14 col1\" >Pool Table</td>\n",
       "                        <td id=\"T_b4fd5_row14_col2\" class=\"data row14 col2\" >0.000000</td>\n",
       "            </tr>\n",
       "            <tr>\n",
       "                                <td id=\"T_b4fd5_row15_col0\" class=\"data row15 col0\" >1</td>\n",
       "                        <td id=\"T_b4fd5_row15_col1\" class=\"data row15 col1\" >Squash Court</td>\n",
       "                        <td id=\"T_b4fd5_row15_col2\" class=\"data row15 col2\" >3.500000</td>\n",
       "            </tr>\n",
       "            <tr>\n",
       "                                <td id=\"T_b4fd5_row16_col0\" class=\"data row16 col0\" >2</td>\n",
       "                        <td id=\"T_b4fd5_row16_col1\" class=\"data row16 col1\" >Squash Court</td>\n",
       "                        <td id=\"T_b4fd5_row16_col2\" class=\"data row16 col2\" >3.500000</td>\n",
       "            </tr>\n",
       "            <tr>\n",
       "                                <td id=\"T_b4fd5_row17_col0\" class=\"data row17 col0\" >2</td>\n",
       "                        <td id=\"T_b4fd5_row17_col1\" class=\"data row17 col1\" >Badminton Court</td>\n",
       "                        <td id=\"T_b4fd5_row17_col2\" class=\"data row17 col2\" >0.000000</td>\n",
       "            </tr>\n",
       "            <tr>\n",
       "                                <td id=\"T_b4fd5_row18_col0\" class=\"data row18 col0\" >2</td>\n",
       "                        <td id=\"T_b4fd5_row18_col1\" class=\"data row18 col1\" >Massage Room 1</td>\n",
       "                        <td id=\"T_b4fd5_row18_col2\" class=\"data row18 col2\" >35.000000</td>\n",
       "            </tr>\n",
       "            <tr>\n",
       "                                <td id=\"T_b4fd5_row19_col0\" class=\"data row19 col0\" >2</td>\n",
       "                        <td id=\"T_b4fd5_row19_col1\" class=\"data row19 col1\" >Tennis Court 1</td>\n",
       "                        <td id=\"T_b4fd5_row19_col2\" class=\"data row19 col2\" >5.000000</td>\n",
       "            </tr>\n",
       "            <tr>\n",
       "                                <td id=\"T_b4fd5_row20_col0\" class=\"data row20 col0\" >2</td>\n",
       "                        <td id=\"T_b4fd5_row20_col1\" class=\"data row20 col1\" >Pool Table</td>\n",
       "                        <td id=\"T_b4fd5_row20_col2\" class=\"data row20 col2\" >0.000000</td>\n",
       "            </tr>\n",
       "            <tr>\n",
       "                                <td id=\"T_b4fd5_row21_col0\" class=\"data row21 col0\" >2</td>\n",
       "                        <td id=\"T_b4fd5_row21_col1\" class=\"data row21 col1\" >Tennis Court 2</td>\n",
       "                        <td id=\"T_b4fd5_row21_col2\" class=\"data row21 col2\" >5.000000</td>\n",
       "            </tr>\n",
       "            <tr>\n",
       "                                <td id=\"T_b4fd5_row22_col0\" class=\"data row22 col0\" >2</td>\n",
       "                        <td id=\"T_b4fd5_row22_col1\" class=\"data row22 col1\" >Snooker Table</td>\n",
       "                        <td id=\"T_b4fd5_row22_col2\" class=\"data row22 col2\" >0.000000</td>\n",
       "            </tr>\n",
       "            <tr>\n",
       "                                <td id=\"T_b4fd5_row23_col0\" class=\"data row23 col0\" >2</td>\n",
       "                        <td id=\"T_b4fd5_row23_col1\" class=\"data row23 col1\" >Table Tennis</td>\n",
       "                        <td id=\"T_b4fd5_row23_col2\" class=\"data row23 col2\" >0.000000</td>\n",
       "            </tr>\n",
       "            <tr>\n",
       "                                <td id=\"T_b4fd5_row24_col0\" class=\"data row24 col0\" >3</td>\n",
       "                        <td id=\"T_b4fd5_row24_col1\" class=\"data row24 col1\" >Table Tennis</td>\n",
       "                        <td id=\"T_b4fd5_row24_col2\" class=\"data row24 col2\" >0.000000</td>\n",
       "            </tr>\n",
       "            <tr>\n",
       "                                <td id=\"T_b4fd5_row25_col0\" class=\"data row25 col0\" >3</td>\n",
       "                        <td id=\"T_b4fd5_row25_col1\" class=\"data row25 col1\" >Massage Room 1</td>\n",
       "                        <td id=\"T_b4fd5_row25_col2\" class=\"data row25 col2\" >35.000000</td>\n",
       "            </tr>\n",
       "            <tr>\n",
       "                                <td id=\"T_b4fd5_row26_col0\" class=\"data row26 col0\" >3</td>\n",
       "                        <td id=\"T_b4fd5_row26_col1\" class=\"data row26 col1\" >Badminton Court</td>\n",
       "                        <td id=\"T_b4fd5_row26_col2\" class=\"data row26 col2\" >0.000000</td>\n",
       "            </tr>\n",
       "            <tr>\n",
       "                                <td id=\"T_b4fd5_row27_col0\" class=\"data row27 col0\" >3</td>\n",
       "                        <td id=\"T_b4fd5_row27_col1\" class=\"data row27 col1\" >Massage Room 2</td>\n",
       "                        <td id=\"T_b4fd5_row27_col2\" class=\"data row27 col2\" >35.000000</td>\n",
       "            </tr>\n",
       "            <tr>\n",
       "                                <td id=\"T_b4fd5_row28_col0\" class=\"data row28 col0\" >3</td>\n",
       "                        <td id=\"T_b4fd5_row28_col1\" class=\"data row28 col1\" >Tennis Court 1</td>\n",
       "                        <td id=\"T_b4fd5_row28_col2\" class=\"data row28 col2\" >5.000000</td>\n",
       "            </tr>\n",
       "            <tr>\n",
       "                                <td id=\"T_b4fd5_row29_col0\" class=\"data row29 col0\" >3</td>\n",
       "                        <td id=\"T_b4fd5_row29_col1\" class=\"data row29 col1\" >Pool Table</td>\n",
       "                        <td id=\"T_b4fd5_row29_col2\" class=\"data row29 col2\" >0.000000</td>\n",
       "            </tr>\n",
       "            <tr>\n",
       "                                <td id=\"T_b4fd5_row30_col0\" class=\"data row30 col0\" >3</td>\n",
       "                        <td id=\"T_b4fd5_row30_col1\" class=\"data row30 col1\" >Tennis Court 2</td>\n",
       "                        <td id=\"T_b4fd5_row30_col2\" class=\"data row30 col2\" >5.000000</td>\n",
       "            </tr>\n",
       "            <tr>\n",
       "                                <td id=\"T_b4fd5_row31_col0\" class=\"data row31 col0\" >4</td>\n",
       "                        <td id=\"T_b4fd5_row31_col1\" class=\"data row31 col1\" >Massage Room 1</td>\n",
       "                        <td id=\"T_b4fd5_row31_col2\" class=\"data row31 col2\" >35.000000</td>\n",
       "            </tr>\n",
       "            <tr>\n",
       "                                <td id=\"T_b4fd5_row32_col0\" class=\"data row32 col0\" >4</td>\n",
       "                        <td id=\"T_b4fd5_row32_col1\" class=\"data row32 col1\" >Massage Room 2</td>\n",
       "                        <td id=\"T_b4fd5_row32_col2\" class=\"data row32 col2\" >35.000000</td>\n",
       "            </tr>\n",
       "            <tr>\n",
       "                                <td id=\"T_b4fd5_row33_col0\" class=\"data row33 col0\" >4</td>\n",
       "                        <td id=\"T_b4fd5_row33_col1\" class=\"data row33 col1\" >Squash Court</td>\n",
       "                        <td id=\"T_b4fd5_row33_col2\" class=\"data row33 col2\" >3.500000</td>\n",
       "            </tr>\n",
       "            <tr>\n",
       "                                <td id=\"T_b4fd5_row34_col0\" class=\"data row34 col0\" >4</td>\n",
       "                        <td id=\"T_b4fd5_row34_col1\" class=\"data row34 col1\" >Tennis Court 2</td>\n",
       "                        <td id=\"T_b4fd5_row34_col2\" class=\"data row34 col2\" >5.000000</td>\n",
       "            </tr>\n",
       "            <tr>\n",
       "                                <td id=\"T_b4fd5_row35_col0\" class=\"data row35 col0\" >4</td>\n",
       "                        <td id=\"T_b4fd5_row35_col1\" class=\"data row35 col1\" >Table Tennis</td>\n",
       "                        <td id=\"T_b4fd5_row35_col2\" class=\"data row35 col2\" >0.000000</td>\n",
       "            </tr>\n",
       "            <tr>\n",
       "                                <td id=\"T_b4fd5_row36_col0\" class=\"data row36 col0\" >4</td>\n",
       "                        <td id=\"T_b4fd5_row36_col1\" class=\"data row36 col1\" >Tennis Court 1</td>\n",
       "                        <td id=\"T_b4fd5_row36_col2\" class=\"data row36 col2\" >5.000000</td>\n",
       "            </tr>\n",
       "            <tr>\n",
       "                                <td id=\"T_b4fd5_row37_col0\" class=\"data row37 col0\" >4</td>\n",
       "                        <td id=\"T_b4fd5_row37_col1\" class=\"data row37 col1\" >Snooker Table</td>\n",
       "                        <td id=\"T_b4fd5_row37_col2\" class=\"data row37 col2\" >0.000000</td>\n",
       "            </tr>\n",
       "            <tr>\n",
       "                                <td id=\"T_b4fd5_row38_col0\" class=\"data row38 col0\" >4</td>\n",
       "                        <td id=\"T_b4fd5_row38_col1\" class=\"data row38 col1\" >Pool Table</td>\n",
       "                        <td id=\"T_b4fd5_row38_col2\" class=\"data row38 col2\" >0.000000</td>\n",
       "            </tr>\n",
       "            <tr>\n",
       "                                <td id=\"T_b4fd5_row39_col0\" class=\"data row39 col0\" >5</td>\n",
       "                        <td id=\"T_b4fd5_row39_col1\" class=\"data row39 col1\" >Massage Room 2</td>\n",
       "                        <td id=\"T_b4fd5_row39_col2\" class=\"data row39 col2\" >35.000000</td>\n",
       "            </tr>\n",
       "            <tr>\n",
       "                                <td id=\"T_b4fd5_row40_col0\" class=\"data row40 col0\" >5</td>\n",
       "                        <td id=\"T_b4fd5_row40_col1\" class=\"data row40 col1\" >Tennis Court 1</td>\n",
       "                        <td id=\"T_b4fd5_row40_col2\" class=\"data row40 col2\" >5.000000</td>\n",
       "            </tr>\n",
       "            <tr>\n",
       "                                <td id=\"T_b4fd5_row41_col0\" class=\"data row41 col0\" >5</td>\n",
       "                        <td id=\"T_b4fd5_row41_col1\" class=\"data row41 col1\" >Pool Table</td>\n",
       "                        <td id=\"T_b4fd5_row41_col2\" class=\"data row41 col2\" >0.000000</td>\n",
       "            </tr>\n",
       "            <tr>\n",
       "                                <td id=\"T_b4fd5_row42_col0\" class=\"data row42 col0\" >5</td>\n",
       "                        <td id=\"T_b4fd5_row42_col1\" class=\"data row42 col1\" >Snooker Table</td>\n",
       "                        <td id=\"T_b4fd5_row42_col2\" class=\"data row42 col2\" >0.000000</td>\n",
       "            </tr>\n",
       "            <tr>\n",
       "                                <td id=\"T_b4fd5_row43_col0\" class=\"data row43 col0\" >5</td>\n",
       "                        <td id=\"T_b4fd5_row43_col1\" class=\"data row43 col1\" >Squash Court</td>\n",
       "                        <td id=\"T_b4fd5_row43_col2\" class=\"data row43 col2\" >3.500000</td>\n",
       "            </tr>\n",
       "            <tr>\n",
       "                                <td id=\"T_b4fd5_row44_col0\" class=\"data row44 col0\" >5</td>\n",
       "                        <td id=\"T_b4fd5_row44_col1\" class=\"data row44 col1\" >Tennis Court 2</td>\n",
       "                        <td id=\"T_b4fd5_row44_col2\" class=\"data row44 col2\" >5.000000</td>\n",
       "            </tr>\n",
       "            <tr>\n",
       "                                <td id=\"T_b4fd5_row45_col0\" class=\"data row45 col0\" >5</td>\n",
       "                        <td id=\"T_b4fd5_row45_col1\" class=\"data row45 col1\" >Table Tennis</td>\n",
       "                        <td id=\"T_b4fd5_row45_col2\" class=\"data row45 col2\" >0.000000</td>\n",
       "            </tr>\n",
       "            <tr>\n",
       "                                <td id=\"T_b4fd5_row46_col0\" class=\"data row46 col0\" >5</td>\n",
       "                        <td id=\"T_b4fd5_row46_col1\" class=\"data row46 col1\" >Massage Room 1</td>\n",
       "                        <td id=\"T_b4fd5_row46_col2\" class=\"data row46 col2\" >35.000000</td>\n",
       "            </tr>\n",
       "            <tr>\n",
       "                                <td id=\"T_b4fd5_row47_col0\" class=\"data row47 col0\" >5</td>\n",
       "                        <td id=\"T_b4fd5_row47_col1\" class=\"data row47 col1\" >Badminton Court</td>\n",
       "                        <td id=\"T_b4fd5_row47_col2\" class=\"data row47 col2\" >0.000000</td>\n",
       "            </tr>\n",
       "            <tr>\n",
       "                                <td id=\"T_b4fd5_row48_col0\" class=\"data row48 col0\" >6</td>\n",
       "                        <td id=\"T_b4fd5_row48_col1\" class=\"data row48 col1\" >Tennis Court 2</td>\n",
       "                        <td id=\"T_b4fd5_row48_col2\" class=\"data row48 col2\" >5.000000</td>\n",
       "            </tr>\n",
       "            <tr>\n",
       "                                <td id=\"T_b4fd5_row49_col0\" class=\"data row49 col0\" >6</td>\n",
       "                        <td id=\"T_b4fd5_row49_col1\" class=\"data row49 col1\" >Snooker Table</td>\n",
       "                        <td id=\"T_b4fd5_row49_col2\" class=\"data row49 col2\" >0.000000</td>\n",
       "            </tr>\n",
       "            <tr>\n",
       "                                <td id=\"T_b4fd5_row50_col0\" class=\"data row50 col0\" >6</td>\n",
       "                        <td id=\"T_b4fd5_row50_col1\" class=\"data row50 col1\" >Badminton Court</td>\n",
       "                        <td id=\"T_b4fd5_row50_col2\" class=\"data row50 col2\" >0.000000</td>\n",
       "            </tr>\n",
       "            <tr>\n",
       "                                <td id=\"T_b4fd5_row51_col0\" class=\"data row51 col0\" >6</td>\n",
       "                        <td id=\"T_b4fd5_row51_col1\" class=\"data row51 col1\" >Massage Room 1</td>\n",
       "                        <td id=\"T_b4fd5_row51_col2\" class=\"data row51 col2\" >35.000000</td>\n",
       "            </tr>\n",
       "            <tr>\n",
       "                                <td id=\"T_b4fd5_row52_col0\" class=\"data row52 col0\" >6</td>\n",
       "                        <td id=\"T_b4fd5_row52_col1\" class=\"data row52 col1\" >Squash Court</td>\n",
       "                        <td id=\"T_b4fd5_row52_col2\" class=\"data row52 col2\" >3.500000</td>\n",
       "            </tr>\n",
       "            <tr>\n",
       "                                <td id=\"T_b4fd5_row53_col0\" class=\"data row53 col0\" >6</td>\n",
       "                        <td id=\"T_b4fd5_row53_col1\" class=\"data row53 col1\" >Pool Table</td>\n",
       "                        <td id=\"T_b4fd5_row53_col2\" class=\"data row53 col2\" >0.000000</td>\n",
       "            </tr>\n",
       "            <tr>\n",
       "                                <td id=\"T_b4fd5_row54_col0\" class=\"data row54 col0\" >6</td>\n",
       "                        <td id=\"T_b4fd5_row54_col1\" class=\"data row54 col1\" >Table Tennis</td>\n",
       "                        <td id=\"T_b4fd5_row54_col2\" class=\"data row54 col2\" >0.000000</td>\n",
       "            </tr>\n",
       "            <tr>\n",
       "                                <td id=\"T_b4fd5_row55_col0\" class=\"data row55 col0\" >6</td>\n",
       "                        <td id=\"T_b4fd5_row55_col1\" class=\"data row55 col1\" >Tennis Court 1</td>\n",
       "                        <td id=\"T_b4fd5_row55_col2\" class=\"data row55 col2\" >5.000000</td>\n",
       "            </tr>\n",
       "            <tr>\n",
       "                                <td id=\"T_b4fd5_row56_col0\" class=\"data row56 col0\" >7</td>\n",
       "                        <td id=\"T_b4fd5_row56_col1\" class=\"data row56 col1\" >Snooker Table</td>\n",
       "                        <td id=\"T_b4fd5_row56_col2\" class=\"data row56 col2\" >0.000000</td>\n",
       "            </tr>\n",
       "            <tr>\n",
       "                                <td id=\"T_b4fd5_row57_col0\" class=\"data row57 col0\" >7</td>\n",
       "                        <td id=\"T_b4fd5_row57_col1\" class=\"data row57 col1\" >Tennis Court 1</td>\n",
       "                        <td id=\"T_b4fd5_row57_col2\" class=\"data row57 col2\" >5.000000</td>\n",
       "            </tr>\n",
       "            <tr>\n",
       "                                <td id=\"T_b4fd5_row58_col0\" class=\"data row58 col0\" >7</td>\n",
       "                        <td id=\"T_b4fd5_row58_col1\" class=\"data row58 col1\" >Tennis Court 2</td>\n",
       "                        <td id=\"T_b4fd5_row58_col2\" class=\"data row58 col2\" >5.000000</td>\n",
       "            </tr>\n",
       "            <tr>\n",
       "                                <td id=\"T_b4fd5_row59_col0\" class=\"data row59 col0\" >7</td>\n",
       "                        <td id=\"T_b4fd5_row59_col1\" class=\"data row59 col1\" >Massage Room 1</td>\n",
       "                        <td id=\"T_b4fd5_row59_col2\" class=\"data row59 col2\" >35.000000</td>\n",
       "            </tr>\n",
       "            <tr>\n",
       "                                <td id=\"T_b4fd5_row60_col0\" class=\"data row60 col0\" >7</td>\n",
       "                        <td id=\"T_b4fd5_row60_col1\" class=\"data row60 col1\" >Badminton Court</td>\n",
       "                        <td id=\"T_b4fd5_row60_col2\" class=\"data row60 col2\" >0.000000</td>\n",
       "            </tr>\n",
       "            <tr>\n",
       "                                <td id=\"T_b4fd5_row61_col0\" class=\"data row61 col0\" >7</td>\n",
       "                        <td id=\"T_b4fd5_row61_col1\" class=\"data row61 col1\" >Pool Table</td>\n",
       "                        <td id=\"T_b4fd5_row61_col2\" class=\"data row61 col2\" >0.000000</td>\n",
       "            </tr>\n",
       "            <tr>\n",
       "                                <td id=\"T_b4fd5_row62_col0\" class=\"data row62 col0\" >7</td>\n",
       "                        <td id=\"T_b4fd5_row62_col1\" class=\"data row62 col1\" >Massage Room 2</td>\n",
       "                        <td id=\"T_b4fd5_row62_col2\" class=\"data row62 col2\" >35.000000</td>\n",
       "            </tr>\n",
       "            <tr>\n",
       "                                <td id=\"T_b4fd5_row63_col0\" class=\"data row63 col0\" >7</td>\n",
       "                        <td id=\"T_b4fd5_row63_col1\" class=\"data row63 col1\" >Table Tennis</td>\n",
       "                        <td id=\"T_b4fd5_row63_col2\" class=\"data row63 col2\" >0.000000</td>\n",
       "            </tr>\n",
       "            <tr>\n",
       "                                <td id=\"T_b4fd5_row64_col0\" class=\"data row64 col0\" >8</td>\n",
       "                        <td id=\"T_b4fd5_row64_col1\" class=\"data row64 col1\" >Badminton Court</td>\n",
       "                        <td id=\"T_b4fd5_row64_col2\" class=\"data row64 col2\" >0.000000</td>\n",
       "            </tr>\n",
       "            <tr>\n",
       "                                <td id=\"T_b4fd5_row65_col0\" class=\"data row65 col0\" >8</td>\n",
       "                        <td id=\"T_b4fd5_row65_col1\" class=\"data row65 col1\" >Massage Room 1</td>\n",
       "                        <td id=\"T_b4fd5_row65_col2\" class=\"data row65 col2\" >35.000000</td>\n",
       "            </tr>\n",
       "            <tr>\n",
       "                                <td id=\"T_b4fd5_row66_col0\" class=\"data row66 col0\" >8</td>\n",
       "                        <td id=\"T_b4fd5_row66_col1\" class=\"data row66 col1\" >Squash Court</td>\n",
       "                        <td id=\"T_b4fd5_row66_col2\" class=\"data row66 col2\" >3.500000</td>\n",
       "            </tr>\n",
       "            <tr>\n",
       "                                <td id=\"T_b4fd5_row67_col0\" class=\"data row67 col0\" >8</td>\n",
       "                        <td id=\"T_b4fd5_row67_col1\" class=\"data row67 col1\" >Snooker Table</td>\n",
       "                        <td id=\"T_b4fd5_row67_col2\" class=\"data row67 col2\" >0.000000</td>\n",
       "            </tr>\n",
       "            <tr>\n",
       "                                <td id=\"T_b4fd5_row68_col0\" class=\"data row68 col0\" >8</td>\n",
       "                        <td id=\"T_b4fd5_row68_col1\" class=\"data row68 col1\" >Pool Table</td>\n",
       "                        <td id=\"T_b4fd5_row68_col2\" class=\"data row68 col2\" >0.000000</td>\n",
       "            </tr>\n",
       "            <tr>\n",
       "                                <td id=\"T_b4fd5_row69_col0\" class=\"data row69 col0\" >8</td>\n",
       "                        <td id=\"T_b4fd5_row69_col1\" class=\"data row69 col1\" >Tennis Court 1</td>\n",
       "                        <td id=\"T_b4fd5_row69_col2\" class=\"data row69 col2\" >5.000000</td>\n",
       "            </tr>\n",
       "            <tr>\n",
       "                                <td id=\"T_b4fd5_row70_col0\" class=\"data row70 col0\" >8</td>\n",
       "                        <td id=\"T_b4fd5_row70_col1\" class=\"data row70 col1\" >Tennis Court 2</td>\n",
       "                        <td id=\"T_b4fd5_row70_col2\" class=\"data row70 col2\" >5.000000</td>\n",
       "            </tr>\n",
       "            <tr>\n",
       "                                <td id=\"T_b4fd5_row71_col0\" class=\"data row71 col0\" >8</td>\n",
       "                        <td id=\"T_b4fd5_row71_col1\" class=\"data row71 col1\" >Table Tennis</td>\n",
       "                        <td id=\"T_b4fd5_row71_col2\" class=\"data row71 col2\" >0.000000</td>\n",
       "            </tr>\n",
       "            <tr>\n",
       "                                <td id=\"T_b4fd5_row72_col0\" class=\"data row72 col0\" >9</td>\n",
       "                        <td id=\"T_b4fd5_row72_col1\" class=\"data row72 col1\" >Tennis Court 1</td>\n",
       "                        <td id=\"T_b4fd5_row72_col2\" class=\"data row72 col2\" >5.000000</td>\n",
       "            </tr>\n",
       "            <tr>\n",
       "                                <td id=\"T_b4fd5_row73_col0\" class=\"data row73 col0\" >9</td>\n",
       "                        <td id=\"T_b4fd5_row73_col1\" class=\"data row73 col1\" >Squash Court</td>\n",
       "                        <td id=\"T_b4fd5_row73_col2\" class=\"data row73 col2\" >3.500000</td>\n",
       "            </tr>\n",
       "            <tr>\n",
       "                                <td id=\"T_b4fd5_row74_col0\" class=\"data row74 col0\" >9</td>\n",
       "                        <td id=\"T_b4fd5_row74_col1\" class=\"data row74 col1\" >Table Tennis</td>\n",
       "                        <td id=\"T_b4fd5_row74_col2\" class=\"data row74 col2\" >0.000000</td>\n",
       "            </tr>\n",
       "            <tr>\n",
       "                                <td id=\"T_b4fd5_row75_col0\" class=\"data row75 col0\" >9</td>\n",
       "                        <td id=\"T_b4fd5_row75_col1\" class=\"data row75 col1\" >Pool Table</td>\n",
       "                        <td id=\"T_b4fd5_row75_col2\" class=\"data row75 col2\" >0.000000</td>\n",
       "            </tr>\n",
       "            <tr>\n",
       "                                <td id=\"T_b4fd5_row76_col0\" class=\"data row76 col0\" >9</td>\n",
       "                        <td id=\"T_b4fd5_row76_col1\" class=\"data row76 col1\" >Badminton Court</td>\n",
       "                        <td id=\"T_b4fd5_row76_col2\" class=\"data row76 col2\" >0.000000</td>\n",
       "            </tr>\n",
       "            <tr>\n",
       "                                <td id=\"T_b4fd5_row77_col0\" class=\"data row77 col0\" >9</td>\n",
       "                        <td id=\"T_b4fd5_row77_col1\" class=\"data row77 col1\" >Massage Room 1</td>\n",
       "                        <td id=\"T_b4fd5_row77_col2\" class=\"data row77 col2\" >35.000000</td>\n",
       "            </tr>\n",
       "            <tr>\n",
       "                                <td id=\"T_b4fd5_row78_col0\" class=\"data row78 col0\" >9</td>\n",
       "                        <td id=\"T_b4fd5_row78_col1\" class=\"data row78 col1\" >Tennis Court 2</td>\n",
       "                        <td id=\"T_b4fd5_row78_col2\" class=\"data row78 col2\" >5.000000</td>\n",
       "            </tr>\n",
       "            <tr>\n",
       "                                <td id=\"T_b4fd5_row79_col0\" class=\"data row79 col0\" >9</td>\n",
       "                        <td id=\"T_b4fd5_row79_col1\" class=\"data row79 col1\" >Snooker Table</td>\n",
       "                        <td id=\"T_b4fd5_row79_col2\" class=\"data row79 col2\" >0.000000</td>\n",
       "            </tr>\n",
       "            <tr>\n",
       "                                <td id=\"T_b4fd5_row80_col0\" class=\"data row80 col0\" >10</td>\n",
       "                        <td id=\"T_b4fd5_row80_col1\" class=\"data row80 col1\" >Tennis Court 1</td>\n",
       "                        <td id=\"T_b4fd5_row80_col2\" class=\"data row80 col2\" >5.000000</td>\n",
       "            </tr>\n",
       "            <tr>\n",
       "                                <td id=\"T_b4fd5_row81_col0\" class=\"data row81 col0\" >10</td>\n",
       "                        <td id=\"T_b4fd5_row81_col1\" class=\"data row81 col1\" >Table Tennis</td>\n",
       "                        <td id=\"T_b4fd5_row81_col2\" class=\"data row81 col2\" >0.000000</td>\n",
       "            </tr>\n",
       "            <tr>\n",
       "                                <td id=\"T_b4fd5_row82_col0\" class=\"data row82 col0\" >10</td>\n",
       "                        <td id=\"T_b4fd5_row82_col1\" class=\"data row82 col1\" >Badminton Court</td>\n",
       "                        <td id=\"T_b4fd5_row82_col2\" class=\"data row82 col2\" >0.000000</td>\n",
       "            </tr>\n",
       "            <tr>\n",
       "                                <td id=\"T_b4fd5_row83_col0\" class=\"data row83 col0\" >10</td>\n",
       "                        <td id=\"T_b4fd5_row83_col1\" class=\"data row83 col1\" >Massage Room 1</td>\n",
       "                        <td id=\"T_b4fd5_row83_col2\" class=\"data row83 col2\" >35.000000</td>\n",
       "            </tr>\n",
       "            <tr>\n",
       "                                <td id=\"T_b4fd5_row84_col0\" class=\"data row84 col0\" >10</td>\n",
       "                        <td id=\"T_b4fd5_row84_col1\" class=\"data row84 col1\" >Squash Court</td>\n",
       "                        <td id=\"T_b4fd5_row84_col2\" class=\"data row84 col2\" >3.500000</td>\n",
       "            </tr>\n",
       "            <tr>\n",
       "                                <td id=\"T_b4fd5_row85_col0\" class=\"data row85 col0\" >10</td>\n",
       "                        <td id=\"T_b4fd5_row85_col1\" class=\"data row85 col1\" >Massage Room 2</td>\n",
       "                        <td id=\"T_b4fd5_row85_col2\" class=\"data row85 col2\" >35.000000</td>\n",
       "            </tr>\n",
       "            <tr>\n",
       "                                <td id=\"T_b4fd5_row86_col0\" class=\"data row86 col0\" >10</td>\n",
       "                        <td id=\"T_b4fd5_row86_col1\" class=\"data row86 col1\" >Pool Table</td>\n",
       "                        <td id=\"T_b4fd5_row86_col2\" class=\"data row86 col2\" >0.000000</td>\n",
       "            </tr>\n",
       "            <tr>\n",
       "                                <td id=\"T_b4fd5_row87_col0\" class=\"data row87 col0\" >10</td>\n",
       "                        <td id=\"T_b4fd5_row87_col1\" class=\"data row87 col1\" >Tennis Court 2</td>\n",
       "                        <td id=\"T_b4fd5_row87_col2\" class=\"data row87 col2\" >5.000000</td>\n",
       "            </tr>\n",
       "            <tr>\n",
       "                                <td id=\"T_b4fd5_row88_col0\" class=\"data row88 col0\" >10</td>\n",
       "                        <td id=\"T_b4fd5_row88_col1\" class=\"data row88 col1\" >Snooker Table</td>\n",
       "                        <td id=\"T_b4fd5_row88_col2\" class=\"data row88 col2\" >0.000000</td>\n",
       "            </tr>\n",
       "            <tr>\n",
       "                                <td id=\"T_b4fd5_row89_col0\" class=\"data row89 col0\" >11</td>\n",
       "                        <td id=\"T_b4fd5_row89_col1\" class=\"data row89 col1\" >Tennis Court 2</td>\n",
       "                        <td id=\"T_b4fd5_row89_col2\" class=\"data row89 col2\" >5.000000</td>\n",
       "            </tr>\n",
       "            <tr>\n",
       "                                <td id=\"T_b4fd5_row90_col0\" class=\"data row90 col0\" >11</td>\n",
       "                        <td id=\"T_b4fd5_row90_col1\" class=\"data row90 col1\" >Snooker Table</td>\n",
       "                        <td id=\"T_b4fd5_row90_col2\" class=\"data row90 col2\" >0.000000</td>\n",
       "            </tr>\n",
       "            <tr>\n",
       "                                <td id=\"T_b4fd5_row91_col0\" class=\"data row91 col0\" >11</td>\n",
       "                        <td id=\"T_b4fd5_row91_col1\" class=\"data row91 col1\" >Table Tennis</td>\n",
       "                        <td id=\"T_b4fd5_row91_col2\" class=\"data row91 col2\" >0.000000</td>\n",
       "            </tr>\n",
       "            <tr>\n",
       "                                <td id=\"T_b4fd5_row92_col0\" class=\"data row92 col0\" >11</td>\n",
       "                        <td id=\"T_b4fd5_row92_col1\" class=\"data row92 col1\" >Tennis Court 1</td>\n",
       "                        <td id=\"T_b4fd5_row92_col2\" class=\"data row92 col2\" >5.000000</td>\n",
       "            </tr>\n",
       "            <tr>\n",
       "                                <td id=\"T_b4fd5_row93_col0\" class=\"data row93 col0\" >11</td>\n",
       "                        <td id=\"T_b4fd5_row93_col1\" class=\"data row93 col1\" >Squash Court</td>\n",
       "                        <td id=\"T_b4fd5_row93_col2\" class=\"data row93 col2\" >3.500000</td>\n",
       "            </tr>\n",
       "            <tr>\n",
       "                                <td id=\"T_b4fd5_row94_col0\" class=\"data row94 col0\" >11</td>\n",
       "                        <td id=\"T_b4fd5_row94_col1\" class=\"data row94 col1\" >Massage Room 1</td>\n",
       "                        <td id=\"T_b4fd5_row94_col2\" class=\"data row94 col2\" >35.000000</td>\n",
       "            </tr>\n",
       "            <tr>\n",
       "                                <td id=\"T_b4fd5_row95_col0\" class=\"data row95 col0\" >11</td>\n",
       "                        <td id=\"T_b4fd5_row95_col1\" class=\"data row95 col1\" >Massage Room 2</td>\n",
       "                        <td id=\"T_b4fd5_row95_col2\" class=\"data row95 col2\" >35.000000</td>\n",
       "            </tr>\n",
       "            <tr>\n",
       "                                <td id=\"T_b4fd5_row96_col0\" class=\"data row96 col0\" >11</td>\n",
       "                        <td id=\"T_b4fd5_row96_col1\" class=\"data row96 col1\" >Badminton Court</td>\n",
       "                        <td id=\"T_b4fd5_row96_col2\" class=\"data row96 col2\" >0.000000</td>\n",
       "            </tr>\n",
       "            <tr>\n",
       "                                <td id=\"T_b4fd5_row97_col0\" class=\"data row97 col0\" >11</td>\n",
       "                        <td id=\"T_b4fd5_row97_col1\" class=\"data row97 col1\" >Pool Table</td>\n",
       "                        <td id=\"T_b4fd5_row97_col2\" class=\"data row97 col2\" >0.000000</td>\n",
       "            </tr>\n",
       "            <tr>\n",
       "                                <td id=\"T_b4fd5_row98_col0\" class=\"data row98 col0\" >12</td>\n",
       "                        <td id=\"T_b4fd5_row98_col1\" class=\"data row98 col1\" >Tennis Court 1</td>\n",
       "                        <td id=\"T_b4fd5_row98_col2\" class=\"data row98 col2\" >5.000000</td>\n",
       "            </tr>\n",
       "            <tr>\n",
       "                                <td id=\"T_b4fd5_row99_col0\" class=\"data row99 col0\" >12</td>\n",
       "                        <td id=\"T_b4fd5_row99_col1\" class=\"data row99 col1\" >Massage Room 1</td>\n",
       "                        <td id=\"T_b4fd5_row99_col2\" class=\"data row99 col2\" >35.000000</td>\n",
       "            </tr>\n",
       "            <tr>\n",
       "                                <td id=\"T_b4fd5_row100_col0\" class=\"data row100 col0\" >12</td>\n",
       "                        <td id=\"T_b4fd5_row100_col1\" class=\"data row100 col1\" >Badminton Court</td>\n",
       "                        <td id=\"T_b4fd5_row100_col2\" class=\"data row100 col2\" >0.000000</td>\n",
       "            </tr>\n",
       "            <tr>\n",
       "                                <td id=\"T_b4fd5_row101_col0\" class=\"data row101 col0\" >12</td>\n",
       "                        <td id=\"T_b4fd5_row101_col1\" class=\"data row101 col1\" >Pool Table</td>\n",
       "                        <td id=\"T_b4fd5_row101_col2\" class=\"data row101 col2\" >0.000000</td>\n",
       "            </tr>\n",
       "            <tr>\n",
       "                                <td id=\"T_b4fd5_row102_col0\" class=\"data row102 col0\" >12</td>\n",
       "                        <td id=\"T_b4fd5_row102_col1\" class=\"data row102 col1\" >Squash Court</td>\n",
       "                        <td id=\"T_b4fd5_row102_col2\" class=\"data row102 col2\" >3.500000</td>\n",
       "            </tr>\n",
       "            <tr>\n",
       "                                <td id=\"T_b4fd5_row103_col0\" class=\"data row103 col0\" >12</td>\n",
       "                        <td id=\"T_b4fd5_row103_col1\" class=\"data row103 col1\" >Massage Room 2</td>\n",
       "                        <td id=\"T_b4fd5_row103_col2\" class=\"data row103 col2\" >35.000000</td>\n",
       "            </tr>\n",
       "            <tr>\n",
       "                                <td id=\"T_b4fd5_row104_col0\" class=\"data row104 col0\" >12</td>\n",
       "                        <td id=\"T_b4fd5_row104_col1\" class=\"data row104 col1\" >Tennis Court 2</td>\n",
       "                        <td id=\"T_b4fd5_row104_col2\" class=\"data row104 col2\" >5.000000</td>\n",
       "            </tr>\n",
       "            <tr>\n",
       "                                <td id=\"T_b4fd5_row105_col0\" class=\"data row105 col0\" >12</td>\n",
       "                        <td id=\"T_b4fd5_row105_col1\" class=\"data row105 col1\" >Table Tennis</td>\n",
       "                        <td id=\"T_b4fd5_row105_col2\" class=\"data row105 col2\" >0.000000</td>\n",
       "            </tr>\n",
       "            <tr>\n",
       "                                <td id=\"T_b4fd5_row106_col0\" class=\"data row106 col0\" >13</td>\n",
       "                        <td id=\"T_b4fd5_row106_col1\" class=\"data row106 col1\" >Squash Court</td>\n",
       "                        <td id=\"T_b4fd5_row106_col2\" class=\"data row106 col2\" >3.500000</td>\n",
       "            </tr>\n",
       "            <tr>\n",
       "                                <td id=\"T_b4fd5_row107_col0\" class=\"data row107 col0\" >13</td>\n",
       "                        <td id=\"T_b4fd5_row107_col1\" class=\"data row107 col1\" >Badminton Court</td>\n",
       "                        <td id=\"T_b4fd5_row107_col2\" class=\"data row107 col2\" >0.000000</td>\n",
       "            </tr>\n",
       "            <tr>\n",
       "                                <td id=\"T_b4fd5_row108_col0\" class=\"data row108 col0\" >13</td>\n",
       "                        <td id=\"T_b4fd5_row108_col1\" class=\"data row108 col1\" >Tennis Court 2</td>\n",
       "                        <td id=\"T_b4fd5_row108_col2\" class=\"data row108 col2\" >5.000000</td>\n",
       "            </tr>\n",
       "            <tr>\n",
       "                                <td id=\"T_b4fd5_row109_col0\" class=\"data row109 col0\" >13</td>\n",
       "                        <td id=\"T_b4fd5_row109_col1\" class=\"data row109 col1\" >Table Tennis</td>\n",
       "                        <td id=\"T_b4fd5_row109_col2\" class=\"data row109 col2\" >0.000000</td>\n",
       "            </tr>\n",
       "            <tr>\n",
       "                                <td id=\"T_b4fd5_row110_col0\" class=\"data row110 col0\" >13</td>\n",
       "                        <td id=\"T_b4fd5_row110_col1\" class=\"data row110 col1\" >Massage Room 1</td>\n",
       "                        <td id=\"T_b4fd5_row110_col2\" class=\"data row110 col2\" >35.000000</td>\n",
       "            </tr>\n",
       "            <tr>\n",
       "                                <td id=\"T_b4fd5_row111_col0\" class=\"data row111 col0\" >13</td>\n",
       "                        <td id=\"T_b4fd5_row111_col1\" class=\"data row111 col1\" >Tennis Court 1</td>\n",
       "                        <td id=\"T_b4fd5_row111_col2\" class=\"data row111 col2\" >5.000000</td>\n",
       "            </tr>\n",
       "            <tr>\n",
       "                                <td id=\"T_b4fd5_row112_col0\" class=\"data row112 col0\" >13</td>\n",
       "                        <td id=\"T_b4fd5_row112_col1\" class=\"data row112 col1\" >Snooker Table</td>\n",
       "                        <td id=\"T_b4fd5_row112_col2\" class=\"data row112 col2\" >0.000000</td>\n",
       "            </tr>\n",
       "            <tr>\n",
       "                                <td id=\"T_b4fd5_row113_col0\" class=\"data row113 col0\" >13</td>\n",
       "                        <td id=\"T_b4fd5_row113_col1\" class=\"data row113 col1\" >Pool Table</td>\n",
       "                        <td id=\"T_b4fd5_row113_col2\" class=\"data row113 col2\" >0.000000</td>\n",
       "            </tr>\n",
       "            <tr>\n",
       "                                <td id=\"T_b4fd5_row114_col0\" class=\"data row114 col0\" >14</td>\n",
       "                        <td id=\"T_b4fd5_row114_col1\" class=\"data row114 col1\" >Massage Room 1</td>\n",
       "                        <td id=\"T_b4fd5_row114_col2\" class=\"data row114 col2\" >35.000000</td>\n",
       "            </tr>\n",
       "            <tr>\n",
       "                                <td id=\"T_b4fd5_row115_col0\" class=\"data row115 col0\" >14</td>\n",
       "                        <td id=\"T_b4fd5_row115_col1\" class=\"data row115 col1\" >Snooker Table</td>\n",
       "                        <td id=\"T_b4fd5_row115_col2\" class=\"data row115 col2\" >0.000000</td>\n",
       "            </tr>\n",
       "            <tr>\n",
       "                                <td id=\"T_b4fd5_row116_col0\" class=\"data row116 col0\" >14</td>\n",
       "                        <td id=\"T_b4fd5_row116_col1\" class=\"data row116 col1\" >Tennis Court 1</td>\n",
       "                        <td id=\"T_b4fd5_row116_col2\" class=\"data row116 col2\" >5.000000</td>\n",
       "            </tr>\n",
       "            <tr>\n",
       "                                <td id=\"T_b4fd5_row117_col0\" class=\"data row117 col0\" >14</td>\n",
       "                        <td id=\"T_b4fd5_row117_col1\" class=\"data row117 col1\" >Badminton Court</td>\n",
       "                        <td id=\"T_b4fd5_row117_col2\" class=\"data row117 col2\" >0.000000</td>\n",
       "            </tr>\n",
       "            <tr>\n",
       "                                <td id=\"T_b4fd5_row118_col0\" class=\"data row118 col0\" >14</td>\n",
       "                        <td id=\"T_b4fd5_row118_col1\" class=\"data row118 col1\" >Massage Room 2</td>\n",
       "                        <td id=\"T_b4fd5_row118_col2\" class=\"data row118 col2\" >35.000000</td>\n",
       "            </tr>\n",
       "            <tr>\n",
       "                                <td id=\"T_b4fd5_row119_col0\" class=\"data row119 col0\" >14</td>\n",
       "                        <td id=\"T_b4fd5_row119_col1\" class=\"data row119 col1\" >Table Tennis</td>\n",
       "                        <td id=\"T_b4fd5_row119_col2\" class=\"data row119 col2\" >0.000000</td>\n",
       "            </tr>\n",
       "            <tr>\n",
       "                                <td id=\"T_b4fd5_row120_col0\" class=\"data row120 col0\" >14</td>\n",
       "                        <td id=\"T_b4fd5_row120_col1\" class=\"data row120 col1\" >Pool Table</td>\n",
       "                        <td id=\"T_b4fd5_row120_col2\" class=\"data row120 col2\" >0.000000</td>\n",
       "            </tr>\n",
       "            <tr>\n",
       "                                <td id=\"T_b4fd5_row121_col0\" class=\"data row121 col0\" >14</td>\n",
       "                        <td id=\"T_b4fd5_row121_col1\" class=\"data row121 col1\" >Tennis Court 2</td>\n",
       "                        <td id=\"T_b4fd5_row121_col2\" class=\"data row121 col2\" >5.000000</td>\n",
       "            </tr>\n",
       "            <tr>\n",
       "                                <td id=\"T_b4fd5_row122_col0\" class=\"data row122 col0\" >14</td>\n",
       "                        <td id=\"T_b4fd5_row122_col1\" class=\"data row122 col1\" >Squash Court</td>\n",
       "                        <td id=\"T_b4fd5_row122_col2\" class=\"data row122 col2\" >3.500000</td>\n",
       "            </tr>\n",
       "            <tr>\n",
       "                                <td id=\"T_b4fd5_row123_col0\" class=\"data row123 col0\" >15</td>\n",
       "                        <td id=\"T_b4fd5_row123_col1\" class=\"data row123 col1\" >Snooker Table</td>\n",
       "                        <td id=\"T_b4fd5_row123_col2\" class=\"data row123 col2\" >0.000000</td>\n",
       "            </tr>\n",
       "            <tr>\n",
       "                                <td id=\"T_b4fd5_row124_col0\" class=\"data row124 col0\" >15</td>\n",
       "                        <td id=\"T_b4fd5_row124_col1\" class=\"data row124 col1\" >Table Tennis</td>\n",
       "                        <td id=\"T_b4fd5_row124_col2\" class=\"data row124 col2\" >0.000000</td>\n",
       "            </tr>\n",
       "            <tr>\n",
       "                                <td id=\"T_b4fd5_row125_col0\" class=\"data row125 col0\" >15</td>\n",
       "                        <td id=\"T_b4fd5_row125_col1\" class=\"data row125 col1\" >Tennis Court 1</td>\n",
       "                        <td id=\"T_b4fd5_row125_col2\" class=\"data row125 col2\" >5.000000</td>\n",
       "            </tr>\n",
       "            <tr>\n",
       "                                <td id=\"T_b4fd5_row126_col0\" class=\"data row126 col0\" >15</td>\n",
       "                        <td id=\"T_b4fd5_row126_col1\" class=\"data row126 col1\" >Pool Table</td>\n",
       "                        <td id=\"T_b4fd5_row126_col2\" class=\"data row126 col2\" >0.000000</td>\n",
       "            </tr>\n",
       "            <tr>\n",
       "                                <td id=\"T_b4fd5_row127_col0\" class=\"data row127 col0\" >15</td>\n",
       "                        <td id=\"T_b4fd5_row127_col1\" class=\"data row127 col1\" >Squash Court</td>\n",
       "                        <td id=\"T_b4fd5_row127_col2\" class=\"data row127 col2\" >3.500000</td>\n",
       "            </tr>\n",
       "            <tr>\n",
       "                                <td id=\"T_b4fd5_row128_col0\" class=\"data row128 col0\" >15</td>\n",
       "                        <td id=\"T_b4fd5_row128_col1\" class=\"data row128 col1\" >Badminton Court</td>\n",
       "                        <td id=\"T_b4fd5_row128_col2\" class=\"data row128 col2\" >0.000000</td>\n",
       "            </tr>\n",
       "            <tr>\n",
       "                                <td id=\"T_b4fd5_row129_col0\" class=\"data row129 col0\" >15</td>\n",
       "                        <td id=\"T_b4fd5_row129_col1\" class=\"data row129 col1\" >Tennis Court 2</td>\n",
       "                        <td id=\"T_b4fd5_row129_col2\" class=\"data row129 col2\" >5.000000</td>\n",
       "            </tr>\n",
       "            <tr>\n",
       "                                <td id=\"T_b4fd5_row130_col0\" class=\"data row130 col0\" >15</td>\n",
       "                        <td id=\"T_b4fd5_row130_col1\" class=\"data row130 col1\" >Massage Room 2</td>\n",
       "                        <td id=\"T_b4fd5_row130_col2\" class=\"data row130 col2\" >35.000000</td>\n",
       "            </tr>\n",
       "            <tr>\n",
       "                                <td id=\"T_b4fd5_row131_col0\" class=\"data row131 col0\" >16</td>\n",
       "                        <td id=\"T_b4fd5_row131_col1\" class=\"data row131 col1\" >Tennis Court 1</td>\n",
       "                        <td id=\"T_b4fd5_row131_col2\" class=\"data row131 col2\" >5.000000</td>\n",
       "            </tr>\n",
       "            <tr>\n",
       "                                <td id=\"T_b4fd5_row132_col0\" class=\"data row132 col0\" >16</td>\n",
       "                        <td id=\"T_b4fd5_row132_col1\" class=\"data row132 col1\" >Pool Table</td>\n",
       "                        <td id=\"T_b4fd5_row132_col2\" class=\"data row132 col2\" >0.000000</td>\n",
       "            </tr>\n",
       "            <tr>\n",
       "                                <td id=\"T_b4fd5_row133_col0\" class=\"data row133 col0\" >16</td>\n",
       "                        <td id=\"T_b4fd5_row133_col1\" class=\"data row133 col1\" >Badminton Court</td>\n",
       "                        <td id=\"T_b4fd5_row133_col2\" class=\"data row133 col2\" >0.000000</td>\n",
       "            </tr>\n",
       "            <tr>\n",
       "                                <td id=\"T_b4fd5_row134_col0\" class=\"data row134 col0\" >16</td>\n",
       "                        <td id=\"T_b4fd5_row134_col1\" class=\"data row134 col1\" >Table Tennis</td>\n",
       "                        <td id=\"T_b4fd5_row134_col2\" class=\"data row134 col2\" >0.000000</td>\n",
       "            </tr>\n",
       "            <tr>\n",
       "                                <td id=\"T_b4fd5_row135_col0\" class=\"data row135 col0\" >16</td>\n",
       "                        <td id=\"T_b4fd5_row135_col1\" class=\"data row135 col1\" >Tennis Court 2</td>\n",
       "                        <td id=\"T_b4fd5_row135_col2\" class=\"data row135 col2\" >5.000000</td>\n",
       "            </tr>\n",
       "            <tr>\n",
       "                                <td id=\"T_b4fd5_row136_col0\" class=\"data row136 col0\" >16</td>\n",
       "                        <td id=\"T_b4fd5_row136_col1\" class=\"data row136 col1\" >Squash Court</td>\n",
       "                        <td id=\"T_b4fd5_row136_col2\" class=\"data row136 col2\" >3.500000</td>\n",
       "            </tr>\n",
       "            <tr>\n",
       "                                <td id=\"T_b4fd5_row137_col0\" class=\"data row137 col0\" >16</td>\n",
       "                        <td id=\"T_b4fd5_row137_col1\" class=\"data row137 col1\" >Massage Room 1</td>\n",
       "                        <td id=\"T_b4fd5_row137_col2\" class=\"data row137 col2\" >35.000000</td>\n",
       "            </tr>\n",
       "            <tr>\n",
       "                                <td id=\"T_b4fd5_row138_col0\" class=\"data row138 col0\" >17</td>\n",
       "                        <td id=\"T_b4fd5_row138_col1\" class=\"data row138 col1\" >Tennis Court 1</td>\n",
       "                        <td id=\"T_b4fd5_row138_col2\" class=\"data row138 col2\" >5.000000</td>\n",
       "            </tr>\n",
       "            <tr>\n",
       "                                <td id=\"T_b4fd5_row139_col0\" class=\"data row139 col0\" >17</td>\n",
       "                        <td id=\"T_b4fd5_row139_col1\" class=\"data row139 col1\" >Squash Court</td>\n",
       "                        <td id=\"T_b4fd5_row139_col2\" class=\"data row139 col2\" >3.500000</td>\n",
       "            </tr>\n",
       "            <tr>\n",
       "                                <td id=\"T_b4fd5_row140_col0\" class=\"data row140 col0\" >17</td>\n",
       "                        <td id=\"T_b4fd5_row140_col1\" class=\"data row140 col1\" >Badminton Court</td>\n",
       "                        <td id=\"T_b4fd5_row140_col2\" class=\"data row140 col2\" >0.000000</td>\n",
       "            </tr>\n",
       "            <tr>\n",
       "                                <td id=\"T_b4fd5_row141_col0\" class=\"data row141 col0\" >17</td>\n",
       "                        <td id=\"T_b4fd5_row141_col1\" class=\"data row141 col1\" >Massage Room 1</td>\n",
       "                        <td id=\"T_b4fd5_row141_col2\" class=\"data row141 col2\" >35.000000</td>\n",
       "            </tr>\n",
       "            <tr>\n",
       "                                <td id=\"T_b4fd5_row142_col0\" class=\"data row142 col0\" >17</td>\n",
       "                        <td id=\"T_b4fd5_row142_col1\" class=\"data row142 col1\" >Table Tennis</td>\n",
       "                        <td id=\"T_b4fd5_row142_col2\" class=\"data row142 col2\" >0.000000</td>\n",
       "            </tr>\n",
       "            <tr>\n",
       "                                <td id=\"T_b4fd5_row143_col0\" class=\"data row143 col0\" >17</td>\n",
       "                        <td id=\"T_b4fd5_row143_col1\" class=\"data row143 col1\" >Pool Table</td>\n",
       "                        <td id=\"T_b4fd5_row143_col2\" class=\"data row143 col2\" >0.000000</td>\n",
       "            </tr>\n",
       "            <tr>\n",
       "                                <td id=\"T_b4fd5_row144_col0\" class=\"data row144 col0\" >17</td>\n",
       "                        <td id=\"T_b4fd5_row144_col1\" class=\"data row144 col1\" >Snooker Table</td>\n",
       "                        <td id=\"T_b4fd5_row144_col2\" class=\"data row144 col2\" >0.000000</td>\n",
       "            </tr>\n",
       "            <tr>\n",
       "                                <td id=\"T_b4fd5_row145_col0\" class=\"data row145 col0\" >20</td>\n",
       "                        <td id=\"T_b4fd5_row145_col1\" class=\"data row145 col1\" >Massage Room 1</td>\n",
       "                        <td id=\"T_b4fd5_row145_col2\" class=\"data row145 col2\" >35.000000</td>\n",
       "            </tr>\n",
       "            <tr>\n",
       "                                <td id=\"T_b4fd5_row146_col0\" class=\"data row146 col0\" >20</td>\n",
       "                        <td id=\"T_b4fd5_row146_col1\" class=\"data row146 col1\" >Snooker Table</td>\n",
       "                        <td id=\"T_b4fd5_row146_col2\" class=\"data row146 col2\" >0.000000</td>\n",
       "            </tr>\n",
       "            <tr>\n",
       "                                <td id=\"T_b4fd5_row147_col0\" class=\"data row147 col0\" >20</td>\n",
       "                        <td id=\"T_b4fd5_row147_col1\" class=\"data row147 col1\" >Massage Room 2</td>\n",
       "                        <td id=\"T_b4fd5_row147_col2\" class=\"data row147 col2\" >35.000000</td>\n",
       "            </tr>\n",
       "            <tr>\n",
       "                                <td id=\"T_b4fd5_row148_col0\" class=\"data row148 col0\" >20</td>\n",
       "                        <td id=\"T_b4fd5_row148_col1\" class=\"data row148 col1\" >Table Tennis</td>\n",
       "                        <td id=\"T_b4fd5_row148_col2\" class=\"data row148 col2\" >0.000000</td>\n",
       "            </tr>\n",
       "            <tr>\n",
       "                                <td id=\"T_b4fd5_row149_col0\" class=\"data row149 col0\" >20</td>\n",
       "                        <td id=\"T_b4fd5_row149_col1\" class=\"data row149 col1\" >Pool Table</td>\n",
       "                        <td id=\"T_b4fd5_row149_col2\" class=\"data row149 col2\" >0.000000</td>\n",
       "            </tr>\n",
       "            <tr>\n",
       "                                <td id=\"T_b4fd5_row150_col0\" class=\"data row150 col0\" >20</td>\n",
       "                        <td id=\"T_b4fd5_row150_col1\" class=\"data row150 col1\" >Tennis Court 1</td>\n",
       "                        <td id=\"T_b4fd5_row150_col2\" class=\"data row150 col2\" >5.000000</td>\n",
       "            </tr>\n",
       "            <tr>\n",
       "                                <td id=\"T_b4fd5_row151_col0\" class=\"data row151 col0\" >21</td>\n",
       "                        <td id=\"T_b4fd5_row151_col1\" class=\"data row151 col1\" >Snooker Table</td>\n",
       "                        <td id=\"T_b4fd5_row151_col2\" class=\"data row151 col2\" >0.000000</td>\n",
       "            </tr>\n",
       "            <tr>\n",
       "                                <td id=\"T_b4fd5_row152_col0\" class=\"data row152 col0\" >21</td>\n",
       "                        <td id=\"T_b4fd5_row152_col1\" class=\"data row152 col1\" >Badminton Court</td>\n",
       "                        <td id=\"T_b4fd5_row152_col2\" class=\"data row152 col2\" >0.000000</td>\n",
       "            </tr>\n",
       "            <tr>\n",
       "                                <td id=\"T_b4fd5_row153_col0\" class=\"data row153 col0\" >21</td>\n",
       "                        <td id=\"T_b4fd5_row153_col1\" class=\"data row153 col1\" >Massage Room 1</td>\n",
       "                        <td id=\"T_b4fd5_row153_col2\" class=\"data row153 col2\" >35.000000</td>\n",
       "            </tr>\n",
       "            <tr>\n",
       "                                <td id=\"T_b4fd5_row154_col0\" class=\"data row154 col0\" >21</td>\n",
       "                        <td id=\"T_b4fd5_row154_col1\" class=\"data row154 col1\" >Pool Table</td>\n",
       "                        <td id=\"T_b4fd5_row154_col2\" class=\"data row154 col2\" >0.000000</td>\n",
       "            </tr>\n",
       "            <tr>\n",
       "                                <td id=\"T_b4fd5_row155_col0\" class=\"data row155 col0\" >21</td>\n",
       "                        <td id=\"T_b4fd5_row155_col1\" class=\"data row155 col1\" >Table Tennis</td>\n",
       "                        <td id=\"T_b4fd5_row155_col2\" class=\"data row155 col2\" >0.000000</td>\n",
       "            </tr>\n",
       "            <tr>\n",
       "                                <td id=\"T_b4fd5_row156_col0\" class=\"data row156 col0\" >21</td>\n",
       "                        <td id=\"T_b4fd5_row156_col1\" class=\"data row156 col1\" >Squash Court</td>\n",
       "                        <td id=\"T_b4fd5_row156_col2\" class=\"data row156 col2\" >3.500000</td>\n",
       "            </tr>\n",
       "            <tr>\n",
       "                                <td id=\"T_b4fd5_row157_col0\" class=\"data row157 col0\" >22</td>\n",
       "                        <td id=\"T_b4fd5_row157_col1\" class=\"data row157 col1\" >Snooker Table</td>\n",
       "                        <td id=\"T_b4fd5_row157_col2\" class=\"data row157 col2\" >0.000000</td>\n",
       "            </tr>\n",
       "            <tr>\n",
       "                                <td id=\"T_b4fd5_row158_col0\" class=\"data row158 col0\" >22</td>\n",
       "                        <td id=\"T_b4fd5_row158_col1\" class=\"data row158 col1\" >Pool Table</td>\n",
       "                        <td id=\"T_b4fd5_row158_col2\" class=\"data row158 col2\" >0.000000</td>\n",
       "            </tr>\n",
       "            <tr>\n",
       "                                <td id=\"T_b4fd5_row159_col0\" class=\"data row159 col0\" >22</td>\n",
       "                        <td id=\"T_b4fd5_row159_col1\" class=\"data row159 col1\" >Table Tennis</td>\n",
       "                        <td id=\"T_b4fd5_row159_col2\" class=\"data row159 col2\" >0.000000</td>\n",
       "            </tr>\n",
       "            <tr>\n",
       "                                <td id=\"T_b4fd5_row160_col0\" class=\"data row160 col0\" >22</td>\n",
       "                        <td id=\"T_b4fd5_row160_col1\" class=\"data row160 col1\" >Massage Room 1</td>\n",
       "                        <td id=\"T_b4fd5_row160_col2\" class=\"data row160 col2\" >35.000000</td>\n",
       "            </tr>\n",
       "            <tr>\n",
       "                                <td id=\"T_b4fd5_row161_col0\" class=\"data row161 col0\" >22</td>\n",
       "                        <td id=\"T_b4fd5_row161_col1\" class=\"data row161 col1\" >Tennis Court 1</td>\n",
       "                        <td id=\"T_b4fd5_row161_col2\" class=\"data row161 col2\" >5.000000</td>\n",
       "            </tr>\n",
       "            <tr>\n",
       "                                <td id=\"T_b4fd5_row162_col0\" class=\"data row162 col0\" >22</td>\n",
       "                        <td id=\"T_b4fd5_row162_col1\" class=\"data row162 col1\" >Massage Room 2</td>\n",
       "                        <td id=\"T_b4fd5_row162_col2\" class=\"data row162 col2\" >35.000000</td>\n",
       "            </tr>\n",
       "            <tr>\n",
       "                                <td id=\"T_b4fd5_row163_col0\" class=\"data row163 col0\" >22</td>\n",
       "                        <td id=\"T_b4fd5_row163_col1\" class=\"data row163 col1\" >Squash Court</td>\n",
       "                        <td id=\"T_b4fd5_row163_col2\" class=\"data row163 col2\" >3.500000</td>\n",
       "            </tr>\n",
       "            <tr>\n",
       "                                <td id=\"T_b4fd5_row164_col0\" class=\"data row164 col0\" >24</td>\n",
       "                        <td id=\"T_b4fd5_row164_col1\" class=\"data row164 col1\" >Squash Court</td>\n",
       "                        <td id=\"T_b4fd5_row164_col2\" class=\"data row164 col2\" >3.500000</td>\n",
       "            </tr>\n",
       "            <tr>\n",
       "                                <td id=\"T_b4fd5_row165_col0\" class=\"data row165 col0\" >24</td>\n",
       "                        <td id=\"T_b4fd5_row165_col1\" class=\"data row165 col1\" >Snooker Table</td>\n",
       "                        <td id=\"T_b4fd5_row165_col2\" class=\"data row165 col2\" >0.000000</td>\n",
       "            </tr>\n",
       "            <tr>\n",
       "                                <td id=\"T_b4fd5_row166_col0\" class=\"data row166 col0\" >24</td>\n",
       "                        <td id=\"T_b4fd5_row166_col1\" class=\"data row166 col1\" >Tennis Court 1</td>\n",
       "                        <td id=\"T_b4fd5_row166_col2\" class=\"data row166 col2\" >5.000000</td>\n",
       "            </tr>\n",
       "            <tr>\n",
       "                                <td id=\"T_b4fd5_row167_col0\" class=\"data row167 col0\" >24</td>\n",
       "                        <td id=\"T_b4fd5_row167_col1\" class=\"data row167 col1\" >Tennis Court 2</td>\n",
       "                        <td id=\"T_b4fd5_row167_col2\" class=\"data row167 col2\" >5.000000</td>\n",
       "            </tr>\n",
       "            <tr>\n",
       "                                <td id=\"T_b4fd5_row168_col0\" class=\"data row168 col0\" >24</td>\n",
       "                        <td id=\"T_b4fd5_row168_col1\" class=\"data row168 col1\" >Pool Table</td>\n",
       "                        <td id=\"T_b4fd5_row168_col2\" class=\"data row168 col2\" >0.000000</td>\n",
       "            </tr>\n",
       "            <tr>\n",
       "                                <td id=\"T_b4fd5_row169_col0\" class=\"data row169 col0\" >24</td>\n",
       "                        <td id=\"T_b4fd5_row169_col1\" class=\"data row169 col1\" >Badminton Court</td>\n",
       "                        <td id=\"T_b4fd5_row169_col2\" class=\"data row169 col2\" >0.000000</td>\n",
       "            </tr>\n",
       "            <tr>\n",
       "                                <td id=\"T_b4fd5_row170_col0\" class=\"data row170 col0\" >24</td>\n",
       "                        <td id=\"T_b4fd5_row170_col1\" class=\"data row170 col1\" >Massage Room 2</td>\n",
       "                        <td id=\"T_b4fd5_row170_col2\" class=\"data row170 col2\" >35.000000</td>\n",
       "            </tr>\n",
       "            <tr>\n",
       "                                <td id=\"T_b4fd5_row171_col0\" class=\"data row171 col0\" >24</td>\n",
       "                        <td id=\"T_b4fd5_row171_col1\" class=\"data row171 col1\" >Massage Room 1</td>\n",
       "                        <td id=\"T_b4fd5_row171_col2\" class=\"data row171 col2\" >35.000000</td>\n",
       "            </tr>\n",
       "            <tr>\n",
       "                                <td id=\"T_b4fd5_row172_col0\" class=\"data row172 col0\" >24</td>\n",
       "                        <td id=\"T_b4fd5_row172_col1\" class=\"data row172 col1\" >Table Tennis</td>\n",
       "                        <td id=\"T_b4fd5_row172_col2\" class=\"data row172 col2\" >0.000000</td>\n",
       "            </tr>\n",
       "            <tr>\n",
       "                                <td id=\"T_b4fd5_row173_col0\" class=\"data row173 col0\" >26</td>\n",
       "                        <td id=\"T_b4fd5_row173_col1\" class=\"data row173 col1\" >Pool Table</td>\n",
       "                        <td id=\"T_b4fd5_row173_col2\" class=\"data row173 col2\" >0.000000</td>\n",
       "            </tr>\n",
       "            <tr>\n",
       "                                <td id=\"T_b4fd5_row174_col0\" class=\"data row174 col0\" >26</td>\n",
       "                        <td id=\"T_b4fd5_row174_col1\" class=\"data row174 col1\" >Badminton Court</td>\n",
       "                        <td id=\"T_b4fd5_row174_col2\" class=\"data row174 col2\" >0.000000</td>\n",
       "            </tr>\n",
       "            <tr>\n",
       "                                <td id=\"T_b4fd5_row175_col0\" class=\"data row175 col0\" >26</td>\n",
       "                        <td id=\"T_b4fd5_row175_col1\" class=\"data row175 col1\" >Squash Court</td>\n",
       "                        <td id=\"T_b4fd5_row175_col2\" class=\"data row175 col2\" >3.500000</td>\n",
       "            </tr>\n",
       "            <tr>\n",
       "                                <td id=\"T_b4fd5_row176_col0\" class=\"data row176 col0\" >26</td>\n",
       "                        <td id=\"T_b4fd5_row176_col1\" class=\"data row176 col1\" >Tennis Court 1</td>\n",
       "                        <td id=\"T_b4fd5_row176_col2\" class=\"data row176 col2\" >5.000000</td>\n",
       "            </tr>\n",
       "            <tr>\n",
       "                                <td id=\"T_b4fd5_row177_col0\" class=\"data row177 col0\" >27</td>\n",
       "                        <td id=\"T_b4fd5_row177_col1\" class=\"data row177 col1\" >Tennis Court 2</td>\n",
       "                        <td id=\"T_b4fd5_row177_col2\" class=\"data row177 col2\" >5.000000</td>\n",
       "            </tr>\n",
       "            <tr>\n",
       "                                <td id=\"T_b4fd5_row178_col0\" class=\"data row178 col0\" >27</td>\n",
       "                        <td id=\"T_b4fd5_row178_col1\" class=\"data row178 col1\" >Squash Court</td>\n",
       "                        <td id=\"T_b4fd5_row178_col2\" class=\"data row178 col2\" >3.500000</td>\n",
       "            </tr>\n",
       "            <tr>\n",
       "                                <td id=\"T_b4fd5_row179_col0\" class=\"data row179 col0\" >27</td>\n",
       "                        <td id=\"T_b4fd5_row179_col1\" class=\"data row179 col1\" >Pool Table</td>\n",
       "                        <td id=\"T_b4fd5_row179_col2\" class=\"data row179 col2\" >0.000000</td>\n",
       "            </tr>\n",
       "            <tr>\n",
       "                                <td id=\"T_b4fd5_row180_col0\" class=\"data row180 col0\" >27</td>\n",
       "                        <td id=\"T_b4fd5_row180_col1\" class=\"data row180 col1\" >Snooker Table</td>\n",
       "                        <td id=\"T_b4fd5_row180_col2\" class=\"data row180 col2\" >0.000000</td>\n",
       "            </tr>\n",
       "            <tr>\n",
       "                                <td id=\"T_b4fd5_row181_col0\" class=\"data row181 col0\" >28</td>\n",
       "                        <td id=\"T_b4fd5_row181_col1\" class=\"data row181 col1\" >Snooker Table</td>\n",
       "                        <td id=\"T_b4fd5_row181_col2\" class=\"data row181 col2\" >0.000000</td>\n",
       "            </tr>\n",
       "            <tr>\n",
       "                                <td id=\"T_b4fd5_row182_col0\" class=\"data row182 col0\" >28</td>\n",
       "                        <td id=\"T_b4fd5_row182_col1\" class=\"data row182 col1\" >Pool Table</td>\n",
       "                        <td id=\"T_b4fd5_row182_col2\" class=\"data row182 col2\" >0.000000</td>\n",
       "            </tr>\n",
       "            <tr>\n",
       "                                <td id=\"T_b4fd5_row183_col0\" class=\"data row183 col0\" >28</td>\n",
       "                        <td id=\"T_b4fd5_row183_col1\" class=\"data row183 col1\" >Squash Court</td>\n",
       "                        <td id=\"T_b4fd5_row183_col2\" class=\"data row183 col2\" >3.500000</td>\n",
       "            </tr>\n",
       "            <tr>\n",
       "                                <td id=\"T_b4fd5_row184_col0\" class=\"data row184 col0\" >28</td>\n",
       "                        <td id=\"T_b4fd5_row184_col1\" class=\"data row184 col1\" >Tennis Court 2</td>\n",
       "                        <td id=\"T_b4fd5_row184_col2\" class=\"data row184 col2\" >5.000000</td>\n",
       "            </tr>\n",
       "            <tr>\n",
       "                                <td id=\"T_b4fd5_row185_col0\" class=\"data row185 col0\" >28</td>\n",
       "                        <td id=\"T_b4fd5_row185_col1\" class=\"data row185 col1\" >Tennis Court 1</td>\n",
       "                        <td id=\"T_b4fd5_row185_col2\" class=\"data row185 col2\" >5.000000</td>\n",
       "            </tr>\n",
       "            <tr>\n",
       "                                <td id=\"T_b4fd5_row186_col0\" class=\"data row186 col0\" >29</td>\n",
       "                        <td id=\"T_b4fd5_row186_col1\" class=\"data row186 col1\" >Pool Table</td>\n",
       "                        <td id=\"T_b4fd5_row186_col2\" class=\"data row186 col2\" >0.000000</td>\n",
       "            </tr>\n",
       "            <tr>\n",
       "                                <td id=\"T_b4fd5_row187_col0\" class=\"data row187 col0\" >29</td>\n",
       "                        <td id=\"T_b4fd5_row187_col1\" class=\"data row187 col1\" >Badminton Court</td>\n",
       "                        <td id=\"T_b4fd5_row187_col2\" class=\"data row187 col2\" >0.000000</td>\n",
       "            </tr>\n",
       "            <tr>\n",
       "                                <td id=\"T_b4fd5_row188_col0\" class=\"data row188 col0\" >29</td>\n",
       "                        <td id=\"T_b4fd5_row188_col1\" class=\"data row188 col1\" >Massage Room 1</td>\n",
       "                        <td id=\"T_b4fd5_row188_col2\" class=\"data row188 col2\" >35.000000</td>\n",
       "            </tr>\n",
       "            <tr>\n",
       "                                <td id=\"T_b4fd5_row189_col0\" class=\"data row189 col0\" >29</td>\n",
       "                        <td id=\"T_b4fd5_row189_col1\" class=\"data row189 col1\" >Table Tennis</td>\n",
       "                        <td id=\"T_b4fd5_row189_col2\" class=\"data row189 col2\" >0.000000</td>\n",
       "            </tr>\n",
       "            <tr>\n",
       "                                <td id=\"T_b4fd5_row190_col0\" class=\"data row190 col0\" >30</td>\n",
       "                        <td id=\"T_b4fd5_row190_col1\" class=\"data row190 col1\" >Tennis Court 2</td>\n",
       "                        <td id=\"T_b4fd5_row190_col2\" class=\"data row190 col2\" >5.000000</td>\n",
       "            </tr>\n",
       "            <tr>\n",
       "                                <td id=\"T_b4fd5_row191_col0\" class=\"data row191 col0\" >30</td>\n",
       "                        <td id=\"T_b4fd5_row191_col1\" class=\"data row191 col1\" >Pool Table</td>\n",
       "                        <td id=\"T_b4fd5_row191_col2\" class=\"data row191 col2\" >0.000000</td>\n",
       "            </tr>\n",
       "            <tr>\n",
       "                                <td id=\"T_b4fd5_row192_col0\" class=\"data row192 col0\" >30</td>\n",
       "                        <td id=\"T_b4fd5_row192_col1\" class=\"data row192 col1\" >Table Tennis</td>\n",
       "                        <td id=\"T_b4fd5_row192_col2\" class=\"data row192 col2\" >0.000000</td>\n",
       "            </tr>\n",
       "            <tr>\n",
       "                                <td id=\"T_b4fd5_row193_col0\" class=\"data row193 col0\" >30</td>\n",
       "                        <td id=\"T_b4fd5_row193_col1\" class=\"data row193 col1\" >Badminton Court</td>\n",
       "                        <td id=\"T_b4fd5_row193_col2\" class=\"data row193 col2\" >0.000000</td>\n",
       "            </tr>\n",
       "            <tr>\n",
       "                                <td id=\"T_b4fd5_row194_col0\" class=\"data row194 col0\" >30</td>\n",
       "                        <td id=\"T_b4fd5_row194_col1\" class=\"data row194 col1\" >Squash Court</td>\n",
       "                        <td id=\"T_b4fd5_row194_col2\" class=\"data row194 col2\" >3.500000</td>\n",
       "            </tr>\n",
       "            <tr>\n",
       "                                <td id=\"T_b4fd5_row195_col0\" class=\"data row195 col0\" >30</td>\n",
       "                        <td id=\"T_b4fd5_row195_col1\" class=\"data row195 col1\" >Snooker Table</td>\n",
       "                        <td id=\"T_b4fd5_row195_col2\" class=\"data row195 col2\" >0.000000</td>\n",
       "            </tr>\n",
       "            <tr>\n",
       "                                <td id=\"T_b4fd5_row196_col0\" class=\"data row196 col0\" >33</td>\n",
       "                        <td id=\"T_b4fd5_row196_col1\" class=\"data row196 col1\" >Massage Room 1</td>\n",
       "                        <td id=\"T_b4fd5_row196_col2\" class=\"data row196 col2\" >35.000000</td>\n",
       "            </tr>\n",
       "            <tr>\n",
       "                                <td id=\"T_b4fd5_row197_col0\" class=\"data row197 col0\" >33</td>\n",
       "                        <td id=\"T_b4fd5_row197_col1\" class=\"data row197 col1\" >Pool Table</td>\n",
       "                        <td id=\"T_b4fd5_row197_col2\" class=\"data row197 col2\" >0.000000</td>\n",
       "            </tr>\n",
       "            <tr>\n",
       "                                <td id=\"T_b4fd5_row198_col0\" class=\"data row198 col0\" >33</td>\n",
       "                        <td id=\"T_b4fd5_row198_col1\" class=\"data row198 col1\" >Snooker Table</td>\n",
       "                        <td id=\"T_b4fd5_row198_col2\" class=\"data row198 col2\" >0.000000</td>\n",
       "            </tr>\n",
       "            <tr>\n",
       "                                <td id=\"T_b4fd5_row199_col0\" class=\"data row199 col0\" >33</td>\n",
       "                        <td id=\"T_b4fd5_row199_col1\" class=\"data row199 col1\" >Squash Court</td>\n",
       "                        <td id=\"T_b4fd5_row199_col2\" class=\"data row199 col2\" >3.500000</td>\n",
       "            </tr>\n",
       "            <tr>\n",
       "                                <td id=\"T_b4fd5_row200_col0\" class=\"data row200 col0\" >33</td>\n",
       "                        <td id=\"T_b4fd5_row200_col1\" class=\"data row200 col1\" >Badminton Court</td>\n",
       "                        <td id=\"T_b4fd5_row200_col2\" class=\"data row200 col2\" >0.000000</td>\n",
       "            </tr>\n",
       "            <tr>\n",
       "                                <td id=\"T_b4fd5_row201_col0\" class=\"data row201 col0\" >35</td>\n",
       "                        <td id=\"T_b4fd5_row201_col1\" class=\"data row201 col1\" >Tennis Court 1</td>\n",
       "                        <td id=\"T_b4fd5_row201_col2\" class=\"data row201 col2\" >5.000000</td>\n",
       "            </tr>\n",
       "            <tr>\n",
       "                                <td id=\"T_b4fd5_row202_col0\" class=\"data row202 col0\" >35</td>\n",
       "                        <td id=\"T_b4fd5_row202_col1\" class=\"data row202 col1\" >Table Tennis</td>\n",
       "                        <td id=\"T_b4fd5_row202_col2\" class=\"data row202 col2\" >0.000000</td>\n",
       "            </tr>\n",
       "            <tr>\n",
       "                                <td id=\"T_b4fd5_row203_col0\" class=\"data row203 col0\" >35</td>\n",
       "                        <td id=\"T_b4fd5_row203_col1\" class=\"data row203 col1\" >Tennis Court 2</td>\n",
       "                        <td id=\"T_b4fd5_row203_col2\" class=\"data row203 col2\" >5.000000</td>\n",
       "            </tr>\n",
       "            <tr>\n",
       "                                <td id=\"T_b4fd5_row204_col0\" class=\"data row204 col0\" >35</td>\n",
       "                        <td id=\"T_b4fd5_row204_col1\" class=\"data row204 col1\" >Massage Room 1</td>\n",
       "                        <td id=\"T_b4fd5_row204_col2\" class=\"data row204 col2\" >35.000000</td>\n",
       "            </tr>\n",
       "            <tr>\n",
       "                                <td id=\"T_b4fd5_row205_col0\" class=\"data row205 col0\" >35</td>\n",
       "                        <td id=\"T_b4fd5_row205_col1\" class=\"data row205 col1\" >Badminton Court</td>\n",
       "                        <td id=\"T_b4fd5_row205_col2\" class=\"data row205 col2\" >0.000000</td>\n",
       "            </tr>\n",
       "            <tr>\n",
       "                                <td id=\"T_b4fd5_row206_col0\" class=\"data row206 col0\" >35</td>\n",
       "                        <td id=\"T_b4fd5_row206_col1\" class=\"data row206 col1\" >Squash Court</td>\n",
       "                        <td id=\"T_b4fd5_row206_col2\" class=\"data row206 col2\" >3.500000</td>\n",
       "            </tr>\n",
       "            <tr>\n",
       "                                <td id=\"T_b4fd5_row207_col0\" class=\"data row207 col0\" >36</td>\n",
       "                        <td id=\"T_b4fd5_row207_col1\" class=\"data row207 col1\" >Table Tennis</td>\n",
       "                        <td id=\"T_b4fd5_row207_col2\" class=\"data row207 col2\" >0.000000</td>\n",
       "            </tr>\n",
       "            <tr>\n",
       "                                <td id=\"T_b4fd5_row208_col0\" class=\"data row208 col0\" >36</td>\n",
       "                        <td id=\"T_b4fd5_row208_col1\" class=\"data row208 col1\" >Badminton Court</td>\n",
       "                        <td id=\"T_b4fd5_row208_col2\" class=\"data row208 col2\" >0.000000</td>\n",
       "            </tr>\n",
       "            <tr>\n",
       "                                <td id=\"T_b4fd5_row209_col0\" class=\"data row209 col0\" >36</td>\n",
       "                        <td id=\"T_b4fd5_row209_col1\" class=\"data row209 col1\" >Massage Room 1</td>\n",
       "                        <td id=\"T_b4fd5_row209_col2\" class=\"data row209 col2\" >35.000000</td>\n",
       "            </tr>\n",
       "            <tr>\n",
       "                                <td id=\"T_b4fd5_row210_col0\" class=\"data row210 col0\" >36</td>\n",
       "                        <td id=\"T_b4fd5_row210_col1\" class=\"data row210 col1\" >Tennis Court 1</td>\n",
       "                        <td id=\"T_b4fd5_row210_col2\" class=\"data row210 col2\" >5.000000</td>\n",
       "            </tr>\n",
       "    </tbody></table>"
      ],
      "text/plain": [
       "<pandas.io.formats.style.Styler at 0x293695b2b80>"
      ]
     },
     "metadata": {},
     "output_type": "display_data"
    }
   ],
   "source": [
    "##YOUR QUERY HERE##\n",
    "con = psycopg2.connect(user = \"postgres\",\n",
    "                       password = \"changeme\",\n",
    "                       host = \"127.0.0.1\",\n",
    "                       port = \"5432\",\n",
    "                       database = \"exercises\")\n",
    "\n",
    "try:\n",
    "    cursor = con.cursor();\n",
    "    print(\"connected again to the server, and cusor now on exercises !!\")\n",
    "except (Exception, psycopg2.Error) as error:\n",
    "    print(\"Error in Connection\",error)\n",
    "\n",
    "MemberCostList= pd.read_sql('''SELECT DISTINCT tbl1.memid,  cd.facilities.name ,cd.facilities.membercost\n",
    "                               FROM (SELECT cd.members.memid, cd.bookings.facid\n",
    "                                     FROM cd.members JOIN cd.bookings ON cd.members.memid = cd.bookings.memid) as tbl1\n",
    "                               JOIN cd.facilities ON tbl1.facid = cd.facilities.facid\n",
    "                               ORDER BY tbl1.memid''', con)\n",
    "display(MemberCostList.style.hide_index())"
   ]
  },
  {
   "cell_type": "markdown",
   "metadata": {},
   "source": [
    "#### How can you produce a list of facilities that charge a fee to members (membercost>0)?"
   ]
  },
  {
   "cell_type": "code",
   "execution_count": 110,
   "metadata": {},
   "outputs": [
    {
     "data": {
      "text/html": [
       "<style  type=\"text/css\" >\n",
       "</style><table id=\"T_24535_\" ><thead>    <tr>        <th class=\"col_heading level0 col0\" >memid</th>        <th class=\"col_heading level0 col1\" >name</th>    </tr></thead><tbody>\n",
       "                <tr>\n",
       "                                <td id=\"T_24535_row0_col0\" class=\"data row0 col0\" >0</td>\n",
       "                        <td id=\"T_24535_row0_col1\" class=\"data row0 col1\" >Massage Room 1</td>\n",
       "            </tr>\n",
       "            <tr>\n",
       "                                <td id=\"T_24535_row1_col0\" class=\"data row1 col0\" >0</td>\n",
       "                        <td id=\"T_24535_row1_col1\" class=\"data row1 col1\" >Massage Room 2</td>\n",
       "            </tr>\n",
       "            <tr>\n",
       "                                <td id=\"T_24535_row2_col0\" class=\"data row2 col0\" >0</td>\n",
       "                        <td id=\"T_24535_row2_col1\" class=\"data row2 col1\" >Squash Court</td>\n",
       "            </tr>\n",
       "            <tr>\n",
       "                                <td id=\"T_24535_row3_col0\" class=\"data row3 col0\" >0</td>\n",
       "                        <td id=\"T_24535_row3_col1\" class=\"data row3 col1\" >Tennis Court 1</td>\n",
       "            </tr>\n",
       "            <tr>\n",
       "                                <td id=\"T_24535_row4_col0\" class=\"data row4 col0\" >0</td>\n",
       "                        <td id=\"T_24535_row4_col1\" class=\"data row4 col1\" >Tennis Court 2</td>\n",
       "            </tr>\n",
       "            <tr>\n",
       "                                <td id=\"T_24535_row5_col0\" class=\"data row5 col0\" >1</td>\n",
       "                        <td id=\"T_24535_row5_col1\" class=\"data row5 col1\" >Massage Room 1</td>\n",
       "            </tr>\n",
       "            <tr>\n",
       "                                <td id=\"T_24535_row6_col0\" class=\"data row6 col0\" >1</td>\n",
       "                        <td id=\"T_24535_row6_col1\" class=\"data row6 col1\" >Squash Court</td>\n",
       "            </tr>\n",
       "            <tr>\n",
       "                                <td id=\"T_24535_row7_col0\" class=\"data row7 col0\" >1</td>\n",
       "                        <td id=\"T_24535_row7_col1\" class=\"data row7 col1\" >Tennis Court 2</td>\n",
       "            </tr>\n",
       "            <tr>\n",
       "                                <td id=\"T_24535_row8_col0\" class=\"data row8 col0\" >2</td>\n",
       "                        <td id=\"T_24535_row8_col1\" class=\"data row8 col1\" >Massage Room 1</td>\n",
       "            </tr>\n",
       "            <tr>\n",
       "                                <td id=\"T_24535_row9_col0\" class=\"data row9 col0\" >2</td>\n",
       "                        <td id=\"T_24535_row9_col1\" class=\"data row9 col1\" >Squash Court</td>\n",
       "            </tr>\n",
       "            <tr>\n",
       "                                <td id=\"T_24535_row10_col0\" class=\"data row10 col0\" >2</td>\n",
       "                        <td id=\"T_24535_row10_col1\" class=\"data row10 col1\" >Tennis Court 1</td>\n",
       "            </tr>\n",
       "            <tr>\n",
       "                                <td id=\"T_24535_row11_col0\" class=\"data row11 col0\" >2</td>\n",
       "                        <td id=\"T_24535_row11_col1\" class=\"data row11 col1\" >Tennis Court 2</td>\n",
       "            </tr>\n",
       "            <tr>\n",
       "                                <td id=\"T_24535_row12_col0\" class=\"data row12 col0\" >3</td>\n",
       "                        <td id=\"T_24535_row12_col1\" class=\"data row12 col1\" >Massage Room 1</td>\n",
       "            </tr>\n",
       "            <tr>\n",
       "                                <td id=\"T_24535_row13_col0\" class=\"data row13 col0\" >3</td>\n",
       "                        <td id=\"T_24535_row13_col1\" class=\"data row13 col1\" >Massage Room 2</td>\n",
       "            </tr>\n",
       "            <tr>\n",
       "                                <td id=\"T_24535_row14_col0\" class=\"data row14 col0\" >3</td>\n",
       "                        <td id=\"T_24535_row14_col1\" class=\"data row14 col1\" >Tennis Court 1</td>\n",
       "            </tr>\n",
       "            <tr>\n",
       "                                <td id=\"T_24535_row15_col0\" class=\"data row15 col0\" >3</td>\n",
       "                        <td id=\"T_24535_row15_col1\" class=\"data row15 col1\" >Tennis Court 2</td>\n",
       "            </tr>\n",
       "            <tr>\n",
       "                                <td id=\"T_24535_row16_col0\" class=\"data row16 col0\" >4</td>\n",
       "                        <td id=\"T_24535_row16_col1\" class=\"data row16 col1\" >Massage Room 1</td>\n",
       "            </tr>\n",
       "            <tr>\n",
       "                                <td id=\"T_24535_row17_col0\" class=\"data row17 col0\" >4</td>\n",
       "                        <td id=\"T_24535_row17_col1\" class=\"data row17 col1\" >Massage Room 2</td>\n",
       "            </tr>\n",
       "            <tr>\n",
       "                                <td id=\"T_24535_row18_col0\" class=\"data row18 col0\" >4</td>\n",
       "                        <td id=\"T_24535_row18_col1\" class=\"data row18 col1\" >Squash Court</td>\n",
       "            </tr>\n",
       "            <tr>\n",
       "                                <td id=\"T_24535_row19_col0\" class=\"data row19 col0\" >4</td>\n",
       "                        <td id=\"T_24535_row19_col1\" class=\"data row19 col1\" >Tennis Court 1</td>\n",
       "            </tr>\n",
       "            <tr>\n",
       "                                <td id=\"T_24535_row20_col0\" class=\"data row20 col0\" >4</td>\n",
       "                        <td id=\"T_24535_row20_col1\" class=\"data row20 col1\" >Tennis Court 2</td>\n",
       "            </tr>\n",
       "            <tr>\n",
       "                                <td id=\"T_24535_row21_col0\" class=\"data row21 col0\" >5</td>\n",
       "                        <td id=\"T_24535_row21_col1\" class=\"data row21 col1\" >Massage Room 1</td>\n",
       "            </tr>\n",
       "            <tr>\n",
       "                                <td id=\"T_24535_row22_col0\" class=\"data row22 col0\" >5</td>\n",
       "                        <td id=\"T_24535_row22_col1\" class=\"data row22 col1\" >Massage Room 2</td>\n",
       "            </tr>\n",
       "            <tr>\n",
       "                                <td id=\"T_24535_row23_col0\" class=\"data row23 col0\" >5</td>\n",
       "                        <td id=\"T_24535_row23_col1\" class=\"data row23 col1\" >Squash Court</td>\n",
       "            </tr>\n",
       "            <tr>\n",
       "                                <td id=\"T_24535_row24_col0\" class=\"data row24 col0\" >5</td>\n",
       "                        <td id=\"T_24535_row24_col1\" class=\"data row24 col1\" >Tennis Court 1</td>\n",
       "            </tr>\n",
       "            <tr>\n",
       "                                <td id=\"T_24535_row25_col0\" class=\"data row25 col0\" >5</td>\n",
       "                        <td id=\"T_24535_row25_col1\" class=\"data row25 col1\" >Tennis Court 2</td>\n",
       "            </tr>\n",
       "            <tr>\n",
       "                                <td id=\"T_24535_row26_col0\" class=\"data row26 col0\" >6</td>\n",
       "                        <td id=\"T_24535_row26_col1\" class=\"data row26 col1\" >Massage Room 1</td>\n",
       "            </tr>\n",
       "            <tr>\n",
       "                                <td id=\"T_24535_row27_col0\" class=\"data row27 col0\" >6</td>\n",
       "                        <td id=\"T_24535_row27_col1\" class=\"data row27 col1\" >Squash Court</td>\n",
       "            </tr>\n",
       "            <tr>\n",
       "                                <td id=\"T_24535_row28_col0\" class=\"data row28 col0\" >6</td>\n",
       "                        <td id=\"T_24535_row28_col1\" class=\"data row28 col1\" >Tennis Court 1</td>\n",
       "            </tr>\n",
       "            <tr>\n",
       "                                <td id=\"T_24535_row29_col0\" class=\"data row29 col0\" >6</td>\n",
       "                        <td id=\"T_24535_row29_col1\" class=\"data row29 col1\" >Tennis Court 2</td>\n",
       "            </tr>\n",
       "            <tr>\n",
       "                                <td id=\"T_24535_row30_col0\" class=\"data row30 col0\" >7</td>\n",
       "                        <td id=\"T_24535_row30_col1\" class=\"data row30 col1\" >Massage Room 1</td>\n",
       "            </tr>\n",
       "            <tr>\n",
       "                                <td id=\"T_24535_row31_col0\" class=\"data row31 col0\" >7</td>\n",
       "                        <td id=\"T_24535_row31_col1\" class=\"data row31 col1\" >Massage Room 2</td>\n",
       "            </tr>\n",
       "            <tr>\n",
       "                                <td id=\"T_24535_row32_col0\" class=\"data row32 col0\" >7</td>\n",
       "                        <td id=\"T_24535_row32_col1\" class=\"data row32 col1\" >Tennis Court 1</td>\n",
       "            </tr>\n",
       "            <tr>\n",
       "                                <td id=\"T_24535_row33_col0\" class=\"data row33 col0\" >7</td>\n",
       "                        <td id=\"T_24535_row33_col1\" class=\"data row33 col1\" >Tennis Court 2</td>\n",
       "            </tr>\n",
       "            <tr>\n",
       "                                <td id=\"T_24535_row34_col0\" class=\"data row34 col0\" >8</td>\n",
       "                        <td id=\"T_24535_row34_col1\" class=\"data row34 col1\" >Massage Room 1</td>\n",
       "            </tr>\n",
       "            <tr>\n",
       "                                <td id=\"T_24535_row35_col0\" class=\"data row35 col0\" >8</td>\n",
       "                        <td id=\"T_24535_row35_col1\" class=\"data row35 col1\" >Squash Court</td>\n",
       "            </tr>\n",
       "            <tr>\n",
       "                                <td id=\"T_24535_row36_col0\" class=\"data row36 col0\" >8</td>\n",
       "                        <td id=\"T_24535_row36_col1\" class=\"data row36 col1\" >Tennis Court 1</td>\n",
       "            </tr>\n",
       "            <tr>\n",
       "                                <td id=\"T_24535_row37_col0\" class=\"data row37 col0\" >8</td>\n",
       "                        <td id=\"T_24535_row37_col1\" class=\"data row37 col1\" >Tennis Court 2</td>\n",
       "            </tr>\n",
       "            <tr>\n",
       "                                <td id=\"T_24535_row38_col0\" class=\"data row38 col0\" >9</td>\n",
       "                        <td id=\"T_24535_row38_col1\" class=\"data row38 col1\" >Massage Room 1</td>\n",
       "            </tr>\n",
       "            <tr>\n",
       "                                <td id=\"T_24535_row39_col0\" class=\"data row39 col0\" >9</td>\n",
       "                        <td id=\"T_24535_row39_col1\" class=\"data row39 col1\" >Squash Court</td>\n",
       "            </tr>\n",
       "            <tr>\n",
       "                                <td id=\"T_24535_row40_col0\" class=\"data row40 col0\" >9</td>\n",
       "                        <td id=\"T_24535_row40_col1\" class=\"data row40 col1\" >Tennis Court 1</td>\n",
       "            </tr>\n",
       "            <tr>\n",
       "                                <td id=\"T_24535_row41_col0\" class=\"data row41 col0\" >9</td>\n",
       "                        <td id=\"T_24535_row41_col1\" class=\"data row41 col1\" >Tennis Court 2</td>\n",
       "            </tr>\n",
       "            <tr>\n",
       "                                <td id=\"T_24535_row42_col0\" class=\"data row42 col0\" >10</td>\n",
       "                        <td id=\"T_24535_row42_col1\" class=\"data row42 col1\" >Massage Room 1</td>\n",
       "            </tr>\n",
       "            <tr>\n",
       "                                <td id=\"T_24535_row43_col0\" class=\"data row43 col0\" >10</td>\n",
       "                        <td id=\"T_24535_row43_col1\" class=\"data row43 col1\" >Massage Room 2</td>\n",
       "            </tr>\n",
       "            <tr>\n",
       "                                <td id=\"T_24535_row44_col0\" class=\"data row44 col0\" >10</td>\n",
       "                        <td id=\"T_24535_row44_col1\" class=\"data row44 col1\" >Squash Court</td>\n",
       "            </tr>\n",
       "            <tr>\n",
       "                                <td id=\"T_24535_row45_col0\" class=\"data row45 col0\" >10</td>\n",
       "                        <td id=\"T_24535_row45_col1\" class=\"data row45 col1\" >Tennis Court 1</td>\n",
       "            </tr>\n",
       "            <tr>\n",
       "                                <td id=\"T_24535_row46_col0\" class=\"data row46 col0\" >10</td>\n",
       "                        <td id=\"T_24535_row46_col1\" class=\"data row46 col1\" >Tennis Court 2</td>\n",
       "            </tr>\n",
       "            <tr>\n",
       "                                <td id=\"T_24535_row47_col0\" class=\"data row47 col0\" >11</td>\n",
       "                        <td id=\"T_24535_row47_col1\" class=\"data row47 col1\" >Massage Room 1</td>\n",
       "            </tr>\n",
       "            <tr>\n",
       "                                <td id=\"T_24535_row48_col0\" class=\"data row48 col0\" >11</td>\n",
       "                        <td id=\"T_24535_row48_col1\" class=\"data row48 col1\" >Massage Room 2</td>\n",
       "            </tr>\n",
       "            <tr>\n",
       "                                <td id=\"T_24535_row49_col0\" class=\"data row49 col0\" >11</td>\n",
       "                        <td id=\"T_24535_row49_col1\" class=\"data row49 col1\" >Squash Court</td>\n",
       "            </tr>\n",
       "            <tr>\n",
       "                                <td id=\"T_24535_row50_col0\" class=\"data row50 col0\" >11</td>\n",
       "                        <td id=\"T_24535_row50_col1\" class=\"data row50 col1\" >Tennis Court 1</td>\n",
       "            </tr>\n",
       "            <tr>\n",
       "                                <td id=\"T_24535_row51_col0\" class=\"data row51 col0\" >11</td>\n",
       "                        <td id=\"T_24535_row51_col1\" class=\"data row51 col1\" >Tennis Court 2</td>\n",
       "            </tr>\n",
       "            <tr>\n",
       "                                <td id=\"T_24535_row52_col0\" class=\"data row52 col0\" >12</td>\n",
       "                        <td id=\"T_24535_row52_col1\" class=\"data row52 col1\" >Massage Room 1</td>\n",
       "            </tr>\n",
       "            <tr>\n",
       "                                <td id=\"T_24535_row53_col0\" class=\"data row53 col0\" >12</td>\n",
       "                        <td id=\"T_24535_row53_col1\" class=\"data row53 col1\" >Massage Room 2</td>\n",
       "            </tr>\n",
       "            <tr>\n",
       "                                <td id=\"T_24535_row54_col0\" class=\"data row54 col0\" >12</td>\n",
       "                        <td id=\"T_24535_row54_col1\" class=\"data row54 col1\" >Squash Court</td>\n",
       "            </tr>\n",
       "            <tr>\n",
       "                                <td id=\"T_24535_row55_col0\" class=\"data row55 col0\" >12</td>\n",
       "                        <td id=\"T_24535_row55_col1\" class=\"data row55 col1\" >Tennis Court 1</td>\n",
       "            </tr>\n",
       "            <tr>\n",
       "                                <td id=\"T_24535_row56_col0\" class=\"data row56 col0\" >12</td>\n",
       "                        <td id=\"T_24535_row56_col1\" class=\"data row56 col1\" >Tennis Court 2</td>\n",
       "            </tr>\n",
       "            <tr>\n",
       "                                <td id=\"T_24535_row57_col0\" class=\"data row57 col0\" >13</td>\n",
       "                        <td id=\"T_24535_row57_col1\" class=\"data row57 col1\" >Massage Room 1</td>\n",
       "            </tr>\n",
       "            <tr>\n",
       "                                <td id=\"T_24535_row58_col0\" class=\"data row58 col0\" >13</td>\n",
       "                        <td id=\"T_24535_row58_col1\" class=\"data row58 col1\" >Squash Court</td>\n",
       "            </tr>\n",
       "            <tr>\n",
       "                                <td id=\"T_24535_row59_col0\" class=\"data row59 col0\" >13</td>\n",
       "                        <td id=\"T_24535_row59_col1\" class=\"data row59 col1\" >Tennis Court 1</td>\n",
       "            </tr>\n",
       "            <tr>\n",
       "                                <td id=\"T_24535_row60_col0\" class=\"data row60 col0\" >13</td>\n",
       "                        <td id=\"T_24535_row60_col1\" class=\"data row60 col1\" >Tennis Court 2</td>\n",
       "            </tr>\n",
       "            <tr>\n",
       "                                <td id=\"T_24535_row61_col0\" class=\"data row61 col0\" >14</td>\n",
       "                        <td id=\"T_24535_row61_col1\" class=\"data row61 col1\" >Massage Room 1</td>\n",
       "            </tr>\n",
       "            <tr>\n",
       "                                <td id=\"T_24535_row62_col0\" class=\"data row62 col0\" >14</td>\n",
       "                        <td id=\"T_24535_row62_col1\" class=\"data row62 col1\" >Massage Room 2</td>\n",
       "            </tr>\n",
       "            <tr>\n",
       "                                <td id=\"T_24535_row63_col0\" class=\"data row63 col0\" >14</td>\n",
       "                        <td id=\"T_24535_row63_col1\" class=\"data row63 col1\" >Squash Court</td>\n",
       "            </tr>\n",
       "            <tr>\n",
       "                                <td id=\"T_24535_row64_col0\" class=\"data row64 col0\" >14</td>\n",
       "                        <td id=\"T_24535_row64_col1\" class=\"data row64 col1\" >Tennis Court 1</td>\n",
       "            </tr>\n",
       "            <tr>\n",
       "                                <td id=\"T_24535_row65_col0\" class=\"data row65 col0\" >14</td>\n",
       "                        <td id=\"T_24535_row65_col1\" class=\"data row65 col1\" >Tennis Court 2</td>\n",
       "            </tr>\n",
       "            <tr>\n",
       "                                <td id=\"T_24535_row66_col0\" class=\"data row66 col0\" >15</td>\n",
       "                        <td id=\"T_24535_row66_col1\" class=\"data row66 col1\" >Massage Room 2</td>\n",
       "            </tr>\n",
       "            <tr>\n",
       "                                <td id=\"T_24535_row67_col0\" class=\"data row67 col0\" >15</td>\n",
       "                        <td id=\"T_24535_row67_col1\" class=\"data row67 col1\" >Squash Court</td>\n",
       "            </tr>\n",
       "            <tr>\n",
       "                                <td id=\"T_24535_row68_col0\" class=\"data row68 col0\" >15</td>\n",
       "                        <td id=\"T_24535_row68_col1\" class=\"data row68 col1\" >Tennis Court 1</td>\n",
       "            </tr>\n",
       "            <tr>\n",
       "                                <td id=\"T_24535_row69_col0\" class=\"data row69 col0\" >15</td>\n",
       "                        <td id=\"T_24535_row69_col1\" class=\"data row69 col1\" >Tennis Court 2</td>\n",
       "            </tr>\n",
       "            <tr>\n",
       "                                <td id=\"T_24535_row70_col0\" class=\"data row70 col0\" >16</td>\n",
       "                        <td id=\"T_24535_row70_col1\" class=\"data row70 col1\" >Massage Room 1</td>\n",
       "            </tr>\n",
       "            <tr>\n",
       "                                <td id=\"T_24535_row71_col0\" class=\"data row71 col0\" >16</td>\n",
       "                        <td id=\"T_24535_row71_col1\" class=\"data row71 col1\" >Squash Court</td>\n",
       "            </tr>\n",
       "            <tr>\n",
       "                                <td id=\"T_24535_row72_col0\" class=\"data row72 col0\" >16</td>\n",
       "                        <td id=\"T_24535_row72_col1\" class=\"data row72 col1\" >Tennis Court 1</td>\n",
       "            </tr>\n",
       "            <tr>\n",
       "                                <td id=\"T_24535_row73_col0\" class=\"data row73 col0\" >16</td>\n",
       "                        <td id=\"T_24535_row73_col1\" class=\"data row73 col1\" >Tennis Court 2</td>\n",
       "            </tr>\n",
       "            <tr>\n",
       "                                <td id=\"T_24535_row74_col0\" class=\"data row74 col0\" >17</td>\n",
       "                        <td id=\"T_24535_row74_col1\" class=\"data row74 col1\" >Massage Room 1</td>\n",
       "            </tr>\n",
       "            <tr>\n",
       "                                <td id=\"T_24535_row75_col0\" class=\"data row75 col0\" >17</td>\n",
       "                        <td id=\"T_24535_row75_col1\" class=\"data row75 col1\" >Squash Court</td>\n",
       "            </tr>\n",
       "            <tr>\n",
       "                                <td id=\"T_24535_row76_col0\" class=\"data row76 col0\" >17</td>\n",
       "                        <td id=\"T_24535_row76_col1\" class=\"data row76 col1\" >Tennis Court 1</td>\n",
       "            </tr>\n",
       "            <tr>\n",
       "                                <td id=\"T_24535_row77_col0\" class=\"data row77 col0\" >20</td>\n",
       "                        <td id=\"T_24535_row77_col1\" class=\"data row77 col1\" >Massage Room 1</td>\n",
       "            </tr>\n",
       "            <tr>\n",
       "                                <td id=\"T_24535_row78_col0\" class=\"data row78 col0\" >20</td>\n",
       "                        <td id=\"T_24535_row78_col1\" class=\"data row78 col1\" >Massage Room 2</td>\n",
       "            </tr>\n",
       "            <tr>\n",
       "                                <td id=\"T_24535_row79_col0\" class=\"data row79 col0\" >20</td>\n",
       "                        <td id=\"T_24535_row79_col1\" class=\"data row79 col1\" >Tennis Court 1</td>\n",
       "            </tr>\n",
       "            <tr>\n",
       "                                <td id=\"T_24535_row80_col0\" class=\"data row80 col0\" >21</td>\n",
       "                        <td id=\"T_24535_row80_col1\" class=\"data row80 col1\" >Massage Room 1</td>\n",
       "            </tr>\n",
       "            <tr>\n",
       "                                <td id=\"T_24535_row81_col0\" class=\"data row81 col0\" >21</td>\n",
       "                        <td id=\"T_24535_row81_col1\" class=\"data row81 col1\" >Squash Court</td>\n",
       "            </tr>\n",
       "            <tr>\n",
       "                                <td id=\"T_24535_row82_col0\" class=\"data row82 col0\" >22</td>\n",
       "                        <td id=\"T_24535_row82_col1\" class=\"data row82 col1\" >Massage Room 1</td>\n",
       "            </tr>\n",
       "            <tr>\n",
       "                                <td id=\"T_24535_row83_col0\" class=\"data row83 col0\" >22</td>\n",
       "                        <td id=\"T_24535_row83_col1\" class=\"data row83 col1\" >Massage Room 2</td>\n",
       "            </tr>\n",
       "            <tr>\n",
       "                                <td id=\"T_24535_row84_col0\" class=\"data row84 col0\" >22</td>\n",
       "                        <td id=\"T_24535_row84_col1\" class=\"data row84 col1\" >Squash Court</td>\n",
       "            </tr>\n",
       "            <tr>\n",
       "                                <td id=\"T_24535_row85_col0\" class=\"data row85 col0\" >22</td>\n",
       "                        <td id=\"T_24535_row85_col1\" class=\"data row85 col1\" >Tennis Court 1</td>\n",
       "            </tr>\n",
       "            <tr>\n",
       "                                <td id=\"T_24535_row86_col0\" class=\"data row86 col0\" >24</td>\n",
       "                        <td id=\"T_24535_row86_col1\" class=\"data row86 col1\" >Massage Room 1</td>\n",
       "            </tr>\n",
       "            <tr>\n",
       "                                <td id=\"T_24535_row87_col0\" class=\"data row87 col0\" >24</td>\n",
       "                        <td id=\"T_24535_row87_col1\" class=\"data row87 col1\" >Massage Room 2</td>\n",
       "            </tr>\n",
       "            <tr>\n",
       "                                <td id=\"T_24535_row88_col0\" class=\"data row88 col0\" >24</td>\n",
       "                        <td id=\"T_24535_row88_col1\" class=\"data row88 col1\" >Squash Court</td>\n",
       "            </tr>\n",
       "            <tr>\n",
       "                                <td id=\"T_24535_row89_col0\" class=\"data row89 col0\" >24</td>\n",
       "                        <td id=\"T_24535_row89_col1\" class=\"data row89 col1\" >Tennis Court 1</td>\n",
       "            </tr>\n",
       "            <tr>\n",
       "                                <td id=\"T_24535_row90_col0\" class=\"data row90 col0\" >24</td>\n",
       "                        <td id=\"T_24535_row90_col1\" class=\"data row90 col1\" >Tennis Court 2</td>\n",
       "            </tr>\n",
       "            <tr>\n",
       "                                <td id=\"T_24535_row91_col0\" class=\"data row91 col0\" >26</td>\n",
       "                        <td id=\"T_24535_row91_col1\" class=\"data row91 col1\" >Squash Court</td>\n",
       "            </tr>\n",
       "            <tr>\n",
       "                                <td id=\"T_24535_row92_col0\" class=\"data row92 col0\" >26</td>\n",
       "                        <td id=\"T_24535_row92_col1\" class=\"data row92 col1\" >Tennis Court 1</td>\n",
       "            </tr>\n",
       "            <tr>\n",
       "                                <td id=\"T_24535_row93_col0\" class=\"data row93 col0\" >27</td>\n",
       "                        <td id=\"T_24535_row93_col1\" class=\"data row93 col1\" >Squash Court</td>\n",
       "            </tr>\n",
       "            <tr>\n",
       "                                <td id=\"T_24535_row94_col0\" class=\"data row94 col0\" >27</td>\n",
       "                        <td id=\"T_24535_row94_col1\" class=\"data row94 col1\" >Tennis Court 2</td>\n",
       "            </tr>\n",
       "            <tr>\n",
       "                                <td id=\"T_24535_row95_col0\" class=\"data row95 col0\" >28</td>\n",
       "                        <td id=\"T_24535_row95_col1\" class=\"data row95 col1\" >Squash Court</td>\n",
       "            </tr>\n",
       "            <tr>\n",
       "                                <td id=\"T_24535_row96_col0\" class=\"data row96 col0\" >28</td>\n",
       "                        <td id=\"T_24535_row96_col1\" class=\"data row96 col1\" >Tennis Court 1</td>\n",
       "            </tr>\n",
       "            <tr>\n",
       "                                <td id=\"T_24535_row97_col0\" class=\"data row97 col0\" >28</td>\n",
       "                        <td id=\"T_24535_row97_col1\" class=\"data row97 col1\" >Tennis Court 2</td>\n",
       "            </tr>\n",
       "            <tr>\n",
       "                                <td id=\"T_24535_row98_col0\" class=\"data row98 col0\" >29</td>\n",
       "                        <td id=\"T_24535_row98_col1\" class=\"data row98 col1\" >Massage Room 1</td>\n",
       "            </tr>\n",
       "            <tr>\n",
       "                                <td id=\"T_24535_row99_col0\" class=\"data row99 col0\" >30</td>\n",
       "                        <td id=\"T_24535_row99_col1\" class=\"data row99 col1\" >Squash Court</td>\n",
       "            </tr>\n",
       "            <tr>\n",
       "                                <td id=\"T_24535_row100_col0\" class=\"data row100 col0\" >30</td>\n",
       "                        <td id=\"T_24535_row100_col1\" class=\"data row100 col1\" >Tennis Court 2</td>\n",
       "            </tr>\n",
       "            <tr>\n",
       "                                <td id=\"T_24535_row101_col0\" class=\"data row101 col0\" >33</td>\n",
       "                        <td id=\"T_24535_row101_col1\" class=\"data row101 col1\" >Massage Room 1</td>\n",
       "            </tr>\n",
       "            <tr>\n",
       "                                <td id=\"T_24535_row102_col0\" class=\"data row102 col0\" >33</td>\n",
       "                        <td id=\"T_24535_row102_col1\" class=\"data row102 col1\" >Squash Court</td>\n",
       "            </tr>\n",
       "            <tr>\n",
       "                                <td id=\"T_24535_row103_col0\" class=\"data row103 col0\" >35</td>\n",
       "                        <td id=\"T_24535_row103_col1\" class=\"data row103 col1\" >Massage Room 1</td>\n",
       "            </tr>\n",
       "            <tr>\n",
       "                                <td id=\"T_24535_row104_col0\" class=\"data row104 col0\" >35</td>\n",
       "                        <td id=\"T_24535_row104_col1\" class=\"data row104 col1\" >Squash Court</td>\n",
       "            </tr>\n",
       "            <tr>\n",
       "                                <td id=\"T_24535_row105_col0\" class=\"data row105 col0\" >35</td>\n",
       "                        <td id=\"T_24535_row105_col1\" class=\"data row105 col1\" >Tennis Court 1</td>\n",
       "            </tr>\n",
       "            <tr>\n",
       "                                <td id=\"T_24535_row106_col0\" class=\"data row106 col0\" >35</td>\n",
       "                        <td id=\"T_24535_row106_col1\" class=\"data row106 col1\" >Tennis Court 2</td>\n",
       "            </tr>\n",
       "            <tr>\n",
       "                                <td id=\"T_24535_row107_col0\" class=\"data row107 col0\" >36</td>\n",
       "                        <td id=\"T_24535_row107_col1\" class=\"data row107 col1\" >Massage Room 1</td>\n",
       "            </tr>\n",
       "            <tr>\n",
       "                                <td id=\"T_24535_row108_col0\" class=\"data row108 col0\" >36</td>\n",
       "                        <td id=\"T_24535_row108_col1\" class=\"data row108 col1\" >Tennis Court 1</td>\n",
       "            </tr>\n",
       "    </tbody></table>"
      ],
      "text/plain": [
       "<pandas.io.formats.style.Styler at 0x293695b2400>"
      ]
     },
     "metadata": {},
     "output_type": "display_data"
    }
   ],
   "source": [
    "##YOUR QUERY HERE##\n",
    "FacilitiesFeeList= pd.read_sql('''SELECT DISTINCT tbl1.memid, cd.facilities.name\n",
    "                               FROM (SELECT cd.members.memid, cd.bookings.facid\n",
    "                                     FROM cd.members JOIN cd.bookings ON cd.members.memid = cd.bookings.memid) as tbl1\n",
    "                               JOIN cd.facilities ON tbl1.facid = cd.facilities.facid\n",
    "                               WHERE cd.facilities.membercost > 0\n",
    "                               ORDER BY tbl1.memid, cd.facilities.name''', con)\n",
    "display(FacilitiesFeeList.style.hide_index())"
   ]
  },
  {
   "cell_type": "markdown",
   "metadata": {},
   "source": [
    "####  How can you produce a list of all facilities with the word 'Tennis' in their name?"
   ]
  },
  {
   "cell_type": "code",
   "execution_count": 111,
   "metadata": {},
   "outputs": [
    {
     "data": {
      "text/html": [
       "<style  type=\"text/css\" >\n",
       "</style><table id=\"T_b353e_\" ><thead>    <tr>        <th class=\"col_heading level0 col0\" >facid</th>        <th class=\"col_heading level0 col1\" >name</th>        <th class=\"col_heading level0 col2\" >membercost</th>        <th class=\"col_heading level0 col3\" >guestcost</th>        <th class=\"col_heading level0 col4\" >initialoutlay</th>        <th class=\"col_heading level0 col5\" >monthlymaintenance</th>    </tr></thead><tbody>\n",
       "                <tr>\n",
       "                                <td id=\"T_b353e_row0_col0\" class=\"data row0 col0\" >0</td>\n",
       "                        <td id=\"T_b353e_row0_col1\" class=\"data row0 col1\" >Tennis Court 1</td>\n",
       "                        <td id=\"T_b353e_row0_col2\" class=\"data row0 col2\" >5.000000</td>\n",
       "                        <td id=\"T_b353e_row0_col3\" class=\"data row0 col3\" >25.000000</td>\n",
       "                        <td id=\"T_b353e_row0_col4\" class=\"data row0 col4\" >10000.000000</td>\n",
       "                        <td id=\"T_b353e_row0_col5\" class=\"data row0 col5\" >200.000000</td>\n",
       "            </tr>\n",
       "            <tr>\n",
       "                                <td id=\"T_b353e_row1_col0\" class=\"data row1 col0\" >1</td>\n",
       "                        <td id=\"T_b353e_row1_col1\" class=\"data row1 col1\" >Tennis Court 2</td>\n",
       "                        <td id=\"T_b353e_row1_col2\" class=\"data row1 col2\" >5.000000</td>\n",
       "                        <td id=\"T_b353e_row1_col3\" class=\"data row1 col3\" >25.000000</td>\n",
       "                        <td id=\"T_b353e_row1_col4\" class=\"data row1 col4\" >8000.000000</td>\n",
       "                        <td id=\"T_b353e_row1_col5\" class=\"data row1 col5\" >200.000000</td>\n",
       "            </tr>\n",
       "            <tr>\n",
       "                                <td id=\"T_b353e_row2_col0\" class=\"data row2 col0\" >3</td>\n",
       "                        <td id=\"T_b353e_row2_col1\" class=\"data row2 col1\" >Table Tennis</td>\n",
       "                        <td id=\"T_b353e_row2_col2\" class=\"data row2 col2\" >0.000000</td>\n",
       "                        <td id=\"T_b353e_row2_col3\" class=\"data row2 col3\" >5.000000</td>\n",
       "                        <td id=\"T_b353e_row2_col4\" class=\"data row2 col4\" >320.000000</td>\n",
       "                        <td id=\"T_b353e_row2_col5\" class=\"data row2 col5\" >10.000000</td>\n",
       "            </tr>\n",
       "    </tbody></table>"
      ],
      "text/plain": [
       "<pandas.io.formats.style.Styler at 0x2936944fc10>"
      ]
     },
     "metadata": {},
     "output_type": "display_data"
    }
   ],
   "source": [
    "##YOUR QUERY HERE##\n",
    "FacilitiesFeeList= pd.read_sql('''SELECT *\n",
    "                                  FROM cd.facilities\n",
    "                                  WHERE cd.facilities.name like '%Tennis%' ''', con)\n",
    "display(FacilitiesFeeList.style.hide_index())"
   ]
  },
  {
   "cell_type": "markdown",
   "metadata": {},
   "source": [
    "#### How can you retrieve the details of facilities with ID 1 and 5? <font color=red>Try to do it without using the OR operator.</font>"
   ]
  },
  {
   "cell_type": "code",
   "execution_count": 112,
   "metadata": {},
   "outputs": [
    {
     "data": {
      "text/html": [
       "<style  type=\"text/css\" >\n",
       "</style><table id=\"T_651e7_\" ><thead>    <tr>        <th class=\"col_heading level0 col0\" >facid</th>        <th class=\"col_heading level0 col1\" >name</th>        <th class=\"col_heading level0 col2\" >membercost</th>        <th class=\"col_heading level0 col3\" >guestcost</th>        <th class=\"col_heading level0 col4\" >initialoutlay</th>        <th class=\"col_heading level0 col5\" >monthlymaintenance</th>    </tr></thead><tbody>\n",
       "                <tr>\n",
       "                                <td id=\"T_651e7_row0_col0\" class=\"data row0 col0\" >1</td>\n",
       "                        <td id=\"T_651e7_row0_col1\" class=\"data row0 col1\" >Tennis Court 2</td>\n",
       "                        <td id=\"T_651e7_row0_col2\" class=\"data row0 col2\" >5.000000</td>\n",
       "                        <td id=\"T_651e7_row0_col3\" class=\"data row0 col3\" >25.000000</td>\n",
       "                        <td id=\"T_651e7_row0_col4\" class=\"data row0 col4\" >8000.000000</td>\n",
       "                        <td id=\"T_651e7_row0_col5\" class=\"data row0 col5\" >200.000000</td>\n",
       "            </tr>\n",
       "            <tr>\n",
       "                                <td id=\"T_651e7_row1_col0\" class=\"data row1 col0\" >5</td>\n",
       "                        <td id=\"T_651e7_row1_col1\" class=\"data row1 col1\" >Massage Room 2</td>\n",
       "                        <td id=\"T_651e7_row1_col2\" class=\"data row1 col2\" >35.000000</td>\n",
       "                        <td id=\"T_651e7_row1_col3\" class=\"data row1 col3\" >80.000000</td>\n",
       "                        <td id=\"T_651e7_row1_col4\" class=\"data row1 col4\" >4000.000000</td>\n",
       "                        <td id=\"T_651e7_row1_col5\" class=\"data row1 col5\" >3000.000000</td>\n",
       "            </tr>\n",
       "    </tbody></table>"
      ],
      "text/plain": [
       "<pandas.io.formats.style.Styler at 0x293695b25b0>"
      ]
     },
     "metadata": {},
     "output_type": "display_data"
    }
   ],
   "source": [
    "##YOUR QUERY HERE##\n",
    "Facilities1and5= pd.read_sql('''SELECT *\n",
    "                                FROM cd.facilities\n",
    "                                WHERE cd.facilities.facid = 1\n",
    "                                UNION\n",
    "                                SELECT *\n",
    "                                FROM cd.facilities\n",
    "                                WHERE cd.facilities.facid = 5  ''', con)\n",
    "display(Facilities1and5.style.hide_index())\n"
   ]
  },
  {
   "cell_type": "markdown",
   "metadata": {},
   "source": [
    "####  How can you produce a list of facilities, with each labelled as 'cheap' or 'expensive' depending on if their monthly maintenance cost is more than $100? Return the name and monthly maintenance of the facilities in question. "
   ]
  },
  {
   "cell_type": "code",
   "execution_count": 116,
   "metadata": {},
   "outputs": [
    {
     "data": {
      "text/html": [
       "<style  type=\"text/css\" >\n",
       "</style><table id=\"T_08c43_\" ><thead>    <tr>        <th class=\"col_heading level0 col0\" >name</th>        <th class=\"col_heading level0 col1\" >label</th>    </tr></thead><tbody>\n",
       "                <tr>\n",
       "                                <td id=\"T_08c43_row0_col0\" class=\"data row0 col0\" >Badminton Court</td>\n",
       "                        <td id=\"T_08c43_row0_col1\" class=\"data row0 col1\" >cheap</td>\n",
       "            </tr>\n",
       "            <tr>\n",
       "                                <td id=\"T_08c43_row1_col0\" class=\"data row1 col0\" >Massage Room 1</td>\n",
       "                        <td id=\"T_08c43_row1_col1\" class=\"data row1 col1\" >expensive</td>\n",
       "            </tr>\n",
       "            <tr>\n",
       "                                <td id=\"T_08c43_row2_col0\" class=\"data row2 col0\" >Massage Room 2</td>\n",
       "                        <td id=\"T_08c43_row2_col1\" class=\"data row2 col1\" >expensive</td>\n",
       "            </tr>\n",
       "            <tr>\n",
       "                                <td id=\"T_08c43_row3_col0\" class=\"data row3 col0\" >Pool Table</td>\n",
       "                        <td id=\"T_08c43_row3_col1\" class=\"data row3 col1\" >cheap</td>\n",
       "            </tr>\n",
       "            <tr>\n",
       "                                <td id=\"T_08c43_row4_col0\" class=\"data row4 col0\" >Snooker Table</td>\n",
       "                        <td id=\"T_08c43_row4_col1\" class=\"data row4 col1\" >cheap</td>\n",
       "            </tr>\n",
       "            <tr>\n",
       "                                <td id=\"T_08c43_row5_col0\" class=\"data row5 col0\" >Squash Court</td>\n",
       "                        <td id=\"T_08c43_row5_col1\" class=\"data row5 col1\" >cheap</td>\n",
       "            </tr>\n",
       "            <tr>\n",
       "                                <td id=\"T_08c43_row6_col0\" class=\"data row6 col0\" >Table Tennis</td>\n",
       "                        <td id=\"T_08c43_row6_col1\" class=\"data row6 col1\" >cheap</td>\n",
       "            </tr>\n",
       "            <tr>\n",
       "                                <td id=\"T_08c43_row7_col0\" class=\"data row7 col0\" >Tennis Court 1</td>\n",
       "                        <td id=\"T_08c43_row7_col1\" class=\"data row7 col1\" >expensive</td>\n",
       "            </tr>\n",
       "            <tr>\n",
       "                                <td id=\"T_08c43_row8_col0\" class=\"data row8 col0\" >Tennis Court 2</td>\n",
       "                        <td id=\"T_08c43_row8_col1\" class=\"data row8 col1\" >expensive</td>\n",
       "            </tr>\n",
       "    </tbody></table>"
      ],
      "text/plain": [
       "<pandas.io.formats.style.Styler at 0x2936a19d4f0>"
      ]
     },
     "metadata": {},
     "output_type": "display_data"
    }
   ],
   "source": [
    "##YOUR QUERY HERE##\n",
    "FacilitiesCheapAndExpensive= pd.read_sql('''SELECT DISTINCT cd.facilities.name, \n",
    "                                            CASE\n",
    "                                                WHEN cd.facilities.monthlymaintenance > 100 THEN 'expensive'\n",
    "                                                ELSE 'cheap' \n",
    "                                            END AS label\n",
    "                                            FROM cd.facilities\n",
    "                                            ORDER BY cd.facilities.name''', con)\n",
    "display(FacilitiesCheapAndExpensive.style.hide_index())"
   ]
  },
  {
   "cell_type": "markdown",
   "metadata": {},
   "source": [
    "####  get the signup date of your last member. How can you retrieve this information? "
   ]
  },
  {
   "cell_type": "code",
   "execution_count": 120,
   "metadata": {},
   "outputs": [
    {
     "data": {
      "text/html": [
       "<style  type=\"text/css\" >\n",
       "</style><table id=\"T_7d199_\" ><thead>    <tr>        <th class=\"col_heading level0 col0\" >memid</th>        <th class=\"col_heading level0 col1\" >surname</th>        <th class=\"col_heading level0 col2\" >firstname</th>        <th class=\"col_heading level0 col3\" >address</th>        <th class=\"col_heading level0 col4\" >zipcode</th>        <th class=\"col_heading level0 col5\" >telephone</th>        <th class=\"col_heading level0 col6\" >recommendedby</th>        <th class=\"col_heading level0 col7\" >joindate</th>    </tr></thead><tbody>\n",
       "                <tr>\n",
       "                                <td id=\"T_7d199_row0_col0\" class=\"data row0 col0\" >37</td>\n",
       "                        <td id=\"T_7d199_row0_col1\" class=\"data row0 col1\" >Smith</td>\n",
       "                        <td id=\"T_7d199_row0_col2\" class=\"data row0 col2\" >Darren</td>\n",
       "                        <td id=\"T_7d199_row0_col3\" class=\"data row0 col3\" >3 Funktown, Denzington, Boston</td>\n",
       "                        <td id=\"T_7d199_row0_col4\" class=\"data row0 col4\" >66796</td>\n",
       "                        <td id=\"T_7d199_row0_col5\" class=\"data row0 col5\" >(822) 577-3541</td>\n",
       "                        <td id=\"T_7d199_row0_col6\" class=\"data row0 col6\" >None</td>\n",
       "                        <td id=\"T_7d199_row0_col7\" class=\"data row0 col7\" >2012-09-26 18:08:45</td>\n",
       "            </tr>\n",
       "    </tbody></table>"
      ],
      "text/plain": [
       "<pandas.io.formats.style.Styler at 0x293695b53a0>"
      ]
     },
     "metadata": {},
     "output_type": "display_data"
    }
   ],
   "source": [
    "##YOUR QUERY HERE##\n",
    "LastMember= pd.read_sql('''SELECT *\n",
    "                           FROM cd.members\n",
    "                           WHERE cd.members.joindate <= CURRENT_TIMESTAMP\n",
    "                           ORDER BY cd.members.joindate DESC\n",
    "                           LIMIT 1''', con)\n",
    "display(LastMember.style.hide_index())"
   ]
  },
  {
   "cell_type": "markdown",
   "metadata": {},
   "source": [
    " #### Retrieve the start times of members' bookings\n",
    " * Get a list of the start times for bookings by members named 'David Farrell'? "
   ]
  },
  {
   "cell_type": "code",
   "execution_count": 127,
   "metadata": {},
   "outputs": [
    {
     "data": {
      "text/html": [
       "<style  type=\"text/css\" >\n",
       "</style><table id=\"T_9f69b_\" ><thead>    <tr>        <th class=\"col_heading level0 col0\" >starttime</th>    </tr></thead><tbody>\n",
       "                <tr>\n",
       "                                <td id=\"T_9f69b_row0_col0\" class=\"data row0 col0\" >2012-09-18 09:00:00</td>\n",
       "            </tr>\n",
       "            <tr>\n",
       "                                <td id=\"T_9f69b_row1_col0\" class=\"data row1 col0\" >2012-09-18 13:30:00</td>\n",
       "            </tr>\n",
       "            <tr>\n",
       "                                <td id=\"T_9f69b_row2_col0\" class=\"data row2 col0\" >2012-09-18 17:30:00</td>\n",
       "            </tr>\n",
       "            <tr>\n",
       "                                <td id=\"T_9f69b_row3_col0\" class=\"data row3 col0\" >2012-09-18 20:00:00</td>\n",
       "            </tr>\n",
       "            <tr>\n",
       "                                <td id=\"T_9f69b_row4_col0\" class=\"data row4 col0\" >2012-09-19 09:30:00</td>\n",
       "            </tr>\n",
       "            <tr>\n",
       "                                <td id=\"T_9f69b_row5_col0\" class=\"data row5 col0\" >2012-09-19 12:00:00</td>\n",
       "            </tr>\n",
       "            <tr>\n",
       "                                <td id=\"T_9f69b_row6_col0\" class=\"data row6 col0\" >2012-09-19 15:00:00</td>\n",
       "            </tr>\n",
       "            <tr>\n",
       "                                <td id=\"T_9f69b_row7_col0\" class=\"data row7 col0\" >2012-09-20 11:30:00</td>\n",
       "            </tr>\n",
       "            <tr>\n",
       "                                <td id=\"T_9f69b_row8_col0\" class=\"data row8 col0\" >2012-09-20 14:00:00</td>\n",
       "            </tr>\n",
       "            <tr>\n",
       "                                <td id=\"T_9f69b_row9_col0\" class=\"data row9 col0\" >2012-09-20 15:30:00</td>\n",
       "            </tr>\n",
       "            <tr>\n",
       "                                <td id=\"T_9f69b_row10_col0\" class=\"data row10 col0\" >2012-09-21 10:30:00</td>\n",
       "            </tr>\n",
       "            <tr>\n",
       "                                <td id=\"T_9f69b_row11_col0\" class=\"data row11 col0\" >2012-09-21 14:00:00</td>\n",
       "            </tr>\n",
       "            <tr>\n",
       "                                <td id=\"T_9f69b_row12_col0\" class=\"data row12 col0\" >2012-09-22 08:30:00</td>\n",
       "            </tr>\n",
       "            <tr>\n",
       "                                <td id=\"T_9f69b_row13_col0\" class=\"data row13 col0\" >2012-09-22 17:00:00</td>\n",
       "            </tr>\n",
       "            <tr>\n",
       "                                <td id=\"T_9f69b_row14_col0\" class=\"data row14 col0\" >2012-09-23 08:30:00</td>\n",
       "            </tr>\n",
       "            <tr>\n",
       "                                <td id=\"T_9f69b_row15_col0\" class=\"data row15 col0\" >2012-09-23 17:30:00</td>\n",
       "            </tr>\n",
       "            <tr>\n",
       "                                <td id=\"T_9f69b_row16_col0\" class=\"data row16 col0\" >2012-09-23 19:00:00</td>\n",
       "            </tr>\n",
       "            <tr>\n",
       "                                <td id=\"T_9f69b_row17_col0\" class=\"data row17 col0\" >2012-09-24 08:00:00</td>\n",
       "            </tr>\n",
       "            <tr>\n",
       "                                <td id=\"T_9f69b_row18_col0\" class=\"data row18 col0\" >2012-09-24 12:30:00</td>\n",
       "            </tr>\n",
       "            <tr>\n",
       "                                <td id=\"T_9f69b_row19_col0\" class=\"data row19 col0\" >2012-09-24 16:30:00</td>\n",
       "            </tr>\n",
       "            <tr>\n",
       "                                <td id=\"T_9f69b_row20_col0\" class=\"data row20 col0\" >2012-09-25 15:30:00</td>\n",
       "            </tr>\n",
       "            <tr>\n",
       "                                <td id=\"T_9f69b_row21_col0\" class=\"data row21 col0\" >2012-09-25 17:00:00</td>\n",
       "            </tr>\n",
       "            <tr>\n",
       "                                <td id=\"T_9f69b_row22_col0\" class=\"data row22 col0\" >2012-09-26 13:00:00</td>\n",
       "            </tr>\n",
       "            <tr>\n",
       "                                <td id=\"T_9f69b_row23_col0\" class=\"data row23 col0\" >2012-09-26 17:00:00</td>\n",
       "            </tr>\n",
       "            <tr>\n",
       "                                <td id=\"T_9f69b_row24_col0\" class=\"data row24 col0\" >2012-09-27 08:00:00</td>\n",
       "            </tr>\n",
       "            <tr>\n",
       "                                <td id=\"T_9f69b_row25_col0\" class=\"data row25 col0\" >2012-09-28 09:30:00</td>\n",
       "            </tr>\n",
       "            <tr>\n",
       "                                <td id=\"T_9f69b_row26_col0\" class=\"data row26 col0\" >2012-09-28 11:30:00</td>\n",
       "            </tr>\n",
       "            <tr>\n",
       "                                <td id=\"T_9f69b_row27_col0\" class=\"data row27 col0\" >2012-09-28 13:00:00</td>\n",
       "            </tr>\n",
       "            <tr>\n",
       "                                <td id=\"T_9f69b_row28_col0\" class=\"data row28 col0\" >2012-09-29 10:30:00</td>\n",
       "            </tr>\n",
       "            <tr>\n",
       "                                <td id=\"T_9f69b_row29_col0\" class=\"data row29 col0\" >2012-09-29 13:30:00</td>\n",
       "            </tr>\n",
       "            <tr>\n",
       "                                <td id=\"T_9f69b_row30_col0\" class=\"data row30 col0\" >2012-09-29 14:30:00</td>\n",
       "            </tr>\n",
       "            <tr>\n",
       "                                <td id=\"T_9f69b_row31_col0\" class=\"data row31 col0\" >2012-09-29 16:00:00</td>\n",
       "            </tr>\n",
       "            <tr>\n",
       "                                <td id=\"T_9f69b_row32_col0\" class=\"data row32 col0\" >2012-09-29 17:30:00</td>\n",
       "            </tr>\n",
       "            <tr>\n",
       "                                <td id=\"T_9f69b_row33_col0\" class=\"data row33 col0\" >2012-09-30 14:30:00</td>\n",
       "            </tr>\n",
       "    </tbody></table>"
      ],
      "text/plain": [
       "<pandas.io.formats.style.Styler at 0x293695a78e0>"
      ]
     },
     "metadata": {},
     "output_type": "display_data"
    }
   ],
   "source": [
    "##YOUR QUERY HERE##\n",
    "StartTime= pd.read_sql('''SELECT starttime\n",
    "                           FROM cd.members\n",
    "                           JOIN cd.bookings on cd.members.memid = cd.bookings.memid\n",
    "                           WHERE cd.members.firstname like 'David' and cd.members.surname like 'Farrell' ''', con)\n",
    "display(StartTime.style.hide_index())"
   ]
  },
  {
   "cell_type": "markdown",
   "metadata": {},
   "source": [
    "#### The club is adding a new facility - a spa. We need to add it into the facilities table. Use the following values:\n",
    "\n",
    "    facid: 9, Name: 'Spa', membercost: 20, guestcost: 30, initialoutlay: 100000, monthlymaintenance: 800."
   ]
  },
  {
   "cell_type": "code",
   "execution_count": 131,
   "metadata": {},
   "outputs": [],
   "source": [
    "##YOUR QUERY HERE##\n",
    "postgres_insert_query = \"\"\" INSERT INTO cd.facilities (facid,name,membercost,guestcost,initialoutlay,monthlymaintenance) VALUES (%s,%s,%s,%s,%s,%s)\"\"\"\n",
    "record_to_insert = (9,'Spa',20,30,100000,800)\n",
    "\n",
    "try:\n",
    "    cursor.execute(postgres_insert_query, record_to_insert)\n",
    "    con.commit()\n",
    "except (Exception, psycopg2.Error) as error :\n",
    "    con.rollback()\n",
    "    print(\"ERROR\",error)"
   ]
  },
  {
   "cell_type": "markdown",
   "metadata": {},
   "source": [
    "#### We made a mistake when entering the data for the \"Spa\" facility. \n",
    "    - The \"initial outlay\" should be 20000 rather than 100000: \n",
    "    - you need to alter the data to fix the error.\n",
    "    \n"
   ]
  },
  {
   "cell_type": "code",
   "execution_count": 132,
   "metadata": {},
   "outputs": [
    {
     "name": "stdout",
     "output_type": "stream",
     "text": [
      "Table (cd.facilities) changed Spa facility in PostgreSQL \n"
     ]
    }
   ],
   "source": [
    "##YOUR QUERY HERE##\n",
    "try:\n",
    "    facility=\"cd.facilities\"\n",
    "    add_col_MovieTable_query = '''UPDATE '''+ facility+''' \n",
    "                                  SET initialoutlay = 20000\n",
    "                                  WHERE Name = 'Spa'; '''\n",
    "\n",
    "    #Execute this command (SQL Query)\n",
    "    cursor.execute(add_col_MovieTable_query)\n",
    "    \n",
    "    # Make the changes to the database persistent\n",
    "    con.commit()\n",
    "    print(\"Table (\"+ facility +\") changed Spa facility in PostgreSQL \")\n",
    "except (Exception, psycopg2.Error) as error:\n",
    "    # if it exits with an exception the transaction is rolled back.\n",
    "    con.rollback()\n",
    "    print(\"Error While changing Spa facility the DB: \",error)"
   ]
  },
  {
   "cell_type": "markdown",
   "metadata": {},
   "source": [
    "#### List the total slots booked per facility "
   ]
  },
  {
   "cell_type": "code",
   "execution_count": 133,
   "metadata": {},
   "outputs": [
    {
     "data": {
      "text/html": [
       "<style  type=\"text/css\" >\n",
       "</style><table id=\"T_20646_\" ><thead>    <tr>        <th class=\"col_heading level0 col0\" >facid</th>        <th class=\"col_heading level0 col1\" >name</th>        <th class=\"col_heading level0 col2\" >sum</th>    </tr></thead><tbody>\n",
       "                <tr>\n",
       "                                <td id=\"T_20646_row0_col0\" class=\"data row0 col0\" >8</td>\n",
       "                        <td id=\"T_20646_row0_col1\" class=\"data row0 col1\" >Pool Table</td>\n",
       "                        <td id=\"T_20646_row0_col2\" class=\"data row0 col2\" >911</td>\n",
       "            </tr>\n",
       "            <tr>\n",
       "                                <td id=\"T_20646_row1_col0\" class=\"data row1 col0\" >7</td>\n",
       "                        <td id=\"T_20646_row1_col1\" class=\"data row1 col1\" >Snooker Table</td>\n",
       "                        <td id=\"T_20646_row1_col2\" class=\"data row1 col2\" >908</td>\n",
       "            </tr>\n",
       "            <tr>\n",
       "                                <td id=\"T_20646_row2_col0\" class=\"data row2 col0\" >1</td>\n",
       "                        <td id=\"T_20646_row2_col1\" class=\"data row2 col1\" >Tennis Court 2</td>\n",
       "                        <td id=\"T_20646_row2_col2\" class=\"data row2 col2\" >1278</td>\n",
       "            </tr>\n",
       "            <tr>\n",
       "                                <td id=\"T_20646_row3_col0\" class=\"data row3 col0\" >5</td>\n",
       "                        <td id=\"T_20646_row3_col1\" class=\"data row3 col1\" >Massage Room 2</td>\n",
       "                        <td id=\"T_20646_row3_col2\" class=\"data row3 col2\" >228</td>\n",
       "            </tr>\n",
       "            <tr>\n",
       "                                <td id=\"T_20646_row4_col0\" class=\"data row4 col0\" >2</td>\n",
       "                        <td id=\"T_20646_row4_col1\" class=\"data row4 col1\" >Badminton Court</td>\n",
       "                        <td id=\"T_20646_row4_col2\" class=\"data row4 col2\" >1209</td>\n",
       "            </tr>\n",
       "            <tr>\n",
       "                                <td id=\"T_20646_row5_col0\" class=\"data row5 col0\" >4</td>\n",
       "                        <td id=\"T_20646_row5_col1\" class=\"data row5 col1\" >Massage Room 1</td>\n",
       "                        <td id=\"T_20646_row5_col2\" class=\"data row5 col2\" >1404</td>\n",
       "            </tr>\n",
       "            <tr>\n",
       "                                <td id=\"T_20646_row6_col0\" class=\"data row6 col0\" >0</td>\n",
       "                        <td id=\"T_20646_row6_col1\" class=\"data row6 col1\" >Tennis Court 1</td>\n",
       "                        <td id=\"T_20646_row6_col2\" class=\"data row6 col2\" >1320</td>\n",
       "            </tr>\n",
       "            <tr>\n",
       "                                <td id=\"T_20646_row7_col0\" class=\"data row7 col0\" >6</td>\n",
       "                        <td id=\"T_20646_row7_col1\" class=\"data row7 col1\" >Squash Court</td>\n",
       "                        <td id=\"T_20646_row7_col2\" class=\"data row7 col2\" >1104</td>\n",
       "            </tr>\n",
       "            <tr>\n",
       "                                <td id=\"T_20646_row8_col0\" class=\"data row8 col0\" >3</td>\n",
       "                        <td id=\"T_20646_row8_col1\" class=\"data row8 col1\" >Table Tennis</td>\n",
       "                        <td id=\"T_20646_row8_col2\" class=\"data row8 col2\" >830</td>\n",
       "            </tr>\n",
       "    </tbody></table>"
      ],
      "text/plain": [
       "<pandas.io.formats.style.Styler at 0x2936a19d190>"
      ]
     },
     "metadata": {},
     "output_type": "display_data"
    }
   ],
   "source": [
    "##YOUR QUERY HERE##\n",
    "TotalSlots= pd.read_sql('''SELECT cd.facilities.facid, cd.facilities.name, sum(cd.bookings.slots)\n",
    "                           FROM cd.bookings\n",
    "                           JOIN cd.facilities on cd.bookings.facid = cd.facilities.facid\n",
    "                           GROUP BY cd.facilities.facid, cd.facilities.name''', con)\n",
    "display(TotalSlots.style.hide_index())"
   ]
  },
  {
   "cell_type": "markdown",
   "metadata": {},
   "source": [
    "####  Delete all bookings \n",
    "*  As part of a clearout of our database, we want to delete all bookings from the cd.bookings table. How can we accomplish this? "
   ]
  },
  {
   "cell_type": "code",
   "execution_count": 134,
   "metadata": {},
   "outputs": [
    {
     "name": "stdout",
     "output_type": "stream",
     "text": [
      "Clearout of our database\n"
     ]
    }
   ],
   "source": [
    "##YOUR QUERY HERE##\n",
    "try:\n",
    "    tmp = 'DROP TABLE cd.bookings'\n",
    "    cursor.execute(tmp)\n",
    "    print('Clearout of our database')\n",
    "except (Exception, psycopg2.Error) as error:\n",
    "    con.rollback()\n",
    "    print(\"Error While Creating the DB: \",error)"
   ]
  },
  {
   "cell_type": "markdown",
   "metadata": {},
   "source": [
    " ## How long did it take you to solve the homework?\n",
    " \n",
    "Please answer as precisely as you can. It does not affect your points or grade in any way. It is okey, if it took 0.5 hours or 24 hours. The collected information will be used to improve future homeworks."
   ]
  },
  {
   "attachments": {},
   "cell_type": "markdown",
   "metadata": {},
   "source": [
    "<font color=\"red\"><b>Answer:</b></font> Around 16 hours"
   ]
  },
  {
   "cell_type": "markdown",
   "metadata": {},
   "source": [
    "**<center> <font color='red'>THANK YOU FOR YOUR EFFORT!</font></center>**"
   ]
  }
 ],
 "metadata": {
  "kernelspec": {
   "display_name": "Python 3",
   "language": "python",
   "name": "python3"
  },
  "language_info": {
   "codemirror_mode": {
    "name": "ipython",
    "version": 3
   },
   "file_extension": ".py",
   "mimetype": "text/x-python",
   "name": "python",
   "nbconvert_exporter": "python",
   "pygments_lexer": "ipython3",
   "version": "3.8.8"
  },
  "vscode": {
   "interpreter": {
    "hash": "916dbcbb3f70747c44a77c7bcd40155683ae19c65e1c03b4aa3499c5328201f1"
   }
  }
 },
 "nbformat": 4,
 "nbformat_minor": 2
}
